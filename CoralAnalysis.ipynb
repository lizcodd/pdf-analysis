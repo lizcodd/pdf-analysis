{
 "cells": [
  {
   "cell_type": "markdown",
   "metadata": {},
   "source": [
    "# Coral Analysis"
   ]
  },
  {
   "cell_type": "code",
   "execution_count": 2,
   "metadata": {},
   "outputs": [],
   "source": [
    "import turicreate"
   ]
  },
  {
   "cell_type": "code",
   "execution_count": 3,
   "metadata": {},
   "outputs": [],
   "source": [
    "import re"
   ]
  },
  {
   "cell_type": "code",
   "execution_count": 4,
   "metadata": {},
   "outputs": [
    {
     "data": {
      "text/html": [
       "<pre>Finished parsing file /home/liz/coral/scholarSummary.csv</pre>"
      ],
      "text/plain": [
       "Finished parsing file /home/liz/coral/scholarSummary.csv"
      ]
     },
     "metadata": {},
     "output_type": "display_data"
    },
    {
     "data": {
      "text/html": [
       "<pre>Parsing completed. Parsed 85 lines in 0.017038 secs.</pre>"
      ],
      "text/plain": [
       "Parsing completed. Parsed 85 lines in 0.017038 secs."
      ]
     },
     "metadata": {},
     "output_type": "display_data"
    },
    {
     "name": "stdout",
     "output_type": "stream",
     "text": [
      "------------------------------------------------------\n",
      "Inferred types from first 100 line(s) of file as \n",
      "column_type_hints=[str,str,str,str,str,str,str]\n",
      "If parsing fails due to incorrect types, you can correct\n",
      "the inferred type list above and pass it to read_csv in\n",
      "the column_type_hints argument\n",
      "------------------------------------------------------\n"
     ]
    },
    {
     "data": {
      "text/html": [
       "<pre>Finished parsing file /home/liz/coral/scholarSummary.csv</pre>"
      ],
      "text/plain": [
       "Finished parsing file /home/liz/coral/scholarSummary.csv"
      ]
     },
     "metadata": {},
     "output_type": "display_data"
    },
    {
     "data": {
      "text/html": [
       "<pre>Parsing completed. Parsed 85 lines in 0.015238 secs.</pre>"
      ],
      "text/plain": [
       "Parsing completed. Parsed 85 lines in 0.015238 secs."
      ]
     },
     "metadata": {},
     "output_type": "display_data"
    }
   ],
   "source": [
    "# summary = turicreate.SFrame('crossrefSummary.csv')\n",
    "summary = turicreate.SFrame('scholarSummary.csv')"
   ]
  },
  {
   "cell_type": "code",
   "execution_count": 58,
   "metadata": {},
   "outputs": [],
   "source": [
    "summary = summary[summary['Abstract'] != None]  # only search documents where abstract was found"
   ]
  },
  {
   "cell_type": "markdown",
   "metadata": {},
   "source": [
    "### Search text for all Acropora species (species list taken from Acropora Wiki)"
   ]
  },
  {
   "cell_type": "code",
   "execution_count": 6,
   "metadata": {},
   "outputs": [],
   "source": [
    "species_list = []\n",
    "with open('acroporaSpecies.txt', 'r') as f:\n",
    "    text = f.read()\n",
    "    species_list = re.findall('(?<=Acropora\\s)[a-z]+', text) # pull out species names only"
   ]
  },
  {
   "cell_type": "code",
   "execution_count": 7,
   "metadata": {},
   "outputs": [],
   "source": [
    "def searchSpecies(text):\n",
    "    return {species: species in text for species in species_list}"
   ]
  },
  {
   "cell_type": "code",
   "execution_count": 10,
   "metadata": {},
   "outputs": [
    {
     "data": {
      "text/html": [
       "<div style=\"max-height:1000px;max-width:1500px;overflow:auto;\"><table frame=\"box\" rules=\"cols\">\n",
       "    <tr>\n",
       "        <th style=\"padding-left: 1em; padding-right: 1em; text-align: center\">ID</th>\n",
       "        <th style=\"padding-left: 1em; padding-right: 1em; text-align: center\">DOI</th>\n",
       "        <th style=\"padding-left: 1em; padding-right: 1em; text-align: center\">Title</th>\n",
       "        <th style=\"padding-left: 1em; padding-right: 1em; text-align: center\">Date</th>\n",
       "    </tr>\n",
       "    <tr>\n",
       "        <td style=\"padding-left: 1em; padding-right: 1em; text-align: center; vertical-align: top\">Science-Repository-<br>Transforming-Growth- ...</td>\n",
       "        <td style=\"padding-left: 1em; padding-right: 1em; text-align: center; vertical-align: top\">10.31487/j.COR.2020.09.11</td>\n",
       "        <td style=\"padding-left: 1em; padding-right: 1em; text-align: center; vertical-align: top\">Transforming Growth<br>Factor Beta 1: Possible ...</td>\n",
       "        <td style=\"padding-left: 1em; padding-right: 1em; text-align: center; vertical-align: top\">30 September, 2020</td>\n",
       "    </tr>\n",
       "    <tr>\n",
       "        <td style=\"padding-left: 1em; padding-right: 1em; text-align: center; vertical-align: top\">2020.241-249</td>\n",
       "        <td style=\"padding-left: 1em; padding-right: 1em; text-align: center; vertical-align: top\">None</td>\n",
       "        <td style=\"padding-left: 1em; padding-right: 1em; text-align: center; vertical-align: top\">Characteristics of<br>Acropora divaricata and ...</td>\n",
       "        <td style=\"padding-left: 1em; padding-right: 1em; text-align: center; vertical-align: top\">07 February 2020</td>\n",
       "    </tr>\n",
       "    <tr>\n",
       "        <td style=\"padding-left: 1em; padding-right: 1em; text-align: center; vertical-align: top\">7-3-7-108</td>\n",
       "        <td style=\"padding-left: 1em; padding-right: 1em; text-align: center; vertical-align: top\">None</td>\n",
       "        <td style=\"padding-left: 1em; padding-right: 1em; text-align: center; vertical-align: top\">Staghorn coral (Genus-<br>Acropora) of Elphinstone ...</td>\n",
       "        <td style=\"padding-left: 1em; padding-right: 1em; text-align: center; vertical-align: top\">None</td>\n",
       "    </tr>\n",
       "    <tr>\n",
       "        <td style=\"padding-left: 1em; padding-right: 1em; text-align: center; vertical-align: top\">Differential-bleaching-<br>patterns-in-corals-of- ...</td>\n",
       "        <td style=\"padding-left: 1em; padding-right: 1em; text-align: center; vertical-align: top\">10.18520/cs/v114/i03/679-<br>685 ...</td>\n",
       "        <td style=\"padding-left: 1em; padding-right: 1em; text-align: center; vertical-align: top\">Differential bleaching<br>patterns in corals of ...</td>\n",
       "        <td style=\"padding-left: 1em; padding-right: 1em; text-align: center; vertical-align: top\">None</td>\n",
       "    </tr>\n",
       "    <tr>\n",
       "        <td style=\"padding-left: 1em; padding-right: 1em; text-align: center; vertical-align: top\">Bioerosion-of-the-<br>scleractinian-finger- ...</td>\n",
       "        <td style=\"padding-left: 1em; padding-right: 1em; text-align: center; vertical-align: top\">None</td>\n",
       "        <td style=\"padding-left: 1em; padding-right: 1em; text-align: center; vertical-align: top\">Bioerosion of the<br>scleractinian finger ...</td>\n",
       "        <td style=\"padding-left: 1em; padding-right: 1em; text-align: center; vertical-align: top\">None</td>\n",
       "    </tr>\n",
       "    <tr>\n",
       "        <td style=\"padding-left: 1em; padding-right: 1em; text-align: center; vertical-align: top\">DESIGN-AND-<br>IMPLEMENTATION-OF- ...</td>\n",
       "        <td style=\"padding-left: 1em; padding-right: 1em; text-align: center; vertical-align: top\">10.1175/1520-0426(2004)02<br>1&lt;0331:NAMFRD&gt;2.0.CO;2 ...</td>\n",
       "        <td style=\"padding-left: 1em; padding-right: 1em; text-align: center; vertical-align: top\">DESIGN AND IMPLEMENTATION<br>OF ELECTRONIC LOGGING ...</td>\n",
       "        <td style=\"padding-left: 1em; padding-right: 1em; text-align: center; vertical-align: top\">None</td>\n",
       "    </tr>\n",
       "    <tr>\n",
       "        <td style=\"padding-left: 1em; padding-right: 1em; text-align: center; vertical-align: top\">193957002</td>\n",
       "        <td style=\"padding-left: 1em; padding-right: 1em; text-align: center; vertical-align: top\">10.21789/22561498.1452</td>\n",
       "        <td style=\"padding-left: 1em; padding-right: 1em; text-align: center; vertical-align: top\">PDF generado a partir de<br>XML-JATS4R ...</td>\n",
       "        <td style=\"padding-left: 1em; padding-right: 1em; text-align: center; vertical-align: top\">None</td>\n",
       "    </tr>\n",
       "    <tr>\n",
       "        <td style=\"padding-left: 1em; padding-right: 1em; text-align: center; vertical-align: top\">2020_Nielsen-etal-<br>Physiological-effects ...</td>\n",
       "        <td style=\"padding-left: 1em; padding-right: 1em; text-align: center; vertical-align: top\">10.1007/s00338-019-01881-<br>x) ...</td>\n",
       "        <td style=\"padding-left: 1em; padding-right: 1em; text-align: center; vertical-align: top\">Physiological effects of<br>heat and cold exposur ...</td>\n",
       "        <td style=\"padding-left: 1em; padding-right: 1em; text-align: center; vertical-align: top\">13 January 2020</td>\n",
       "    </tr>\n",
       "    <tr>\n",
       "        <td style=\"padding-left: 1em; padding-right: 1em; text-align: center; vertical-align: top\">Genotypic-inventory-of-<br>Acropora-palmata-elkh ...</td>\n",
       "        <td style=\"padding-left: 1em; padding-right: 1em; text-align: center; vertical-align: top\">10.1007/s00227-003-1024-9</td>\n",
       "        <td style=\"padding-left: 1em; padding-right: 1em; text-align: center; vertical-align: top\">Genotypic inventory of<br>Acropora palmata (elk ...</td>\n",
       "        <td style=\"padding-left: 1em; padding-right: 1em; text-align: center; vertical-align: top\">January 2020</td>\n",
       "    </tr>\n",
       "    <tr>\n",
       "        <td style=\"padding-left: 1em; padding-right: 1em; text-align: center; vertical-align: top\">Acropora-Scleractinia-in-<br>the-Middle-Eocene-of- ...</td>\n",
       "        <td style=\"padding-left: 1em; padding-right: 1em; text-align: center; vertical-align: top\">None</td>\n",
       "        <td style=\"padding-left: 1em; padding-right: 1em; text-align: center; vertical-align: top\">None</td>\n",
       "        <td style=\"padding-left: 1em; padding-right: 1em; text-align: center; vertical-align: top\">None</td>\n",
       "    </tr>\n",
       "</table>\n",
       "<table frame=\"box\" rules=\"cols\">\n",
       "    <tr>\n",
       "        <th style=\"padding-left: 1em; padding-right: 1em; text-align: center\">Keywords</th>\n",
       "        <th style=\"padding-left: 1em; padding-right: 1em; text-align: center\">Abstract</th>\n",
       "        <th style=\"padding-left: 1em; padding-right: 1em; text-align: center\">Language</th>\n",
       "        <th style=\"padding-left: 1em; padding-right: 1em; text-align: center\">Species present</th>\n",
       "    </tr>\n",
       "    <tr>\n",
       "        <td style=\"padding-left: 1em; padding-right: 1em; text-align: center; vertical-align: top\">Acute lymphoid leukemia</td>\n",
       "        <td style=\"padding-left: 1em; padding-right: 1em; text-align: center; vertical-align: top\">Acute lymphoblastic<br>leukemia (ALL) is a ...</td>\n",
       "        <td style=\"padding-left: 1em; padding-right: 1em; text-align: center; vertical-align: top\">en</td>\n",
       "        <td style=\"padding-left: 1em; padding-right: 1em; text-align: center; vertical-align: top\">{&#x27;abrolhosensis&#x27;: 0,<br>&#x27;abrotanoides&#x27;: 0, ...</td>\n",
       "    </tr>\n",
       "    <tr>\n",
       "        <td style=\"padding-left: 1em; padding-right: 1em; text-align: center; vertical-align: top\">coral transplant,optimum<br>depth,algal ...</td>\n",
       "        <td style=\"padding-left: 1em; padding-right: 1em; text-align: center; vertical-align: top\">Coral reefs are aquatic<br>ecosystems with the ...</td>\n",
       "        <td style=\"padding-left: 1em; padding-right: 1em; text-align: center; vertical-align: top\">en</td>\n",
       "        <td style=\"padding-left: 1em; padding-right: 1em; text-align: center; vertical-align: top\">{&#x27;abrolhosensis&#x27;: 0,<br>&#x27;abrotanoides&#x27;: 0, ...</td>\n",
       "    </tr>\n",
       "    <tr>\n",
       "        <td style=\"padding-left: 1em; padding-right: 1em; text-align: center; vertical-align: top\">Acropora,elphinstone<br>island,myeik archipel ...</td>\n",
       "        <td style=\"padding-left: 1em; padding-right: 1em; text-align: center; vertical-align: top\">This study was carried<br>out from Elphinstone ...</td>\n",
       "        <td style=\"padding-left: 1em; padding-right: 1em; text-align: center; vertical-align: top\">en</td>\n",
       "        <td style=\"padding-left: 1em; padding-right: 1em; text-align: center; vertical-align: top\">{&#x27;abrolhosensis&#x27;: 0,<br>&#x27;abrotanoides&#x27;: 0, ...</td>\n",
       "    </tr>\n",
       "    <tr>\n",
       "        <td style=\"padding-left: 1em; padding-right: 1em; text-align: center; vertical-align: top\">Adaptive coral<br>bleaching,Gulf of ...</td>\n",
       "        <td style=\"padding-left: 1em; padding-right: 1em; text-align: center; vertical-align: top\">The status of reefs in<br>Palk Bay and the Gulf of ...</td>\n",
       "        <td style=\"padding-left: 1em; padding-right: 1em; text-align: center; vertical-align: top\">en</td>\n",
       "        <td style=\"padding-left: 1em; padding-right: 1em; text-align: center; vertical-align: top\">{&#x27;abrolhosensis&#x27;: 0,<br>&#x27;abrotanoides&#x27;: 0, ...</td>\n",
       "    </tr>\n",
       "    <tr>\n",
       "        <td style=\"padding-left: 1em; padding-right: 1em; text-align: center; vertical-align: top\">Phone no Scleractinian<br>Coral,Acropora humili ...</td>\n",
       "        <td style=\"padding-left: 1em; padding-right: 1em; text-align: center; vertical-align: top\">Bioerosion by boring<br>organisms is one of the ...</td>\n",
       "        <td style=\"padding-left: 1em; padding-right: 1em; text-align: center; vertical-align: top\">en</td>\n",
       "        <td style=\"padding-left: 1em; padding-right: 1em; text-align: center; vertical-align: top\">{&#x27;abrolhosensis&#x27;: 0,<br>&#x27;abrotanoides&#x27;: 0, ...</td>\n",
       "    </tr>\n",
       "    <tr>\n",
       "        <td style=\"padding-left: 1em; padding-right: 1em; text-align: center; vertical-align: top\">Instrument,Coral Reef<br>Observation,Water ...</td>\n",
       "        <td style=\"padding-left: 1em; padding-right: 1em; text-align: center; vertical-align: top\">Coral Reefs observations<br>need to be conducted to ...</td>\n",
       "        <td style=\"padding-left: 1em; padding-right: 1em; text-align: center; vertical-align: top\">en</td>\n",
       "        <td style=\"padding-left: 1em; padding-right: 1em; text-align: center; vertical-align: top\">{&#x27;abrolhosensis&#x27;: 0,<br>&#x27;abrotanoides&#x27;: 0, ...</td>\n",
       "    </tr>\n",
       "    <tr>\n",
       "        <td style=\"padding-left: 1em; padding-right: 1em; text-align: center; vertical-align: top\">Coral,growth,survival,hea<br>lth status,San Martín de ...</td>\n",
       "        <td style=\"padding-left: 1em; padding-right: 1em; text-align: center; vertical-align: top\">La degradación acelerada<br>de las formaciones ...</td>\n",
       "        <td style=\"padding-left: 1em; padding-right: 1em; text-align: center; vertical-align: top\">es</td>\n",
       "        <td style=\"padding-left: 1em; padding-right: 1em; text-align: center; vertical-align: top\">{&#x27;abrolhosensis&#x27;: 0,<br>&#x27;abrotanoides&#x27;: 0, ...</td>\n",
       "    </tr>\n",
       "    <tr>\n",
       "        <td style=\"padding-left: 1em; padding-right: 1em; text-align: center; vertical-align: top\">Thermal<br>tolerance,Coral,Energ ...</td>\n",
       "        <td style=\"padding-left: 1em; padding-right: 1em; text-align: center; vertical-align: top\">Reef-forming corals are<br>under threat globally ...</td>\n",
       "        <td style=\"padding-left: 1em; padding-right: 1em; text-align: center; vertical-align: top\">en</td>\n",
       "        <td style=\"padding-left: 1em; padding-right: 1em; text-align: center; vertical-align: top\">{&#x27;abrolhosensis&#x27;: 0,<br>&#x27;abrotanoides&#x27;: 0, ...</td>\n",
       "    </tr>\n",
       "    <tr>\n",
       "        <td style=\"padding-left: 1em; padding-right: 1em; text-align: center; vertical-align: top\">None</td>\n",
       "        <td style=\"padding-left: 1em; padding-right: 1em; text-align: center; vertical-align: top\">The elkhorn coral,<br>Acropora palmata, is the ...</td>\n",
       "        <td style=\"padding-left: 1em; padding-right: 1em; text-align: center; vertical-align: top\">en</td>\n",
       "        <td style=\"padding-left: 1em; padding-right: 1em; text-align: center; vertical-align: top\">{&#x27;abrolhosensis&#x27;: 0,<br>&#x27;abrotanoides&#x27;: 0, ...</td>\n",
       "    </tr>\n",
       "    <tr>\n",
       "        <td style=\"padding-left: 1em; padding-right: 1em; text-align: center; vertical-align: top\">None</td>\n",
       "        <td style=\"padding-left: 1em; padding-right: 1em; text-align: center; vertical-align: top\">Міністерство освіти і<br>науки України ...</td>\n",
       "        <td style=\"padding-left: 1em; padding-right: 1em; text-align: center; vertical-align: top\">uk</td>\n",
       "        <td style=\"padding-left: 1em; padding-right: 1em; text-align: center; vertical-align: top\">{&#x27;abrolhosensis&#x27;: 0,<br>&#x27;abrotanoides&#x27;: 0, ...</td>\n",
       "    </tr>\n",
       "</table>\n",
       "[76 rows x 8 columns]<br/>Note: Only the head of the SFrame is printed.<br/>You can use print_rows(num_rows=m, num_columns=n) to print more rows and columns.\n",
       "</div>"
      ],
      "text/plain": [
       "Columns:\n",
       "\tID\tstr\n",
       "\tDOI\tstr\n",
       "\tTitle\tstr\n",
       "\tDate\tstr\n",
       "\tKeywords\tstr\n",
       "\tAbstract\tstr\n",
       "\tLanguage\tstr\n",
       "\tSpecies present\tdict\n",
       "\n",
       "Rows: 76\n",
       "\n",
       "Data:\n",
       "+-------------------------------+-------------------------------+\n",
       "|               ID              |              DOI              |\n",
       "+-------------------------------+-------------------------------+\n",
       "| Science-Repository-Transfo... |   10.31487/j.COR.2020.09.11   |\n",
       "|          2020.241-249         |              None             |\n",
       "|           7-3-7-108           |              None             |\n",
       "| Differential-bleaching-pat... |  10.18520/cs/v114/i03/679-685 |\n",
       "| Bioerosion-of-the-scleract... |              None             |\n",
       "| DESIGN-AND-IMPLEMENTATION-... | 10.1175/1520-0426(2004)021... |\n",
       "|           193957002           |     10.21789/22561498.1452    |\n",
       "| 2020_Nielsen-etal-Physiolo... |  10.1007/s00338-019-01881-x)  |\n",
       "| Genotypic-inventory-of-Acr... |   10.1007/s00227-003-1024-9   |\n",
       "| Acropora-Scleractinia-in-t... |              None             |\n",
       "+-------------------------------+-------------------------------+\n",
       "+-------------------------------+--------------------+\n",
       "|             Title             |        Date        |\n",
       "+-------------------------------+--------------------+\n",
       "| Transforming Growth Factor... | 30 September, 2020 |\n",
       "| Characteristics of Acropor... |  07 February 2020  |\n",
       "| Staghorn coral (Genus-Acro... |        None        |\n",
       "| Differential bleaching pat... |        None        |\n",
       "| Bioerosion of the scleract... |        None        |\n",
       "| DESIGN AND IMPLEMENTATION ... |        None        |\n",
       "| PDF generado a partir de X... |        None        |\n",
       "| Physiological effects of h... |  13 January 2020   |\n",
       "| Genotypic inventory of Acr... |    January 2020    |\n",
       "|              None             |        None        |\n",
       "+-------------------------------+--------------------+\n",
       "+-------------------------------+-------------------------------+----------+\n",
       "|            Keywords           |            Abstract           | Language |\n",
       "+-------------------------------+-------------------------------+----------+\n",
       "|    Acute lymphoid leukemia    | Acute lymphoblastic leukem... |    en    |\n",
       "| coral transplant,optimum d... | Coral reefs are aquatic ec... |    en    |\n",
       "| Acropora,elphinstone islan... | This study was carried out... |    en    |\n",
       "| Adaptive coral bleaching,G... | The status of reefs in Pal... |    en    |\n",
       "| Phone no Scleractinian Cor... | Bioerosion by boring organ... |    en    |\n",
       "| Instrument,Coral Reef Obse... | Coral Reefs observations n... |    en    |\n",
       "| Coral,growth,survival,heal... | La degradación acelerada d... |    es    |\n",
       "| Thermal tolerance,Coral,En... | Reef-forming corals are un... |    en    |\n",
       "|              None             | The elkhorn coral, Acropor... |    en    |\n",
       "|              None             | Міністерство освіти і наук... |    uk    |\n",
       "+-------------------------------+-------------------------------+----------+\n",
       "+-------------------------------+\n",
       "|        Species present        |\n",
       "+-------------------------------+\n",
       "| {'abrolhosensis': 0, 'abro... |\n",
       "| {'abrolhosensis': 0, 'abro... |\n",
       "| {'abrolhosensis': 0, 'abro... |\n",
       "| {'abrolhosensis': 0, 'abro... |\n",
       "| {'abrolhosensis': 0, 'abro... |\n",
       "| {'abrolhosensis': 0, 'abro... |\n",
       "| {'abrolhosensis': 0, 'abro... |\n",
       "| {'abrolhosensis': 0, 'abro... |\n",
       "| {'abrolhosensis': 0, 'abro... |\n",
       "| {'abrolhosensis': 0, 'abro... |\n",
       "+-------------------------------+\n",
       "[76 rows x 8 columns]\n",
       "Note: Only the head of the SFrame is printed.\n",
       "You can use print_rows(num_rows=m, num_columns=n) to print more rows and columns."
      ]
     },
     "execution_count": 10,
     "metadata": {},
     "output_type": "execute_result"
    }
   ],
   "source": [
    "summary['Species present'] = summary['Abstract'].apply(searchSpecies)\n",
    "summary"
   ]
  },
  {
   "cell_type": "code",
   "execution_count": 11,
   "metadata": {},
   "outputs": [],
   "source": [
    "species_info = turicreate.SFrame({'Species': species_list})\n",
    "\n",
    "# Count the number of papers referencing a given species based on the counts in summary['Species_Counts']\n",
    "def totalPapersWithSpecies(species):\n",
    "    return sum([dict[species] for dict in summary['Species present']])\n",
    "  \n",
    "species_info['Total papers'] = species_info['Species'].apply(totalPapersWithSpecies)"
   ]
  },
  {
   "cell_type": "markdown",
   "metadata": {},
   "source": [
    "### Most Commonly Studied Species"
   ]
  },
  {
   "cell_type": "code",
   "execution_count": 12,
   "metadata": {},
   "outputs": [],
   "source": [
    "species_info = species_info.sort('Total papers', ascending=False)"
   ]
  },
  {
   "cell_type": "code",
   "execution_count": 13,
   "metadata": {},
   "outputs": [
    {
     "data": {
      "text/html": [
       "<div style=\"max-height:1000px;max-width:1500px;overflow:auto;\"><table frame=\"box\" rules=\"cols\">\n",
       "    <tr>\n",
       "        <th style=\"padding-left: 1em; padding-right: 1em; text-align: center\">Species</th>\n",
       "        <th style=\"padding-left: 1em; padding-right: 1em; text-align: center\">Total papers</th>\n",
       "    </tr>\n",
       "    <tr>\n",
       "        <td style=\"padding-left: 1em; padding-right: 1em; text-align: center; vertical-align: top\">cervicornis</td>\n",
       "        <td style=\"padding-left: 1em; padding-right: 1em; text-align: center; vertical-align: top\">6</td>\n",
       "    </tr>\n",
       "    <tr>\n",
       "        <td style=\"padding-left: 1em; padding-right: 1em; text-align: center; vertical-align: top\">palmata</td>\n",
       "        <td style=\"padding-left: 1em; padding-right: 1em; text-align: center; vertical-align: top\">6</td>\n",
       "    </tr>\n",
       "    <tr>\n",
       "        <td style=\"padding-left: 1em; padding-right: 1em; text-align: center; vertical-align: top\">hyacinthus</td>\n",
       "        <td style=\"padding-left: 1em; padding-right: 1em; text-align: center; vertical-align: top\">6</td>\n",
       "    </tr>\n",
       "    <tr>\n",
       "        <td style=\"padding-left: 1em; padding-right: 1em; text-align: center; vertical-align: top\">humilis</td>\n",
       "        <td style=\"padding-left: 1em; padding-right: 1em; text-align: center; vertical-align: top\">5</td>\n",
       "    </tr>\n",
       "    <tr>\n",
       "        <td style=\"padding-left: 1em; padding-right: 1em; text-align: center; vertical-align: top\">millepora</td>\n",
       "        <td style=\"padding-left: 1em; padding-right: 1em; text-align: center; vertical-align: top\">4</td>\n",
       "    </tr>\n",
       "    <tr>\n",
       "        <td style=\"padding-left: 1em; padding-right: 1em; text-align: center; vertical-align: top\">branchi</td>\n",
       "        <td style=\"padding-left: 1em; padding-right: 1em; text-align: center; vertical-align: top\">4</td>\n",
       "    </tr>\n",
       "    <tr>\n",
       "        <td style=\"padding-left: 1em; padding-right: 1em; text-align: center; vertical-align: top\">muricata</td>\n",
       "        <td style=\"padding-left: 1em; padding-right: 1em; text-align: center; vertical-align: top\">4</td>\n",
       "    </tr>\n",
       "    <tr>\n",
       "        <td style=\"padding-left: 1em; padding-right: 1em; text-align: center; vertical-align: top\">aspera</td>\n",
       "        <td style=\"padding-left: 1em; padding-right: 1em; text-align: center; vertical-align: top\">3</td>\n",
       "    </tr>\n",
       "    <tr>\n",
       "        <td style=\"padding-left: 1em; padding-right: 1em; text-align: center; vertical-align: top\">digitifera</td>\n",
       "        <td style=\"padding-left: 1em; padding-right: 1em; text-align: center; vertical-align: top\">3</td>\n",
       "    </tr>\n",
       "    <tr>\n",
       "        <td style=\"padding-left: 1em; padding-right: 1em; text-align: center; vertical-align: top\">intermedia</td>\n",
       "        <td style=\"padding-left: 1em; padding-right: 1em; text-align: center; vertical-align: top\">2</td>\n",
       "    </tr>\n",
       "</table>\n",
       "[156 rows x 2 columns]<br/>Note: Only the head of the SFrame is printed.<br/>You can use print_rows(num_rows=m, num_columns=n) to print more rows and columns.\n",
       "</div>"
      ],
      "text/plain": [
       "Columns:\n",
       "\tSpecies\tstr\n",
       "\tTotal papers\tint\n",
       "\n",
       "Rows: 156\n",
       "\n",
       "Data:\n",
       "+-------------+--------------+\n",
       "|   Species   | Total papers |\n",
       "+-------------+--------------+\n",
       "| cervicornis |      6       |\n",
       "|   palmata   |      6       |\n",
       "|  hyacinthus |      6       |\n",
       "|   humilis   |      5       |\n",
       "|  millepora  |      4       |\n",
       "|   branchi   |      4       |\n",
       "|   muricata  |      4       |\n",
       "|    aspera   |      3       |\n",
       "|  digitifera |      3       |\n",
       "|  intermedia |      2       |\n",
       "+-------------+--------------+\n",
       "[156 rows x 2 columns]\n",
       "Note: Only the head of the SFrame is printed.\n",
       "You can use print_rows(num_rows=m, num_columns=n) to print more rows and columns."
      ]
     },
     "execution_count": 13,
     "metadata": {},
     "output_type": "execute_result"
    }
   ],
   "source": [
    "species_info"
   ]
  },
  {
   "cell_type": "code",
   "execution_count": 14,
   "metadata": {},
   "outputs": [
    {
     "data": {
      "text/plain": [
       "26"
      ]
     },
     "execution_count": 14,
     "metadata": {},
     "output_type": "execute_result"
    }
   ],
   "source": [
    "sum(species_info['Total papers'] > 0)  # count how many species appear at all in any paper"
   ]
  },
  {
   "cell_type": "markdown",
   "metadata": {},
   "source": [
    "### Search text for all proteins on Uniprot for Acropora"
   ]
  },
  {
   "cell_type": "code",
   "execution_count": 15,
   "metadata": {},
   "outputs": [],
   "source": [
    "def simplifyProteinName(protein_name):\n",
    "    protein_name = re.sub(' \\(.*\\)', '', protein_name)  # remove anything in parentheses, unlikely to match\n",
    "    protein_name = re.sub('  ', ' ', protein_name)  # get rid of double spaces\n",
    "    return protein_name"
   ]
  },
  {
   "cell_type": "code",
   "execution_count": 24,
   "metadata": {},
   "outputs": [
    {
     "data": {
      "text/html": [
       "<pre>Finished parsing file /home/liz/coral/uniprot-acropora.tab</pre>"
      ],
      "text/plain": [
       "Finished parsing file /home/liz/coral/uniprot-acropora.tab"
      ]
     },
     "metadata": {},
     "output_type": "display_data"
    },
    {
     "data": {
      "text/html": [
       "<pre>Parsing completed. Parsed 100 lines in 0.016211 secs.</pre>"
      ],
      "text/plain": [
       "Parsing completed. Parsed 100 lines in 0.016211 secs."
      ]
     },
     "metadata": {},
     "output_type": "display_data"
    },
    {
     "name": "stdout",
     "output_type": "stream",
     "text": [
      "------------------------------------------------------\n",
      "Inferred types from first 100 line(s) of file as \n",
      "column_type_hints=[str,str,str,str]\n",
      "If parsing fails due to incorrect types, you can correct\n",
      "the inferred type list above and pass it to read_csv in\n",
      "the column_type_hints argument\n",
      "------------------------------------------------------\n"
     ]
    },
    {
     "data": {
      "text/html": [
       "<pre>Finished parsing file /home/liz/coral/uniprot-acropora.tab</pre>"
      ],
      "text/plain": [
       "Finished parsing file /home/liz/coral/uniprot-acropora.tab"
      ]
     },
     "metadata": {},
     "output_type": "display_data"
    },
    {
     "data": {
      "text/html": [
       "<pre>Parsing completed. Parsed 1202 lines in 0.018737 secs.</pre>"
      ],
      "text/plain": [
       "Parsing completed. Parsed 1202 lines in 0.018737 secs."
      ]
     },
     "metadata": {},
     "output_type": "display_data"
    },
    {
     "data": {
      "text/html": [
       "<div style=\"max-height:1000px;max-width:1500px;overflow:auto;\"><table frame=\"box\" rules=\"cols\">\n",
       "    <tr>\n",
       "        <th style=\"padding-left: 1em; padding-right: 1em; text-align: center\">Protein names</th>\n",
       "        <th style=\"padding-left: 1em; padding-right: 1em; text-align: center\">Gene names</th>\n",
       "    </tr>\n",
       "    <tr>\n",
       "        <td style=\"padding-left: 1em; padding-right: 1em; text-align: center; vertical-align: top\">Skeletal aspartic acid-<br>rich protein 1 ...</td>\n",
       "        <td style=\"padding-left: 1em; padding-right: 1em; text-align: center; vertical-align: top\"></td>\n",
       "    </tr>\n",
       "    <tr>\n",
       "        <td style=\"padding-left: 1em; padding-right: 1em; text-align: center; vertical-align: top\">Forkhead box L2 protein</td>\n",
       "        <td style=\"padding-left: 1em; padding-right: 1em; text-align: center; vertical-align: top\">AdiFoxL2</td>\n",
       "    </tr>\n",
       "    <tr>\n",
       "        <td style=\"padding-left: 1em; padding-right: 1em; text-align: center; vertical-align: top\">NADH:ubiquinone reductase</td>\n",
       "        <td style=\"padding-left: 1em; padding-right: 1em; text-align: center; vertical-align: top\">nad2</td>\n",
       "    </tr>\n",
       "    <tr>\n",
       "        <td style=\"padding-left: 1em; padding-right: 1em; text-align: center; vertical-align: top\">Mothers against<br>decapentaplegic homolog ...</td>\n",
       "        <td style=\"padding-left: 1em; padding-right: 1em; text-align: center; vertical-align: top\">3 AdiSmad2</td>\n",
       "    </tr>\n",
       "    <tr>\n",
       "        <td style=\"padding-left: 1em; padding-right: 1em; text-align: center; vertical-align: top\">Nuclear receptor AmNR9</td>\n",
       "        <td style=\"padding-left: 1em; padding-right: 1em; text-align: center; vertical-align: top\"></td>\n",
       "    </tr>\n",
       "    <tr>\n",
       "        <td style=\"padding-left: 1em; padding-right: 1em; text-align: center; vertical-align: top\">Truncated PaxC</td>\n",
       "        <td style=\"padding-left: 1em; padding-right: 1em; text-align: center; vertical-align: top\">PaxC</td>\n",
       "    </tr>\n",
       "    <tr>\n",
       "        <td style=\"padding-left: 1em; padding-right: 1em; text-align: center; vertical-align: top\">Diencephalon/mesencephalo<br>n homeobox D protein ...</td>\n",
       "        <td style=\"padding-left: 1em; padding-right: 1em; text-align: center; vertical-align: top\">AdiDmbxD</td>\n",
       "    </tr>\n",
       "    <tr>\n",
       "        <td style=\"padding-left: 1em; padding-right: 1em; text-align: center; vertical-align: top\">Aristaless-like homeobox<br>protein ...</td>\n",
       "        <td style=\"padding-left: 1em; padding-right: 1em; text-align: center; vertical-align: top\">AdiAlx</td>\n",
       "    </tr>\n",
       "    <tr>\n",
       "        <td style=\"padding-left: 1em; padding-right: 1em; text-align: center; vertical-align: top\">Red fluorescent protein-<br>like Da2_12 ...</td>\n",
       "        <td style=\"padding-left: 1em; padding-right: 1em; text-align: center; vertical-align: top\">RFP-like</td>\n",
       "    </tr>\n",
       "    <tr>\n",
       "        <td style=\"padding-left: 1em; padding-right: 1em; text-align: center; vertical-align: top\">CBAH domain-containing<br>protein ...</td>\n",
       "        <td style=\"padding-left: 1em; padding-right: 1em; text-align: center; vertical-align: top\"></td>\n",
       "    </tr>\n",
       "</table>\n",
       "[373 rows x 2 columns]<br/>Note: Only the head of the SFrame is printed.<br/>You can use print_rows(num_rows=m, num_columns=n) to print more rows and columns.\n",
       "</div>"
      ],
      "text/plain": [
       "Columns:\n",
       "\tProtein names\tstr\n",
       "\tGene names\tstr\n",
       "\n",
       "Rows: 373\n",
       "\n",
       "Data:\n",
       "+--------------------------------+------------+\n",
       "|         Protein names          | Gene names |\n",
       "+--------------------------------+------------+\n",
       "| Skeletal aspartic acid-ric...  |            |\n",
       "|    Forkhead box L2 protein     |  AdiFoxL2  |\n",
       "|   NADH:ubiquinone reductase    |    nad2    |\n",
       "| Mothers against decapentap...  | 3 AdiSmad2 |\n",
       "|     Nuclear receptor AmNR9     |            |\n",
       "|         Truncated PaxC         |    PaxC    |\n",
       "| Diencephalon/mesencephalon...  |  AdiDmbxD  |\n",
       "| Aristaless-like homeobox p...  |   AdiAlx   |\n",
       "| Red fluorescent protein-li...  |  RFP-like  |\n",
       "| CBAH domain-containing protein |            |\n",
       "+--------------------------------+------------+\n",
       "[373 rows x 2 columns]\n",
       "Note: Only the head of the SFrame is printed.\n",
       "You can use print_rows(num_rows=m, num_columns=n) to print more rows and columns."
      ]
     },
     "execution_count": 24,
     "metadata": {},
     "output_type": "execute_result"
    }
   ],
   "source": [
    "uniprot_sf = turicreate.SFrame.read_csv('uniprot-acropora.tab', '\\t')\n",
    "uniprot_sf = uniprot_sf['Protein names', 'Gene names'].unique()  # remove duplicates\n",
    "uniprot_sf['Protein names'] = uniprot_sf['Protein names'].apply(simplifyProteinName)  # make names more searchable\n",
    "uniprot_sf = uniprot_sf['Protein names', 'Gene names'].unique()\n",
    "uniprot_sf = uniprot_sf.swap_columns('Protein names', 'Gene names')\n",
    "uniprot_sf"
   ]
  },
  {
   "cell_type": "code",
   "execution_count": 59,
   "metadata": {},
   "outputs": [],
   "source": [
    "# Might need to think of a way to determine looser match... if can't think of rules,\n",
    "# maybe manually create a list of general gene names that would be considered a match for a gene? \n",
    "\n",
    "def searchGenes(text):\n",
    "    gene_dict = {}\n",
    "    for gene in uniprot_sf:\n",
    "        gene_name = gene['Gene names']\n",
    "        protein_name = gene['Protein names']\n",
    "        if re.search(protein_name, text) or gene_name and re.search(gene_name, text):\n",
    "            gene_dict[protein_name] = True  # found match\n",
    "        else:\n",
    "            gene_dict[protein_name] = False\n",
    "    return gene_dict    "
   ]
  },
  {
   "cell_type": "code",
   "execution_count": 60,
   "metadata": {},
   "outputs": [
    {
     "data": {
      "text/html": [
       "<div style=\"max-height:1000px;max-width:1500px;overflow:auto;\"><table frame=\"box\" rules=\"cols\">\n",
       "    <tr>\n",
       "        <th style=\"padding-left: 1em; padding-right: 1em; text-align: center\">ID</th>\n",
       "        <th style=\"padding-left: 1em; padding-right: 1em; text-align: center\">DOI</th>\n",
       "        <th style=\"padding-left: 1em; padding-right: 1em; text-align: center\">Title</th>\n",
       "        <th style=\"padding-left: 1em; padding-right: 1em; text-align: center\">Date</th>\n",
       "    </tr>\n",
       "    <tr>\n",
       "        <td style=\"padding-left: 1em; padding-right: 1em; text-align: center; vertical-align: top\">Science-Repository-<br>Transforming-Growth- ...</td>\n",
       "        <td style=\"padding-left: 1em; padding-right: 1em; text-align: center; vertical-align: top\">10.31487/j.COR.2020.09.11</td>\n",
       "        <td style=\"padding-left: 1em; padding-right: 1em; text-align: center; vertical-align: top\">Transforming Growth<br>Factor Beta 1: Possible ...</td>\n",
       "        <td style=\"padding-left: 1em; padding-right: 1em; text-align: center; vertical-align: top\">30 September, 2020</td>\n",
       "    </tr>\n",
       "    <tr>\n",
       "        <td style=\"padding-left: 1em; padding-right: 1em; text-align: center; vertical-align: top\">2020.241-249</td>\n",
       "        <td style=\"padding-left: 1em; padding-right: 1em; text-align: center; vertical-align: top\">None</td>\n",
       "        <td style=\"padding-left: 1em; padding-right: 1em; text-align: center; vertical-align: top\">Characteristics of<br>Acropora divaricata and ...</td>\n",
       "        <td style=\"padding-left: 1em; padding-right: 1em; text-align: center; vertical-align: top\">07 February 2020</td>\n",
       "    </tr>\n",
       "    <tr>\n",
       "        <td style=\"padding-left: 1em; padding-right: 1em; text-align: center; vertical-align: top\">7-3-7-108</td>\n",
       "        <td style=\"padding-left: 1em; padding-right: 1em; text-align: center; vertical-align: top\">None</td>\n",
       "        <td style=\"padding-left: 1em; padding-right: 1em; text-align: center; vertical-align: top\">Staghorn coral (Genus-<br>Acropora) of Elphinstone ...</td>\n",
       "        <td style=\"padding-left: 1em; padding-right: 1em; text-align: center; vertical-align: top\">None</td>\n",
       "    </tr>\n",
       "    <tr>\n",
       "        <td style=\"padding-left: 1em; padding-right: 1em; text-align: center; vertical-align: top\">Differential-bleaching-<br>patterns-in-corals-of- ...</td>\n",
       "        <td style=\"padding-left: 1em; padding-right: 1em; text-align: center; vertical-align: top\">10.18520/cs/v114/i03/679-<br>685 ...</td>\n",
       "        <td style=\"padding-left: 1em; padding-right: 1em; text-align: center; vertical-align: top\">Differential bleaching<br>patterns in corals of ...</td>\n",
       "        <td style=\"padding-left: 1em; padding-right: 1em; text-align: center; vertical-align: top\">None</td>\n",
       "    </tr>\n",
       "    <tr>\n",
       "        <td style=\"padding-left: 1em; padding-right: 1em; text-align: center; vertical-align: top\">Bioerosion-of-the-<br>scleractinian-finger- ...</td>\n",
       "        <td style=\"padding-left: 1em; padding-right: 1em; text-align: center; vertical-align: top\">None</td>\n",
       "        <td style=\"padding-left: 1em; padding-right: 1em; text-align: center; vertical-align: top\">Bioerosion of the<br>scleractinian finger ...</td>\n",
       "        <td style=\"padding-left: 1em; padding-right: 1em; text-align: center; vertical-align: top\">None</td>\n",
       "    </tr>\n",
       "    <tr>\n",
       "        <td style=\"padding-left: 1em; padding-right: 1em; text-align: center; vertical-align: top\">DESIGN-AND-<br>IMPLEMENTATION-OF- ...</td>\n",
       "        <td style=\"padding-left: 1em; padding-right: 1em; text-align: center; vertical-align: top\">10.1175/1520-0426(2004)02<br>1&lt;0331:NAMFRD&gt;2.0.CO;2 ...</td>\n",
       "        <td style=\"padding-left: 1em; padding-right: 1em; text-align: center; vertical-align: top\">DESIGN AND IMPLEMENTATION<br>OF ELECTRONIC LOGGING ...</td>\n",
       "        <td style=\"padding-left: 1em; padding-right: 1em; text-align: center; vertical-align: top\">None</td>\n",
       "    </tr>\n",
       "    <tr>\n",
       "        <td style=\"padding-left: 1em; padding-right: 1em; text-align: center; vertical-align: top\">2020_Nielsen-etal-<br>Physiological-effects ...</td>\n",
       "        <td style=\"padding-left: 1em; padding-right: 1em; text-align: center; vertical-align: top\">10.1007/s00338-019-01881-<br>x) ...</td>\n",
       "        <td style=\"padding-left: 1em; padding-right: 1em; text-align: center; vertical-align: top\">Physiological effects of<br>heat and cold exposur ...</td>\n",
       "        <td style=\"padding-left: 1em; padding-right: 1em; text-align: center; vertical-align: top\">13 January 2020</td>\n",
       "    </tr>\n",
       "    <tr>\n",
       "        <td style=\"padding-left: 1em; padding-right: 1em; text-align: center; vertical-align: top\">Genotypic-inventory-of-<br>Acropora-palmata-elkh ...</td>\n",
       "        <td style=\"padding-left: 1em; padding-right: 1em; text-align: center; vertical-align: top\">10.1007/s00227-003-1024-9</td>\n",
       "        <td style=\"padding-left: 1em; padding-right: 1em; text-align: center; vertical-align: top\">Genotypic inventory of<br>Acropora palmata (elk ...</td>\n",
       "        <td style=\"padding-left: 1em; padding-right: 1em; text-align: center; vertical-align: top\">January 2020</td>\n",
       "    </tr>\n",
       "    <tr>\n",
       "        <td style=\"padding-left: 1em; padding-right: 1em; text-align: center; vertical-align: top\">rachel_sandquist_poster</td>\n",
       "        <td style=\"padding-left: 1em; padding-right: 1em; text-align: center; vertical-align: top\">10.1186/1750-2187-8-7</td>\n",
       "        <td style=\"padding-left: 1em; padding-right: 1em; text-align: center; vertical-align: top\">None</td>\n",
       "        <td style=\"padding-left: 1em; padding-right: 1em; text-align: center; vertical-align: top\">None</td>\n",
       "    </tr>\n",
       "    <tr>\n",
       "        <td style=\"padding-left: 1em; padding-right: 1em; text-align: center; vertical-align: top\">245731</td>\n",
       "        <td style=\"padding-left: 1em; padding-right: 1em; text-align: center; vertical-align: top\">None</td>\n",
       "        <td style=\"padding-left: 1em; padding-right: 1em; text-align: center; vertical-align: top\">None</td>\n",
       "        <td style=\"padding-left: 1em; padding-right: 1em; text-align: center; vertical-align: top\">None</td>\n",
       "    </tr>\n",
       "</table>\n",
       "<table frame=\"box\" rules=\"cols\">\n",
       "    <tr>\n",
       "        <th style=\"padding-left: 1em; padding-right: 1em; text-align: center\">Keywords</th>\n",
       "        <th style=\"padding-left: 1em; padding-right: 1em; text-align: center\">Abstract</th>\n",
       "        <th style=\"padding-left: 1em; padding-right: 1em; text-align: center\">Language</th>\n",
       "        <th style=\"padding-left: 1em; padding-right: 1em; text-align: center\">Species present</th>\n",
       "    </tr>\n",
       "    <tr>\n",
       "        <td style=\"padding-left: 1em; padding-right: 1em; text-align: center; vertical-align: top\">Acute lymphoid leukemia</td>\n",
       "        <td style=\"padding-left: 1em; padding-right: 1em; text-align: center; vertical-align: top\">Acute lymphoblastic<br>leukemia (ALL) is a ...</td>\n",
       "        <td style=\"padding-left: 1em; padding-right: 1em; text-align: center; vertical-align: top\">en</td>\n",
       "        <td style=\"padding-left: 1em; padding-right: 1em; text-align: center; vertical-align: top\">{&#x27;abrolhosensis&#x27;: 0,<br>&#x27;abrotanoides&#x27;: 0, ...</td>\n",
       "    </tr>\n",
       "    <tr>\n",
       "        <td style=\"padding-left: 1em; padding-right: 1em; text-align: center; vertical-align: top\">coral transplant,optimum<br>depth,algal ...</td>\n",
       "        <td style=\"padding-left: 1em; padding-right: 1em; text-align: center; vertical-align: top\">Coral reefs are aquatic<br>ecosystems with the ...</td>\n",
       "        <td style=\"padding-left: 1em; padding-right: 1em; text-align: center; vertical-align: top\">en</td>\n",
       "        <td style=\"padding-left: 1em; padding-right: 1em; text-align: center; vertical-align: top\">{&#x27;abrolhosensis&#x27;: 0,<br>&#x27;abrotanoides&#x27;: 0, ...</td>\n",
       "    </tr>\n",
       "    <tr>\n",
       "        <td style=\"padding-left: 1em; padding-right: 1em; text-align: center; vertical-align: top\">Acropora,elphinstone<br>island,myeik archipel ...</td>\n",
       "        <td style=\"padding-left: 1em; padding-right: 1em; text-align: center; vertical-align: top\">This study was carried<br>out from Elphinstone ...</td>\n",
       "        <td style=\"padding-left: 1em; padding-right: 1em; text-align: center; vertical-align: top\">en</td>\n",
       "        <td style=\"padding-left: 1em; padding-right: 1em; text-align: center; vertical-align: top\">{&#x27;abrolhosensis&#x27;: 0,<br>&#x27;abrotanoides&#x27;: 0, ...</td>\n",
       "    </tr>\n",
       "    <tr>\n",
       "        <td style=\"padding-left: 1em; padding-right: 1em; text-align: center; vertical-align: top\">Adaptive coral<br>bleaching,Gulf of ...</td>\n",
       "        <td style=\"padding-left: 1em; padding-right: 1em; text-align: center; vertical-align: top\">The status of reefs in<br>Palk Bay and the Gulf of ...</td>\n",
       "        <td style=\"padding-left: 1em; padding-right: 1em; text-align: center; vertical-align: top\">en</td>\n",
       "        <td style=\"padding-left: 1em; padding-right: 1em; text-align: center; vertical-align: top\">{&#x27;abrolhosensis&#x27;: 0,<br>&#x27;abrotanoides&#x27;: 0, ...</td>\n",
       "    </tr>\n",
       "    <tr>\n",
       "        <td style=\"padding-left: 1em; padding-right: 1em; text-align: center; vertical-align: top\">Phone no Scleractinian<br>Coral,Acropora humili ...</td>\n",
       "        <td style=\"padding-left: 1em; padding-right: 1em; text-align: center; vertical-align: top\">Bioerosion by boring<br>organisms is one of the ...</td>\n",
       "        <td style=\"padding-left: 1em; padding-right: 1em; text-align: center; vertical-align: top\">en</td>\n",
       "        <td style=\"padding-left: 1em; padding-right: 1em; text-align: center; vertical-align: top\">{&#x27;abrolhosensis&#x27;: 0,<br>&#x27;abrotanoides&#x27;: 0, ...</td>\n",
       "    </tr>\n",
       "    <tr>\n",
       "        <td style=\"padding-left: 1em; padding-right: 1em; text-align: center; vertical-align: top\">Instrument,Coral Reef<br>Observation,Water ...</td>\n",
       "        <td style=\"padding-left: 1em; padding-right: 1em; text-align: center; vertical-align: top\">Coral Reefs observations<br>need to be conducted to ...</td>\n",
       "        <td style=\"padding-left: 1em; padding-right: 1em; text-align: center; vertical-align: top\">en</td>\n",
       "        <td style=\"padding-left: 1em; padding-right: 1em; text-align: center; vertical-align: top\">{&#x27;abrolhosensis&#x27;: 0,<br>&#x27;abrotanoides&#x27;: 0, ...</td>\n",
       "    </tr>\n",
       "    <tr>\n",
       "        <td style=\"padding-left: 1em; padding-right: 1em; text-align: center; vertical-align: top\">Thermal<br>tolerance,Coral,Energ ...</td>\n",
       "        <td style=\"padding-left: 1em; padding-right: 1em; text-align: center; vertical-align: top\">Reef-forming corals are<br>under threat globally ...</td>\n",
       "        <td style=\"padding-left: 1em; padding-right: 1em; text-align: center; vertical-align: top\">en</td>\n",
       "        <td style=\"padding-left: 1em; padding-right: 1em; text-align: center; vertical-align: top\">{&#x27;abrolhosensis&#x27;: 0,<br>&#x27;abrotanoides&#x27;: 0, ...</td>\n",
       "    </tr>\n",
       "    <tr>\n",
       "        <td style=\"padding-left: 1em; padding-right: 1em; text-align: center; vertical-align: top\">None</td>\n",
       "        <td style=\"padding-left: 1em; padding-right: 1em; text-align: center; vertical-align: top\">The elkhorn coral,<br>Acropora palmata, is the ...</td>\n",
       "        <td style=\"padding-left: 1em; padding-right: 1em; text-align: center; vertical-align: top\">en</td>\n",
       "        <td style=\"padding-left: 1em; padding-right: 1em; text-align: center; vertical-align: top\">{&#x27;abrolhosensis&#x27;: 0,<br>&#x27;abrotanoides&#x27;: 0, ...</td>\n",
       "    </tr>\n",
       "    <tr>\n",
       "        <td style=\"padding-left: 1em; padding-right: 1em; text-align: center; vertical-align: top\">None</td>\n",
       "        <td style=\"padding-left: 1em; padding-right: 1em; text-align: center; vertical-align: top\">Discussion o Thirty-seven<br>potential TRAF homologs ...</td>\n",
       "        <td style=\"padding-left: 1em; padding-right: 1em; text-align: center; vertical-align: top\">en</td>\n",
       "        <td style=\"padding-left: 1em; padding-right: 1em; text-align: center; vertical-align: top\">{&#x27;abrolhosensis&#x27;: 0,<br>&#x27;abrotanoides&#x27;: 0, ...</td>\n",
       "    </tr>\n",
       "    <tr>\n",
       "        <td style=\"padding-left: 1em; padding-right: 1em; text-align: center; vertical-align: top\">MTQ: G45893 -4, Penghu,<br>Chinwan,G45902, Penghu, ...</td>\n",
       "        <td style=\"padding-left: 1em; padding-right: 1em; text-align: center; vertical-align: top\">Taxonomic Description &amp;<br>Diagnosis Colonies are ...</td>\n",
       "        <td style=\"padding-left: 1em; padding-right: 1em; text-align: center; vertical-align: top\">en</td>\n",
       "        <td style=\"padding-left: 1em; padding-right: 1em; text-align: center; vertical-align: top\">{&#x27;abrolhosensis&#x27;: 0,<br>&#x27;abrotanoides&#x27;: 0, ...</td>\n",
       "    </tr>\n",
       "</table>\n",
       "<table frame=\"box\" rules=\"cols\">\n",
       "    <tr>\n",
       "        <th style=\"padding-left: 1em; padding-right: 1em; text-align: center\">Genes present</th>\n",
       "        <th style=\"padding-left: 1em; padding-right: 1em; text-align: center\">Abstract_Words_Only</th>\n",
       "        <th style=\"padding-left: 1em; padding-right: 1em; text-align: center\">tfidf</th>\n",
       "    </tr>\n",
       "    <tr>\n",
       "        <td style=\"padding-left: 1em; padding-right: 1em; text-align: center; vertical-align: top\">{&#x27;Skeletal aspartic acid-<br>rich protein 1&#x27;: 0, ...</td>\n",
       "        <td style=\"padding-left: 1em; padding-right: 1em; text-align: center; vertical-align: top\">Acute lymphoblastic<br>leukemia ALL is a ...</td>\n",
       "        <td style=\"padding-left: 1em; padding-right: 1em; text-align: center; vertical-align: top\">{&#x27;by&#x27;:<br>0.4128452154057869, ...</td>\n",
       "    </tr>\n",
       "    <tr>\n",
       "        <td style=\"padding-left: 1em; padding-right: 1em; text-align: center; vertical-align: top\">{&#x27;Skeletal aspartic acid-<br>rich protein 1&#x27;: 0, ...</td>\n",
       "        <td style=\"padding-left: 1em; padding-right: 1em; text-align: center; vertical-align: top\">Coral reefs are aquatic<br>ecosystems with the ...</td>\n",
       "        <td style=\"padding-left: 1em; padding-right: 1em; text-align: center; vertical-align: top\">{&#x27;values&#x27;:<br>3.120895416507997, ...</td>\n",
       "    </tr>\n",
       "    <tr>\n",
       "        <td style=\"padding-left: 1em; padding-right: 1em; text-align: center; vertical-align: top\">{&#x27;Skeletal aspartic acid-<br>rich protein 1&#x27;: 0, ...</td>\n",
       "        <td style=\"padding-left: 1em; padding-right: 1em; text-align: center; vertical-align: top\">This study was carried<br>out from Elphinstone ...</td>\n",
       "        <td style=\"padding-left: 1em; padding-right: 1em; text-align: center; vertical-align: top\">{&#x27;nasuta&#x27;:<br>4.219507705176107, &#x27;a&#x27;: ...</td>\n",
       "    </tr>\n",
       "    <tr>\n",
       "        <td style=\"padding-left: 1em; padding-right: 1em; text-align: center; vertical-align: top\">{&#x27;Skeletal aspartic acid-<br>rich protein 1&#x27;: 0, ...</td>\n",
       "        <td style=\"padding-left: 1em; padding-right: 1em; text-align: center; vertical-align: top\">The status of reefs in<br>Palk Bay and the Gulf of ...</td>\n",
       "        <td style=\"padding-left: 1em; padding-right: 1em; text-align: center; vertical-align: top\">{&#x27;waters&#x27;:<br>2.1400661634962708, ...</td>\n",
       "    </tr>\n",
       "    <tr>\n",
       "        <td style=\"padding-left: 1em; padding-right: 1em; text-align: center; vertical-align: top\">{&#x27;Skeletal aspartic acid-<br>rich protein 1&#x27;: 0, ...</td>\n",
       "        <td style=\"padding-left: 1em; padding-right: 1em; text-align: center; vertical-align: top\">Bioerosion by boring<br>organisms is one of the ...</td>\n",
       "        <td style=\"padding-left: 1em; padding-right: 1em; text-align: center; vertical-align: top\">{&#x27;colonization&#x27;:<br>3.5263605246161616, ...</td>\n",
       "    </tr>\n",
       "    <tr>\n",
       "        <td style=\"padding-left: 1em; padding-right: 1em; text-align: center; vertical-align: top\">{&#x27;Skeletal aspartic acid-<br>rich protein 1&#x27;: 0, ...</td>\n",
       "        <td style=\"padding-left: 1em; padding-right: 1em; text-align: center; vertical-align: top\">Coral Reefs observations<br>need to be conducted to ...</td>\n",
       "        <td style=\"padding-left: 1em; padding-right: 1em; text-align: center; vertical-align: top\">{&#x27;describe&#x27;:<br>3.120895416507997, ...</td>\n",
       "    </tr>\n",
       "    <tr>\n",
       "        <td style=\"padding-left: 1em; padding-right: 1em; text-align: center; vertical-align: top\">{&#x27;Skeletal aspartic acid-<br>rich protein 1&#x27;: 0, ...</td>\n",
       "        <td style=\"padding-left: 1em; padding-right: 1em; text-align: center; vertical-align: top\">Reefforming corals are<br>under threat globally ...</td>\n",
       "        <td style=\"padding-left: 1em; padding-right: 1em; text-align: center; vertical-align: top\">{&#x27;resilience&#x27;:<br>3.5263605246161616, ...</td>\n",
       "    </tr>\n",
       "    <tr>\n",
       "        <td style=\"padding-left: 1em; padding-right: 1em; text-align: center; vertical-align: top\">{&#x27;Skeletal aspartic acid-<br>rich protein 1&#x27;: 0, ...</td>\n",
       "        <td style=\"padding-left: 1em; padding-right: 1em; text-align: center; vertical-align: top\">The elkhorn coral<br>Acropora palmata  is the ...</td>\n",
       "        <td style=\"padding-left: 1em; padding-right: 1em; text-align: center; vertical-align: top\">{&#x27;regarding&#x27;:<br>3.5263605246161616, ...</td>\n",
       "    </tr>\n",
       "    <tr>\n",
       "        <td style=\"padding-left: 1em; padding-right: 1em; text-align: center; vertical-align: top\">{&#x27;Skeletal aspartic acid-<br>rich protein 1&#x27;: 0, ...</td>\n",
       "        <td style=\"padding-left: 1em; padding-right: 1em; text-align: center; vertical-align: top\">Discussion o Thirtyseven<br>potential TRAF homologs ...</td>\n",
       "        <td style=\"padding-left: 1em; padding-right: 1em; text-align: center; vertical-align: top\">{&#x27;conservation&#x27;:<br>2.1400661634962708, ...</td>\n",
       "    </tr>\n",
       "    <tr>\n",
       "        <td style=\"padding-left: 1em; padding-right: 1em; text-align: center; vertical-align: top\">{&#x27;Skeletal aspartic acid-<br>rich protein 1&#x27;: 0, ...</td>\n",
       "        <td style=\"padding-left: 1em; padding-right: 1em; text-align: center; vertical-align: top\">Taxonomic Description<br>Diagnosis Colonies are ...</td>\n",
       "        <td style=\"padding-left: 1em; padding-right: 1em; text-align: center; vertical-align: top\">{&#x27;x&#x27;: 2.833213344056216,<br>&#x27;closeup&#x27;: ...</td>\n",
       "    </tr>\n",
       "</table>\n",
       "[68 rows x 11 columns]<br/>Note: Only the head of the SFrame is printed.<br/>You can use print_rows(num_rows=m, num_columns=n) to print more rows and columns.\n",
       "</div>"
      ],
      "text/plain": [
       "Columns:\n",
       "\tID\tstr\n",
       "\tDOI\tstr\n",
       "\tTitle\tstr\n",
       "\tDate\tstr\n",
       "\tKeywords\tstr\n",
       "\tAbstract\tstr\n",
       "\tLanguage\tstr\n",
       "\tSpecies present\tdict\n",
       "\tGenes present\tdict\n",
       "\tAbstract_Words_Only\tstr\n",
       "\ttfidf\tdict\n",
       "\n",
       "Rows: 68\n",
       "\n",
       "Data:\n",
       "+-------------------------------+-------------------------------+\n",
       "|               ID              |              DOI              |\n",
       "+-------------------------------+-------------------------------+\n",
       "| Science-Repository-Transfo... |   10.31487/j.COR.2020.09.11   |\n",
       "|          2020.241-249         |              None             |\n",
       "|           7-3-7-108           |              None             |\n",
       "| Differential-bleaching-pat... |  10.18520/cs/v114/i03/679-685 |\n",
       "| Bioerosion-of-the-scleract... |              None             |\n",
       "| DESIGN-AND-IMPLEMENTATION-... | 10.1175/1520-0426(2004)021... |\n",
       "| 2020_Nielsen-etal-Physiolo... |  10.1007/s00338-019-01881-x)  |\n",
       "| Genotypic-inventory-of-Acr... |   10.1007/s00227-003-1024-9   |\n",
       "|    rachel_sandquist_poster    |     10.1186/1750-2187-8-7     |\n",
       "|             245731            |              None             |\n",
       "+-------------------------------+-------------------------------+\n",
       "+-------------------------------+--------------------+\n",
       "|             Title             |        Date        |\n",
       "+-------------------------------+--------------------+\n",
       "| Transforming Growth Factor... | 30 September, 2020 |\n",
       "| Characteristics of Acropor... |  07 February 2020  |\n",
       "| Staghorn coral (Genus-Acro... |        None        |\n",
       "| Differential bleaching pat... |        None        |\n",
       "| Bioerosion of the scleract... |        None        |\n",
       "| DESIGN AND IMPLEMENTATION ... |        None        |\n",
       "| Physiological effects of h... |  13 January 2020   |\n",
       "| Genotypic inventory of Acr... |    January 2020    |\n",
       "|              None             |        None        |\n",
       "|              None             |        None        |\n",
       "+-------------------------------+--------------------+\n",
       "+-------------------------------+-------------------------------+----------+\n",
       "|            Keywords           |            Abstract           | Language |\n",
       "+-------------------------------+-------------------------------+----------+\n",
       "|    Acute lymphoid leukemia    | Acute lymphoblastic leukem... |    en    |\n",
       "| coral transplant,optimum d... | Coral reefs are aquatic ec... |    en    |\n",
       "| Acropora,elphinstone islan... | This study was carried out... |    en    |\n",
       "| Adaptive coral bleaching,G... | The status of reefs in Pal... |    en    |\n",
       "| Phone no Scleractinian Cor... | Bioerosion by boring organ... |    en    |\n",
       "| Instrument,Coral Reef Obse... | Coral Reefs observations n... |    en    |\n",
       "| Thermal tolerance,Coral,En... | Reef-forming corals are un... |    en    |\n",
       "|              None             | The elkhorn coral, Acropor... |    en    |\n",
       "|              None             | Discussion o Thirty-seven ... |    en    |\n",
       "| MTQ: G45893 -4, Penghu, Ch... | Taxonomic Description & Di... |    en    |\n",
       "+-------------------------------+-------------------------------+----------+\n",
       "+-------------------------------+-------------------------------+\n",
       "|        Species present        |         Genes present         |\n",
       "+-------------------------------+-------------------------------+\n",
       "| {'abrolhosensis': 0, 'abro... | {'Skeletal aspartic acid-r... |\n",
       "| {'abrolhosensis': 0, 'abro... | {'Skeletal aspartic acid-r... |\n",
       "| {'abrolhosensis': 0, 'abro... | {'Skeletal aspartic acid-r... |\n",
       "| {'abrolhosensis': 0, 'abro... | {'Skeletal aspartic acid-r... |\n",
       "| {'abrolhosensis': 0, 'abro... | {'Skeletal aspartic acid-r... |\n",
       "| {'abrolhosensis': 0, 'abro... | {'Skeletal aspartic acid-r... |\n",
       "| {'abrolhosensis': 0, 'abro... | {'Skeletal aspartic acid-r... |\n",
       "| {'abrolhosensis': 0, 'abro... | {'Skeletal aspartic acid-r... |\n",
       "| {'abrolhosensis': 0, 'abro... | {'Skeletal aspartic acid-r... |\n",
       "| {'abrolhosensis': 0, 'abro... | {'Skeletal aspartic acid-r... |\n",
       "+-------------------------------+-------------------------------+\n",
       "+-------------------------------+-------------------------------+\n",
       "|      Abstract_Words_Only      |             tfidf             |\n",
       "+-------------------------------+-------------------------------+\n",
       "| Acute lymphoblastic leukem... | {'by': 0.4128452154057869,... |\n",
       "| Coral reefs are aquatic ec... | {'values': 3.1208954165079... |\n",
       "| This study was carried out... | {'nasuta': 4.2195077051761... |\n",
       "| The status of reefs in Pal... | {'waters': 2.1400661634962... |\n",
       "| Bioerosion by boring organ... | {'colonization': 3.5263605... |\n",
       "| Coral Reefs observations n... | {'describe': 3.12089541650... |\n",
       "| Reefforming corals are und... | {'resilience': 3.526360524... |\n",
       "| The elkhorn coral  Acropor... | {'regarding': 3.5263605246... |\n",
       "| Discussion o Thirtyseven p... | {'conservation': 2.1400661... |\n",
       "| Taxonomic Description  Dia... | {'x': 2.833213344056216, '... |\n",
       "+-------------------------------+-------------------------------+\n",
       "[68 rows x 11 columns]\n",
       "Note: Only the head of the SFrame is printed.\n",
       "You can use print_rows(num_rows=m, num_columns=n) to print more rows and columns."
      ]
     },
     "execution_count": 60,
     "metadata": {},
     "output_type": "execute_result"
    }
   ],
   "source": [
    "summary['Genes present'] = summary['Abstract'].apply(searchGenes)\n",
    "summary"
   ]
  },
  {
   "cell_type": "code",
   "execution_count": 30,
   "metadata": {},
   "outputs": [],
   "source": [
    "def totalPapersWithGene(gene):\n",
    "    return sum(dict[gene] for dict in summary['Genes present'])"
   ]
  },
  {
   "cell_type": "code",
   "execution_count": 32,
   "metadata": {},
   "outputs": [
    {
     "data": {
      "text/html": [
       "<div style=\"max-height:1000px;max-width:1500px;overflow:auto;\"><table frame=\"box\" rules=\"cols\">\n",
       "    <tr>\n",
       "        <th style=\"padding-left: 1em; padding-right: 1em; text-align: center\">Protein names</th>\n",
       "        <th style=\"padding-left: 1em; padding-right: 1em; text-align: center\">Gene names</th>\n",
       "        <th style=\"padding-left: 1em; padding-right: 1em; text-align: center\">Total papers</th>\n",
       "    </tr>\n",
       "    <tr>\n",
       "        <td style=\"padding-left: 1em; padding-right: 1em; text-align: center; vertical-align: top\">Zinc finger transcription<br>factor ...</td>\n",
       "        <td style=\"padding-left: 1em; padding-right: 1em; text-align: center; vertical-align: top\">snail</td>\n",
       "        <td style=\"padding-left: 1em; padding-right: 1em; text-align: center; vertical-align: top\">2</td>\n",
       "    </tr>\n",
       "    <tr>\n",
       "        <td style=\"padding-left: 1em; padding-right: 1em; text-align: center; vertical-align: top\">Thioredoxin reductase</td>\n",
       "        <td style=\"padding-left: 1em; padding-right: 1em; text-align: center; vertical-align: top\">TR</td>\n",
       "        <td style=\"padding-left: 1em; padding-right: 1em; text-align: center; vertical-align: top\">2</td>\n",
       "    </tr>\n",
       "    <tr>\n",
       "        <td style=\"padding-left: 1em; padding-right: 1em; text-align: center; vertical-align: top\">Brachyury protein</td>\n",
       "        <td style=\"padding-left: 1em; padding-right: 1em; text-align: center; vertical-align: top\">Bra</td>\n",
       "        <td style=\"padding-left: 1em; padding-right: 1em; text-align: center; vertical-align: top\">1</td>\n",
       "    </tr>\n",
       "    <tr>\n",
       "        <td style=\"padding-left: 1em; padding-right: 1em; text-align: center; vertical-align: top\">Actin</td>\n",
       "        <td style=\"padding-left: 1em; padding-right: 1em; text-align: center; vertical-align: top\"></td>\n",
       "        <td style=\"padding-left: 1em; padding-right: 1em; text-align: center; vertical-align: top\">1</td>\n",
       "    </tr>\n",
       "    <tr>\n",
       "        <td style=\"padding-left: 1em; padding-right: 1em; text-align: center; vertical-align: top\">Complement C3</td>\n",
       "        <td style=\"padding-left: 1em; padding-right: 1em; text-align: center; vertical-align: top\">C3</td>\n",
       "        <td style=\"padding-left: 1em; padding-right: 1em; text-align: center; vertical-align: top\">1</td>\n",
       "    </tr>\n",
       "    <tr>\n",
       "        <td style=\"padding-left: 1em; padding-right: 1em; text-align: center; vertical-align: top\">TSP-1 and VWA domain-<br>containing protein ...</td>\n",
       "        <td style=\"padding-left: 1em; padding-right: 1em; text-align: center; vertical-align: top\"></td>\n",
       "        <td style=\"padding-left: 1em; padding-right: 1em; text-align: center; vertical-align: top\">0</td>\n",
       "    </tr>\n",
       "    <tr>\n",
       "        <td style=\"padding-left: 1em; padding-right: 1em; text-align: center; vertical-align: top\">Mucin4-like protein</td>\n",
       "        <td style=\"padding-left: 1em; padding-right: 1em; text-align: center; vertical-align: top\"></td>\n",
       "        <td style=\"padding-left: 1em; padding-right: 1em; text-align: center; vertical-align: top\">0</td>\n",
       "    </tr>\n",
       "    <tr>\n",
       "        <td style=\"padding-left: 1em; padding-right: 1em; text-align: center; vertical-align: top\">SoxF</td>\n",
       "        <td style=\"padding-left: 1em; padding-right: 1em; text-align: center; vertical-align: top\"></td>\n",
       "        <td style=\"padding-left: 1em; padding-right: 1em; text-align: center; vertical-align: top\">0</td>\n",
       "    </tr>\n",
       "    <tr>\n",
       "        <td style=\"padding-left: 1em; padding-right: 1em; text-align: center; vertical-align: top\">Selenoprotein I</td>\n",
       "        <td style=\"padding-left: 1em; padding-right: 1em; text-align: center; vertical-align: top\">SelI</td>\n",
       "        <td style=\"padding-left: 1em; padding-right: 1em; text-align: center; vertical-align: top\">0</td>\n",
       "    </tr>\n",
       "    <tr>\n",
       "        <td style=\"padding-left: 1em; padding-right: 1em; text-align: center; vertical-align: top\">Zona pellucida domain-<br>containing protein ...</td>\n",
       "        <td style=\"padding-left: 1em; padding-right: 1em; text-align: center; vertical-align: top\"></td>\n",
       "        <td style=\"padding-left: 1em; padding-right: 1em; text-align: center; vertical-align: top\">0</td>\n",
       "    </tr>\n",
       "</table>\n",
       "[373 rows x 3 columns]<br/>Note: Only the head of the SFrame is printed.<br/>You can use print_rows(num_rows=m, num_columns=n) to print more rows and columns.\n",
       "</div>"
      ],
      "text/plain": [
       "Columns:\n",
       "\tProtein names\tstr\n",
       "\tGene names\tstr\n",
       "\tTotal papers\tint\n",
       "\n",
       "Rows: 373\n",
       "\n",
       "Data:\n",
       "+-------------------------------+------------+--------------+\n",
       "|         Protein names         | Gene names | Total papers |\n",
       "+-------------------------------+------------+--------------+\n",
       "| Zinc finger transcription ... |   snail    |      2       |\n",
       "|     Thioredoxin reductase     |     TR     |      2       |\n",
       "|       Brachyury protein       |    Bra     |      1       |\n",
       "|             Actin             |            |      1       |\n",
       "|         Complement C3         |     C3     |      1       |\n",
       "| TSP-1 and VWA domain-conta... |            |      0       |\n",
       "|      Mucin4-like protein      |            |      0       |\n",
       "|              SoxF             |            |      0       |\n",
       "|        Selenoprotein I        |    SelI    |      0       |\n",
       "| Zona pellucida domain-cont... |            |      0       |\n",
       "+-------------------------------+------------+--------------+\n",
       "[373 rows x 3 columns]\n",
       "Note: Only the head of the SFrame is printed.\n",
       "You can use print_rows(num_rows=m, num_columns=n) to print more rows and columns."
      ]
     },
     "execution_count": 32,
     "metadata": {},
     "output_type": "execute_result"
    }
   ],
   "source": [
    "gene_info = uniprot_sf\n",
    "gene_info['Total papers'] = gene_info['Protein names'].apply(totalPapersWithGene)\n",
    "gene_info.sort('Total papers', ascending=False)"
   ]
  },
  {
   "cell_type": "markdown",
   "metadata": {},
   "source": [
    "## TF-IDF K-Means Clustering and Nearest Neighbors\n",
    "### (interesting though maybe not useful)"
   ]
  },
  {
   "cell_type": "code",
   "execution_count": 33,
   "metadata": {},
   "outputs": [],
   "source": [
    "def wordsOnly(text):\n",
    "    text = re.sub(',', ' ', text)\n",
    "    text = re.sub('[^a-zA-Z\\s]', '', text)\n",
    "    return text"
   ]
  },
  {
   "cell_type": "code",
   "execution_count": 34,
   "metadata": {},
   "outputs": [],
   "source": [
    "summary = summary[summary['Language'] == 'en']\n",
    "summary['Abstract_Words_Only'] = summary['Abstract'].apply(wordsOnly)"
   ]
  },
  {
   "cell_type": "code",
   "execution_count": 35,
   "metadata": {},
   "outputs": [
    {
     "data": {
      "text/plain": [
       "dtype: dict\n",
       "Rows: 68\n",
       "[{'by': 0.4128452154057869, 'regarding': 3.5263605246161616, 'childhood': 4.219507705176107, 'demonstrated': 4.219507705176107, 'this': 0.3693601034660482, 'presented': 2.6100697927420065, 'remission': 8.439015410352214, 'treatment': 6.241790833015994, 'notably': 4.219507705176107, 'comparing': 4.219507705176107, 'lower': 2.2735975561207935, 'compared': 1.329135947279942, 'concentration': 3.120895416507997, 'decreased': 2.6100697927420065, 'however': 1.3862943611198906, 'did': 2.833213344056216, 'their': 1.2750687260096663, 'relapse': 4.219507705176107, 'or': 1.2750687260096663, 'suggests': 2.833213344056216, 'with': 0.32768740706548005, 'alter': 3.5263605246161616, 'not': 2.4475508632442313, 'were': 1.0118712769435978, 'both': 1.329135947279942, 'stages': 4.219507705176107, 'risk': 3.5263605246161616, 'its': 1.65455834771457, 'deregulated': 4.219507705176107, 'been': 1.65455834771457, 'concerning': 4.219507705176107, 'groups': 2.833213344056216, 'gene': 2.6100697927420065, 'controls': 8.439015410352214, 'have': 1.000631880307906, 'to': 0.3031231090821742, 'all': 12.142207387716745, 'altered': 4.219507705176107, 'function': 3.120895416507997, 'group': 2.2735975561207935, 'plasma': 16.878030820704428, 'tgfb': 42.19507705176107, 'of': 0.10370560049598478, 'was': 0.870636142515691, 'polymorphisms': 12.658523115528322, 'verified': 4.219507705176107, 'region': 2.0222831278398874, 'recovery': 3.120895416507997, 'cancer': 4.219507705176107, 'effects': 3.120895416507997, 'common': 2.6100697927420065, 'children': 4.219507705176107, 'immune': 3.120895416507997, 'it': 2.1680269784939137, 'work': 3.120895416507997, 'p': 6.8207926683623805, 'most': 1.821612432377736, 'evaluated': 4.219507705176107, 'a': 0.4610473172236647, 'is': 0.3483066942682158, 'genotypes': 4.219507705176107, 'lymphoblastic': 4.219507705176107, 'leukemia': 4.219507705176107, 'disorder': 4.219507705176107, 'diagnosis': 3.5263605246161616, 'the': 0.11941185259872451, 'acute': 4.219507705176107, 'significantly': 1.821612432377736, 'malignant': 4.219507705176107, 'hematologic': 4.219507705176107, 'similar': 2.2735975561207935, 'and': 0.10370560049598478, 'at': 0.8183103235139513, 'expression': 3.5263605246161616, 'susceptibility': 8.439015410352214, 'associated': 4.547195112241587, 'prognosis': 8.439015410352214, 'present': 1.65455834771457, 'study': 0.7537718023763802, 'control': 3.120895416507997, 'promoter': 4.219507705176107, 'involvement': 4.219507705176107, 'levels': 10.440279170968026, 'in': 0.31584304696328747, 'patients': 12.658523115528322, 'investigated': 2.0222831278398874, 'disease': 2.4277482359480516, 'furthermore': 3.5263605246161616, 'possible': 2.833213344056216, 'induced': 3.5263605246161616, 'different': 3.643224864755472, 'clinical': 4.219507705176107}, {'values': 3.120895416507997, 'despite': 3.120895416507997, 'increasing': 2.2735975561207935, 'found': 1.4469189829363254, 'not': 1.2237754316221157, 'meanwhile': 3.5263605246161616, 'r': 5.220139585484013, 'on': 0.5306282510621704, 'that': 0.4353180712578455, 'two': 1.2750687260096663, 'activities': 2.1400661634962708, 'transplantation': 2.6100697927420065, 'to': 0.3031231090821742, 'made': 2.6100697927420065, 'factors': 2.0222831278398874, 'structure': 2.0222831278398874, 'acropora': 0.45830758948254424, 'declining': 3.120895416507997, 'using': 2.658271894559884, 'improve': 4.219507705176107, 'are': 0.581921545449721, 'and': 0.281486629917673, 'with': 0.6553748141309601, 'species': 2.556635625568898, 'reefs': 1.7746063900018054, 'a': 2.3052365861183235, 'decreased': 2.6100697927420065, 'ecosystems': 2.2735975561207935, 'obtained': 2.833213344056216, 'biodiversity': 3.120895416507997, 'lowest': 2.6100697927420065, 'determine': 2.4277482359480516, 'between': 4.1588830833596715, 'studentized': 4.219507705176107, 'both': 1.329135947279942, 'highest': 8.08913251135955, 'have': 1.000631880307906, 'meansd': 16.878030820704428, 'according': 2.833213344056216, 'condition': 3.643224864755472, 'keeps': 4.219507705176107, 'positive': 3.5263605246161616, 'correlation': 8.49964003216865, 'coral': 0.3883120288819148, 'complex': 4.219507705176107, 'also': 1.3862943611198906, 'many': 4.2801323269925415, 'the': 0.44779444724521694, 'of': 0.11852068628112546, 'interconnections': 4.219507705176107, 'different': 1.821612432377736, 'transplanted': 2.833213344056216, 'invertebrates': 3.5263605246161616, 'photosynthetic': 4.219507705176107, 'lower': 2.2735975561207935, 'differences': 4.044566255679775, 'respectively': 1.7346010553881064, 'dinoflagellates': 4.219507705176107, 'one': 1.2237754316221157, 'efforts': 3.120895416507997, 'anova': 3.5263605246161616, 'while': 1.916922612182061, 'divaricata': 16.878030820704428, 'due': 1.7346010553881064, 'ecological': 2.6100697927420065, 'rack': 4.219507705176107, 'rate': 7.830209378226019, 'method': 2.0222831278398874, 'm': 6.61823339085828, 'in': 0.04512043528046964, 'analysis': 3.643224864755472, 'tukeys': 4.219507705176107, 'water': 1.5114575040738967, 'depths': 2.833213344056216, 'highly': 2.4277482359480516, 'this': 0.3693601034660482, 'we': 1.3862943611198906, 'study': 0.7537718023763802, 'showed': 4.1588830833596715, 'best': 3.120895416507997, 'pearson': 3.5263605246161616, 'functions': 2.833213344056216, 'pvc': 4.219507705176107, 'was': 2.1765903562892275, 'conducted': 2.1400661634962708, 'each': 4.547195112241587, 'treatment': 3.120895416507997, 'january': 4.219507705176107, 'x': 5.666426688112432, 'october': 4.219507705176107, 'growth': 11.58190843400199, 'namely': 3.120895416507997, 'zooxanthellae': 16.9992800643373, 'densities': 11.332853376224865, 'economic': 3.120895416507997, 'analyzed': 2.833213344056216, 'significant': 6.8207926683623805, 'depth': 14.980463144473894, 'were': 1.5178069154153966, 'hsd': 4.219507705176107, 'statistical': 4.219507705176107, 'aquatic': 4.219507705176107, 'from': 1.328319287373386, 'p': 6.8207926683623805, 'cells': 7.052721049232323, 'nobilis': 16.878030820704428, 'rates': 2.4277482359480516, 'is': 0.6966133885364316, 'at': 4.909861941083708, 'it': 1.0840134892469568, 'rang': 4.219507705176107, 'cm': 10.440279170968026, 'month': 6.241790833015994, 'density': 5.220139585484013}, {'nasuta': 4.219507705176107, 'a': 0.6915709758354971, 'formosa': 3.120895416507997, 'considerably': 4.219507705176107, 'but': 1.329135947279942, 'm': 1.65455834771457, 'c': 2.2735975561207935, 'ranged': 3.5263605246161616, 'transparency': 8.439015410352214, 'valida': 4.219507705176107, 'salinity': 8.439015410352214, 'temperature': 3.30911669542914, 'horrida': 3.5263605246161616, 'such': 1.580450375560848, 'areas': 2.0222831278398874, 'environmental': 1.7346010553881064, 'station': 2.4277482359480516, 'parameter': 4.219507705176107, 'aw': 8.439015410352214, 'range': 2.4277482359480516, 'islands': 2.2735975561207935, 'to': 0.06062462181643484, 'as': 0.5559460590464603, 'all': 1.7346010553881064, 'sha': 8.439015410352214, 'hnit': 4.219507705176107, 'maw': 4.219507705176107, 'nge': 4.219507705176107, 'out': 2.0222831278398874, 'the': 0.23882370519744903, 'shin': 8.439015410352214, 'recorded': 1.916922612182061, 'gyi': 8.439015410352214, 'ranges': 3.5263605246161616, 'tan': 4.219507705176107, 'table': 3.5263605246161616, 'which': 1.0840134892469568, 'pan': 12.658523115528322, 'tanintharyi': 4.219507705176107, 'coral': 0.5824680433228722, 'taung': 12.658523115528322, 'found': 4.340756948808976, 'this': 0.3693601034660482, 'adjacent': 2.6100697927420065, 'carried': 2.6100697927420065, 'study': 2.261315407129141, 'was': 1.3059542137735365, 'period': 2.0222831278398874, 'from': 1.328319287373386, 'differed': 7.052721049232323, 'elphinstone': 4.219507705176107, 'common': 2.6100697927420065, 'acropora': 0.9166151789650885, 'island': 1.821612432377736, 'and': 0.10370560049598478, 'collected': 1.821612432377736, 'of': 0.05926034314056273, 'respectively': 1.7346010553881064, 'coastal': 2.4277482359480516, 'region': 2.0222831278398874, 'slightly': 3.5263605246161616, 'specimens': 4.219507705176107, 'were': 1.5178069154153966, 'composed': 3.5263605246161616, 'present': 3.30911669542914, 'number': 3.643224864755472, 'by': 0.4128452154057869, 'species': 2.556635625568898, 'during': 1.65455834771457, 'highest': 2.0222831278398874, 'in': 0.13536130584140893, 'stations': 2.4277482359480516, 'mon': 4.219507705176107, 'be': 0.664159643686693, 'lowest': 2.6100697927420065}, {'waters': 2.1400661634962708, 'indian': 4.219507705176107, 'attributed': 3.120895416507997, 'digitate': 3.120895416507997, 'acd': 8.439015410352214, 'which': 1.0840134892469568, 'aprilmay': 4.219507705176107, 'temperature': 1.65455834771457, 'found': 1.4469189829363254, 'bleaching': 7.283244707844155, 'islands': 2.2735975561207935, 'group': 2.2735975561207935, 'events': 2.6100697927420065, 'north': 3.120895416507997, 'between': 1.3862943611198906, 'suggests': 2.833213344056216, 'thoothukkudi': 4.219507705176107, 'surface': 2.1400661634962708, 'corresponding': 3.5263605246161616, 'corals': 2.454930970541854, 'about': 2.6100697927420065, 'association': 3.120895416507997, 'c': 4.547195112241587, 'to': 0.3031231090821742, 'as': 0.5559460590464603, 'patterns': 1.7346010553881064, 'any': 2.6100697927420065, 'was': 0.870636142515691, 'during': 1.65455834771457, 'from': 1.328319287373386, 'in': 0.4512043528046964, 'a': 0.6915709758354971, 'palk': 10.579081573848484, 'following': 2.4277482359480516, 'lifeforms': 3.5263605246161616, 'clearly': 3.120895416507997, 'gulf': 10.440279170968026, 'earlier': 4.219507705176107, 'decreasing': 3.5263605246161616, 'status': 2.6100697927420065, 'reefs': 0.8873031950009027, 'studied': 1.65455834771457, 'be': 0.664159643686693, 'could': 2.1400661634962708, 'observations': 2.4277482359480516, 'south': 2.6100697927420065, 'sst': 3.5263605246161616, 'encrusting': 3.5263605246161616, 'sea': 1.821612432377736, 'bleach': 3.5263605246161616, 'not': 1.2237754316221157, 'trend': 3.5263605246161616, 'acropora': 0.45830758948254424, 'pattern': 2.6100697927420065, 'showing': 3.5263605246161616, 'mannar': 12.483581666031988, 'it': 1.0840134892469568, 'recorded': 3.833845224364122, 'that': 0.870636142515691, 'bay': 8.49964003216865, 'intensity': 4.219507705176107, 'study': 3.015087209505521, 'showed': 1.3862943611198906, 'sites': 4.044566255679775, 'different': 1.821612432377736, 'corymbose': 3.120895416507997, 'of': 0.19259611520682887, 'the': 0.5373533366942603, 'massive': 5.666426688112432, 'were': 2.0237425538871956, 'stress': 2.4277482359480516, 'further': 2.4277482359480516, 'among': 2.2735975561207935, 'forms': 11.332853376224865, 'sudden': 4.219507705176107, 'subsequent': 3.120895416507997, 'observed': 1.4469189829363254, 'increase': 2.1400661634962708, 'out': 2.0222831278398874, 'coral': 0.3883120288819148, 'ce': 8.439015410352214, 'have': 1.000631880307906, 'adapted': 3.5263605246161616, 'thermal': 2.6100697927420065, 'and': 0.0888905147108441, 'mass': 2.1400661634962708, 'highlights': 4.219507705176107, 'acc': 8.439015410352214, 'need': 2.833213344056216, 'while': 1.916922612182061, 'algae': 3.120895416507997, 'for': 0.870636142515691, 'alert': 3.5263605246161616, 'understanding': 3.833845224364122, 'molecular': 4.219507705176107, 'mechanism': 4.219507705176107, 'bleached': 12.483581666031988, 'symbiotic': 3.120895416507997, 'on': 0.5306282510621704}, {'colonization': 3.5263605246161616, 'covered': 3.120895416507997, 'surface': 2.1400661634962708, 'its': 4.96367504314371, 'crystals': 4.219507705176107, 'fusiform': 4.219507705176107, 'tissues': 3.120895416507997, 'loss': 3.120895416507997, 'led': 4.219507705176107, 'cyanobacteria': 3.5263605246161616, 'algae': 3.120895416507997, 'green': 3.5263605246161616, 'fungi': 4.219507705176107, 'some': 2.2735975561207935, 'least': 3.120895416507997, 'skeleton': 2.833213344056216, 'appearance': 3.5263605246161616, 'characteristic': 3.5263605246161616, 'another': 3.5263605246161616, 'adjacent': 2.6100697927420065, 'that': 0.4353180712578455, 'along': 2.2735975561207935, 'sclerosepta': 8.439015410352214, 'tangential': 8.439015410352214, 'horizontal': 2.833213344056216, 'arranged': 3.5263605246161616, 'series': 8.439015410352214, 'sides': 3.5263605246161616, 'size': 2.1400661634962708, 'rings': 4.219507705176107, 'porous': 4.219507705176107, 'scalelike': 4.219507705176107, 'cream': 4.219507705176107, 'solid': 3.5263605246161616, 'sea': 1.821612432377736, 'colonies': 3.671326294866347, 'harbored': 4.219507705176107, 'very': 2.1400661634962708, 'from': 0.664159643686693, 'fasciculi': 4.219507705176107, 'which': 3.2520404677408705, 'using': 1.329135947279942, 'due': 1.7346010553881064, 'branches': 6.8207926683623805, 'fat': 4.219507705176107, 'humilis': 10.440279170968026, 'colors': 4.219507705176107, 'suezred': 4.219507705176107, 'acropora': 0.9166151789650885, 'branch': 9.36268624952399, 'occur': 3.5263605246161616, 'connect': 4.219507705176107, 'coral': 0.1941560144409574, 'destructive': 4.219507705176107, 'forces': 3.5263605246161616, 'collected': 3.643224864755472, 'scleractinian': 1.916922612182061, 'el': 7.052721049232323, 'corallites': 12.483581666031988, 'on': 0.5306282510621704, 'microscope': 4.219507705176107, 'microflora': 4.219507705176107, 'gulf': 2.6100697927420065, 'synapticulae': 4.219507705176107, 'incipient': 4.219507705176107, 'rods': 12.658523115528322, 'edge': 4.219507705176107, 'organisms': 5.220139585484013, 'were': 1.0118712769435978, 'boring': 8.439015410352214, 'sukhna': 4.219507705176107, 'are': 1.745764636349163, 'concentric': 4.219507705176107, 'by': 2.4770712924347214, 'facilitate': 3.5263605246161616, 'large': 2.833213344056216, 'tips': 7.052721049232323, 'this': 0.3693601034660482, 'ain': 4.219507705176107, 'bioerosion': 16.878030820704428, 'operating': 4.219507705176107, 'erosion': 4.219507705176107, 'investigate': 3.120895416507997, 'reef': 1.4460002874192528, 'investigated': 2.0222831278398874, 'with': 0.9830622211964402, 'cupshaped': 4.219507705176107, 'aim': 3.5263605246161616, 'have': 4.002527521231624, 'of': 0.20741120099196955, 'the': 0.44779444724521694, 'finger': 4.219507705176107, 'vertical': 7.052721049232323, 'one': 3.671326294866347, 'color': 7.052721049232323, 'study': 0.7537718023763802, 'less': 2.4277482359480516, 'major': 2.1400661634962708, 'branching': 5.220139585484013, 'was': 0.870636142515691, 'yellow': 4.219507705176107, 'small': 3.120895416507997, 'a': 0.9220946344473294, 'and': 0.19259611520682887, 'scanning': 3.5263605246161616, 'these': 1.1749852674526837, 'two': 2.5501374520193325, 'brown': 4.219507705176107, 'mm': 7.052721049232323, 'in': 0.27072261168281786, 'high': 1.3862943611198906, 'to': 0.42437235271504387, 'length': 3.5263605246161616, 'individual': 3.120895416507997, 'form': 10.440279170968026, 'purple': 3.5263605246161616, 'fingers': 4.219507705176107, 'sizes': 3.5263605246161616, 'slightly': 3.5263605246161616, 'diameter': 3.120895416507997, 'sem': 4.219507705176107, 'than': 1.821612432377736, 'rows': 4.219507705176107, 'whose': 4.219507705176107, 'down': 3.5263605246161616, 'electron': 3.5263605246161616, 'axial': 10.579081573848484, 'branchlets': 4.219507705176107, 'or': 1.2750687260096663, 'bars': 16.878030820704428, 'is': 0.6966133885364316, 'at': 1.6366206470279026, 'porosity': 4.219507705176107, 'mucopolysaccharides': 4.219507705176107, 'tapering': 4.219507705176107, 'main': 2.1400661634962708, 'base': 4.219507705176107, 'radial': 14.105442098464646, 'subjected': 3.120895416507997, 'larger': 3.5263605246161616, 'domeshaped': 3.5263605246161616, 'thick': 4.219507705176107, 'increase': 2.1400661634962708, 'walls': 3.5263605246161616, 'usually': 4.855496471896103, 'only': 1.65455834771457}, {'describe': 3.120895416507997, 'microcontroller': 4.219507705176107, 'program': 3.5263605246161616, 'ide': 4.219507705176107, 'card': 4.219507705176107, 'micro': 4.219507705176107, 'real': 3.5263605246161616, 'module': 8.439015410352214, 'lcd': 4.219507705176107, 'x': 5.666426688112432, 'result': 2.6100697927420065, 'keypad': 4.219507705176107, 'mega': 4.219507705176107, 'arduino': 8.439015410352214, 'electronic': 3.5263605246161616, 'embedded': 4.219507705176107, 'visibility': 7.052721049232323, 'depth': 2.1400661634962708, 'have': 2.001263760615812, 'kinds': 4.219507705176107, 'temperature': 3.30911669542914, 'an': 2.3499705349053674, 'country': 4.219507705176107, 'transect': 10.440279170968026, 'benthic': 3.5263605246161616, 'and': 0.05926034314056273, 'writing': 4.219507705176107, 'point': 2.6100697927420065, 'management': 3.120895416507997, 'lit': 8.439015410352214, 'indonesia': 6.420198490488812, 'archipelago': 3.120895416507997, 'etc': 2.833213344056216, 'logging': 4.219507705176107, 'collecting': 4.219507705176107, 'line': 3.120895416507997, 'such': 3.160900751121696, 'some': 2.2735975561207935, 'paper': 3.5263605246161616, 'these': 1.1749852674526837, 'as': 1.667838177139381, 'to': 0.42437235271504387, 'kind': 3.5263605246161616, 'area': 1.7346010553881064, 'general': 2.6100697927420065, 'located': 3.5263605246161616, 'conducted': 2.1400661634962708, 'be': 1.328319287373386, 'will': 6.241790833015994, 'observations': 2.4277482359480516, 'need': 2.833213344056216, 'reefs': 0.8873031950009027, 'there': 4.855496471896103, 'intercept': 6.241790833015994, 'method': 2.0222831278398874, 'in': 0.27072261168281786, 'belt': 3.5263605246161616, 'further': 2.4277482359480516, 'many': 4.2801323269925415, 'we': 1.3862943611198906, 'take': 3.120895416507997, 'used': 6.61823339085828, 'reef': 1.4460002874192528, 'with': 0.32768740706548005, 'pit': 8.439015410352214, 'diver': 4.219507705176107, 'this': 1.8468005173302409, 'observation': 10.579081573848484, 'numerical': 4.219507705176107, 'can': 1.580450375560848, 'process': 2.833213344056216, 'plan': 3.120895416507997, 'photo': 4.219507705176107, 'toweddiver': 4.219507705176107, 'employing': 4.219507705176107, 'water': 1.5114575040738967, 'up': 2.6100697927420065, 'replacing': 4.219507705176107, 'also': 1.3862943611198906, 'coding': 4.219507705176107, 'coral': 1.1649360866457443, 'are': 2.327686181798884, 'of': 0.0888905147108441, 'the': 0.2089707420477679, 'methods': 3.120895416507997, 'basically': 4.219507705176107, 'namely': 3.120895416507997, 'ecosystems': 2.2735975561207935, 'triangle': 3.5263605246161616, 'initiative': 4.219507705176107, 'lookup': 4.219507705176107, 'implementation': 4.219507705176107, 'usually': 4.855496471896103, 'monitoring': 2.4277482359480516, 'decrease': 3.120895416507997, 'disadvantages': 4.219507705176107, 'sensor': 12.658523115528322, 'when': 3.5263605246161616, 'clock': 4.219507705176107, 'data': 8.560264653985083, 'condition': 1.821612432377736, 'idea': 4.219507705176107, 'using': 1.329135947279942, 'table': 7.052721049232323, 'divers': 4.219507705176107, 'authors': 4.219507705176107, 'hours': 4.219507705176107, 'field': 2.833213344056216, 'input': 7.052721049232323, 'character': 4.219507705176107, 'therefore': 2.6100697927420065, 'determine': 2.4277482359480516, 'facilitate': 3.5263605246161616, 'time': 4.044566255679775, 'by': 0.8256904308115738, 'way': 4.219507705176107, 'system': 2.4277482359480516, 'is': 0.6966133885364316, 'look': 3.5263605246161616, 'simplify': 4.219507705176107, 'sd': 4.219507705176107, 'pressure': 4.219507705176107, 'instrument': 12.658523115528322, 'text': 3.5263605246161616, 'addition': 2.6100697927420065, 'quality': 3.120895416507997}, {'resilience': 3.5263605246161616, 'ends': 4.219507705176107, 'understanding': 1.916922612182061, 'enhanced': 4.219507705176107, 'heattolerant': 4.219507705176107, 'lost': 3.5263605246161616, 'not': 1.2237754316221157, 'tradeoffs': 4.219507705176107, 'evidence': 2.6100697927420065, 'no': 2.0222831278398874, 'predicting': 3.5263605246161616, 'than': 1.821612432377736, 'rather': 3.120895416507997, 'resource': 3.5263605246161616, 'their': 1.2750687260096663, 'shifted': 4.219507705176107, 'may': 1.5114575040738967, 'indicating': 2.6100697927420065, 'groups': 2.833213344056216, 'investing': 4.219507705176107, 'cooler': 3.5263605246161616, 'reduced': 4.219507705176107, 'was': 1.3059542137735365, 'treatment': 6.241790833015994, 'hotter': 4.219507705176107, 'energetic': 4.219507705176107, 'compared': 2.658271894559884, 'mild': 16.878030820704428, 'a': 0.4610473172236647, 'whether': 2.6100697927420065, 'situ': 2.6100697927420065, 'invertebrates': 3.5263605246161616, 'important': 2.0222831278398874, 'mutually': 4.219507705176107, 'an': 1.1749852674526837, 'other': 1.65455834771457, 'be': 1.328319287373386, 'found': 2.8938379658726507, 'sublethal': 8.439015410352214, 'has': 1.329135947279942, 'hot': 8.439015410352214, 'exposure': 18.72537249904798, 'temperature': 3.30911669542914, 'density': 2.6100697927420065, 'been': 1.65455834771457, 'marine': 2.0222831278398874, 'heat': 16.878030820704428, 'spectrum': 4.219507705176107, 'future': 2.4277482359480516, 'into': 1.821612432377736, 'three': 1.7346010553881064, 'increase': 2.1400661634962708, 'physiology': 4.219507705176107, 'to': 0.7881200836136529, 'at': 1.6366206470279026, 'is': 0.6966133885364316, 'tropical': 2.833213344056216, 'less': 2.4277482359480516, 'change': 4.2801323269925415, 'but': 2.658271894559884, 'climate': 4.2801323269925415, 'from': 1.328319287373386, 'under': 5.464837297133208, 'more': 4.741351126682544, 'projected': 8.439015410352214, 'changes': 5.220139585484013, 'energy': 2.833213344056216, 'threat': 3.120895416507997, 'c': 6.8207926683623805, 'maintenance': 4.219507705176107, 'here': 2.0222831278398874, 'sea': 1.821612432377736, 'reefforming': 3.5263605246161616, 'extension': 2.833213344056216, 'after': 1.65455834771457, 'corals': 10.638034205681366, 'resilient': 3.5263605246161616, 'currently': 3.120895416507997, 'millepora': 6.241790833015994, 'that': 1.3059542137735365, 'recorded': 1.916922612182061, 'temperatures': 4.2801323269925415, 'unclear': 3.5263605246161616, 'in': 0.6316860939265749, 'frequency': 4.219507705176107, 'with': 0.32768740706548005, 'reef': 0.7230001437096264, 'symbiodiniaceae': 4.219507705176107, 'are': 0.581921545449721, 'and': 0.1777810294216882, 'mass': 2.1400661634962708, 'cold': 24.68452367231313, 'quantified': 3.5263605246161616, 'this': 0.3693601034660482, 'conditions': 4.044566255679775, 'tolerance': 14.105442098464646, 'thermal': 10.440279170968026, 'these': 2.3499705349053674, 'it': 1.0840134892469568, 'globally': 3.5263605246161616, 'tradeoff': 4.219507705176107, 'increased': 2.2735975561207935, 'exists': 3.5263605246161616, 'occurring': 2.833213344056216, 'events': 2.6100697927420065, 'between': 1.3862943611198906, 'coldtreated': 8.439015410352214, 'condition': 3.643224864755472, 'study': 0.7537718023763802, 'exclusive': 4.219507705176107, 'acropora': 0.45830758948254424, 'central': 3.5263605246161616, 'great': 3.120895416507997, 'barrier': 3.120895416507997, 'physiological': 6.241790833015994, 'subjected': 3.120895416507997, 'skeletal': 2.833213344056216, 'around': 2.1400661634962708, 'treatments': 3.120895416507997, 'for': 0.4353180712578455, 'ambient': 15.604477082539985, 'weeks': 4.219507705176107, 'responses': 2.4277482359480516, 'respectively': 1.7346010553881064, 'content': 2.6100697927420065, 'decreased': 5.220139585484013, 'individuals': 3.120895416507997, 'year': 2.2735975561207935, 'heattreated': 8.439015410352214, 'relative': 10.579081573848484, 'gained': 4.219507705176107, 'allocation': 4.219507705176107, 'results': 2.5501374520193325, 'both': 6.64567973639971, 'leading': 3.120895416507997, 'indicate': 5.666426688112432, 'the': 0.3283825946464924, 'of': 0.11852068628112546, 'pigment': 3.5263605246161616, 'severity': 4.219507705176107, 'examined': 2.2735975561207935, 'improved': 4.219507705176107, 'despite': 3.120895416507997, 'response': 3.833845224364122}, {'regarding': 3.5263605246161616, 'both': 1.329135947279942, 'knowledge': 2.833213344056216, 'summary': 3.5263605246161616, 'decline': 4.219507705176107, 'underappreciated': 4.219507705176107, 'perhaps': 3.5263605246161616, 'continues': 3.5263605246161616, 'this': 0.7387202069320964, 'however': 1.3862943611198906, 'a': 0.6915709758354971, 'than': 1.821612432377736, 'tissue': 2.4277482359480516, 'stony': 4.219507705176107, 'it': 1.0840134892469568, 'reef': 0.7230001437096264, 'listed': 4.219507705176107, 'protective': 4.219507705176107, 'mission': 4.219507705176107, 'current': 2.1400661634962708, 'provides': 3.5263605246161616, 'features': 3.5263605246161616, 'structure': 2.0222831278398874, 'acropora': 0.45830758948254424, 'rather': 3.120895416507997, 'of': 0.07407542892570342, 'and': 0.10370560049598478, 'key': 3.120895416507997, 'in': 0.18048174112187856, 'emergency': 4.219507705176107, 'precipitous': 4.219507705176107, 'primary': 4.219507705176107, 'genotypic': 4.219507705176107, 'act': 3.5263605246161616, 'emerging': 4.219507705176107, 'iconic': 8.439015410352214, 'the': 0.23882370519744903, 'populations': 2.2735975561207935, 'currently': 3.120895416507997, 'elkhorn': 3.5263605246161616, 'status': 2.6100697927420065, 'qualitative': 4.219507705176107, 'is': 0.3483066942682158, 'plan': 3.120895416507997, 'florida': 7.052721049232323, 'coral': 0.5824680433228722, 'are': 0.581921545449721, 'focused': 3.5263605246161616, 'quantitative': 3.5263605246161616, 'affected': 2.4277482359480516, 'reefbuilding': 2.833213344056216, 'was': 0.4353180712578455, 'to': 0.06062462181643484, 'as': 1.1118921180929207, 'caribbean': 2.6100697927420065, 'spur': 4.219507705176107, 'reefs': 0.8873031950009027, 'us': 4.219507705176107, 'disease': 2.4277482359480516, 'palmata': 7.830209378226019, 'under': 1.821612432377736, 'crest': 4.219507705176107, 'endangered': 3.5263605246161616, 'document': 3.5263605246161616, 'much': 3.5263605246161616, 'efforts': 3.120895416507997, 'by': 0.4128452154057869, 'species': 3.4088475007585304, 'toward': 3.5263605246161616, 'display': 4.219507705176107, 'loss': 3.120895416507997, 'directly': 4.219507705176107, 'rescue': 4.219507705176107, 'constructor': 4.219507705176107, 'propagation': 4.219507705176107, 'on': 0.5306282510621704, 'target': 4.219507705176107, 'other': 1.65455834771457}, {'conservation': 2.1400661634962708, 'help': 2.833213344056216, 'mammalian': 4.219507705176107, 'understanding': 1.916922612182061, 'point': 2.6100697927420065, 'starting': 4.219507705176107, 'as': 0.5559460590464603, 'serve': 3.5263605246161616, 'can': 1.580450375560848, 'species': 0.8522118751896326, 'into': 1.821612432377736, 'pocillopora': 2.833213344056216, 'study': 0.7537718023763802, 'directions': 3.120895416507997, 'immunology': 4.219507705176107, 'future': 2.4277482359480516, 'conclusion': 4.219507705176107, 'traylorknowles': 4.219507705176107, 'multiple': 3.120895416507997, 'response': 1.916922612182061, 'importance': 2.833213344056216, 'general': 2.6100697927420065, 'involved': 3.5263605246161616, 'are': 0.581921545449721, 'trafs': 4.219507705176107, 'how': 4.219507705176107, 'on': 0.5306282510621704, 'implications': 4.219507705176107, 'imply': 4.219507705176107, 'increase': 2.1400661634962708, 'this': 1.1080803103981447, 'separation': 3.5263605246161616, 'relationship': 7.052721049232323, 'tnfr': 4.219507705176107, 'be': 1.328319287373386, 'vast': 4.219507705176107, 'transcription': 4.219507705176107, 'to': 0.1818738654493045, 'through': 2.2735975561207935, 'divergence': 3.5263605246161616, 'proteins': 25.317046231056644, 'phyla': 7.052721049232323, 'p': 4.547195112241587, 'damicornis': 6.241790833015994, 'seen': 3.120895416507997, 'traf': 37.97556934658496, 'family': 2.6100697927420065, 'bleaching': 2.4277482359480516, 'et': 10.579081573848484, 'cnidarian': 4.219507705176107, 'there': 2.4277482359480516, 'o': 21.097538525880534, 'of': 0.1629659436365475, 'the': 0.4179414840955358, 'thirtyseven': 4.219507705176107, 'searches': 4.219507705176107, 'identification': 3.5263605246161616, 'evident': 4.219507705176107, 'prevent': 4.219507705176107, 'very': 2.1400661634962708, 'and': 0.14815085785140683, 'homologs': 4.219507705176107, 'across': 2.6100697927420065, 'expansion': 3.120895416507997, 'nodlike': 4.219507705176107, 'in': 0.36096348224375713, 'discussion': 3.5263605246161616, 'exposure': 3.120895416507997, 'identified': 2.2735975561207935, 'local': 2.833213344056216, 'cell': 3.5263605246161616, 'close': 3.5263605246161616, 'condition': 1.821612432377736, 'potential': 2.6100697927420065, 'alignment': 4.219507705176107, 'factors': 2.0222831278398874, 'phylogenetic': 4.219507705176107, 'investigation': 4.219507705176107, 'host': 2.6100697927420065, 'evolutionary': 14.105442098464646, 'within': 2.1400661634962708, 'though': 2.833213344056216, 'during': 1.65455834771457, 'repertoire': 8.439015410352214, 'occurred': 2.833213344056216, 'after': 1.65455834771457, 'phylas': 4.219507705176107, 'time': 2.0222831278398874, 'immunological': 3.5263605246161616, 'damicorniss': 4.219507705176107, 'diversification': 3.120895416507997, 'determine': 2.4277482359480516, 'between': 2.772588722239781, 'large': 2.833213344056216, 'diverse': 2.6100697927420065, 'may': 7.557287520369483, 'inflammation': 4.219507705176107, 'number': 1.821612432377736, 'have': 1.000631880307906, 'suggestive': 4.219507705176107, 'zhou': 4.219507705176107, 'its': 1.65455834771457, 'observed': 1.4469189829363254, 'ability': 3.5263605246161616, 'seems': 3.5263605246161616, 'receptors': 4.219507705176107, 'process': 2.833213344056216, 'better': 8.439015410352214, 'is': 0.3483066942682158, 'handle': 4.219507705176107, 'domain': 4.219507705176107, 'manage': 4.219507705176107, 'stressful': 3.5263605246161616, 'closer': 4.219507705176107, 'protein': 10.579081573848484, 'regulation': 4.219507705176107, 'al': 10.579081573848484, 'a': 0.9220946344473294, 'unnecessary': 4.219507705176107, 'tissue': 2.4277482359480516, 'damage': 2.833213344056216, 'death': 4.219507705176107, 'apoptosis': 4.219507705176107, 'previous': 3.120895416507997, 'yang': 4.219507705176107, 'coral': 0.970780072204787, 'studies': 1.916922612182061, 'were': 0.5059356384717989, 'genome': 3.120895416507997, 'stress': 4.855496471896103, 'that': 0.4353180712578455, 'involving': 4.219507705176107, 'ap': 4.219507705176107, 'expression': 3.5263605246161616}, {'x': 2.833213344056216, 'closeup': 4.219507705176107, 'general': 2.6100697927420065, 'both': 1.329135947279942, 'branching': 2.6100697927420065, 'thecal': 4.219507705176107, 'resembles': 4.219507705176107, 'cactus': 12.658523115528322, 'montipora': 10.440279170968026, 'remarks': 4.219507705176107, 'to': 0.06062462181643484, 'indonesia': 2.1400661634962708, 'west': 3.120895416507997, 'penghu': 4.219507705176107, 'occurrence': 4.219507705176107, 'distributed': 3.120895416507997, 'occur': 3.5263605246161616, 'forms': 2.833213344056216, 'columnar': 4.219507705176107, 'north': 3.120895416507997, 'substrates': 3.120895416507997, 'coenosteum': 10.579081573848484, 'colonies': 3.671326294866347, 'but': 1.329135947279942, 'laminar': 8.439015410352214, 'branches': 6.8207926683623805, 'is': 0.6966133885364316, 'a': 0.4610473172236647, 'taxonomic': 2.833213344056216, 'reef': 0.7230001437096264, 'with': 0.6553748141309601, 'from': 0.664159643686693, 'while': 1.916922612182061, 'corallites': 9.36268624952399, 'southern': 2.6100697927420065, 'have': 1.000631880307906, 'readily': 4.219507705176107, 'submassive': 8.439015410352214, 'uniform': 4.219507705176107, 'taiwan': 4.219507705176107, 'densely': 3.5263605246161616, 'turbid': 7.052721049232323, 'diagnosis': 3.5263605246161616, 'the': 0.14926481574840564, 'covered': 3.120895416507997, 'distal': 4.219507705176107, 'digitate': 3.120895416507997, 'sheltered': 8.439015410352214, 'bases': 3.120895416507997, 'in': 0.2256021764023482, 'length': 3.5263605246161616, 'distribution': 1.916922612182061, 'form': 2.6100697927420065, 'distinguished': 3.5263605246161616, 'okinawajima': 4.219507705176107, 'are': 2.9096077272486047, 'or': 1.2750687260096663, 'south': 2.6100697927420065, 'columns': 4.219507705176107, 'similar': 2.2735975561207935, 'description': 2.833213344056216, 'tall': 8.439015410352214, 'and': 0.07407542892570342, 'by': 0.8256904308115738, 'view': 4.219507705176107, 'of': 0.07407542892570342, 'its': 1.65455834771457, 'living': 2.6100697927420065, 'white': 3.120895416507997, 'brownish': 4.219507705176107, 'having': 4.219507705176107, 'usually': 4.855496471896103, 'appearance': 3.5263605246161616, 'tips': 3.5263605246161616, 'islands': 2.2735975561207935, 'exsert': 4.219507705176107, 'especially': 8.439015410352214, 'on': 1.5918847531865112, 'water': 3.0229150081477933, 'ecology': 3.120895416507997, 'pacific': 3.5263605246161616, 'parts': 3.5263605246161616, 'hispida': 4.219507705176107, 'papillae': 12.658523115528322, 'they': 2.2735975561207935, 'those': 2.6100697927420065, 'lagoons': 4.219507705176107, 'slopes': 3.5263605246161616, 'mostly': 2.833213344056216, 'commonly': 3.5263605246161616, 'soft': 4.219507705176107, 'found': 2.8938379658726507, 'environments': 3.120895416507997}, {'archipelago': 3.120895416507997, 'presence': 1.65455834771457, 'evidence': 2.6100697927420065, 'observations': 2.4277482359480516, 'give': 4.219507705176107, 'porites': 5.666426688112432, 'generaacropora': 4.219507705176107, 'snails': 3.5263605246161616, 'also': 1.3862943611198906, 'site': 2.833213344056216, 'followed': 7.052721049232323, 'station': 7.283244707844155, 'isopora': 8.439015410352214, 'in': 0.18048174112187856, 'were': 1.0118712769435978, 'for': 0.4353180712578455, 'colonies': 1.2237754316221157, 'affected': 4.855496471896103, 'that': 1.3059542137735365, 'this': 0.3693601034660482, 'found': 2.8938379658726507, 'stations': 2.4277482359480516, 'its': 1.65455834771457, 'species': 0.8522118751896326, 'by': 2.0642260770289345, 'preferred': 4.219507705176107, 'pocillopora': 5.666426688112432, 'reefs': 2.661909585002708, 'which': 1.0840134892469568, 'selected': 2.4277482359480516, 'rate': 2.6100697927420065, 'cause': 4.219507705176107, 'preferences': 4.219507705176107, 'stresses': 4.219507705176107, 'surveys': 3.5263605246161616, 'alarming': 4.219507705176107, 'lastly': 4.219507705176107, 'on': 1.5918847531865112, 'snail': 16.878030820704428, 'predation': 8.49964003216865, 'and': 0.0888905147108441, 'prey': 4.219507705176107, 'feeding': 8.439015410352214, 'coral': 0.7766240577638296, 'are': 0.581921545449721, 'natural': 2.2735975561207935, 'anthropogenic': 2.4277482359480516, 'more': 1.580450375560848, 'is': 0.3483066942682158, 'around': 2.1400661634962708, 'india': 3.120895416507997, 'three': 1.7346010553881064, 'at': 1.6366206470279026, 'scleractinian': 1.916922612182061, 'observed': 1.4469189829363254, 'the': 0.23882370519744903, 'was': 0.870636142515691, 'corals': 2.454930970541854, 'corallivorous': 7.052721049232323, 'due': 1.7346010553881064, 'lakshadweep': 8.439015410352214, 'percentage': 5.666426688112432, 'deteriorating': 4.219507705176107, 'chetlat': 4.219507705176107, 'declining': 3.120895416507997, 'one': 1.2237754316221157, 'study': 0.7537718023763802, 'revealed': 3.5263605246161616, 'of': 0.11852068628112546, 'them': 2.6100697927420065, 'acropora': 0.45830758948254424, 'gastropod': 3.5263605246161616, 'caused': 3.5263605246161616, 'drupella': 24.68452367231313, 'genus': 2.833213344056216, 'most': 1.821612432377736, 'four': 2.0222831278398874, 'can': 1.580450375560848, 'damage': 5.666426688112432, 'we': 4.1588830833596715, 'an': 1.1749852674526837, 'globe': 3.5263605246161616, 'lagoon': 2.833213344056216, 'with': 0.32768740706548005, 'reef': 2.1690004311288793, 'as': 0.5559460590464603, 'least': 3.120895416507997, 'to': 0.24249848726573936, 'our': 6.420198490488812, 'investigate': 3.120895416507997, 'sp': 2.4277482359480516}, {'high': 1.3862943611198906, 'coral': 0.1941560144409574, 'formation': 3.120895416507997, 'indicates': 3.5263605246161616, 'region': 2.0222831278398874, 'content': 2.6100697927420065, 'in': 0.13536130584140893, 'similarity': 3.120895416507997, 'present': 1.65455834771457, 'area': 1.7346010553881064, 'on': 0.5306282510621704, 'studies': 1.916922612182061, 'h': 2.833213344056216, 'genera': 2.6100697927420065, 'reported': 3.120895416507997, 'alone': 3.5263605246161616, 'shipwreck': 4.219507705176107, 'bay': 5.666426688112432, 'species': 2.556635625568898, 'for': 0.870636142515691, 'these': 1.1749852674526837, 'waters': 2.1400661634962708, 'study': 0.7537718023763802, 'showed': 1.3862943611198906, 'scattered': 4.219507705176107, 'location': 2.4277482359480516, 'comparison': 2.6100697927420065, 'diverse': 2.6100697927420065, 'biologically': 4.219507705176107, 'etc': 2.833213344056216, 'was': 0.4353180712578455, 'serve': 3.5263605246161616, 'threats': 3.5263605246161616, 'north': 6.241790833015994, 'well': 2.1400661634962708, 'to': 0.3031231090821742, 'as': 2.2237842361858413, 'developed': 4.855496471896103, 'along': 4.547195112241587, 'activities': 2.1400661634962708, 'calamities': 4.219507705176107, 'concept': 6.241790833015994, 'artificial': 10.579081573848484, 'scleractinian': 5.750767836546183, 'under': 1.821612432377736, 'cars': 4.219507705176107, 'facing': 4.219507705176107, 'substratum': 8.439015410352214, 'increase': 2.1400661634962708, 'while': 1.916922612182061, 'corals': 2.454930970541854, 'of': 0.14815085785140683, 'proximity': 4.219507705176107, 'are': 1.163843090899442, 'the': 0.47764741039489805, 'strengthen': 4.219507705176107, 'due': 3.4692021107762128, 'serving': 4.219507705176107, 'parallel': 3.5263605246161616, 'areas': 4.044566255679775, 'reef': 5.061001005967385, 'with': 1.9661244423928803, 'that': 0.4353180712578455, 'nicobar': 4.219507705176107, 'marine': 2.0222831278398874, 'adapt': 4.219507705176107, 'diversity': 4.044566255679775, 'globally': 3.5263605246161616, 'ecosystem': 2.4277482359480516, 'four': 2.0222831278398874, 'can': 1.580450375560848, 'healthy': 2.4277482359480516, 'biodiversity': 3.120895416507997, 'be': 0.664159643686693, 'help': 2.833213344056216, 'islands': 4.547195112241587, 'shipwrecks': 16.878030820704428, 'natural': 6.8207926683623805, 'anthropogenic': 2.4277482359480516, 'abandoned': 4.219507705176107, 'modern': 2.6100697927420065, 'tyres': 4.219507705176107, 'devastation': 4.219507705176107, 'ball': 4.219507705176107, 'and': 0.014815085785140682, 'is': 0.6966133885364316, 'one': 2.4475508632442313, 'number': 1.821612432377736, 'andaman': 3.120895416507997}, {'swells': 4.219507705176107, 'hurricanes': 4.219507705176107, 'impacts': 4.219507705176107, 'developed': 2.4277482359480516, 'one': 1.2237754316221157, 'several': 2.833213344056216, 'substrate': 3.120895416507997, 'presence': 1.65455834771457, 'into': 1.821612432377736, 'decreases': 4.219507705176107, 'cover': 3.120895416507997, 'increases': 4.219507705176107, 'significant': 4.547195112241587, 'using': 1.329135947279942, 'puerto': 4.219507705176107, 'were': 1.0118712769435978, 'growth': 1.65455834771457, 'cpce': 3.5263605246161616, 'extensions': 4.219507705176107, 'excel': 3.5263605246161616, 'count': 3.5263605246161616, 'point': 2.6100697927420065, 'with': 0.6553748141309601, 'annually': 4.219507705176107, 'collected': 1.821612432377736, 'presented': 2.6100697927420065, 'withstood': 4.219507705176107, 'grounding': 4.219507705176107, 'type': 2.833213344056216, 'bare': 4.219507705176107, 'frequently': 4.219507705176107, 'normally': 4.219507705176107, 'individual': 6.241790833015994, 'monitoring': 9.710992943792206, 'after': 3.30911669542914, 'typical': 4.219507705176107, 'expanding': 4.219507705176107, 'outplanted': 12.658523115528322, 'countries': 4.219507705176107, 'and': 0.13333577206626615, 'level': 2.833213344056216, 'acropora': 0.45830758948254424, 'expansion': 6.241790833015994, 'operations': 4.219507705176107, 'structure': 2.0222831278398874, 'for': 0.4353180712578455, 'whole': 4.219507705176107, 'increasing': 2.2735975561207935, 'an': 1.1749852674526837, 'from': 1.328319287373386, 'here': 2.0222831278398874, 'nursery': 3.5263605246161616, 'broader': 4.219507705176107, 'initial': 2.833213344056216, 'asexual': 7.052721049232323, 'last': 2.833213344056216, 'on': 0.5306282510621704, 'goals': 4.219507705176107, 'hard': 3.5263605246161616, 'over': 4.044566255679775, 'have': 4.002527521231624, 'expanded': 4.219507705176107, 'monitor': 3.5263605246161616, 'effective': 3.120895416507997, 'overgrown': 3.5263605246161616, 'cervicornis': 5.666426688112432, 'of': 0.14815085785140683, 'the': 0.35823555779617355, 'reduction': 3.5263605246161616, 'in': 0.31584304696328747, 'years': 8.49964003216865, 'rico': 4.219507705176107, 'just': 4.219507705176107, 'sites': 4.044566255679775, 'by': 0.8256904308115738, 'usa': 3.5263605246161616, 'new': 1.821612432377736, 'locations': 2.833213344056216, 'proven': 4.219507705176107, 'abundance': 2.833213344056216, 'populations': 2.2735975561207935, 'local': 2.833213344056216, 'a': 0.9220946344473294, 'focuses': 4.219507705176107, 'to': 0.24249848726573936, 'decade': 3.5263605246161616, 'as': 1.1118921180929207, 'outplanting': 12.658523115528322, 'grow': 4.219507705176107, 'be': 0.664159643686693, 'colonies': 2.4475508632442313, 'relocate': 4.219507705176107, 'coral': 0.7766240577638296, 'programs': 8.439015410352214, 'research': 2.1400661634962708, 'created': 5.666426688112432, 'multiple': 3.120895416507997, 'colony': 1.916922612182061, 'corals': 2.454930970541854, 'recruitment': 3.120895416507997, 'becomes': 4.219507705176107, 'complicated': 4.219507705176107, 'used': 1.65455834771457, 'become': 3.120895416507997, 'etc': 2.833213344056216, 'intertwine': 4.219507705176107, 'reef': 0.7230001437096264, 'reproduction': 3.120895416507997, 'are': 2.327686181798884, 'useful': 4.219507705176107, 'tags': 4.219507705176107, 'caribbean': 2.6100697927420065, 'they': 2.2735975561207935, 'longerterm': 4.219507705176107, 'conducted': 2.1400661634962708, 'should': 3.5263605246161616, 'is': 0.3483066942682158, 'at': 4.091551617569756, 'look': 3.5263605246161616, 'analyzed': 2.833213344056216, 'scale': 2.833213344056216, 'fragmentation': 2.833213344056216, 'health': 6.241790833015994, 'where': 2.2735975561207935, 'considers': 4.219507705176107, 'these': 1.1749852674526837, 'thickets': 12.658523115528322, 'through': 4.547195112241587, 'community': 6.241790833015994, 'selfsustaining': 4.219507705176107, 'recorded': 1.916922612182061, 'that': 1.3059542137735365, 'thicket': 4.219507705176107, 'size': 2.1400661634962708, 'more': 1.580450375560848, 'changes': 2.6100697927420065, 'or': 1.2750687260096663, 'photomosaics': 12.658523115528322, 'tool': 3.120895416507997, 'few': 2.833213344056216, 'this': 0.3693601034660482}, {'from': 0.664159643686693, 'input': 3.5263605246161616, 'was': 0.4353180712578455, 'here': 2.0222831278398874, 'originally': 4.219507705176107, 'an': 1.1749852674526837, 'or': 1.2750687260096663, 'gene': 5.220139585484013, 'as': 1.1118921180929207, 'to': 0.12124924363286968, 'corals': 0.8183103235139513, 'reevaluation': 4.219507705176107, 'season': 2.6100697927420065, 'may': 1.5114575040738967, 'tested': 4.219507705176107, 'acropora': 0.45830758948254424, 'structure': 2.0222831278398874, 'differences': 2.0222831278398874, 'spawners': 8.439015410352214, 'not': 2.4475508632442313, 'those': 2.6100697927420065, 'genetic': 10.579081573848484, 'influence': 8.439015410352214, 'western': 21.846267915555977, 'since': 3.120895416507997, 'reefs': 1.7746063900018054, 'among': 2.2735975561207935, 'regions': 2.833213344056216, 'synchronous': 3.5263605246161616, 'australian': 25.317046231056644, 'requires': 4.219507705176107, 'genetics': 4.219507705176107, 'hypothesized': 3.5263605246161616, 'population': 2.4277482359480516, 'the': 0.17911777889808678, 'of': 0.11852068628112546, 'connection': 8.439015410352214, 'coral': 0.7766240577638296, 'because': 2.4277482359480516, 'that': 2.1765903562892275, 'been': 3.30911669542914, 'are': 1.745764636349163, 'associated': 2.2735975561207935, 'on': 1.0612565021243408, 'flow': 5.666426688112432, 'long': 3.120895416507997, 'connected': 4.219507705176107, 'examine': 2.4277482359480516, 'indonesia': 6.420198490488812, 'longdistance': 4.219507705176107, 'genetically': 8.439015410352214, 'indicating': 2.6100697927420065, 'timing': 2.833213344056216, 'populations': 13.641585336724761, 'seasonal': 5.220139585484013, 'spawning': 9.094390224483174, 'annual': 3.120895416507997, 'in': 0.13536130584140893, 'via': 3.5263605246161616, 'dispersal': 4.219507705176107, 'mass': 2.1400661634962708, 'and': 0.0888905147108441, 'negligible': 4.219507705176107, 'thought': 3.5263605246161616, 'it': 2.1680269784939137, 'a': 0.23052365861183235, 'independent': 3.5263605246161616, 'used': 1.65455834771457, 'spring': 3.120895416507997, 'scleractinian': 1.916922612182061, 'tenuis': 8.439015410352214, 'australia': 7.052721049232323, 'analysis': 1.821612432377736, 'between': 2.772588722239781, 'glacial': 4.219507705176107, 'microsatellite': 3.5263605246161616, 'has': 3.987407841839826, 'data': 2.1400661634962708, 'showed': 1.3862943611198906, 'this': 1.1080803103981447, 'indonesian': 12.658523115528322, 'highly': 2.4277482359480516, 'importantly': 4.219507705176107, 'divergence': 3.5263605246161616, 'patterns': 3.4692021107762128, 'is': 0.3483066942682158, 'with': 0.6553748141309601, 'time': 2.0222831278398874, 'two': 1.2750687260096663, 'differentiated': 4.219507705176107, 'dominated': 5.220139585484013, 'by': 0.8256904308115738, 'autumn': 4.219507705176107, 'important': 2.0222831278398874, 'furthermore': 3.5263605246161616, 'indicates': 3.5263605246161616, 'recolonization': 4.219507705176107, 'inshore': 3.120895416507997, 'last': 2.833213344056216, 'we': 1.3862943611198906, 'maximum': 2.6100697927420065}, {'predation': 2.833213344056216, 'more': 1.580450375560848, 'might': 3.120895416507997, 'stressful': 3.5263605246161616, 'overgrowth': 4.219507705176107, 'that': 0.870636142515691, 'd': 14.16606672028108, 'were': 1.5178069154153966, 'm': 4.96367504314371, 'in': 0.36096348224375713, 'is': 0.3483066942682158, 'at': 1.6366206470279026, 'photosystem': 4.219507705176107, 'oneway': 4.219507705176107, 'p': 18.188780448966348, 'from': 1.328319287373386, 'compared': 1.329135947279942, 'both': 2.658271894559884, 'peak': 3.5263605246161616, 'high': 2.772588722239781, 'flicenflac': 4.219507705176107, 'to': 0.4849969745314787, 'as': 0.5559460590464603, 'march': 3.5263605246161616, 'se': 12.658523115528322, 'increased': 2.2735975561207935, 'august': 4.219507705176107, 'on': 1.0612565021243408, 'for': 1.3059542137735365, 'colonies': 9.790203452976925, 'significant': 2.2735975561207935, 'study': 0.7537718023763802, 'colony': 1.916922612182061, 'mean': 9.36268624952399, 'results': 1.2750687260096663, 'suggest': 2.4277482359480516, 'overgrown': 3.5263605246161616, 'drupella': 3.5263605246161616, 'part': 2.2735975561207935, 'during': 3.30911669542914, 'lagoonal': 8.439015410352214, 'zooxanthellae': 2.833213344056216, 'muricata': 18.72537249904798, 'summer': 21.846267915555977, 'boryanacovered': 8.439015410352214, 'acropora': 0.45830758948254424, 'gastropod': 3.5263605246161616, 'a': 1.6136656102828264, 'vulnerable': 4.219507705176107, 'padina': 4.219507705176107, 'of': 0.19259611520682887, 'the': 0.38808852094585466, 'percentage': 14.16606672028108, 'this': 0.3693601034660482, 'respectively': 1.7346010553881064, 'winter': 8.49964003216865, 'boryana': 16.878030820704428, 'macroalga': 4.219507705176107, 'covered': 6.241790833015994, 'and': 0.1629659436365475, 'by': 1.2385356462173607, 'density': 10.440279170968026, 'mauritius': 3.5263605246161616, 'those': 2.6100697927420065, 'cornus': 25.317046231056644, 'coverage': 3.120895416507997, 'anova': 3.5263605246161616, 'corallivorous': 3.5263605246161616, 'was': 1.741272285031382, 'coincided': 3.5263605246161616, 'individuals': 9.36268624952399, 'however': 1.3862943611198906, 'low': 2.2735975561207935, 'observed': 1.4469189829363254, 'densities': 2.833213344056216, 'be': 1.328319287373386, 'than': 1.821612432377736, 'healthy': 2.4277482359480516, 'ii': 2.833213344056216, 'investigated': 2.0222831278398874, 'with': 0.6553748141309601, 'macroalgal': 3.5263605246161616, 'potentially': 3.120895416507997, 'winters': 4.219507705176107, 'correlation': 5.666426688112432, 'positive': 3.5263605246161616, 'coral': 0.3883120288819148, 'macroalgacovered': 8.439015410352214, 'shallow': 4.547195112241587, 'lower': 2.2735975561207935, 'these': 1.1749852674526837, 'obtained': 2.833213344056216, 'between': 1.3862943611198906, 'r': 2.6100697927420065, 'seasons': 3.120895416507997, 'quantum': 4.219507705176107, 'yield': 4.219507705176107, 'psii': 4.219507705176107, 'hospite': 4.219507705176107, 'pearson': 3.5263605246161616, 'effective': 3.120895416507997, 'measured': 2.6100697927420065, 'significantly': 1.821612432377736, 'higher': 2.0222831278398874, 'boryanaaffected': 4.219507705176107, 'section': 3.5263605246161616}, {'plagued': 4.219507705176107, 'subsequent': 3.120895416507997, 'contribute': 3.5263605246161616, 'likely': 2.833213344056216, 'pathways': 4.219507705176107, 'important': 2.0222831278398874, 'higher': 2.0222831278398874, 'reefs': 1.7746063900018054, 'findings': 3.120895416507997, 'our': 2.1400661634962708, 'pathogens': 3.5263605246161616, 'potentially': 3.120895416507997, 'it': 1.0840134892469568, 'laccase': 4.219507705176107, 'increased': 4.547195112241587, 'immunecompromised': 4.219507705176107, 'system': 2.4277482359480516, 'capacity': 3.5263605246161616, 'might': 3.120895416507997, 'facilitating': 4.219507705176107, 'a': 0.23052365861183235, 'we': 1.3862943611198906, 'defense': 8.439015410352214, 'suggest': 2.4277482359480516, 'either': 6.241790833015994, 'patterns': 3.4692021107762128, 'as': 1.1118921180929207, 'mortality': 4.855496471896103, 'impact': 4.219507705176107, 'microbiome': 4.219507705176107, 'synthesis': 4.219507705176107, 'on': 2.1225130042486815, 'predation': 14.16606672028108, 'amplify': 4.219507705176107, 'coral': 1.1649360866457443, 'global': 2.6100697927420065, 'suppress': 8.439015410352214, 'by': 0.8256904308115738, 'substrates': 3.120895416507997, 'involved': 3.5263605246161616, 'in': 0.31584304696328747, 'multitude': 4.219507705176107, 'not': 1.2237754316221157, 'stressors': 3.5263605246161616, 'mitigate': 4.219507705176107, 'only': 1.65455834771457, 'nutrient': 28.088058748571974, 'local': 2.833213344056216, 'reefbuilding': 2.833213344056216, 'face': 4.219507705176107, 'change': 2.1400661634962708, 'tissue': 2.4277482359480516, 'but': 1.329135947279942, 'implicating': 4.219507705176107, 'levels': 5.220139585484013, 'can': 1.580450375560848, 'from': 2.656638574746772, 'tyrosinasetype': 8.439015410352214, 'also': 2.772588722239781, 'these': 1.1749852674526837, 'dysbiosis': 4.219507705176107, 'effects': 3.120895416507997, 'of': 0.10370560049598478, 'the': 0.2089707420477679, 'climate': 2.1400661634962708, 'corals': 4.091551617569756, 'pollution': 9.36268624952399, 'phenoloxidase': 3.5263605246161616, 'respond': 4.219507705176107, 'repair': 4.219507705176107, 'microbial': 3.5263605246161616, 'components': 3.120895416507997, 'infections': 4.219507705176107, 'follow': 4.219507705176107, 'mechanical': 8.439015410352214, 'here': 2.0222831278398874, 'measured': 2.6100697927420065, 'pathway': 4.219507705176107, 'immune': 9.36268624952399, 'and': 0.0888905147108441, 'enrichment': 16.878030820704428, 'laccasetype': 4.219507705176107, 'po': 8.439015410352214, 'which': 1.0840134892469568, 'are': 0.581921545449721, 'situ': 2.6100697927420065, 'key': 3.120895416507997, 'melanin': 3.5263605246161616, 'that': 1.741272285031382, 'combination': 3.120895416507997, 'wound': 4.219507705176107, 'were': 0.5059356384717989, 'exposed': 2.833213344056216, 'such': 1.580450375560848, 'ambient': 3.120895416507997, 'need': 2.833213344056216, 'threats': 3.5263605246161616, 'activities': 2.1400661634962708, 'or': 2.5501374520193325, 'healing': 4.219507705176107, 'enriched': 4.219507705176107, 'with': 0.32768740706548005, 'injury': 4.219507705176107, 'no': 2.0222831278398874, 'damage': 11.332853376224865, 'negative': 3.5263605246161616, 'parrotfishes': 4.219507705176107, 'both': 1.329135947279942, 'leads': 4.219507705176107, 'activity': 7.052721049232323, 'enzymes': 4.219507705176107, 'highlight': 3.5263605246161616, 'response': 1.916922612182061, 'significantly': 1.821612432377736, 'decreased': 2.6100697927420065, 'under': 1.821612432377736, 'disease': 2.4277482359480516, 'suggesting': 3.120895416507997, 'to': 0.42437235271504387, 'became': 4.219507705176107}, {'role': 2.4277482359480516, 'designs': 4.219507705176107, 'experimental': 4.219507705176107, 'variability': 4.219507705176107, 'findings': 3.120895416507997, 'highlight': 3.5263605246161616, 'response': 1.916922612182061, 'conserved': 3.5263605246161616, 'are': 0.581921545449721, 'results': 1.2750687260096663, 'source': 2.6100697927420065, 'sitespecific': 3.5263605246161616, 'genets': 4.219507705176107, 'consistent': 6.241790833015994, 'timedependent': 4.219507705176107, 'remarkably': 4.219507705176107, 'mechanisms': 4.219507705176107, 'temperature': 1.65455834771457, 'variation': 8.49964003216865, 'hampering': 4.219507705176107, 'responses': 7.283244707844155, 'displayed': 2.833213344056216, 'dynamic': 4.219507705176107, 'organisms': 2.6100697927420065, 'shed': 3.5263605246161616, 'msap': 4.219507705176107, 'gap': 4.219507705176107, 'obscure': 4.219507705176107, 'consequences': 3.5263605246161616, 'acclimatory': 4.219507705176107, 'changes': 13.050348963710032, 'and': 0.04444525735542205, 'for': 0.4353180712578455, 'such': 4.741351126682544, 'these': 5.874926337263418, 'between': 1.3862943611198906, 'with': 0.32768740706548005, 'examining': 3.5263605246161616, 'understanding': 1.916922612182061, 'investigating': 3.5263605246161616, 'epigenetic': 21.097538525880534, 'ascertain': 4.219507705176107, 'aims': 2.833213344056216, 'links': 4.219507705176107, 'across': 2.6100697927420065, 'sea': 1.821612432377736, 'temporal': 4.219507705176107, 'determined': 3.5263605246161616, 'unfortunately': 3.5263605246161616, 'corals': 0.8183103235139513, 'observed': 1.4469189829363254, 'subsequent': 3.120895416507997, 'ability': 3.5263605246161616, 'to': 0.4849969745314787, 'as': 1.667838177139381, 'our': 2.1400661634962708, 'is': 0.3483066942682158, 'patterns': 3.4692021107762128, 'shown': 2.833213344056216, 'remain': 3.5263605246161616, 'wide': 3.120895416507997, 'conditions': 4.044566255679775, 'have': 1.000631880307906, 'culebra': 4.219507705176107, 'been': 1.65455834771457, 'that': 0.4353180712578455, 'dna': 17.63180262308081, 'knowledge': 2.833213344056216, 'current': 2.1400661634962708, 'water': 1.5114575040738967, 'change': 2.1400661634962708, 'work': 3.120895416507997, 'methylation': 21.097538525880534, 'also': 1.3862943611198906, 'in': 0.4060839175242268, 'pr': 3.5263605246161616, 'plastic': 4.219507705176107, 'nature': 3.120895416507997, 'extent': 4.219507705176107, 'mostly': 2.833213344056216, 'signals': 3.5263605246161616, 'a': 1.1526182930591617, 'environmental': 5.203803166164319, 'range': 2.4277482359480516, 'modifications': 8.439015410352214, 'phenotypic': 4.219507705176107, 'polymorphic': 4.219507705176107, 'scleractinian': 1.916922612182061, 'present': 1.65455834771457, 'sites': 2.0222831278398874, 'by': 0.8256904308115738, 'magnitude': 4.219507705176107, 'subjects': 4.219507705176107, 'them': 2.6100697927420065, 'genomewide': 4.219507705176107, 'staghorn': 2.833213344056216, 'coral': 0.5824680433228722, 'acropora': 0.45830758948254424, 'island': 1.821612432377736, 'during': 1.65455834771457, 'under': 1.821612432377736, 'month': 3.120895416507997, 'period': 2.0222831278398874, 'total': 2.6100697927420065, 'loci': 4.219507705176107, 'stress': 2.4277482359480516, 'were': 1.0118712769435978, 'identified': 2.2735975561207935, 'participate': 3.5263605246161616, 'including': 4.2801323269925415, 'light': 3.120895416507997, 'using': 1.329135947279942, 'extends': 4.219507705176107, 'restriction': 4.219507705176107, 'on': 0.5306282510621704, 'methylationsensitive': 4.219507705176107, 'of': 0.14815085785140683, 'cervicornis': 2.833213344056216, 'the': 0.3283825946464924, 'natural': 2.2735975561207935, 'amplified': 3.5263605246161616, 'polymorphism': 4.219507705176107, 'into': 1.821612432377736, 'studied': 1.65455834771457, 'correlated': 3.5263605246161616, 'importance': 2.833213344056216, 'among': 2.2735975561207935, 'fragments': 2.1400661634962708, 'overall': 3.5263605246161616, 'significantly': 1.821612432377736, 'seasonal': 7.830209378226019}, {'in': 0.04512043528046964, 'poster': 4.219507705176107, 'as': 0.5559460590464603, 'been': 1.65455834771457, 'ld': 4.219507705176107, 'following': 2.4277482359480516, 'that': 0.4353180712578455, 'inform': 4.219507705176107, 'presentation': 4.219507705176107, 'to': 0.06062462181643484, 'pleased': 4.219507705176107, 'organizing': 4.219507705176107, 'l': 3.5263605246161616, 'of': 0.04444525735542205, 'this': 0.3693601034660482, 'accepted': 3.5263605246161616, 'lccbes': 4.219507705176107, 'one': 1.2237754316221157, 'submitting': 4.219507705176107, 'for': 0.4353180712578455, 'congress': 4.219507705176107, 'the': 0.08955888944904339, 'sciences': 4.219507705176107, 'are': 0.581921545449721, 'committee': 4.219507705176107, 'paper': 3.5263605246161616, 'has': 1.329135947279942, 'your': 3.5263605246161616, 'you': 3.5263605246161616, 'behalf': 4.219507705176107, 'biological': 4.219507705176107, 'on': 1.0612565021243408, 'iccbes': 4.219507705176107, 'th': 3.5263605246161616, 'chemical': 4.219507705176107, 'submission': 4.219507705176107, 'international': 3.120895416507997, 'and': 0.014815085785140682, 'conference': 3.120895416507997, 'thanks': 3.120895416507997, 'environmental': 1.7346010553881064, 'we': 1.3862943611198906}, {'distinct': 2.6100697927420065, 'growth': 1.65455834771457, 'algal': 4.219507705176107, 'bites': 4.219507705176107, 'damage': 2.833213344056216, 'various': 2.6100697927420065, 'due': 1.7346010553881064, 'fish': 2.833213344056216, 'pink': 4.219507705176107, 'india': 3.120895416507997, 'occurred': 2.833213344056216, 'survive': 3.5263605246161616, 'stress': 4.855496471896103, 'documents': 4.219507705176107, 'contributionoriginality': 4.219507705176107, 'applications': 4.219507705176107, 'including': 2.1400661634962708, 'biomedical': 4.219507705176107, 'employed': 3.5263605246161616, 'could': 2.1400661634962708, 'which': 1.0840134892469568, 'analyzed': 2.833213344056216, 'be': 1.328319287373386, 'study': 2.261315407129141, 'conservation': 2.1400661634962708, 'nonpigmented': 4.219507705176107, 'in': 0.31584304696328747, 'encrusting': 7.052721049232323, 'avoid': 8.439015410352214, 'bleached': 3.120895416507997, 'symbiotic': 3.120895416507997, 'not': 1.2237754316221157, 'has': 1.329135947279942, 'as': 3.335676354278762, 'high': 4.1588830833596715, 'to': 0.4849969745314787, 'under': 1.821612432377736, 'factors': 2.0222831278398874, 'required': 3.5263605246161616, 'pigmentation': 16.878030820704428, 'breakage': 4.219507705176107, 'corals': 6.54648258811161, 'been': 1.65455834771457, 'blue': 21.158163147696968, 'environment': 2.833213344056216, 'during': 3.30911669542914, 'colours': 4.219507705176107, 'complete': 2.833213344056216, 'zooxanthellae': 5.666426688112432, 'investigated': 2.0222831278398874, 'with': 0.32768740706548005, 'restoration': 2.6100697927420065, 'by': 0.8256904308115738, 'interactions': 3.5263605246161616, 'regard': 3.5263605246161616, 'mannar': 6.241790833015994, 'studied': 1.65455834771457, 'reefs': 1.7746063900018054, 'stressed': 4.219507705176107, 'thus': 2.4277482359480516, 'their': 2.5501374520193325, 'some': 4.547195112241587, 'a': 0.6915709758354971, 'extensively': 3.5263605246161616, 'diseases': 3.5263605246161616, 'needed': 2.833213344056216, 'sign': 4.219507705176107, 'coral': 0.7766240577638296, 'exhibition': 4.219507705176107, 'around': 2.1400661634962708, 'displayed': 5.666426688112432, 'is': 1.0449200828046474, 'distribution': 1.916922612182061, 'nonbleached': 4.219507705176107, 'diversity': 2.0222831278398874, 'being': 3.5263605246161616, 'present': 1.65455834771457, 'industrial': 4.219507705176107, 'however': 1.3862943611198906, 'documentation': 3.5263605246161616, 'bleaching': 14.56648941568831, 'adaptation': 3.120895416507997, 'certain': 3.120895416507997, 'events': 5.220139585484013, 'immunological': 3.5263605246161616, 'sedimentation': 3.120895416507997, 'and': 0.22222628677711023, 'widely': 4.219507705176107, 'aspects': 3.5263605246161616, 'fragments': 2.1400661634962708, 'condition': 1.821612432377736, 'the': 0.2089707420477679, 'of': 0.13333577206626615, 'massive': 8.49964003216865, 'further': 4.855496471896103, 'studies': 1.916922612182061, 'event': 7.830209378226019, 'islands': 2.2735975561207935, 'gulf': 5.220139585484013, 'biosphere': 4.219507705176107, 'time': 2.0222831278398874, 'well': 2.1400661634962708, 'reserve': 3.5263605246161616, 'acropora': 0.9166151789650885, 'marine': 2.0222831278398874, 'sp': 9.710992943792206, 'turbinaria': 8.439015410352214, 'are': 1.163843090899442, 'first': 2.2735975561207935, 'taxonomy': 3.5263605246161616, 'other': 4.96367504314371, 'have': 1.000631880307906, 'purple': 7.052721049232323, 'response': 3.833845224364122, 'or': 1.2750687260096663, 'world': 3.120895416507997, 'food': 3.120895416507997, 'this': 1.4774404138641928, 'supplying': 4.219507705176107, 'temperature': 4.96367504314371, 'variation': 2.833213344056216, 'from': 1.328319287373386, 'reported': 3.120895416507997, 'compound': 4.219507705176107, 'such': 6.321801502243392, 'for': 1.3059542137735365, 'genomic': 3.5263605246161616, 'pigment': 3.5263605246161616, 'showing': 3.5263605246161616, 'responsible': 3.120895416507997}, {'linkspringercom': 4.219507705176107, 'at': 0.8183103235139513, 'final': 4.219507705176107, 'text': 3.5263605246161616, 'following': 2.4277482359480516, 'must': 4.219507705176107, 'link': 8.439015410352214, 'of': 0.014815085785140682, 'source': 2.6100697927420065, 'original': 4.219507705176107, 'given': 3.5263605246161616, 'acknowledgement': 4.219507705176107, 'later': 4.219507705176107, 'after': 1.65455834771457, 'months': 2.6100697927420065, 'available': 8.439015410352214, 'publicly': 4.219507705176107, 'made': 2.6100697927420065, 'accompanied': 4.219507705176107, 'it': 1.0840134892469568, 'shall': 4.219507705176107, 'personal': 4.219507705176107, 'for': 0.870636142515691, 'article': 12.658523115528322, 'only': 3.30911669542914, 'berlin': 4.219507705176107, 'official': 4.219507705176107, 'springerverlag': 4.219507705176107, 'on': 1.0612565021243408, 'your': 10.579081573848484, 'is': 2.089840165609295, 'are': 0.581921545449721, 'rights': 4.219507705176107, 'protected': 3.5263605246161616, 'published': 3.5263605246161616, 'not': 1.2237754316221157, 'posting': 4.219507705176107, 'copyright': 4.219507705176107, 'the': 0.2089707420477679, 'website': 8.439015410352214, 'further': 2.4277482359480516, 'and': 0.05926034314056273, 'use': 5.666426688112432, 'please': 4.219507705176107, 'selfarchived': 4.219507705176107, 'repositories': 4.219507705176107, 'repository': 4.219507705176107, 'by': 1.2385356462173607, 'or': 1.2750687260096663, 'held': 4.219507705176107, 'springers': 4.219507705176107, 'be': 1.328319287373386, 'in': 0.09024087056093928, 'electronic': 3.5263605246161616, 'publication': 12.658523115528322, 'any': 2.6100697927420065, 'eoffprint': 4.219507705176107, 'all': 1.7346010553881064, 'to': 0.1818738654493045, 'deposit': 3.5263605246161616, 'if': 3.5263605246161616, 'own': 4.219507705176107, 'inserted': 4.219507705176107, 'you': 7.052721049232323, 'a': 0.23052365861183235, 'selfarchive': 4.219507705176107, 'provided': 7.052721049232323, 'this': 0.3693601034660482, 'accepted': 7.052721049232323, 'heidelberg': 4.219507705176107, 'wish': 4.219507705176107, 'manuscript': 8.439015410352214, 'version': 8.439015410352214, 'exclusively': 4.219507705176107, 'may': 1.5114575040738967}, {'reef': 0.7230001437096264, 'with': 0.32768740706548005, 'symbiosis': 4.219507705176107, 'live': 2.833213344056216, 'was': 0.4353180712578455, 'for': 0.4353180712578455, 'conservation': 2.1400661634962708, 'study': 0.7537718023763802, 'a': 0.23052365861183235, 'providing': 3.120895416507997, 'at': 0.8183103235139513, 'intercept': 3.120895416507997, 'baseline': 4.219507705176107, 'tiaka': 8.439015410352214, 'found': 1.4469189829363254, 'this': 0.7387202069320964, 'research': 4.2801323269925415, 'dominated': 2.6100697927420065, 'organisms': 7.830209378226019, 'the': 0.11941185259872451, 'monitoring': 2.4277482359480516, 'out': 2.0222831278398874, 'of': 0.05926034314056273, 'oilfield': 8.439015410352214, 'aims': 2.833213344056216, 'find': 3.120895416507997, 'composition': 2.833213344056216, 'coral': 0.970780072204787, 'to': 0.06062462181643484, 'as': 0.5559460590464603, 'census': 4.219507705176107, 'benthic': 14.105442098464646, 'and': 0.05926034314056273, 'conducted': 2.1400661634962708, 'genera': 2.6100697927420065, 'july': 4.219507705176107, 'used': 1.65455834771457, 'ecosystems': 2.2735975561207935, 'visual': 3.5263605246161616, 'results': 1.2750687260096663, 'line': 3.120895416507997, 'transect': 2.6100697927420065, 'in': 0.13536130584140893, 'method': 2.0222831278398874, 'that': 0.870636142515691, 'were': 1.0118712769435978, 'consisting': 8.439015410352214, 'species': 3.4088475007585304, 'by': 0.4128452154057869, 'genus': 2.833213344056216, 'management': 3.120895416507997, 'indicated': 2.2735975561207935, 'acropora': 0.45830758948254424}, {'environment': 2.833213344056216, 'signs': 4.219507705176107, 'help': 2.833213344056216, 'illness': 4.219507705176107, 'them': 2.6100697927420065, 'colonies': 1.2237754316221157, 'for': 1.741272285031382, 'have': 1.000631880307906, 'scientists': 7.052721049232323, 'coral': 0.5824680433228722, 'restore': 4.219507705176107, 'often': 4.219507705176107, 'presence': 1.65455834771457, 'or': 1.2750687260096663, 'ill': 4.219507705176107, 'causing': 3.120895416507997, 'bacteria': 6.241790833015994, 'is': 1.3932267770728632, 'more': 1.580450375560848, 'around': 2.1400661634962708, 'and': 0.029630171570281364, 'used': 1.65455834771457, 'danger': 4.219507705176107, 'mucus': 7.052721049232323, 'reefs': 2.661909585002708, 'animals': 3.5263605246161616, 'between': 1.3862943611198906, 'a': 0.6915709758354971, 'discovered': 4.219507705176107, 'association': 3.120895416507997, 'planted': 4.219507705176107, 'samples': 1.916922612182061, 'but': 1.329135947279942, 'baby': 4.219507705176107, 'corals': 5.728172264597659, 'to': 0.42437235271504387, 'fragments': 2.1400661634962708, 'any': 2.6100697927420065, 'now': 3.5263605246161616, 'harming': 4.219507705176107, 'colony': 1.916922612182061, 'select': 4.219507705176107, 'build': 4.219507705176107, 'snotty': 4.219507705176107, 'called': 8.439015410352214, 'bad': 4.219507705176107, 'are': 1.745764636349163, 'plants': 4.219507705176107, 'healthy': 4.855496471896103, 'be': 0.664159643686693, 'that': 1.741272285031382, 'deposit': 3.5263605246161616, 'because': 2.4277482359480516, 'these': 1.1749852674526837, 'an': 1.1749852674526837, 'succeed': 4.219507705176107, 'grows': 3.5263605246161616, 'vital': 3.5263605246161616, 'planting': 4.219507705176107, 'use': 2.833213344056216, 'substance': 4.219507705176107, 'trap': 4.219507705176107, 'before': 3.120895416507997, 'their': 1.2750687260096663, 'marine': 2.0222831278398874, 'tissues': 3.120895416507997, 'degrading': 4.219507705176107, 'without': 3.5263605246161616, 'enzyme': 4.219507705176107, 'get': 3.5263605246161616, 'phenoloxidase': 7.052721049232323, 'which': 1.0840134892469568, 'responsible': 3.120895416507997, 'measure': 3.5263605246161616, 'skeleton': 2.833213344056216, 'it': 2.1680269784939137, 'responding': 4.219507705176107, 'making': 3.5263605246161616, 'found': 1.4469189829363254, 'this': 0.3693601034660482, 'of': 0.07407542892570342, 'the': 0.17911777889808678, 'doing': 4.219507705176107, 'e': 2.4277482359480516, 'covering': 3.5263605246161616, 'orts': 4.219507705176107, 'we': 4.1588830833596715, 'take': 3.120895416507997, 'by': 0.4128452154057869, 'can': 4.741351126682544, 'so': 4.219507705176107, 'in': 0.18048174112187856, 'detect': 3.120895416507997, 'whether': 2.6100697927420065, 'harmful': 4.219507705176107, 'even': 2.833213344056216, 'shape': 3.5263605246161616, 'melanin': 7.052721049232323, 'shows': 3.5263605246161616}, {'exerted': 4.219507705176107, 'explaining': 4.219507705176107, 'component': 3.5263605246161616, 'dominates': 4.219507705176107, 'force': 8.439015410352214, 'it': 1.0840134892469568, 'flat': 2.833213344056216, 'also': 1.3862943611198906, 'r': 2.6100697927420065, 'determination': 3.5263605246161616, 'means': 4.219507705176107, 'play': 2.6100697927420065, 'fd': 4.219507705176107, 'and': 0.07407542892570342, 'drag': 12.658523115528322, 'shown': 2.833213344056216, 'cd': 3.5263605246161616, 'were': 1.5178069154153966, 'areas': 2.0222831278398874, 'parameterization': 4.219507705176107, 'in': 0.09024087056093928, 'its': 4.96367504314371, 'high': 1.3862943611198906, 'to': 0.24249848726573936, 'as': 1.667838177139381, 'was': 0.4353180712578455, 'moderate': 3.5263605246161616, 'exposed': 2.833213344056216, 'coefficients': 4.219507705176107, 'group': 2.2735975561207935, 'function': 3.120895416507997, 'global': 2.6100697927420065, 'an': 1.1749852674526837, 'aims': 2.833213344056216, 'of': 0.11852068628112546, 'the': 0.35823555779617355, 'by': 0.8256904308115738, 'studied': 1.65455834771457, 'species': 1.7044237503792652, 'elevations': 4.219507705176107, 'study': 0.7537718023763802, 'is': 0.3483066942682158, 'selected': 2.4277482359480516, 'environments': 3.120895416507997, 'at': 0.8183103235139513, 'main': 2.1400661634962708, 'show': 2.6100697927420065, 'rigid': 4.219507705176107, 'examining': 3.5263605246161616, 'with': 0.6553748141309601, 'reef': 0.7230001437096264, 'models': 4.219507705176107, 'acropora': 0.45830758948254424, 'for': 2.611908427547073, 'structure': 4.044566255679775, 'coral': 0.970780072204787, 'palmata': 5.220139585484013, 'total': 2.6100697927420065, 'under': 3.643224864755472, 'branches': 4.547195112241587, 'due': 1.7346010553881064, 'hydrodynamics': 4.219507705176107, 'this': 1.1080803103981447, 'conditions': 4.044566255679775, 'energy': 2.833213344056216, 'damping': 4.219507705176107, 'surface': 2.1400661634962708, 'colonies': 1.2237754316221157, 'important': 2.0222831278398874, 'power': 4.219507705176107, 'number': 1.821612432377736, 'role': 2.4277482359480516, 'inertia': 8.439015410352214, 'corals': 0.8183103235139513, 'equation': 3.5263605246161616, 'wave': 8.439015410352214, 'wavecurrent': 4.219507705176107, 'improving': 4.219507705176107, 'scale': 2.833213344056216, 'a': 1.8441892688946588, 'small': 3.120895416507997, 'single': 3.5263605246161616, 'experiments': 4.219507705176107, 'represented': 3.120895416507997, 'carried': 2.6100697927420065, 'capacity': 3.5263605246161616, 'steady': 8.439015410352214, 'out': 2.0222831278398874, 'forces': 3.5263605246161616, 'two': 2.5501374520193325, 'law': 4.219507705176107, 'flume': 8.439015410352214, 'different': 1.821612432377736, 'on': 0.5306282510621704, 'flow': 14.16606672028108, 'where': 2.2735975561207935, 'oscillatory': 8.439015410352214, 'be': 0.664159643686693, 'purpose': 2.2735975561207935, 'current': 2.1400661634962708, 'measured': 2.6100697927420065, 'well': 4.2801323269925415, 'used': 1.65455834771457, 'nearbed': 4.219507705176107, 'understanding': 1.916922612182061, 'inline': 4.219507705176107, 'velocities': 4.219507705176107, 'up': 2.6100697927420065, 'regimes': 4.219507705176107, 'water': 1.5114575040738967, 'd': 2.833213344056216, 'configurations': 4.219507705176107, 'fm': 4.219507705176107, 'results': 1.2750687260096663, 'that': 0.870636142515691, 'reynolds': 4.219507705176107, 'survive': 3.5263605246161616, 'over': 4.044566255679775, 'coefficient': 8.439015410352214, 'can': 1.580450375560848}, {'de': 4.219507705176107, 'mexico': 4.219507705176107, 'autonoma': 4.219507705176107, 'nacional': 4.219507705176107, 'logistical': 4.219507705176107, 'ongoing': 7.052721049232323, 'project': 7.052721049232323, 'in': 0.09024087056093928, 'for': 0.870636142515691, 'young': 4.219507705176107, 'akumal': 12.658523115528322, 'this': 0.3693601034660482, 'special': 3.120895416507997, 'thanks': 9.36268624952399, 'caribe': 4.219507705176107, 'role': 2.4277482359480516, 'research': 2.1400661634962708, 'hotel': 4.219507705176107, 'expert': 4.219507705176107, 'center': 3.5263605246161616, 'to': 0.3031231090821742, 'team': 4.219507705176107, 'the': 0.17911777889808678, 'was': 0.870636142515691, 'founding': 4.219507705176107, 'their': 2.5501374520193325, 'coral': 0.5824680433228722, 'funded': 4.219507705176107, 'possible': 2.833213344056216, 'owners': 4.219507705176107, 'advice': 4.219507705176107, 'mapping': 4.219507705176107, 'at': 1.6366206470279026, 'and': 0.029630171570281364, 'providing': 3.120895416507997, 'support': 3.5263605246161616, 'coralium': 4.219507705176107, 'spawning': 4.547195112241587, 'society': 4.219507705176107, 'dive': 4.219507705176107, 'by': 0.4128452154057869, 'universidad': 4.219507705176107, 'dedication': 4.219507705176107, 'staff': 4.219507705176107, 'charity': 4.219507705176107, 'conservation': 2.1400661634962708, 'from': 1.328319287373386, 'restoration': 2.6100697927420065, 'date': 4.219507705176107, 'reef': 0.7230001437096264, 'made': 2.6100697927420065}, {'arising': 4.219507705176107, 'limitations': 4.219507705176107, 'discussed': 3.5263605246161616, 'fifth': 4.219507705176107, 'important': 4.044566255679775, 'play': 5.220139585484013, 'duplicated': 4.219507705176107, 'consequences': 3.5263605246161616, 'for': 0.4353180712578455, 'finally': 4.219507705176107, 'fourth': 3.5263605246161616, 'facilitated': 4.219507705176107, 'suggesting': 3.120895416507997, 'pliopleistocene': 4.219507705176107, 'climatedriven': 4.219507705176107, 'after': 1.65455834771457, 'expansion': 3.120895416507997, 'experience': 4.219507705176107, 'an': 1.1749852674526837, 'had': 2.2735975561207935, 'faster': 3.5263605246161616, 'evolved': 4.219507705176107, 'genes': 8.439015410352214, 'occurred': 5.666426688112432, 'gene': 2.6100697927420065, 'that': 1.741272285031382, 'found': 4.340756948808976, 'examined': 6.8207926683623805, 'second': 4.219507705176107, 'five': 2.833213344056216, 'studies': 1.916922612182061, 'recent': 2.4277482359480516, 'chapter': 21.097538525880534, 'illuminate': 4.219507705176107, 'widespread': 3.5263605246161616, 'investigate': 3.120895416507997, 'dr': 3.5263605246161616, 'generated': 4.219507705176107, 'genomic': 3.5263605246161616, 'used': 1.65455834771457, 'i': 20.462378005087142, 'new': 1.821612432377736, 'or': 1.2750687260096663, 'yet': 3.120895416507997, 'colonization': 3.5263605246161616, 'competitors': 4.219507705176107, 'extinction': 8.439015410352214, 'current': 2.1400661634962708, 'climate': 6.420198490488812, 'their': 1.2750687260096663, 'by': 1.2385356462173607, 'can': 1.580450375560848, 'but': 1.329135947279942, 'most': 1.821612432377736, 'from': 0.664159643686693, 'addition': 2.6100697927420065, 'flow': 2.833213344056216, 'on': 1.0612565021243408, 'evidence': 2.6100697927420065, 'dissertation': 12.658523115528322, 'ecological': 13.050348963710032, 'hypothesized': 3.5263605246161616, 'have': 1.000631880307906, 'likely': 2.833213344056216, 'past': 3.5263605246161616, 'paleopolyploidy': 4.219507705176107, 'collectively': 4.219507705176107, 'be': 0.664159643686693, 'factors': 6.066849383519662, 'acropora': 5.499691073790531, 'largescale': 12.483581666031988, 'been': 1.65455834771457, 'biology': 2.833213344056216, 'diversification': 18.72537249904798, 'first': 2.2735975561207935, 'are': 1.745764636349163, 'evolutionary': 21.158163147696968, 'ancient': 4.219507705176107, 'during': 1.65455834771457, 'understand': 3.120895416507997, 'change': 8.560264653985083, 'major': 4.2801323269925415, 'population': 2.4277482359480516, 'of': 0.281486629917673, 'the': 0.686618152442666, 'speciation': 8.439015410352214, 'promoted': 4.219507705176107, 'is': 0.6966133885364316, 'third': 4.219507705176107, 'tropical': 2.833213344056216, 'more': 1.580450375560848, 'roles': 21.158163147696968, 'responses': 2.4277482359480516, 'goal': 3.5263605246161616, 'rapid': 6.241790833015994, 'a': 1.1526182930591617, 'genome': 15.604477082539985, 'introgression': 25.317046231056644, 'mass': 2.1400661634962708, 'and': 0.2518564583473916, 'others': 3.5263605246161616, 'corals': 2.454930970541854, 'leading': 3.120895416507997, 'reviewed': 4.219507705176107, 'million': 4.219507705176107, 'threat': 3.120895416507997, 'acroporidae': 3.120895416507997, 'foundation': 4.219507705176107, 'years': 2.833213344056216, 'suggests': 2.833213344056216, 'largescalewhole': 4.219507705176107, 'directions': 3.120895416507997, 'ecosystems': 2.2735975561207935, 'record': 3.120895416507997, 'duplication': 21.097538525880534, 'diverse': 5.220139585484013, 'currently': 3.120895416507997, 'to': 0.727495461797218, 'anthozoa': 4.219507705176107, 'history': 7.830209378226019, 'due': 1.7346010553881064, 'sensitivity': 3.120895416507997, 'group': 2.2735975561207935, 'global': 2.6100697927420065, 'one': 1.2237754316221157, 'event': 7.830209378226019, 'genera': 2.6100697927420065, 'including': 2.1400661634962708, 'than': 3.643224864755472, 'based': 1.821612432377736, 'lineages': 3.5263605246161616, 'shinzato': 4.219507705176107, 'this': 1.4774404138641928, 'fossil': 2.4277482359480516, 'chuya': 4.219507705176107, 'data': 2.1400661634962708, 'has': 1.329135947279942, 'opportunity': 10.579081573848484, 'under': 1.821612432377736, 'dominated': 2.6100697927420065, 'indopacific': 2.6100697927420065, 'species': 1.7044237503792652, 'reefs': 0.8873031950009027, 'anthropogenic': 2.4277482359480516, 'with': 0.32768740706548005, 'created': 2.833213344056216, 'its': 8.27279173857285, 'rise': 17.63180262308081, 'in': 0.8121678350484536, 'unclear': 3.5263605246161616, 'dominance': 17.63180262308081, 'associated': 2.2735975561207935, 'understanding': 3.833845224364122, 'may': 1.5114575040738967, 'area': 1.7346010553881064, 'reefbuilding': 5.666426688112432, 'help': 2.833213344056216, 'promote': 4.219507705176107, 'future': 4.855496471896103}, {'merylmemoryg': 4.219507705176107, 'ovbthreads': 4.219507705176107, 'ovbmemory': 4.219507705176107, 'ovsmethodparallel': 4.219507705176107, 'gnuplottestedtruegridoptionsa': 4.219507705176107, 'genomesizem': 4.219507705176107, 'digitifera': 3.120895416507997, 'based': 1.821612432377736, 'configuration': 4.219507705176107, 'is': 0.3483066942682158, 'estimate': 4.219507705176107, 'initial': 5.666426688112432, 'jssubreadsrawfasta': 8.439015410352214, 'smrtlinksmrtcmdsbinbamfastao': 4.219507705176107, 'canup': 4.219507705176107, 'subreads': 8.439015410352214, 'fasta': 4.219507705176107, 'while': 1.916922612182061, 'sequel': 4.219507705176107, 'by': 0.4128452154057869, 'laboratory': 3.120895416507997, 'ovsmemory': 4.219507705176107, 'assembly': 25.317046231056644, 'harbor': 3.5263605246161616, 'performance': 3.5263605246161616, 'computing': 3.5263605246161616, 'created': 2.833213344056216, 'spring': 3.120895416507997, 'cold': 3.5263605246161616, 'york': 4.219507705176107, 'sequencing': 3.5263605246161616, 'ampacbioraw': 4.219507705176107, 'in': 0.04512043528046964, 'sampled': 3.5263605246161616, 'from': 0.664159643686693, 'center': 3.5263605246161616, 'size': 2.1400661634962708, 'constructed': 4.219507705176107, 'as': 0.5559460590464603, 'an': 1.1749852674526837, 'all': 1.7346010553881064, 'js': 4.219507705176107, 'dna': 3.5263605246161616, 'pacbio': 12.658523115528322, 'using': 2.658271894559884, 'extracted': 3.120895416507997, 'a': 1.1526182930591617, 'steps': 3.5263605246161616, 'new': 1.821612432377736, 'xhiseqx': 4.219507705176107, 'hpc': 4.219507705176107, 'settings': 4.219507705176107, 'barcodes': 4.219507705176107, 'sample': 2.6100697927420065, 'subreadsxml': 8.439015410352214, 'staghorn': 2.833213344056216, 'acropora': 0.45830758948254424, 'pacbioonly': 4.219507705176107, 'smrtlinksmrtcmdsbindataset': 4.219507705176107, 'was': 2.1765903562892275, 'batmemory': 4.219507705176107, 'coral': 0.1941560144409574, 'pairedend': 4.219507705176107, 'x': 2.833213344056216, 'seems': 3.5263605246161616, 'see': 4.219507705176107, 'reads': 12.658523115528322, 'weight': 3.5263605246161616, 'millepora': 3.120895416507997, 'illumina': 4.219507705176107, 'mfplab': 4.219507705176107, 'complete': 2.833213344056216, 'and': 0.05926034314056273, 'ran': 4.219507705176107, 'the': 0.17911777889808678, 'of': 0.05926034314056273, 'annotation': 4.219507705176107, 'with': 0.32768740706548005, 'preprocessing': 4.219507705176107, 'draft': 4.219507705176107, 'indonesia': 2.1400661634962708, 'pointing': 4.219507705176107, 'chromium': 4.219507705176107, 'be': 1.328319287373386, 'usegridtrue': 4.219507705176107, 'parameters': 2.6100697927420065, 'describing': 4.219507705176107, 'highly': 2.4277482359480516, 'haplotypes': 4.219507705176107, 'caution': 4.219507705176107, 'combination': 3.120895416507997, 'highmolecular': 4.219507705176107, 'that': 0.4353180712578455, 'number': 1.821612432377736, 'may': 1.5114575040738967, 'paralogs': 4.219507705176107, 'canu': 8.439015410352214, 'to': 0.24249848726573936, 'high': 1.3862943611198906, 'on': 1.0612565021243408, 'columbia': 4.219507705176107, 'universitys': 4.219507705176107, 'information': 3.120895416507997, 'habanero': 4.219507705176107, 'cluster': 3.5263605246161616, 'first': 2.2735975561207935, 'ovsthreads': 4.219507705176107, 'section': 3.5263605246161616, 'still': 2.6100697927420065, 'xml': 4.219507705176107, 'file': 8.439015410352214, 'containing': 3.5263605246161616, 'raw': 8.439015410352214, 'createtype': 4.219507705176107, 'construct': 4.219507705176107, 'we': 1.3862943611198906, 'then': 3.120895416507997, 'subreadset': 4.219507705176107, 'genome': 15.604477082539985, 'misassembled': 4.219507705176107, 'were': 1.0118712769435978, 'subreadsbamfofn': 4.219507705176107, 'bam': 4.219507705176107, 'files': 4.219507705176107, 'performed': 5.666426688112432, 'converted': 4.219507705176107}, {'makeup': 4.219507705176107, 'genotype': 4.219507705176107, 'site': 5.666426688112432, 'not': 1.2237754316221157, 'break': 4.219507705176107, 'that': 0.4353180712578455, 'complete': 2.833213344056216, 'showed': 1.3862943611198906, 'in': 0.04512043528046964, 'whereby': 4.219507705176107, 'program': 3.5263605246161616, 'on': 1.5918847531865112, 'individuals': 6.241790833015994, 'populations': 4.547195112241587, 'two': 3.8252061780289988, 'dana': 4.219507705176107, 'adjacent': 2.6100697927420065, 'flow': 5.666426688112432, 'the': 0.26867666834713017, 'gene': 2.6100697927420065, 'structure': 6.066849383519662, 'situated': 4.219507705176107, 'test': 3.5263605246161616, 'from': 1.328319287373386, 'acroporahyacinthus': 4.219507705176107, 'microsatellite': 3.5263605246161616, 'determined': 3.5263605246161616, 'sites': 4.044566255679775, 'through': 2.2735975561207935, 'dipolog': 4.219507705176107, 'whether': 2.6100697927420065, 'as': 1.1118921180929207, 'to': 0.12124924363286968, 'was': 1.3059542137735365, 'by': 0.4128452154057869, 'evidenced': 4.219507705176107, 'markers': 4.219507705176107, 'between': 2.772588722239781, 'analysis': 1.821612432377736, 'presence': 1.65455834771457, 'population': 2.4277482359480516, 'material': 2.833213344056216, 'fragment': 4.219507705176107, 'using': 1.329135947279942, 'opposite': 4.219507705176107, 'detected': 3.5263605246161616, 'run': 4.219507705176107, 'water': 1.5114575040738967, 'different': 1.821612432377736, 'strait': 3.120895416507997, 'similar': 2.2735975561207935, 'and': 0.04444525735542205, 'dumaguete': 8.439015410352214, 'samples': 1.916922612182061, 'selinog': 8.439015410352214, 'subjected': 3.120895416507997, 'were': 1.0118712769435978, 'their': 1.2750687260096663, 'of': 0.05926034314056273, 'collected': 1.821612432377736, 'exists': 3.5263605246161616, 'sides': 7.052721049232323, 'genetic': 7.052721049232323, 'extracted': 3.120895416507997, 'with': 0.32768740706548005, 'amplified': 3.5263605246161616, 'results': 2.5501374520193325}, {'coastal': 2.4277482359480516, 'areas': 2.0222831278398874, 'environmental': 1.7346010553881064, 'differentiation': 4.219507705176107, 'insight': 3.5263605246161616, 'gain': 4.219507705176107, 'helps': 4.219507705176107, 'closely': 3.5263605246161616, 'phylogenetically': 4.219507705176107, 'taxon': 3.5263605246161616, 'model': 2.833213344056216, 'use': 2.833213344056216, 'recruitment': 3.120895416507997, 'for': 0.4353180712578455, 'according': 2.833213344056216, 'around': 2.1400661634962708, 'across': 2.6100697927420065, 'and': 0.07407542892570342, 'regard': 7.052721049232323, 'coastline': 3.5263605246161616, 'range': 2.4277482359480516, 'shelf': 8.439015410352214, 'varying': 3.5263605246161616, 'four': 4.044566255679775, 'distance': 9.36268624952399, 'most': 3.643224864755472, 'their': 6.375343630048331, 'were': 2.0237425538871956, 'multispecies': 4.219507705176107, 'important': 2.0222831278398874, 'strait': 3.120895416507997, 'with': 1.9661244423928803, 'fungiidae': 8.439015410352214, 'downward': 4.219507705176107, 'either': 3.120895416507997, 'distributions': 3.5263605246161616, 'abundances': 4.219507705176107, 'composed': 3.5263605246161616, 'zones': 5.666426688112432, 'wind': 3.5263605246161616, 'are': 0.581921545449721, 'deeper': 3.120895416507997, 'coral': 0.3883120288819148, 'mushroom': 4.219507705176107, 'along': 4.547195112241587, 'caycrowned': 4.219507705176107, 'offshore': 8.49964003216865, 'of': 0.13333577206626615, 'the': 0.3283825946464924, 'to': 0.6062462181643484, 'scleractinia': 3.5263605246161616, 'patterns': 3.4692021107762128, 'substrates': 3.120895416507997, 'divided': 4.219507705176107, 'distribution': 3.833845224364122, 'within': 2.1400661634962708, 'assemblages': 3.120895416507997, 'compared': 1.329135947279942, 'absence': 4.219507705176107, 'few': 2.833213344056216, 'over': 4.044566255679775, 'up': 2.6100697927420065, 'on': 2.6531412553108518, 'studied': 3.30911669542914, 'species': 7.669906876706693, 'reefs': 3.549212780003611, 'submerged': 4.219507705176107, 'shallow': 4.547195112241587, 'makassar': 4.219507705176107, 'increasing': 2.2735975561207935, 'ecological': 2.6100697927420065, 'midshelf': 4.219507705176107, 'parallel': 3.5263605246161616, 'archipelago': 3.120895416507997, 'cooccurring': 4.219507705176107, 'directions': 3.120895416507997, 'comparisons': 4.219507705176107, 'orientation': 4.219507705176107, 'indonesia': 2.1400661634962708, 'or': 2.5501374520193325, 'depth': 6.420198490488812, 'concentrated': 4.219507705176107, 'mainly': 3.120895416507997, 'gradients': 8.439015410352214, 'fl': 8.439015410352214, 'similarity': 3.120895416507997, 'ats': 8.439015410352214, 'slopes': 10.579081573848484, 'bases': 6.241790833015994, 'showed': 4.1588830833596715, 'reef': 5.061001005967385, 'highest': 2.0222831278398874, 'spermonde': 4.219507705176107, 'waveexposed': 4.219507705176107, 'a': 1.1526182930591617, 'shift': 4.219507705176107, 'clustering': 4.219507705176107, 'transects': 3.120895416507997, 'as': 1.1118921180929207, 'overlapping': 4.219507705176107, 'visible': 3.5263605246161616, 'average': 2.833213344056216, 'quadrats': 4.219507705176107, 'in': 0.4060839175242268, 'm': 1.65455834771457, 'maximum': 2.6100697927420065, 'ranges': 3.5263605246161616, 'some': 2.2735975561207935, 'several': 2.833213344056216, 'related': 4.547195112241587, 'be': 0.664159643686693, 'densities': 2.833213344056216, 'respect': 4.219507705176107, 'composition': 2.833213344056216, 'appeared': 3.5263605246161616, 'presence': 1.65455834771457}, {'literature': 3.5263605246161616, 'forgotten': 4.219507705176107, 'appears': 3.5263605246161616, 'nor': 4.219507705176107, 'neither': 4.219507705176107, 'which': 1.0840134892469568, 'report': 3.120895416507997, 'be': 0.664159643686693, 'here': 2.0222831278398874, 'taxon': 3.5263605246161616, 'hence': 4.219507705176107, 'model': 2.833213344056216, 'occurs': 4.219507705176107, 'waters': 2.1400661634962708, 'deeper': 3.120895416507997, 'as': 0.5559460590464603, 'to': 0.12124924363286968, 'its': 1.65455834771457, 'also': 1.3862943611198906, 'in': 0.27072261168281786, 'indopacific': 2.6100697927420065, 'shallowwater': 3.5263605246161616, 'mesophotic': 3.5263605246161616, 'adds': 3.5263605246161616, 'acropora': 1.3749227684476328, 'is': 0.3483066942682158, 'status': 2.6100697927420065, 'was': 0.870636142515691, 'comprehensive': 4.219507705176107, 'reefs': 0.8873031950009027, 'aduncata': 4.219507705176107, 'species': 0.8522118751896326, 'by': 1.2385356462173607, 'oken': 4.219507705176107, 'zou': 4.219507705176107, 'most': 1.821612432377736, 'caribbean': 2.6100697927420065, 'and': 0.0888905147108441, 'diverse': 2.6100697927420065, 'abundant': 2.833213344056216, 'et': 7.052721049232323, 'al': 7.052721049232323, 'coral': 0.3883120288819148, 'reviews': 8.439015410352214, 'studied': 1.65455834771457, 'genus': 11.332853376224865, 'ecological': 2.6100697927420065, 'on': 1.0612565021243408, 'the': 0.23882370519744903, 'veron': 8.439015410352214, 'wallace': 12.658523115528322, 'with': 0.32768740706548005, 'recent': 2.4277482359480516, 'this': 0.3693601034660482, 'studies': 1.916922612182061, 'further': 2.4277482359480516, 'updates': 4.219507705176107, 'fossil': 2.4277482359480516, 'i': 2.2735975561207935, 'record': 3.120895416507997, 'of': 0.04444525735542205, 'indonesia': 2.1400661634962708, 'included': 4.219507705176107, 'santodomingo': 4.219507705176107, 'a': 0.23052365861183235, 'taxonomic': 8.49964003216865, 'wellresolved': 4.219507705176107, 'underwent': 4.219507705176107, 'usefulness': 4.219507705176107}, {'habitats': 3.120895416507997, 'predictability': 4.219507705176107, 'can': 1.580450375560848, 'strategies': 3.120895416507997, 'maximum': 2.6100697927420065, 'growing': 3.120895416507997, 'abundance': 2.833213344056216, 'greatest': 4.219507705176107, 'its': 1.65455834771457, 'agaricitesreaches': 4.219507705176107, 'exceed': 4.219507705176107, 'rarely': 3.5263605246161616, 'colony': 1.916922612182061, 'drop': 4.219507705176107, 'flat': 2.833213344056216, 'mainly': 3.120895416507997, 'strategy': 3.120895416507997, 'opportunistic': 4.219507705176107, 'employs': 4.219507705176107, 'that': 0.4353180712578455, 'appears': 3.5263605246161616, 'however': 1.3862943611198906, 'wkl': 4.219507705176107, 'it': 1.0840134892469568, 'cm': 5.220139585484013, 'area': 1.7346010553881064, 'tissue': 2.4277482359480516, 'living': 2.6100697927420065, 'diameter': 3.120895416507997, 'mm': 21.158163147696968, 'deeper': 3.120895416507997, 'reproductive': 7.283244707844155, 'calices': 4.219507705176107, 'diameters': 4.219507705176107, 'morphology': 3.5263605246161616, 'to': 0.363747730898609, 'depths': 2.833213344056216, 'be': 0.664159643686693, 'related': 2.2735975561207935, 'unit': 3.5263605246161616, 'two': 1.2750687260096663, 'their': 1.2750687260096663, 'fringing': 3.120895416507997, 'colonies': 2.4475508632442313, 'were': 1.0118712769435978, 'from': 1.328319287373386, 'period': 4.044566255679775, 'septa': 4.219507705176107, 'hurnilis': 4.219507705176107, 'compared': 2.658271894559884, 'characteristics': 2.833213344056216, 'production': 7.052721049232323, 'coral': 0.1941560144409574, 'agaricia': 4.219507705176107, 'slope': 3.5263605246161616, 'planula': 16.878030820704428, 'over': 2.0222831278398874, 'consistent': 3.120895416507997, 'was': 1.3059542137735365, 'for': 0.4353180712578455, 'such': 1.580450375560848, 'these': 1.1749852674526837, 'agaricites': 37.97556934658496, 'based': 1.821612432377736, 'confined': 4.219507705176107, 'separation': 3.5263605246161616, 'vemll': 4.219507705176107, 'as': 1.1118921180929207, 'wk': 8.439015410352214, 'the': 0.38808852094585466, 'of': 0.19259611520682887, 'collected': 1.821612432377736, 'distinct': 5.220139585484013, 'n': 7.830209378226019, 'only': 1.65455834771457, 'samples': 1.916922612182061, 'skeletal': 2.833213344056216, 'curaqao': 4.219507705176107, 'time': 2.0222831278398874, 'shallow': 2.2735975561207935, 'lower': 2.2735975561207935, 'differences': 4.044566255679775, 'than': 5.464837297133208, 'reef': 2.1690004311288793, 'and': 0.0888905147108441, 'planulating': 4.219507705176107, 'zone': 3.5263605246161616, 'corals': 0.8183103235139513, 'about': 2.6100697927420065, 'humilisplanulated': 4.219507705176107, 'pattems': 4.219507705176107, 'a': 4.610473172236647, 'on': 2.1225130042486815, 'yr': 4.219507705176107, 'size': 4.2801323269925415, 'off': 3.120895416507997, 'b': 5.666426688112432, 'e': 2.4277482359480516, 'humilis': 15.660418756452039, 'water': 1.5114575040738967, 'less': 2.4277482359480516, 'proposed': 2.833213344056216, 'summer': 3.120895416507997, 'form': 2.6100697927420065, 'within': 2.1400661634962708, 'an': 1.1749852674526837, 'other': 1.65455834771457, 'explained': 3.5263605246161616, 'r': 2.6100697927420065, 'forms': 2.833213344056216, 'patterns': 1.7346010553881064, 'at': 0.8183103235139513, 'is': 0.6966133885364316, 'throughout': 2.2735975561207935, 'year': 2.2735975561207935, 'shed': 3.5263605246161616, 'volume': 3.5263605246161616, 'with': 0.6553748141309601, 'planulae': 16.878030820704428, 'scleractinian': 1.916922612182061, 'spring': 3.120895416507997, 'increasing': 2.2735975561207935, 'sea': 1.821612432377736, 'temperatures': 2.1400661634962708, 'relation': 3.5263605246161616, 'larger': 3.5263605246161616, 'released': 3.5263605246161616, 'after': 1.65455834771457, 'emerged': 3.5263605246161616, 'limaeus': 4.219507705176107, 'collection': 4.219507705176107, 'release': 3.120895416507997, 'smallest': 3.5263605246161616, 'studied': 1.65455834771457, 'species': 0.8522118751896326, 'maxlmum': 4.219507705176107, 'in': 0.4512043528046964, 'm': 4.96367504314371, 'per': 2.833213344056216, 'times': 12.658523115528322}, {'highest': 2.0222831278398874, 'smallest': 3.5263605246161616, 'increasing': 2.2735975561207935, 'related': 4.547195112241587, 'ratio': 18.72537249904798, 'decreasing': 10.579081573848484, 'result': 2.6100697927420065, 'paleotemperature': 8.439015410352214, 'negative': 3.5263605246161616, 'mgca': 29.53655393623275, 'deposited': 3.5263605246161616, 'shallower': 4.219507705176107, 'a': 0.4610473172236647, 'depth': 4.2801323269925415, 'meters': 12.658523115528322, 'environment': 5.666426688112432, 'in': 0.13536130584140893, 'grew': 4.219507705176107, 'had': 2.2735975561207935, 'between': 8.317766166719343, 'analysis': 1.821612432377736, 'for': 0.4353180712578455, 'which': 1.0840134892469568, 'selected': 2.4277482359480516, 'using': 1.329135947279942, 'showed': 1.3862943611198906, 'study': 0.7537718023763802, 'reconstruction': 3.5263605246161616, 'value': 3.120895416507997, 'ecology': 3.120895416507997, 'fossils': 3.120895416507997, 'and': 0.05926034314056273, 'description': 2.833213344056216, 'because': 2.4277482359480516, 'mmol': 12.658523115528322, 'this': 0.3693601034660482, 'it': 1.0840134892469568, 'with': 0.6553748141309601, 'facies': 3.5263605246161616, 'lived': 4.219507705176107, 'concept': 3.120895416507997, 'deepest': 4.219507705176107, 'continues': 3.5263605246161616, 'area': 3.4692021107762128, 'palifera': 10.579081573848484, 'was': 2.1765903562892275, 'to': 0.24249848726573936, 'by': 0.4128452154057869, 'species': 0.8522118751896326, 'distribution': 1.916922612182061, 'be': 0.664159643686693, 'approach': 3.120895416507997, 'cervicornisacropora': 25.317046231056644, 'modern': 2.6100697927420065, 'can': 1.580450375560848, 'correlation': 2.833213344056216, 'ujunggenteng': 7.052721049232323, 'has': 5.316543789119768, 'the': 0.23882370519744903, 'carbonate': 8.439015410352214, 'coral': 0.3883120288819148, 'determination': 3.5263605246161616, 'contains': 4.219507705176107, 'many': 2.1400661634962708, 'trend': 3.5263605246161616, 'indicated': 2.2735975561207935, 'paleobathymetry': 12.658523115528322, 'acropora': 4.124768305342898, 'wellpreserved': 3.5263605246161616, 'associated': 2.2735975561207935, 'biofacies': 46.414584756937174, 'distinguished': 3.5263605246161616, 'palmata': 7.830209378226019, 'that': 0.4353180712578455, 'into': 1.821612432377736, 'rocks': 4.219507705176107, 'three': 1.7346010553881064, 'of': 0.014815085785140682, 'gemmiferaacropora': 12.658523115528322, 'proposed': 2.833213344056216, 'humilis': 7.830209378226019}, {'tool': 3.120895416507997, 'precise': 3.5263605246161616, 'finetuned': 4.219507705176107, 'chloropigments': 4.219507705176107, 'decrease': 3.120895416507997, 'resilience': 3.5263605246161616, 'this': 0.3693601034660482, 'adapted': 3.5263605246161616, 'have': 1.000631880307906, 'results': 1.2750687260096663, 'these': 1.1749852674526837, 'presence': 1.65455834771457, 'further': 4.855496471896103, 'herbicides': 4.219507705176107, 'effect': 2.6100697927420065, 'additive': 4.219507705176107, 'respectively': 1.7346010553881064, 'stresssensitive': 4.219507705176107, 'suggest': 4.855496471896103, 'accelerated': 4.219507705176107, 'cu': 3.5263605246161616, 'type': 2.833213344056216, 'resilient': 3.5263605246161616, 'types': 5.666426688112432, 'ongoing': 3.5263605246161616, 'symbiont': 3.5263605246161616, 'by': 0.4128452154057869, 'related': 2.2735975561207935, 'be': 1.328319287373386, 'could': 4.2801323269925415, 'monitoring': 2.4277482359480516, 'sensitivity': 3.120895416507997, 'opposed': 4.219507705176107, 'polluted': 10.579081573848484, 'referred': 4.219507705176107, 'a': 1.3831419516709942, 'to': 0.8487447054300877, 'as': 1.667838177139381, 'hamper': 4.219507705176107, 'all': 1.7346010553881064, 'close': 3.5263605246161616, 'herbicide': 16.878030820704428, 'one': 2.4475508632442313, 'weight': 3.5263605246161616, 'resulted': 4.219507705176107, 'color': 7.052721049232323, 'water': 1.5114575040738967, 'situ': 2.6100697927420065, 'different': 3.643224864755472, 'is': 0.6966133885364316, 'at': 1.6366206470279026, 'image': 3.5263605246161616, 'two': 1.2750687260096663, 'from': 2.656638574746772, 'were': 3.541549469302592, 'elevated': 14.105442098464646, 'used': 1.65455834771457, 'become': 3.120895416507997, 'mpa': 12.658523115528322, 'developed': 2.4277482359480516, 'marineprotected': 4.219507705176107, 'for': 0.4353180712578455, 'ambient': 3.120895416507997, 'combined': 6.241790833015994, 'dinoflagellate': 4.219507705176107, 'tropical': 2.833213344056216, 'more': 4.741351126682544, 'studied': 3.30911669542914, 'reefs': 1.7746063900018054, 'staghorn': 2.833213344056216, 'anthropogenic': 2.4277482359480516, 'formosa': 3.120895416507997, 'very': 2.1400661634962708, 'acropora': 0.45830758948254424, 'vietnam': 4.219507705176107, 'and': 0.20741120099196955, 'grayscale': 4.219507705176107, 'exposure': 3.120895416507997, 'temperature': 4.96367504314371, 'bleaching': 12.138741179740258, 'glyphosate': 8.439015410352214, 'exposed': 5.666426688112432, 'digital': 4.219507705176107, 'temperatures': 4.2801323269925415, 'of': 0.1629659436365475, 'effects': 6.241790833015994, 'the': 0.8358829681910716, 'on': 1.5918847531865112, 'farm': 4.219507705176107, 'coral': 0.7766240577638296, 'in': 0.4512043528046964, 'nonintrusive': 4.219507705176107, 'c': 11.367987780603968, 'method': 4.044566255679775, 'laboratory': 6.241790833015994, 'counts': 4.219507705176107, 'pollution': 3.120895416507997, 'corals': 4.909861941083708, 'nha': 8.439015410352214, 'branches': 2.2735975561207935, 'using': 1.329135947279942, 'colorimetric': 8.439015410352214, 'based': 1.821612432377736, 'which': 1.0840134892469568, 'trang': 8.439015410352214, 'explained': 3.5263605246161616, 'stressors': 14.105442098464646, 'photography': 4.219507705176107, 'increase': 2.1400661634962708, 'analysis': 3.643224864755472, 'fish': 2.833213344056216, 'they': 4.547195112241587, 'versus': 4.219507705176107, 'loss': 9.36268624952399, 'concentration': 3.120895416507997, 'new': 1.821612432377736, 'chlorophyll': 10.579081573848484, 'symbiotic': 3.120895416507997, 'alone': 3.5263605246161616, 'symbiodinium': 3.5263605246161616, 'tolerant': 8.439015410352214, 'collected': 5.464837297133208, 'zooxanthellae': 5.666426688112432, 'started': 4.219507705176107, 'here': 2.0222831278398874, 'bleach': 3.5263605246161616, 'before': 3.120895416507997, 'sensitive': 3.5263605246161616, 'treatments': 3.120895416507997, 'indicating': 2.6100697927420065, 'bay': 5.666426688112432, 'that': 2.1765903562892275, 'site': 8.49964003216865, 'adds': 3.5263605246161616, 'showed': 1.3862943611198906, 'no': 2.0222831278398874, 'multiple': 6.241790833015994, 'notion': 4.219507705176107, 'response': 1.916922612182061, 'or': 1.2750687260096663, 'however': 1.3862943611198906, 'area': 1.7346010553881064, 'significant': 2.2735975561207935, 'proportional': 4.219507705176107, 'difference': 2.6100697927420065}, {'immunenutrient': 4.219507705176107, 'become': 3.120895416507997, 'source': 5.220139585484013, 'besides': 4.219507705176107, 'therefore': 2.6100697927420065, 'immune': 3.120895416507997, 'needed': 2.833213344056216, 'components': 3.120895416507997, 'essential': 4.219507705176107, 'overall': 3.5263605246161616, 'extracts': 3.5263605246161616, 'other': 1.65455834771457, 'have': 1.000631880307906, 'highest': 2.0222831278398874, 'e': 4.855496471896103, 'a': 0.23052365861183235, 'tlc': 4.219507705176107, 'chromatograph': 4.219507705176107, 'thinlayer': 4.219507705176107, 'by': 0.4128452154057869, 'antioxidants': 4.219507705176107, 'amino': 8.439015410352214, 'such': 1.580450375560848, 'system': 2.4277482359480516, 'active': 7.052721049232323, 'mg': 12.658523115528322, 'fe': 7.052721049232323, 'trace': 8.439015410352214, 'in': 0.09024087056093928, 'method': 2.0222831278398874, 'has': 1.329135947279942, 'atomization': 4.219507705176107, 'elements': 12.658523115528322, 'protein': 7.052721049232323, 'alternative': 8.439015410352214, 'objective': 4.219507705176107, 'ecosystem': 2.4277482359480516, 'reduction': 3.5263605246161616, 'marine': 2.0222831278398874, 'gonads': 4.219507705176107, 'potency': 8.439015410352214, 'compared': 1.329135947279942, 'crustose': 4.219507705176107, 'compounds': 12.658523115528322, 'causing': 3.120895416507997, 'growth': 3.30911669542914, 'of': 0.22222628677711023, 'food': 6.241790833015994, 'reefs': 1.7746063900018054, 'gonad': 17.63180262308081, 'over': 2.0222831278398874, 'preserve': 4.219507705176107, 'assists': 4.219507705176107, 'urchins': 3.5263605246161616, 'zn': 7.052721049232323, 'diadema': 24.68452367231313, 'study': 0.7537718023763802, 'steroids': 4.219507705176107, 'for': 1.3059542137735365, 'antioxidant': 4.219507705176107, 'setosum': 29.53655393623275, 'presence': 1.65455834771457, 'may': 3.0229150081477933, 'population': 2.4277482359480516, 'its': 1.65455834771457, 'acids': 8.439015410352214, 'nutrient': 12.483581666031988, 'coral': 0.3883120288819148, 'disrupt': 4.219507705176107, 'sea': 1.821612432377736, 'are': 0.581921545449721, 'mass': 2.1400661634962708, 'contents': 8.439015410352214, 'as': 1.667838177139381, 'to': 0.363747730898609, 'was': 1.3059542137735365, 'identified': 2.2735975561207935, 'content': 10.440279170968026, 'balance': 4.219507705176107, 'measure': 7.052721049232323, 'and': 0.13333577206626615, 'were': 1.5178069154153966, 'evaluate': 2.833213344056216, 'spectrophotometer': 3.5263605246161616, 'steroid': 4.219507705176107, 'used': 1.65455834771457, 'coralline': 3.5263605246161616, 'vitamin': 16.878030820704428, 'found': 2.8938379658726507, 'this': 0.3693601034660482, 'albumin': 8.439015410352214, 'kjeldahl': 4.219507705176107, 'consumption': 4.219507705176107, 'the': 0.4179414840955358, 'methods': 3.120895416507997}, {'formation': 3.120895416507997, 'during': 1.65455834771457, 'phylum': 4.219507705176107, 'pathogens': 3.5263605246161616, 'acquired': 4.219507705176107, 'have': 1.000631880307906, 's': 2.4277482359480516, 'communities': 2.833213344056216, 'taxonomic': 2.833213344056216, 'we': 1.3862943611198906, 'fulllength': 4.219507705176107, 'using': 1.329135947279942, 'which': 2.1680269784939137, 'bacterial': 3.120895416507997, 'composition': 2.833213344056216, 'potential': 2.6100697927420065, 'mucusassociated': 4.219507705176107, 'almost': 4.219507705176107, 'kruskalwallis': 4.219507705176107, 'coast': 2.833213344056216, 'cytherea': 3.5263605246161616, 'acropora': 0.45830758948254424, 'indicated': 2.2735975561207935, 'affected': 2.4277482359480516, 'belong': 4.219507705176107, 'growth': 1.65455834771457, 'reefforming': 3.5263605246161616, 'in': 0.36096348224375713, 'disease': 2.4277482359480516, 'test': 3.5263605246161616, 'with': 0.32768740706548005, 'investigated': 2.0222831278398874, 'healthy': 14.56648941568831, 'host': 2.6100697927420065, 'recognizable': 4.219507705176107, 'southeast': 4.219507705176107, 'are': 0.581921545449721, 'klebsiella': 4.219507705176107, 'mucus': 3.5263605246161616, 'cyanobacteria': 3.5263605246161616, 'palk': 3.5263605246161616, 'found': 1.4469189829363254, 'anomalies': 4.219507705176107, 'were': 1.5178069154153966, 'low': 4.547195112241587, 'corals': 2.454930970541854, 'bacteria': 3.120895416507997, 'india': 3.120895416507997, 'proteobacteria': 12.658523115528322, 'samples': 11.501535673092366, 'whereas': 4.219507705176107, 'drain': 4.219507705176107, 'the': 0.26867666834713017, 'of': 0.11852068628112546, 'revealed': 3.5263605246161616, 'skeletal': 2.833213344056216, 'gene': 2.6100697927420065, 'sample': 2.6100697927420065, 'energy': 2.833213344056216, 'and': 0.11852068628112546, 'end': 4.219507705176107, 'staphylococcus': 4.219507705176107, 'colonies': 1.2237754316221157, 'easily': 4.219507705176107, 'bay': 2.833213344056216, 'acidobacteria': 4.219507705176107, 'nanopore': 4.219507705176107, 'sequencing': 3.5263605246161616, 'metagenomic': 4.219507705176107, 'was': 0.4353180712578455, 'analysis': 1.821612432377736, 'compared': 2.658271894559884, 'group': 2.2735975561207935, 'dominance': 3.5263605246161616, 'firmicutes': 4.219507705176107, 'putative': 4.219507705176107, 'actinobacteria': 8.439015410352214, 'both': 1.329135947279942, 'salmonella': 4.219507705176107, 'diseased': 21.097538525880534, 'high': 1.3862943611198906, 'to': 0.1818738654493045, 'one': 1.2237754316221157, 'fourth': 3.5263605246161616, 'sga': 12.658523115528322, 'dominant': 2.4277482359480516, 'rrna': 4.219507705176107, 'from': 1.328319287373386, 'phyla': 7.052721049232323, 'significantly': 1.821612432377736, 'doubled': 4.219507705176107, 'planctomycetes': 4.219507705176107, 'mortality': 2.4277482359480516, 'chloroflexi': 4.219507705176107, 'some': 2.2735975561207935, 'other': 1.65455834771457, 'up': 2.6100697927420065, 'major': 2.1400661634962708, 'number': 1.821612432377736, 'pathogenic': 3.5263605246161616, 'perhaps': 3.5263605246161616, 'collected': 1.821612432377736, 'viz': 4.219507705176107, 'proportion': 4.219507705176107, 'escherichia': 4.219507705176107, 'coral': 0.1941560144409574}, {'environmental': 1.7346010553881064, 'pox': 4.219507705176107, 'white': 6.241790833015994, 'marks': 4.219507705176107, 'circular': 4.219507705176107, 'while': 1.916922612182061, 'macroalgal': 3.5263605246161616, 'mainly': 3.120895416507997, 'greater': 2.833213344056216, 'erosa': 4.219507705176107, 'antillarum': 4.219507705176107, 'variations': 3.120895416507997, 'diadema': 3.5263605246161616, 'urchins': 3.5263605246161616, 'sea': 1.821612432377736, 'only': 1.65455834771457, 'observed': 1.4469189829363254, 'mark': 4.219507705176107, 'also': 1.3862943611198906, 'carunculata': 4.219507705176107, 'microspathodon': 4.219507705176107, 'lactophrys': 4.219507705176107, 'colony': 1.916922612182061, 'ind': 4.219507705176107, 'differences': 2.0222831278398874, 'shallow': 2.2735975561207935, 'among': 2.2735975561207935, 'contrasting': 3.5263605246161616, 'torn': 12.658523115528322, 'injuries': 12.658523115528322, 'ecological': 2.6100697927420065, 'found': 1.4469189829363254, 'however': 1.3862943611198906, 'know': 4.219507705176107, 'events': 2.6100697927420065, 'fumaroles': 4.219507705176107, 'other': 3.30911669542914, 'attributed': 3.120895416507997, 'with': 1.6384370353274003, 'occupy': 4.219507705176107, 'interactions': 10.579081573848484, 'factors': 2.0222831278398874, 'organisms': 5.220139585484013, 'and': 0.1629659436365475, 'affectations': 4.219507705176107, 'to': 0.3031231090821742, 'systems': 3.120895416507997, 'as': 1.1118921180929207, 'per': 2.833213344056216, 'm': 1.65455834771457, 'in': 0.7219269644875143, 'lesions': 4.219507705176107, 'status': 2.6100697927420065, 'coralliophila': 4.219507705176107, 'is': 0.3483066942682158, 'disease': 4.855496471896103, 'interaction': 4.219507705176107, 'current': 2.1400661634962708, 'about': 2.6100697927420065, 'transects': 3.120895416507997, 'acropora': 0.45830758948254424, 'isla': 7.052721049232323, 'elkhorn': 3.5263605246161616, 'due': 1.7346010553881064, 'or': 1.2750687260096663, 'crdoba': 4.219507705176107, 'coral': 0.5824680433228722, 'conservation': 2.1400661634962708, 'palmata': 7.830209378226019, 'park': 3.120895416507997, 'were': 2.0237425538871956, 'evaluate': 2.833213344056216, 'result': 2.6100697927420065, 'that': 1.3059542137735365, 'their': 2.5501374520193325, 'last': 2.833213344056216, 'assessments': 4.219507705176107, 'decades': 4.219507705176107, 'out': 2.0222831278398874, 'presented': 10.440279170968026, 'band': 3.5263605246161616, 'carried': 2.6100697927420065, 'relation': 3.5263605246161616, 'decrease': 3.120895416507997, 'populations': 2.2735975561207935, 'a': 1.1526182930591617, 'department': 4.219507705176107, 'throughout': 4.547195112241587, 'addition': 2.6100697927420065, 'both': 2.658271894559884, 'fuerte': 4.219507705176107, 'species': 0.8522118751896326, 'studied': 1.65455834771457, 'presence': 3.30911669542914, 'stegastes': 4.219507705176107, 'type': 2.833213344056216, 'socorro': 16.878030820704428, 'aguja': 4.219507705176107, 'main': 2.1400661634962708, 'tayrona': 4.219507705176107, 'two': 1.2750687260096663, 'national': 3.120895416507997, 'specific': 4.219507705176107, 'colonies': 3.671326294866347, 'where': 2.2735975561207935, 'natural': 4.547195112241587, 'the': 0.47764741039489805, 'of': 0.1629659436365475, 'colombian': 4.219507705176107, 'fireworms': 8.439015410352214, 'magdalena': 4.219507705176107, 'cover': 3.120895416507997, 'associated': 4.547195112241587, 'was': 1.741272285031382, 'visual': 3.5263605246161616, 'area': 3.4692021107762128, 'made': 2.6100697927420065, 'hermodice': 4.219507705176107, 'such': 3.160900751121696, 'has': 1.329135947279942, 'snails': 7.052721049232323, 'others': 3.5263605246161616, 'quantified': 3.5263605246161616, 'fishes': 8.439015410352214, 'anthropic': 4.219507705176107, 'caribbean': 2.6100697927420065, 'censuses': 4.219507705176107, 'they': 2.2735975561207935, 'living': 2.6100697927420065, 'tissue': 4.855496471896103, 'order': 2.6100697927420065, 'torin': 4.219507705176107, 'health': 3.120895416507997, 'coverage': 3.120895416507997, 'by': 0.4128452154057869, 'sites': 4.044566255679775, 'degree': 6.241790833015994, 'approximately': 3.120895416507997}, {'resulting': 3.120895416507997, 'recognition': 4.219507705176107, 'isolation': 8.439015410352214, 'reproductive': 4.855496471896103, 'takes': 4.219507705176107, 'of': 0.014815085785140682, 'presence': 1.65455834771457, 'water': 1.5114575040738967, 'in': 0.27072261168281786, 'at': 0.8183103235139513, 'although': 4.219507705176107, 'their': 2.5501374520193325, 'simultaneous': 4.219507705176107, 'coral': 0.1941560144409574, 'are': 1.163843090899442, 'the': 0.11941185259872451, 'maintained': 3.5263605246161616, 'spawning': 2.2735975561207935, 'bun': 4.219507705176107, 'spawner': 4.219507705176107, 'broadcast': 4.219507705176107, 'turn': 4.219507705176107, 'gamete': 6.241790833015994, 'acroporidea': 12.658523115528322, 'part': 2.2735975561207935, 'column': 4.219507705176107, 'hermaphroditic': 4.219507705176107, 'event': 2.6100697927420065, 'thus': 2.4277482359480516, 'is': 0.3483066942682158, 'many': 6.420198490488812, 'release': 3.120895416507997, 'specificity': 4.219507705176107, 'ides': 4.219507705176107, 'sympatric': 3.5263605246161616, 'gametes': 7.052721049232323, 'from': 1.328319287373386, 'fertilization': 4.219507705176107, 'species': 1.7044237503792652, 'present': 1.65455834771457}, {'without': 3.5263605246161616, 'pre': 4.219507705176107, 'levels': 5.220139585484013, 'conducted': 2.1400661634962708, 'growing': 3.120895416507997, 'found': 1.4469189829363254, 'will': 3.120895416507997, 'observations': 2.4277482359480516, 'be': 1.992478931060079, 'chance': 3.5263605246161616, 'documented': 3.5263605246161616, 'caribbean': 2.6100697927420065, 'throughout': 4.547195112241587, 'well': 2.1400661634962708, 'has': 1.329135947279942, 'reproduction': 3.120895416507997, 'sexual': 4.219507705176107, 'on': 1.0612565021243408, 'and': 0.07407542892570342, 'breakages': 4.219507705176107, 'fringing': 3.120895416507997, 'number': 1.821612432377736, 'its': 3.30911669542914, 'much': 3.5263605246161616, 'document': 3.5263605246161616, 'only': 1.65455834771457, 'stable': 4.219507705176107, 'intervention': 4.219507705176107, 'fastest': 4.219507705176107, 'branches': 4.547195112241587, 'dimensional': 3.5263605246161616, 'palmata': 2.6100697927420065, 'pattern': 2.6100697927420065, 'one': 1.2237754316221157, 'where': 2.2735975561207935, 'colonies': 2.4475508632442313, 'in': 0.2256021764023482, 'for': 0.4353180712578455, 'building': 4.219507705176107, 'population': 7.283244707844155, 'of': 0.1629659436365475, 'the': 0.4179414840955358, 'this': 0.3693601034660482, 'parameters': 2.6100697927420065, 'current': 2.1400661634962708, 'year': 2.2735975561207935, 'because': 2.4277482359480516, 'fall': 8.439015410352214, 'acropora': 0.45830758948254424, 'reef': 0.7230001437096264, 'with': 0.6553748141309601, 'to': 0.42437235271504387, 'is': 1.0449200828046474, 'attaching': 4.219507705176107, 'growth': 1.65455834771457, 'seen': 6.241790833015994, 'by': 0.8256904308115738, 'three': 1.7346010553881064, 'reefs': 0.8873031950009027, 'responsible': 3.120895416507997, 'fragmentation': 5.666426688112432, 'order': 2.6100697927420065, 'substrate': 3.120895416507997, 'reliance': 4.219507705176107, 'surface': 2.1400661634962708, 'were': 0.5059356384717989, 'low': 2.2735975561207935, 'no': 2.0222831278398874, 'increase': 4.2801323269925415, 'size': 4.2801323269925415, 'prevalence': 8.439015410352214, 'slow': 4.219507705176107, 'asexual': 10.579081573848484, 'very': 2.1400661634962708, 'broken': 4.219507705176107, 'numbers': 3.5263605246161616, 'remained': 4.219507705176107, 'area': 1.7346010553881064, 'storm': 4.219507705176107, 'fairly': 4.219507705176107, 'constant': 4.219507705176107, 'small': 3.120895416507997, 'a': 0.4610473172236647, 'slight': 4.219507705176107, 'rebound': 4.219507705176107, 'coral': 0.1941560144409574, 'correlation': 2.833213344056216, 'after': 1.65455834771457, 'turbulent': 4.219507705176107, 'winter': 2.833213344056216, 'seasons': 3.120895416507997, 'colony': 1.916922612182061, 'was': 1.3059542137735365, 'reaffirmed': 4.219507705176107, 'been': 1.65455834771457, 'corals': 0.8183103235139513, 'recruitment': 6.241790833015994, 'these': 1.1749852674526837, 'between': 1.3862943611198906, 'dominant': 2.4277482359480516, 'during': 1.65455834771457, 'season': 2.6100697927420065, 'but': 1.329135947279942, 'fragments': 2.1400661634962708, 'forced': 4.219507705176107, 'from': 0.664159643686693}, {'connectivity': 4.219507705176107, 'data': 2.1400661634962708, 'valuable': 3.120895416507997, 'provides': 3.5263605246161616, 'peninsular': 8.439015410352214, 'presence': 1.65455834771457, 'extended': 2.833213344056216, 'predicted': 3.120895416507997, 'balok': 4.219507705176107, 'that': 0.870636142515691, 'cytherea': 3.5263605246161616, 'modelling': 3.5263605246161616, 'may': 4.53437251222169, 'dissection': 4.219507705176107, 'through': 2.2735975561207935, 'species': 3.4088475007585304, 'march': 3.5263605246161616, 'have': 1.000631880307906, 'timing': 5.666426688112432, 'two': 1.2750687260096663, 'kuantan': 8.439015410352214, 'nights': 4.219507705176107, 'kcr': 12.658523115528322, 'clathrata': 4.219507705176107, 'maturity': 4.219507705176107, 'in': 0.13536130584140893, 'fragments': 2.1400661634962708, 'histological': 7.052721049232323, 'region': 2.0222831278398874, 'genera': 2.6100697927420065, 'months': 2.6100697927420065, 'on': 1.0612565021243408, 'and': 0.04444525735542205, 'gamete': 6.241790833015994, 'pattern': 2.6100697927420065, 'coral': 0.970780072204787, 'oocytes': 4.219507705176107, 'analyses': 3.5263605246161616, 'abundant': 2.833213344056216, 'optimal': 4.219507705176107, 'population': 2.4277482359480516, 'the': 0.35823555779617355, 'of': 0.11852068628112546, 'mature': 4.219507705176107, 'this': 0.7387202069320964, 'were': 0.5059356384717989, 'full': 4.219507705176107, 'biology': 2.833213344056216, 'among': 2.2735975561207935, 'results': 2.5501374520193325, 'is': 0.3483066942682158, 'acropora': 2.7498455368952657, 'indicated': 2.2735975561207935, 'until': 8.439015410352214, 'coast': 5.666426688112432, 'coastal': 2.4277482359480516, 'release': 3.120895416507997, 'contributed': 3.5263605246161616, 'secondmost': 4.219507705176107, 'spawning': 9.094390224483174, 'study': 1.5075436047527604, 'showed': 1.3862943611198906, 'located': 3.5263605246161616, 'april': 8.439015410352214, 'malaysia': 7.052721049232323, 'an': 1.1749852674526837, 'sea': 1.821612432377736, 'reef': 0.7230001437096264, 'investigated': 2.0222831278398874, 'with': 0.32768740706548005, 'a': 0.23052365861183235, 'pld': 4.219507705176107, 'sample': 2.6100697927420065, 'which': 1.0840134892469568, 'for': 0.870636142515691, 'these': 1.1749852674526837, 'during': 1.65455834771457, 'within': 4.2801323269925415, 'coincided': 3.5263605246161616, 'days': 3.5263605246161616, 'both': 2.658271894559884, 'indicate': 2.833213344056216, 'peak': 3.5263605246161616, 'surface': 2.1400661634962708, 'sp': 2.4277482359480516, 'moon': 4.219507705176107, 'spawned': 4.219507705176107, 'between': 2.772588722239781, 'after': 3.30911669542914, 'present': 1.65455834771457, 'also': 1.3862943611198906, 'pelagic': 4.219507705176107, 'larvae': 3.5263605246161616, 'duration': 4.219507705176107, 'to': 0.06062462181643484, 'collected': 3.643224864755472, 'limited': 3.120895416507997, 'knowledge': 2.833213344056216, 'temperature': 1.65455834771457, 'reproductive': 2.4277482359480516, 'from': 1.992478931060079, 'east': 6.241790833015994, 'addition': 2.6100697927420065}, {'lead': 3.5263605246161616, 'would': 3.5263605246161616, 'delay': 4.219507705176107, 'near': 4.219507705176107, 'concludes': 3.5263605246161616, 'have': 1.000631880307906, 'recruited': 4.219507705176107, 'were': 0.5059356384717989, 'etc': 2.833213344056216, 'porites': 2.833213344056216, 'acropora': 0.45830758948254424, 'year': 2.2735975561207935, 'every': 4.219507705176107, 'mass': 4.2801323269925415, 'newly': 4.219507705176107, 'are': 1.163843090899442, 'be': 0.664159643686693, 'by': 0.4128452154057869, 'bleached': 3.120895416507997, 'average': 2.833213344056216, 'on': 0.5306282510621704, 'noted': 3.5263605246161616, 'is': 0.3483066942682158, 'more': 1.580450375560848, 'or': 1.2750687260096663, 'dropped': 4.219507705176107, 'monsoon': 7.052721049232323, 'after': 3.30911669542914, 'stations': 2.4277482359480516, 'degree': 3.120895416507997, 'and': 0.04444525735542205, 'same': 4.219507705176107, 'surface': 2.1400661634962708, 'which': 3.2520404677408705, 'in': 0.49632478808516606, 'leading': 3.120895416507997, 'c': 2.2735975561207935, 'years': 5.666426688112432, 'threat': 3.120895416507997, 'future': 2.4277482359480516, 'three': 1.7346010553881064, 'habitats': 3.120895416507997, 'occurred': 2.833213344056216, 'major': 2.1400661634962708, 'it': 2.1680269784939137, 'importance': 2.833213344056216, 'world': 3.120895416507997, 'coral': 0.3883120288819148, 'grown': 4.219507705176107, 'recovery': 3.120895416507997, 'rise': 3.5263605246161616, 'this': 0.3693601034660482, 'recent': 2.4277482359480516, 'bleaching': 12.138741179740258, 'spp': 7.052721049232323, 'linked': 4.219507705176107, 'of': 0.14815085785140683, 'corals': 3.273241294055805, 'a': 0.4610473172236647, 'temperature': 4.96367504314371, 'has': 2.658271894559884, 'due': 1.7346010553881064, 'varying': 3.5263605246161616, 'an': 1.1749852674526837, 'sea': 1.821612432377736, 'the': 0.35823555779617355, 'any': 2.6100697927420065, 'all': 1.7346010553881064, 'to': 0.5456215963479135, 'premonsoon': 4.219507705176107, 'was': 0.870636142515691, 'season': 2.6100697927420065, 'climate': 2.1400661634962708, 'most': 1.821612432377736, 'four': 2.0222831278398874, 'change': 2.1400661634962708, 'study': 1.5075436047527604, 'mortality': 2.4277482359480516, 'colonies': 1.2237754316221157, 'for': 0.4353180712578455, 'undertaken': 4.219507705176107, 'junejuly': 4.219507705176107, 'understand': 3.120895416507997, 'from': 0.664159643686693, 'rainfall': 4.219507705176107, 'reef': 0.7230001437096264, 'been': 3.30911669542914, 'that': 1.3059542137735365, 'south': 5.220139585484013, 'andaman': 6.241790833015994, 'observed': 1.4469189829363254, 'water': 4.53437251222169, 'arrival': 8.439015410352214, 'reefs': 0.8873031950009027, 'shallow': 2.2735975561207935}, {'association': 3.120895416507997, 'different': 1.821612432377736, 'modify': 4.219507705176107, 'is': 0.3483066942682158, 'only': 1.65455834771457, 'transported': 4.219507705176107, 'not': 1.2237754316221157, 'purpose': 2.2735975561207935, 'fossil': 2.4277482359480516, 'also': 1.3862943611198906, 'approach': 6.241790833015994, 'sediment': 3.5263605246161616, 'one': 1.2237754316221157, 'limestone': 3.5263605246161616, 'classified': 3.5263605246161616, 'previous': 3.120895416507997, 'occurrences': 4.219507705176107, 'rarely': 3.5263605246161616, 'a': 0.4610473172236647, 'another': 7.052721049232323, 'presence': 1.65455834771457, 'application': 2.833213344056216, 'paleontology': 4.219507705176107, 'study': 1.5075436047527604, 'species': 0.8522118751896326, 'standard': 12.483581666031988, 'because': 2.4277482359480516, 'taphonomy': 4.219507705176107, 'exposed': 2.833213344056216, 'shoreface': 4.219507705176107, 'capture': 4.219507705176107, 'research': 2.1400661634962708, 'with': 0.6553748141309601, 'detail': 8.439015410352214, 'conditions': 2.0222831278398874, 'wide': 3.120895416507997, 'condition': 3.643224864755472, 'analysis': 1.821612432377736, 'the': 0.3283825946464924, 'taxonomy': 7.052721049232323, 'in': 0.27072261168281786, 'belt': 14.105442098464646, 'was': 1.741272285031382, 'as': 0.5559460590464603, 'to': 0.1818738654493045, 'distribution': 1.916922612182061, 'palifera': 3.5263605246161616, 'area': 6.9384042215524255, 'quaternary': 4.219507705176107, 'ujunggenteng': 7.052721049232323, 'humilis': 2.6100697927420065, 'performed': 5.666426688112432, 'facies': 17.63180262308081, 'using': 1.329135947279942, 'which': 1.0840134892469568, 'selected': 2.4277482359480516, 'observed': 1.4469189829363254, 'classify': 8.439015410352214, 'indicated': 2.2735975561207935, 'acropora': 2.7498455368952657, 'many': 2.1400661634962708, 'studies': 1.916922612182061, 'morphological': 3.120895416507997, 'limestones': 4.219507705176107, 'corals': 2.454930970541854, 'coralline': 7.052721049232323, 'variation': 2.833213344056216, 'contacts': 4.219507705176107, 'cervicornis': 2.833213344056216, 'description': 2.833213344056216, 'and': 0.07407542892570342, 'fossils': 3.120895416507997, 'required': 3.5263605246161616, 'still': 2.6100697927420065, 'sediments': 3.5263605246161616, 'changes': 2.6100697927420065, 'buildup': 8.439015410352214, 'of': 0.0888905147108441, 'clearly': 3.120895416507997, 'this': 0.7387202069320964, 'based': 1.821612432377736, 'coral': 0.7766240577638296, 'indonesia': 2.1400661634962708, 'moreover': 3.5263605246161616, 'high': 1.3862943611198906, 'were': 1.0118712769435978, 'therefore': 2.6100697927420065, 'gemmifera': 4.219507705176107, 'continuously': 4.219507705176107, 'on': 0.5306282510621704, 'but': 1.329135947279942, 'organic': 3.5263605246161616, 'four': 2.0222831278398874, 'can': 1.580450375560848, 'into': 3.643224864755472}, {'zones': 2.833213344056216, 'petroleum': 4.219507705176107, 'biogenic': 4.219507705176107, 'km': 3.120895416507997, 'contaminants': 8.439015410352214, 'proposed': 2.833213344056216, 'addition': 2.6100697927420065, 'traceable': 4.219507705176107, 'insitu': 4.219507705176107, 'allochthonous': 12.658523115528322, 'environment': 2.833213344056216, 'mentioned': 4.219507705176107, 'layers': 8.439015410352214, 'make': 4.219507705176107, 'ratios': 3.5263605246161616, 'diagnostic': 4.219507705176107, 'asia': 4.219507705176107, 'conference': 3.120895416507997, 'international': 3.120895416507997, 'relevant': 4.219507705176107, 'individual': 3.120895416507997, 'data': 2.1400661634962708, 'inputs': 16.878030820704428, 'bacterial': 3.120895416507997, 'predominance': 4.219507705176107, 'carbonnumbered': 4.219507705176107, 'strong': 2.833213344056216, 'preference': 4.219507705176107, 'very': 2.1400661634962708, 'detection': 3.5263605246161616, 'nc': 16.878030820704428, 'maximized': 4.219507705176107, 'this': 0.7387202069320964, 'observed': 1.4469189829363254, 'profile': 4.219507705176107, 'cluster': 10.579081573848484, 'noticeable': 4.219507705176107, 'space': 6.241790833015994, 'randomly': 3.5263605246161616, 'park': 3.120895416507997, 'combination': 3.120895416507997, 'ie': 3.120895416507997, 'petrochemical': 4.219507705176107, 'vicinity': 3.5263605246161616, 'considerable': 4.219507705176107, 'distributed': 3.120895416507997, 'potential': 2.6100697927420065, 'made': 2.6100697927420065, 'ecorisk': 4.219507705176107, 'develop': 3.5263605246161616, 'west': 3.120895416507997, 'used': 3.30911669542914, 'functions': 2.833213344056216, 'logic': 4.219507705176107, 'studies': 1.916922612182061, 'upcoming': 4.219507705176107, 'taken': 4.219507705176107, 'it': 1.0840134892469568, 'be': 0.664159643686693, 'materials': 4.219507705176107, 'should': 3.5263605246161616, 'more': 1.580450375560848, 'kriging': 4.219507705176107, 'sources': 4.219507705176107, 'maps': 16.878030820704428, 'error': 4.219507705176107, 'standard': 3.120895416507997, 'prediction': 4.219507705176107, 'one': 1.2237754316221157, 'got': 4.219507705176107, 'have': 1.000631880307906, 'confirmed': 4.219507705176107, 'ratio': 3.120895416507997, 'nugget': 4.219507705176107, 'area': 3.4692021107762128, 'zone': 3.5263605246161616, 'economic': 3.120895416507997, 'ml': 8.439015410352214, 'autochthonous': 8.439015410352214, 'min': 8.439015410352214, 'gas': 3.5263605246161616, 'italy': 4.219507705176107, 'sample': 5.220139585484013, 'procedures': 4.219507705176107, 'exception': 4.219507705176107, 'content': 2.6100697927420065, 'respectively': 5.203803166164319, 'standards': 3.5263605246161616, 'employed': 3.5263605246161616, 'microwave': 8.439015410352214, 'g': 17.63180262308081, 'petroleumbased': 4.219507705176107, 'prior': 3.5263605246161616, 'gcms': 4.219507705176107, 'system': 4.855496471896103, 'size': 2.1400661634962708, 'dried': 4.219507705176107, 'steps': 3.5263605246161616, 'laboratory': 3.120895416507997, 'sampler': 4.219507705176107, 'structure': 2.0222831278398874, 'morans': 16.878030820704428, 'extraction': 21.097538525880534, 'plan': 3.120895416507997, 'number': 1.821612432377736, 'on': 0.5306282510621704, 'variance': 4.219507705176107, 'extracted': 3.120895416507997, 'parks': 8.439015410352214, 'that': 2.611908427547073, 'ethos': 4.219507705176107, 'granulometric': 4.219507705176107, 'process': 2.833213344056216, 'the': 1.3433833417356509, 'even': 2.833213344056216, 'of': 0.45926765933936115, 'dcm': 4.219507705176107, 'gisbased': 4.219507705176107, 'offshore': 2.833213344056216, 'established': 4.219507705176107, 'homogenized': 4.219507705176107, 'van': 4.219507705176107, 'sediment': 3.5263605246161616, 'remove': 3.5263605246161616, 'gathered': 8.439015410352214, 'nearshore': 4.219507705176107, 'cm': 2.6100697927420065, 'sill': 4.219507705176107, 'mesh': 4.219507705176107, 'distances': 4.219507705176107, 'national': 6.241790833015994, 'sampled': 7.052721049232323, 'horizontal': 2.833213344056216, 'range': 2.4277482359480516, 'suggested': 10.579081573848484, 'bulk': 4.219507705176107, 'successive': 4.219507705176107, 'energy': 2.833213344056216, 'pattern': 2.6100697927420065, 'outlined': 4.219507705176107, 'stations': 9.710992943792206, 'transects': 6.241790833015994, 'about': 5.220139585484013, 'main': 2.1400661634962708, 'in': 0.6316860939265749, 'together': 3.5263605246161616, 'ng': 12.658523115528322, 'overnight': 4.219507705176107, 'taking': 4.219507705176107, 'surrogate': 4.219507705176107, 'vv': 4.219507705176107, 'therefore': 5.220139585484013, 'making': 3.5263605246161616, 'geostatistics': 4.219507705176107, 'with': 1.6384370353274003, 'nalkanes': 25.317046231056644, 'using': 2.658271894559884, 'selected': 2.4277482359480516, 'at': 4.091551617569756, 'dilution': 4.219507705176107, 'patterns': 1.7346010553881064, 'shore': 4.219507705176107, 'studied': 3.30911669542914, 'carbon': 4.219507705176107, 'structural': 4.219507705176107, 'by': 1.6513808616231476, 'after': 3.30911669542914, 'nautical': 8.439015410352214, 'samples': 5.750767836546183, 'general': 5.220139585484013, 'map': 14.105442098464646, 'and': 0.4000073161987984, 'spiked': 4.219507705176107, 'recommended': 4.219507705176107, 'facilities': 4.219507705176107, 'sampling': 12.483581666031988, 'dw': 8.439015410352214, 'normalized': 4.219507705176107, 'veen': 4.219507705176107, 'from': 3.984957862120158, 'm': 1.65455834771457, 'average': 2.833213344056216, 'perylened': 4.219507705176107, 'practical': 4.219507705176107, 'added': 3.5263605246161616, 'matrix': 8.439015410352214, 'first': 2.2735975561207935, 'n': 5.220139585484013, 'was': 3.482544570062764, 'extracts': 7.052721049232323, 'formed': 3.5263605246161616, 'to': 0.7881200836136529, 'high': 2.772588722239781, 'as': 1.1118921180929207, 'miles': 8.439015410352214, 'mass': 2.1400661634962708, 'moderate': 7.052721049232323, 'chrysened': 4.219507705176107, 'separately': 3.5263605246161616, 'presence': 1.65455834771457, 'effect': 2.6100697927420065, 'performed': 2.833213344056216, 'shoreline': 4.219507705176107, 'decanted': 4.219507705176107, 'however': 1.3862943611198906, 'surface': 4.2801323269925415, 'global': 2.6100697927420065, 'not': 3.671326294866347, 'c': 4.547195112241587, 'account': 4.219507705176107, 'limited': 3.120895416507997, 'both': 1.329135947279942, 'for': 3.9178626413206095, 'fuzzy': 4.219507705176107, 'combined': 6.241790833015994, 'two': 1.2750687260096663, 'copper': 4.219507705176107, 'sediments': 21.158163147696968, 'mixture': 4.219507705176107, 'petrogenic': 8.439015410352214, 'detector': 3.5263605246161616, 'nhexaneacetone': 4.219507705176107, 'organic': 7.052721049232323, 'petroleumoriginated': 4.219507705176107, 'discussion': 3.5263605246161616, 'following': 2.4277482359480516, 'all': 3.4692021107762128, 'deposited': 10.579081573848484, 'vessels': 4.219507705176107, 'model': 2.833213344056216, 'gis': 8.439015410352214, 'sieved': 4.219507705176107, 'locations': 2.833213344056216, 'reextracted': 4.219507705176107, 'random': 4.219507705176107, 'pseez': 4.219507705176107, 'levels': 5.220139585484013, 'ordinary': 4.219507705176107, 'dichloromethane': 4.219507705176107, 'each': 2.2735975561207935, 'oceanography': 4.219507705176107, 'analyses': 3.5263605246161616, 'activated': 3.5263605246161616, 'spatial': 17.63180262308081, 'milestone': 4.219507705176107, 'including': 4.2801323269925415, 'mean': 6.241790833015994, 'highhigh': 8.439015410352214, 'then': 6.241790833015994, 'legs': 4.219507705176107, 'zscore': 8.439015410352214, 'indices': 8.439015410352214, 'recognized': 4.219507705176107, 'off': 6.241790833015994, 'anselin': 4.219507705176107, 'wires': 4.219507705176107, 'carefully': 4.219507705176107, 'sulfur': 4.219507705176107, 'these': 1.1749852674526837, 'into': 1.821612432377736, 'evaluate': 2.833213344056216, 'pars': 4.219507705176107, 'carried': 2.6100697927420065, 'produced': 8.439015410352214, 'out': 2.0222831278398874, 'obvious': 3.5263605246161616, 'according': 2.833213344056216, 'guidelines': 4.219507705176107, 'moopam': 4.219507705176107, 'marine': 4.044566255679775, 'chromatographymass': 4.219507705176107, 'clustered': 8.439015410352214, 'spectrometry': 4.219507705176107, 'antherancened': 4.219507705176107, 'gc': 3.5263605246161616, 'were': 12.648390961794972, 'equipped': 4.219507705176107, 'results': 1.2750687260096663, 'nearly': 4.219507705176107, 'production': 3.5263605246161616, 'persian': 4.219507705176107, 'extract': 4.219507705176107, 'specified': 4.219507705176107, 'gulfs': 4.219507705176107, 'basin': 4.219507705176107, 'where': 2.2735975561207935, 'source': 18.270488549194045, 'apportionment': 25.317046231056644, 'hazards': 4.219507705176107, 'solvent': 4.219507705176107, 'parentpahs': 8.439015410352214, 'probably': 3.5263605246161616, 'analysis': 3.643224864755472, 'region': 6.066849383519662, 'low': 6.8207926683623805, 'polluted': 3.5263605246161616, 'summary': 3.5263605246161616, 'a': 2.074712927506491, 'reveal': 3.5263605246161616, 'supernatant': 4.219507705176107, 'ecopollutants': 4.219507705176107, 'nd': 4.219507705176107, 'autocorrelation': 4.219507705176107, 'level': 2.833213344056216, 'case': 4.219507705176107, 'pahs': 25.317046231056644, 'i': 9.094390224483174, 'widespread': 3.5263605246161616, 'index': 9.36268624952399, 'nayband': 4.219507705176107, 'significant': 6.8207926683623805, 'clusters': 8.439015410352214, 'or': 2.5501374520193325, 'vertical': 3.5263605246161616, 'south': 2.6100697927420065, 'reference': 4.219507705176107, 'naphthalened': 4.219507705176107, 'special': 3.120895416507997}, {'functions': 2.833213344056216, 'metabolic': 4.219507705176107, 'potentially': 3.120895416507997, 'are': 0.581921545449721, 'these': 1.1749852674526837, 'important': 4.044566255679775, 'particularly': 3.120895416507997, 'communities': 5.666426688112432, 'contributions': 3.5263605246161616, 'respectively': 1.7346010553881064, 'localization': 12.658523115528322, 'approaches': 3.5263605246161616, 'to': 0.1818738654493045, 'negatively': 3.5263605246161616, 'least': 3.120895416507997, 'situ': 2.6100697927420065, 'tissuespecific': 4.219507705176107, 'histological': 3.5263605246161616, 'were': 1.5178069154153966, 'total': 2.6100697927420065, 'and': 0.05926034314056273, 'similar': 2.2735975561207935, 'associated': 4.547195112241587, 'understanding': 1.916922612182061, 'camas': 25.317046231056644, 'for': 0.4353180712578455, 'aggregates': 4.219507705176107, 'bacterial': 12.483581666031988, 'microbial': 3.5263605246161616, 'japan': 3.5263605246161616, 'characterized': 3.120895416507997, 'coralassociated': 4.219507705176107, 'been': 1.65455834771457, 'in': 0.13536130584140893, 'vital': 3.5263605246161616, 'fitness': 4.219507705176107, 'novel': 3.5263605246161616, 'via': 3.5263605246161616, 'hybridization': 4.219507705176107, 'insight': 3.5263605246161616, 'cama': 4.219507705176107, 'however': 1.3862943611198906, 'coral': 0.7766240577638296, 'shown': 2.833213344056216, 'within': 10.700330817481355, 'across': 2.6100697927420065, 'here': 2.0222831278398874, 'densities': 5.666426688112432, 'randomly': 3.5263605246161616, 'be': 0.664159643686693, 'as': 0.5559460590464603, 'lowest': 2.6100697927420065, 'location': 2.4277482359480516, 'has': 1.329135947279942, 'associations': 4.219507705176107, 'collected': 1.821612432377736, 'the': 0.3283825946464924, 'of': 0.10370560049598478, 'offshore': 2.833213344056216, 'corals': 0.8183103235139513, 'acropora': 0.45830758948254424, 'fluorescent': 4.219507705176107, 'distributed': 6.241790833015994, 'housed': 4.219507705176107, 'microorganisms': 4.219507705176107, 'at': 1.6366206470279026, 'is': 1.0449200828046474, 'contributors': 4.219507705176107, 'holobiont': 8.439015410352214, 'still': 2.6100697927420065, 'poorly': 2.833213344056216, 'fish': 2.833213344056216, 'we': 1.3862943611198906, 'extensively': 7.052721049232323, 'a': 0.23052365861183235, 'provide': 3.5263605246161616, 'throughout': 2.2735975561207935, 'from': 1.328319287373386, 'five': 5.666426688112432, 'sites': 4.044566255679775, 'resolved': 4.219507705176107, 'australia': 3.5263605246161616, 'into': 1.821612432377736, 'studied': 1.65455834771457, 'correlated': 3.5263605246161616, 'each': 2.2735975561207935, 'distance': 3.120895416507997, 'diversity': 2.0222831278398874, 'cells': 3.5263605246161616, 'coastline': 3.5263605246161616, 'ie': 3.120895416507997, 'six': 4.219507705176107, 'but': 1.329135947279942, 'tissue': 2.4277482359480516, 'regions': 2.833213344056216, 'among': 2.2735975561207935, 'with': 1.3107496282619202, 'investigated': 2.0222831278398874, 'characteristics': 2.833213344056216, 'had': 2.2735975561207935, 'morphological': 3.120895416507997, 'distinct': 2.6100697927420065, 'morphologies': 3.5263605246161616, 'their': 1.2750687260096663, 'hyacinthus': 3.120895416507997, 'varied': 4.219507705176107, 'types': 2.833213344056216, 'identified': 2.2735975561207935, 'tissues': 9.36268624952399, 'host': 2.6100697927420065, 'identifying': 4.219507705176107, 'prerequisite': 4.219507705176107}, {'situations': 4.219507705176107, 'welllit': 4.219507705176107, 'even': 2.833213344056216, 'corals': 0.8183103235139513, 'zooxanthellate': 3.5263605246161616, 'forms': 2.833213344056216, 'planktotrophic': 4.219507705176107, 'strictly': 4.219507705176107, 'reophilic': 4.219507705176107, 'into': 1.821612432377736, 'tubastraea': 4.219507705176107, 'currents': 4.219507705176107, 'strong': 2.833213344056216, 'zones': 2.833213344056216, 'algae': 3.120895416507997, 'hydrodynamic': 4.219507705176107, 'under': 1.821612432377736, 'essentially': 4.219507705176107, 'appeared': 3.5263605246161616, 'such': 1.580450375560848, 'particular': 4.219507705176107, 'presented': 2.6100697927420065, 'unit': 3.5263605246161616, 'each': 2.2735975561207935, 'major': 2.1400661634962708, 'environmental': 1.7346010553881064, 'subtidal': 4.219507705176107, 'investigated': 2.0222831278398874, 'with': 0.6553748141309601, 'lagoonward': 4.219507705176107, 'in': 0.18048174112187856, 'sites': 2.0222831278398874, 'm': 1.65455834771457, 'substituting': 4.219507705176107, 'shallow': 2.2735975561207935, 'reefs': 1.7746063900018054, 'about': 2.6100697927420065, 'a': 0.23052365861183235, 'down': 3.5263605246161616, 'the': 0.2985296314968113, 'its': 1.65455834771457, 'notches': 4.219507705176107, 'features': 3.5263605246161616, 'side': 3.5263605246161616, 'of': 0.07407542892570342, 'described': 3.5263605246161616, 'surveys': 3.5263605246161616, 'be': 0.664159643686693, 'within': 4.2801323269925415, 'diving': 3.5263605246161616, 'zonation': 12.658523115528322, 'control': 3.120895416507997, 'assemblages': 3.120895416507997, 'lagoon': 5.666426688112432, 'patterns': 1.7346010553881064, 'all': 1.7346010553881064, 'to': 0.12124924363286968, 'through': 2.2735975561207935, 'organism': 4.219507705176107, 'walls': 3.5263605246161616, 'for': 0.4353180712578455, 'passes': 4.219507705176107, 'connecting': 4.219507705176107, 'morphologies': 3.5263605246161616, 'ocean': 3.5263605246161616, 'patch': 8.439015410352214, 'other': 3.30911669542914, 'and': 0.07407542892570342, 'pass': 4.219507705176107, 'faroes': 4.219507705176107, 'various': 2.6100697927420065, 'were': 1.5178069154153966, 'caves': 4.219507705176107, 'extended': 2.833213344056216, 'erosional': 4.219507705176107, 'seen': 3.120895416507997, 'micranthus': 4.219507705176107, 'units': 7.052721049232323, 'three': 3.4692021107762128, 'total': 2.6100697927420065, 'main': 2.1400661634962708, 'at': 0.8183103235139513, 'depths': 5.666426688112432}, {'restoration': 2.6100697927420065, 'largescale': 3.120895416507997, 'for': 0.4353180712578455, 'candidate': 3.5263605246161616, 'thus': 2.4277482359480516, 'is': 0.3483066942682158, 'best': 3.120895416507997, 'it': 1.0840134892469568, 'life': 3.120895416507997, 'kmode': 3.5263605246161616, 'tending': 3.5263605246161616, 'no': 2.0222831278398874, 'frondlfera': 3.5263605246161616, 'tm': 3.5263605246161616, 'dunng': 3.5263605246161616, 'b': 2.833213344056216, 'n': 2.6100697927420065, 'displayed': 2.833213344056216, 'strategy': 3.120895416507997, 'responses': 2.4277482359480516, 'frondifera': 3.5263605246161616, 'damcornis': 3.5263605246161616, 'acropora': 0.45830758948254424, 'fragmentation': 2.833213344056216, 'populations': 2.2735975561207935, 'intermediate': 3.5263605246161616, 'related': 2.2735975561207935, 'hyaanthus': 3.5263605246161616, 'uslng': 3.5263605246161616, 'feasibility': 3.5263605246161616, 'damlcornis': 3.5263605246161616, 'rapid': 3.120895416507997, 'concerned': 3.5263605246161616, 'hyacinthus': 3.120895416507997, 'study': 0.7537718023763802, 'showed': 4.1588830833596715, 'differences': 2.0222831278398874, 'highest': 2.0222831278398874, 'reef': 1.4460002874192528, 'with': 0.32768740706548005, 'mortality': 9.710992943792206, 'could': 2.1400661634962708, 'a': 1.8441892688946588, 't': 3.120895416507997, 'temperatures': 2.1400661634962708, 'linear': 9.36268624952399, 's': 4.855496471896103, 'philippine': 3.5263605246161616, 'through': 2.2735975561207935, 'new': 1.821612432377736, 'growth': 6.61823339085828, 'in': 0.18048174112187856, 'coral': 0.3883120288819148, 'pavona': 7.052721049232323, 'terms': 3.120895416507997, 'were': 1.0118712769435978, 'dominant': 2.4277482359480516, 'ecologically': 3.5263605246161616, 'both': 1.329135947279942, 'rmode': 3.5263605246161616, 'fared': 3.5263605246161616, 'species': 3.4088475007585304, 'pocillopora': 2.833213344056216, 'three': 1.7346010553881064, 'which': 1.0840134892469568, 'by': 0.4128452154057869, 'lifehistory': 3.5263605246161616, 'u': 3.120895416507997, 'northern': 3.5263605246161616, 'and': 0.0888905147108441, 'suitable': 2.6100697927420065, 'transplantation': 7.830209378226019, 'high': 4.1588830833596715, 'to': 0.3031231090821742, 'tendencies': 3.120895416507997, 'of': 0.10370560049598478, 'the': 0.26867666834713017, 'was': 0.870636142515691, 'deliberate': 3.5263605246161616, 'poorly': 2.833213344056216, 'also': 1.3862943611198906, 'compared': 1.329135947279942, 'estabhshng': 3.5263605246161616, 'this': 0.7387202069320964, 'e': 4.855496471896103, 'part': 2.2735975561207935, 'though': 2.833213344056216, 'their': 1.2750687260096663, 'respective': 3.5263605246161616, 'towards': 6.241790833015994, 'an': 1.1749852674526837, 'mortahty': 3.5263605246161616, 'but': 1.329135947279942, 'purpose': 2.2735975561207935, 'p': 2.2735975561207935, 'rates': 9.710992943792206, 'response': 3.833845224364122, 'pocllopora': 3.5263605246161616, 'damicornis': 3.120895416507997, 'distinct': 2.6100697927420065, 'had': 4.547195112241587, 'strategies': 3.120895416507997, 'increased': 2.2735975561207935, 'relatively': 2.6100697927420065, 'transplants': 3.5263605246161616, 'initial': 2.833213344056216, 'poor': 3.5263605246161616, 'experiment': 3.5263605246161616, 'they': 2.2735975561207935, 'examine': 2.4277482359480516, 'successful': 3.120895416507997, 'certain': 3.120895416507997, 'adaptation': 3.120895416507997, 'after': 1.65455834771457, 'history': 2.6100697927420065, 'year': 4.547195112241587, 'h': 5.666426688112432, 'y': 3.5263605246161616}, {'response': 1.916922612182061, 'difference': 2.6100697927420065, 'than': 1.821612432377736, 'uncertainties': 4.219507705176107, 'dating': 3.5263605246161616, 'andor': 3.5263605246161616, 'vs': 4.219507705176107, 'central': 3.5263605246161616, 'inshore': 3.120895416507997, 'results': 1.2750687260096663, 'temperatures': 2.1400661634962708, 'summertime': 4.219507705176107, 'cooler': 3.5263605246161616, 'two': 1.2750687260096663, 'warming': 4.219507705176107, 'day': 3.5263605246161616, 'over': 2.0222831278398874, 'conditions': 4.044566255679775, 'into': 1.821612432377736, 'thermal': 2.6100697927420065, 'period': 4.044566255679775, 'suggested': 3.5263605246161616, 'represent': 8.439015410352214, 'bp': 12.658523115528322, 'before': 3.120895416507997, 'our': 2.1400661634962708, 'years': 8.49964003216865, 'dated': 8.439015410352214, 'meridional': 4.219507705176107, 'uth': 8.439015410352214, 'expeditions': 4.219507705176107, 'at': 2.454930970541854, 'identified': 2.2735975561207935, 'rather': 3.120895416507997, 'compared': 2.658271894559884, 'successfully': 4.219507705176107, 'samples': 1.916922612182061, 'equation': 3.5263605246161616, 'application': 2.833213344056216, 'mmolmolc': 4.219507705176107, 'provide': 3.5263605246161616, 'ii': 2.833213344056216, 'amplitude': 4.219507705176107, 'remove': 3.5263605246161616, 'does': 4.219507705176107, 'mean': 6.241790833015994, 'thickening': 4.219507705176107, 'patterns': 3.4692021107762128, 'reconstruction': 14.105442098464646, 'proxybased': 4.219507705176107, 'abundance': 5.666426688112432, 'commonly': 3.5263605246161616, 'branches': 2.2735975561207935, 'modern': 13.050348963710032, 'porites': 14.16606672028108, 'presence': 1.65455834771457, 'recovered': 4.219507705176107, 'major': 2.1400661634962708, 'water': 6.045830016295587, 'was': 0.870636142515691, 'beyond': 4.219507705176107, 'holocene': 4.219507705176107, 'range': 2.4277482359480516, 'sensitivity': 3.120895416507997, 'variations': 3.120895416507997, 'paleoclimate': 8.439015410352214, 'recent': 4.855496471896103, 'conducted': 2.1400661634962708, 'throughout': 2.2735975561207935, 'from': 3.320798218433465, 'allow': 3.5263605246161616, 'material': 2.833213344056216, 'such': 3.160900751121696, 'structure': 4.044566255679775, 'combined': 3.120895416507997, 'concomitant': 4.219507705176107, 'yet': 3.120895416507997, 'significant': 6.8207926683623805, 'information': 9.36268624952399, 'new': 1.821612432377736, 'ratios': 10.579081573848484, 'techniques': 3.5263605246161616, 'deposition': 4.219507705176107, 'recovery': 3.120895416507997, 'identification': 3.5263605246161616, 'resulting': 3.120895416507997, 'geochemistrybased': 4.219507705176107, 'coral': 0.5824680433228722, 'bear': 4.219507705176107, 'by': 1.2385356462173607, 'given': 3.5263605246161616, 'archive': 8.439015410352214, 'to': 0.6668708399807832, 'be': 2.656638574746772, 'pleistocene': 4.219507705176107, 'present': 4.96367504314371, 'resolution': 4.219507705176107, 'core': 4.219507705176107, 'is': 0.6966133885364316, 'can': 3.160900751121696, 'levels': 2.6100697927420065, 'maximum': 2.6100697927420065, 'that': 1.741272285031382, 'most': 1.821612432377736, 'detailed': 4.219507705176107, 'recorded': 1.916922612182061, 'growth': 3.30911669542914, 'the': 0.8060300050413904, 'adjacent': 2.6100697927420065, 'natural': 2.2735975561207935, 'massive': 5.666426688112432, 'understanding': 1.916922612182061, 'order': 2.6100697927420065, 'system': 2.4277482359480516, 'invaluable': 4.219507705176107, 'low': 2.2735975561207935, 'lagoon': 5.666426688112432, 'fossil': 2.4277482359480516, 'indicate': 2.833213344056216, 'represented': 3.120895416507997, 'and': 0.22222628677711023, 'scans': 4.219507705176107, 'could': 2.1400661634962708, 'we': 1.3862943611198906, 'corymbose': 9.36268624952399, 'induced': 3.5263605246161616, 'contrast': 4.219507705176107, 'following': 2.4277482359480516, 'documentation': 3.5263605246161616, 'midholocene': 8.439015410352214, 'species': 0.8522118751896326, 'density': 5.220139585484013, 'predict': 3.5263605246161616, 'gbr': 16.878030820704428, 'focused': 3.5263605246161616, 'suitable': 2.6100697927420065, 'acropora': 3.666460715860354, 'source': 7.830209378226019, 'calibration': 8.439015410352214, 'for': 2.611908427547073, 'indopacific': 5.220139585484013, 'hemisphere': 4.219507705176107, 'regions': 2.833213344056216, 'corals': 0.8183103235139513, 'corresponding': 3.5263605246161616, 'accurately': 4.219507705176107, 'future': 2.4277482359480516, 'forcings': 4.219507705176107, 'climate': 17.120529307970166, 'seasonal': 7.830209378226019, 'used': 1.65455834771457, 'combining': 4.219507705176107, 'key': 3.120895416507997, 'diversity': 2.0222831278398874, 'reconstructions': 16.878030820704428, 'horizontal': 2.833213344056216, 'reef': 8.676001724515517, 'current': 2.1400661634962708, 'coring': 8.439015410352214, 'databases': 3.5263605246161616, 'forereef': 4.219507705176107, 'instrumental': 8.439015410352214, 'cores': 16.878030820704428, 'thus': 4.855496471896103, 'records': 12.483581666031988, 'radiocarbon': 4.219507705176107, 'however': 2.772588722239781, 'intercolony': 8.439015410352214, 'an': 1.1749852674526837, 'temporally': 4.219507705176107, 'earths': 8.439015410352214, 'rates': 2.4277482359480516, 'lack': 4.219507705176107, 'scanning': 3.5263605246161616, 'these': 4.699941069810735, 'southern': 13.050348963710032, 'anthropogenic': 2.4277482359480516, 'likely': 5.666426688112432, 'allows': 4.219507705176107, 'past': 3.5263605246161616, 'are': 0.581921545449721, 'tropics': 4.219507705176107, 'transfer': 4.219507705176107, 'history': 2.6100697927420065, 'previous': 9.36268624952399, 'investigations': 4.219507705176107, 'displays': 4.219507705176107, 'suggest': 4.855496471896103, 'completed': 4.219507705176107, 'also': 1.3862943611198906, 'geochemistry': 4.219507705176107, 'have': 2.001263760615812, 'insights': 4.219507705176107, 'on': 1.0612565021243408, 'secondary': 8.439015410352214, 'act': 3.5263605246161616, 'smoothing': 4.219507705176107, 'somewhat': 4.219507705176107, 'limited': 9.36268624952399, 'signals': 3.5263605246161616, 'linear': 3.120895416507997, 'colonies': 1.2237754316221157, 'aragonite': 4.219507705176107, 'otherwise': 4.219507705176107, 'srca': 25.317046231056644, 'great': 3.120895416507997, 'ratio': 3.120895416507997, 'bands': 4.219507705176107, 'observations': 2.4277482359480516, 'paleothermometer': 4.219507705176107, 'this': 0.3693601034660482, 'forcing': 4.219507705176107, 'banding': 4.219507705176107, 'investigates': 4.219507705176107, 'potential': 2.6100697927420065, 'project': 3.5263605246161616, 'interbranch': 25.317046231056644, 'representing': 4.219507705176107, 'annual': 6.241790833015994, 'computed': 4.219507705176107, 'with': 1.6384370353274003, 'using': 2.658271894559884, 'electron': 3.5263605246161616, 'suggesting': 3.120895416507997, 'reefs': 1.7746063900018054, 'tomography': 4.219507705176107, 'microscopy': 4.219507705176107, 'analogous': 4.219507705176107, 'a': 3.4578548791774852, 'reveal': 3.5263605246161616, 'require': 4.219507705176107, 'extension': 2.833213344056216, 'observed': 1.4469189829363254, 'skeletal': 5.666426688112432, 'cyclicity': 4.219507705176107, 'greater': 5.666426688112432, 'resemblance': 4.219507705176107, 'simplified': 4.219507705176107, 'may': 3.0229150081477933, 'of': 0.31111680148795434, 'prove': 4.219507705176107, 'environmental': 3.4692021107762128, 'record': 9.36268624952399, 'high': 5.545177444479562, 'valuable': 3.120895416507997, 'untapped': 4.219507705176107, 'proportions': 4.219507705176107, 'as': 1.667838177139381, 'approximately': 3.120895416507997, 'sitespecific': 7.052721049232323, 'based': 1.821612432377736, 'in': 0.5414452233656357, 'temperature': 11.58190843400199, 'slope': 14.105442098464646, 'heron': 9.36268624952399, 'barrier': 3.120895416507997, 'large': 2.833213344056216, 'atypical': 4.219507705176107, 'differences': 6.066849383519662, 'were': 0.5059356384717989, 'not': 1.2237754316221157, 'flat': 2.833213344056216, 'absolute': 4.219507705176107, 'skeleton': 14.16606672028108, 'each': 2.2735975561207935, 'normalisation': 4.219507705176107}, {'strait': 3.120895416507997, 'good': 3.5263605246161616, 'relatively': 2.6100697927420065, 'ecosystem': 2.4277482359480516, 'it': 1.0840134892469568, 'this': 0.3693601034660482, 'condition': 1.821612432377736, 'group': 2.2735975561207935, 'merulinidae': 4.219507705176107, 'areas': 2.0222831278398874, 'are': 0.581921545449721, 'these': 1.1749852674526837, 'part': 2.2735975561207935, 'report': 3.120895416507997, 'from': 1.328319287373386, 'revisions': 4.219507705176107, 'identified': 2.2735975561207935, 'gaspar': 4.219507705176107, 'fair': 3.5263605246161616, 'eastern': 3.120895416507997, 'locations': 2.833213344056216, 'three': 1.7346010553881064, 'poritidae': 4.219507705176107, 'were': 2.0237425538871956, 'cover': 3.120895416507997, 'live': 2.833213344056216, 'but': 1.329135947279942, 'survey': 4.219507705176107, 'reef': 1.4460002874192528, 'island': 3.643224864755472, 'performed': 2.833213344056216, 'transect': 2.6100697927420065, 'predominant': 4.219507705176107, 'intercept': 3.120895416507997, 'taxonomic': 2.833213344056216, 'a': 0.23052365861183235, 'present': 1.65455834771457, 'recorded': 3.833845224364122, 'the': 0.4179414840955358, 'eg': 4.219507705176107, 'region': 2.0222831278398874, 'mangrove': 3.5263605246161616, 'beds': 4.219507705176107, 'concluded': 3.5263605246161616, 'acroporidae': 3.120895416507997, 'anthropogenic': 2.4277482359480516, 'there': 2.4277482359480516, 'results': 1.2750687260096663, 'reefs': 0.8873031950009027, 'coastal': 2.4277482359480516, 'has': 2.658271894559884, 'sumatra': 4.219507705176107, 'seagrass': 3.5263605246161616, 'management': 3.120895416507997, 'was': 0.870636142515691, 'to': 0.06062462181643484, 'new': 1.821612432377736, 'following': 2.4277482359480516, 'dead': 3.5263605246161616, 'losses': 4.219507705176107, 'bangka': 16.878030820704428, 'for': 0.870636142515691, 'showed': 1.3862943611198906, 'study': 0.7537718023763802, 'various': 2.6100697927420065, 'indonesia': 4.2801323269925415, 'however': 1.3862943611198906, 'that': 0.870636142515691, 'been': 1.65455834771457, 'in': 0.2256021764023482, 'resources': 3.120895416507997, 'threatened': 8.439015410352214, 'community': 3.120895416507997, 'activities': 2.1400661634962708, 'ie': 3.120895416507997, 'tin': 8.439015410352214, 'coral': 1.1649360866457443, 'mining': 7.052721049232323, 'family': 2.6100697927420065, 'belitung': 17.63180262308081, 'ojective': 4.219507705176107, 'and': 0.07407542892570342, 'islands': 9.094390224483174, 'illegal': 4.219507705176107, 'by': 0.4128452154057869, 'species': 3.4088475007585304, 'assessment': 3.5263605246161616, 'is': 1.0449200828046474, 'status': 2.6100697927420065, 'important': 2.0222831278398874, 'mitigation': 4.219507705176107, 'of': 0.13333577206626615, 'forests': 4.219507705176107, 'examine': 2.4277482359480516, 'line': 3.120895416507997, 'scleractinian': 3.833845224364122, 'corals': 2.454930970541854}, {'concentrations': 3.120895416507997, 'possibly': 4.219507705176107, 'acclimatization': 4.219507705176107, 'may': 1.5114575040738967, 'suggest': 2.4277482359480516, 'our': 2.1400661634962708, 'pronounced': 4.219507705176107, 'maintained': 3.5263605246161616, 'significant': 2.2735975561207935, 'colony': 1.916922612182061, 'values': 3.120895416507997, 'summer': 3.120895416507997, 'both': 1.329135947279942, 'influenced': 8.439015410352214, 'significantly': 1.821612432377736, 'season': 5.220139585484013, 'irrespective': 4.219507705176107, 'than': 3.643224864755472, 'was': 1.741272285031382, 'showed': 1.3862943611198906, 'two': 2.5501374520193325, 'estimated': 8.439015410352214, 'belle': 4.219507705176107, 'sites': 2.0222831278398874, 'by': 1.2385356462173607, 'light': 6.241790833015994, 'chlorophyll': 7.052721049232323, 'size': 4.2801323269925415, 'symbiodinium': 10.579081573848484, 'these': 4.699941069810735, 'cell': 3.5263605246161616, 'thermal': 2.6100697927420065, 'host': 2.6100697927420065, 'with': 0.9830622211964402, 'reef': 3.615000718548132, 'compared': 1.329135947279942, 'shown': 2.833213344056216, 'studied': 1.65455834771457, 'vary': 4.219507705176107, 'been': 1.65455834771457, 'changing': 4.219507705176107, 'have': 1.000631880307906, 'acropora': 0.45830758948254424, 'depending': 4.219507705176107, 'physiological': 6.241790833015994, 'seasonal': 2.6100697927420065, 'climate': 2.1400661634962708, 'remain': 3.5263605246161616, 'geographical': 4.219507705176107, 'colonies': 6.118877158110578, 'factors': 2.0222831278398874, 'mare': 4.219507705176107, 'such': 1.580450375560848, 'for': 0.4353180712578455, 'andor': 3.5263605246161616, 'environments': 3.120895416507997, 'at': 1.6366206470279026, 'a': 2.074712927506491, 'and': 0.11852068628112546, 'worldwide': 4.219507705176107, 'consequence': 4.219507705176107, 'samples': 5.750767836546183, 'thoroughly': 4.219507705176107, 'nutrient': 3.120895416507997, 'content': 5.220139585484013, 'responses': 4.855496471896103, 'bleaching': 9.710992943792206, 'that': 0.870636142515691, 'result': 2.6100697927420065, 'characteristics': 5.666426688112432, 'as': 2.7797302952323015, 'to': 0.24249848726573936, 'lower': 2.2735975561207935, 'broad': 4.219507705176107, 'less': 2.4277482359480516, 'change': 2.1400661634962708, 'but': 2.658271894559884, 'are': 1.163843090899442, 'coral': 0.5824680433228722, 'show': 5.220139585484013, 'environmental': 1.7346010553881064, 'coast': 11.332853376224865, 'differential': 3.5263605246161616, 'over': 2.0222831278398874, 'on': 0.5306282510621704, 'characterized': 3.120895416507997, 'productivity': 8.439015410352214, 'density': 5.220139585484013, 'well': 2.1400661634962708, 'thermallydisparate': 4.219507705176107, 'increasing': 2.2735975561207935, 'scales': 4.219507705176107, 'symbiont': 10.579081573848484, 'susceptibilities': 4.219507705176107, 'sampling': 3.120895416507997, 'along': 6.8207926683623805, 'scale': 8.49964003216865, 'km': 3.120895416507997, 'be': 0.664159643686693, 'understood': 3.5263605246161616, 'displaying': 4.219507705176107, 'mauritius': 3.5263605246161616, 'contrasting': 3.5263605246161616, 'in': 0.36096348224375713, 'difference': 5.220139585484013, 'we': 2.772588722239781, 'study': 0.7537718023763802, 'examined': 2.2735975561207935, 'muricata': 3.120895416507997, 'similar': 2.2735975561207935, 'seasonally': 3.5263605246161616, 'harbor': 3.5263605246161616, 'clade': 8.439015410352214, 'of': 0.07407542892570342, 'lagoon': 2.833213344056216, 'the': 0.05970592629936226, 'parameters': 2.6100697927420065, 'this': 0.7387202069320964, 'conditions': 4.044566255679775, 'events': 2.6100697927420065, 'occurring': 2.833213344056216, 'only': 1.65455834771457, 'data': 2.1400661634962708, 'coastreef': 12.658523115528322, 'site': 8.49964003216865, 'habitats': 3.120895416507997, 'observed': 1.4469189829363254, 'temperature': 1.65455834771457, 'variation': 2.833213344056216, 'histories': 4.219507705176107, 'higher': 4.044566255679775, 'winter': 5.666426688112432}, {'restoration': 2.6100697927420065, 'largescale': 3.120895416507997, 'for': 0.4353180712578455, 'candidate': 3.5263605246161616, 'thus': 2.4277482359480516, 'is': 0.3483066942682158, 'best': 3.120895416507997, 'it': 1.0840134892469568, 'life': 3.120895416507997, 'kmode': 3.5263605246161616, 'tending': 3.5263605246161616, 'no': 2.0222831278398874, 'frondlfera': 3.5263605246161616, 'tm': 3.5263605246161616, 'dunng': 3.5263605246161616, 'b': 2.833213344056216, 'n': 2.6100697927420065, 'displayed': 2.833213344056216, 'strategy': 3.120895416507997, 'responses': 2.4277482359480516, 'frondifera': 3.5263605246161616, 'damcornis': 3.5263605246161616, 'acropora': 0.45830758948254424, 'fragmentation': 2.833213344056216, 'populations': 2.2735975561207935, 'intermediate': 3.5263605246161616, 'related': 2.2735975561207935, 'hyaanthus': 3.5263605246161616, 'uslng': 3.5263605246161616, 'feasibility': 3.5263605246161616, 'damlcornis': 3.5263605246161616, 'rapid': 3.120895416507997, 'concerned': 3.5263605246161616, 'hyacinthus': 3.120895416507997, 'study': 0.7537718023763802, 'showed': 4.1588830833596715, 'differences': 2.0222831278398874, 'highest': 2.0222831278398874, 'reef': 1.4460002874192528, 'with': 0.32768740706548005, 'mortality': 9.710992943792206, 'could': 2.1400661634962708, 'a': 1.8441892688946588, 't': 3.120895416507997, 'temperatures': 2.1400661634962708, 'linear': 9.36268624952399, 's': 4.855496471896103, 'philippine': 3.5263605246161616, 'through': 2.2735975561207935, 'new': 1.821612432377736, 'growth': 6.61823339085828, 'in': 0.18048174112187856, 'coral': 0.3883120288819148, 'pavona': 7.052721049232323, 'terms': 3.120895416507997, 'were': 1.0118712769435978, 'dominant': 2.4277482359480516, 'ecologically': 3.5263605246161616, 'both': 1.329135947279942, 'rmode': 3.5263605246161616, 'fared': 3.5263605246161616, 'species': 3.4088475007585304, 'pocillopora': 2.833213344056216, 'three': 1.7346010553881064, 'which': 1.0840134892469568, 'by': 0.4128452154057869, 'lifehistory': 3.5263605246161616, 'u': 3.120895416507997, 'northern': 3.5263605246161616, 'and': 0.0888905147108441, 'suitable': 2.6100697927420065, 'transplantation': 7.830209378226019, 'high': 4.1588830833596715, 'to': 0.3031231090821742, 'tendencies': 3.120895416507997, 'of': 0.10370560049598478, 'the': 0.26867666834713017, 'was': 0.870636142515691, 'deliberate': 3.5263605246161616, 'poorly': 2.833213344056216, 'also': 1.3862943611198906, 'compared': 1.329135947279942, 'estabhshng': 3.5263605246161616, 'this': 0.7387202069320964, 'e': 4.855496471896103, 'part': 2.2735975561207935, 'though': 2.833213344056216, 'their': 1.2750687260096663, 'respective': 3.5263605246161616, 'towards': 6.241790833015994, 'an': 1.1749852674526837, 'mortahty': 3.5263605246161616, 'but': 1.329135947279942, 'purpose': 2.2735975561207935, 'p': 2.2735975561207935, 'rates': 9.710992943792206, 'response': 3.833845224364122, 'pocllopora': 3.5263605246161616, 'damicornis': 3.120895416507997, 'distinct': 2.6100697927420065, 'had': 4.547195112241587, 'strategies': 3.120895416507997, 'increased': 2.2735975561207935, 'relatively': 2.6100697927420065, 'transplants': 3.5263605246161616, 'initial': 2.833213344056216, 'poor': 3.5263605246161616, 'experiment': 3.5263605246161616, 'they': 2.2735975561207935, 'examine': 2.4277482359480516, 'successful': 3.120895416507997, 'certain': 3.120895416507997, 'adaptation': 3.120895416507997, 'after': 1.65455834771457, 'history': 2.6100697927420065, 'year': 4.547195112241587, 'h': 5.666426688112432, 'y': 3.5263605246161616}, {'mix': 4.219507705176107, 'has': 1.329135947279942, 'ruderal': 4.219507705176107, 'grows': 3.5263605246161616, 'than': 3.643224864755472, 'software': 4.219507705176107, 'condition': 3.643224864755472, 'with': 0.6553748141309601, 'reef': 2.8920005748385056, 'benuang': 12.658523115528322, 'analyzed': 2.833213344056216, 'categories': 4.219507705176107, 'captured': 4.219507705176107, 'coast': 8.49964003216865, 'west': 3.120895416507997, 'station': 2.4277482359480516, 'morphology': 7.052721049232323, 'to': 0.1818738654493045, 'all': 3.4692021107762128, 'slower': 4.219507705176107, 'as': 1.1118921180929207, 'island': 5.464837297133208, 'video': 4.219507705176107, 'recorded': 1.916922612182061, 'count': 3.5263605246161616, 'one': 1.2237754316221157, 'triangle': 3.5263605246161616, 'method': 2.0222831278398874, 'in': 0.4060839175242268, 'excel': 3.5263605246161616, 'good': 3.5263605246161616, 'higher': 2.0222831278398874, 'cvt': 4.219507705176107, 'conservation': 4.2801323269925415, 'study': 0.7537718023763802, 'branching': 5.220139585484013, 'find': 3.120895416507997, 'since': 3.120895416507997, 'ruderals': 4.219507705176107, 'at': 0.8183103235139513, 'is': 1.0449200828046474, 'more': 1.580450375560848, 'classified': 7.052721049232323, 'images': 3.5263605246161616, 'cpce': 3.5263605246161616, 'plate': 4.219507705176107, 'lifeforms': 10.579081573848484, 'dalam': 8.439015410352214, 'three': 1.7346010553881064, 'reefs': 2.661909585002708, 'coral': 1.941560144409574, 'growing': 3.120895416507997, 'assessing': 4.219507705176107, 'area': 1.7346010553881064, 'tolerance': 3.5263605246161616, 'value': 6.241790833015994, 'transect': 2.6100697927420065, 'observed': 1.4469189829363254, 'terdaus': 4.219507705176107, 'renggis': 12.658523115528322, 'stations': 9.710992943792206, 'tioman': 10.579081573848484, 'predicted': 3.120895416507997, 'by': 1.6513808616231476, 'east': 6.241790833015994, 'were': 1.5178069154153966, 'four': 4.044566255679775, 'most': 7.286449729510944, 'obtained': 5.666426688112432, 'but': 2.658271894559884, 'and': 0.11852068628112546, 'terdau': 8.439015410352214, 'using': 5.316543789119768, 'extension': 2.833213344056216, 'live': 2.833213344056216, 'percentage': 2.833213344056216, 'out': 2.0222831278398874, 'teluk': 8.439015410352214, 'diversity': 2.0222831278398874, 'distribution': 1.916922612182061, 'be': 0.664159643686693, 'abundant': 2.833213344056216, 'each': 2.2735975561207935, 'competitor': 4.219507705176107, 'coverage': 3.120895416507997, 'of': 0.10370560049598478, 'the': 0.38808852094585466, 'massive': 5.666426688112432, 'point': 2.6100697927420065, 'generally': 4.219507705176107, 'fast': 4.219507705176107, 'dominant': 2.4277482359480516, 'acropora': 0.9166151789650885, 'followed': 3.5263605246161616, 'was': 1.741272285031382, 'fair': 3.5263605246161616, 'abundance': 2.833213344056216, 'lifeform': 14.105442098464646, 'dominated': 2.6100697927420065, 'predict': 3.5263605246161616, 'need': 2.833213344056216, 'conserved': 3.5263605246161616, 'are': 1.163843090899442, 'very': 2.1400661634962708, 'fragile': 4.219507705176107, 'it': 1.0840134892469568}, {'mendocina': 4.219507705176107, 'aeruginosia': 4.219507705176107, 'pseudomonas': 12.658523115528322, 'bacterium': 4.219507705176107, 'antipathogenic': 4.219507705176107, 'colony': 1.916922612182061, 'factor': 3.5263605246161616, 'greater': 2.833213344056216, 'chance': 3.5263605246161616, 'kondang': 8.439015410352214, 'term': 3.5263605246161616, 'such': 1.580450375560848, 'shows': 3.5263605246161616, 'that': 0.870636142515691, 'i': 4.547195112241587, 'reserve': 10.579081573848484, 'buntung': 8.439015410352214, 'local': 2.833213344056216, 'bacteria': 6.241790833015994, 'it': 1.0840134892469568, 'due': 1.7346010553881064, 'zones': 2.833213344056216, 'still': 2.6100697927420065, 'collective': 4.219507705176107, 'nature': 9.36268624952399, 'one': 1.2237754316221157, 'which': 1.0840134892469568, 'syndrome': 16.878030820704428, 'as': 1.1118921180929207, 'island': 5.464837297133208, 'port': 4.219507705176107, 'waters': 2.1400661634962708, 'water': 3.0229150081477933, 'diseases': 3.5263605246161616, 'these': 1.1749852674526837, 'attachment': 4.219507705176107, 'activities': 2.1400661634962708, 'and': 0.13333577206626615, 'tourism': 3.120895416507997, 'white': 24.967163332063976, 'out': 4.044566255679775, 'temperatures': 2.1400661634962708, 'plague': 4.219507705176107, 'depth': 2.1400661634962708, 'disease': 4.855496471896103, 'several': 2.833213344056216, 'no': 2.0222831278398874, 'emerged': 3.5263605246161616, 'from': 1.992478931060079, 'sempu': 12.658523115528322, 'coral': 0.5824680433228722, 'fisheries': 3.5263605246161616, 'recent': 2.4277482359480516, 'this': 0.7387202069320964, 'activated': 3.5263605246161616, 'ws': 4.219507705176107, 'development': 3.120895416507997, 'a': 0.23052365861183235, 'unintegrated': 4.219507705176107, 'direct': 3.5263605246161616, 'types': 2.833213344056216, 'depan': 8.439015410352214, 'station': 4.855496471896103, 'of': 0.14815085785140683, 'the': 0.23882370519744903, 'only': 1.65455834771457, 'next': 4.219507705176107, 'data': 4.2801323269925415, 'location': 2.4277482359480516, 'ii': 5.666426688112432, 'with': 0.6553748141309601, 'echinopora': 16.878030820704428, 'transmission': 12.658523115528322, 'sp': 21.849734123532464, 'montipora': 10.440279170968026, 'was': 2.611908427547073, 'along': 2.2735975561207935, 'study': 0.7537718023763802, 'showed': 1.3862943611198906, 'syndromes': 4.219507705176107, 'determine': 2.4277482359480516, 'between': 1.3862943611198906, 'condition': 1.821612432377736, 'were': 1.0118712769435978, 'to': 0.12124924363286968, 'high': 1.3862943611198906, 'obtained': 2.833213344056216, 'on': 1.0612565021243408, 'band': 3.5263605246161616, 'carried': 2.6100697927420065, 'transmision': 4.219507705176107, 'julyaugust': 4.219507705176107, 'is': 1.0449200828046474, 'at': 0.8183103235139513, 'by': 0.4128452154057869, 'when': 3.5263605246161616, 'goal': 3.5263605246161616, 'results': 1.2750687260096663, 'there': 2.4277482359480516, 'healthy': 2.4277482359480516, 'many': 2.1400661634962708, 'corals': 0.8183103235139513, 'temperature': 1.65455834771457, 'm': 1.65455834771457, 'in': 0.13536130584140893, 'normal': 4.219507705176107, 'pathogenic': 3.5263605246161616}, {'shallowwater': 3.5263605246161616, 'that': 0.870636142515691, 'suggest': 2.4277482359480516, 'our': 2.1400661634962708, 'most': 1.821612432377736, 'than': 1.821612432377736, 'centimeter': 4.219507705176107, 'defined': 4.219507705176107, 'gonad': 3.5263605246161616, 'this': 0.3693601034660482, 'understood': 3.5263605246161616, 'index': 3.120895416507997, 'still': 2.6100697927420065, 'research': 2.1400661634962708, 'poorly': 2.833213344056216, 'despite': 3.120895416507997, 'traits': 4.219507705176107, 'first': 2.2735975561207935, 'region': 2.0222831278398874, 'history': 5.220139585484013, 'timing': 2.833213344056216, 'their': 2.5501374520193325, 'to': 0.3031231090821742, 'is': 1.3932267770728632, 'investigating': 3.5263605246161616, 'upper': 7.052721049232323, 'annual': 3.120895416507997, 'conservation': 2.1400661634962708, 'below': 4.219507705176107, 'reproductive': 7.283244707844155, 'contribute': 3.5263605246161616, 'mesophotic': 24.68452367231313, 'diversity': 2.0222831278398874, 'life': 6.241790833015994, 'occurring': 2.833213344056216, 'large': 2.833213344056216, 'host': 2.6100697927420065, 'hermaphrodite': 4.219507705176107, 'increase': 2.1400661634962708, 'understand': 3.120895416507997, 'compared': 1.329135947279942, 'spp': 3.5263605246161616, 'understanding': 1.916922612182061, 'zooxanthellate': 3.5263605246161616, 'cycle': 4.219507705176107, 'as': 0.5559460590464603, 'decade': 3.5263605246161616, 'square': 4.219507705176107, 'examined': 2.2735975561207935, 'number': 3.643224864755472, 'species': 0.8522118751896326, 'reefs': 1.7746063900018054, 'lower': 2.2735975561207935, 'eggs': 7.052721049232323, 'shallow': 4.547195112241587, 'per': 5.666426688112432, 'in': 0.27072261168281786, 'm': 3.30911669542914, 'both': 2.658271894559884, 'depth': 4.2801323269925415, 'last': 2.833213344056216, 'consecutive': 4.219507705176107, 'coral': 0.7766240577638296, 'biology': 8.49964003216865, 'fecundity': 7.052721049232323, 'synchronous': 3.5263605246161616, 'role': 2.4277482359480516, 'corals': 4.091551617569756, 'ecosystems': 2.2735975561207935, 'play': 2.6100697927420065, 'and': 0.13333577206626615, 'similar': 4.547195112241587, 'gamete': 3.120895416507997, 'on': 1.0612565021243408, 'ecology': 3.120895416507997, 'here': 2.0222831278398874, 'indopacific': 2.6100697927420065, 'acropora': 1.3749227684476328, 'tenella': 12.658523115528322, 'of': 0.19259611520682887, 'the': 0.2985296314968113, 'longer': 4.219507705176107, 'were': 1.0118712769435978, 'reef': 0.7230001437096264, 'with': 0.6553748141309601, 'may': 1.5114575040738967, 'okinawa': 4.219507705176107, 'japan': 3.5263605246161616, 'for': 0.870636142515691, 'important': 4.044566255679775, 'colonies': 1.2237754316221157, 'time': 2.0222831278398874, 'extended': 2.833213344056216, 'acroporids': 8.439015410352214, 'single': 3.5263605246161616, 'maturation': 4.219507705176107, 'gametogenic': 8.439015410352214, 'oogenesis': 4.219507705176107, 'findings': 3.120895416507997, 'spermatogenesis': 4.219507705176107, 'over': 2.0222831278398874, 'communities': 2.833213344056216, 'months': 5.220139585484013, 'respectively': 1.7346010553881064, 'spawning': 4.547195112241587, 'was': 0.4353180712578455, 'an': 3.5249558023580514, 'other': 1.65455834771457, 'gametogenesis': 3.5263605246161616, 'however': 1.3862943611198906, 'had': 2.2735975561207935, 'a': 0.9220946344473294, 'cycles': 4.219507705176107, 'less': 2.4277482359480516, 'polyp': 8.439015410352214}, {'understanding': 1.916922612182061, 'order': 2.6100697927420065, 'needed': 2.833213344056216, 'systematic': 4.219507705176107, 'term': 3.5263605246161616, 'long': 3.120895416507997, 'continuous': 4.219507705176107, 'beneficial': 4.219507705176107, 'is': 0.3483066942682158, 'malaysian': 4.219507705176107, 'its': 1.65455834771457, 'success': 3.120895416507997, 'octobernovember': 4.219507705176107, 'marchapril': 4.219507705176107, 'intermonsoon': 4.219507705176107, 'documented': 3.5263605246161616, 'faster': 3.5263605246161616, 'monitored': 4.219507705176107, 'fish': 2.833213344056216, 'other': 1.65455834771457, 'greater': 2.833213344056216, 'transplanted': 5.666426688112432, 'their': 3.8252061780289988, 'cm': 5.220139585484013, 'tropical': 2.833213344056216, 'mth': 8.439015410352214, 'were': 2.5296781923589946, 'evaluate': 2.833213344056216, 'formosa': 12.483581666031988, 'with': 1.3107496282619202, 'reef': 2.8920005748385056, 'areas': 2.0222831278398874, 'nursery': 3.5263605246161616, 'performance': 3.5263605246161616, 'extremely': 4.219507705176107, 'ecosystems': 4.547195112241587, 'protected': 3.5263605246161616, 'thus': 2.4277482359480516, 'efforts': 3.120895416507997, 'one': 1.2237754316221157, 'apart': 4.219507705176107, 'variations': 3.120895416507997, 'in': 0.49632478808516606, 'monitoring': 2.4277482359480516, 'corallivores': 4.219507705176107, 'application': 2.833213344056216, 'study': 1.5075436047527604, 'conservation': 4.2801323269925415, 'colony': 1.916922612182061, 'for': 1.741272285031382, 'mortality': 2.4277482359480516, 'crucial': 7.052721049232323, 'and': 0.19259611520682887, 'declining': 3.120895416507997, 'play': 2.6100697927420065, 'this': 0.7387202069320964, 'ecosystem': 2.4277482359480516, 'highly': 4.855496471896103, 'significantly': 3.643224864755472, 'active': 7.052721049232323, 'roles': 3.5263605246161616, 'acropora': 0.45830758948254424, 'nubbins': 3.5263605246161616, 'higher': 4.044566255679775, 'valuable': 3.120895416507997, 'nevertheless': 4.219507705176107, 'year': 2.2735975561207935, 'waters': 2.1400661634962708, 'organisms': 2.6100697927420065, 'first': 2.2735975561207935, 'are': 2.327686181798884, 'coral': 1.3590921010867019, 'marine': 4.044566255679775, 'transplantation': 5.220139585484013, 'food': 3.120895416507997, 'particularly': 3.120895416507997, 'predation': 2.833213344056216, 'globe': 3.5263605246161616, 'restoration': 5.220139585484013, 'seasonal': 2.6100697927420065, 'dynamics': 8.439015410352214, 'reefs': 1.7746063900018054, 'by': 0.8256904308115738, 'from': 1.992478931060079, 'period': 4.044566255679775, 'providing': 3.120895416507997, 'compared': 1.329135947279942, 'shelters': 4.219507705176107, 'malaysia': 3.5263605246161616, 'ranged': 3.5263605246161616, 'around': 2.1400661634962708, 'time': 2.0222831278398874, 'main': 2.1400661634962708, 'exhibit': 4.219507705176107, 'aim': 3.5263605246161616, 'protobranch': 8.439015410352214, 'nurseries': 4.219507705176107, 'have': 2.001263760615812, 'to': 0.3031231090821742, 'survivals': 12.658523115528322, 'many': 2.1400661634962708, 'unfortunately': 3.5263605246161616, 'corals': 0.8183103235139513, 'growth': 9.92735008628742, 'comparison': 2.6100697927420065, 'tioman': 3.5263605246161616, 'extension': 2.833213344056216, 'generation': 8.439015410352214, 'island': 1.821612432377736, 'a': 0.6915709758354971, 'rates': 9.710992943792206, 'during': 3.30911669542914, 'early': 3.5263605246161616, 'the': 0.38808852094585466, 'natural': 6.8207926683623805, 'of': 0.04444525735542205, 'transplant': 4.219507705176107, 'moreover': 3.5263605246161616, 'however': 1.3862943611198906, 'mostly': 2.833213344056216, 'assessed': 4.219507705176107, 'due': 1.7346010553881064, 'low': 2.2735975561207935, 'observed': 1.4469189829363254}, {'of': 0.014815085785140682, 'let': 4.219507705176107, 'in': 0.09024087056093928, 'trust': 4.219507705176107, 'she': 4.219507705176107, 'that': 0.4353180712578455, 'appreciate': 4.219507705176107, 'highly': 2.4277482359480516, 'work': 3.120895416507997, 'throughout': 2.2735975561207935, 'nature': 3.120895416507997, 'with': 0.32768740706548005, 'research': 2.1400661634962708, 'grateful': 4.219507705176107, 'supported': 4.219507705176107, 'thank': 4.219507705176107, 'opportunity': 3.5263605246161616, 'and': 0.029630171570281364, 'use': 2.833213344056216, 'want': 4.219507705176107, 'has': 1.329135947279942, 'rer': 4.219507705176107, 'this': 0.7387202069320964, 'only': 1.65455834771457, 'prof': 4.219507705176107, 'field': 2.833213344056216, 'reviewer': 4.219507705176107, 'my': 16.878030820704428, 'due': 1.7346010553881064, 'was': 0.4353180712578455, 'participate': 3.5263605246161616, 'to': 0.363747730898609, 'kind': 3.5263605246161616, 'thesis': 4.219507705176107, 'internal': 7.052721049232323, 'kindly': 4.219507705176107, 'possible': 2.833213344056216, 'put': 4.219507705176107, 'dr': 7.052721049232323, 'hochschule': 4.219507705176107, 'me': 16.878030820704428, 'those': 2.6100697927420065, 'people': 4.219507705176107, 'chrystelle': 4.219507705176107, 'agreed': 4.219507705176107, 'dedicated': 4.219507705176107, 'i': 6.8207926683623805, 'mavoungou': 4.219507705176107, 'be': 0.664159643686693, 'supervisors': 4.219507705176107, 'guided': 4.219507705176107, 'who': 12.658523115528322, 'since': 3.120895416507997, 'at': 0.8183103235139513, 'numerous': 3.5263605246161616, 'biberach': 4.219507705176107, 'special': 3.120895416507997, 'am': 4.219507705176107, 'thanks': 3.120895416507997, 'her': 12.658523115528322, 'nat': 4.219507705176107, 'are': 0.581921545449721, 'roik': 4.219507705176107, 'anna': 4.219507705176107, 'enabled': 4.219507705176107}, {'expectations': 4.219507705176107, 'consistent': 3.120895416507997, 'they': 2.2735975561207935, 'more': 1.580450375560848, 'being': 3.5263605246161616, 'did': 2.833213344056216, 'like': 4.219507705176107, 'groups': 2.833213344056216, 'literature': 3.5263605246161616, 'indicator': 4.219507705176107, 'sensitive': 3.5263605246161616, 'water': 1.5114575040738967, 'km': 3.120895416507997, 'a': 0.4610473172236647, 'we': 2.772588722239781, 'communities': 5.666426688112432, 'community': 3.120895416507997, 'patterns': 1.7346010553881064, 'along': 2.2735975561207935, 'or': 1.2750687260096663, 'islands': 6.8207926683623805, 'composition': 2.833213344056216, 'usually': 2.4277482359480516, 'from': 2.656638574746772, 'thailand': 8.439015410352214, 'strong': 2.833213344056216, 'compared': 1.329135947279942, 'quality': 3.120895416507997, 'fringing': 3.120895416507997, 'underwater': 3.120895416507997, 'inshoreoffshore': 4.219507705176107, 'number': 1.821612432377736, 'in': 0.27072261168281786, 'exceptions': 4.219507705176107, 'matter': 4.219507705176107, 'relatively': 2.6100697927420065, 'influences': 4.219507705176107, 'sea': 1.821612432377736, 'assemblages': 9.36268624952399, 'mainland': 12.658523115528322, 'whether': 2.6100697927420065, 'around': 4.2801323269925415, 'systems': 3.120895416507997, 'there': 4.855496471896103, 'materialize': 4.219507705176107, 'reefs': 3.549212780003611, 'that': 1.3059542137735365, 'conclude': 4.219507705176107, 'and': 0.10370560049598478, 'describe': 3.120895416507997, 'the': 0.2089707420477679, 'of': 0.07407542892570342, 'offshore': 14.16606672028108, 'while': 3.833845224364122, 'andaman': 3.120895416507997, 'podabacia': 4.219507705176107, 'continental': 4.219507705176107, 'coral': 0.970780072204787, 'are': 1.745764636349163, 'associated': 2.2735975561207935, 'not': 3.671326294866347, 'fundamental': 4.219507705176107, 'between': 4.1588830833596715, 'reef': 2.8920005748385056, 'with': 1.9661244423928803, 'quite': 3.5263605246161616, 'inshore': 12.483581666031988, 'terrigenous': 4.219507705176107, 'diminish': 4.219507705176107, 'variable': 3.5263605246161616, 'expected': 3.5263605246161616, 'habitat': 4.219507705176107, 'level': 2.833213344056216, 'southern': 5.220139585484013, 'however': 1.3862943611198906, 'found': 1.4469189829363254, 'comprised': 4.219507705176107, 'distance': 6.241790833015994, 'two': 1.2750687260096663, 'basic': 3.120895416507997, 'types': 2.833213344056216, 'were': 3.035613830830793, 'to': 0.1818738654493045, 'high': 1.3862943611198906, 'obviously': 4.219507705176107, 'different': 1.821612432377736, 'environmental': 3.4692021107762128, 'common': 2.6100697927420065, 'including': 2.1400661634962708, 'visibility': 3.5263605246161616, 'few': 2.833213344056216, 'conditions': 4.044566255679775, 'suspended': 3.5263605246161616, 'pectinia': 4.219507705176107, 'which': 1.0840134892469568, 'numbers': 3.5263605246161616, 'them': 2.6100697927420065, 'always': 4.219507705176107, 'assuming': 4.219507705176107, 'tended': 4.219507705176107, 'transect': 2.6100697927420065, 'aligned': 4.219507705176107, 'by': 0.8256904308115738, 'sites': 2.0222831278398874, 'be': 0.664159643686693, 'characterized': 6.241790833015994, 'differences': 6.066849383519662, 'plerogyra': 4.219507705176107, 'higher': 2.0222831278398874, 'montipora': 5.220139585484013, 'relationship': 3.5263605246161616, 'acropora': 1.3749227684476328, 'studies': 1.916922612182061, 'lobophyllia': 4.219507705176107, 'colonies': 1.2237754316221157}, {'digitifera': 3.120895416507997, 'different': 1.821612432377736, 'but': 1.329135947279942, 'toward': 3.5263605246161616, 'has': 2.658271894559884, 's': 2.4277482359480516, 'differential': 3.5263605246161616, 'investigated': 2.0222831278398874, 'attributed': 3.120895416507997, 'exploration': 4.219507705176107, 'oil': 4.219507705176107, 'mining': 3.5263605246161616, 'activities': 4.2801323269925415, 'land': 4.219507705176107, 'contributions': 3.5263605246161616, 'remarkable': 4.219507705176107, 'indicating': 2.6100697927420065, 'bioaccumulation': 16.878030820704428, 'abilities': 4.219507705176107, 'showed': 6.931471805599453, 'cu': 10.579081573848484, 'cd': 10.579081573848484, 'fe': 10.579081573848484, 'for': 1.3059542137735365, 'flashfloods': 8.439015410352214, 'hard': 10.579081573848484, 'minimized': 4.219507705176107, 'from': 1.328319287373386, 'temporary': 4.219507705176107, 'tendency': 4.219507705176107, 'atomic': 4.219507705176107, 'concentrations': 3.120895416507997, 'yongei': 4.219507705176107, 'absorption': 4.219507705176107, 'mn': 12.658523115528322, 'have': 1.000631880307906, 'ni': 25.317046231056644, 'intensively': 4.219507705176107, 'spectrophotometer': 3.5263605246161616, 'co': 12.658523115528322, 'by': 0.4128452154057869, 'aqaba': 21.097538525880534, 'using': 1.329135947279942, 'stylophora': 4.219507705176107, 'western': 9.36268624952399, 'sp': 7.283244707844155, 'significantly': 5.464837297133208, 'part': 2.2735975561207935, 'within': 4.2801323269925415, 'measured': 2.6100697927420065, 'based': 1.821612432377736, 'side': 21.158163147696968, 'detected': 3.5263605246161616, 'except': 4.219507705176107, 'flats': 4.219507705176107, 'highest': 10.111415639199437, 'pb': 16.878030820704428, 'off': 3.120895416507997, 'affected': 2.4277482359480516, 'skeletons': 12.658523115528322, 'incorporation': 4.219507705176107, 'were': 2.5296781923589946, 'metals': 12.658523115528322, 'and': 0.20741120099196955, 'gulf': 31.320837512904077, 'of': 0.281486629917673, 'averages': 8.439015410352214, 'the': 0.9851477839394772, 'lowest': 7.830209378226019, 'heavy': 12.658523115528322, 'acropora': 2.7498455368952657, 'tidal': 4.219507705176107, 'not': 1.2237754316221157, 'porites': 2.833213344056216, 'wadis': 21.097538525880534, 'eastern': 15.604477082539985, 'suez': 29.53655393623275, 'five': 2.833213344056216, 'in': 0.4060839175242268, 'gg': 25.317046231056644, 'tendencies': 12.483581666031988, 'forskali': 4.219507705176107, 'obvious': 3.5263605246161616, 'respectively': 1.7346010553881064, 'w': 54.85360016728939, 'along': 9.094390224483174, 'isla': 10.579081573848484, 'bank': 4.219507705176107, 'platygyra': 4.219507705176107, 'meanwhile': 3.5263605246161616, 'observed': 1.4469189829363254, 'intensive': 4.219507705176107, 'gharandel': 12.658523115528322, 'value': 3.120895416507997, 'aas': 4.219507705176107, 'was': 1.3059542137735365, 'montipora': 2.6100697927420065, 'relative': 3.5263605246161616, 'coral': 1.3590921010867019, 'watir': 8.439015410352214, 'variables': 8.439015410352214, 'towards': 3.120895416507997, 'average': 5.666426688112432, 'skeleton': 2.833213344056216, 'it': 2.1680269784939137, 'muqebla': 8.439015410352214, 'zn': 7.052721049232323, 'collected': 3.643224864755472, 'pharaonis': 4.219507705176107, 'kid': 12.658523115528322, 'selected': 2.4277482359480516, 'at': 11.456344529195318, 'is': 0.3483066942682158, 'recorded': 9.584613060910305, 'that': 0.870636142515691, 'species': 5.113271251137796, 'pistillata': 8.439015410352214, 'studied': 1.65455834771457, 'variable': 3.5263605246161616, 'high': 4.1588830833596715, 'to': 0.3031231090821742, 'accumulate': 4.219507705176107, 'their': 1.2750687260096663, 'general': 2.6100697927420065}, {'particularly': 3.120895416507997, 'banks': 4.219507705176107, 'coral': 0.1941560144409574, 'deepwater': 4.219507705176107, 'form': 2.6100697927420065, 'which': 1.0840134892469568, 'some': 2.2735975561207935, 'pacific': 3.5263605246161616, 'south': 2.6100697927420065, 'areas': 2.0222831278398874, 'various': 2.6100697927420065, 'faunas': 4.219507705176107, 'distributions': 3.5263605246161616, 'common': 2.6100697927420065, 'closely': 3.5263605246161616, 'waters': 2.1400661634962708, 'two': 1.2750687260096663, 'one': 1.2237754316221157, 'mapped': 4.219507705176107, 'considered': 4.219507705176107, 'them': 2.6100697927420065, 'species': 3.4088475007585304, 'regions': 5.666426688112432, 'geographic': 4.219507705176107, 'the': 0.14926481574840564, 'are': 2.327686181798884, 'discussed': 3.5263605246161616, 'of': 0.13333577206626615, 'seamounts': 4.219507705176107, 'scleractinia': 14.105442098464646, 'from': 1.992478931060079, 'zoogeographic': 4.219507705176107, 'known': 3.120895416507997, 'published': 3.5263605246161616, 'including': 2.1400661634962708, 'new': 3.643224864755472, 'antarctic': 8.439015410352214, 'also': 1.3862943611198906, 'described': 3.5263605246161616, 'list': 3.5263605246161616, 'describes': 4.219507705176107, 'description': 2.833213344056216, 'and': 0.04444525735542205, 'may': 1.5114575040738967, 'subantarctic': 8.439015410352214, 'well': 2.1400661634962708, 'a': 0.4610473172236647, 'previously': 3.5263605246161616, 'records': 3.120895416507997, 'uncertain': 4.219507705176107, 'identity': 4.219507705176107, 'chronological': 4.219507705176107, 'annotated': 4.219507705176107, 'patterns': 1.7346010553881064, 'to': 0.06062462181643484, 'as': 1.1118921180929207, 'all': 1.7346010553881064, 'adjacent': 2.6100697927420065, 'papers': 4.219507705176107, 'dealing': 4.219507705176107, 'illustrated': 4.219507705176107, 'with': 0.32768740706548005, 'noted': 3.5263605246161616, 'more': 1.580450375560848, 'is': 0.3483066942682158, 'provided': 3.5263605246161616, 'analysis': 1.821612432377736}, {'suitable': 2.6100697927420065, 'are': 0.581921545449721, 'present': 1.65455834771457, 'winter': 2.833213344056216, 'monsoon': 3.5263605246161616, 'sedimentation': 3.120895416507997, 'minimum': 4.219507705176107, 'maximum': 2.6100697927420065, 'found': 1.4469189829363254, 'four': 2.0222831278398874, 'measured': 2.6100697927420065, 'rate': 5.220139585484013, 'growth': 1.65455834771457, 'species': 0.8522118751896326, 'mannar': 3.120895416507997, 'low': 2.2735975561207935, 'were': 0.5059356384717989, 'kachchh': 8.439015410352214, 'while': 1.916922612182061, 'period': 2.0222831278398874, 'from': 0.664159643686693, 'fragments': 2.1400661634962708, 'family': 2.6100697927420065, 'coral': 0.1941560144409574, 'the': 0.11941185259872451, 'gulf': 7.830209378226019, 'in': 0.31584304696328747, 'showed': 1.3862943611198906, 'study': 0.7537718023763802, 'complete': 2.833213344056216, 'collected': 1.821612432377736, 'of': 0.14815085785140683, 'transplanted': 5.666426688112432, 'season': 5.220139585484013, 'acroporiidae': 4.219507705176107, 'acropora': 0.9166151789650885, 'under': 1.821612432377736, 'live': 2.833213344056216, 'narara': 12.658523115528322, 'pirotan': 12.658523115528322, 'sp': 4.855496471896103, 'and': 0.11852068628112546, 'mithapur': 4.219507705176107, 'higher': 2.0222831278398874, 'it': 2.1680269784939137, 'nubbins': 7.052721049232323, 'reefs': 0.8873031950009027, 'that': 0.870636142515691, 'marine': 2.0222831278398874, 'for': 0.870636142515691, 'colonies': 1.2237754316221157, 'national': 3.120895416507997, 'transplantation': 2.6100697927420065, 'all': 1.7346010553881064, 'scleractinian': 1.916922612182061, 'observed': 1.4469189829363254, 'corals': 0.8183103235139513, 'survived': 8.439015410352214, 'island': 3.643224864755472, 'months': 2.6100697927420065, 'one': 1.2237754316221157, 'montipora': 5.220139585484013, 'was': 1.741272285031382, 'alive': 4.219507705176107, 'out': 4.044566255679775, 'during': 1.65455834771457, 'stayed': 4.219507705176107, 'total': 2.6100697927420065, 'park': 3.120895416507997, 'samples': 3.833845224364122, 'reef': 1.4460002874192528}, {'where': 2.2735975561207935, 'determining': 4.219507705176107, 'likely': 2.833213344056216, 'most': 1.821612432377736, 'larval': 4.219507705176107, 'post': 4.219507705176107, 'point': 2.6100697927420065, 'will': 3.120895416507997, 'observations': 2.4277482359480516, 'coelenterates': 4.219507705176107, 'range': 2.4277482359480516, 'wide': 3.120895416507997, 'developing': 4.219507705176107, 'if': 3.5263605246161616, 'expected': 3.5263605246161616, 'be': 0.664159643686693, 'would': 3.5263605246161616, 'degree': 3.120895416507997, 'difference': 2.6100697927420065, 'packets': 4.219507705176107, 'colonies': 1.2237754316221157, 'evidence': 5.220139585484013, 'than': 1.821612432377736, 'both': 1.329135947279942, 'numerous': 3.5263605246161616, 'and': 0.10370560049598478, 'similar': 4.547195112241587, 'pattern': 2.6100697927420065, 'compared': 1.329135947279942, 'period': 2.0222831278398874, 'while': 1.916922612182061, 'from': 1.328319287373386, 'not': 1.2237754316221157, 'goniastrea': 8.439015410352214, 'had': 2.2735975561207935, 'comparison': 2.6100697927420065, 'was': 1.741272285031382, 'two': 3.8252061780289988, 'heron': 6.241790833015994, 'gfavulus': 16.878030820704428, 'retain': 4.219507705176107, 'no': 2.0222831278398874, 'is': 0.3483066942682158, 'at': 3.273241294055805, 'reproductive': 4.855496471896103, 'island': 7.286449729510944, 'helped': 4.219507705176107, 'other': 1.65455834771457, 'an': 2.3499705349053674, 'protandrous': 4.219507705176107, 'behaviour': 8.439015410352214, 'adolescent': 4.219507705176107, 'there': 2.4277482359480516, 'results': 2.5501374520193325, 'apera': 4.219507705176107, 'but': 1.329135947279942, 'mode': 4.219507705176107, 'differences': 4.044566255679775, 'eggs': 14.105442098464646, 'vicinity': 3.5263605246161616, 'the': 0.5672062998439414, 'of': 0.2370413725622509, 'by': 0.4128452154057869, 'species': 5.113271251137796, 'magnetic': 8.439015410352214, 'with': 0.6553748141309601, 'reef': 0.7230001437096264, 'result': 2.6100697927420065, 'recorded': 1.916922612182061, 'that': 0.870636142515691, 'expelled': 4.219507705176107, 'sperm': 7.052721049232323, 'biology': 2.833213344056216, 'for': 0.870636142515691, 'such': 1.580450375560848, 'a': 0.4610473172236647, 'failed': 4.219507705176107, 'might': 3.120895416507997, 'very': 2.1400661634962708, 'sympatric': 3.5263605246161616, 'as': 1.667838177139381, 'to': 0.1818738654493045, 'any': 2.6100697927420065, 'larvae': 7.052721049232323, 'aspera': 12.483581666031988, 'determine': 2.4277482359480516, 'between': 1.3862943611198906, 'retention': 4.219507705176107, 'gametes': 3.5263605246161616, 'reported': 3.120895416507997, 'separately': 3.5263605246161616, 'development': 6.241790833015994, 'quinn': 4.219507705176107, 'egg': 10.579081573848484, 'kojis': 4.219507705176107, 'more': 1.580450375560848, 'together': 3.5263605246161616, 'aggregation': 4.219507705176107, 'were': 1.0118712769435978, 'in': 0.31584304696328747, 'detect': 3.120895416507997, 'found': 1.4469189829363254, 'this': 0.7387202069320964, 'effect': 2.6100697927420065, 'size': 2.1400661634962708, 'adult': 8.439015410352214, 'spawning': 6.8207926683623805, 'are': 0.581921545449721, 'smaller': 4.219507705176107, 'those': 2.6100697927420065, 'buoyant': 4.219507705176107, 'sticky': 8.439015410352214, 'which': 2.1680269784939137, 'released': 3.5263605246161616, 'spatial': 3.5263605246161616, 'g': 10.579081573848484, 'examined': 2.2735975561207935, 'on': 1.5918847531865112, 'settle': 4.219507705176107, 'flat': 2.833213344056216, 'have': 1.000631880307906, 'whether': 2.6100697927420065, 'factor': 3.5263605246161616, 'observed': 1.4469189829363254, 'these': 2.3499705349053674, 'buoyancy': 4.219507705176107, 'sinking': 8.439015410352214, 'distribution': 1.916922612182061}, {'new': 1.821612432377736, 'but': 1.329135947279942, 'time': 2.0222831278398874, 'external': 4.219507705176107, 'affected': 2.4277482359480516, 'was': 0.870636142515691, 'dominant': 2.4277482359480516, 'distribution': 1.916922612182061, 'by': 0.4128452154057869, 'east': 3.120895416507997, 'species': 1.7044237503792652, 'evenness': 4.219507705176107, 'high': 1.3862943611198906, 'index': 3.120895416507997, 'shannonwiener': 4.219507705176107, 'on': 0.5306282510621704, 'purpose': 2.2735975561207935, 'to': 0.06062462181643484, 'reef': 2.1690004311288793, 'part': 2.2735975561207935, 'coral': 0.7766240577638296, 'are': 1.163843090899442, 'factors': 2.0222831278398874, 'indicated': 2.2735975561207935, 'seagrass': 3.5263605246161616, 'not': 1.2237754316221157, 'semut': 4.219507705176107, 'belitung': 14.105442098464646, 'areas': 2.0222831278398874, 'components': 3.120895416507997, 'examine': 2.4277482359480516, 'crucial': 3.5263605246161616, 'terms': 3.120895416507997, 'diversity': 6.066849383519662, 'ecosystem': 2.4277482359480516, 'results': 1.2750687260096663, 'reefs': 0.8873031950009027, 'coastal': 4.855496471896103, 'island': 9.10806216188868, 'and': 0.04444525735542205, 'abundant': 2.833213344056216, 'ecosystems': 2.2735975561207935, 'present': 1.65455834771457, 'gosong': 4.219507705176107, 'at': 0.8183103235139513, 'three': 1.7346010553881064, 'sampling': 3.120895416507997, 'needed': 2.833213344056216, 'concludes': 3.5263605246161616, 'keran': 4.219507705176107, 'fishery': 4.219507705176107, 'of': 0.11852068628112546, 'in': 0.2256021764023482, 'resources': 3.120895416507997, 'has': 2.658271894559884, 'pekandis': 4.219507705176107, 'namely': 3.120895416507997, 'the': 0.3283825946464924, 'study': 2.261315407129141, 'is': 0.6966133885364316, 'studies': 1.916922612182061, 'locations': 2.833213344056216, 'eastern': 3.120895416507997, 'show': 2.6100697927420065, 'that': 0.870636142515691, 'based': 1.821612432377736, 'this': 0.7387202069320964, 'no': 2.0222831278398874, 'mangrove': 3.5263605246161616, 'region': 2.0222831278398874, 'medium': 4.219507705176107}, {'the': 0.02985296314968113, 'representatives': 3.5263605246161616, 'diversity': 2.0222831278398874, 'coral': 0.1941560144409574, 'reef': 0.7230001437096264, 'of': 0.029630171570281364, 'localities': 4.219507705176107, 'for': 0.4353180712578455, 'and': 0.014815085785140682, 'fossil': 2.4277482359480516, 'major': 2.1400661634962708, 'component': 3.5263605246161616, 'recent': 2.4277482359480516, 'represents': 3.5263605246161616, 'modern': 2.6100697927420065, 'acropora': 0.45830758948254424, 'corals': 0.8183103235139513, 'a': 0.23052365861183235}, {'pourcalis': 4.219507705176107, 'cnrnlinn': 4.219507705176107, 'oculinidae': 4.219507705176107, 'ellis': 4.219507705176107, 'xth': 4.219507705176107, 'l': 3.5263605246161616, 'icsnror': 4.219507705176107, 'ralriak': 4.219507705176107, 'nn': 4.219507705176107, 'rhizandae': 4.219507705176107, 'edwards': 4.219507705176107, 'accollnt': 4.219507705176107, 'pr': 3.5263605246161616, 'porulaln': 4.219507705176107, 'zooggriq': 4.219507705176107, 'e': 2.4277482359480516, 'pactems': 4.219507705176107, 'material': 5.666426688112432, 'r': 2.6100697927420065, 'u': 6.241790833015994, 'um': 4.219507705176107, 'affinities': 4.219507705176107, 'h': 2.833213344056216, 'i': 6.8207926683623805, 'mrlhodr': 4.219507705176107, 'pbnrencir': 4.219507705176107, 'restme': 4.219507705176107, 'milns': 4.219507705176107, 'distribution': 1.916922612182061, 'ilrllrr': 4.219507705176107, 'station': 2.4277482359480516, 'v': 4.219507705176107, 'and': 0.014815085785140682, 'historicl': 4.219507705176107, 'list': 3.5263605246161616, 'm': 8.27279173857285, 'hy': 4.219507705176107, 'metllods': 4.219507705176107, 'tist': 4.219507705176107, 'mndrnnr': 4.219507705176107, 'alr': 4.219507705176107, 'rnyeurtn': 4.219507705176107, 'of': 0.029630171570281364, 'ahhreviatiuns': 4.219507705176107, 'iwodrepmn': 4.219507705176107, 'n': 13.050348963710032, 'podoporidae': 4.219507705176107, 'milnr': 4.219507705176107, 'edward': 4.219507705176107, 'k': 10.579081573848484, 'family': 7.830209378226019, 'b': 8.49964003216865, 'solandel': 4.219507705176107, 'asprrvin': 4.219507705176107, 'ridley': 4.219507705176107, 'iiairnr': 4.219507705176107, 'lhhnmiir': 4.219507705176107, 's': 4.855496471896103, 't': 3.120895416507997, 'a': 0.9220946344473294, 'faunistic': 4.219507705176107, 'fbma': 4.219507705176107}, {'resource': 3.5263605246161616, 'real': 3.5263605246161616, 'highly': 2.4277482359480516, 'situation': 4.219507705176107, 'conditions': 2.0222831278398874, 'infrared': 4.219507705176107, 'green': 3.5263605246161616, 'channel': 12.658523115528322, 'red': 4.219507705176107, 'channels': 4.219507705176107, 'four': 4.044566255679775, 'dimensions': 4.219507705176107, 'explain': 4.219507705176107, 'get': 3.5263605246161616, 'able': 4.219507705176107, 'however': 1.3862943611198906, 'words': 4.219507705176107, 'linguistic': 4.219507705176107, 'related': 2.2735975561207935, 'semanticimage': 4.219507705176107, 'creating': 4.219507705176107, 'acquires': 4.219507705176107, 'characteristic': 3.5263605246161616, 'according': 2.833213344056216, 'effective': 6.241790833015994, 'database': 4.219507705176107, 'we': 4.1588830833596715, 'interpretation': 4.219507705176107, 'integrate': 8.439015410352214, 'issue': 4.219507705176107, 'integration': 8.439015410352214, 'aquaculture': 4.219507705176107, 'to': 1.454990923594436, 'computing': 31.737244721545455, 'risk': 3.5263605246161616, 'environmental': 13.876808443104851, 'quickly': 4.219507705176107, 'for': 3.0472264988049185, 'th': 3.5263605246161616, 'background': 4.219507705176107, 'design': 4.219507705176107, 'working': 4.219507705176107, 'imagery': 8.439015410352214, 'health': 15.604477082539985, 'june': 4.219507705176107, 'ejc': 4.219507705176107, 'deep': 4.219507705176107, 'seawater': 31.737244721545455, 'information': 3.120895416507997, 'present': 1.65455834771457, 'conference': 3.120895416507997, 'compose': 4.219507705176107, 'presented': 2.6100697927420065, 'presents': 4.219507705176107, 'parameters': 7.830209378226019, 'this': 5.171041448524675, 'suspended': 7.052721049232323, 'water': 6.045830016295587, 'images': 7.052721049232323, 'aspects': 3.5263605246161616, 'multimedia': 4.219507705176107, 'biodiversity': 3.120895416507997, 'be': 1.992478931060079, 'dynamically': 8.439015410352214, 'realtime': 12.658523115528322, 'spaces': 8.439015410352214, 'interpreted': 4.219507705176107, 'by': 1.6513808616231476, 'environmentanalysis': 4.219507705176107, 'such': 1.580450375560848, 'latvia': 4.219507705176107, 'knowledge': 8.49964003216865, 'semanticsearch': 12.658523115528322, 'current': 2.1400661634962708, 'acidificationph': 8.439015410352214, 'scale': 2.833213344056216, 'economic': 3.120895416507997, 'also': 2.772588722239781, 'professional': 4.219507705176107, 'happening': 4.219507705176107, 'analyzing': 4.219507705176107, 'analyze': 4.219507705176107, 'looking': 4.219507705176107, 'platform': 4.219507705176107, 'riga': 4.219507705176107, 'recognizing': 4.219507705176107, 'colorsbased': 4.219507705176107, 'that': 0.870636142515691, 'realize': 33.756061641408856, 'on': 4.775654259559533, 'activities': 2.1400661634962708, 'feature': 24.68452367231313, 'or': 1.2750687260096663, 'phenomena': 8.439015410352214, 'are': 0.581921545449721, 'utilizing': 4.219507705176107, 'space': 40.57164041460396, 'allowed': 4.219507705176107, 'of': 0.2518564583473916, 'multispectral': 42.19507705176107, 'bases': 3.120895416507997, 'modelling': 3.5263605246161616, 'concept': 12.483581666031988, 'affects': 4.219507705176107, 'created': 2.833213344056216, 'blue': 3.5263605246161616, 'changes': 5.220139585484013, 'proposed': 2.833213344056216, 'analytic': 4.219507705176107, 'creation': 4.219507705176107, 'occurring': 2.833213344056216, 'between': 2.772588722239781, 'study': 3.7688590118819008, 'take': 3.120895416507997, 'an': 4.699941069810735, 'not': 1.2237754316221157, 'global': 7.830209378226019, 'one': 1.2237754316221157, 'coral': 3.3006522454962757, 'meaningmmm': 4.219507705176107, 'as': 3.335676354278762, 'map': 3.5263605246161616, 'and': 0.6370486887610494, 'technologies': 4.219507705176107, 'systems': 3.120895416507997, 'combines': 4.219507705176107, 'reefsemantic': 8.439015410352214, 'a': 1.3831419516709942, 'detection': 3.5263605246161616, 'spectral': 38.789965770777776, 'bioindicator': 4.219507705176107, 'applies': 12.658523115528322, 'at': 1.6366206470279026, 'can': 4.741351126682544, 'is': 3.1347602484139423, 'then': 3.120895416507997, 'only': 1.65455834771457, 'overview': 4.219507705176107, 'interpret': 8.439015410352214, 'method': 14.155981894879211, 'detect': 6.241790833015994, 'analysis': 10.929674594266416, 'effectively': 4.219507705176107, 'our': 12.840396980977625, 'condition': 9.10806216188868, 'multi': 12.658523115528322, 'acropora': 0.9166151789650885, 'naturalsensing': 4.219507705176107, 'order': 2.6100697927420065, 'semantic': 71.73163098799382, 'function': 9.36268624952399, 'monitor': 7.052721049232323, 'quality': 21.846267915555977, 'title': 4.219507705176107, 'many': 2.1400661634962708, 'international': 3.120895416507997, 'tourism': 3.120895416507997, 'scientists': 3.5263605246161616, 'have': 1.000631880307906, 'location': 2.4277482359480516, 'been': 1.65455834771457, 'methods': 6.241790833015994, 'data': 12.840396980977625, 'proposes': 4.219507705176107, 'alert': 3.5263605246161616, 'therefore': 2.6100697927420065, 'difference': 2.6100697927420065, 'public': 4.219507705176107, 'puts': 4.219507705176107, 'authorities': 4.219507705176107, 'ocean': 42.316326295393935, 'used': 1.65455834771457, 'expensive': 4.219507705176107, 'several': 5.666426688112432, 'basic': 3.120895416507997, 'days': 3.5263605246161616, 'which': 4.336053956987827, 'monitoring': 19.421985887584412, 'databases': 7.052721049232323, 'projection': 8.439015410352214, 'notify': 4.219507705176107, 'users': 8.439015410352214, 'develop': 3.5263605246161616, 'oceans': 4.219507705176107, 'world': 3.120895416507997, 'new': 1.821612432377736, 'based': 10.929674594266416, 'in': 0.5414452233656357, 'main': 10.700330817481355, 'model': 2.833213344056216, 'underwater': 3.120895416507997, 'two': 2.5501374520193325, 'create': 8.439015410352214, 'aims': 2.833213344056216, 'pollution': 15.604477082539985, 'spa': 16.878030820704428, 'identified': 2.2735975561207935, 'image': 35.26360524616162, 'apply': 8.439015410352214, 'the': 0.9552948207897961, 'process': 2.833213344056216, 'cyberphysical': 4.219507705176107, 'up': 2.6100697927420065, 'cps': 4.219507705176107, 'support': 3.5263605246161616, 'functions': 5.666426688112432, 'associative': 12.658523115528322, 'mathematical': 4.219507705176107, 'multidimensional': 8.439015410352214, 'but': 2.658271894559884, 'globalocean': 4.219507705176107, 'among': 6.8207926683623805, 'environmentalsemantic': 21.097538525880534, 'system': 31.56072706732467, 'do': 8.439015410352214, 'using': 3.987407841839826, 'with': 1.9661244423928803, 'reflectance': 8.439015410352214, 'significance': 4.219507705176107, 'search': 8.439015410352214, 'approaches': 3.5263605246161616, 'realized': 4.219507705176107, 'dimensional': 3.5263605246161616, 'pollutions': 4.219507705176107, 'orthogonal': 4.219507705176107, 'tool': 3.120895416507997, 'sensingprocessingactuation': 4.219507705176107, 'equivalence': 8.439015410352214, 'physical': 4.219507705176107, 'similarity': 6.241790833015994, 'resources': 6.241790833015994, 'utilize': 4.219507705176107, 'sensing': 4.219507705176107, 'turbidity': 7.052721049232323, 'solid': 7.052721049232323, 'from': 1.328319287373386, 'research': 14.980463144473894, 'processing': 4.219507705176107, 'actual': 4.219507705176107, 'actuation': 4.219507705176107, 'represents': 3.5263605246161616, 'd': 2.833213344056216, 'fisheries': 3.5263605246161616, 'results': 1.2750687260096663, 'reefs': 1.7746063900018054, 'sharing': 4.219507705176107, 'report': 3.120895416507997, 'approach': 3.120895416507997}, {'some': 2.2735975561207935, 'values': 3.120895416507997, 'lead': 3.5263605246161616, 'may': 1.5114575040738967, 'indicating': 2.6100697927420065, 'consistently': 4.219507705176107, 'acropora': 0.45830758948254424, 'three': 1.7346010553881064, 'species': 2.556635625568898, 'comparison': 2.6100697927420065, 'artificially': 4.219507705176107, 'internal': 3.5263605246161616, 'utilising': 4.219507705176107, 'also': 1.3862943611198906, 'direct': 7.052721049232323, 'four': 2.0222831278398874, 'lcms': 8.439015410352214, 'liquid': 4.219507705176107, 'oscillation': 4.219507705176107, 'nio': 4.219507705176107, 'alter': 3.5263605246161616, 'subsequently': 4.219507705176107, 'accuracy': 4.219507705176107, 'dms': 8.439015410352214, 'samples': 1.916922612182061, 'precision': 4.219507705176107, 'hexadeuterated': 4.219507705176107, 'branching': 5.220139585484013, 'the': 0.2089707420477679, 'of': 0.13333577206626615, 'indirect': 16.878030820704428, 'el': 3.5263605246161616, 'd': 5.666426688112432, 'optimise': 4.219507705176107, 'analysis': 7.286449729510944, 'as': 0.5559460590464603, 'high': 1.3862943611198906, 'to': 0.3031231090821742, 'dimethylsulfide': 4.219507705176107, 'other': 1.65455834771457, 'all': 1.7346010553881064, 'mass': 4.2801323269925415, 'and': 0.05926034314056273, 'gc': 7.052721049232323, 'event': 2.6100697927420065, 'dimethylsulfoniopropionate': 4.219507705176107, 'for': 1.3059542137735365, 'where': 2.2735975561207935, 'coral': 1.1649360866457443, 'quantitative': 7.052721049232323, 'with': 0.32768740706548005, 'reef': 0.7230001437096264, 'headspace': 4.219507705176107, 'indirectly': 4.219507705176107, 'only': 1.65455834771457, 'usually': 2.4277482359480516, 'insignificant': 4.219507705176107, 'in': 0.4512043528046964, 'method': 8.08913251135955, 'chromatography': 8.439015410352214, 'not': 1.2237754316221157, 'dmsp': 46.414584756937174, 'analysed': 4.219507705176107, 'colonies': 1.2237754316221157, 'spectral': 7.052721049232323, 'added': 3.5263605246161616, 'a': 2.3052365861183235, 'analytical': 4.219507705176107, 'was': 1.3059542137735365, 'store': 12.658523115528322, 'detector': 3.5263605246161616, 'techniques': 3.5263605246161616, 'healthy': 2.4277482359480516, 'developed': 4.855496471896103, 'hsgcms': 16.878030820704428, 'show': 2.6100697927420065, 'that': 1.741272285031382, 'using': 2.658271894559884, 'common': 2.6100697927420065, 'equivalent': 4.219507705176107, 'indicated': 2.2735975561207935, 'sample': 2.6100697927420065, 'handling': 4.219507705176107, 'thermal': 2.6100697927420065, 'standards': 3.5263605246161616, 'did': 2.833213344056216, 'concentrations': 9.36268624952399, 'standard': 3.120895416507997, 'aspera': 12.483581666031988, 'strong': 2.833213344056216, 'compared': 1.329135947279942, 'gave': 8.439015410352214, 'under': 1.821612432377736, 'period': 2.0222831278398874, 'extended': 2.833213344056216, 'we': 2.772588722239781, 'application': 2.833213344056216, 'is': 0.3483066942682158, 'at': 0.8183103235139513, 'seasons': 3.120895416507997, 'over': 2.0222831278398874, 'fiveyear': 4.219507705176107, 'sulfurspecific': 4.219507705176107, 'field': 2.833213344056216, 'increased': 2.2735975561207935, 'heron': 3.120895416507997, 'island': 1.821612432377736, 'southern': 5.220139585484013, 'scleractinian': 1.916922612182061, 'great': 3.120895416507997, 'endogenous': 4.219507705176107, 'barrier': 3.120895416507997, 'ordinarily': 4.219507705176107, 'seasonally': 3.5263605246161616, 'conserve': 4.219507705176107, 'their': 1.2750687260096663, 'higher': 4.044566255679775, 'tip': 4.219507705176107, 'branch': 3.120895416507997, 'however': 1.3862943611198906, 'concentration': 3.120895416507997, 'stress': 2.4277482359480516, 'this': 0.7387202069320964, 'conditions': 2.0222831278398874, 'driven': 4.219507705176107, 'gas': 3.5263605246161616, 'by': 0.8256904308115738}, {'tab': 4.219507705176107, 'parts': 3.5263605246161616, 'sparsely': 4.219507705176107, 'mostly': 2.833213344056216, 'moderately': 8.439015410352214, 'densely': 7.052721049232323, 'arranged': 10.579081573848484, 'alternatesympodially': 4.219507705176107, 'branching': 5.220139585484013, 'round': 8.439015410352214, 'liplike': 4.219507705176107, 'arborescent': 8.439015410352214, 'simple': 25.317046231056644, 'few': 5.666426688112432, 'open': 4.219507705176107, 'lip': 4.219507705176107, 'into': 1.821612432377736, 'absent': 4.219507705176107, 'wall': 12.658523115528322, 'fused': 4.219507705176107, 'upper': 3.5263605246161616, 'labellate': 4.219507705176107, 'aspera': 3.120895416507997, 'subarborescent': 4.219507705176107, 'other': 3.30911669542914, 'opening': 4.219507705176107, 'long': 3.120895416507997, 'form': 2.6100697927420065, 'studies': 1.916922612182061, 'robusta': 4.219507705176107, 'various': 5.220139585484013, 'shape': 3.5263605246161616, 'extant': 12.658523115528322, 'dimidiate': 8.439015410352214, 'both': 2.658271894559884, 'represented': 3.120895416507997, 'branches': 2.2735975561207935, 'georgia': 8.439015410352214, 'structure': 2.0222831278398874, 'wellpreserved': 3.5263605246161616, 'with': 3.6045614777202806, 'light': 3.120895416507997, 'suwannee': 4.219507705176107, 'member': 4.219507705176107, 'groups': 11.332853376224865, 'species': 8.522118751896326, 'reefs': 1.7746063900018054, 'lower': 4.547195112241587, 'previously': 7.052721049232323, 'examine': 2.4277482359480516, 'horizontal': 2.833213344056216, 'limestone': 3.5263605246161616, 'reef': 0.7230001437096264, 'here': 2.0222831278398874, 'speciesgroup': 8.439015410352214, 'dimorphic': 4.219507705176107, 'axial': 24.68452367231313, 'studying': 4.219507705176107, 'response': 1.916922612182061, 'colony': 1.916922612182061, 'indopacific': 7.830209378226019, 'for': 0.4353180712578455, 'an': 1.1749852674526837, 'exemplar': 4.219507705176107, 'fossils': 3.120895416507997, 'five': 2.833213344056216, 'strongly': 4.219507705176107, 'horrida': 3.5263605246161616, 'morphological': 3.120895416507997, 'records': 6.241790833015994, 'from': 3.320798218433465, 'undocumented': 4.219507705176107, 'climate': 2.1400661634962708, 'of': 0.2518564583473916, 'southern': 2.6100697927420065, 'cervicornis': 11.332853376224865, 'diverse': 2.6100697927420065, 'formation': 3.120895416507997, 'acropora': 3.666460715860354, 'deposits': 4.219507705176107, 'diversification': 3.120895416507997, 'between': 5.545177444479562, 'fragments': 2.1400661634962708, 'evidence': 2.6100697927420065, 'oligocene': 12.658523115528322, 'genus': 11.332853376224865, 'we': 2.772588722239781, 'a': 0.9220946344473294, 'kpg': 4.219507705176107, 'hispidose': 8.439015410352214, 'appressed': 8.439015410352214, 'weisbord': 4.219507705176107, 'earliest': 4.219507705176107, 'is': 1.0449200828046474, 'europe': 8.439015410352214, 'probably': 3.5263605246161616, 'region': 4.044566255679775, 'persistent': 4.219507705176107, 'extending': 4.219507705176107, 'sometimes': 8.439015410352214, 'present': 9.92735008628742, 'geohistory': 4.219507705176107, 'tubonariform': 4.219507705176107, 'unique': 4.219507705176107, 'event': 2.6100697927420065, 'genera': 2.6100697927420065, 'change': 2.1400661634962708, 'most': 1.821612432377736, 'reefbuilding': 2.833213344056216, 'to': 0.6062462181643484, 'future': 2.4277482359480516, 'critical': 4.219507705176107, 'elaborate': 4.219507705176107, 'western': 15.604477082539985, 'family': 2.6100697927420065, 'florida': 10.579081573848484, 'radial': 56.421768393858585, 'elaborated': 4.219507705176107, 'coral': 0.1941560144409574, 'novel': 3.5263605246161616, 'uniquely': 4.219507705176107, 'usa': 3.5263605246161616, 'based': 1.821612432377736, 'in': 0.8572882703289232, 'main': 4.2801323269925415, 'digitate': 3.120895416507997, 'elegans': 4.219507705176107, 'regarded': 4.219507705176107, 'costate': 16.878030820704428, 'the': 1.0150007470891584, 'living': 2.6100697927420065, 'diversity': 4.044566255679775, 'their': 1.2750687260096663, 'lineages': 17.63180262308081, 'dating': 3.5263605246161616, 'mya': 4.219507705176107, 'late': 4.219507705176107, 'sized': 25.317046231056644, 'and': 0.31111680148795434, 'eocene': 8.439015410352214, 'european': 8.439015410352214, 'england': 4.219507705176107, 'usually': 2.4277482359480516, 'recognised': 8.439015410352214, 'early': 3.5263605246161616, 'americas': 4.219507705176107, 'fossil': 4.855496471896103, 'respectively': 1.7346010553881064, 'because': 2.4277482359480516, 'formed': 3.5263605246161616, 'recorded': 1.916922612182061, 'that': 0.870636142515691, 'miocene': 12.658523115528322, 'developed': 4.855496471896103, 'paleogene': 4.219507705176107, 'atlantic': 25.317046231056644, 'areas': 2.0222831278398874, 'environmental': 1.7346010553881064, 'reefbearing': 4.219507705176107, 'dominated': 10.440279170968026, 'reticulate': 21.097538525880534, 'arcadia': 4.219507705176107, 'first': 2.2735975561207935, 'are': 1.163843090899442, 'allow': 3.5263605246161616, 'american': 4.219507705176107, 'material': 5.666426688112432, 'group': 9.094390224483174, 'never': 4.219507705176107, 'critically': 4.219507705176107, 'flaring': 4.219507705176107, 'played': 4.219507705176107, 'less': 2.4277482359480516, 'as': 3.335676354278762, 'approximately': 3.120895416507997, 'now': 7.052721049232323, 'two': 5.100274904038665, 'yet': 3.120895416507997, 'undescribed': 4.219507705176107, 'samples': 1.916922612182061, 'domination': 4.219507705176107, 'known': 3.120895416507997, 'endangered': 3.5263605246161616, 'seven': 8.439015410352214, 'could': 4.2801323269925415, 'not': 1.2237754316221157, 'it': 2.1680269784939137, 'be': 1.992478931060079, 'matched': 4.219507705176107, 'within': 2.1400661634962708, 'during': 1.65455834771457, 'possible': 2.833213344056216, 'may': 1.5114575040738967, 'lost': 3.5263605246161616, 'categorised': 4.219507705176107, 'surviving': 4.219507705176107, 'oligocenemiocene': 4.219507705176107, 'has': 1.329135947279942, 'representatives': 3.5263605246161616, 'including': 2.1400661634962708, 'acroporidae': 3.120895416507997, 'which': 1.0840134892469568, 'tampa': 4.219507705176107, 'was': 0.4353180712578455, 'by': 0.8256904308115738, 'laterally': 8.439015410352214, 'clearly': 3.120895416507997, 'substantive': 4.219507705176107, 'one': 1.2237754316221157, 'tampaensis': 4.219507705176107, 'role': 2.4277482359480516, 'these': 2.3499705349053674, 'continuation': 4.219507705176107, 'staghorn': 2.833213344056216, 'contributed': 3.5263605246161616, 'tubular': 25.317046231056644, 'success': 3.120895416507997, 'well': 2.1400661634962708, 'feature': 3.5263605246161616, 'corals': 1.6366206470279026, 'spinules': 25.317046231056644, 'or': 8.925481082067664, 'visible': 3.5263605246161616, 'examined': 2.2735975561207935, 'only': 3.30911669542914, 'humilis': 2.6100697927420065, 'corallites': 40.57164041460396, 'on': 3.1837695063730225, 'modern': 5.220139585484013, 'short': 3.5263605246161616, 'this': 0.7387202069320964, 'coenosteum': 28.210884196929293, 'find': 3.120895416507997, 'thickened': 8.439015410352214, 'sizes': 7.052721049232323, 'across': 2.6100697927420065, 'openings': 12.658523115528322, 'evenly': 25.317046231056644, 'comparison': 2.6100697927420065, 'distribution': 1.916922612182061, 'throughout': 6.8207926683623805, 'flattened': 8.439015410352214, 'around': 2.1400661634962708, 'reticulocostate': 8.439015410352214, 'colonies': 7.342652589732694, 'subimmersed': 4.219507705176107, 'corymbose': 6.241790833015994, 'diameter': 21.846267915555977, 'more': 1.580450375560848, 'predicting': 3.5263605246161616, 'lines': 4.219507705176107, 'branch': 24.967163332063976, 'characteristics': 5.666426688112432, 'costae': 4.219507705176107}, {'era': 4.219507705176107, 'an': 1.1749852674526837, 'success': 3.120895416507997, 'dramatic': 4.219507705176107, 'play': 2.6100697927420065, 'suggests': 2.833213344056216, 'finding': 4.219507705176107, 'stress': 2.4277482359480516, 'causing': 3.120895416507997, 'also': 1.3862943611198906, 'synchrony': 8.439015410352214, 'resulting': 3.120895416507997, 'sea': 1.821612432377736, 'and': 0.07407542892570342, 'wind': 3.5263605246161616, 'factors': 2.0222831278398874, 'acropora': 0.45830758948254424, 'coral': 0.3883120288819148, 'a': 0.9220946344473294, 'physiological': 3.120895416507997, 'precise': 3.5263605246161616, 'successful': 3.120895416507997, 'to': 0.363747730898609, 'as': 1.667838177139381, 'our': 2.1400661634962708, 'timing': 14.16606672028108, 'sunset': 4.219507705176107, 'climate': 4.2801323269925415, 'spawning': 11.367987780603968, 'change': 6.420198490488812, 'this': 1.1080803103981447, 'sst': 7.052721049232323, 'that': 0.870636142515691, 'altering': 8.439015410352214, 'thought': 3.5263605246161616, 'reproduction': 6.241790833015994, 'cue': 4.219507705176107, 'controlled': 4.219507705176107, 'which': 1.0840134892469568, 'increased': 2.2735975561207935, 'field': 2.833213344056216, 'environmental': 1.7346010553881064, 'interacting': 4.219507705176107, 'by': 1.2385356462173607, 'could': 4.2801323269925415, 'proximate': 4.219507705176107, 'the': 0.2089707420477679, 'of': 0.13333577206626615, 'set': 4.219507705176107, 'corals': 1.6366206470279026, 'including': 2.1400661634962708, 'we': 1.3862943611198906, 'study': 0.7537718023763802, 'effect': 2.6100697927420065, 'ssts': 4.219507705176107, 'for': 0.4353180712578455, 'increasing': 4.547195112241587, 'egg': 10.579081573848484, 'seawater': 3.5263605246161616, 'reproductive': 2.4277482359480516, 'temperature': 6.61823339085828, 'role': 2.4277482359480516, 'c': 2.2735975561207935, 'examined': 2.2735975561207935, 'prior': 3.5263605246161616, 'time': 2.0222831278398874, 'paramount': 4.219507705176107, 'on': 1.0612565021243408, 'digitifera': 3.120895416507997, 'month': 3.120895416507997, 'period': 2.0222831278398874, 'caused': 3.5263605246161616, 'did': 5.666426688112432, 'acting': 4.219507705176107, 'stressor': 4.219507705176107, 'temperatures': 2.1400661634962708, 'advance': 4.219507705176107, 'not': 1.2237754316221157, 'surface': 2.1400661634962708, 'short': 3.5263605246161616, 'day': 3.5263605246161616, 'decreased': 2.6100697927420065, 'animals': 3.5263605246161616, 'be': 1.328319287373386, 'regional': 4.219507705176107, 'incubated': 4.219507705176107, 'patterns': 1.7346010553881064, 'is': 1.741533471341079, 'at': 0.8183103235139513, 'number': 3.643224864755472, 'in': 0.31584304696328747, 'per': 2.833213344056216, 'gametogenesis': 3.5263605246161616, 'predicted': 3.120895416507997, 'however': 1.3862943611198906, 'bundle': 4.219507705176107, 'volume': 3.5263605246161616, 'elevated': 7.052721049232323, 'significantly': 1.821612432377736, 'results': 1.2750687260096663, 'both': 1.329135947279942, 'indicate': 2.833213344056216, 'importance': 2.833213344056216, 'sperm': 3.5263605246161616, 'fecundity': 3.5263605246161616, 'accelerate': 4.219507705176107, 'reduce': 4.219507705176107}, {'ecosystem': 2.4277482359480516, 'level': 2.833213344056216, 'though': 2.833213344056216, 'even': 2.833213344056216, 'a': 0.6915709758354971, 'significantly': 1.821612432377736, 'spacing': 4.219507705176107, 'lowest': 2.6100697927420065, 'compared': 1.329135947279942, 'while': 1.916922612182061, 'in': 0.04512043528046964, 'iii': 8.439015410352214, 'ii': 5.666426688112432, 'stations': 4.855496471896103, 'respectively': 3.4692021107762128, 'survival': 7.052721049232323, 'affected': 2.4277482359480516, 'growth': 4.96367504314371, 'treatments': 3.120895416507997, 'depth': 12.840396980977625, 'aimed': 3.5263605246161616, 'acropora': 0.45830758948254424, 'rate': 5.220139585484013, 'using': 1.329135947279942, 'effect': 5.220139585484013, 'for': 0.4353180712578455, 'this': 0.3693601034660482, 'rates': 2.4277482359480516, 'describe': 3.120895416507997, 'of': 0.1777810294216882, 'muricata': 9.36268624952399, 'the': 0.4179414840955358, 'control': 6.241790833015994, 'study': 1.5075436047527604, 'showed': 2.772588722239781, 'and': 0.10370560049598478, 'different': 1.821612432377736, 'activity': 3.5263605246161616, 'water': 1.5114575040738967, 'negatively': 3.5263605246161616, 'to': 0.12124924363286968, 'threaten': 4.219507705176107, 'k': 7.052721049232323, 'was': 0.4353180712578455, 'reef': 0.7230001437096264, 'with': 0.9830622211964402, 'cultivation': 25.317046231056644, 'kappaphycus': 4.219507705176107, 'seaweed': 12.658523115528322, 'activities': 2.1400661634962708, 'alvarezii': 12.658523115528322, 'on': 1.0612565021243408, 'may': 1.5114575040738967, 'm': 11.58190843400199, 'coral': 0.7766240577638296, 'each': 2.2735975561207935, 'conducted': 2.1400661634962708, 'floating': 4.219507705176107, 'i': 4.547195112241587, 'two': 2.5501374520193325, 'at': 4.091551617569756, 'space': 6.241790833015994, 'depths': 2.833213344056216, 'cm': 28.71076772016207, 'station': 2.4277482359480516, 'reefs': 0.8873031950009027, 'results': 1.2750687260096663, 'that': 0.4353180712578455, 'highest': 2.0222831278398874}, {'ttest': 4.219507705176107, 'have': 1.000631880307906, 'independent': 3.5263605246161616, 'differed': 3.5263605246161616, 'significantly': 1.821612432377736, 'compared': 2.658271894559884, 'higher': 4.044566255679775, 'show': 2.6100697927420065, 'results': 1.2750687260096663, 'after': 1.65455834771457, 'was': 0.870636142515691, 'diving': 3.5263605246161616, 'were': 0.5059356384717989, 'relatively': 2.6100697927420065, 'ne': 12.658523115528322, 'different': 3.643224864755472, 'two': 1.2750687260096663, 'p': 2.2735975561207935, 'meter': 4.219507705176107, 'at': 1.6366206470279026, 'units': 3.5263605246161616, 'conducted': 2.1400661634962708, 'sepulu': 4.219507705176107, 'with': 0.9830622211964402, 'reef': 2.1690004311288793, 'natural': 2.2735975561207935, 'development': 3.120895416507997, 'on': 1.0612565021243408, 'in': 0.2256021764023482, 'location': 9.710992943792206, 'either': 3.120895416507997, 'corals': 2.454930970541854, 'growth': 8.27279173857285, 'that': 0.870636142515691, 'nw': 12.658523115528322, 'sedimentation': 3.120895416507997, 'this': 0.3693601034660482, 'turbidity': 7.052721049232323, 'situ': 2.6100697927420065, 'are': 0.581921545449721, 'coral': 0.5824680433228722, 'and': 0.07407542892570342, 'rehabilitation': 4.219507705176107, 'months': 2.6100697927420065, 'ten': 4.219507705176107, 'one': 1.2237754316221157, 'scuba': 4.219507705176107, 'for': 0.4353180712578455, 'study': 0.7537718023763802, 'major': 2.1400661634962708, 'limit': 4.219507705176107, 'well': 2.1400661634962708, 'seafloor': 4.219507705176107, 'scleractinian': 1.916922612182061, 'artificial': 7.052721049232323, 'known': 3.120895416507997, 'be': 0.664159643686693, 'to': 0.24249848726573936, 'basis': 4.219507705176107, 'observation': 3.5263605246161616, 'purpose': 2.2735975561207935, 'technique': 4.219507705176107, 'of': 0.11852068628112546, 'transplanted': 5.666426688112432, 'or': 1.2750687260096663, 'is': 0.3483066942682158, 'depth': 2.1400661634962708, 'aimed': 3.5263605246161616, 'monthly': 4.219507705176107, 'factors': 2.0222831278398874, 'acropora': 0.45830758948254424, 'access': 4.219507705176107, 'bangkalanmadura': 4.219507705176107, 'concrete': 8.439015410352214, 'rate': 10.440279170968026, 'labuhan': 4.219507705176107, 'millepora': 3.120895416507997, 'fragments': 4.2801323269925415, 'deployed': 4.219507705176107, 'domeshaped': 7.052721049232323, 'cmmonth': 4.219507705176107, 'the': 0.26867666834713017, 'turbid': 3.5263605246161616, 'respectively': 1.7346010553881064, 'survival': 10.579081573848484, 'coastal': 2.4277482359480516, 'containing': 3.5263605246161616, 'waters': 2.1400661634962708}, {'very': 2.1400661634962708, 'an': 2.3499705349053674, 'quite': 3.5263605246161616, 'tours': 4.219507705176107, 'for': 0.4353180712578455, 'covering': 7.052721049232323, 'percentage': 8.49964003216865, 'area': 5.203803166164319, 'coral': 0.3883120288819148, 'sand': 4.219507705176107, 'living': 2.6100697927420065, 'is': 0.3483066942682158, 'dead': 3.5263605246161616, 'basic': 3.120895416507997, 'category': 12.658523115528322, 'm': 8.27279173857285, 'concluded': 3.5263605246161616, 'marine': 4.044566255679775, 'that': 0.870636142515691, 'assessment': 3.5263605246161616, 'location': 4.855496471896103, 'scoring': 4.219507705176107, 'can': 1.580450375560848, 'lifeform': 3.5263605246161616, 'tourism': 6.241790833015994, 'developed': 2.4277482359480516, 'and': 0.05926034314056273, 'the': 0.35823555779617355, 'pasumpahan': 16.878030820704428, 'potential': 2.6100697927420065, 'has': 2.658271894559884, 'of': 0.1629659436365475, 'based': 3.643224864755472, 'this': 0.7387202069320964, 'research': 4.2801323269925415, 'with': 1.9661244423928803, 'it': 1.0840134892469568, 'study': 1.5075436047527604, 'was': 0.870636142515691, 'as': 1.1118921180929207, 'to': 0.12124924363286968, 'purpose': 2.2735975561207935, 'underwater': 6.241790833015994, 'be': 1.328319287373386, 'beach': 4.219507705176107, 'condition': 1.821612432377736, 'in': 0.09024087056093928, 'method': 2.0222831278398874, 'on': 1.0612565021243408, 'substrate': 9.36268624952399, 'island': 7.286449729510944, 'follows': 4.219507705176107, 'score': 4.219507705176107, 'waters': 6.420198490488812, 'suitable': 5.220139585484013, 'padang': 4.219507705176107, 's': 4.855496471896103, 'a': 1.1526182930591617, 'snorkelling': 8.439015410352214, 'determine': 2.4277482359480516, 'city': 4.219507705176107, 'used': 1.65455834771457, 'results': 1.2750687260096663, 'brightness': 4.219507705176107, 'weighting': 4.219507705176107, 'suitability': 8.439015410352214, 'parameters': 2.6100697927420065, 'type': 2.833213344056216}]"
      ]
     },
     "execution_count": 35,
     "metadata": {},
     "output_type": "execute_result"
    }
   ],
   "source": [
    "summary['tfidf'] = turicreate.text_analytics.tf_idf(summary['Abstract_Words_Only'])\n",
    "summary['tfidf']"
   ]
  },
  {
   "cell_type": "markdown",
   "metadata": {},
   "source": [
    "### Determine which article is the nearest neighbor of a given article (based on TF-IDF in abstract)"
   ]
  },
  {
   "cell_type": "code",
   "execution_count": 36,
   "metadata": {},
   "outputs": [
    {
     "data": {
      "text/html": [
       "<pre>Starting brute force nearest neighbors model training.</pre>"
      ],
      "text/plain": [
       "Starting brute force nearest neighbors model training."
      ]
     },
     "metadata": {},
     "output_type": "display_data"
    },
    {
     "data": {
      "text/html": [
       "<pre>Validating distance components.</pre>"
      ],
      "text/plain": [
       "Validating distance components."
      ]
     },
     "metadata": {},
     "output_type": "display_data"
    },
    {
     "data": {
      "text/html": [
       "<pre>Initializing model data.</pre>"
      ],
      "text/plain": [
       "Initializing model data."
      ]
     },
     "metadata": {},
     "output_type": "display_data"
    },
    {
     "data": {
      "text/html": [
       "<pre>Initializing distances.</pre>"
      ],
      "text/plain": [
       "Initializing distances."
      ]
     },
     "metadata": {},
     "output_type": "display_data"
    },
    {
     "data": {
      "text/html": [
       "<pre>Done.</pre>"
      ],
      "text/plain": [
       "Done."
      ]
     },
     "metadata": {},
     "output_type": "display_data"
    }
   ],
   "source": [
    "nn_model = turicreate.nearest_neighbors.create(summary, features=['tfidf'], label='ID')"
   ]
  },
  {
   "cell_type": "code",
   "execution_count": 37,
   "metadata": {},
   "outputs": [
    {
     "data": {
      "text/html": [
       "<pre>Starting pairwise querying.</pre>"
      ],
      "text/plain": [
       "Starting pairwise querying."
      ]
     },
     "metadata": {},
     "output_type": "display_data"
    },
    {
     "data": {
      "text/html": [
       "<pre>+--------------+---------+-------------+--------------+</pre>"
      ],
      "text/plain": [
       "+--------------+---------+-------------+--------------+"
      ]
     },
     "metadata": {},
     "output_type": "display_data"
    },
    {
     "data": {
      "text/html": [
       "<pre>| Query points | # Pairs | % Complete. | Elapsed Time |</pre>"
      ],
      "text/plain": [
       "| Query points | # Pairs | % Complete. | Elapsed Time |"
      ]
     },
     "metadata": {},
     "output_type": "display_data"
    },
    {
     "data": {
      "text/html": [
       "<pre>+--------------+---------+-------------+--------------+</pre>"
      ],
      "text/plain": [
       "+--------------+---------+-------------+--------------+"
      ]
     },
     "metadata": {},
     "output_type": "display_data"
    },
    {
     "data": {
      "text/html": [
       "<pre>| 0            | 1       | 1.47059     | 443us        |</pre>"
      ],
      "text/plain": [
       "| 0            | 1       | 1.47059     | 443us        |"
      ]
     },
     "metadata": {},
     "output_type": "display_data"
    },
    {
     "data": {
      "text/html": [
       "<pre>| Done         |         | 100         | 5.203ms      |</pre>"
      ],
      "text/plain": [
       "| Done         |         | 100         | 5.203ms      |"
      ]
     },
     "metadata": {},
     "output_type": "display_data"
    },
    {
     "data": {
      "text/html": [
       "<pre>+--------------+---------+-------------+--------------+</pre>"
      ],
      "text/plain": [
       "+--------------+---------+-------------+--------------+"
      ]
     },
     "metadata": {},
     "output_type": "display_data"
    },
    {
     "data": {
      "text/html": [
       "<div style=\"max-height:1000px;max-width:1500px;overflow:auto;\"><table frame=\"box\" rules=\"cols\">\n",
       "    <tr>\n",
       "        <th style=\"padding-left: 1em; padding-right: 1em; text-align: center\">query_label</th>\n",
       "        <th style=\"padding-left: 1em; padding-right: 1em; text-align: center\">reference_label</th>\n",
       "        <th style=\"padding-left: 1em; padding-right: 1em; text-align: center\">distance</th>\n",
       "        <th style=\"padding-left: 1em; padding-right: 1em; text-align: center\">rank</th>\n",
       "    </tr>\n",
       "    <tr>\n",
       "        <td style=\"padding-left: 1em; padding-right: 1em; text-align: center; vertical-align: top\">0</td>\n",
       "        <td style=\"padding-left: 1em; padding-right: 1em; text-align: center; vertical-align: top\">Science-Repository-<br>Transforming-Growth- ...</td>\n",
       "        <td style=\"padding-left: 1em; padding-right: 1em; text-align: center; vertical-align: top\">0.0</td>\n",
       "        <td style=\"padding-left: 1em; padding-right: 1em; text-align: center; vertical-align: top\">1</td>\n",
       "    </tr>\n",
       "    <tr>\n",
       "        <td style=\"padding-left: 1em; padding-right: 1em; text-align: center; vertical-align: top\">0</td>\n",
       "        <td style=\"padding-left: 1em; padding-right: 1em; text-align: center; vertical-align: top\">2020.241-249</td>\n",
       "        <td style=\"padding-left: 1em; padding-right: 1em; text-align: center; vertical-align: top\">0.8804347826086957</td>\n",
       "        <td style=\"padding-left: 1em; padding-right: 1em; text-align: center; vertical-align: top\">2</td>\n",
       "    </tr>\n",
       "    <tr>\n",
       "        <td style=\"padding-left: 1em; padding-right: 1em; text-align: center; vertical-align: top\">0</td>\n",
       "        <td style=\"padding-left: 1em; padding-right: 1em; text-align: center; vertical-align: top\">Increased-density-of-the-<br>corallivore-Drupella- ...</td>\n",
       "        <td style=\"padding-left: 1em; padding-right: 1em; text-align: center; vertical-align: top\">0.8813559322033898</td>\n",
       "        <td style=\"padding-left: 1em; padding-right: 1em; text-align: center; vertical-align: top\">3</td>\n",
       "    </tr>\n",
       "    <tr>\n",
       "        <td style=\"padding-left: 1em; padding-right: 1em; text-align: center; vertical-align: top\">0</td>\n",
       "        <td style=\"padding-left: 1em; padding-right: 1em; text-align: center; vertical-align: top\">THE-SIGNIFICANCE-OF-<br>RAINFALL-AND-WATER- ...</td>\n",
       "        <td style=\"padding-left: 1em; padding-right: 1em; text-align: center; vertical-align: top\">0.8869047619047619</td>\n",
       "        <td style=\"padding-left: 1em; padding-right: 1em; text-align: center; vertical-align: top\">4</td>\n",
       "    </tr>\n",
       "    <tr>\n",
       "        <td style=\"padding-left: 1em; padding-right: 1em; text-align: center; vertical-align: top\">0</td>\n",
       "        <td style=\"padding-left: 1em; padding-right: 1em; text-align: center; vertical-align: top\">EEC-5</td>\n",
       "        <td style=\"padding-left: 1em; padding-right: 1em; text-align: center; vertical-align: top\">0.8888888888888888</td>\n",
       "        <td style=\"padding-left: 1em; padding-right: 1em; text-align: center; vertical-align: top\">5</td>\n",
       "    </tr>\n",
       "</table>\n",
       "[5 rows x 4 columns]<br/>\n",
       "</div>"
      ],
      "text/plain": [
       "Columns:\n",
       "\tquery_label\tint\n",
       "\treference_label\tstr\n",
       "\tdistance\tfloat\n",
       "\trank\tint\n",
       "\n",
       "Rows: 5\n",
       "\n",
       "Data:\n",
       "+-------------+-------------------------------+--------------------+------+\n",
       "| query_label |        reference_label        |      distance      | rank |\n",
       "+-------------+-------------------------------+--------------------+------+\n",
       "|      0      | Science-Repository-Transfo... |        0.0         |  1   |\n",
       "|      0      |          2020.241-249         | 0.8804347826086957 |  2   |\n",
       "|      0      | Increased-density-of-the-c... | 0.8813559322033898 |  3   |\n",
       "|      0      | THE-SIGNIFICANCE-OF-RAINFA... | 0.8869047619047619 |  4   |\n",
       "|      0      |             EEC-5             | 0.8888888888888888 |  5   |\n",
       "+-------------+-------------------------------+--------------------+------+\n",
       "[5 rows x 4 columns]"
      ]
     },
     "execution_count": 37,
     "metadata": {},
     "output_type": "execute_result"
    }
   ],
   "source": [
    "nn_model.query(summary[0:1])"
   ]
  },
  {
   "cell_type": "markdown",
   "metadata": {},
   "source": [
    "### Plot SSE to determine reasonable number of clusters"
   ]
  },
  {
   "cell_type": "code",
   "execution_count": 38,
   "metadata": {},
   "outputs": [
    {
     "data": {
      "text/html": [
       "<pre>Batch size is larger than the input dataset. Switching to an exact Kmeans method.</pre>"
      ],
      "text/plain": [
       "Batch size is larger than the input dataset. Switching to an exact Kmeans method."
      ]
     },
     "metadata": {},
     "output_type": "display_data"
    },
    {
     "data": {
      "text/html": [
       "<pre>Choosing initial cluster centers with Kmeans++.</pre>"
      ],
      "text/plain": [
       "Choosing initial cluster centers with Kmeans++."
      ]
     },
     "metadata": {},
     "output_type": "display_data"
    },
    {
     "data": {
      "text/html": [
       "<pre>+---------------+-----------+</pre>"
      ],
      "text/plain": [
       "+---------------+-----------+"
      ]
     },
     "metadata": {},
     "output_type": "display_data"
    },
    {
     "data": {
      "text/html": [
       "<pre>| Center number | Row index |</pre>"
      ],
      "text/plain": [
       "| Center number | Row index |"
      ]
     },
     "metadata": {},
     "output_type": "display_data"
    },
    {
     "data": {
      "text/html": [
       "<pre>+---------------+-----------+</pre>"
      ],
      "text/plain": [
       "+---------------+-----------+"
      ]
     },
     "metadata": {},
     "output_type": "display_data"
    },
    {
     "data": {
      "text/html": [
       "<pre>| 0             | 34        |</pre>"
      ],
      "text/plain": [
       "| 0             | 34        |"
      ]
     },
     "metadata": {},
     "output_type": "display_data"
    },
    {
     "data": {
      "text/html": [
       "<pre>+---------------+-----------+</pre>"
      ],
      "text/plain": [
       "+---------------+-----------+"
      ]
     },
     "metadata": {},
     "output_type": "display_data"
    },
    {
     "data": {
      "text/html": [
       "<pre>Starting kmeans model training.</pre>"
      ],
      "text/plain": [
       "Starting kmeans model training."
      ]
     },
     "metadata": {},
     "output_type": "display_data"
    },
    {
     "data": {
      "text/html": [
       "<pre>Assigning points to initial cluster centers.</pre>"
      ],
      "text/plain": [
       "Assigning points to initial cluster centers."
      ]
     },
     "metadata": {},
     "output_type": "display_data"
    },
    {
     "data": {
      "text/html": [
       "<pre>+-----------+-------------------------------+</pre>"
      ],
      "text/plain": [
       "+-----------+-------------------------------+"
      ]
     },
     "metadata": {},
     "output_type": "display_data"
    },
    {
     "data": {
      "text/html": [
       "<pre>| Iteration | Number of changed assignments |</pre>"
      ],
      "text/plain": [
       "| Iteration | Number of changed assignments |"
      ]
     },
     "metadata": {},
     "output_type": "display_data"
    },
    {
     "data": {
      "text/html": [
       "<pre>+-----------+-------------------------------+</pre>"
      ],
      "text/plain": [
       "+-----------+-------------------------------+"
      ]
     },
     "metadata": {},
     "output_type": "display_data"
    },
    {
     "data": {
      "text/html": [
       "<pre>| 1         | 0                             |</pre>"
      ],
      "text/plain": [
       "| 1         | 0                             |"
      ]
     },
     "metadata": {},
     "output_type": "display_data"
    },
    {
     "data": {
      "text/html": [
       "<pre>+-----------+-------------------------------+</pre>"
      ],
      "text/plain": [
       "+-----------+-------------------------------+"
      ]
     },
     "metadata": {},
     "output_type": "display_data"
    },
    {
     "data": {
      "text/html": [
       "<pre>Batch size is larger than the input dataset. Switching to an exact Kmeans method.</pre>"
      ],
      "text/plain": [
       "Batch size is larger than the input dataset. Switching to an exact Kmeans method."
      ]
     },
     "metadata": {},
     "output_type": "display_data"
    },
    {
     "data": {
      "text/html": [
       "<pre>Choosing initial cluster centers with Kmeans++.</pre>"
      ],
      "text/plain": [
       "Choosing initial cluster centers with Kmeans++."
      ]
     },
     "metadata": {},
     "output_type": "display_data"
    },
    {
     "data": {
      "text/html": [
       "<pre>+---------------+-----------+</pre>"
      ],
      "text/plain": [
       "+---------------+-----------+"
      ]
     },
     "metadata": {},
     "output_type": "display_data"
    },
    {
     "data": {
      "text/html": [
       "<pre>| Center number | Row index |</pre>"
      ],
      "text/plain": [
       "| Center number | Row index |"
      ]
     },
     "metadata": {},
     "output_type": "display_data"
    },
    {
     "data": {
      "text/html": [
       "<pre>+---------------+-----------+</pre>"
      ],
      "text/plain": [
       "+---------------+-----------+"
      ]
     },
     "metadata": {},
     "output_type": "display_data"
    },
    {
     "data": {
      "text/html": [
       "<pre>| 0             | 52        |</pre>"
      ],
      "text/plain": [
       "| 0             | 52        |"
      ]
     },
     "metadata": {},
     "output_type": "display_data"
    },
    {
     "data": {
      "text/html": [
       "<pre>| 1             | 32        |</pre>"
      ],
      "text/plain": [
       "| 1             | 32        |"
      ]
     },
     "metadata": {},
     "output_type": "display_data"
    },
    {
     "data": {
      "text/html": [
       "<pre>+---------------+-----------+</pre>"
      ],
      "text/plain": [
       "+---------------+-----------+"
      ]
     },
     "metadata": {},
     "output_type": "display_data"
    },
    {
     "data": {
      "text/html": [
       "<pre>Starting kmeans model training.</pre>"
      ],
      "text/plain": [
       "Starting kmeans model training."
      ]
     },
     "metadata": {},
     "output_type": "display_data"
    },
    {
     "data": {
      "text/html": [
       "<pre>Assigning points to initial cluster centers.</pre>"
      ],
      "text/plain": [
       "Assigning points to initial cluster centers."
      ]
     },
     "metadata": {},
     "output_type": "display_data"
    },
    {
     "data": {
      "text/html": [
       "<pre>+-----------+-------------------------------+</pre>"
      ],
      "text/plain": [
       "+-----------+-------------------------------+"
      ]
     },
     "metadata": {},
     "output_type": "display_data"
    },
    {
     "data": {
      "text/html": [
       "<pre>| Iteration | Number of changed assignments |</pre>"
      ],
      "text/plain": [
       "| Iteration | Number of changed assignments |"
      ]
     },
     "metadata": {},
     "output_type": "display_data"
    },
    {
     "data": {
      "text/html": [
       "<pre>+-----------+-------------------------------+</pre>"
      ],
      "text/plain": [
       "+-----------+-------------------------------+"
      ]
     },
     "metadata": {},
     "output_type": "display_data"
    },
    {
     "data": {
      "text/html": [
       "<pre>| 1         | 0                             |</pre>"
      ],
      "text/plain": [
       "| 1         | 0                             |"
      ]
     },
     "metadata": {},
     "output_type": "display_data"
    },
    {
     "data": {
      "text/html": [
       "<pre>+-----------+-------------------------------+</pre>"
      ],
      "text/plain": [
       "+-----------+-------------------------------+"
      ]
     },
     "metadata": {},
     "output_type": "display_data"
    },
    {
     "data": {
      "text/html": [
       "<pre>Batch size is larger than the input dataset. Switching to an exact Kmeans method.</pre>"
      ],
      "text/plain": [
       "Batch size is larger than the input dataset. Switching to an exact Kmeans method."
      ]
     },
     "metadata": {},
     "output_type": "display_data"
    },
    {
     "data": {
      "text/html": [
       "<pre>Choosing initial cluster centers with Kmeans++.</pre>"
      ],
      "text/plain": [
       "Choosing initial cluster centers with Kmeans++."
      ]
     },
     "metadata": {},
     "output_type": "display_data"
    },
    {
     "data": {
      "text/html": [
       "<pre>+---------------+-----------+</pre>"
      ],
      "text/plain": [
       "+---------------+-----------+"
      ]
     },
     "metadata": {},
     "output_type": "display_data"
    },
    {
     "data": {
      "text/html": [
       "<pre>| Center number | Row index |</pre>"
      ],
      "text/plain": [
       "| Center number | Row index |"
      ]
     },
     "metadata": {},
     "output_type": "display_data"
    },
    {
     "data": {
      "text/html": [
       "<pre>+---------------+-----------+</pre>"
      ],
      "text/plain": [
       "+---------------+-----------+"
      ]
     },
     "metadata": {},
     "output_type": "display_data"
    },
    {
     "data": {
      "text/html": [
       "<pre>| 0             | 20        |</pre>"
      ],
      "text/plain": [
       "| 0             | 20        |"
      ]
     },
     "metadata": {},
     "output_type": "display_data"
    },
    {
     "data": {
      "text/html": [
       "<pre>| 1             | 19        |</pre>"
      ],
      "text/plain": [
       "| 1             | 19        |"
      ]
     },
     "metadata": {},
     "output_type": "display_data"
    },
    {
     "data": {
      "text/html": [
       "<pre>| 2             | 41        |</pre>"
      ],
      "text/plain": [
       "| 2             | 41        |"
      ]
     },
     "metadata": {},
     "output_type": "display_data"
    },
    {
     "data": {
      "text/html": [
       "<pre>+---------------+-----------+</pre>"
      ],
      "text/plain": [
       "+---------------+-----------+"
      ]
     },
     "metadata": {},
     "output_type": "display_data"
    },
    {
     "data": {
      "text/html": [
       "<pre>Starting kmeans model training.</pre>"
      ],
      "text/plain": [
       "Starting kmeans model training."
      ]
     },
     "metadata": {},
     "output_type": "display_data"
    },
    {
     "data": {
      "text/html": [
       "<pre>Assigning points to initial cluster centers.</pre>"
      ],
      "text/plain": [
       "Assigning points to initial cluster centers."
      ]
     },
     "metadata": {},
     "output_type": "display_data"
    },
    {
     "data": {
      "text/html": [
       "<pre>+-----------+-------------------------------+</pre>"
      ],
      "text/plain": [
       "+-----------+-------------------------------+"
      ]
     },
     "metadata": {},
     "output_type": "display_data"
    },
    {
     "data": {
      "text/html": [
       "<pre>| Iteration | Number of changed assignments |</pre>"
      ],
      "text/plain": [
       "| Iteration | Number of changed assignments |"
      ]
     },
     "metadata": {},
     "output_type": "display_data"
    },
    {
     "data": {
      "text/html": [
       "<pre>+-----------+-------------------------------+</pre>"
      ],
      "text/plain": [
       "+-----------+-------------------------------+"
      ]
     },
     "metadata": {},
     "output_type": "display_data"
    },
    {
     "data": {
      "text/html": [
       "<pre>| 1         | 0                             |</pre>"
      ],
      "text/plain": [
       "| 1         | 0                             |"
      ]
     },
     "metadata": {},
     "output_type": "display_data"
    },
    {
     "data": {
      "text/html": [
       "<pre>+-----------+-------------------------------+</pre>"
      ],
      "text/plain": [
       "+-----------+-------------------------------+"
      ]
     },
     "metadata": {},
     "output_type": "display_data"
    },
    {
     "data": {
      "text/html": [
       "<pre>Batch size is larger than the input dataset. Switching to an exact Kmeans method.</pre>"
      ],
      "text/plain": [
       "Batch size is larger than the input dataset. Switching to an exact Kmeans method."
      ]
     },
     "metadata": {},
     "output_type": "display_data"
    },
    {
     "data": {
      "text/html": [
       "<pre>Choosing initial cluster centers with Kmeans++.</pre>"
      ],
      "text/plain": [
       "Choosing initial cluster centers with Kmeans++."
      ]
     },
     "metadata": {},
     "output_type": "display_data"
    },
    {
     "data": {
      "text/html": [
       "<pre>+---------------+-----------+</pre>"
      ],
      "text/plain": [
       "+---------------+-----------+"
      ]
     },
     "metadata": {},
     "output_type": "display_data"
    },
    {
     "data": {
      "text/html": [
       "<pre>| Center number | Row index |</pre>"
      ],
      "text/plain": [
       "| Center number | Row index |"
      ]
     },
     "metadata": {},
     "output_type": "display_data"
    },
    {
     "data": {
      "text/html": [
       "<pre>+---------------+-----------+</pre>"
      ],
      "text/plain": [
       "+---------------+-----------+"
      ]
     },
     "metadata": {},
     "output_type": "display_data"
    },
    {
     "data": {
      "text/html": [
       "<pre>| 0             | 39        |</pre>"
      ],
      "text/plain": [
       "| 0             | 39        |"
      ]
     },
     "metadata": {},
     "output_type": "display_data"
    },
    {
     "data": {
      "text/html": [
       "<pre>| 1             | 61        |</pre>"
      ],
      "text/plain": [
       "| 1             | 61        |"
      ]
     },
     "metadata": {},
     "output_type": "display_data"
    },
    {
     "data": {
      "text/html": [
       "<pre>| 2             | 44        |</pre>"
      ],
      "text/plain": [
       "| 2             | 44        |"
      ]
     },
     "metadata": {},
     "output_type": "display_data"
    },
    {
     "data": {
      "text/html": [
       "<pre>| 3             | 29        |</pre>"
      ],
      "text/plain": [
       "| 3             | 29        |"
      ]
     },
     "metadata": {},
     "output_type": "display_data"
    },
    {
     "data": {
      "text/html": [
       "<pre>+---------------+-----------+</pre>"
      ],
      "text/plain": [
       "+---------------+-----------+"
      ]
     },
     "metadata": {},
     "output_type": "display_data"
    },
    {
     "data": {
      "text/html": [
       "<pre>Starting kmeans model training.</pre>"
      ],
      "text/plain": [
       "Starting kmeans model training."
      ]
     },
     "metadata": {},
     "output_type": "display_data"
    },
    {
     "data": {
      "text/html": [
       "<pre>Assigning points to initial cluster centers.</pre>"
      ],
      "text/plain": [
       "Assigning points to initial cluster centers."
      ]
     },
     "metadata": {},
     "output_type": "display_data"
    },
    {
     "data": {
      "text/html": [
       "<pre>+-----------+-------------------------------+</pre>"
      ],
      "text/plain": [
       "+-----------+-------------------------------+"
      ]
     },
     "metadata": {},
     "output_type": "display_data"
    },
    {
     "data": {
      "text/html": [
       "<pre>| Iteration | Number of changed assignments |</pre>"
      ],
      "text/plain": [
       "| Iteration | Number of changed assignments |"
      ]
     },
     "metadata": {},
     "output_type": "display_data"
    },
    {
     "data": {
      "text/html": [
       "<pre>+-----------+-------------------------------+</pre>"
      ],
      "text/plain": [
       "+-----------+-------------------------------+"
      ]
     },
     "metadata": {},
     "output_type": "display_data"
    },
    {
     "data": {
      "text/html": [
       "<pre>| 1         | 0                             |</pre>"
      ],
      "text/plain": [
       "| 1         | 0                             |"
      ]
     },
     "metadata": {},
     "output_type": "display_data"
    },
    {
     "data": {
      "text/html": [
       "<pre>+-----------+-------------------------------+</pre>"
      ],
      "text/plain": [
       "+-----------+-------------------------------+"
      ]
     },
     "metadata": {},
     "output_type": "display_data"
    },
    {
     "data": {
      "text/html": [
       "<pre>Batch size is larger than the input dataset. Switching to an exact Kmeans method.</pre>"
      ],
      "text/plain": [
       "Batch size is larger than the input dataset. Switching to an exact Kmeans method."
      ]
     },
     "metadata": {},
     "output_type": "display_data"
    },
    {
     "data": {
      "text/html": [
       "<pre>Choosing initial cluster centers with Kmeans++.</pre>"
      ],
      "text/plain": [
       "Choosing initial cluster centers with Kmeans++."
      ]
     },
     "metadata": {},
     "output_type": "display_data"
    },
    {
     "data": {
      "text/html": [
       "<pre>+---------------+-----------+</pre>"
      ],
      "text/plain": [
       "+---------------+-----------+"
      ]
     },
     "metadata": {},
     "output_type": "display_data"
    },
    {
     "data": {
      "text/html": [
       "<pre>| Center number | Row index |</pre>"
      ],
      "text/plain": [
       "| Center number | Row index |"
      ]
     },
     "metadata": {},
     "output_type": "display_data"
    },
    {
     "data": {
      "text/html": [
       "<pre>+---------------+-----------+</pre>"
      ],
      "text/plain": [
       "+---------------+-----------+"
      ]
     },
     "metadata": {},
     "output_type": "display_data"
    },
    {
     "data": {
      "text/html": [
       "<pre>| 0             | 32        |</pre>"
      ],
      "text/plain": [
       "| 0             | 32        |"
      ]
     },
     "metadata": {},
     "output_type": "display_data"
    },
    {
     "data": {
      "text/html": [
       "<pre>| 1             | 23        |</pre>"
      ],
      "text/plain": [
       "| 1             | 23        |"
      ]
     },
     "metadata": {},
     "output_type": "display_data"
    },
    {
     "data": {
      "text/html": [
       "<pre>| 2             | 29        |</pre>"
      ],
      "text/plain": [
       "| 2             | 29        |"
      ]
     },
     "metadata": {},
     "output_type": "display_data"
    },
    {
     "data": {
      "text/html": [
       "<pre>| 3             | 54        |</pre>"
      ],
      "text/plain": [
       "| 3             | 54        |"
      ]
     },
     "metadata": {},
     "output_type": "display_data"
    },
    {
     "data": {
      "text/html": [
       "<pre>| 4             | 61        |</pre>"
      ],
      "text/plain": [
       "| 4             | 61        |"
      ]
     },
     "metadata": {},
     "output_type": "display_data"
    },
    {
     "data": {
      "text/html": [
       "<pre>+---------------+-----------+</pre>"
      ],
      "text/plain": [
       "+---------------+-----------+"
      ]
     },
     "metadata": {},
     "output_type": "display_data"
    },
    {
     "data": {
      "text/html": [
       "<pre>Starting kmeans model training.</pre>"
      ],
      "text/plain": [
       "Starting kmeans model training."
      ]
     },
     "metadata": {},
     "output_type": "display_data"
    },
    {
     "data": {
      "text/html": [
       "<pre>Assigning points to initial cluster centers.</pre>"
      ],
      "text/plain": [
       "Assigning points to initial cluster centers."
      ]
     },
     "metadata": {},
     "output_type": "display_data"
    },
    {
     "data": {
      "text/html": [
       "<pre>+-----------+-------------------------------+</pre>"
      ],
      "text/plain": [
       "+-----------+-------------------------------+"
      ]
     },
     "metadata": {},
     "output_type": "display_data"
    },
    {
     "data": {
      "text/html": [
       "<pre>| Iteration | Number of changed assignments |</pre>"
      ],
      "text/plain": [
       "| Iteration | Number of changed assignments |"
      ]
     },
     "metadata": {},
     "output_type": "display_data"
    },
    {
     "data": {
      "text/html": [
       "<pre>+-----------+-------------------------------+</pre>"
      ],
      "text/plain": [
       "+-----------+-------------------------------+"
      ]
     },
     "metadata": {},
     "output_type": "display_data"
    },
    {
     "data": {
      "text/html": [
       "<pre>| 1         | 0                             |</pre>"
      ],
      "text/plain": [
       "| 1         | 0                             |"
      ]
     },
     "metadata": {},
     "output_type": "display_data"
    },
    {
     "data": {
      "text/html": [
       "<pre>+-----------+-------------------------------+</pre>"
      ],
      "text/plain": [
       "+-----------+-------------------------------+"
      ]
     },
     "metadata": {},
     "output_type": "display_data"
    },
    {
     "data": {
      "text/html": [
       "<pre>Batch size is larger than the input dataset. Switching to an exact Kmeans method.</pre>"
      ],
      "text/plain": [
       "Batch size is larger than the input dataset. Switching to an exact Kmeans method."
      ]
     },
     "metadata": {},
     "output_type": "display_data"
    },
    {
     "data": {
      "text/html": [
       "<pre>Choosing initial cluster centers with Kmeans++.</pre>"
      ],
      "text/plain": [
       "Choosing initial cluster centers with Kmeans++."
      ]
     },
     "metadata": {},
     "output_type": "display_data"
    },
    {
     "data": {
      "text/html": [
       "<pre>+---------------+-----------+</pre>"
      ],
      "text/plain": [
       "+---------------+-----------+"
      ]
     },
     "metadata": {},
     "output_type": "display_data"
    },
    {
     "data": {
      "text/html": [
       "<pre>| Center number | Row index |</pre>"
      ],
      "text/plain": [
       "| Center number | Row index |"
      ]
     },
     "metadata": {},
     "output_type": "display_data"
    },
    {
     "data": {
      "text/html": [
       "<pre>+---------------+-----------+</pre>"
      ],
      "text/plain": [
       "+---------------+-----------+"
      ]
     },
     "metadata": {},
     "output_type": "display_data"
    },
    {
     "data": {
      "text/html": [
       "<pre>| 0             | 62        |</pre>"
      ],
      "text/plain": [
       "| 0             | 62        |"
      ]
     },
     "metadata": {},
     "output_type": "display_data"
    },
    {
     "data": {
      "text/html": [
       "<pre>| 1             | 65        |</pre>"
      ],
      "text/plain": [
       "| 1             | 65        |"
      ]
     },
     "metadata": {},
     "output_type": "display_data"
    },
    {
     "data": {
      "text/html": [
       "<pre>| 2             | 32        |</pre>"
      ],
      "text/plain": [
       "| 2             | 32        |"
      ]
     },
     "metadata": {},
     "output_type": "display_data"
    },
    {
     "data": {
      "text/html": [
       "<pre>| 3             | 40        |</pre>"
      ],
      "text/plain": [
       "| 3             | 40        |"
      ]
     },
     "metadata": {},
     "output_type": "display_data"
    },
    {
     "data": {
      "text/html": [
       "<pre>| 4             | 44        |</pre>"
      ],
      "text/plain": [
       "| 4             | 44        |"
      ]
     },
     "metadata": {},
     "output_type": "display_data"
    },
    {
     "data": {
      "text/html": [
       "<pre>| 5             | 37        |</pre>"
      ],
      "text/plain": [
       "| 5             | 37        |"
      ]
     },
     "metadata": {},
     "output_type": "display_data"
    },
    {
     "data": {
      "text/html": [
       "<pre>+---------------+-----------+</pre>"
      ],
      "text/plain": [
       "+---------------+-----------+"
      ]
     },
     "metadata": {},
     "output_type": "display_data"
    },
    {
     "data": {
      "text/html": [
       "<pre>Starting kmeans model training.</pre>"
      ],
      "text/plain": [
       "Starting kmeans model training."
      ]
     },
     "metadata": {},
     "output_type": "display_data"
    },
    {
     "data": {
      "text/html": [
       "<pre>Assigning points to initial cluster centers.</pre>"
      ],
      "text/plain": [
       "Assigning points to initial cluster centers."
      ]
     },
     "metadata": {},
     "output_type": "display_data"
    },
    {
     "data": {
      "text/html": [
       "<pre>+-----------+-------------------------------+</pre>"
      ],
      "text/plain": [
       "+-----------+-------------------------------+"
      ]
     },
     "metadata": {},
     "output_type": "display_data"
    },
    {
     "data": {
      "text/html": [
       "<pre>| Iteration | Number of changed assignments |</pre>"
      ],
      "text/plain": [
       "| Iteration | Number of changed assignments |"
      ]
     },
     "metadata": {},
     "output_type": "display_data"
    },
    {
     "data": {
      "text/html": [
       "<pre>+-----------+-------------------------------+</pre>"
      ],
      "text/plain": [
       "+-----------+-------------------------------+"
      ]
     },
     "metadata": {},
     "output_type": "display_data"
    },
    {
     "data": {
      "text/html": [
       "<pre>| 1         | 0                             |</pre>"
      ],
      "text/plain": [
       "| 1         | 0                             |"
      ]
     },
     "metadata": {},
     "output_type": "display_data"
    },
    {
     "data": {
      "text/html": [
       "<pre>+-----------+-------------------------------+</pre>"
      ],
      "text/plain": [
       "+-----------+-------------------------------+"
      ]
     },
     "metadata": {},
     "output_type": "display_data"
    },
    {
     "data": {
      "text/html": [
       "<pre>Batch size is larger than the input dataset. Switching to an exact Kmeans method.</pre>"
      ],
      "text/plain": [
       "Batch size is larger than the input dataset. Switching to an exact Kmeans method."
      ]
     },
     "metadata": {},
     "output_type": "display_data"
    },
    {
     "data": {
      "text/html": [
       "<pre>Choosing initial cluster centers with Kmeans++.</pre>"
      ],
      "text/plain": [
       "Choosing initial cluster centers with Kmeans++."
      ]
     },
     "metadata": {},
     "output_type": "display_data"
    },
    {
     "data": {
      "text/html": [
       "<pre>+---------------+-----------+</pre>"
      ],
      "text/plain": [
       "+---------------+-----------+"
      ]
     },
     "metadata": {},
     "output_type": "display_data"
    },
    {
     "data": {
      "text/html": [
       "<pre>| Center number | Row index |</pre>"
      ],
      "text/plain": [
       "| Center number | Row index |"
      ]
     },
     "metadata": {},
     "output_type": "display_data"
    },
    {
     "data": {
      "text/html": [
       "<pre>+---------------+-----------+</pre>"
      ],
      "text/plain": [
       "+---------------+-----------+"
      ]
     },
     "metadata": {},
     "output_type": "display_data"
    },
    {
     "data": {
      "text/html": [
       "<pre>| 0             | 29        |</pre>"
      ],
      "text/plain": [
       "| 0             | 29        |"
      ]
     },
     "metadata": {},
     "output_type": "display_data"
    },
    {
     "data": {
      "text/html": [
       "<pre>| 1             | 39        |</pre>"
      ],
      "text/plain": [
       "| 1             | 39        |"
      ]
     },
     "metadata": {},
     "output_type": "display_data"
    },
    {
     "data": {
      "text/html": [
       "<pre>| 2             | 1         |</pre>"
      ],
      "text/plain": [
       "| 2             | 1         |"
      ]
     },
     "metadata": {},
     "output_type": "display_data"
    },
    {
     "data": {
      "text/html": [
       "<pre>| 3             | 43        |</pre>"
      ],
      "text/plain": [
       "| 3             | 43        |"
      ]
     },
     "metadata": {},
     "output_type": "display_data"
    },
    {
     "data": {
      "text/html": [
       "<pre>| 4             | 48        |</pre>"
      ],
      "text/plain": [
       "| 4             | 48        |"
      ]
     },
     "metadata": {},
     "output_type": "display_data"
    },
    {
     "data": {
      "text/html": [
       "<pre>| 5             | 9         |</pre>"
      ],
      "text/plain": [
       "| 5             | 9         |"
      ]
     },
     "metadata": {},
     "output_type": "display_data"
    },
    {
     "data": {
      "text/html": [
       "<pre>| 6             | 22        |</pre>"
      ],
      "text/plain": [
       "| 6             | 22        |"
      ]
     },
     "metadata": {},
     "output_type": "display_data"
    },
    {
     "data": {
      "text/html": [
       "<pre>+---------------+-----------+</pre>"
      ],
      "text/plain": [
       "+---------------+-----------+"
      ]
     },
     "metadata": {},
     "output_type": "display_data"
    },
    {
     "data": {
      "text/html": [
       "<pre>Starting kmeans model training.</pre>"
      ],
      "text/plain": [
       "Starting kmeans model training."
      ]
     },
     "metadata": {},
     "output_type": "display_data"
    },
    {
     "data": {
      "text/html": [
       "<pre>Assigning points to initial cluster centers.</pre>"
      ],
      "text/plain": [
       "Assigning points to initial cluster centers."
      ]
     },
     "metadata": {},
     "output_type": "display_data"
    },
    {
     "data": {
      "text/html": [
       "<pre>+-----------+-------------------------------+</pre>"
      ],
      "text/plain": [
       "+-----------+-------------------------------+"
      ]
     },
     "metadata": {},
     "output_type": "display_data"
    },
    {
     "data": {
      "text/html": [
       "<pre>| Iteration | Number of changed assignments |</pre>"
      ],
      "text/plain": [
       "| Iteration | Number of changed assignments |"
      ]
     },
     "metadata": {},
     "output_type": "display_data"
    },
    {
     "data": {
      "text/html": [
       "<pre>+-----------+-------------------------------+</pre>"
      ],
      "text/plain": [
       "+-----------+-------------------------------+"
      ]
     },
     "metadata": {},
     "output_type": "display_data"
    },
    {
     "data": {
      "text/html": [
       "<pre>| 1         | 2                             |</pre>"
      ],
      "text/plain": [
       "| 1         | 2                             |"
      ]
     },
     "metadata": {},
     "output_type": "display_data"
    },
    {
     "data": {
      "text/html": [
       "<pre>| 2         | 1                             |</pre>"
      ],
      "text/plain": [
       "| 2         | 1                             |"
      ]
     },
     "metadata": {},
     "output_type": "display_data"
    },
    {
     "data": {
      "text/html": [
       "<pre>| 3         | 0                             |</pre>"
      ],
      "text/plain": [
       "| 3         | 0                             |"
      ]
     },
     "metadata": {},
     "output_type": "display_data"
    },
    {
     "data": {
      "text/html": [
       "<pre>+-----------+-------------------------------+</pre>"
      ],
      "text/plain": [
       "+-----------+-------------------------------+"
      ]
     },
     "metadata": {},
     "output_type": "display_data"
    },
    {
     "data": {
      "text/html": [
       "<pre>Batch size is larger than the input dataset. Switching to an exact Kmeans method.</pre>"
      ],
      "text/plain": [
       "Batch size is larger than the input dataset. Switching to an exact Kmeans method."
      ]
     },
     "metadata": {},
     "output_type": "display_data"
    },
    {
     "data": {
      "text/html": [
       "<pre>Choosing initial cluster centers with Kmeans++.</pre>"
      ],
      "text/plain": [
       "Choosing initial cluster centers with Kmeans++."
      ]
     },
     "metadata": {},
     "output_type": "display_data"
    },
    {
     "data": {
      "text/html": [
       "<pre>+---------------+-----------+</pre>"
      ],
      "text/plain": [
       "+---------------+-----------+"
      ]
     },
     "metadata": {},
     "output_type": "display_data"
    },
    {
     "data": {
      "text/html": [
       "<pre>| Center number | Row index |</pre>"
      ],
      "text/plain": [
       "| Center number | Row index |"
      ]
     },
     "metadata": {},
     "output_type": "display_data"
    },
    {
     "data": {
      "text/html": [
       "<pre>+---------------+-----------+</pre>"
      ],
      "text/plain": [
       "+---------------+-----------+"
      ]
     },
     "metadata": {},
     "output_type": "display_data"
    },
    {
     "data": {
      "text/html": [
       "<pre>| 0             | 33        |</pre>"
      ],
      "text/plain": [
       "| 0             | 33        |"
      ]
     },
     "metadata": {},
     "output_type": "display_data"
    },
    {
     "data": {
      "text/html": [
       "<pre>| 1             | 40        |</pre>"
      ],
      "text/plain": [
       "| 1             | 40        |"
      ]
     },
     "metadata": {},
     "output_type": "display_data"
    },
    {
     "data": {
      "text/html": [
       "<pre>| 2             | 12        |</pre>"
      ],
      "text/plain": [
       "| 2             | 12        |"
      ]
     },
     "metadata": {},
     "output_type": "display_data"
    },
    {
     "data": {
      "text/html": [
       "<pre>| 3             | 5         |</pre>"
      ],
      "text/plain": [
       "| 3             | 5         |"
      ]
     },
     "metadata": {},
     "output_type": "display_data"
    },
    {
     "data": {
      "text/html": [
       "<pre>| 4             | 30        |</pre>"
      ],
      "text/plain": [
       "| 4             | 30        |"
      ]
     },
     "metadata": {},
     "output_type": "display_data"
    },
    {
     "data": {
      "text/html": [
       "<pre>| 5             | 58        |</pre>"
      ],
      "text/plain": [
       "| 5             | 58        |"
      ]
     },
     "metadata": {},
     "output_type": "display_data"
    },
    {
     "data": {
      "text/html": [
       "<pre>| 7             | 15        |</pre>"
      ],
      "text/plain": [
       "| 7             | 15        |"
      ]
     },
     "metadata": {},
     "output_type": "display_data"
    },
    {
     "data": {
      "text/html": [
       "<pre>+---------------+-----------+</pre>"
      ],
      "text/plain": [
       "+---------------+-----------+"
      ]
     },
     "metadata": {},
     "output_type": "display_data"
    },
    {
     "data": {
      "text/html": [
       "<pre>Starting kmeans model training.</pre>"
      ],
      "text/plain": [
       "Starting kmeans model training."
      ]
     },
     "metadata": {},
     "output_type": "display_data"
    },
    {
     "data": {
      "text/html": [
       "<pre>Assigning points to initial cluster centers.</pre>"
      ],
      "text/plain": [
       "Assigning points to initial cluster centers."
      ]
     },
     "metadata": {},
     "output_type": "display_data"
    },
    {
     "data": {
      "text/html": [
       "<pre>+-----------+-------------------------------+</pre>"
      ],
      "text/plain": [
       "+-----------+-------------------------------+"
      ]
     },
     "metadata": {},
     "output_type": "display_data"
    },
    {
     "data": {
      "text/html": [
       "<pre>| Iteration | Number of changed assignments |</pre>"
      ],
      "text/plain": [
       "| Iteration | Number of changed assignments |"
      ]
     },
     "metadata": {},
     "output_type": "display_data"
    },
    {
     "data": {
      "text/html": [
       "<pre>+-----------+-------------------------------+</pre>"
      ],
      "text/plain": [
       "+-----------+-------------------------------+"
      ]
     },
     "metadata": {},
     "output_type": "display_data"
    },
    {
     "data": {
      "text/html": [
       "<pre>| 1         | 0                             |</pre>"
      ],
      "text/plain": [
       "| 1         | 0                             |"
      ]
     },
     "metadata": {},
     "output_type": "display_data"
    },
    {
     "data": {
      "text/html": [
       "<pre>+-----------+-------------------------------+</pre>"
      ],
      "text/plain": [
       "+-----------+-------------------------------+"
      ]
     },
     "metadata": {},
     "output_type": "display_data"
    },
    {
     "data": {
      "text/html": [
       "<pre>Batch size is larger than the input dataset. Switching to an exact Kmeans method.</pre>"
      ],
      "text/plain": [
       "Batch size is larger than the input dataset. Switching to an exact Kmeans method."
      ]
     },
     "metadata": {},
     "output_type": "display_data"
    },
    {
     "data": {
      "text/html": [
       "<pre>Choosing initial cluster centers with Kmeans++.</pre>"
      ],
      "text/plain": [
       "Choosing initial cluster centers with Kmeans++."
      ]
     },
     "metadata": {},
     "output_type": "display_data"
    },
    {
     "data": {
      "text/html": [
       "<pre>+---------------+-----------+</pre>"
      ],
      "text/plain": [
       "+---------------+-----------+"
      ]
     },
     "metadata": {},
     "output_type": "display_data"
    },
    {
     "data": {
      "text/html": [
       "<pre>| Center number | Row index |</pre>"
      ],
      "text/plain": [
       "| Center number | Row index |"
      ]
     },
     "metadata": {},
     "output_type": "display_data"
    },
    {
     "data": {
      "text/html": [
       "<pre>+---------------+-----------+</pre>"
      ],
      "text/plain": [
       "+---------------+-----------+"
      ]
     },
     "metadata": {},
     "output_type": "display_data"
    },
    {
     "data": {
      "text/html": [
       "<pre>| 0             | 54        |</pre>"
      ],
      "text/plain": [
       "| 0             | 54        |"
      ]
     },
     "metadata": {},
     "output_type": "display_data"
    },
    {
     "data": {
      "text/html": [
       "<pre>| 1             | 53        |</pre>"
      ],
      "text/plain": [
       "| 1             | 53        |"
      ]
     },
     "metadata": {},
     "output_type": "display_data"
    },
    {
     "data": {
      "text/html": [
       "<pre>| 2             | 60        |</pre>"
      ],
      "text/plain": [
       "| 2             | 60        |"
      ]
     },
     "metadata": {},
     "output_type": "display_data"
    },
    {
     "data": {
      "text/html": [
       "<pre>| 3             | 26        |</pre>"
      ],
      "text/plain": [
       "| 3             | 26        |"
      ]
     },
     "metadata": {},
     "output_type": "display_data"
    },
    {
     "data": {
      "text/html": [
       "<pre>| 4             | 47        |</pre>"
      ],
      "text/plain": [
       "| 4             | 47        |"
      ]
     },
     "metadata": {},
     "output_type": "display_data"
    },
    {
     "data": {
      "text/html": [
       "<pre>| 5             | 40        |</pre>"
      ],
      "text/plain": [
       "| 5             | 40        |"
      ]
     },
     "metadata": {},
     "output_type": "display_data"
    },
    {
     "data": {
      "text/html": [
       "<pre>| 8             | 13        |</pre>"
      ],
      "text/plain": [
       "| 8             | 13        |"
      ]
     },
     "metadata": {},
     "output_type": "display_data"
    },
    {
     "data": {
      "text/html": [
       "<pre>+---------------+-----------+</pre>"
      ],
      "text/plain": [
       "+---------------+-----------+"
      ]
     },
     "metadata": {},
     "output_type": "display_data"
    },
    {
     "data": {
      "text/html": [
       "<pre>Starting kmeans model training.</pre>"
      ],
      "text/plain": [
       "Starting kmeans model training."
      ]
     },
     "metadata": {},
     "output_type": "display_data"
    },
    {
     "data": {
      "text/html": [
       "<pre>Assigning points to initial cluster centers.</pre>"
      ],
      "text/plain": [
       "Assigning points to initial cluster centers."
      ]
     },
     "metadata": {},
     "output_type": "display_data"
    },
    {
     "data": {
      "text/html": [
       "<pre>+-----------+-------------------------------+</pre>"
      ],
      "text/plain": [
       "+-----------+-------------------------------+"
      ]
     },
     "metadata": {},
     "output_type": "display_data"
    },
    {
     "data": {
      "text/html": [
       "<pre>| Iteration | Number of changed assignments |</pre>"
      ],
      "text/plain": [
       "| Iteration | Number of changed assignments |"
      ]
     },
     "metadata": {},
     "output_type": "display_data"
    },
    {
     "data": {
      "text/html": [
       "<pre>+-----------+-------------------------------+</pre>"
      ],
      "text/plain": [
       "+-----------+-------------------------------+"
      ]
     },
     "metadata": {},
     "output_type": "display_data"
    },
    {
     "data": {
      "text/html": [
       "<pre>| 1         | 0                             |</pre>"
      ],
      "text/plain": [
       "| 1         | 0                             |"
      ]
     },
     "metadata": {},
     "output_type": "display_data"
    },
    {
     "data": {
      "text/html": [
       "<pre>+-----------+-------------------------------+</pre>"
      ],
      "text/plain": [
       "+-----------+-------------------------------+"
      ]
     },
     "metadata": {},
     "output_type": "display_data"
    },
    {
     "data": {
      "text/html": [
       "<pre>Batch size is larger than the input dataset. Switching to an exact Kmeans method.</pre>"
      ],
      "text/plain": [
       "Batch size is larger than the input dataset. Switching to an exact Kmeans method."
      ]
     },
     "metadata": {},
     "output_type": "display_data"
    },
    {
     "data": {
      "text/html": [
       "<pre>Choosing initial cluster centers with Kmeans++.</pre>"
      ],
      "text/plain": [
       "Choosing initial cluster centers with Kmeans++."
      ]
     },
     "metadata": {},
     "output_type": "display_data"
    },
    {
     "data": {
      "text/html": [
       "<pre>+---------------+-----------+</pre>"
      ],
      "text/plain": [
       "+---------------+-----------+"
      ]
     },
     "metadata": {},
     "output_type": "display_data"
    },
    {
     "data": {
      "text/html": [
       "<pre>| Center number | Row index |</pre>"
      ],
      "text/plain": [
       "| Center number | Row index |"
      ]
     },
     "metadata": {},
     "output_type": "display_data"
    },
    {
     "data": {
      "text/html": [
       "<pre>+---------------+-----------+</pre>"
      ],
      "text/plain": [
       "+---------------+-----------+"
      ]
     },
     "metadata": {},
     "output_type": "display_data"
    },
    {
     "data": {
      "text/html": [
       "<pre>| 0             | 46        |</pre>"
      ],
      "text/plain": [
       "| 0             | 46        |"
      ]
     },
     "metadata": {},
     "output_type": "display_data"
    },
    {
     "data": {
      "text/html": [
       "<pre>| 1             | 61        |</pre>"
      ],
      "text/plain": [
       "| 1             | 61        |"
      ]
     },
     "metadata": {},
     "output_type": "display_data"
    },
    {
     "data": {
      "text/html": [
       "<pre>| 2             | 57        |</pre>"
      ],
      "text/plain": [
       "| 2             | 57        |"
      ]
     },
     "metadata": {},
     "output_type": "display_data"
    },
    {
     "data": {
      "text/html": [
       "<pre>| 3             | 33        |</pre>"
      ],
      "text/plain": [
       "| 3             | 33        |"
      ]
     },
     "metadata": {},
     "output_type": "display_data"
    },
    {
     "data": {
      "text/html": [
       "<pre>| 4             | 34        |</pre>"
      ],
      "text/plain": [
       "| 4             | 34        |"
      ]
     },
     "metadata": {},
     "output_type": "display_data"
    },
    {
     "data": {
      "text/html": [
       "<pre>| 5             | 40        |</pre>"
      ],
      "text/plain": [
       "| 5             | 40        |"
      ]
     },
     "metadata": {},
     "output_type": "display_data"
    },
    {
     "data": {
      "text/html": [
       "<pre>| 9             | 3         |</pre>"
      ],
      "text/plain": [
       "| 9             | 3         |"
      ]
     },
     "metadata": {},
     "output_type": "display_data"
    },
    {
     "data": {
      "text/html": [
       "<pre>+---------------+-----------+</pre>"
      ],
      "text/plain": [
       "+---------------+-----------+"
      ]
     },
     "metadata": {},
     "output_type": "display_data"
    },
    {
     "data": {
      "text/html": [
       "<pre>Starting kmeans model training.</pre>"
      ],
      "text/plain": [
       "Starting kmeans model training."
      ]
     },
     "metadata": {},
     "output_type": "display_data"
    },
    {
     "data": {
      "text/html": [
       "<pre>Assigning points to initial cluster centers.</pre>"
      ],
      "text/plain": [
       "Assigning points to initial cluster centers."
      ]
     },
     "metadata": {},
     "output_type": "display_data"
    },
    {
     "data": {
      "text/html": [
       "<pre>+-----------+-------------------------------+</pre>"
      ],
      "text/plain": [
       "+-----------+-------------------------------+"
      ]
     },
     "metadata": {},
     "output_type": "display_data"
    },
    {
     "data": {
      "text/html": [
       "<pre>| Iteration | Number of changed assignments |</pre>"
      ],
      "text/plain": [
       "| Iteration | Number of changed assignments |"
      ]
     },
     "metadata": {},
     "output_type": "display_data"
    },
    {
     "data": {
      "text/html": [
       "<pre>+-----------+-------------------------------+</pre>"
      ],
      "text/plain": [
       "+-----------+-------------------------------+"
      ]
     },
     "metadata": {},
     "output_type": "display_data"
    },
    {
     "data": {
      "text/html": [
       "<pre>| 1         | 0                             |</pre>"
      ],
      "text/plain": [
       "| 1         | 0                             |"
      ]
     },
     "metadata": {},
     "output_type": "display_data"
    },
    {
     "data": {
      "text/html": [
       "<pre>+-----------+-------------------------------+</pre>"
      ],
      "text/plain": [
       "+-----------+-------------------------------+"
      ]
     },
     "metadata": {},
     "output_type": "display_data"
    },
    {
     "data": {
      "text/html": [
       "<pre>Batch size is larger than the input dataset. Switching to an exact Kmeans method.</pre>"
      ],
      "text/plain": [
       "Batch size is larger than the input dataset. Switching to an exact Kmeans method."
      ]
     },
     "metadata": {},
     "output_type": "display_data"
    },
    {
     "data": {
      "text/html": [
       "<pre>Choosing initial cluster centers with Kmeans++.</pre>"
      ],
      "text/plain": [
       "Choosing initial cluster centers with Kmeans++."
      ]
     },
     "metadata": {},
     "output_type": "display_data"
    },
    {
     "data": {
      "text/html": [
       "<pre>+---------------+-----------+</pre>"
      ],
      "text/plain": [
       "+---------------+-----------+"
      ]
     },
     "metadata": {},
     "output_type": "display_data"
    },
    {
     "data": {
      "text/html": [
       "<pre>| Center number | Row index |</pre>"
      ],
      "text/plain": [
       "| Center number | Row index |"
      ]
     },
     "metadata": {},
     "output_type": "display_data"
    },
    {
     "data": {
      "text/html": [
       "<pre>+---------------+-----------+</pre>"
      ],
      "text/plain": [
       "+---------------+-----------+"
      ]
     },
     "metadata": {},
     "output_type": "display_data"
    },
    {
     "data": {
      "text/html": [
       "<pre>| 0             | 53        |</pre>"
      ],
      "text/plain": [
       "| 0             | 53        |"
      ]
     },
     "metadata": {},
     "output_type": "display_data"
    },
    {
     "data": {
      "text/html": [
       "<pre>| 1             | 63        |</pre>"
      ],
      "text/plain": [
       "| 1             | 63        |"
      ]
     },
     "metadata": {},
     "output_type": "display_data"
    },
    {
     "data": {
      "text/html": [
       "<pre>| 2             | 30        |</pre>"
      ],
      "text/plain": [
       "| 2             | 30        |"
      ]
     },
     "metadata": {},
     "output_type": "display_data"
    },
    {
     "data": {
      "text/html": [
       "<pre>| 3             | 5         |</pre>"
      ],
      "text/plain": [
       "| 3             | 5         |"
      ]
     },
     "metadata": {},
     "output_type": "display_data"
    },
    {
     "data": {
      "text/html": [
       "<pre>| 4             | 61        |</pre>"
      ],
      "text/plain": [
       "| 4             | 61        |"
      ]
     },
     "metadata": {},
     "output_type": "display_data"
    },
    {
     "data": {
      "text/html": [
       "<pre>| 5             | 8         |</pre>"
      ],
      "text/plain": [
       "| 5             | 8         |"
      ]
     },
     "metadata": {},
     "output_type": "display_data"
    },
    {
     "data": {
      "text/html": [
       "<pre>| 10            | 14        |</pre>"
      ],
      "text/plain": [
       "| 10            | 14        |"
      ]
     },
     "metadata": {},
     "output_type": "display_data"
    },
    {
     "data": {
      "text/html": [
       "<pre>+---------------+-----------+</pre>"
      ],
      "text/plain": [
       "+---------------+-----------+"
      ]
     },
     "metadata": {},
     "output_type": "display_data"
    },
    {
     "data": {
      "text/html": [
       "<pre>Starting kmeans model training.</pre>"
      ],
      "text/plain": [
       "Starting kmeans model training."
      ]
     },
     "metadata": {},
     "output_type": "display_data"
    },
    {
     "data": {
      "text/html": [
       "<pre>Assigning points to initial cluster centers.</pre>"
      ],
      "text/plain": [
       "Assigning points to initial cluster centers."
      ]
     },
     "metadata": {},
     "output_type": "display_data"
    },
    {
     "data": {
      "text/html": [
       "<pre>+-----------+-------------------------------+</pre>"
      ],
      "text/plain": [
       "+-----------+-------------------------------+"
      ]
     },
     "metadata": {},
     "output_type": "display_data"
    },
    {
     "data": {
      "text/html": [
       "<pre>| Iteration | Number of changed assignments |</pre>"
      ],
      "text/plain": [
       "| Iteration | Number of changed assignments |"
      ]
     },
     "metadata": {},
     "output_type": "display_data"
    },
    {
     "data": {
      "text/html": [
       "<pre>+-----------+-------------------------------+</pre>"
      ],
      "text/plain": [
       "+-----------+-------------------------------+"
      ]
     },
     "metadata": {},
     "output_type": "display_data"
    },
    {
     "data": {
      "text/html": [
       "<pre>| 1         | 0                             |</pre>"
      ],
      "text/plain": [
       "| 1         | 0                             |"
      ]
     },
     "metadata": {},
     "output_type": "display_data"
    },
    {
     "data": {
      "text/html": [
       "<pre>+-----------+-------------------------------+</pre>"
      ],
      "text/plain": [
       "+-----------+-------------------------------+"
      ]
     },
     "metadata": {},
     "output_type": "display_data"
    },
    {
     "data": {
      "text/html": [
       "<pre>Batch size is larger than the input dataset. Switching to an exact Kmeans method.</pre>"
      ],
      "text/plain": [
       "Batch size is larger than the input dataset. Switching to an exact Kmeans method."
      ]
     },
     "metadata": {},
     "output_type": "display_data"
    },
    {
     "data": {
      "text/html": [
       "<pre>Choosing initial cluster centers with Kmeans++.</pre>"
      ],
      "text/plain": [
       "Choosing initial cluster centers with Kmeans++."
      ]
     },
     "metadata": {},
     "output_type": "display_data"
    },
    {
     "data": {
      "text/html": [
       "<pre>+---------------+-----------+</pre>"
      ],
      "text/plain": [
       "+---------------+-----------+"
      ]
     },
     "metadata": {},
     "output_type": "display_data"
    },
    {
     "data": {
      "text/html": [
       "<pre>| Center number | Row index |</pre>"
      ],
      "text/plain": [
       "| Center number | Row index |"
      ]
     },
     "metadata": {},
     "output_type": "display_data"
    },
    {
     "data": {
      "text/html": [
       "<pre>+---------------+-----------+</pre>"
      ],
      "text/plain": [
       "+---------------+-----------+"
      ]
     },
     "metadata": {},
     "output_type": "display_data"
    },
    {
     "data": {
      "text/html": [
       "<pre>| 0             | 13        |</pre>"
      ],
      "text/plain": [
       "| 0             | 13        |"
      ]
     },
     "metadata": {},
     "output_type": "display_data"
    },
    {
     "data": {
      "text/html": [
       "<pre>| 1             | 56        |</pre>"
      ],
      "text/plain": [
       "| 1             | 56        |"
      ]
     },
     "metadata": {},
     "output_type": "display_data"
    },
    {
     "data": {
      "text/html": [
       "<pre>| 2             | 18        |</pre>"
      ],
      "text/plain": [
       "| 2             | 18        |"
      ]
     },
     "metadata": {},
     "output_type": "display_data"
    },
    {
     "data": {
      "text/html": [
       "<pre>| 3             | 5         |</pre>"
      ],
      "text/plain": [
       "| 3             | 5         |"
      ]
     },
     "metadata": {},
     "output_type": "display_data"
    },
    {
     "data": {
      "text/html": [
       "<pre>| 4             | 40        |</pre>"
      ],
      "text/plain": [
       "| 4             | 40        |"
      ]
     },
     "metadata": {},
     "output_type": "display_data"
    },
    {
     "data": {
      "text/html": [
       "<pre>| 5             | 61        |</pre>"
      ],
      "text/plain": [
       "| 5             | 61        |"
      ]
     },
     "metadata": {},
     "output_type": "display_data"
    },
    {
     "data": {
      "text/html": [
       "<pre>| 10            | 19        |</pre>"
      ],
      "text/plain": [
       "| 10            | 19        |"
      ]
     },
     "metadata": {},
     "output_type": "display_data"
    },
    {
     "data": {
      "text/html": [
       "<pre>| 11            | 46        |</pre>"
      ],
      "text/plain": [
       "| 11            | 46        |"
      ]
     },
     "metadata": {},
     "output_type": "display_data"
    },
    {
     "data": {
      "text/html": [
       "<pre>+---------------+-----------+</pre>"
      ],
      "text/plain": [
       "+---------------+-----------+"
      ]
     },
     "metadata": {},
     "output_type": "display_data"
    },
    {
     "data": {
      "text/html": [
       "<pre>Starting kmeans model training.</pre>"
      ],
      "text/plain": [
       "Starting kmeans model training."
      ]
     },
     "metadata": {},
     "output_type": "display_data"
    },
    {
     "data": {
      "text/html": [
       "<pre>Assigning points to initial cluster centers.</pre>"
      ],
      "text/plain": [
       "Assigning points to initial cluster centers."
      ]
     },
     "metadata": {},
     "output_type": "display_data"
    },
    {
     "data": {
      "text/html": [
       "<pre>+-----------+-------------------------------+</pre>"
      ],
      "text/plain": [
       "+-----------+-------------------------------+"
      ]
     },
     "metadata": {},
     "output_type": "display_data"
    },
    {
     "data": {
      "text/html": [
       "<pre>| Iteration | Number of changed assignments |</pre>"
      ],
      "text/plain": [
       "| Iteration | Number of changed assignments |"
      ]
     },
     "metadata": {},
     "output_type": "display_data"
    },
    {
     "data": {
      "text/html": [
       "<pre>+-----------+-------------------------------+</pre>"
      ],
      "text/plain": [
       "+-----------+-------------------------------+"
      ]
     },
     "metadata": {},
     "output_type": "display_data"
    },
    {
     "data": {
      "text/html": [
       "<pre>| 1         | 0                             |</pre>"
      ],
      "text/plain": [
       "| 1         | 0                             |"
      ]
     },
     "metadata": {},
     "output_type": "display_data"
    },
    {
     "data": {
      "text/html": [
       "<pre>+-----------+-------------------------------+</pre>"
      ],
      "text/plain": [
       "+-----------+-------------------------------+"
      ]
     },
     "metadata": {},
     "output_type": "display_data"
    },
    {
     "data": {
      "text/html": [
       "<pre>Batch size is larger than the input dataset. Switching to an exact Kmeans method.</pre>"
      ],
      "text/plain": [
       "Batch size is larger than the input dataset. Switching to an exact Kmeans method."
      ]
     },
     "metadata": {},
     "output_type": "display_data"
    },
    {
     "data": {
      "text/html": [
       "<pre>Choosing initial cluster centers with Kmeans++.</pre>"
      ],
      "text/plain": [
       "Choosing initial cluster centers with Kmeans++."
      ]
     },
     "metadata": {},
     "output_type": "display_data"
    },
    {
     "data": {
      "text/html": [
       "<pre>+---------------+-----------+</pre>"
      ],
      "text/plain": [
       "+---------------+-----------+"
      ]
     },
     "metadata": {},
     "output_type": "display_data"
    },
    {
     "data": {
      "text/html": [
       "<pre>| Center number | Row index |</pre>"
      ],
      "text/plain": [
       "| Center number | Row index |"
      ]
     },
     "metadata": {},
     "output_type": "display_data"
    },
    {
     "data": {
      "text/html": [
       "<pre>+---------------+-----------+</pre>"
      ],
      "text/plain": [
       "+---------------+-----------+"
      ]
     },
     "metadata": {},
     "output_type": "display_data"
    },
    {
     "data": {
      "text/html": [
       "<pre>| 0             | 15        |</pre>"
      ],
      "text/plain": [
       "| 0             | 15        |"
      ]
     },
     "metadata": {},
     "output_type": "display_data"
    },
    {
     "data": {
      "text/html": [
       "<pre>| 1             | 17        |</pre>"
      ],
      "text/plain": [
       "| 1             | 17        |"
      ]
     },
     "metadata": {},
     "output_type": "display_data"
    },
    {
     "data": {
      "text/html": [
       "<pre>| 2             | 32        |</pre>"
      ],
      "text/plain": [
       "| 2             | 32        |"
      ]
     },
     "metadata": {},
     "output_type": "display_data"
    },
    {
     "data": {
      "text/html": [
       "<pre>| 3             | 51        |</pre>"
      ],
      "text/plain": [
       "| 3             | 51        |"
      ]
     },
     "metadata": {},
     "output_type": "display_data"
    },
    {
     "data": {
      "text/html": [
       "<pre>| 4             | 1         |</pre>"
      ],
      "text/plain": [
       "| 4             | 1         |"
      ]
     },
     "metadata": {},
     "output_type": "display_data"
    },
    {
     "data": {
      "text/html": [
       "<pre>| 5             | 57        |</pre>"
      ],
      "text/plain": [
       "| 5             | 57        |"
      ]
     },
     "metadata": {},
     "output_type": "display_data"
    },
    {
     "data": {
      "text/html": [
       "<pre>| 10            | 10        |</pre>"
      ],
      "text/plain": [
       "| 10            | 10        |"
      ]
     },
     "metadata": {},
     "output_type": "display_data"
    },
    {
     "data": {
      "text/html": [
       "<pre>| 12            | 4         |</pre>"
      ],
      "text/plain": [
       "| 12            | 4         |"
      ]
     },
     "metadata": {},
     "output_type": "display_data"
    },
    {
     "data": {
      "text/html": [
       "<pre>+---------------+-----------+</pre>"
      ],
      "text/plain": [
       "+---------------+-----------+"
      ]
     },
     "metadata": {},
     "output_type": "display_data"
    },
    {
     "data": {
      "text/html": [
       "<pre>Starting kmeans model training.</pre>"
      ],
      "text/plain": [
       "Starting kmeans model training."
      ]
     },
     "metadata": {},
     "output_type": "display_data"
    },
    {
     "data": {
      "text/html": [
       "<pre>Assigning points to initial cluster centers.</pre>"
      ],
      "text/plain": [
       "Assigning points to initial cluster centers."
      ]
     },
     "metadata": {},
     "output_type": "display_data"
    },
    {
     "data": {
      "text/html": [
       "<pre>+-----------+-------------------------------+</pre>"
      ],
      "text/plain": [
       "+-----------+-------------------------------+"
      ]
     },
     "metadata": {},
     "output_type": "display_data"
    },
    {
     "data": {
      "text/html": [
       "<pre>| Iteration | Number of changed assignments |</pre>"
      ],
      "text/plain": [
       "| Iteration | Number of changed assignments |"
      ]
     },
     "metadata": {},
     "output_type": "display_data"
    },
    {
     "data": {
      "text/html": [
       "<pre>+-----------+-------------------------------+</pre>"
      ],
      "text/plain": [
       "+-----------+-------------------------------+"
      ]
     },
     "metadata": {},
     "output_type": "display_data"
    },
    {
     "data": {
      "text/html": [
       "<pre>| 1         | 0                             |</pre>"
      ],
      "text/plain": [
       "| 1         | 0                             |"
      ]
     },
     "metadata": {},
     "output_type": "display_data"
    },
    {
     "data": {
      "text/html": [
       "<pre>+-----------+-------------------------------+</pre>"
      ],
      "text/plain": [
       "+-----------+-------------------------------+"
      ]
     },
     "metadata": {},
     "output_type": "display_data"
    },
    {
     "data": {
      "text/html": [
       "<pre>Batch size is larger than the input dataset. Switching to an exact Kmeans method.</pre>"
      ],
      "text/plain": [
       "Batch size is larger than the input dataset. Switching to an exact Kmeans method."
      ]
     },
     "metadata": {},
     "output_type": "display_data"
    },
    {
     "data": {
      "text/html": [
       "<pre>Choosing initial cluster centers with Kmeans++.</pre>"
      ],
      "text/plain": [
       "Choosing initial cluster centers with Kmeans++."
      ]
     },
     "metadata": {},
     "output_type": "display_data"
    },
    {
     "data": {
      "text/html": [
       "<pre>+---------------+-----------+</pre>"
      ],
      "text/plain": [
       "+---------------+-----------+"
      ]
     },
     "metadata": {},
     "output_type": "display_data"
    },
    {
     "data": {
      "text/html": [
       "<pre>| Center number | Row index |</pre>"
      ],
      "text/plain": [
       "| Center number | Row index |"
      ]
     },
     "metadata": {},
     "output_type": "display_data"
    },
    {
     "data": {
      "text/html": [
       "<pre>+---------------+-----------+</pre>"
      ],
      "text/plain": [
       "+---------------+-----------+"
      ]
     },
     "metadata": {},
     "output_type": "display_data"
    },
    {
     "data": {
      "text/html": [
       "<pre>| 0             | 30        |</pre>"
      ],
      "text/plain": [
       "| 0             | 30        |"
      ]
     },
     "metadata": {},
     "output_type": "display_data"
    },
    {
     "data": {
      "text/html": [
       "<pre>| 1             | 49        |</pre>"
      ],
      "text/plain": [
       "| 1             | 49        |"
      ]
     },
     "metadata": {},
     "output_type": "display_data"
    },
    {
     "data": {
      "text/html": [
       "<pre>| 2             | 8         |</pre>"
      ],
      "text/plain": [
       "| 2             | 8         |"
      ]
     },
     "metadata": {},
     "output_type": "display_data"
    },
    {
     "data": {
      "text/html": [
       "<pre>| 3             | 25        |</pre>"
      ],
      "text/plain": [
       "| 3             | 25        |"
      ]
     },
     "metadata": {},
     "output_type": "display_data"
    },
    {
     "data": {
      "text/html": [
       "<pre>| 4             | 63        |</pre>"
      ],
      "text/plain": [
       "| 4             | 63        |"
      ]
     },
     "metadata": {},
     "output_type": "display_data"
    },
    {
     "data": {
      "text/html": [
       "<pre>| 5             | 61        |</pre>"
      ],
      "text/plain": [
       "| 5             | 61        |"
      ]
     },
     "metadata": {},
     "output_type": "display_data"
    },
    {
     "data": {
      "text/html": [
       "<pre>| 10            | 52        |</pre>"
      ],
      "text/plain": [
       "| 10            | 52        |"
      ]
     },
     "metadata": {},
     "output_type": "display_data"
    },
    {
     "data": {
      "text/html": [
       "<pre>| 13            | 36        |</pre>"
      ],
      "text/plain": [
       "| 13            | 36        |"
      ]
     },
     "metadata": {},
     "output_type": "display_data"
    },
    {
     "data": {
      "text/html": [
       "<pre>+---------------+-----------+</pre>"
      ],
      "text/plain": [
       "+---------------+-----------+"
      ]
     },
     "metadata": {},
     "output_type": "display_data"
    },
    {
     "data": {
      "text/html": [
       "<pre>Starting kmeans model training.</pre>"
      ],
      "text/plain": [
       "Starting kmeans model training."
      ]
     },
     "metadata": {},
     "output_type": "display_data"
    },
    {
     "data": {
      "text/html": [
       "<pre>Assigning points to initial cluster centers.</pre>"
      ],
      "text/plain": [
       "Assigning points to initial cluster centers."
      ]
     },
     "metadata": {},
     "output_type": "display_data"
    },
    {
     "data": {
      "text/html": [
       "<pre>+-----------+-------------------------------+</pre>"
      ],
      "text/plain": [
       "+-----------+-------------------------------+"
      ]
     },
     "metadata": {},
     "output_type": "display_data"
    },
    {
     "data": {
      "text/html": [
       "<pre>| Iteration | Number of changed assignments |</pre>"
      ],
      "text/plain": [
       "| Iteration | Number of changed assignments |"
      ]
     },
     "metadata": {},
     "output_type": "display_data"
    },
    {
     "data": {
      "text/html": [
       "<pre>+-----------+-------------------------------+</pre>"
      ],
      "text/plain": [
       "+-----------+-------------------------------+"
      ]
     },
     "metadata": {},
     "output_type": "display_data"
    },
    {
     "data": {
      "text/html": [
       "<pre>| 1         | 1                             |</pre>"
      ],
      "text/plain": [
       "| 1         | 1                             |"
      ]
     },
     "metadata": {},
     "output_type": "display_data"
    },
    {
     "data": {
      "text/html": [
       "<pre>| 2         | 1                             |</pre>"
      ],
      "text/plain": [
       "| 2         | 1                             |"
      ]
     },
     "metadata": {},
     "output_type": "display_data"
    },
    {
     "data": {
      "text/html": [
       "<pre>| 3         | 0                             |</pre>"
      ],
      "text/plain": [
       "| 3         | 0                             |"
      ]
     },
     "metadata": {},
     "output_type": "display_data"
    },
    {
     "data": {
      "text/html": [
       "<pre>+-----------+-------------------------------+</pre>"
      ],
      "text/plain": [
       "+-----------+-------------------------------+"
      ]
     },
     "metadata": {},
     "output_type": "display_data"
    },
    {
     "data": {
      "text/html": [
       "<pre>Batch size is larger than the input dataset. Switching to an exact Kmeans method.</pre>"
      ],
      "text/plain": [
       "Batch size is larger than the input dataset. Switching to an exact Kmeans method."
      ]
     },
     "metadata": {},
     "output_type": "display_data"
    },
    {
     "data": {
      "text/html": [
       "<pre>Choosing initial cluster centers with Kmeans++.</pre>"
      ],
      "text/plain": [
       "Choosing initial cluster centers with Kmeans++."
      ]
     },
     "metadata": {},
     "output_type": "display_data"
    },
    {
     "data": {
      "text/html": [
       "<pre>+---------------+-----------+</pre>"
      ],
      "text/plain": [
       "+---------------+-----------+"
      ]
     },
     "metadata": {},
     "output_type": "display_data"
    },
    {
     "data": {
      "text/html": [
       "<pre>| Center number | Row index |</pre>"
      ],
      "text/plain": [
       "| Center number | Row index |"
      ]
     },
     "metadata": {},
     "output_type": "display_data"
    },
    {
     "data": {
      "text/html": [
       "<pre>+---------------+-----------+</pre>"
      ],
      "text/plain": [
       "+---------------+-----------+"
      ]
     },
     "metadata": {},
     "output_type": "display_data"
    },
    {
     "data": {
      "text/html": [
       "<pre>| 0             | 5         |</pre>"
      ],
      "text/plain": [
       "| 0             | 5         |"
      ]
     },
     "metadata": {},
     "output_type": "display_data"
    },
    {
     "data": {
      "text/html": [
       "<pre>| 1             | 30        |</pre>"
      ],
      "text/plain": [
       "| 1             | 30        |"
      ]
     },
     "metadata": {},
     "output_type": "display_data"
    },
    {
     "data": {
      "text/html": [
       "<pre>| 2             | 25        |</pre>"
      ],
      "text/plain": [
       "| 2             | 25        |"
      ]
     },
     "metadata": {},
     "output_type": "display_data"
    },
    {
     "data": {
      "text/html": [
       "<pre>| 3             | 66        |</pre>"
      ],
      "text/plain": [
       "| 3             | 66        |"
      ]
     },
     "metadata": {},
     "output_type": "display_data"
    },
    {
     "data": {
      "text/html": [
       "<pre>| 4             | 12        |</pre>"
      ],
      "text/plain": [
       "| 4             | 12        |"
      ]
     },
     "metadata": {},
     "output_type": "display_data"
    },
    {
     "data": {
      "text/html": [
       "<pre>| 5             | 54        |</pre>"
      ],
      "text/plain": [
       "| 5             | 54        |"
      ]
     },
     "metadata": {},
     "output_type": "display_data"
    },
    {
     "data": {
      "text/html": [
       "<pre>| 10            | 42        |</pre>"
      ],
      "text/plain": [
       "| 10            | 42        |"
      ]
     },
     "metadata": {},
     "output_type": "display_data"
    },
    {
     "data": {
      "text/html": [
       "<pre>| 14            | 45        |</pre>"
      ],
      "text/plain": [
       "| 14            | 45        |"
      ]
     },
     "metadata": {},
     "output_type": "display_data"
    },
    {
     "data": {
      "text/html": [
       "<pre>+---------------+-----------+</pre>"
      ],
      "text/plain": [
       "+---------------+-----------+"
      ]
     },
     "metadata": {},
     "output_type": "display_data"
    },
    {
     "data": {
      "text/html": [
       "<pre>Starting kmeans model training.</pre>"
      ],
      "text/plain": [
       "Starting kmeans model training."
      ]
     },
     "metadata": {},
     "output_type": "display_data"
    },
    {
     "data": {
      "text/html": [
       "<pre>Assigning points to initial cluster centers.</pre>"
      ],
      "text/plain": [
       "Assigning points to initial cluster centers."
      ]
     },
     "metadata": {},
     "output_type": "display_data"
    },
    {
     "data": {
      "text/html": [
       "<pre>+-----------+-------------------------------+</pre>"
      ],
      "text/plain": [
       "+-----------+-------------------------------+"
      ]
     },
     "metadata": {},
     "output_type": "display_data"
    },
    {
     "data": {
      "text/html": [
       "<pre>| Iteration | Number of changed assignments |</pre>"
      ],
      "text/plain": [
       "| Iteration | Number of changed assignments |"
      ]
     },
     "metadata": {},
     "output_type": "display_data"
    },
    {
     "data": {
      "text/html": [
       "<pre>+-----------+-------------------------------+</pre>"
      ],
      "text/plain": [
       "+-----------+-------------------------------+"
      ]
     },
     "metadata": {},
     "output_type": "display_data"
    },
    {
     "data": {
      "text/html": [
       "<pre>| 1         | 0                             |</pre>"
      ],
      "text/plain": [
       "| 1         | 0                             |"
      ]
     },
     "metadata": {},
     "output_type": "display_data"
    },
    {
     "data": {
      "text/html": [
       "<pre>+-----------+-------------------------------+</pre>"
      ],
      "text/plain": [
       "+-----------+-------------------------------+"
      ]
     },
     "metadata": {},
     "output_type": "display_data"
    },
    {
     "data": {
      "text/html": [
       "<pre>Batch size is larger than the input dataset. Switching to an exact Kmeans method.</pre>"
      ],
      "text/plain": [
       "Batch size is larger than the input dataset. Switching to an exact Kmeans method."
      ]
     },
     "metadata": {},
     "output_type": "display_data"
    },
    {
     "data": {
      "text/html": [
       "<pre>Choosing initial cluster centers with Kmeans++.</pre>"
      ],
      "text/plain": [
       "Choosing initial cluster centers with Kmeans++."
      ]
     },
     "metadata": {},
     "output_type": "display_data"
    },
    {
     "data": {
      "text/html": [
       "<pre>+---------------+-----------+</pre>"
      ],
      "text/plain": [
       "+---------------+-----------+"
      ]
     },
     "metadata": {},
     "output_type": "display_data"
    },
    {
     "data": {
      "text/html": [
       "<pre>| Center number | Row index |</pre>"
      ],
      "text/plain": [
       "| Center number | Row index |"
      ]
     },
     "metadata": {},
     "output_type": "display_data"
    },
    {
     "data": {
      "text/html": [
       "<pre>+---------------+-----------+</pre>"
      ],
      "text/plain": [
       "+---------------+-----------+"
      ]
     },
     "metadata": {},
     "output_type": "display_data"
    },
    {
     "data": {
      "text/html": [
       "<pre>| 0             | 65        |</pre>"
      ],
      "text/plain": [
       "| 0             | 65        |"
      ]
     },
     "metadata": {},
     "output_type": "display_data"
    },
    {
     "data": {
      "text/html": [
       "<pre>| 1             | 54        |</pre>"
      ],
      "text/plain": [
       "| 1             | 54        |"
      ]
     },
     "metadata": {},
     "output_type": "display_data"
    },
    {
     "data": {
      "text/html": [
       "<pre>| 2             | 61        |</pre>"
      ],
      "text/plain": [
       "| 2             | 61        |"
      ]
     },
     "metadata": {},
     "output_type": "display_data"
    },
    {
     "data": {
      "text/html": [
       "<pre>| 3             | 44        |</pre>"
      ],
      "text/plain": [
       "| 3             | 44        |"
      ]
     },
     "metadata": {},
     "output_type": "display_data"
    },
    {
     "data": {
      "text/html": [
       "<pre>| 4             | 32        |</pre>"
      ],
      "text/plain": [
       "| 4             | 32        |"
      ]
     },
     "metadata": {},
     "output_type": "display_data"
    },
    {
     "data": {
      "text/html": [
       "<pre>| 5             | 25        |</pre>"
      ],
      "text/plain": [
       "| 5             | 25        |"
      ]
     },
     "metadata": {},
     "output_type": "display_data"
    },
    {
     "data": {
      "text/html": [
       "<pre>| 10            | 4         |</pre>"
      ],
      "text/plain": [
       "| 10            | 4         |"
      ]
     },
     "metadata": {},
     "output_type": "display_data"
    },
    {
     "data": {
      "text/html": [
       "<pre>| 15            | 14        |</pre>"
      ],
      "text/plain": [
       "| 15            | 14        |"
      ]
     },
     "metadata": {},
     "output_type": "display_data"
    },
    {
     "data": {
      "text/html": [
       "<pre>+---------------+-----------+</pre>"
      ],
      "text/plain": [
       "+---------------+-----------+"
      ]
     },
     "metadata": {},
     "output_type": "display_data"
    },
    {
     "data": {
      "text/html": [
       "<pre>Starting kmeans model training.</pre>"
      ],
      "text/plain": [
       "Starting kmeans model training."
      ]
     },
     "metadata": {},
     "output_type": "display_data"
    },
    {
     "data": {
      "text/html": [
       "<pre>Assigning points to initial cluster centers.</pre>"
      ],
      "text/plain": [
       "Assigning points to initial cluster centers."
      ]
     },
     "metadata": {},
     "output_type": "display_data"
    },
    {
     "data": {
      "text/html": [
       "<pre>+-----------+-------------------------------+</pre>"
      ],
      "text/plain": [
       "+-----------+-------------------------------+"
      ]
     },
     "metadata": {},
     "output_type": "display_data"
    },
    {
     "data": {
      "text/html": [
       "<pre>| Iteration | Number of changed assignments |</pre>"
      ],
      "text/plain": [
       "| Iteration | Number of changed assignments |"
      ]
     },
     "metadata": {},
     "output_type": "display_data"
    },
    {
     "data": {
      "text/html": [
       "<pre>+-----------+-------------------------------+</pre>"
      ],
      "text/plain": [
       "+-----------+-------------------------------+"
      ]
     },
     "metadata": {},
     "output_type": "display_data"
    },
    {
     "data": {
      "text/html": [
       "<pre>| 1         | 0                             |</pre>"
      ],
      "text/plain": [
       "| 1         | 0                             |"
      ]
     },
     "metadata": {},
     "output_type": "display_data"
    },
    {
     "data": {
      "text/html": [
       "<pre>+-----------+-------------------------------+</pre>"
      ],
      "text/plain": [
       "+-----------+-------------------------------+"
      ]
     },
     "metadata": {},
     "output_type": "display_data"
    },
    {
     "data": {
      "text/html": [
       "<pre>Batch size is larger than the input dataset. Switching to an exact Kmeans method.</pre>"
      ],
      "text/plain": [
       "Batch size is larger than the input dataset. Switching to an exact Kmeans method."
      ]
     },
     "metadata": {},
     "output_type": "display_data"
    },
    {
     "data": {
      "text/html": [
       "<pre>Choosing initial cluster centers with Kmeans++.</pre>"
      ],
      "text/plain": [
       "Choosing initial cluster centers with Kmeans++."
      ]
     },
     "metadata": {},
     "output_type": "display_data"
    },
    {
     "data": {
      "text/html": [
       "<pre>+---------------+-----------+</pre>"
      ],
      "text/plain": [
       "+---------------+-----------+"
      ]
     },
     "metadata": {},
     "output_type": "display_data"
    },
    {
     "data": {
      "text/html": [
       "<pre>| Center number | Row index |</pre>"
      ],
      "text/plain": [
       "| Center number | Row index |"
      ]
     },
     "metadata": {},
     "output_type": "display_data"
    },
    {
     "data": {
      "text/html": [
       "<pre>+---------------+-----------+</pre>"
      ],
      "text/plain": [
       "+---------------+-----------+"
      ]
     },
     "metadata": {},
     "output_type": "display_data"
    },
    {
     "data": {
      "text/html": [
       "<pre>| 0             | 58        |</pre>"
      ],
      "text/plain": [
       "| 0             | 58        |"
      ]
     },
     "metadata": {},
     "output_type": "display_data"
    },
    {
     "data": {
      "text/html": [
       "<pre>| 1             | 29        |</pre>"
      ],
      "text/plain": [
       "| 1             | 29        |"
      ]
     },
     "metadata": {},
     "output_type": "display_data"
    },
    {
     "data": {
      "text/html": [
       "<pre>| 2             | 37        |</pre>"
      ],
      "text/plain": [
       "| 2             | 37        |"
      ]
     },
     "metadata": {},
     "output_type": "display_data"
    },
    {
     "data": {
      "text/html": [
       "<pre>| 3             | 5         |</pre>"
      ],
      "text/plain": [
       "| 3             | 5         |"
      ]
     },
     "metadata": {},
     "output_type": "display_data"
    },
    {
     "data": {
      "text/html": [
       "<pre>| 4             | 51        |</pre>"
      ],
      "text/plain": [
       "| 4             | 51        |"
      ]
     },
     "metadata": {},
     "output_type": "display_data"
    },
    {
     "data": {
      "text/html": [
       "<pre>| 5             | 62        |</pre>"
      ],
      "text/plain": [
       "| 5             | 62        |"
      ]
     },
     "metadata": {},
     "output_type": "display_data"
    },
    {
     "data": {
      "text/html": [
       "<pre>| 10            | 26        |</pre>"
      ],
      "text/plain": [
       "| 10            | 26        |"
      ]
     },
     "metadata": {},
     "output_type": "display_data"
    },
    {
     "data": {
      "text/html": [
       "<pre>| 16            | 25        |</pre>"
      ],
      "text/plain": [
       "| 16            | 25        |"
      ]
     },
     "metadata": {},
     "output_type": "display_data"
    },
    {
     "data": {
      "text/html": [
       "<pre>+---------------+-----------+</pre>"
      ],
      "text/plain": [
       "+---------------+-----------+"
      ]
     },
     "metadata": {},
     "output_type": "display_data"
    },
    {
     "data": {
      "text/html": [
       "<pre>Starting kmeans model training.</pre>"
      ],
      "text/plain": [
       "Starting kmeans model training."
      ]
     },
     "metadata": {},
     "output_type": "display_data"
    },
    {
     "data": {
      "text/html": [
       "<pre>Assigning points to initial cluster centers.</pre>"
      ],
      "text/plain": [
       "Assigning points to initial cluster centers."
      ]
     },
     "metadata": {},
     "output_type": "display_data"
    },
    {
     "data": {
      "text/html": [
       "<pre>+-----------+-------------------------------+</pre>"
      ],
      "text/plain": [
       "+-----------+-------------------------------+"
      ]
     },
     "metadata": {},
     "output_type": "display_data"
    },
    {
     "data": {
      "text/html": [
       "<pre>| Iteration | Number of changed assignments |</pre>"
      ],
      "text/plain": [
       "| Iteration | Number of changed assignments |"
      ]
     },
     "metadata": {},
     "output_type": "display_data"
    },
    {
     "data": {
      "text/html": [
       "<pre>+-----------+-------------------------------+</pre>"
      ],
      "text/plain": [
       "+-----------+-------------------------------+"
      ]
     },
     "metadata": {},
     "output_type": "display_data"
    },
    {
     "data": {
      "text/html": [
       "<pre>| 1         | 0                             |</pre>"
      ],
      "text/plain": [
       "| 1         | 0                             |"
      ]
     },
     "metadata": {},
     "output_type": "display_data"
    },
    {
     "data": {
      "text/html": [
       "<pre>+-----------+-------------------------------+</pre>"
      ],
      "text/plain": [
       "+-----------+-------------------------------+"
      ]
     },
     "metadata": {},
     "output_type": "display_data"
    },
    {
     "data": {
      "text/html": [
       "<pre>Batch size is larger than the input dataset. Switching to an exact Kmeans method.</pre>"
      ],
      "text/plain": [
       "Batch size is larger than the input dataset. Switching to an exact Kmeans method."
      ]
     },
     "metadata": {},
     "output_type": "display_data"
    },
    {
     "data": {
      "text/html": [
       "<pre>Choosing initial cluster centers with Kmeans++.</pre>"
      ],
      "text/plain": [
       "Choosing initial cluster centers with Kmeans++."
      ]
     },
     "metadata": {},
     "output_type": "display_data"
    },
    {
     "data": {
      "text/html": [
       "<pre>+---------------+-----------+</pre>"
      ],
      "text/plain": [
       "+---------------+-----------+"
      ]
     },
     "metadata": {},
     "output_type": "display_data"
    },
    {
     "data": {
      "text/html": [
       "<pre>| Center number | Row index |</pre>"
      ],
      "text/plain": [
       "| Center number | Row index |"
      ]
     },
     "metadata": {},
     "output_type": "display_data"
    },
    {
     "data": {
      "text/html": [
       "<pre>+---------------+-----------+</pre>"
      ],
      "text/plain": [
       "+---------------+-----------+"
      ]
     },
     "metadata": {},
     "output_type": "display_data"
    },
    {
     "data": {
      "text/html": [
       "<pre>| 0             | 39        |</pre>"
      ],
      "text/plain": [
       "| 0             | 39        |"
      ]
     },
     "metadata": {},
     "output_type": "display_data"
    },
    {
     "data": {
      "text/html": [
       "<pre>| 1             | 26        |</pre>"
      ],
      "text/plain": [
       "| 1             | 26        |"
      ]
     },
     "metadata": {},
     "output_type": "display_data"
    },
    {
     "data": {
      "text/html": [
       "<pre>| 2             | 48        |</pre>"
      ],
      "text/plain": [
       "| 2             | 48        |"
      ]
     },
     "metadata": {},
     "output_type": "display_data"
    },
    {
     "data": {
      "text/html": [
       "<pre>| 3             | 55        |</pre>"
      ],
      "text/plain": [
       "| 3             | 55        |"
      ]
     },
     "metadata": {},
     "output_type": "display_data"
    },
    {
     "data": {
      "text/html": [
       "<pre>| 4             | 20        |</pre>"
      ],
      "text/plain": [
       "| 4             | 20        |"
      ]
     },
     "metadata": {},
     "output_type": "display_data"
    },
    {
     "data": {
      "text/html": [
       "<pre>| 5             | 61        |</pre>"
      ],
      "text/plain": [
       "| 5             | 61        |"
      ]
     },
     "metadata": {},
     "output_type": "display_data"
    },
    {
     "data": {
      "text/html": [
       "<pre>| 10            | 29        |</pre>"
      ],
      "text/plain": [
       "| 10            | 29        |"
      ]
     },
     "metadata": {},
     "output_type": "display_data"
    },
    {
     "data": {
      "text/html": [
       "<pre>| 17            | 30        |</pre>"
      ],
      "text/plain": [
       "| 17            | 30        |"
      ]
     },
     "metadata": {},
     "output_type": "display_data"
    },
    {
     "data": {
      "text/html": [
       "<pre>+---------------+-----------+</pre>"
      ],
      "text/plain": [
       "+---------------+-----------+"
      ]
     },
     "metadata": {},
     "output_type": "display_data"
    },
    {
     "data": {
      "text/html": [
       "<pre>Starting kmeans model training.</pre>"
      ],
      "text/plain": [
       "Starting kmeans model training."
      ]
     },
     "metadata": {},
     "output_type": "display_data"
    },
    {
     "data": {
      "text/html": [
       "<pre>Assigning points to initial cluster centers.</pre>"
      ],
      "text/plain": [
       "Assigning points to initial cluster centers."
      ]
     },
     "metadata": {},
     "output_type": "display_data"
    },
    {
     "data": {
      "text/html": [
       "<pre>+-----------+-------------------------------+</pre>"
      ],
      "text/plain": [
       "+-----------+-------------------------------+"
      ]
     },
     "metadata": {},
     "output_type": "display_data"
    },
    {
     "data": {
      "text/html": [
       "<pre>| Iteration | Number of changed assignments |</pre>"
      ],
      "text/plain": [
       "| Iteration | Number of changed assignments |"
      ]
     },
     "metadata": {},
     "output_type": "display_data"
    },
    {
     "data": {
      "text/html": [
       "<pre>+-----------+-------------------------------+</pre>"
      ],
      "text/plain": [
       "+-----------+-------------------------------+"
      ]
     },
     "metadata": {},
     "output_type": "display_data"
    },
    {
     "data": {
      "text/html": [
       "<pre>| 1         | 0                             |</pre>"
      ],
      "text/plain": [
       "| 1         | 0                             |"
      ]
     },
     "metadata": {},
     "output_type": "display_data"
    },
    {
     "data": {
      "text/html": [
       "<pre>+-----------+-------------------------------+</pre>"
      ],
      "text/plain": [
       "+-----------+-------------------------------+"
      ]
     },
     "metadata": {},
     "output_type": "display_data"
    },
    {
     "data": {
      "text/html": [
       "<pre>Batch size is larger than the input dataset. Switching to an exact Kmeans method.</pre>"
      ],
      "text/plain": [
       "Batch size is larger than the input dataset. Switching to an exact Kmeans method."
      ]
     },
     "metadata": {},
     "output_type": "display_data"
    },
    {
     "data": {
      "text/html": [
       "<pre>Choosing initial cluster centers with Kmeans++.</pre>"
      ],
      "text/plain": [
       "Choosing initial cluster centers with Kmeans++."
      ]
     },
     "metadata": {},
     "output_type": "display_data"
    },
    {
     "data": {
      "text/html": [
       "<pre>+---------------+-----------+</pre>"
      ],
      "text/plain": [
       "+---------------+-----------+"
      ]
     },
     "metadata": {},
     "output_type": "display_data"
    },
    {
     "data": {
      "text/html": [
       "<pre>| Center number | Row index |</pre>"
      ],
      "text/plain": [
       "| Center number | Row index |"
      ]
     },
     "metadata": {},
     "output_type": "display_data"
    },
    {
     "data": {
      "text/html": [
       "<pre>+---------------+-----------+</pre>"
      ],
      "text/plain": [
       "+---------------+-----------+"
      ]
     },
     "metadata": {},
     "output_type": "display_data"
    },
    {
     "data": {
      "text/html": [
       "<pre>| 0             | 57        |</pre>"
      ],
      "text/plain": [
       "| 0             | 57        |"
      ]
     },
     "metadata": {},
     "output_type": "display_data"
    },
    {
     "data": {
      "text/html": [
       "<pre>| 1             | 1         |</pre>"
      ],
      "text/plain": [
       "| 1             | 1         |"
      ]
     },
     "metadata": {},
     "output_type": "display_data"
    },
    {
     "data": {
      "text/html": [
       "<pre>| 2             | 16        |</pre>"
      ],
      "text/plain": [
       "| 2             | 16        |"
      ]
     },
     "metadata": {},
     "output_type": "display_data"
    },
    {
     "data": {
      "text/html": [
       "<pre>| 3             | 34        |</pre>"
      ],
      "text/plain": [
       "| 3             | 34        |"
      ]
     },
     "metadata": {},
     "output_type": "display_data"
    },
    {
     "data": {
      "text/html": [
       "<pre>| 4             | 40        |</pre>"
      ],
      "text/plain": [
       "| 4             | 40        |"
      ]
     },
     "metadata": {},
     "output_type": "display_data"
    },
    {
     "data": {
      "text/html": [
       "<pre>| 5             | 61        |</pre>"
      ],
      "text/plain": [
       "| 5             | 61        |"
      ]
     },
     "metadata": {},
     "output_type": "display_data"
    },
    {
     "data": {
      "text/html": [
       "<pre>| 10            | 44        |</pre>"
      ],
      "text/plain": [
       "| 10            | 44        |"
      ]
     },
     "metadata": {},
     "output_type": "display_data"
    },
    {
     "data": {
      "text/html": [
       "<pre>| 18            | 54        |</pre>"
      ],
      "text/plain": [
       "| 18            | 54        |"
      ]
     },
     "metadata": {},
     "output_type": "display_data"
    },
    {
     "data": {
      "text/html": [
       "<pre>+---------------+-----------+</pre>"
      ],
      "text/plain": [
       "+---------------+-----------+"
      ]
     },
     "metadata": {},
     "output_type": "display_data"
    },
    {
     "data": {
      "text/html": [
       "<pre>Starting kmeans model training.</pre>"
      ],
      "text/plain": [
       "Starting kmeans model training."
      ]
     },
     "metadata": {},
     "output_type": "display_data"
    },
    {
     "data": {
      "text/html": [
       "<pre>Assigning points to initial cluster centers.</pre>"
      ],
      "text/plain": [
       "Assigning points to initial cluster centers."
      ]
     },
     "metadata": {},
     "output_type": "display_data"
    },
    {
     "data": {
      "text/html": [
       "<pre>+-----------+-------------------------------+</pre>"
      ],
      "text/plain": [
       "+-----------+-------------------------------+"
      ]
     },
     "metadata": {},
     "output_type": "display_data"
    },
    {
     "data": {
      "text/html": [
       "<pre>| Iteration | Number of changed assignments |</pre>"
      ],
      "text/plain": [
       "| Iteration | Number of changed assignments |"
      ]
     },
     "metadata": {},
     "output_type": "display_data"
    },
    {
     "data": {
      "text/html": [
       "<pre>+-----------+-------------------------------+</pre>"
      ],
      "text/plain": [
       "+-----------+-------------------------------+"
      ]
     },
     "metadata": {},
     "output_type": "display_data"
    },
    {
     "data": {
      "text/html": [
       "<pre>| 1         | 0                             |</pre>"
      ],
      "text/plain": [
       "| 1         | 0                             |"
      ]
     },
     "metadata": {},
     "output_type": "display_data"
    },
    {
     "data": {
      "text/html": [
       "<pre>+-----------+-------------------------------+</pre>"
      ],
      "text/plain": [
       "+-----------+-------------------------------+"
      ]
     },
     "metadata": {},
     "output_type": "display_data"
    },
    {
     "data": {
      "text/html": [
       "<pre>Batch size is larger than the input dataset. Switching to an exact Kmeans method.</pre>"
      ],
      "text/plain": [
       "Batch size is larger than the input dataset. Switching to an exact Kmeans method."
      ]
     },
     "metadata": {},
     "output_type": "display_data"
    },
    {
     "data": {
      "text/html": [
       "<pre>Choosing initial cluster centers with Kmeans++.</pre>"
      ],
      "text/plain": [
       "Choosing initial cluster centers with Kmeans++."
      ]
     },
     "metadata": {},
     "output_type": "display_data"
    },
    {
     "data": {
      "text/html": [
       "<pre>+---------------+-----------+</pre>"
      ],
      "text/plain": [
       "+---------------+-----------+"
      ]
     },
     "metadata": {},
     "output_type": "display_data"
    },
    {
     "data": {
      "text/html": [
       "<pre>| Center number | Row index |</pre>"
      ],
      "text/plain": [
       "| Center number | Row index |"
      ]
     },
     "metadata": {},
     "output_type": "display_data"
    },
    {
     "data": {
      "text/html": [
       "<pre>+---------------+-----------+</pre>"
      ],
      "text/plain": [
       "+---------------+-----------+"
      ]
     },
     "metadata": {},
     "output_type": "display_data"
    },
    {
     "data": {
      "text/html": [
       "<pre>| 0             | 65        |</pre>"
      ],
      "text/plain": [
       "| 0             | 65        |"
      ]
     },
     "metadata": {},
     "output_type": "display_data"
    },
    {
     "data": {
      "text/html": [
       "<pre>| 1             | 31        |</pre>"
      ],
      "text/plain": [
       "| 1             | 31        |"
      ]
     },
     "metadata": {},
     "output_type": "display_data"
    },
    {
     "data": {
      "text/html": [
       "<pre>| 2             | 44        |</pre>"
      ],
      "text/plain": [
       "| 2             | 44        |"
      ]
     },
     "metadata": {},
     "output_type": "display_data"
    },
    {
     "data": {
      "text/html": [
       "<pre>| 3             | 61        |</pre>"
      ],
      "text/plain": [
       "| 3             | 61        |"
      ]
     },
     "metadata": {},
     "output_type": "display_data"
    },
    {
     "data": {
      "text/html": [
       "<pre>| 4             | 63        |</pre>"
      ],
      "text/plain": [
       "| 4             | 63        |"
      ]
     },
     "metadata": {},
     "output_type": "display_data"
    },
    {
     "data": {
      "text/html": [
       "<pre>| 5             | 53        |</pre>"
      ],
      "text/plain": [
       "| 5             | 53        |"
      ]
     },
     "metadata": {},
     "output_type": "display_data"
    },
    {
     "data": {
      "text/html": [
       "<pre>| 10            | 54        |</pre>"
      ],
      "text/plain": [
       "| 10            | 54        |"
      ]
     },
     "metadata": {},
     "output_type": "display_data"
    },
    {
     "data": {
      "text/html": [
       "<pre>| 19            | 8         |</pre>"
      ],
      "text/plain": [
       "| 19            | 8         |"
      ]
     },
     "metadata": {},
     "output_type": "display_data"
    },
    {
     "data": {
      "text/html": [
       "<pre>+---------------+-----------+</pre>"
      ],
      "text/plain": [
       "+---------------+-----------+"
      ]
     },
     "metadata": {},
     "output_type": "display_data"
    },
    {
     "data": {
      "text/html": [
       "<pre>Starting kmeans model training.</pre>"
      ],
      "text/plain": [
       "Starting kmeans model training."
      ]
     },
     "metadata": {},
     "output_type": "display_data"
    },
    {
     "data": {
      "text/html": [
       "<pre>Assigning points to initial cluster centers.</pre>"
      ],
      "text/plain": [
       "Assigning points to initial cluster centers."
      ]
     },
     "metadata": {},
     "output_type": "display_data"
    },
    {
     "data": {
      "text/html": [
       "<pre>+-----------+-------------------------------+</pre>"
      ],
      "text/plain": [
       "+-----------+-------------------------------+"
      ]
     },
     "metadata": {},
     "output_type": "display_data"
    },
    {
     "data": {
      "text/html": [
       "<pre>| Iteration | Number of changed assignments |</pre>"
      ],
      "text/plain": [
       "| Iteration | Number of changed assignments |"
      ]
     },
     "metadata": {},
     "output_type": "display_data"
    },
    {
     "data": {
      "text/html": [
       "<pre>+-----------+-------------------------------+</pre>"
      ],
      "text/plain": [
       "+-----------+-------------------------------+"
      ]
     },
     "metadata": {},
     "output_type": "display_data"
    },
    {
     "data": {
      "text/html": [
       "<pre>| 1         | 0                             |</pre>"
      ],
      "text/plain": [
       "| 1         | 0                             |"
      ]
     },
     "metadata": {},
     "output_type": "display_data"
    },
    {
     "data": {
      "text/html": [
       "<pre>+-----------+-------------------------------+</pre>"
      ],
      "text/plain": [
       "+-----------+-------------------------------+"
      ]
     },
     "metadata": {},
     "output_type": "display_data"
    },
    {
     "data": {
      "text/html": [
       "<pre>Batch size is larger than the input dataset. Switching to an exact Kmeans method.</pre>"
      ],
      "text/plain": [
       "Batch size is larger than the input dataset. Switching to an exact Kmeans method."
      ]
     },
     "metadata": {},
     "output_type": "display_data"
    },
    {
     "data": {
      "text/html": [
       "<pre>Choosing initial cluster centers with Kmeans++.</pre>"
      ],
      "text/plain": [
       "Choosing initial cluster centers with Kmeans++."
      ]
     },
     "metadata": {},
     "output_type": "display_data"
    },
    {
     "data": {
      "text/html": [
       "<pre>+---------------+-----------+</pre>"
      ],
      "text/plain": [
       "+---------------+-----------+"
      ]
     },
     "metadata": {},
     "output_type": "display_data"
    },
    {
     "data": {
      "text/html": [
       "<pre>| Center number | Row index |</pre>"
      ],
      "text/plain": [
       "| Center number | Row index |"
      ]
     },
     "metadata": {},
     "output_type": "display_data"
    },
    {
     "data": {
      "text/html": [
       "<pre>+---------------+-----------+</pre>"
      ],
      "text/plain": [
       "+---------------+-----------+"
      ]
     },
     "metadata": {},
     "output_type": "display_data"
    },
    {
     "data": {
      "text/html": [
       "<pre>| 0             | 48        |</pre>"
      ],
      "text/plain": [
       "| 0             | 48        |"
      ]
     },
     "metadata": {},
     "output_type": "display_data"
    },
    {
     "data": {
      "text/html": [
       "<pre>| 1             | 6         |</pre>"
      ],
      "text/plain": [
       "| 1             | 6         |"
      ]
     },
     "metadata": {},
     "output_type": "display_data"
    },
    {
     "data": {
      "text/html": [
       "<pre>| 2             | 55        |</pre>"
      ],
      "text/plain": [
       "| 2             | 55        |"
      ]
     },
     "metadata": {},
     "output_type": "display_data"
    },
    {
     "data": {
      "text/html": [
       "<pre>| 3             | 24        |</pre>"
      ],
      "text/plain": [
       "| 3             | 24        |"
      ]
     },
     "metadata": {},
     "output_type": "display_data"
    },
    {
     "data": {
      "text/html": [
       "<pre>| 4             | 61        |</pre>"
      ],
      "text/plain": [
       "| 4             | 61        |"
      ]
     },
     "metadata": {},
     "output_type": "display_data"
    },
    {
     "data": {
      "text/html": [
       "<pre>| 5             | 67        |</pre>"
      ],
      "text/plain": [
       "| 5             | 67        |"
      ]
     },
     "metadata": {},
     "output_type": "display_data"
    },
    {
     "data": {
      "text/html": [
       "<pre>| 10            | 16        |</pre>"
      ],
      "text/plain": [
       "| 10            | 16        |"
      ]
     },
     "metadata": {},
     "output_type": "display_data"
    },
    {
     "data": {
      "text/html": [
       "<pre>| 20            | 13        |</pre>"
      ],
      "text/plain": [
       "| 20            | 13        |"
      ]
     },
     "metadata": {},
     "output_type": "display_data"
    },
    {
     "data": {
      "text/html": [
       "<pre>+---------------+-----------+</pre>"
      ],
      "text/plain": [
       "+---------------+-----------+"
      ]
     },
     "metadata": {},
     "output_type": "display_data"
    },
    {
     "data": {
      "text/html": [
       "<pre>Starting kmeans model training.</pre>"
      ],
      "text/plain": [
       "Starting kmeans model training."
      ]
     },
     "metadata": {},
     "output_type": "display_data"
    },
    {
     "data": {
      "text/html": [
       "<pre>Assigning points to initial cluster centers.</pre>"
      ],
      "text/plain": [
       "Assigning points to initial cluster centers."
      ]
     },
     "metadata": {},
     "output_type": "display_data"
    },
    {
     "data": {
      "text/html": [
       "<pre>+-----------+-------------------------------+</pre>"
      ],
      "text/plain": [
       "+-----------+-------------------------------+"
      ]
     },
     "metadata": {},
     "output_type": "display_data"
    },
    {
     "data": {
      "text/html": [
       "<pre>| Iteration | Number of changed assignments |</pre>"
      ],
      "text/plain": [
       "| Iteration | Number of changed assignments |"
      ]
     },
     "metadata": {},
     "output_type": "display_data"
    },
    {
     "data": {
      "text/html": [
       "<pre>+-----------+-------------------------------+</pre>"
      ],
      "text/plain": [
       "+-----------+-------------------------------+"
      ]
     },
     "metadata": {},
     "output_type": "display_data"
    },
    {
     "data": {
      "text/html": [
       "<pre>| 1         | 0                             |</pre>"
      ],
      "text/plain": [
       "| 1         | 0                             |"
      ]
     },
     "metadata": {},
     "output_type": "display_data"
    },
    {
     "data": {
      "text/html": [
       "<pre>+-----------+-------------------------------+</pre>"
      ],
      "text/plain": [
       "+-----------+-------------------------------+"
      ]
     },
     "metadata": {},
     "output_type": "display_data"
    },
    {
     "data": {
      "text/html": [
       "<pre>Batch size is larger than the input dataset. Switching to an exact Kmeans method.</pre>"
      ],
      "text/plain": [
       "Batch size is larger than the input dataset. Switching to an exact Kmeans method."
      ]
     },
     "metadata": {},
     "output_type": "display_data"
    },
    {
     "data": {
      "text/html": [
       "<pre>Choosing initial cluster centers with Kmeans++.</pre>"
      ],
      "text/plain": [
       "Choosing initial cluster centers with Kmeans++."
      ]
     },
     "metadata": {},
     "output_type": "display_data"
    },
    {
     "data": {
      "text/html": [
       "<pre>+---------------+-----------+</pre>"
      ],
      "text/plain": [
       "+---------------+-----------+"
      ]
     },
     "metadata": {},
     "output_type": "display_data"
    },
    {
     "data": {
      "text/html": [
       "<pre>| Center number | Row index |</pre>"
      ],
      "text/plain": [
       "| Center number | Row index |"
      ]
     },
     "metadata": {},
     "output_type": "display_data"
    },
    {
     "data": {
      "text/html": [
       "<pre>+---------------+-----------+</pre>"
      ],
      "text/plain": [
       "+---------------+-----------+"
      ]
     },
     "metadata": {},
     "output_type": "display_data"
    },
    {
     "data": {
      "text/html": [
       "<pre>| 0             | 27        |</pre>"
      ],
      "text/plain": [
       "| 0             | 27        |"
      ]
     },
     "metadata": {},
     "output_type": "display_data"
    },
    {
     "data": {
      "text/html": [
       "<pre>| 1             | 9         |</pre>"
      ],
      "text/plain": [
       "| 1             | 9         |"
      ]
     },
     "metadata": {},
     "output_type": "display_data"
    },
    {
     "data": {
      "text/html": [
       "<pre>| 2             | 25        |</pre>"
      ],
      "text/plain": [
       "| 2             | 25        |"
      ]
     },
     "metadata": {},
     "output_type": "display_data"
    },
    {
     "data": {
      "text/html": [
       "<pre>| 3             | 61        |</pre>"
      ],
      "text/plain": [
       "| 3             | 61        |"
      ]
     },
     "metadata": {},
     "output_type": "display_data"
    },
    {
     "data": {
      "text/html": [
       "<pre>| 4             | 52        |</pre>"
      ],
      "text/plain": [
       "| 4             | 52        |"
      ]
     },
     "metadata": {},
     "output_type": "display_data"
    },
    {
     "data": {
      "text/html": [
       "<pre>| 5             | 42        |</pre>"
      ],
      "text/plain": [
       "| 5             | 42        |"
      ]
     },
     "metadata": {},
     "output_type": "display_data"
    },
    {
     "data": {
      "text/html": [
       "<pre>| 10            | 56        |</pre>"
      ],
      "text/plain": [
       "| 10            | 56        |"
      ]
     },
     "metadata": {},
     "output_type": "display_data"
    },
    {
     "data": {
      "text/html": [
       "<pre>| 21            | 11        |</pre>"
      ],
      "text/plain": [
       "| 21            | 11        |"
      ]
     },
     "metadata": {},
     "output_type": "display_data"
    },
    {
     "data": {
      "text/html": [
       "<pre>+---------------+-----------+</pre>"
      ],
      "text/plain": [
       "+---------------+-----------+"
      ]
     },
     "metadata": {},
     "output_type": "display_data"
    },
    {
     "data": {
      "text/html": [
       "<pre>Starting kmeans model training.</pre>"
      ],
      "text/plain": [
       "Starting kmeans model training."
      ]
     },
     "metadata": {},
     "output_type": "display_data"
    },
    {
     "data": {
      "text/html": [
       "<pre>Assigning points to initial cluster centers.</pre>"
      ],
      "text/plain": [
       "Assigning points to initial cluster centers."
      ]
     },
     "metadata": {},
     "output_type": "display_data"
    },
    {
     "data": {
      "text/html": [
       "<pre>+-----------+-------------------------------+</pre>"
      ],
      "text/plain": [
       "+-----------+-------------------------------+"
      ]
     },
     "metadata": {},
     "output_type": "display_data"
    },
    {
     "data": {
      "text/html": [
       "<pre>| Iteration | Number of changed assignments |</pre>"
      ],
      "text/plain": [
       "| Iteration | Number of changed assignments |"
      ]
     },
     "metadata": {},
     "output_type": "display_data"
    },
    {
     "data": {
      "text/html": [
       "<pre>+-----------+-------------------------------+</pre>"
      ],
      "text/plain": [
       "+-----------+-------------------------------+"
      ]
     },
     "metadata": {},
     "output_type": "display_data"
    },
    {
     "data": {
      "text/html": [
       "<pre>| 1         | 0                             |</pre>"
      ],
      "text/plain": [
       "| 1         | 0                             |"
      ]
     },
     "metadata": {},
     "output_type": "display_data"
    },
    {
     "data": {
      "text/html": [
       "<pre>+-----------+-------------------------------+</pre>"
      ],
      "text/plain": [
       "+-----------+-------------------------------+"
      ]
     },
     "metadata": {},
     "output_type": "display_data"
    },
    {
     "data": {
      "text/html": [
       "<pre>Batch size is larger than the input dataset. Switching to an exact Kmeans method.</pre>"
      ],
      "text/plain": [
       "Batch size is larger than the input dataset. Switching to an exact Kmeans method."
      ]
     },
     "metadata": {},
     "output_type": "display_data"
    },
    {
     "data": {
      "text/html": [
       "<pre>Choosing initial cluster centers with Kmeans++.</pre>"
      ],
      "text/plain": [
       "Choosing initial cluster centers with Kmeans++."
      ]
     },
     "metadata": {},
     "output_type": "display_data"
    },
    {
     "data": {
      "text/html": [
       "<pre>+---------------+-----------+</pre>"
      ],
      "text/plain": [
       "+---------------+-----------+"
      ]
     },
     "metadata": {},
     "output_type": "display_data"
    },
    {
     "data": {
      "text/html": [
       "<pre>| Center number | Row index |</pre>"
      ],
      "text/plain": [
       "| Center number | Row index |"
      ]
     },
     "metadata": {},
     "output_type": "display_data"
    },
    {
     "data": {
      "text/html": [
       "<pre>+---------------+-----------+</pre>"
      ],
      "text/plain": [
       "+---------------+-----------+"
      ]
     },
     "metadata": {},
     "output_type": "display_data"
    },
    {
     "data": {
      "text/html": [
       "<pre>| 0             | 36        |</pre>"
      ],
      "text/plain": [
       "| 0             | 36        |"
      ]
     },
     "metadata": {},
     "output_type": "display_data"
    },
    {
     "data": {
      "text/html": [
       "<pre>| 1             | 61        |</pre>"
      ],
      "text/plain": [
       "| 1             | 61        |"
      ]
     },
     "metadata": {},
     "output_type": "display_data"
    },
    {
     "data": {
      "text/html": [
       "<pre>| 2             | 2         |</pre>"
      ],
      "text/plain": [
       "| 2             | 2         |"
      ]
     },
     "metadata": {},
     "output_type": "display_data"
    },
    {
     "data": {
      "text/html": [
       "<pre>| 3             | 57        |</pre>"
      ],
      "text/plain": [
       "| 3             | 57        |"
      ]
     },
     "metadata": {},
     "output_type": "display_data"
    },
    {
     "data": {
      "text/html": [
       "<pre>| 4             | 8         |</pre>"
      ],
      "text/plain": [
       "| 4             | 8         |"
      ]
     },
     "metadata": {},
     "output_type": "display_data"
    },
    {
     "data": {
      "text/html": [
       "<pre>| 5             | 54        |</pre>"
      ],
      "text/plain": [
       "| 5             | 54        |"
      ]
     },
     "metadata": {},
     "output_type": "display_data"
    },
    {
     "data": {
      "text/html": [
       "<pre>| 10            | 21        |</pre>"
      ],
      "text/plain": [
       "| 10            | 21        |"
      ]
     },
     "metadata": {},
     "output_type": "display_data"
    },
    {
     "data": {
      "text/html": [
       "<pre>| 22            | 29        |</pre>"
      ],
      "text/plain": [
       "| 22            | 29        |"
      ]
     },
     "metadata": {},
     "output_type": "display_data"
    },
    {
     "data": {
      "text/html": [
       "<pre>+---------------+-----------+</pre>"
      ],
      "text/plain": [
       "+---------------+-----------+"
      ]
     },
     "metadata": {},
     "output_type": "display_data"
    },
    {
     "data": {
      "text/html": [
       "<pre>Starting kmeans model training.</pre>"
      ],
      "text/plain": [
       "Starting kmeans model training."
      ]
     },
     "metadata": {},
     "output_type": "display_data"
    },
    {
     "data": {
      "text/html": [
       "<pre>Assigning points to initial cluster centers.</pre>"
      ],
      "text/plain": [
       "Assigning points to initial cluster centers."
      ]
     },
     "metadata": {},
     "output_type": "display_data"
    },
    {
     "data": {
      "text/html": [
       "<pre>+-----------+-------------------------------+</pre>"
      ],
      "text/plain": [
       "+-----------+-------------------------------+"
      ]
     },
     "metadata": {},
     "output_type": "display_data"
    },
    {
     "data": {
      "text/html": [
       "<pre>| Iteration | Number of changed assignments |</pre>"
      ],
      "text/plain": [
       "| Iteration | Number of changed assignments |"
      ]
     },
     "metadata": {},
     "output_type": "display_data"
    },
    {
     "data": {
      "text/html": [
       "<pre>+-----------+-------------------------------+</pre>"
      ],
      "text/plain": [
       "+-----------+-------------------------------+"
      ]
     },
     "metadata": {},
     "output_type": "display_data"
    },
    {
     "data": {
      "text/html": [
       "<pre>| 1         | 0                             |</pre>"
      ],
      "text/plain": [
       "| 1         | 0                             |"
      ]
     },
     "metadata": {},
     "output_type": "display_data"
    },
    {
     "data": {
      "text/html": [
       "<pre>+-----------+-------------------------------+</pre>"
      ],
      "text/plain": [
       "+-----------+-------------------------------+"
      ]
     },
     "metadata": {},
     "output_type": "display_data"
    },
    {
     "data": {
      "text/html": [
       "<pre>Batch size is larger than the input dataset. Switching to an exact Kmeans method.</pre>"
      ],
      "text/plain": [
       "Batch size is larger than the input dataset. Switching to an exact Kmeans method."
      ]
     },
     "metadata": {},
     "output_type": "display_data"
    },
    {
     "data": {
      "text/html": [
       "<pre>Choosing initial cluster centers with Kmeans++.</pre>"
      ],
      "text/plain": [
       "Choosing initial cluster centers with Kmeans++."
      ]
     },
     "metadata": {},
     "output_type": "display_data"
    },
    {
     "data": {
      "text/html": [
       "<pre>+---------------+-----------+</pre>"
      ],
      "text/plain": [
       "+---------------+-----------+"
      ]
     },
     "metadata": {},
     "output_type": "display_data"
    },
    {
     "data": {
      "text/html": [
       "<pre>| Center number | Row index |</pre>"
      ],
      "text/plain": [
       "| Center number | Row index |"
      ]
     },
     "metadata": {},
     "output_type": "display_data"
    },
    {
     "data": {
      "text/html": [
       "<pre>+---------------+-----------+</pre>"
      ],
      "text/plain": [
       "+---------------+-----------+"
      ]
     },
     "metadata": {},
     "output_type": "display_data"
    },
    {
     "data": {
      "text/html": [
       "<pre>| 0             | 61        |</pre>"
      ],
      "text/plain": [
       "| 0             | 61        |"
      ]
     },
     "metadata": {},
     "output_type": "display_data"
    },
    {
     "data": {
      "text/html": [
       "<pre>| 1             | 18        |</pre>"
      ],
      "text/plain": [
       "| 1             | 18        |"
      ]
     },
     "metadata": {},
     "output_type": "display_data"
    },
    {
     "data": {
      "text/html": [
       "<pre>| 2             | 4         |</pre>"
      ],
      "text/plain": [
       "| 2             | 4         |"
      ]
     },
     "metadata": {},
     "output_type": "display_data"
    },
    {
     "data": {
      "text/html": [
       "<pre>| 3             | 57        |</pre>"
      ],
      "text/plain": [
       "| 3             | 57        |"
      ]
     },
     "metadata": {},
     "output_type": "display_data"
    },
    {
     "data": {
      "text/html": [
       "<pre>| 4             | 15        |</pre>"
      ],
      "text/plain": [
       "| 4             | 15        |"
      ]
     },
     "metadata": {},
     "output_type": "display_data"
    },
    {
     "data": {
      "text/html": [
       "<pre>| 5             | 40        |</pre>"
      ],
      "text/plain": [
       "| 5             | 40        |"
      ]
     },
     "metadata": {},
     "output_type": "display_data"
    },
    {
     "data": {
      "text/html": [
       "<pre>| 10            | 20        |</pre>"
      ],
      "text/plain": [
       "| 10            | 20        |"
      ]
     },
     "metadata": {},
     "output_type": "display_data"
    },
    {
     "data": {
      "text/html": [
       "<pre>| 23            | 31        |</pre>"
      ],
      "text/plain": [
       "| 23            | 31        |"
      ]
     },
     "metadata": {},
     "output_type": "display_data"
    },
    {
     "data": {
      "text/html": [
       "<pre>+---------------+-----------+</pre>"
      ],
      "text/plain": [
       "+---------------+-----------+"
      ]
     },
     "metadata": {},
     "output_type": "display_data"
    },
    {
     "data": {
      "text/html": [
       "<pre>Starting kmeans model training.</pre>"
      ],
      "text/plain": [
       "Starting kmeans model training."
      ]
     },
     "metadata": {},
     "output_type": "display_data"
    },
    {
     "data": {
      "text/html": [
       "<pre>Assigning points to initial cluster centers.</pre>"
      ],
      "text/plain": [
       "Assigning points to initial cluster centers."
      ]
     },
     "metadata": {},
     "output_type": "display_data"
    },
    {
     "data": {
      "text/html": [
       "<pre>+-----------+-------------------------------+</pre>"
      ],
      "text/plain": [
       "+-----------+-------------------------------+"
      ]
     },
     "metadata": {},
     "output_type": "display_data"
    },
    {
     "data": {
      "text/html": [
       "<pre>| Iteration | Number of changed assignments |</pre>"
      ],
      "text/plain": [
       "| Iteration | Number of changed assignments |"
      ]
     },
     "metadata": {},
     "output_type": "display_data"
    },
    {
     "data": {
      "text/html": [
       "<pre>+-----------+-------------------------------+</pre>"
      ],
      "text/plain": [
       "+-----------+-------------------------------+"
      ]
     },
     "metadata": {},
     "output_type": "display_data"
    },
    {
     "data": {
      "text/html": [
       "<pre>| 1         | 0                             |</pre>"
      ],
      "text/plain": [
       "| 1         | 0                             |"
      ]
     },
     "metadata": {},
     "output_type": "display_data"
    },
    {
     "data": {
      "text/html": [
       "<pre>+-----------+-------------------------------+</pre>"
      ],
      "text/plain": [
       "+-----------+-------------------------------+"
      ]
     },
     "metadata": {},
     "output_type": "display_data"
    },
    {
     "data": {
      "text/html": [
       "<pre>Batch size is larger than the input dataset. Switching to an exact Kmeans method.</pre>"
      ],
      "text/plain": [
       "Batch size is larger than the input dataset. Switching to an exact Kmeans method."
      ]
     },
     "metadata": {},
     "output_type": "display_data"
    },
    {
     "data": {
      "text/html": [
       "<pre>Choosing initial cluster centers with Kmeans++.</pre>"
      ],
      "text/plain": [
       "Choosing initial cluster centers with Kmeans++."
      ]
     },
     "metadata": {},
     "output_type": "display_data"
    },
    {
     "data": {
      "text/html": [
       "<pre>+---------------+-----------+</pre>"
      ],
      "text/plain": [
       "+---------------+-----------+"
      ]
     },
     "metadata": {},
     "output_type": "display_data"
    },
    {
     "data": {
      "text/html": [
       "<pre>| Center number | Row index |</pre>"
      ],
      "text/plain": [
       "| Center number | Row index |"
      ]
     },
     "metadata": {},
     "output_type": "display_data"
    },
    {
     "data": {
      "text/html": [
       "<pre>+---------------+-----------+</pre>"
      ],
      "text/plain": [
       "+---------------+-----------+"
      ]
     },
     "metadata": {},
     "output_type": "display_data"
    },
    {
     "data": {
      "text/html": [
       "<pre>| 0             | 7         |</pre>"
      ],
      "text/plain": [
       "| 0             | 7         |"
      ]
     },
     "metadata": {},
     "output_type": "display_data"
    },
    {
     "data": {
      "text/html": [
       "<pre>| 1             | 61        |</pre>"
      ],
      "text/plain": [
       "| 1             | 61        |"
      ]
     },
     "metadata": {},
     "output_type": "display_data"
    },
    {
     "data": {
      "text/html": [
       "<pre>| 2             | 46        |</pre>"
      ],
      "text/plain": [
       "| 2             | 46        |"
      ]
     },
     "metadata": {},
     "output_type": "display_data"
    },
    {
     "data": {
      "text/html": [
       "<pre>| 3             | 67        |</pre>"
      ],
      "text/plain": [
       "| 3             | 67        |"
      ]
     },
     "metadata": {},
     "output_type": "display_data"
    },
    {
     "data": {
      "text/html": [
       "<pre>| 4             | 54        |</pre>"
      ],
      "text/plain": [
       "| 4             | 54        |"
      ]
     },
     "metadata": {},
     "output_type": "display_data"
    },
    {
     "data": {
      "text/html": [
       "<pre>| 5             | 21        |</pre>"
      ],
      "text/plain": [
       "| 5             | 21        |"
      ]
     },
     "metadata": {},
     "output_type": "display_data"
    },
    {
     "data": {
      "text/html": [
       "<pre>| 10            | 10        |</pre>"
      ],
      "text/plain": [
       "| 10            | 10        |"
      ]
     },
     "metadata": {},
     "output_type": "display_data"
    },
    {
     "data": {
      "text/html": [
       "<pre>| 24            | 53        |</pre>"
      ],
      "text/plain": [
       "| 24            | 53        |"
      ]
     },
     "metadata": {},
     "output_type": "display_data"
    },
    {
     "data": {
      "text/html": [
       "<pre>+---------------+-----------+</pre>"
      ],
      "text/plain": [
       "+---------------+-----------+"
      ]
     },
     "metadata": {},
     "output_type": "display_data"
    },
    {
     "data": {
      "text/html": [
       "<pre>Starting kmeans model training.</pre>"
      ],
      "text/plain": [
       "Starting kmeans model training."
      ]
     },
     "metadata": {},
     "output_type": "display_data"
    },
    {
     "data": {
      "text/html": [
       "<pre>Assigning points to initial cluster centers.</pre>"
      ],
      "text/plain": [
       "Assigning points to initial cluster centers."
      ]
     },
     "metadata": {},
     "output_type": "display_data"
    },
    {
     "data": {
      "text/html": [
       "<pre>+-----------+-------------------------------+</pre>"
      ],
      "text/plain": [
       "+-----------+-------------------------------+"
      ]
     },
     "metadata": {},
     "output_type": "display_data"
    },
    {
     "data": {
      "text/html": [
       "<pre>| Iteration | Number of changed assignments |</pre>"
      ],
      "text/plain": [
       "| Iteration | Number of changed assignments |"
      ]
     },
     "metadata": {},
     "output_type": "display_data"
    },
    {
     "data": {
      "text/html": [
       "<pre>+-----------+-------------------------------+</pre>"
      ],
      "text/plain": [
       "+-----------+-------------------------------+"
      ]
     },
     "metadata": {},
     "output_type": "display_data"
    },
    {
     "data": {
      "text/html": [
       "<pre>| 1         | 1                             |</pre>"
      ],
      "text/plain": [
       "| 1         | 1                             |"
      ]
     },
     "metadata": {},
     "output_type": "display_data"
    },
    {
     "data": {
      "text/html": [
       "<pre>| 2         | 1                             |</pre>"
      ],
      "text/plain": [
       "| 2         | 1                             |"
      ]
     },
     "metadata": {},
     "output_type": "display_data"
    },
    {
     "data": {
      "text/html": [
       "<pre>| 3         | 0                             |</pre>"
      ],
      "text/plain": [
       "| 3         | 0                             |"
      ]
     },
     "metadata": {},
     "output_type": "display_data"
    },
    {
     "data": {
      "text/html": [
       "<pre>+-----------+-------------------------------+</pre>"
      ],
      "text/plain": [
       "+-----------+-------------------------------+"
      ]
     },
     "metadata": {},
     "output_type": "display_data"
    },
    {
     "data": {
      "text/html": [
       "<pre>Batch size is larger than the input dataset. Switching to an exact Kmeans method.</pre>"
      ],
      "text/plain": [
       "Batch size is larger than the input dataset. Switching to an exact Kmeans method."
      ]
     },
     "metadata": {},
     "output_type": "display_data"
    },
    {
     "data": {
      "text/html": [
       "<pre>Choosing initial cluster centers with Kmeans++.</pre>"
      ],
      "text/plain": [
       "Choosing initial cluster centers with Kmeans++."
      ]
     },
     "metadata": {},
     "output_type": "display_data"
    },
    {
     "data": {
      "text/html": [
       "<pre>+---------------+-----------+</pre>"
      ],
      "text/plain": [
       "+---------------+-----------+"
      ]
     },
     "metadata": {},
     "output_type": "display_data"
    },
    {
     "data": {
      "text/html": [
       "<pre>| Center number | Row index |</pre>"
      ],
      "text/plain": [
       "| Center number | Row index |"
      ]
     },
     "metadata": {},
     "output_type": "display_data"
    },
    {
     "data": {
      "text/html": [
       "<pre>+---------------+-----------+</pre>"
      ],
      "text/plain": [
       "+---------------+-----------+"
      ]
     },
     "metadata": {},
     "output_type": "display_data"
    },
    {
     "data": {
      "text/html": [
       "<pre>| 0             | 17        |</pre>"
      ],
      "text/plain": [
       "| 0             | 17        |"
      ]
     },
     "metadata": {},
     "output_type": "display_data"
    },
    {
     "data": {
      "text/html": [
       "<pre>| 1             | 65        |</pre>"
      ],
      "text/plain": [
       "| 1             | 65        |"
      ]
     },
     "metadata": {},
     "output_type": "display_data"
    },
    {
     "data": {
      "text/html": [
       "<pre>| 2             | 32        |</pre>"
      ],
      "text/plain": [
       "| 2             | 32        |"
      ]
     },
     "metadata": {},
     "output_type": "display_data"
    },
    {
     "data": {
      "text/html": [
       "<pre>| 3             | 9         |</pre>"
      ],
      "text/plain": [
       "| 3             | 9         |"
      ]
     },
     "metadata": {},
     "output_type": "display_data"
    },
    {
     "data": {
      "text/html": [
       "<pre>| 4             | 66        |</pre>"
      ],
      "text/plain": [
       "| 4             | 66        |"
      ]
     },
     "metadata": {},
     "output_type": "display_data"
    },
    {
     "data": {
      "text/html": [
       "<pre>| 5             | 54        |</pre>"
      ],
      "text/plain": [
       "| 5             | 54        |"
      ]
     },
     "metadata": {},
     "output_type": "display_data"
    },
    {
     "data": {
      "text/html": [
       "<pre>| 10            | 48        |</pre>"
      ],
      "text/plain": [
       "| 10            | 48        |"
      ]
     },
     "metadata": {},
     "output_type": "display_data"
    },
    {
     "data": {
      "text/html": [
       "<pre>| 25            | 12        |</pre>"
      ],
      "text/plain": [
       "| 25            | 12        |"
      ]
     },
     "metadata": {},
     "output_type": "display_data"
    },
    {
     "data": {
      "text/html": [
       "<pre>+---------------+-----------+</pre>"
      ],
      "text/plain": [
       "+---------------+-----------+"
      ]
     },
     "metadata": {},
     "output_type": "display_data"
    },
    {
     "data": {
      "text/html": [
       "<pre>Starting kmeans model training.</pre>"
      ],
      "text/plain": [
       "Starting kmeans model training."
      ]
     },
     "metadata": {},
     "output_type": "display_data"
    },
    {
     "data": {
      "text/html": [
       "<pre>Assigning points to initial cluster centers.</pre>"
      ],
      "text/plain": [
       "Assigning points to initial cluster centers."
      ]
     },
     "metadata": {},
     "output_type": "display_data"
    },
    {
     "data": {
      "text/html": [
       "<pre>+-----------+-------------------------------+</pre>"
      ],
      "text/plain": [
       "+-----------+-------------------------------+"
      ]
     },
     "metadata": {},
     "output_type": "display_data"
    },
    {
     "data": {
      "text/html": [
       "<pre>| Iteration | Number of changed assignments |</pre>"
      ],
      "text/plain": [
       "| Iteration | Number of changed assignments |"
      ]
     },
     "metadata": {},
     "output_type": "display_data"
    },
    {
     "data": {
      "text/html": [
       "<pre>+-----------+-------------------------------+</pre>"
      ],
      "text/plain": [
       "+-----------+-------------------------------+"
      ]
     },
     "metadata": {},
     "output_type": "display_data"
    },
    {
     "data": {
      "text/html": [
       "<pre>| 1         | 0                             |</pre>"
      ],
      "text/plain": [
       "| 1         | 0                             |"
      ]
     },
     "metadata": {},
     "output_type": "display_data"
    },
    {
     "data": {
      "text/html": [
       "<pre>+-----------+-------------------------------+</pre>"
      ],
      "text/plain": [
       "+-----------+-------------------------------+"
      ]
     },
     "metadata": {},
     "output_type": "display_data"
    },
    {
     "data": {
      "text/html": [
       "<pre>Batch size is larger than the input dataset. Switching to an exact Kmeans method.</pre>"
      ],
      "text/plain": [
       "Batch size is larger than the input dataset. Switching to an exact Kmeans method."
      ]
     },
     "metadata": {},
     "output_type": "display_data"
    },
    {
     "data": {
      "text/html": [
       "<pre>Choosing initial cluster centers with Kmeans++.</pre>"
      ],
      "text/plain": [
       "Choosing initial cluster centers with Kmeans++."
      ]
     },
     "metadata": {},
     "output_type": "display_data"
    },
    {
     "data": {
      "text/html": [
       "<pre>+---------------+-----------+</pre>"
      ],
      "text/plain": [
       "+---------------+-----------+"
      ]
     },
     "metadata": {},
     "output_type": "display_data"
    },
    {
     "data": {
      "text/html": [
       "<pre>| Center number | Row index |</pre>"
      ],
      "text/plain": [
       "| Center number | Row index |"
      ]
     },
     "metadata": {},
     "output_type": "display_data"
    },
    {
     "data": {
      "text/html": [
       "<pre>+---------------+-----------+</pre>"
      ],
      "text/plain": [
       "+---------------+-----------+"
      ]
     },
     "metadata": {},
     "output_type": "display_data"
    },
    {
     "data": {
      "text/html": [
       "<pre>| 0             | 9         |</pre>"
      ],
      "text/plain": [
       "| 0             | 9         |"
      ]
     },
     "metadata": {},
     "output_type": "display_data"
    },
    {
     "data": {
      "text/html": [
       "<pre>| 1             | 44        |</pre>"
      ],
      "text/plain": [
       "| 1             | 44        |"
      ]
     },
     "metadata": {},
     "output_type": "display_data"
    },
    {
     "data": {
      "text/html": [
       "<pre>| 2             | 59        |</pre>"
      ],
      "text/plain": [
       "| 2             | 59        |"
      ]
     },
     "metadata": {},
     "output_type": "display_data"
    },
    {
     "data": {
      "text/html": [
       "<pre>| 3             | 36        |</pre>"
      ],
      "text/plain": [
       "| 3             | 36        |"
      ]
     },
     "metadata": {},
     "output_type": "display_data"
    },
    {
     "data": {
      "text/html": [
       "<pre>| 4             | 40        |</pre>"
      ],
      "text/plain": [
       "| 4             | 40        |"
      ]
     },
     "metadata": {},
     "output_type": "display_data"
    },
    {
     "data": {
      "text/html": [
       "<pre>| 5             | 53        |</pre>"
      ],
      "text/plain": [
       "| 5             | 53        |"
      ]
     },
     "metadata": {},
     "output_type": "display_data"
    },
    {
     "data": {
      "text/html": [
       "<pre>| 10            | 46        |</pre>"
      ],
      "text/plain": [
       "| 10            | 46        |"
      ]
     },
     "metadata": {},
     "output_type": "display_data"
    },
    {
     "data": {
      "text/html": [
       "<pre>| 26            | 62        |</pre>"
      ],
      "text/plain": [
       "| 26            | 62        |"
      ]
     },
     "metadata": {},
     "output_type": "display_data"
    },
    {
     "data": {
      "text/html": [
       "<pre>+---------------+-----------+</pre>"
      ],
      "text/plain": [
       "+---------------+-----------+"
      ]
     },
     "metadata": {},
     "output_type": "display_data"
    },
    {
     "data": {
      "text/html": [
       "<pre>Starting kmeans model training.</pre>"
      ],
      "text/plain": [
       "Starting kmeans model training."
      ]
     },
     "metadata": {},
     "output_type": "display_data"
    },
    {
     "data": {
      "text/html": [
       "<pre>Assigning points to initial cluster centers.</pre>"
      ],
      "text/plain": [
       "Assigning points to initial cluster centers."
      ]
     },
     "metadata": {},
     "output_type": "display_data"
    },
    {
     "data": {
      "text/html": [
       "<pre>+-----------+-------------------------------+</pre>"
      ],
      "text/plain": [
       "+-----------+-------------------------------+"
      ]
     },
     "metadata": {},
     "output_type": "display_data"
    },
    {
     "data": {
      "text/html": [
       "<pre>| Iteration | Number of changed assignments |</pre>"
      ],
      "text/plain": [
       "| Iteration | Number of changed assignments |"
      ]
     },
     "metadata": {},
     "output_type": "display_data"
    },
    {
     "data": {
      "text/html": [
       "<pre>+-----------+-------------------------------+</pre>"
      ],
      "text/plain": [
       "+-----------+-------------------------------+"
      ]
     },
     "metadata": {},
     "output_type": "display_data"
    },
    {
     "data": {
      "text/html": [
       "<pre>| 1         | 0                             |</pre>"
      ],
      "text/plain": [
       "| 1         | 0                             |"
      ]
     },
     "metadata": {},
     "output_type": "display_data"
    },
    {
     "data": {
      "text/html": [
       "<pre>+-----------+-------------------------------+</pre>"
      ],
      "text/plain": [
       "+-----------+-------------------------------+"
      ]
     },
     "metadata": {},
     "output_type": "display_data"
    },
    {
     "data": {
      "text/html": [
       "<pre>Batch size is larger than the input dataset. Switching to an exact Kmeans method.</pre>"
      ],
      "text/plain": [
       "Batch size is larger than the input dataset. Switching to an exact Kmeans method."
      ]
     },
     "metadata": {},
     "output_type": "display_data"
    },
    {
     "data": {
      "text/html": [
       "<pre>Choosing initial cluster centers with Kmeans++.</pre>"
      ],
      "text/plain": [
       "Choosing initial cluster centers with Kmeans++."
      ]
     },
     "metadata": {},
     "output_type": "display_data"
    },
    {
     "data": {
      "text/html": [
       "<pre>+---------------+-----------+</pre>"
      ],
      "text/plain": [
       "+---------------+-----------+"
      ]
     },
     "metadata": {},
     "output_type": "display_data"
    },
    {
     "data": {
      "text/html": [
       "<pre>| Center number | Row index |</pre>"
      ],
      "text/plain": [
       "| Center number | Row index |"
      ]
     },
     "metadata": {},
     "output_type": "display_data"
    },
    {
     "data": {
      "text/html": [
       "<pre>+---------------+-----------+</pre>"
      ],
      "text/plain": [
       "+---------------+-----------+"
      ]
     },
     "metadata": {},
     "output_type": "display_data"
    },
    {
     "data": {
      "text/html": [
       "<pre>| 0             | 27        |</pre>"
      ],
      "text/plain": [
       "| 0             | 27        |"
      ]
     },
     "metadata": {},
     "output_type": "display_data"
    },
    {
     "data": {
      "text/html": [
       "<pre>| 1             | 51        |</pre>"
      ],
      "text/plain": [
       "| 1             | 51        |"
      ]
     },
     "metadata": {},
     "output_type": "display_data"
    },
    {
     "data": {
      "text/html": [
       "<pre>| 2             | 49        |</pre>"
      ],
      "text/plain": [
       "| 2             | 49        |"
      ]
     },
     "metadata": {},
     "output_type": "display_data"
    },
    {
     "data": {
      "text/html": [
       "<pre>| 3             | 63        |</pre>"
      ],
      "text/plain": [
       "| 3             | 63        |"
      ]
     },
     "metadata": {},
     "output_type": "display_data"
    },
    {
     "data": {
      "text/html": [
       "<pre>| 4             | 42        |</pre>"
      ],
      "text/plain": [
       "| 4             | 42        |"
      ]
     },
     "metadata": {},
     "output_type": "display_data"
    },
    {
     "data": {
      "text/html": [
       "<pre>| 5             | 61        |</pre>"
      ],
      "text/plain": [
       "| 5             | 61        |"
      ]
     },
     "metadata": {},
     "output_type": "display_data"
    },
    {
     "data": {
      "text/html": [
       "<pre>| 10            | 66        |</pre>"
      ],
      "text/plain": [
       "| 10            | 66        |"
      ]
     },
     "metadata": {},
     "output_type": "display_data"
    },
    {
     "data": {
      "text/html": [
       "<pre>| 27            | 21        |</pre>"
      ],
      "text/plain": [
       "| 27            | 21        |"
      ]
     },
     "metadata": {},
     "output_type": "display_data"
    },
    {
     "data": {
      "text/html": [
       "<pre>+---------------+-----------+</pre>"
      ],
      "text/plain": [
       "+---------------+-----------+"
      ]
     },
     "metadata": {},
     "output_type": "display_data"
    },
    {
     "data": {
      "text/html": [
       "<pre>Starting kmeans model training.</pre>"
      ],
      "text/plain": [
       "Starting kmeans model training."
      ]
     },
     "metadata": {},
     "output_type": "display_data"
    },
    {
     "data": {
      "text/html": [
       "<pre>Assigning points to initial cluster centers.</pre>"
      ],
      "text/plain": [
       "Assigning points to initial cluster centers."
      ]
     },
     "metadata": {},
     "output_type": "display_data"
    },
    {
     "data": {
      "text/html": [
       "<pre>+-----------+-------------------------------+</pre>"
      ],
      "text/plain": [
       "+-----------+-------------------------------+"
      ]
     },
     "metadata": {},
     "output_type": "display_data"
    },
    {
     "data": {
      "text/html": [
       "<pre>| Iteration | Number of changed assignments |</pre>"
      ],
      "text/plain": [
       "| Iteration | Number of changed assignments |"
      ]
     },
     "metadata": {},
     "output_type": "display_data"
    },
    {
     "data": {
      "text/html": [
       "<pre>+-----------+-------------------------------+</pre>"
      ],
      "text/plain": [
       "+-----------+-------------------------------+"
      ]
     },
     "metadata": {},
     "output_type": "display_data"
    },
    {
     "data": {
      "text/html": [
       "<pre>| 1         | 0                             |</pre>"
      ],
      "text/plain": [
       "| 1         | 0                             |"
      ]
     },
     "metadata": {},
     "output_type": "display_data"
    },
    {
     "data": {
      "text/html": [
       "<pre>+-----------+-------------------------------+</pre>"
      ],
      "text/plain": [
       "+-----------+-------------------------------+"
      ]
     },
     "metadata": {},
     "output_type": "display_data"
    },
    {
     "data": {
      "text/html": [
       "<pre>Batch size is larger than the input dataset. Switching to an exact Kmeans method.</pre>"
      ],
      "text/plain": [
       "Batch size is larger than the input dataset. Switching to an exact Kmeans method."
      ]
     },
     "metadata": {},
     "output_type": "display_data"
    },
    {
     "data": {
      "text/html": [
       "<pre>Choosing initial cluster centers with Kmeans++.</pre>"
      ],
      "text/plain": [
       "Choosing initial cluster centers with Kmeans++."
      ]
     },
     "metadata": {},
     "output_type": "display_data"
    },
    {
     "data": {
      "text/html": [
       "<pre>+---------------+-----------+</pre>"
      ],
      "text/plain": [
       "+---------------+-----------+"
      ]
     },
     "metadata": {},
     "output_type": "display_data"
    },
    {
     "data": {
      "text/html": [
       "<pre>| Center number | Row index |</pre>"
      ],
      "text/plain": [
       "| Center number | Row index |"
      ]
     },
     "metadata": {},
     "output_type": "display_data"
    },
    {
     "data": {
      "text/html": [
       "<pre>+---------------+-----------+</pre>"
      ],
      "text/plain": [
       "+---------------+-----------+"
      ]
     },
     "metadata": {},
     "output_type": "display_data"
    },
    {
     "data": {
      "text/html": [
       "<pre>| 0             | 60        |</pre>"
      ],
      "text/plain": [
       "| 0             | 60        |"
      ]
     },
     "metadata": {},
     "output_type": "display_data"
    },
    {
     "data": {
      "text/html": [
       "<pre>| 1             | 3         |</pre>"
      ],
      "text/plain": [
       "| 1             | 3         |"
      ]
     },
     "metadata": {},
     "output_type": "display_data"
    },
    {
     "data": {
      "text/html": [
       "<pre>| 2             | 40        |</pre>"
      ],
      "text/plain": [
       "| 2             | 40        |"
      ]
     },
     "metadata": {},
     "output_type": "display_data"
    },
    {
     "data": {
      "text/html": [
       "<pre>| 3             | 63        |</pre>"
      ],
      "text/plain": [
       "| 3             | 63        |"
      ]
     },
     "metadata": {},
     "output_type": "display_data"
    },
    {
     "data": {
      "text/html": [
       "<pre>| 4             | 61        |</pre>"
      ],
      "text/plain": [
       "| 4             | 61        |"
      ]
     },
     "metadata": {},
     "output_type": "display_data"
    },
    {
     "data": {
      "text/html": [
       "<pre>| 5             | 39        |</pre>"
      ],
      "text/plain": [
       "| 5             | 39        |"
      ]
     },
     "metadata": {},
     "output_type": "display_data"
    },
    {
     "data": {
      "text/html": [
       "<pre>| 10            | 35        |</pre>"
      ],
      "text/plain": [
       "| 10            | 35        |"
      ]
     },
     "metadata": {},
     "output_type": "display_data"
    },
    {
     "data": {
      "text/html": [
       "<pre>| 28            | 57        |</pre>"
      ],
      "text/plain": [
       "| 28            | 57        |"
      ]
     },
     "metadata": {},
     "output_type": "display_data"
    },
    {
     "data": {
      "text/html": [
       "<pre>+---------------+-----------+</pre>"
      ],
      "text/plain": [
       "+---------------+-----------+"
      ]
     },
     "metadata": {},
     "output_type": "display_data"
    },
    {
     "data": {
      "text/html": [
       "<pre>Starting kmeans model training.</pre>"
      ],
      "text/plain": [
       "Starting kmeans model training."
      ]
     },
     "metadata": {},
     "output_type": "display_data"
    },
    {
     "data": {
      "text/html": [
       "<pre>Assigning points to initial cluster centers.</pre>"
      ],
      "text/plain": [
       "Assigning points to initial cluster centers."
      ]
     },
     "metadata": {},
     "output_type": "display_data"
    },
    {
     "data": {
      "text/html": [
       "<pre>+-----------+-------------------------------+</pre>"
      ],
      "text/plain": [
       "+-----------+-------------------------------+"
      ]
     },
     "metadata": {},
     "output_type": "display_data"
    },
    {
     "data": {
      "text/html": [
       "<pre>| Iteration | Number of changed assignments |</pre>"
      ],
      "text/plain": [
       "| Iteration | Number of changed assignments |"
      ]
     },
     "metadata": {},
     "output_type": "display_data"
    },
    {
     "data": {
      "text/html": [
       "<pre>+-----------+-------------------------------+</pre>"
      ],
      "text/plain": [
       "+-----------+-------------------------------+"
      ]
     },
     "metadata": {},
     "output_type": "display_data"
    },
    {
     "data": {
      "text/html": [
       "<pre>| 1         | 0                             |</pre>"
      ],
      "text/plain": [
       "| 1         | 0                             |"
      ]
     },
     "metadata": {},
     "output_type": "display_data"
    },
    {
     "data": {
      "text/html": [
       "<pre>+-----------+-------------------------------+</pre>"
      ],
      "text/plain": [
       "+-----------+-------------------------------+"
      ]
     },
     "metadata": {},
     "output_type": "display_data"
    },
    {
     "data": {
      "text/html": [
       "<pre>Batch size is larger than the input dataset. Switching to an exact Kmeans method.</pre>"
      ],
      "text/plain": [
       "Batch size is larger than the input dataset. Switching to an exact Kmeans method."
      ]
     },
     "metadata": {},
     "output_type": "display_data"
    },
    {
     "data": {
      "text/html": [
       "<pre>Choosing initial cluster centers with Kmeans++.</pre>"
      ],
      "text/plain": [
       "Choosing initial cluster centers with Kmeans++."
      ]
     },
     "metadata": {},
     "output_type": "display_data"
    },
    {
     "data": {
      "text/html": [
       "<pre>+---------------+-----------+</pre>"
      ],
      "text/plain": [
       "+---------------+-----------+"
      ]
     },
     "metadata": {},
     "output_type": "display_data"
    },
    {
     "data": {
      "text/html": [
       "<pre>| Center number | Row index |</pre>"
      ],
      "text/plain": [
       "| Center number | Row index |"
      ]
     },
     "metadata": {},
     "output_type": "display_data"
    },
    {
     "data": {
      "text/html": [
       "<pre>+---------------+-----------+</pre>"
      ],
      "text/plain": [
       "+---------------+-----------+"
      ]
     },
     "metadata": {},
     "output_type": "display_data"
    },
    {
     "data": {
      "text/html": [
       "<pre>| 0             | 59        |</pre>"
      ],
      "text/plain": [
       "| 0             | 59        |"
      ]
     },
     "metadata": {},
     "output_type": "display_data"
    },
    {
     "data": {
      "text/html": [
       "<pre>| 1             | 22        |</pre>"
      ],
      "text/plain": [
       "| 1             | 22        |"
      ]
     },
     "metadata": {},
     "output_type": "display_data"
    },
    {
     "data": {
      "text/html": [
       "<pre>| 2             | 60        |</pre>"
      ],
      "text/plain": [
       "| 2             | 60        |"
      ]
     },
     "metadata": {},
     "output_type": "display_data"
    },
    {
     "data": {
      "text/html": [
       "<pre>| 3             | 61        |</pre>"
      ],
      "text/plain": [
       "| 3             | 61        |"
      ]
     },
     "metadata": {},
     "output_type": "display_data"
    },
    {
     "data": {
      "text/html": [
       "<pre>| 4             | 50        |</pre>"
      ],
      "text/plain": [
       "| 4             | 50        |"
      ]
     },
     "metadata": {},
     "output_type": "display_data"
    },
    {
     "data": {
      "text/html": [
       "<pre>| 5             | 53        |</pre>"
      ],
      "text/plain": [
       "| 5             | 53        |"
      ]
     },
     "metadata": {},
     "output_type": "display_data"
    },
    {
     "data": {
      "text/html": [
       "<pre>| 10            | 8         |</pre>"
      ],
      "text/plain": [
       "| 10            | 8         |"
      ]
     },
     "metadata": {},
     "output_type": "display_data"
    },
    {
     "data": {
      "text/html": [
       "<pre>| 29            | 24        |</pre>"
      ],
      "text/plain": [
       "| 29            | 24        |"
      ]
     },
     "metadata": {},
     "output_type": "display_data"
    },
    {
     "data": {
      "text/html": [
       "<pre>+---------------+-----------+</pre>"
      ],
      "text/plain": [
       "+---------------+-----------+"
      ]
     },
     "metadata": {},
     "output_type": "display_data"
    },
    {
     "data": {
      "text/html": [
       "<pre>Starting kmeans model training.</pre>"
      ],
      "text/plain": [
       "Starting kmeans model training."
      ]
     },
     "metadata": {},
     "output_type": "display_data"
    },
    {
     "data": {
      "text/html": [
       "<pre>Assigning points to initial cluster centers.</pre>"
      ],
      "text/plain": [
       "Assigning points to initial cluster centers."
      ]
     },
     "metadata": {},
     "output_type": "display_data"
    },
    {
     "data": {
      "text/html": [
       "<pre>+-----------+-------------------------------+</pre>"
      ],
      "text/plain": [
       "+-----------+-------------------------------+"
      ]
     },
     "metadata": {},
     "output_type": "display_data"
    },
    {
     "data": {
      "text/html": [
       "<pre>| Iteration | Number of changed assignments |</pre>"
      ],
      "text/plain": [
       "| Iteration | Number of changed assignments |"
      ]
     },
     "metadata": {},
     "output_type": "display_data"
    },
    {
     "data": {
      "text/html": [
       "<pre>+-----------+-------------------------------+</pre>"
      ],
      "text/plain": [
       "+-----------+-------------------------------+"
      ]
     },
     "metadata": {},
     "output_type": "display_data"
    },
    {
     "data": {
      "text/html": [
       "<pre>| 1         | 0                             |</pre>"
      ],
      "text/plain": [
       "| 1         | 0                             |"
      ]
     },
     "metadata": {},
     "output_type": "display_data"
    },
    {
     "data": {
      "text/html": [
       "<pre>+-----------+-------------------------------+</pre>"
      ],
      "text/plain": [
       "+-----------+-------------------------------+"
      ]
     },
     "metadata": {},
     "output_type": "display_data"
    },
    {
     "data": {
      "text/html": [
       "<pre>Batch size is larger than the input dataset. Switching to an exact Kmeans method.</pre>"
      ],
      "text/plain": [
       "Batch size is larger than the input dataset. Switching to an exact Kmeans method."
      ]
     },
     "metadata": {},
     "output_type": "display_data"
    },
    {
     "data": {
      "text/html": [
       "<pre>Choosing initial cluster centers with Kmeans++.</pre>"
      ],
      "text/plain": [
       "Choosing initial cluster centers with Kmeans++."
      ]
     },
     "metadata": {},
     "output_type": "display_data"
    },
    {
     "data": {
      "text/html": [
       "<pre>+---------------+-----------+</pre>"
      ],
      "text/plain": [
       "+---------------+-----------+"
      ]
     },
     "metadata": {},
     "output_type": "display_data"
    },
    {
     "data": {
      "text/html": [
       "<pre>| Center number | Row index |</pre>"
      ],
      "text/plain": [
       "| Center number | Row index |"
      ]
     },
     "metadata": {},
     "output_type": "display_data"
    },
    {
     "data": {
      "text/html": [
       "<pre>+---------------+-----------+</pre>"
      ],
      "text/plain": [
       "+---------------+-----------+"
      ]
     },
     "metadata": {},
     "output_type": "display_data"
    },
    {
     "data": {
      "text/html": [
       "<pre>| 0             | 16        |</pre>"
      ],
      "text/plain": [
       "| 0             | 16        |"
      ]
     },
     "metadata": {},
     "output_type": "display_data"
    },
    {
     "data": {
      "text/html": [
       "<pre>| 1             | 65        |</pre>"
      ],
      "text/plain": [
       "| 1             | 65        |"
      ]
     },
     "metadata": {},
     "output_type": "display_data"
    },
    {
     "data": {
      "text/html": [
       "<pre>| 2             | 57        |</pre>"
      ],
      "text/plain": [
       "| 2             | 57        |"
      ]
     },
     "metadata": {},
     "output_type": "display_data"
    },
    {
     "data": {
      "text/html": [
       "<pre>| 3             | 5         |</pre>"
      ],
      "text/plain": [
       "| 3             | 5         |"
      ]
     },
     "metadata": {},
     "output_type": "display_data"
    },
    {
     "data": {
      "text/html": [
       "<pre>| 4             | 37        |</pre>"
      ],
      "text/plain": [
       "| 4             | 37        |"
      ]
     },
     "metadata": {},
     "output_type": "display_data"
    },
    {
     "data": {
      "text/html": [
       "<pre>| 5             | 19        |</pre>"
      ],
      "text/plain": [
       "| 5             | 19        |"
      ]
     },
     "metadata": {},
     "output_type": "display_data"
    },
    {
     "data": {
      "text/html": [
       "<pre>| 10            | 1         |</pre>"
      ],
      "text/plain": [
       "| 10            | 1         |"
      ]
     },
     "metadata": {},
     "output_type": "display_data"
    },
    {
     "data": {
      "text/html": [
       "<pre>| 30            | 42        |</pre>"
      ],
      "text/plain": [
       "| 30            | 42        |"
      ]
     },
     "metadata": {},
     "output_type": "display_data"
    },
    {
     "data": {
      "text/html": [
       "<pre>+---------------+-----------+</pre>"
      ],
      "text/plain": [
       "+---------------+-----------+"
      ]
     },
     "metadata": {},
     "output_type": "display_data"
    },
    {
     "data": {
      "text/html": [
       "<pre>Starting kmeans model training.</pre>"
      ],
      "text/plain": [
       "Starting kmeans model training."
      ]
     },
     "metadata": {},
     "output_type": "display_data"
    },
    {
     "data": {
      "text/html": [
       "<pre>Assigning points to initial cluster centers.</pre>"
      ],
      "text/plain": [
       "Assigning points to initial cluster centers."
      ]
     },
     "metadata": {},
     "output_type": "display_data"
    },
    {
     "data": {
      "text/html": [
       "<pre>+-----------+-------------------------------+</pre>"
      ],
      "text/plain": [
       "+-----------+-------------------------------+"
      ]
     },
     "metadata": {},
     "output_type": "display_data"
    },
    {
     "data": {
      "text/html": [
       "<pre>| Iteration | Number of changed assignments |</pre>"
      ],
      "text/plain": [
       "| Iteration | Number of changed assignments |"
      ]
     },
     "metadata": {},
     "output_type": "display_data"
    },
    {
     "data": {
      "text/html": [
       "<pre>+-----------+-------------------------------+</pre>"
      ],
      "text/plain": [
       "+-----------+-------------------------------+"
      ]
     },
     "metadata": {},
     "output_type": "display_data"
    },
    {
     "data": {
      "text/html": [
       "<pre>| 1         | 0                             |</pre>"
      ],
      "text/plain": [
       "| 1         | 0                             |"
      ]
     },
     "metadata": {},
     "output_type": "display_data"
    },
    {
     "data": {
      "text/html": [
       "<pre>+-----------+-------------------------------+</pre>"
      ],
      "text/plain": [
       "+-----------+-------------------------------+"
      ]
     },
     "metadata": {},
     "output_type": "display_data"
    },
    {
     "data": {
      "text/html": [
       "<pre>Batch size is larger than the input dataset. Switching to an exact Kmeans method.</pre>"
      ],
      "text/plain": [
       "Batch size is larger than the input dataset. Switching to an exact Kmeans method."
      ]
     },
     "metadata": {},
     "output_type": "display_data"
    },
    {
     "data": {
      "text/html": [
       "<pre>Choosing initial cluster centers with Kmeans++.</pre>"
      ],
      "text/plain": [
       "Choosing initial cluster centers with Kmeans++."
      ]
     },
     "metadata": {},
     "output_type": "display_data"
    },
    {
     "data": {
      "text/html": [
       "<pre>+---------------+-----------+</pre>"
      ],
      "text/plain": [
       "+---------------+-----------+"
      ]
     },
     "metadata": {},
     "output_type": "display_data"
    },
    {
     "data": {
      "text/html": [
       "<pre>| Center number | Row index |</pre>"
      ],
      "text/plain": [
       "| Center number | Row index |"
      ]
     },
     "metadata": {},
     "output_type": "display_data"
    },
    {
     "data": {
      "text/html": [
       "<pre>+---------------+-----------+</pre>"
      ],
      "text/plain": [
       "+---------------+-----------+"
      ]
     },
     "metadata": {},
     "output_type": "display_data"
    },
    {
     "data": {
      "text/html": [
       "<pre>| 0             | 45        |</pre>"
      ],
      "text/plain": [
       "| 0             | 45        |"
      ]
     },
     "metadata": {},
     "output_type": "display_data"
    },
    {
     "data": {
      "text/html": [
       "<pre>| 1             | 37        |</pre>"
      ],
      "text/plain": [
       "| 1             | 37        |"
      ]
     },
     "metadata": {},
     "output_type": "display_data"
    },
    {
     "data": {
      "text/html": [
       "<pre>| 2             | 63        |</pre>"
      ],
      "text/plain": [
       "| 2             | 63        |"
      ]
     },
     "metadata": {},
     "output_type": "display_data"
    },
    {
     "data": {
      "text/html": [
       "<pre>| 3             | 62        |</pre>"
      ],
      "text/plain": [
       "| 3             | 62        |"
      ]
     },
     "metadata": {},
     "output_type": "display_data"
    },
    {
     "data": {
      "text/html": [
       "<pre>| 4             | 12        |</pre>"
      ],
      "text/plain": [
       "| 4             | 12        |"
      ]
     },
     "metadata": {},
     "output_type": "display_data"
    },
    {
     "data": {
      "text/html": [
       "<pre>| 5             | 8         |</pre>"
      ],
      "text/plain": [
       "| 5             | 8         |"
      ]
     },
     "metadata": {},
     "output_type": "display_data"
    },
    {
     "data": {
      "text/html": [
       "<pre>| 10            | 19        |</pre>"
      ],
      "text/plain": [
       "| 10            | 19        |"
      ]
     },
     "metadata": {},
     "output_type": "display_data"
    },
    {
     "data": {
      "text/html": [
       "<pre>| 31            | 59        |</pre>"
      ],
      "text/plain": [
       "| 31            | 59        |"
      ]
     },
     "metadata": {},
     "output_type": "display_data"
    },
    {
     "data": {
      "text/html": [
       "<pre>+---------------+-----------+</pre>"
      ],
      "text/plain": [
       "+---------------+-----------+"
      ]
     },
     "metadata": {},
     "output_type": "display_data"
    },
    {
     "data": {
      "text/html": [
       "<pre>Starting kmeans model training.</pre>"
      ],
      "text/plain": [
       "Starting kmeans model training."
      ]
     },
     "metadata": {},
     "output_type": "display_data"
    },
    {
     "data": {
      "text/html": [
       "<pre>Assigning points to initial cluster centers.</pre>"
      ],
      "text/plain": [
       "Assigning points to initial cluster centers."
      ]
     },
     "metadata": {},
     "output_type": "display_data"
    },
    {
     "data": {
      "text/html": [
       "<pre>+-----------+-------------------------------+</pre>"
      ],
      "text/plain": [
       "+-----------+-------------------------------+"
      ]
     },
     "metadata": {},
     "output_type": "display_data"
    },
    {
     "data": {
      "text/html": [
       "<pre>| Iteration | Number of changed assignments |</pre>"
      ],
      "text/plain": [
       "| Iteration | Number of changed assignments |"
      ]
     },
     "metadata": {},
     "output_type": "display_data"
    },
    {
     "data": {
      "text/html": [
       "<pre>+-----------+-------------------------------+</pre>"
      ],
      "text/plain": [
       "+-----------+-------------------------------+"
      ]
     },
     "metadata": {},
     "output_type": "display_data"
    },
    {
     "data": {
      "text/html": [
       "<pre>| 1         | 0                             |</pre>"
      ],
      "text/plain": [
       "| 1         | 0                             |"
      ]
     },
     "metadata": {},
     "output_type": "display_data"
    },
    {
     "data": {
      "text/html": [
       "<pre>+-----------+-------------------------------+</pre>"
      ],
      "text/plain": [
       "+-----------+-------------------------------+"
      ]
     },
     "metadata": {},
     "output_type": "display_data"
    },
    {
     "data": {
      "text/html": [
       "<pre>Batch size is larger than the input dataset. Switching to an exact Kmeans method.</pre>"
      ],
      "text/plain": [
       "Batch size is larger than the input dataset. Switching to an exact Kmeans method."
      ]
     },
     "metadata": {},
     "output_type": "display_data"
    },
    {
     "data": {
      "text/html": [
       "<pre>Choosing initial cluster centers with Kmeans++.</pre>"
      ],
      "text/plain": [
       "Choosing initial cluster centers with Kmeans++."
      ]
     },
     "metadata": {},
     "output_type": "display_data"
    },
    {
     "data": {
      "text/html": [
       "<pre>+---------------+-----------+</pre>"
      ],
      "text/plain": [
       "+---------------+-----------+"
      ]
     },
     "metadata": {},
     "output_type": "display_data"
    },
    {
     "data": {
      "text/html": [
       "<pre>| Center number | Row index |</pre>"
      ],
      "text/plain": [
       "| Center number | Row index |"
      ]
     },
     "metadata": {},
     "output_type": "display_data"
    },
    {
     "data": {
      "text/html": [
       "<pre>+---------------+-----------+</pre>"
      ],
      "text/plain": [
       "+---------------+-----------+"
      ]
     },
     "metadata": {},
     "output_type": "display_data"
    },
    {
     "data": {
      "text/html": [
       "<pre>| 0             | 30        |</pre>"
      ],
      "text/plain": [
       "| 0             | 30        |"
      ]
     },
     "metadata": {},
     "output_type": "display_data"
    },
    {
     "data": {
      "text/html": [
       "<pre>| 1             | 18        |</pre>"
      ],
      "text/plain": [
       "| 1             | 18        |"
      ]
     },
     "metadata": {},
     "output_type": "display_data"
    },
    {
     "data": {
      "text/html": [
       "<pre>| 2             | 7         |</pre>"
      ],
      "text/plain": [
       "| 2             | 7         |"
      ]
     },
     "metadata": {},
     "output_type": "display_data"
    },
    {
     "data": {
      "text/html": [
       "<pre>| 3             | 4         |</pre>"
      ],
      "text/plain": [
       "| 3             | 4         |"
      ]
     },
     "metadata": {},
     "output_type": "display_data"
    },
    {
     "data": {
      "text/html": [
       "<pre>| 4             | 24        |</pre>"
      ],
      "text/plain": [
       "| 4             | 24        |"
      ]
     },
     "metadata": {},
     "output_type": "display_data"
    },
    {
     "data": {
      "text/html": [
       "<pre>| 5             | 44        |</pre>"
      ],
      "text/plain": [
       "| 5             | 44        |"
      ]
     },
     "metadata": {},
     "output_type": "display_data"
    },
    {
     "data": {
      "text/html": [
       "<pre>| 10            | 14        |</pre>"
      ],
      "text/plain": [
       "| 10            | 14        |"
      ]
     },
     "metadata": {},
     "output_type": "display_data"
    },
    {
     "data": {
      "text/html": [
       "<pre>| 32            | 37        |</pre>"
      ],
      "text/plain": [
       "| 32            | 37        |"
      ]
     },
     "metadata": {},
     "output_type": "display_data"
    },
    {
     "data": {
      "text/html": [
       "<pre>+---------------+-----------+</pre>"
      ],
      "text/plain": [
       "+---------------+-----------+"
      ]
     },
     "metadata": {},
     "output_type": "display_data"
    },
    {
     "data": {
      "text/html": [
       "<pre>Starting kmeans model training.</pre>"
      ],
      "text/plain": [
       "Starting kmeans model training."
      ]
     },
     "metadata": {},
     "output_type": "display_data"
    },
    {
     "data": {
      "text/html": [
       "<pre>Assigning points to initial cluster centers.</pre>"
      ],
      "text/plain": [
       "Assigning points to initial cluster centers."
      ]
     },
     "metadata": {},
     "output_type": "display_data"
    },
    {
     "data": {
      "text/html": [
       "<pre>+-----------+-------------------------------+</pre>"
      ],
      "text/plain": [
       "+-----------+-------------------------------+"
      ]
     },
     "metadata": {},
     "output_type": "display_data"
    },
    {
     "data": {
      "text/html": [
       "<pre>| Iteration | Number of changed assignments |</pre>"
      ],
      "text/plain": [
       "| Iteration | Number of changed assignments |"
      ]
     },
     "metadata": {},
     "output_type": "display_data"
    },
    {
     "data": {
      "text/html": [
       "<pre>+-----------+-------------------------------+</pre>"
      ],
      "text/plain": [
       "+-----------+-------------------------------+"
      ]
     },
     "metadata": {},
     "output_type": "display_data"
    },
    {
     "data": {
      "text/html": [
       "<pre>| 1         | 0                             |</pre>"
      ],
      "text/plain": [
       "| 1         | 0                             |"
      ]
     },
     "metadata": {},
     "output_type": "display_data"
    },
    {
     "data": {
      "text/html": [
       "<pre>+-----------+-------------------------------+</pre>"
      ],
      "text/plain": [
       "+-----------+-------------------------------+"
      ]
     },
     "metadata": {},
     "output_type": "display_data"
    },
    {
     "data": {
      "text/html": [
       "<pre>Batch size is larger than the input dataset. Switching to an exact Kmeans method.</pre>"
      ],
      "text/plain": [
       "Batch size is larger than the input dataset. Switching to an exact Kmeans method."
      ]
     },
     "metadata": {},
     "output_type": "display_data"
    },
    {
     "data": {
      "text/html": [
       "<pre>Choosing initial cluster centers with Kmeans++.</pre>"
      ],
      "text/plain": [
       "Choosing initial cluster centers with Kmeans++."
      ]
     },
     "metadata": {},
     "output_type": "display_data"
    },
    {
     "data": {
      "text/html": [
       "<pre>+---------------+-----------+</pre>"
      ],
      "text/plain": [
       "+---------------+-----------+"
      ]
     },
     "metadata": {},
     "output_type": "display_data"
    },
    {
     "data": {
      "text/html": [
       "<pre>| Center number | Row index |</pre>"
      ],
      "text/plain": [
       "| Center number | Row index |"
      ]
     },
     "metadata": {},
     "output_type": "display_data"
    },
    {
     "data": {
      "text/html": [
       "<pre>+---------------+-----------+</pre>"
      ],
      "text/plain": [
       "+---------------+-----------+"
      ]
     },
     "metadata": {},
     "output_type": "display_data"
    },
    {
     "data": {
      "text/html": [
       "<pre>| 0             | 24        |</pre>"
      ],
      "text/plain": [
       "| 0             | 24        |"
      ]
     },
     "metadata": {},
     "output_type": "display_data"
    },
    {
     "data": {
      "text/html": [
       "<pre>| 1             | 14        |</pre>"
      ],
      "text/plain": [
       "| 1             | 14        |"
      ]
     },
     "metadata": {},
     "output_type": "display_data"
    },
    {
     "data": {
      "text/html": [
       "<pre>| 2             | 1         |</pre>"
      ],
      "text/plain": [
       "| 2             | 1         |"
      ]
     },
     "metadata": {},
     "output_type": "display_data"
    },
    {
     "data": {
      "text/html": [
       "<pre>| 3             | 4         |</pre>"
      ],
      "text/plain": [
       "| 3             | 4         |"
      ]
     },
     "metadata": {},
     "output_type": "display_data"
    },
    {
     "data": {
      "text/html": [
       "<pre>| 4             | 56        |</pre>"
      ],
      "text/plain": [
       "| 4             | 56        |"
      ]
     },
     "metadata": {},
     "output_type": "display_data"
    },
    {
     "data": {
      "text/html": [
       "<pre>| 5             | 0         |</pre>"
      ],
      "text/plain": [
       "| 5             | 0         |"
      ]
     },
     "metadata": {},
     "output_type": "display_data"
    },
    {
     "data": {
      "text/html": [
       "<pre>| 10            | 55        |</pre>"
      ],
      "text/plain": [
       "| 10            | 55        |"
      ]
     },
     "metadata": {},
     "output_type": "display_data"
    },
    {
     "data": {
      "text/html": [
       "<pre>| 33            | 27        |</pre>"
      ],
      "text/plain": [
       "| 33            | 27        |"
      ]
     },
     "metadata": {},
     "output_type": "display_data"
    },
    {
     "data": {
      "text/html": [
       "<pre>+---------------+-----------+</pre>"
      ],
      "text/plain": [
       "+---------------+-----------+"
      ]
     },
     "metadata": {},
     "output_type": "display_data"
    },
    {
     "data": {
      "text/html": [
       "<pre>Starting kmeans model training.</pre>"
      ],
      "text/plain": [
       "Starting kmeans model training."
      ]
     },
     "metadata": {},
     "output_type": "display_data"
    },
    {
     "data": {
      "text/html": [
       "<pre>Assigning points to initial cluster centers.</pre>"
      ],
      "text/plain": [
       "Assigning points to initial cluster centers."
      ]
     },
     "metadata": {},
     "output_type": "display_data"
    },
    {
     "data": {
      "text/html": [
       "<pre>+-----------+-------------------------------+</pre>"
      ],
      "text/plain": [
       "+-----------+-------------------------------+"
      ]
     },
     "metadata": {},
     "output_type": "display_data"
    },
    {
     "data": {
      "text/html": [
       "<pre>| Iteration | Number of changed assignments |</pre>"
      ],
      "text/plain": [
       "| Iteration | Number of changed assignments |"
      ]
     },
     "metadata": {},
     "output_type": "display_data"
    },
    {
     "data": {
      "text/html": [
       "<pre>+-----------+-------------------------------+</pre>"
      ],
      "text/plain": [
       "+-----------+-------------------------------+"
      ]
     },
     "metadata": {},
     "output_type": "display_data"
    },
    {
     "data": {
      "text/html": [
       "<pre>| 1         | 0                             |</pre>"
      ],
      "text/plain": [
       "| 1         | 0                             |"
      ]
     },
     "metadata": {},
     "output_type": "display_data"
    },
    {
     "data": {
      "text/html": [
       "<pre>+-----------+-------------------------------+</pre>"
      ],
      "text/plain": [
       "+-----------+-------------------------------+"
      ]
     },
     "metadata": {},
     "output_type": "display_data"
    },
    {
     "data": {
      "text/html": [
       "<pre>Batch size is larger than the input dataset. Switching to an exact Kmeans method.</pre>"
      ],
      "text/plain": [
       "Batch size is larger than the input dataset. Switching to an exact Kmeans method."
      ]
     },
     "metadata": {},
     "output_type": "display_data"
    },
    {
     "data": {
      "text/html": [
       "<pre>Choosing initial cluster centers with Kmeans++.</pre>"
      ],
      "text/plain": [
       "Choosing initial cluster centers with Kmeans++."
      ]
     },
     "metadata": {},
     "output_type": "display_data"
    },
    {
     "data": {
      "text/html": [
       "<pre>+---------------+-----------+</pre>"
      ],
      "text/plain": [
       "+---------------+-----------+"
      ]
     },
     "metadata": {},
     "output_type": "display_data"
    },
    {
     "data": {
      "text/html": [
       "<pre>| Center number | Row index |</pre>"
      ],
      "text/plain": [
       "| Center number | Row index |"
      ]
     },
     "metadata": {},
     "output_type": "display_data"
    },
    {
     "data": {
      "text/html": [
       "<pre>+---------------+-----------+</pre>"
      ],
      "text/plain": [
       "+---------------+-----------+"
      ]
     },
     "metadata": {},
     "output_type": "display_data"
    },
    {
     "data": {
      "text/html": [
       "<pre>| 0             | 58        |</pre>"
      ],
      "text/plain": [
       "| 0             | 58        |"
      ]
     },
     "metadata": {},
     "output_type": "display_data"
    },
    {
     "data": {
      "text/html": [
       "<pre>| 1             | 24        |</pre>"
      ],
      "text/plain": [
       "| 1             | 24        |"
      ]
     },
     "metadata": {},
     "output_type": "display_data"
    },
    {
     "data": {
      "text/html": [
       "<pre>| 2             | 63        |</pre>"
      ],
      "text/plain": [
       "| 2             | 63        |"
      ]
     },
     "metadata": {},
     "output_type": "display_data"
    },
    {
     "data": {
      "text/html": [
       "<pre>| 3             | 57        |</pre>"
      ],
      "text/plain": [
       "| 3             | 57        |"
      ]
     },
     "metadata": {},
     "output_type": "display_data"
    },
    {
     "data": {
      "text/html": [
       "<pre>| 4             | 65        |</pre>"
      ],
      "text/plain": [
       "| 4             | 65        |"
      ]
     },
     "metadata": {},
     "output_type": "display_data"
    },
    {
     "data": {
      "text/html": [
       "<pre>| 5             | 29        |</pre>"
      ],
      "text/plain": [
       "| 5             | 29        |"
      ]
     },
     "metadata": {},
     "output_type": "display_data"
    },
    {
     "data": {
      "text/html": [
       "<pre>| 10            | 34        |</pre>"
      ],
      "text/plain": [
       "| 10            | 34        |"
      ]
     },
     "metadata": {},
     "output_type": "display_data"
    },
    {
     "data": {
      "text/html": [
       "<pre>| 34            | 25        |</pre>"
      ],
      "text/plain": [
       "| 34            | 25        |"
      ]
     },
     "metadata": {},
     "output_type": "display_data"
    },
    {
     "data": {
      "text/html": [
       "<pre>+---------------+-----------+</pre>"
      ],
      "text/plain": [
       "+---------------+-----------+"
      ]
     },
     "metadata": {},
     "output_type": "display_data"
    },
    {
     "data": {
      "text/html": [
       "<pre>Starting kmeans model training.</pre>"
      ],
      "text/plain": [
       "Starting kmeans model training."
      ]
     },
     "metadata": {},
     "output_type": "display_data"
    },
    {
     "data": {
      "text/html": [
       "<pre>Assigning points to initial cluster centers.</pre>"
      ],
      "text/plain": [
       "Assigning points to initial cluster centers."
      ]
     },
     "metadata": {},
     "output_type": "display_data"
    },
    {
     "data": {
      "text/html": [
       "<pre>+-----------+-------------------------------+</pre>"
      ],
      "text/plain": [
       "+-----------+-------------------------------+"
      ]
     },
     "metadata": {},
     "output_type": "display_data"
    },
    {
     "data": {
      "text/html": [
       "<pre>| Iteration | Number of changed assignments |</pre>"
      ],
      "text/plain": [
       "| Iteration | Number of changed assignments |"
      ]
     },
     "metadata": {},
     "output_type": "display_data"
    },
    {
     "data": {
      "text/html": [
       "<pre>+-----------+-------------------------------+</pre>"
      ],
      "text/plain": [
       "+-----------+-------------------------------+"
      ]
     },
     "metadata": {},
     "output_type": "display_data"
    },
    {
     "data": {
      "text/html": [
       "<pre>| 1         | 0                             |</pre>"
      ],
      "text/plain": [
       "| 1         | 0                             |"
      ]
     },
     "metadata": {},
     "output_type": "display_data"
    },
    {
     "data": {
      "text/html": [
       "<pre>+-----------+-------------------------------+</pre>"
      ],
      "text/plain": [
       "+-----------+-------------------------------+"
      ]
     },
     "metadata": {},
     "output_type": "display_data"
    },
    {
     "data": {
      "text/html": [
       "<pre>Batch size is larger than the input dataset. Switching to an exact Kmeans method.</pre>"
      ],
      "text/plain": [
       "Batch size is larger than the input dataset. Switching to an exact Kmeans method."
      ]
     },
     "metadata": {},
     "output_type": "display_data"
    },
    {
     "data": {
      "text/html": [
       "<pre>Choosing initial cluster centers with Kmeans++.</pre>"
      ],
      "text/plain": [
       "Choosing initial cluster centers with Kmeans++."
      ]
     },
     "metadata": {},
     "output_type": "display_data"
    },
    {
     "data": {
      "text/html": [
       "<pre>+---------------+-----------+</pre>"
      ],
      "text/plain": [
       "+---------------+-----------+"
      ]
     },
     "metadata": {},
     "output_type": "display_data"
    },
    {
     "data": {
      "text/html": [
       "<pre>| Center number | Row index |</pre>"
      ],
      "text/plain": [
       "| Center number | Row index |"
      ]
     },
     "metadata": {},
     "output_type": "display_data"
    },
    {
     "data": {
      "text/html": [
       "<pre>+---------------+-----------+</pre>"
      ],
      "text/plain": [
       "+---------------+-----------+"
      ]
     },
     "metadata": {},
     "output_type": "display_data"
    },
    {
     "data": {
      "text/html": [
       "<pre>| 0             | 26        |</pre>"
      ],
      "text/plain": [
       "| 0             | 26        |"
      ]
     },
     "metadata": {},
     "output_type": "display_data"
    },
    {
     "data": {
      "text/html": [
       "<pre>| 1             | 4         |</pre>"
      ],
      "text/plain": [
       "| 1             | 4         |"
      ]
     },
     "metadata": {},
     "output_type": "display_data"
    },
    {
     "data": {
      "text/html": [
       "<pre>| 2             | 25        |</pre>"
      ],
      "text/plain": [
       "| 2             | 25        |"
      ]
     },
     "metadata": {},
     "output_type": "display_data"
    },
    {
     "data": {
      "text/html": [
       "<pre>| 3             | 7         |</pre>"
      ],
      "text/plain": [
       "| 3             | 7         |"
      ]
     },
     "metadata": {},
     "output_type": "display_data"
    },
    {
     "data": {
      "text/html": [
       "<pre>| 4             | 10        |</pre>"
      ],
      "text/plain": [
       "| 4             | 10        |"
      ]
     },
     "metadata": {},
     "output_type": "display_data"
    },
    {
     "data": {
      "text/html": [
       "<pre>| 5             | 19        |</pre>"
      ],
      "text/plain": [
       "| 5             | 19        |"
      ]
     },
     "metadata": {},
     "output_type": "display_data"
    },
    {
     "data": {
      "text/html": [
       "<pre>| 10            | 40        |</pre>"
      ],
      "text/plain": [
       "| 10            | 40        |"
      ]
     },
     "metadata": {},
     "output_type": "display_data"
    },
    {
     "data": {
      "text/html": [
       "<pre>| 35            | 28        |</pre>"
      ],
      "text/plain": [
       "| 35            | 28        |"
      ]
     },
     "metadata": {},
     "output_type": "display_data"
    },
    {
     "data": {
      "text/html": [
       "<pre>+---------------+-----------+</pre>"
      ],
      "text/plain": [
       "+---------------+-----------+"
      ]
     },
     "metadata": {},
     "output_type": "display_data"
    },
    {
     "data": {
      "text/html": [
       "<pre>Starting kmeans model training.</pre>"
      ],
      "text/plain": [
       "Starting kmeans model training."
      ]
     },
     "metadata": {},
     "output_type": "display_data"
    },
    {
     "data": {
      "text/html": [
       "<pre>Assigning points to initial cluster centers.</pre>"
      ],
      "text/plain": [
       "Assigning points to initial cluster centers."
      ]
     },
     "metadata": {},
     "output_type": "display_data"
    },
    {
     "data": {
      "text/html": [
       "<pre>+-----------+-------------------------------+</pre>"
      ],
      "text/plain": [
       "+-----------+-------------------------------+"
      ]
     },
     "metadata": {},
     "output_type": "display_data"
    },
    {
     "data": {
      "text/html": [
       "<pre>| Iteration | Number of changed assignments |</pre>"
      ],
      "text/plain": [
       "| Iteration | Number of changed assignments |"
      ]
     },
     "metadata": {},
     "output_type": "display_data"
    },
    {
     "data": {
      "text/html": [
       "<pre>+-----------+-------------------------------+</pre>"
      ],
      "text/plain": [
       "+-----------+-------------------------------+"
      ]
     },
     "metadata": {},
     "output_type": "display_data"
    },
    {
     "data": {
      "text/html": [
       "<pre>| 1         | 0                             |</pre>"
      ],
      "text/plain": [
       "| 1         | 0                             |"
      ]
     },
     "metadata": {},
     "output_type": "display_data"
    },
    {
     "data": {
      "text/html": [
       "<pre>+-----------+-------------------------------+</pre>"
      ],
      "text/plain": [
       "+-----------+-------------------------------+"
      ]
     },
     "metadata": {},
     "output_type": "display_data"
    },
    {
     "data": {
      "text/html": [
       "<pre>Batch size is larger than the input dataset. Switching to an exact Kmeans method.</pre>"
      ],
      "text/plain": [
       "Batch size is larger than the input dataset. Switching to an exact Kmeans method."
      ]
     },
     "metadata": {},
     "output_type": "display_data"
    },
    {
     "data": {
      "text/html": [
       "<pre>Choosing initial cluster centers with Kmeans++.</pre>"
      ],
      "text/plain": [
       "Choosing initial cluster centers with Kmeans++."
      ]
     },
     "metadata": {},
     "output_type": "display_data"
    },
    {
     "data": {
      "text/html": [
       "<pre>+---------------+-----------+</pre>"
      ],
      "text/plain": [
       "+---------------+-----------+"
      ]
     },
     "metadata": {},
     "output_type": "display_data"
    },
    {
     "data": {
      "text/html": [
       "<pre>| Center number | Row index |</pre>"
      ],
      "text/plain": [
       "| Center number | Row index |"
      ]
     },
     "metadata": {},
     "output_type": "display_data"
    },
    {
     "data": {
      "text/html": [
       "<pre>+---------------+-----------+</pre>"
      ],
      "text/plain": [
       "+---------------+-----------+"
      ]
     },
     "metadata": {},
     "output_type": "display_data"
    },
    {
     "data": {
      "text/html": [
       "<pre>| 0             | 64        |</pre>"
      ],
      "text/plain": [
       "| 0             | 64        |"
      ]
     },
     "metadata": {},
     "output_type": "display_data"
    },
    {
     "data": {
      "text/html": [
       "<pre>| 1             | 54        |</pre>"
      ],
      "text/plain": [
       "| 1             | 54        |"
      ]
     },
     "metadata": {},
     "output_type": "display_data"
    },
    {
     "data": {
      "text/html": [
       "<pre>| 2             | 61        |</pre>"
      ],
      "text/plain": [
       "| 2             | 61        |"
      ]
     },
     "metadata": {},
     "output_type": "display_data"
    },
    {
     "data": {
      "text/html": [
       "<pre>| 3             | 36        |</pre>"
      ],
      "text/plain": [
       "| 3             | 36        |"
      ]
     },
     "metadata": {},
     "output_type": "display_data"
    },
    {
     "data": {
      "text/html": [
       "<pre>| 4             | 63        |</pre>"
      ],
      "text/plain": [
       "| 4             | 63        |"
      ]
     },
     "metadata": {},
     "output_type": "display_data"
    },
    {
     "data": {
      "text/html": [
       "<pre>| 5             | 18        |</pre>"
      ],
      "text/plain": [
       "| 5             | 18        |"
      ]
     },
     "metadata": {},
     "output_type": "display_data"
    },
    {
     "data": {
      "text/html": [
       "<pre>| 10            | 27        |</pre>"
      ],
      "text/plain": [
       "| 10            | 27        |"
      ]
     },
     "metadata": {},
     "output_type": "display_data"
    },
    {
     "data": {
      "text/html": [
       "<pre>| 36            | 41        |</pre>"
      ],
      "text/plain": [
       "| 36            | 41        |"
      ]
     },
     "metadata": {},
     "output_type": "display_data"
    },
    {
     "data": {
      "text/html": [
       "<pre>+---------------+-----------+</pre>"
      ],
      "text/plain": [
       "+---------------+-----------+"
      ]
     },
     "metadata": {},
     "output_type": "display_data"
    },
    {
     "data": {
      "text/html": [
       "<pre>Starting kmeans model training.</pre>"
      ],
      "text/plain": [
       "Starting kmeans model training."
      ]
     },
     "metadata": {},
     "output_type": "display_data"
    },
    {
     "data": {
      "text/html": [
       "<pre>Assigning points to initial cluster centers.</pre>"
      ],
      "text/plain": [
       "Assigning points to initial cluster centers."
      ]
     },
     "metadata": {},
     "output_type": "display_data"
    },
    {
     "data": {
      "text/html": [
       "<pre>+-----------+-------------------------------+</pre>"
      ],
      "text/plain": [
       "+-----------+-------------------------------+"
      ]
     },
     "metadata": {},
     "output_type": "display_data"
    },
    {
     "data": {
      "text/html": [
       "<pre>| Iteration | Number of changed assignments |</pre>"
      ],
      "text/plain": [
       "| Iteration | Number of changed assignments |"
      ]
     },
     "metadata": {},
     "output_type": "display_data"
    },
    {
     "data": {
      "text/html": [
       "<pre>+-----------+-------------------------------+</pre>"
      ],
      "text/plain": [
       "+-----------+-------------------------------+"
      ]
     },
     "metadata": {},
     "output_type": "display_data"
    },
    {
     "data": {
      "text/html": [
       "<pre>| 1         | 0                             |</pre>"
      ],
      "text/plain": [
       "| 1         | 0                             |"
      ]
     },
     "metadata": {},
     "output_type": "display_data"
    },
    {
     "data": {
      "text/html": [
       "<pre>+-----------+-------------------------------+</pre>"
      ],
      "text/plain": [
       "+-----------+-------------------------------+"
      ]
     },
     "metadata": {},
     "output_type": "display_data"
    },
    {
     "data": {
      "text/html": [
       "<pre>Batch size is larger than the input dataset. Switching to an exact Kmeans method.</pre>"
      ],
      "text/plain": [
       "Batch size is larger than the input dataset. Switching to an exact Kmeans method."
      ]
     },
     "metadata": {},
     "output_type": "display_data"
    },
    {
     "data": {
      "text/html": [
       "<pre>Choosing initial cluster centers with Kmeans++.</pre>"
      ],
      "text/plain": [
       "Choosing initial cluster centers with Kmeans++."
      ]
     },
     "metadata": {},
     "output_type": "display_data"
    },
    {
     "data": {
      "text/html": [
       "<pre>+---------------+-----------+</pre>"
      ],
      "text/plain": [
       "+---------------+-----------+"
      ]
     },
     "metadata": {},
     "output_type": "display_data"
    },
    {
     "data": {
      "text/html": [
       "<pre>| Center number | Row index |</pre>"
      ],
      "text/plain": [
       "| Center number | Row index |"
      ]
     },
     "metadata": {},
     "output_type": "display_data"
    },
    {
     "data": {
      "text/html": [
       "<pre>+---------------+-----------+</pre>"
      ],
      "text/plain": [
       "+---------------+-----------+"
      ]
     },
     "metadata": {},
     "output_type": "display_data"
    },
    {
     "data": {
      "text/html": [
       "<pre>| 0             | 21        |</pre>"
      ],
      "text/plain": [
       "| 0             | 21        |"
      ]
     },
     "metadata": {},
     "output_type": "display_data"
    },
    {
     "data": {
      "text/html": [
       "<pre>| 1             | 29        |</pre>"
      ],
      "text/plain": [
       "| 1             | 29        |"
      ]
     },
     "metadata": {},
     "output_type": "display_data"
    },
    {
     "data": {
      "text/html": [
       "<pre>| 2             | 50        |</pre>"
      ],
      "text/plain": [
       "| 2             | 50        |"
      ]
     },
     "metadata": {},
     "output_type": "display_data"
    },
    {
     "data": {
      "text/html": [
       "<pre>| 3             | 36        |</pre>"
      ],
      "text/plain": [
       "| 3             | 36        |"
      ]
     },
     "metadata": {},
     "output_type": "display_data"
    },
    {
     "data": {
      "text/html": [
       "<pre>| 4             | 24        |</pre>"
      ],
      "text/plain": [
       "| 4             | 24        |"
      ]
     },
     "metadata": {},
     "output_type": "display_data"
    },
    {
     "data": {
      "text/html": [
       "<pre>| 5             | 66        |</pre>"
      ],
      "text/plain": [
       "| 5             | 66        |"
      ]
     },
     "metadata": {},
     "output_type": "display_data"
    },
    {
     "data": {
      "text/html": [
       "<pre>| 10            | 4         |</pre>"
      ],
      "text/plain": [
       "| 10            | 4         |"
      ]
     },
     "metadata": {},
     "output_type": "display_data"
    },
    {
     "data": {
      "text/html": [
       "<pre>| 37            | 34        |</pre>"
      ],
      "text/plain": [
       "| 37            | 34        |"
      ]
     },
     "metadata": {},
     "output_type": "display_data"
    },
    {
     "data": {
      "text/html": [
       "<pre>+---------------+-----------+</pre>"
      ],
      "text/plain": [
       "+---------------+-----------+"
      ]
     },
     "metadata": {},
     "output_type": "display_data"
    },
    {
     "data": {
      "text/html": [
       "<pre>Starting kmeans model training.</pre>"
      ],
      "text/plain": [
       "Starting kmeans model training."
      ]
     },
     "metadata": {},
     "output_type": "display_data"
    },
    {
     "data": {
      "text/html": [
       "<pre>Assigning points to initial cluster centers.</pre>"
      ],
      "text/plain": [
       "Assigning points to initial cluster centers."
      ]
     },
     "metadata": {},
     "output_type": "display_data"
    },
    {
     "data": {
      "text/html": [
       "<pre>+-----------+-------------------------------+</pre>"
      ],
      "text/plain": [
       "+-----------+-------------------------------+"
      ]
     },
     "metadata": {},
     "output_type": "display_data"
    },
    {
     "data": {
      "text/html": [
       "<pre>| Iteration | Number of changed assignments |</pre>"
      ],
      "text/plain": [
       "| Iteration | Number of changed assignments |"
      ]
     },
     "metadata": {},
     "output_type": "display_data"
    },
    {
     "data": {
      "text/html": [
       "<pre>+-----------+-------------------------------+</pre>"
      ],
      "text/plain": [
       "+-----------+-------------------------------+"
      ]
     },
     "metadata": {},
     "output_type": "display_data"
    },
    {
     "data": {
      "text/html": [
       "<pre>| 1         | 0                             |</pre>"
      ],
      "text/plain": [
       "| 1         | 0                             |"
      ]
     },
     "metadata": {},
     "output_type": "display_data"
    },
    {
     "data": {
      "text/html": [
       "<pre>+-----------+-------------------------------+</pre>"
      ],
      "text/plain": [
       "+-----------+-------------------------------+"
      ]
     },
     "metadata": {},
     "output_type": "display_data"
    },
    {
     "data": {
      "text/html": [
       "<pre>Batch size is larger than the input dataset. Switching to an exact Kmeans method.</pre>"
      ],
      "text/plain": [
       "Batch size is larger than the input dataset. Switching to an exact Kmeans method."
      ]
     },
     "metadata": {},
     "output_type": "display_data"
    },
    {
     "data": {
      "text/html": [
       "<pre>Choosing initial cluster centers with Kmeans++.</pre>"
      ],
      "text/plain": [
       "Choosing initial cluster centers with Kmeans++."
      ]
     },
     "metadata": {},
     "output_type": "display_data"
    },
    {
     "data": {
      "text/html": [
       "<pre>+---------------+-----------+</pre>"
      ],
      "text/plain": [
       "+---------------+-----------+"
      ]
     },
     "metadata": {},
     "output_type": "display_data"
    },
    {
     "data": {
      "text/html": [
       "<pre>| Center number | Row index |</pre>"
      ],
      "text/plain": [
       "| Center number | Row index |"
      ]
     },
     "metadata": {},
     "output_type": "display_data"
    },
    {
     "data": {
      "text/html": [
       "<pre>+---------------+-----------+</pre>"
      ],
      "text/plain": [
       "+---------------+-----------+"
      ]
     },
     "metadata": {},
     "output_type": "display_data"
    },
    {
     "data": {
      "text/html": [
       "<pre>| 0             | 63        |</pre>"
      ],
      "text/plain": [
       "| 0             | 63        |"
      ]
     },
     "metadata": {},
     "output_type": "display_data"
    },
    {
     "data": {
      "text/html": [
       "<pre>| 1             | 61        |</pre>"
      ],
      "text/plain": [
       "| 1             | 61        |"
      ]
     },
     "metadata": {},
     "output_type": "display_data"
    },
    {
     "data": {
      "text/html": [
       "<pre>| 2             | 39        |</pre>"
      ],
      "text/plain": [
       "| 2             | 39        |"
      ]
     },
     "metadata": {},
     "output_type": "display_data"
    },
    {
     "data": {
      "text/html": [
       "<pre>| 3             | 54        |</pre>"
      ],
      "text/plain": [
       "| 3             | 54        |"
      ]
     },
     "metadata": {},
     "output_type": "display_data"
    },
    {
     "data": {
      "text/html": [
       "<pre>| 4             | 44        |</pre>"
      ],
      "text/plain": [
       "| 4             | 44        |"
      ]
     },
     "metadata": {},
     "output_type": "display_data"
    },
    {
     "data": {
      "text/html": [
       "<pre>| 5             | 6         |</pre>"
      ],
      "text/plain": [
       "| 5             | 6         |"
      ]
     },
     "metadata": {},
     "output_type": "display_data"
    },
    {
     "data": {
      "text/html": [
       "<pre>| 10            | 65        |</pre>"
      ],
      "text/plain": [
       "| 10            | 65        |"
      ]
     },
     "metadata": {},
     "output_type": "display_data"
    },
    {
     "data": {
      "text/html": [
       "<pre>| 38            | 46        |</pre>"
      ],
      "text/plain": [
       "| 38            | 46        |"
      ]
     },
     "metadata": {},
     "output_type": "display_data"
    },
    {
     "data": {
      "text/html": [
       "<pre>+---------------+-----------+</pre>"
      ],
      "text/plain": [
       "+---------------+-----------+"
      ]
     },
     "metadata": {},
     "output_type": "display_data"
    },
    {
     "data": {
      "text/html": [
       "<pre>Starting kmeans model training.</pre>"
      ],
      "text/plain": [
       "Starting kmeans model training."
      ]
     },
     "metadata": {},
     "output_type": "display_data"
    },
    {
     "data": {
      "text/html": [
       "<pre>Assigning points to initial cluster centers.</pre>"
      ],
      "text/plain": [
       "Assigning points to initial cluster centers."
      ]
     },
     "metadata": {},
     "output_type": "display_data"
    },
    {
     "data": {
      "text/html": [
       "<pre>+-----------+-------------------------------+</pre>"
      ],
      "text/plain": [
       "+-----------+-------------------------------+"
      ]
     },
     "metadata": {},
     "output_type": "display_data"
    },
    {
     "data": {
      "text/html": [
       "<pre>| Iteration | Number of changed assignments |</pre>"
      ],
      "text/plain": [
       "| Iteration | Number of changed assignments |"
      ]
     },
     "metadata": {},
     "output_type": "display_data"
    },
    {
     "data": {
      "text/html": [
       "<pre>+-----------+-------------------------------+</pre>"
      ],
      "text/plain": [
       "+-----------+-------------------------------+"
      ]
     },
     "metadata": {},
     "output_type": "display_data"
    },
    {
     "data": {
      "text/html": [
       "<pre>| 1         | 0                             |</pre>"
      ],
      "text/plain": [
       "| 1         | 0                             |"
      ]
     },
     "metadata": {},
     "output_type": "display_data"
    },
    {
     "data": {
      "text/html": [
       "<pre>+-----------+-------------------------------+</pre>"
      ],
      "text/plain": [
       "+-----------+-------------------------------+"
      ]
     },
     "metadata": {},
     "output_type": "display_data"
    },
    {
     "data": {
      "text/html": [
       "<pre>Batch size is larger than the input dataset. Switching to an exact Kmeans method.</pre>"
      ],
      "text/plain": [
       "Batch size is larger than the input dataset. Switching to an exact Kmeans method."
      ]
     },
     "metadata": {},
     "output_type": "display_data"
    },
    {
     "data": {
      "text/html": [
       "<pre>Choosing initial cluster centers with Kmeans++.</pre>"
      ],
      "text/plain": [
       "Choosing initial cluster centers with Kmeans++."
      ]
     },
     "metadata": {},
     "output_type": "display_data"
    },
    {
     "data": {
      "text/html": [
       "<pre>+---------------+-----------+</pre>"
      ],
      "text/plain": [
       "+---------------+-----------+"
      ]
     },
     "metadata": {},
     "output_type": "display_data"
    },
    {
     "data": {
      "text/html": [
       "<pre>| Center number | Row index |</pre>"
      ],
      "text/plain": [
       "| Center number | Row index |"
      ]
     },
     "metadata": {},
     "output_type": "display_data"
    },
    {
     "data": {
      "text/html": [
       "<pre>+---------------+-----------+</pre>"
      ],
      "text/plain": [
       "+---------------+-----------+"
      ]
     },
     "metadata": {},
     "output_type": "display_data"
    },
    {
     "data": {
      "text/html": [
       "<pre>| 0             | 24        |</pre>"
      ],
      "text/plain": [
       "| 0             | 24        |"
      ]
     },
     "metadata": {},
     "output_type": "display_data"
    },
    {
     "data": {
      "text/html": [
       "<pre>| 1             | 32        |</pre>"
      ],
      "text/plain": [
       "| 1             | 32        |"
      ]
     },
     "metadata": {},
     "output_type": "display_data"
    },
    {
     "data": {
      "text/html": [
       "<pre>| 2             | 40        |</pre>"
      ],
      "text/plain": [
       "| 2             | 40        |"
      ]
     },
     "metadata": {},
     "output_type": "display_data"
    },
    {
     "data": {
      "text/html": [
       "<pre>| 3             | 20        |</pre>"
      ],
      "text/plain": [
       "| 3             | 20        |"
      ]
     },
     "metadata": {},
     "output_type": "display_data"
    },
    {
     "data": {
      "text/html": [
       "<pre>| 4             | 61        |</pre>"
      ],
      "text/plain": [
       "| 4             | 61        |"
      ]
     },
     "metadata": {},
     "output_type": "display_data"
    },
    {
     "data": {
      "text/html": [
       "<pre>| 5             | 10        |</pre>"
      ],
      "text/plain": [
       "| 5             | 10        |"
      ]
     },
     "metadata": {},
     "output_type": "display_data"
    },
    {
     "data": {
      "text/html": [
       "<pre>| 10            | 63        |</pre>"
      ],
      "text/plain": [
       "| 10            | 63        |"
      ]
     },
     "metadata": {},
     "output_type": "display_data"
    },
    {
     "data": {
      "text/html": [
       "<pre>| 39            | 33        |</pre>"
      ],
      "text/plain": [
       "| 39            | 33        |"
      ]
     },
     "metadata": {},
     "output_type": "display_data"
    },
    {
     "data": {
      "text/html": [
       "<pre>+---------------+-----------+</pre>"
      ],
      "text/plain": [
       "+---------------+-----------+"
      ]
     },
     "metadata": {},
     "output_type": "display_data"
    },
    {
     "data": {
      "text/html": [
       "<pre>Starting kmeans model training.</pre>"
      ],
      "text/plain": [
       "Starting kmeans model training."
      ]
     },
     "metadata": {},
     "output_type": "display_data"
    },
    {
     "data": {
      "text/html": [
       "<pre>Assigning points to initial cluster centers.</pre>"
      ],
      "text/plain": [
       "Assigning points to initial cluster centers."
      ]
     },
     "metadata": {},
     "output_type": "display_data"
    },
    {
     "data": {
      "text/html": [
       "<pre>+-----------+-------------------------------+</pre>"
      ],
      "text/plain": [
       "+-----------+-------------------------------+"
      ]
     },
     "metadata": {},
     "output_type": "display_data"
    },
    {
     "data": {
      "text/html": [
       "<pre>| Iteration | Number of changed assignments |</pre>"
      ],
      "text/plain": [
       "| Iteration | Number of changed assignments |"
      ]
     },
     "metadata": {},
     "output_type": "display_data"
    },
    {
     "data": {
      "text/html": [
       "<pre>+-----------+-------------------------------+</pre>"
      ],
      "text/plain": [
       "+-----------+-------------------------------+"
      ]
     },
     "metadata": {},
     "output_type": "display_data"
    },
    {
     "data": {
      "text/html": [
       "<pre>| 1         | 0                             |</pre>"
      ],
      "text/plain": [
       "| 1         | 0                             |"
      ]
     },
     "metadata": {},
     "output_type": "display_data"
    },
    {
     "data": {
      "text/html": [
       "<pre>+-----------+-------------------------------+</pre>"
      ],
      "text/plain": [
       "+-----------+-------------------------------+"
      ]
     },
     "metadata": {},
     "output_type": "display_data"
    },
    {
     "data": {
      "text/html": [
       "<pre>Batch size is larger than the input dataset. Switching to an exact Kmeans method.</pre>"
      ],
      "text/plain": [
       "Batch size is larger than the input dataset. Switching to an exact Kmeans method."
      ]
     },
     "metadata": {},
     "output_type": "display_data"
    },
    {
     "data": {
      "text/html": [
       "<pre>Choosing initial cluster centers with Kmeans++.</pre>"
      ],
      "text/plain": [
       "Choosing initial cluster centers with Kmeans++."
      ]
     },
     "metadata": {},
     "output_type": "display_data"
    },
    {
     "data": {
      "text/html": [
       "<pre>+---------------+-----------+</pre>"
      ],
      "text/plain": [
       "+---------------+-----------+"
      ]
     },
     "metadata": {},
     "output_type": "display_data"
    },
    {
     "data": {
      "text/html": [
       "<pre>| Center number | Row index |</pre>"
      ],
      "text/plain": [
       "| Center number | Row index |"
      ]
     },
     "metadata": {},
     "output_type": "display_data"
    },
    {
     "data": {
      "text/html": [
       "<pre>+---------------+-----------+</pre>"
      ],
      "text/plain": [
       "+---------------+-----------+"
      ]
     },
     "metadata": {},
     "output_type": "display_data"
    },
    {
     "data": {
      "text/html": [
       "<pre>| 0             | 10        |</pre>"
      ],
      "text/plain": [
       "| 0             | 10        |"
      ]
     },
     "metadata": {},
     "output_type": "display_data"
    },
    {
     "data": {
      "text/html": [
       "<pre>| 1             | 8         |</pre>"
      ],
      "text/plain": [
       "| 1             | 8         |"
      ]
     },
     "metadata": {},
     "output_type": "display_data"
    },
    {
     "data": {
      "text/html": [
       "<pre>| 2             | 24        |</pre>"
      ],
      "text/plain": [
       "| 2             | 24        |"
      ]
     },
     "metadata": {},
     "output_type": "display_data"
    },
    {
     "data": {
      "text/html": [
       "<pre>| 3             | 44        |</pre>"
      ],
      "text/plain": [
       "| 3             | 44        |"
      ]
     },
     "metadata": {},
     "output_type": "display_data"
    },
    {
     "data": {
      "text/html": [
       "<pre>| 4             | 61        |</pre>"
      ],
      "text/plain": [
       "| 4             | 61        |"
      ]
     },
     "metadata": {},
     "output_type": "display_data"
    },
    {
     "data": {
      "text/html": [
       "<pre>| 5             | 12        |</pre>"
      ],
      "text/plain": [
       "| 5             | 12        |"
      ]
     },
     "metadata": {},
     "output_type": "display_data"
    },
    {
     "data": {
      "text/html": [
       "<pre>| 10            | 63        |</pre>"
      ],
      "text/plain": [
       "| 10            | 63        |"
      ]
     },
     "metadata": {},
     "output_type": "display_data"
    },
    {
     "data": {
      "text/html": [
       "<pre>| 40            | 46        |</pre>"
      ],
      "text/plain": [
       "| 40            | 46        |"
      ]
     },
     "metadata": {},
     "output_type": "display_data"
    },
    {
     "data": {
      "text/html": [
       "<pre>+---------------+-----------+</pre>"
      ],
      "text/plain": [
       "+---------------+-----------+"
      ]
     },
     "metadata": {},
     "output_type": "display_data"
    },
    {
     "data": {
      "text/html": [
       "<pre>Starting kmeans model training.</pre>"
      ],
      "text/plain": [
       "Starting kmeans model training."
      ]
     },
     "metadata": {},
     "output_type": "display_data"
    },
    {
     "data": {
      "text/html": [
       "<pre>Assigning points to initial cluster centers.</pre>"
      ],
      "text/plain": [
       "Assigning points to initial cluster centers."
      ]
     },
     "metadata": {},
     "output_type": "display_data"
    },
    {
     "data": {
      "text/html": [
       "<pre>+-----------+-------------------------------+</pre>"
      ],
      "text/plain": [
       "+-----------+-------------------------------+"
      ]
     },
     "metadata": {},
     "output_type": "display_data"
    },
    {
     "data": {
      "text/html": [
       "<pre>| Iteration | Number of changed assignments |</pre>"
      ],
      "text/plain": [
       "| Iteration | Number of changed assignments |"
      ]
     },
     "metadata": {},
     "output_type": "display_data"
    },
    {
     "data": {
      "text/html": [
       "<pre>+-----------+-------------------------------+</pre>"
      ],
      "text/plain": [
       "+-----------+-------------------------------+"
      ]
     },
     "metadata": {},
     "output_type": "display_data"
    },
    {
     "data": {
      "text/html": [
       "<pre>| 1         | 0                             |</pre>"
      ],
      "text/plain": [
       "| 1         | 0                             |"
      ]
     },
     "metadata": {},
     "output_type": "display_data"
    },
    {
     "data": {
      "text/html": [
       "<pre>+-----------+-------------------------------+</pre>"
      ],
      "text/plain": [
       "+-----------+-------------------------------+"
      ]
     },
     "metadata": {},
     "output_type": "display_data"
    },
    {
     "data": {
      "text/html": [
       "<pre>Batch size is larger than the input dataset. Switching to an exact Kmeans method.</pre>"
      ],
      "text/plain": [
       "Batch size is larger than the input dataset. Switching to an exact Kmeans method."
      ]
     },
     "metadata": {},
     "output_type": "display_data"
    },
    {
     "data": {
      "text/html": [
       "<pre>Choosing initial cluster centers with Kmeans++.</pre>"
      ],
      "text/plain": [
       "Choosing initial cluster centers with Kmeans++."
      ]
     },
     "metadata": {},
     "output_type": "display_data"
    },
    {
     "data": {
      "text/html": [
       "<pre>+---------------+-----------+</pre>"
      ],
      "text/plain": [
       "+---------------+-----------+"
      ]
     },
     "metadata": {},
     "output_type": "display_data"
    },
    {
     "data": {
      "text/html": [
       "<pre>| Center number | Row index |</pre>"
      ],
      "text/plain": [
       "| Center number | Row index |"
      ]
     },
     "metadata": {},
     "output_type": "display_data"
    },
    {
     "data": {
      "text/html": [
       "<pre>+---------------+-----------+</pre>"
      ],
      "text/plain": [
       "+---------------+-----------+"
      ]
     },
     "metadata": {},
     "output_type": "display_data"
    },
    {
     "data": {
      "text/html": [
       "<pre>| 0             | 62        |</pre>"
      ],
      "text/plain": [
       "| 0             | 62        |"
      ]
     },
     "metadata": {},
     "output_type": "display_data"
    },
    {
     "data": {
      "text/html": [
       "<pre>| 1             | 29        |</pre>"
      ],
      "text/plain": [
       "| 1             | 29        |"
      ]
     },
     "metadata": {},
     "output_type": "display_data"
    },
    {
     "data": {
      "text/html": [
       "<pre>| 2             | 41        |</pre>"
      ],
      "text/plain": [
       "| 2             | 41        |"
      ]
     },
     "metadata": {},
     "output_type": "display_data"
    },
    {
     "data": {
      "text/html": [
       "<pre>| 3             | 61        |</pre>"
      ],
      "text/plain": [
       "| 3             | 61        |"
      ]
     },
     "metadata": {},
     "output_type": "display_data"
    },
    {
     "data": {
      "text/html": [
       "<pre>| 4             | 18        |</pre>"
      ],
      "text/plain": [
       "| 4             | 18        |"
      ]
     },
     "metadata": {},
     "output_type": "display_data"
    },
    {
     "data": {
      "text/html": [
       "<pre>| 5             | 44        |</pre>"
      ],
      "text/plain": [
       "| 5             | 44        |"
      ]
     },
     "metadata": {},
     "output_type": "display_data"
    },
    {
     "data": {
      "text/html": [
       "<pre>| 10            | 54        |</pre>"
      ],
      "text/plain": [
       "| 10            | 54        |"
      ]
     },
     "metadata": {},
     "output_type": "display_data"
    },
    {
     "data": {
      "text/html": [
       "<pre>| 41            | 35        |</pre>"
      ],
      "text/plain": [
       "| 41            | 35        |"
      ]
     },
     "metadata": {},
     "output_type": "display_data"
    },
    {
     "data": {
      "text/html": [
       "<pre>+---------------+-----------+</pre>"
      ],
      "text/plain": [
       "+---------------+-----------+"
      ]
     },
     "metadata": {},
     "output_type": "display_data"
    },
    {
     "data": {
      "text/html": [
       "<pre>Starting kmeans model training.</pre>"
      ],
      "text/plain": [
       "Starting kmeans model training."
      ]
     },
     "metadata": {},
     "output_type": "display_data"
    },
    {
     "data": {
      "text/html": [
       "<pre>Assigning points to initial cluster centers.</pre>"
      ],
      "text/plain": [
       "Assigning points to initial cluster centers."
      ]
     },
     "metadata": {},
     "output_type": "display_data"
    },
    {
     "data": {
      "text/html": [
       "<pre>+-----------+-------------------------------+</pre>"
      ],
      "text/plain": [
       "+-----------+-------------------------------+"
      ]
     },
     "metadata": {},
     "output_type": "display_data"
    },
    {
     "data": {
      "text/html": [
       "<pre>| Iteration | Number of changed assignments |</pre>"
      ],
      "text/plain": [
       "| Iteration | Number of changed assignments |"
      ]
     },
     "metadata": {},
     "output_type": "display_data"
    },
    {
     "data": {
      "text/html": [
       "<pre>+-----------+-------------------------------+</pre>"
      ],
      "text/plain": [
       "+-----------+-------------------------------+"
      ]
     },
     "metadata": {},
     "output_type": "display_data"
    },
    {
     "data": {
      "text/html": [
       "<pre>| 1         | 0                             |</pre>"
      ],
      "text/plain": [
       "| 1         | 0                             |"
      ]
     },
     "metadata": {},
     "output_type": "display_data"
    },
    {
     "data": {
      "text/html": [
       "<pre>+-----------+-------------------------------+</pre>"
      ],
      "text/plain": [
       "+-----------+-------------------------------+"
      ]
     },
     "metadata": {},
     "output_type": "display_data"
    },
    {
     "data": {
      "text/html": [
       "<pre>Batch size is larger than the input dataset. Switching to an exact Kmeans method.</pre>"
      ],
      "text/plain": [
       "Batch size is larger than the input dataset. Switching to an exact Kmeans method."
      ]
     },
     "metadata": {},
     "output_type": "display_data"
    },
    {
     "data": {
      "text/html": [
       "<pre>Choosing initial cluster centers with Kmeans++.</pre>"
      ],
      "text/plain": [
       "Choosing initial cluster centers with Kmeans++."
      ]
     },
     "metadata": {},
     "output_type": "display_data"
    },
    {
     "data": {
      "text/html": [
       "<pre>+---------------+-----------+</pre>"
      ],
      "text/plain": [
       "+---------------+-----------+"
      ]
     },
     "metadata": {},
     "output_type": "display_data"
    },
    {
     "data": {
      "text/html": [
       "<pre>| Center number | Row index |</pre>"
      ],
      "text/plain": [
       "| Center number | Row index |"
      ]
     },
     "metadata": {},
     "output_type": "display_data"
    },
    {
     "data": {
      "text/html": [
       "<pre>+---------------+-----------+</pre>"
      ],
      "text/plain": [
       "+---------------+-----------+"
      ]
     },
     "metadata": {},
     "output_type": "display_data"
    },
    {
     "data": {
      "text/html": [
       "<pre>| 0             | 41        |</pre>"
      ],
      "text/plain": [
       "| 0             | 41        |"
      ]
     },
     "metadata": {},
     "output_type": "display_data"
    },
    {
     "data": {
      "text/html": [
       "<pre>| 1             | 67        |</pre>"
      ],
      "text/plain": [
       "| 1             | 67        |"
      ]
     },
     "metadata": {},
     "output_type": "display_data"
    },
    {
     "data": {
      "text/html": [
       "<pre>| 2             | 38        |</pre>"
      ],
      "text/plain": [
       "| 2             | 38        |"
      ]
     },
     "metadata": {},
     "output_type": "display_data"
    },
    {
     "data": {
      "text/html": [
       "<pre>| 3             | 63        |</pre>"
      ],
      "text/plain": [
       "| 3             | 63        |"
      ]
     },
     "metadata": {},
     "output_type": "display_data"
    },
    {
     "data": {
      "text/html": [
       "<pre>| 4             | 11        |</pre>"
      ],
      "text/plain": [
       "| 4             | 11        |"
      ]
     },
     "metadata": {},
     "output_type": "display_data"
    },
    {
     "data": {
      "text/html": [
       "<pre>| 5             | 50        |</pre>"
      ],
      "text/plain": [
       "| 5             | 50        |"
      ]
     },
     "metadata": {},
     "output_type": "display_data"
    },
    {
     "data": {
      "text/html": [
       "<pre>| 10            | 9         |</pre>"
      ],
      "text/plain": [
       "| 10            | 9         |"
      ]
     },
     "metadata": {},
     "output_type": "display_data"
    },
    {
     "data": {
      "text/html": [
       "<pre>| 42            | 16        |</pre>"
      ],
      "text/plain": [
       "| 42            | 16        |"
      ]
     },
     "metadata": {},
     "output_type": "display_data"
    },
    {
     "data": {
      "text/html": [
       "<pre>+---------------+-----------+</pre>"
      ],
      "text/plain": [
       "+---------------+-----------+"
      ]
     },
     "metadata": {},
     "output_type": "display_data"
    },
    {
     "data": {
      "text/html": [
       "<pre>Starting kmeans model training.</pre>"
      ],
      "text/plain": [
       "Starting kmeans model training."
      ]
     },
     "metadata": {},
     "output_type": "display_data"
    },
    {
     "data": {
      "text/html": [
       "<pre>Assigning points to initial cluster centers.</pre>"
      ],
      "text/plain": [
       "Assigning points to initial cluster centers."
      ]
     },
     "metadata": {},
     "output_type": "display_data"
    },
    {
     "data": {
      "text/html": [
       "<pre>+-----------+-------------------------------+</pre>"
      ],
      "text/plain": [
       "+-----------+-------------------------------+"
      ]
     },
     "metadata": {},
     "output_type": "display_data"
    },
    {
     "data": {
      "text/html": [
       "<pre>| Iteration | Number of changed assignments |</pre>"
      ],
      "text/plain": [
       "| Iteration | Number of changed assignments |"
      ]
     },
     "metadata": {},
     "output_type": "display_data"
    },
    {
     "data": {
      "text/html": [
       "<pre>+-----------+-------------------------------+</pre>"
      ],
      "text/plain": [
       "+-----------+-------------------------------+"
      ]
     },
     "metadata": {},
     "output_type": "display_data"
    },
    {
     "data": {
      "text/html": [
       "<pre>| 1         | 0                             |</pre>"
      ],
      "text/plain": [
       "| 1         | 0                             |"
      ]
     },
     "metadata": {},
     "output_type": "display_data"
    },
    {
     "data": {
      "text/html": [
       "<pre>+-----------+-------------------------------+</pre>"
      ],
      "text/plain": [
       "+-----------+-------------------------------+"
      ]
     },
     "metadata": {},
     "output_type": "display_data"
    },
    {
     "data": {
      "text/html": [
       "<pre>Batch size is larger than the input dataset. Switching to an exact Kmeans method.</pre>"
      ],
      "text/plain": [
       "Batch size is larger than the input dataset. Switching to an exact Kmeans method."
      ]
     },
     "metadata": {},
     "output_type": "display_data"
    },
    {
     "data": {
      "text/html": [
       "<pre>Choosing initial cluster centers with Kmeans++.</pre>"
      ],
      "text/plain": [
       "Choosing initial cluster centers with Kmeans++."
      ]
     },
     "metadata": {},
     "output_type": "display_data"
    },
    {
     "data": {
      "text/html": [
       "<pre>+---------------+-----------+</pre>"
      ],
      "text/plain": [
       "+---------------+-----------+"
      ]
     },
     "metadata": {},
     "output_type": "display_data"
    },
    {
     "data": {
      "text/html": [
       "<pre>| Center number | Row index |</pre>"
      ],
      "text/plain": [
       "| Center number | Row index |"
      ]
     },
     "metadata": {},
     "output_type": "display_data"
    },
    {
     "data": {
      "text/html": [
       "<pre>+---------------+-----------+</pre>"
      ],
      "text/plain": [
       "+---------------+-----------+"
      ]
     },
     "metadata": {},
     "output_type": "display_data"
    },
    {
     "data": {
      "text/html": [
       "<pre>| 0             | 20        |</pre>"
      ],
      "text/plain": [
       "| 0             | 20        |"
      ]
     },
     "metadata": {},
     "output_type": "display_data"
    },
    {
     "data": {
      "text/html": [
       "<pre>| 1             | 24        |</pre>"
      ],
      "text/plain": [
       "| 1             | 24        |"
      ]
     },
     "metadata": {},
     "output_type": "display_data"
    },
    {
     "data": {
      "text/html": [
       "<pre>| 2             | 62        |</pre>"
      ],
      "text/plain": [
       "| 2             | 62        |"
      ]
     },
     "metadata": {},
     "output_type": "display_data"
    },
    {
     "data": {
      "text/html": [
       "<pre>| 3             | 18        |</pre>"
      ],
      "text/plain": [
       "| 3             | 18        |"
      ]
     },
     "metadata": {},
     "output_type": "display_data"
    },
    {
     "data": {
      "text/html": [
       "<pre>| 4             | 61        |</pre>"
      ],
      "text/plain": [
       "| 4             | 61        |"
      ]
     },
     "metadata": {},
     "output_type": "display_data"
    },
    {
     "data": {
      "text/html": [
       "<pre>| 5             | 17        |</pre>"
      ],
      "text/plain": [
       "| 5             | 17        |"
      ]
     },
     "metadata": {},
     "output_type": "display_data"
    },
    {
     "data": {
      "text/html": [
       "<pre>| 10            | 63        |</pre>"
      ],
      "text/plain": [
       "| 10            | 63        |"
      ]
     },
     "metadata": {},
     "output_type": "display_data"
    },
    {
     "data": {
      "text/html": [
       "<pre>| 43            | 26        |</pre>"
      ],
      "text/plain": [
       "| 43            | 26        |"
      ]
     },
     "metadata": {},
     "output_type": "display_data"
    },
    {
     "data": {
      "text/html": [
       "<pre>+---------------+-----------+</pre>"
      ],
      "text/plain": [
       "+---------------+-----------+"
      ]
     },
     "metadata": {},
     "output_type": "display_data"
    },
    {
     "data": {
      "text/html": [
       "<pre>Starting kmeans model training.</pre>"
      ],
      "text/plain": [
       "Starting kmeans model training."
      ]
     },
     "metadata": {},
     "output_type": "display_data"
    },
    {
     "data": {
      "text/html": [
       "<pre>Assigning points to initial cluster centers.</pre>"
      ],
      "text/plain": [
       "Assigning points to initial cluster centers."
      ]
     },
     "metadata": {},
     "output_type": "display_data"
    },
    {
     "data": {
      "text/html": [
       "<pre>+-----------+-------------------------------+</pre>"
      ],
      "text/plain": [
       "+-----------+-------------------------------+"
      ]
     },
     "metadata": {},
     "output_type": "display_data"
    },
    {
     "data": {
      "text/html": [
       "<pre>| Iteration | Number of changed assignments |</pre>"
      ],
      "text/plain": [
       "| Iteration | Number of changed assignments |"
      ]
     },
     "metadata": {},
     "output_type": "display_data"
    },
    {
     "data": {
      "text/html": [
       "<pre>+-----------+-------------------------------+</pre>"
      ],
      "text/plain": [
       "+-----------+-------------------------------+"
      ]
     },
     "metadata": {},
     "output_type": "display_data"
    },
    {
     "data": {
      "text/html": [
       "<pre>| 1         | 0                             |</pre>"
      ],
      "text/plain": [
       "| 1         | 0                             |"
      ]
     },
     "metadata": {},
     "output_type": "display_data"
    },
    {
     "data": {
      "text/html": [
       "<pre>+-----------+-------------------------------+</pre>"
      ],
      "text/plain": [
       "+-----------+-------------------------------+"
      ]
     },
     "metadata": {},
     "output_type": "display_data"
    },
    {
     "data": {
      "text/html": [
       "<pre>Batch size is larger than the input dataset. Switching to an exact Kmeans method.</pre>"
      ],
      "text/plain": [
       "Batch size is larger than the input dataset. Switching to an exact Kmeans method."
      ]
     },
     "metadata": {},
     "output_type": "display_data"
    },
    {
     "data": {
      "text/html": [
       "<pre>Choosing initial cluster centers with Kmeans++.</pre>"
      ],
      "text/plain": [
       "Choosing initial cluster centers with Kmeans++."
      ]
     },
     "metadata": {},
     "output_type": "display_data"
    },
    {
     "data": {
      "text/html": [
       "<pre>+---------------+-----------+</pre>"
      ],
      "text/plain": [
       "+---------------+-----------+"
      ]
     },
     "metadata": {},
     "output_type": "display_data"
    },
    {
     "data": {
      "text/html": [
       "<pre>| Center number | Row index |</pre>"
      ],
      "text/plain": [
       "| Center number | Row index |"
      ]
     },
     "metadata": {},
     "output_type": "display_data"
    },
    {
     "data": {
      "text/html": [
       "<pre>+---------------+-----------+</pre>"
      ],
      "text/plain": [
       "+---------------+-----------+"
      ]
     },
     "metadata": {},
     "output_type": "display_data"
    },
    {
     "data": {
      "text/html": [
       "<pre>| 0             | 42        |</pre>"
      ],
      "text/plain": [
       "| 0             | 42        |"
      ]
     },
     "metadata": {},
     "output_type": "display_data"
    },
    {
     "data": {
      "text/html": [
       "<pre>| 1             | 11        |</pre>"
      ],
      "text/plain": [
       "| 1             | 11        |"
      ]
     },
     "metadata": {},
     "output_type": "display_data"
    },
    {
     "data": {
      "text/html": [
       "<pre>| 2             | 61        |</pre>"
      ],
      "text/plain": [
       "| 2             | 61        |"
      ]
     },
     "metadata": {},
     "output_type": "display_data"
    },
    {
     "data": {
      "text/html": [
       "<pre>| 3             | 4         |</pre>"
      ],
      "text/plain": [
       "| 3             | 4         |"
      ]
     },
     "metadata": {},
     "output_type": "display_data"
    },
    {
     "data": {
      "text/html": [
       "<pre>| 4             | 63        |</pre>"
      ],
      "text/plain": [
       "| 4             | 63        |"
      ]
     },
     "metadata": {},
     "output_type": "display_data"
    },
    {
     "data": {
      "text/html": [
       "<pre>| 5             | 40        |</pre>"
      ],
      "text/plain": [
       "| 5             | 40        |"
      ]
     },
     "metadata": {},
     "output_type": "display_data"
    },
    {
     "data": {
      "text/html": [
       "<pre>| 10            | 2         |</pre>"
      ],
      "text/plain": [
       "| 10            | 2         |"
      ]
     },
     "metadata": {},
     "output_type": "display_data"
    },
    {
     "data": {
      "text/html": [
       "<pre>| 44            | 52        |</pre>"
      ],
      "text/plain": [
       "| 44            | 52        |"
      ]
     },
     "metadata": {},
     "output_type": "display_data"
    },
    {
     "data": {
      "text/html": [
       "<pre>+---------------+-----------+</pre>"
      ],
      "text/plain": [
       "+---------------+-----------+"
      ]
     },
     "metadata": {},
     "output_type": "display_data"
    },
    {
     "data": {
      "text/html": [
       "<pre>Starting kmeans model training.</pre>"
      ],
      "text/plain": [
       "Starting kmeans model training."
      ]
     },
     "metadata": {},
     "output_type": "display_data"
    },
    {
     "data": {
      "text/html": [
       "<pre>Assigning points to initial cluster centers.</pre>"
      ],
      "text/plain": [
       "Assigning points to initial cluster centers."
      ]
     },
     "metadata": {},
     "output_type": "display_data"
    },
    {
     "data": {
      "text/html": [
       "<pre>+-----------+-------------------------------+</pre>"
      ],
      "text/plain": [
       "+-----------+-------------------------------+"
      ]
     },
     "metadata": {},
     "output_type": "display_data"
    },
    {
     "data": {
      "text/html": [
       "<pre>| Iteration | Number of changed assignments |</pre>"
      ],
      "text/plain": [
       "| Iteration | Number of changed assignments |"
      ]
     },
     "metadata": {},
     "output_type": "display_data"
    },
    {
     "data": {
      "text/html": [
       "<pre>+-----------+-------------------------------+</pre>"
      ],
      "text/plain": [
       "+-----------+-------------------------------+"
      ]
     },
     "metadata": {},
     "output_type": "display_data"
    },
    {
     "data": {
      "text/html": [
       "<pre>| 1         | 0                             |</pre>"
      ],
      "text/plain": [
       "| 1         | 0                             |"
      ]
     },
     "metadata": {},
     "output_type": "display_data"
    },
    {
     "data": {
      "text/html": [
       "<pre>+-----------+-------------------------------+</pre>"
      ],
      "text/plain": [
       "+-----------+-------------------------------+"
      ]
     },
     "metadata": {},
     "output_type": "display_data"
    },
    {
     "data": {
      "text/html": [
       "<pre>Batch size is larger than the input dataset. Switching to an exact Kmeans method.</pre>"
      ],
      "text/plain": [
       "Batch size is larger than the input dataset. Switching to an exact Kmeans method."
      ]
     },
     "metadata": {},
     "output_type": "display_data"
    },
    {
     "data": {
      "text/html": [
       "<pre>Choosing initial cluster centers with Kmeans++.</pre>"
      ],
      "text/plain": [
       "Choosing initial cluster centers with Kmeans++."
      ]
     },
     "metadata": {},
     "output_type": "display_data"
    },
    {
     "data": {
      "text/html": [
       "<pre>+---------------+-----------+</pre>"
      ],
      "text/plain": [
       "+---------------+-----------+"
      ]
     },
     "metadata": {},
     "output_type": "display_data"
    },
    {
     "data": {
      "text/html": [
       "<pre>| Center number | Row index |</pre>"
      ],
      "text/plain": [
       "| Center number | Row index |"
      ]
     },
     "metadata": {},
     "output_type": "display_data"
    },
    {
     "data": {
      "text/html": [
       "<pre>+---------------+-----------+</pre>"
      ],
      "text/plain": [
       "+---------------+-----------+"
      ]
     },
     "metadata": {},
     "output_type": "display_data"
    },
    {
     "data": {
      "text/html": [
       "<pre>| 0             | 7         |</pre>"
      ],
      "text/plain": [
       "| 0             | 7         |"
      ]
     },
     "metadata": {},
     "output_type": "display_data"
    },
    {
     "data": {
      "text/html": [
       "<pre>| 1             | 16        |</pre>"
      ],
      "text/plain": [
       "| 1             | 16        |"
      ]
     },
     "metadata": {},
     "output_type": "display_data"
    },
    {
     "data": {
      "text/html": [
       "<pre>| 2             | 50        |</pre>"
      ],
      "text/plain": [
       "| 2             | 50        |"
      ]
     },
     "metadata": {},
     "output_type": "display_data"
    },
    {
     "data": {
      "text/html": [
       "<pre>| 3             | 64        |</pre>"
      ],
      "text/plain": [
       "| 3             | 64        |"
      ]
     },
     "metadata": {},
     "output_type": "display_data"
    },
    {
     "data": {
      "text/html": [
       "<pre>| 4             | 4         |</pre>"
      ],
      "text/plain": [
       "| 4             | 4         |"
      ]
     },
     "metadata": {},
     "output_type": "display_data"
    },
    {
     "data": {
      "text/html": [
       "<pre>| 5             | 51        |</pre>"
      ],
      "text/plain": [
       "| 5             | 51        |"
      ]
     },
     "metadata": {},
     "output_type": "display_data"
    },
    {
     "data": {
      "text/html": [
       "<pre>| 10            | 6         |</pre>"
      ],
      "text/plain": [
       "| 10            | 6         |"
      ]
     },
     "metadata": {},
     "output_type": "display_data"
    },
    {
     "data": {
      "text/html": [
       "<pre>| 45            | 65        |</pre>"
      ],
      "text/plain": [
       "| 45            | 65        |"
      ]
     },
     "metadata": {},
     "output_type": "display_data"
    },
    {
     "data": {
      "text/html": [
       "<pre>+---------------+-----------+</pre>"
      ],
      "text/plain": [
       "+---------------+-----------+"
      ]
     },
     "metadata": {},
     "output_type": "display_data"
    },
    {
     "data": {
      "text/html": [
       "<pre>Starting kmeans model training.</pre>"
      ],
      "text/plain": [
       "Starting kmeans model training."
      ]
     },
     "metadata": {},
     "output_type": "display_data"
    },
    {
     "data": {
      "text/html": [
       "<pre>Assigning points to initial cluster centers.</pre>"
      ],
      "text/plain": [
       "Assigning points to initial cluster centers."
      ]
     },
     "metadata": {},
     "output_type": "display_data"
    },
    {
     "data": {
      "text/html": [
       "<pre>+-----------+-------------------------------+</pre>"
      ],
      "text/plain": [
       "+-----------+-------------------------------+"
      ]
     },
     "metadata": {},
     "output_type": "display_data"
    },
    {
     "data": {
      "text/html": [
       "<pre>| Iteration | Number of changed assignments |</pre>"
      ],
      "text/plain": [
       "| Iteration | Number of changed assignments |"
      ]
     },
     "metadata": {},
     "output_type": "display_data"
    },
    {
     "data": {
      "text/html": [
       "<pre>+-----------+-------------------------------+</pre>"
      ],
      "text/plain": [
       "+-----------+-------------------------------+"
      ]
     },
     "metadata": {},
     "output_type": "display_data"
    },
    {
     "data": {
      "text/html": [
       "<pre>| 1         | 0                             |</pre>"
      ],
      "text/plain": [
       "| 1         | 0                             |"
      ]
     },
     "metadata": {},
     "output_type": "display_data"
    },
    {
     "data": {
      "text/html": [
       "<pre>+-----------+-------------------------------+</pre>"
      ],
      "text/plain": [
       "+-----------+-------------------------------+"
      ]
     },
     "metadata": {},
     "output_type": "display_data"
    },
    {
     "data": {
      "text/html": [
       "<pre>Batch size is larger than the input dataset. Switching to an exact Kmeans method.</pre>"
      ],
      "text/plain": [
       "Batch size is larger than the input dataset. Switching to an exact Kmeans method."
      ]
     },
     "metadata": {},
     "output_type": "display_data"
    },
    {
     "data": {
      "text/html": [
       "<pre>Choosing initial cluster centers with Kmeans++.</pre>"
      ],
      "text/plain": [
       "Choosing initial cluster centers with Kmeans++."
      ]
     },
     "metadata": {},
     "output_type": "display_data"
    },
    {
     "data": {
      "text/html": [
       "<pre>+---------------+-----------+</pre>"
      ],
      "text/plain": [
       "+---------------+-----------+"
      ]
     },
     "metadata": {},
     "output_type": "display_data"
    },
    {
     "data": {
      "text/html": [
       "<pre>| Center number | Row index |</pre>"
      ],
      "text/plain": [
       "| Center number | Row index |"
      ]
     },
     "metadata": {},
     "output_type": "display_data"
    },
    {
     "data": {
      "text/html": [
       "<pre>+---------------+-----------+</pre>"
      ],
      "text/plain": [
       "+---------------+-----------+"
      ]
     },
     "metadata": {},
     "output_type": "display_data"
    },
    {
     "data": {
      "text/html": [
       "<pre>| 0             | 9         |</pre>"
      ],
      "text/plain": [
       "| 0             | 9         |"
      ]
     },
     "metadata": {},
     "output_type": "display_data"
    },
    {
     "data": {
      "text/html": [
       "<pre>| 1             | 22        |</pre>"
      ],
      "text/plain": [
       "| 1             | 22        |"
      ]
     },
     "metadata": {},
     "output_type": "display_data"
    },
    {
     "data": {
      "text/html": [
       "<pre>| 2             | 17        |</pre>"
      ],
      "text/plain": [
       "| 2             | 17        |"
      ]
     },
     "metadata": {},
     "output_type": "display_data"
    },
    {
     "data": {
      "text/html": [
       "<pre>| 3             | 32        |</pre>"
      ],
      "text/plain": [
       "| 3             | 32        |"
      ]
     },
     "metadata": {},
     "output_type": "display_data"
    },
    {
     "data": {
      "text/html": [
       "<pre>| 4             | 19        |</pre>"
      ],
      "text/plain": [
       "| 4             | 19        |"
      ]
     },
     "metadata": {},
     "output_type": "display_data"
    },
    {
     "data": {
      "text/html": [
       "<pre>| 5             | 8         |</pre>"
      ],
      "text/plain": [
       "| 5             | 8         |"
      ]
     },
     "metadata": {},
     "output_type": "display_data"
    },
    {
     "data": {
      "text/html": [
       "<pre>| 10            | 15        |</pre>"
      ],
      "text/plain": [
       "| 10            | 15        |"
      ]
     },
     "metadata": {},
     "output_type": "display_data"
    },
    {
     "data": {
      "text/html": [
       "<pre>| 46            | 59        |</pre>"
      ],
      "text/plain": [
       "| 46            | 59        |"
      ]
     },
     "metadata": {},
     "output_type": "display_data"
    },
    {
     "data": {
      "text/html": [
       "<pre>+---------------+-----------+</pre>"
      ],
      "text/plain": [
       "+---------------+-----------+"
      ]
     },
     "metadata": {},
     "output_type": "display_data"
    },
    {
     "data": {
      "text/html": [
       "<pre>Starting kmeans model training.</pre>"
      ],
      "text/plain": [
       "Starting kmeans model training."
      ]
     },
     "metadata": {},
     "output_type": "display_data"
    },
    {
     "data": {
      "text/html": [
       "<pre>Assigning points to initial cluster centers.</pre>"
      ],
      "text/plain": [
       "Assigning points to initial cluster centers."
      ]
     },
     "metadata": {},
     "output_type": "display_data"
    },
    {
     "data": {
      "text/html": [
       "<pre>+-----------+-------------------------------+</pre>"
      ],
      "text/plain": [
       "+-----------+-------------------------------+"
      ]
     },
     "metadata": {},
     "output_type": "display_data"
    },
    {
     "data": {
      "text/html": [
       "<pre>| Iteration | Number of changed assignments |</pre>"
      ],
      "text/plain": [
       "| Iteration | Number of changed assignments |"
      ]
     },
     "metadata": {},
     "output_type": "display_data"
    },
    {
     "data": {
      "text/html": [
       "<pre>+-----------+-------------------------------+</pre>"
      ],
      "text/plain": [
       "+-----------+-------------------------------+"
      ]
     },
     "metadata": {},
     "output_type": "display_data"
    },
    {
     "data": {
      "text/html": [
       "<pre>| 1         | 0                             |</pre>"
      ],
      "text/plain": [
       "| 1         | 0                             |"
      ]
     },
     "metadata": {},
     "output_type": "display_data"
    },
    {
     "data": {
      "text/html": [
       "<pre>+-----------+-------------------------------+</pre>"
      ],
      "text/plain": [
       "+-----------+-------------------------------+"
      ]
     },
     "metadata": {},
     "output_type": "display_data"
    },
    {
     "data": {
      "text/html": [
       "<pre>Batch size is larger than the input dataset. Switching to an exact Kmeans method.</pre>"
      ],
      "text/plain": [
       "Batch size is larger than the input dataset. Switching to an exact Kmeans method."
      ]
     },
     "metadata": {},
     "output_type": "display_data"
    },
    {
     "data": {
      "text/html": [
       "<pre>Choosing initial cluster centers with Kmeans++.</pre>"
      ],
      "text/plain": [
       "Choosing initial cluster centers with Kmeans++."
      ]
     },
     "metadata": {},
     "output_type": "display_data"
    },
    {
     "data": {
      "text/html": [
       "<pre>+---------------+-----------+</pre>"
      ],
      "text/plain": [
       "+---------------+-----------+"
      ]
     },
     "metadata": {},
     "output_type": "display_data"
    },
    {
     "data": {
      "text/html": [
       "<pre>| Center number | Row index |</pre>"
      ],
      "text/plain": [
       "| Center number | Row index |"
      ]
     },
     "metadata": {},
     "output_type": "display_data"
    },
    {
     "data": {
      "text/html": [
       "<pre>+---------------+-----------+</pre>"
      ],
      "text/plain": [
       "+---------------+-----------+"
      ]
     },
     "metadata": {},
     "output_type": "display_data"
    },
    {
     "data": {
      "text/html": [
       "<pre>| 0             | 66        |</pre>"
      ],
      "text/plain": [
       "| 0             | 66        |"
      ]
     },
     "metadata": {},
     "output_type": "display_data"
    },
    {
     "data": {
      "text/html": [
       "<pre>| 1             | 61        |</pre>"
      ],
      "text/plain": [
       "| 1             | 61        |"
      ]
     },
     "metadata": {},
     "output_type": "display_data"
    },
    {
     "data": {
      "text/html": [
       "<pre>| 2             | 46        |</pre>"
      ],
      "text/plain": [
       "| 2             | 46        |"
      ]
     },
     "metadata": {},
     "output_type": "display_data"
    },
    {
     "data": {
      "text/html": [
       "<pre>| 3             | 50        |</pre>"
      ],
      "text/plain": [
       "| 3             | 50        |"
      ]
     },
     "metadata": {},
     "output_type": "display_data"
    },
    {
     "data": {
      "text/html": [
       "<pre>| 4             | 40        |</pre>"
      ],
      "text/plain": [
       "| 4             | 40        |"
      ]
     },
     "metadata": {},
     "output_type": "display_data"
    },
    {
     "data": {
      "text/html": [
       "<pre>| 5             | 26        |</pre>"
      ],
      "text/plain": [
       "| 5             | 26        |"
      ]
     },
     "metadata": {},
     "output_type": "display_data"
    },
    {
     "data": {
      "text/html": [
       "<pre>| 10            | 1         |</pre>"
      ],
      "text/plain": [
       "| 10            | 1         |"
      ]
     },
     "metadata": {},
     "output_type": "display_data"
    },
    {
     "data": {
      "text/html": [
       "<pre>| 47            | 28        |</pre>"
      ],
      "text/plain": [
       "| 47            | 28        |"
      ]
     },
     "metadata": {},
     "output_type": "display_data"
    },
    {
     "data": {
      "text/html": [
       "<pre>+---------------+-----------+</pre>"
      ],
      "text/plain": [
       "+---------------+-----------+"
      ]
     },
     "metadata": {},
     "output_type": "display_data"
    },
    {
     "data": {
      "text/html": [
       "<pre>Starting kmeans model training.</pre>"
      ],
      "text/plain": [
       "Starting kmeans model training."
      ]
     },
     "metadata": {},
     "output_type": "display_data"
    },
    {
     "data": {
      "text/html": [
       "<pre>Assigning points to initial cluster centers.</pre>"
      ],
      "text/plain": [
       "Assigning points to initial cluster centers."
      ]
     },
     "metadata": {},
     "output_type": "display_data"
    },
    {
     "data": {
      "text/html": [
       "<pre>+-----------+-------------------------------+</pre>"
      ],
      "text/plain": [
       "+-----------+-------------------------------+"
      ]
     },
     "metadata": {},
     "output_type": "display_data"
    },
    {
     "data": {
      "text/html": [
       "<pre>| Iteration | Number of changed assignments |</pre>"
      ],
      "text/plain": [
       "| Iteration | Number of changed assignments |"
      ]
     },
     "metadata": {},
     "output_type": "display_data"
    },
    {
     "data": {
      "text/html": [
       "<pre>+-----------+-------------------------------+</pre>"
      ],
      "text/plain": [
       "+-----------+-------------------------------+"
      ]
     },
     "metadata": {},
     "output_type": "display_data"
    },
    {
     "data": {
      "text/html": [
       "<pre>| 1         | 0                             |</pre>"
      ],
      "text/plain": [
       "| 1         | 0                             |"
      ]
     },
     "metadata": {},
     "output_type": "display_data"
    },
    {
     "data": {
      "text/html": [
       "<pre>+-----------+-------------------------------+</pre>"
      ],
      "text/plain": [
       "+-----------+-------------------------------+"
      ]
     },
     "metadata": {},
     "output_type": "display_data"
    },
    {
     "data": {
      "text/html": [
       "<pre>Batch size is larger than the input dataset. Switching to an exact Kmeans method.</pre>"
      ],
      "text/plain": [
       "Batch size is larger than the input dataset. Switching to an exact Kmeans method."
      ]
     },
     "metadata": {},
     "output_type": "display_data"
    },
    {
     "data": {
      "text/html": [
       "<pre>Choosing initial cluster centers with Kmeans++.</pre>"
      ],
      "text/plain": [
       "Choosing initial cluster centers with Kmeans++."
      ]
     },
     "metadata": {},
     "output_type": "display_data"
    },
    {
     "data": {
      "text/html": [
       "<pre>+---------------+-----------+</pre>"
      ],
      "text/plain": [
       "+---------------+-----------+"
      ]
     },
     "metadata": {},
     "output_type": "display_data"
    },
    {
     "data": {
      "text/html": [
       "<pre>| Center number | Row index |</pre>"
      ],
      "text/plain": [
       "| Center number | Row index |"
      ]
     },
     "metadata": {},
     "output_type": "display_data"
    },
    {
     "data": {
      "text/html": [
       "<pre>+---------------+-----------+</pre>"
      ],
      "text/plain": [
       "+---------------+-----------+"
      ]
     },
     "metadata": {},
     "output_type": "display_data"
    },
    {
     "data": {
      "text/html": [
       "<pre>| 0             | 19        |</pre>"
      ],
      "text/plain": [
       "| 0             | 19        |"
      ]
     },
     "metadata": {},
     "output_type": "display_data"
    },
    {
     "data": {
      "text/html": [
       "<pre>| 1             | 54        |</pre>"
      ],
      "text/plain": [
       "| 1             | 54        |"
      ]
     },
     "metadata": {},
     "output_type": "display_data"
    },
    {
     "data": {
      "text/html": [
       "<pre>| 2             | 52        |</pre>"
      ],
      "text/plain": [
       "| 2             | 52        |"
      ]
     },
     "metadata": {},
     "output_type": "display_data"
    },
    {
     "data": {
      "text/html": [
       "<pre>| 3             | 63        |</pre>"
      ],
      "text/plain": [
       "| 3             | 63        |"
      ]
     },
     "metadata": {},
     "output_type": "display_data"
    },
    {
     "data": {
      "text/html": [
       "<pre>| 4             | 21        |</pre>"
      ],
      "text/plain": [
       "| 4             | 21        |"
      ]
     },
     "metadata": {},
     "output_type": "display_data"
    },
    {
     "data": {
      "text/html": [
       "<pre>| 5             | 24        |</pre>"
      ],
      "text/plain": [
       "| 5             | 24        |"
      ]
     },
     "metadata": {},
     "output_type": "display_data"
    },
    {
     "data": {
      "text/html": [
       "<pre>| 10            | 13        |</pre>"
      ],
      "text/plain": [
       "| 10            | 13        |"
      ]
     },
     "metadata": {},
     "output_type": "display_data"
    },
    {
     "data": {
      "text/html": [
       "<pre>| 48            | 18        |</pre>"
      ],
      "text/plain": [
       "| 48            | 18        |"
      ]
     },
     "metadata": {},
     "output_type": "display_data"
    },
    {
     "data": {
      "text/html": [
       "<pre>+---------------+-----------+</pre>"
      ],
      "text/plain": [
       "+---------------+-----------+"
      ]
     },
     "metadata": {},
     "output_type": "display_data"
    },
    {
     "data": {
      "text/html": [
       "<pre>Starting kmeans model training.</pre>"
      ],
      "text/plain": [
       "Starting kmeans model training."
      ]
     },
     "metadata": {},
     "output_type": "display_data"
    },
    {
     "data": {
      "text/html": [
       "<pre>Assigning points to initial cluster centers.</pre>"
      ],
      "text/plain": [
       "Assigning points to initial cluster centers."
      ]
     },
     "metadata": {},
     "output_type": "display_data"
    },
    {
     "data": {
      "text/html": [
       "<pre>+-----------+-------------------------------+</pre>"
      ],
      "text/plain": [
       "+-----------+-------------------------------+"
      ]
     },
     "metadata": {},
     "output_type": "display_data"
    },
    {
     "data": {
      "text/html": [
       "<pre>| Iteration | Number of changed assignments |</pre>"
      ],
      "text/plain": [
       "| Iteration | Number of changed assignments |"
      ]
     },
     "metadata": {},
     "output_type": "display_data"
    },
    {
     "data": {
      "text/html": [
       "<pre>+-----------+-------------------------------+</pre>"
      ],
      "text/plain": [
       "+-----------+-------------------------------+"
      ]
     },
     "metadata": {},
     "output_type": "display_data"
    },
    {
     "data": {
      "text/html": [
       "<pre>| 1         | 0                             |</pre>"
      ],
      "text/plain": [
       "| 1         | 0                             |"
      ]
     },
     "metadata": {},
     "output_type": "display_data"
    },
    {
     "data": {
      "text/html": [
       "<pre>+-----------+-------------------------------+</pre>"
      ],
      "text/plain": [
       "+-----------+-------------------------------+"
      ]
     },
     "metadata": {},
     "output_type": "display_data"
    },
    {
     "data": {
      "text/html": [
       "<pre>Batch size is larger than the input dataset. Switching to an exact Kmeans method.</pre>"
      ],
      "text/plain": [
       "Batch size is larger than the input dataset. Switching to an exact Kmeans method."
      ]
     },
     "metadata": {},
     "output_type": "display_data"
    },
    {
     "data": {
      "text/html": [
       "<pre>Choosing initial cluster centers with Kmeans++.</pre>"
      ],
      "text/plain": [
       "Choosing initial cluster centers with Kmeans++."
      ]
     },
     "metadata": {},
     "output_type": "display_data"
    },
    {
     "data": {
      "text/html": [
       "<pre>+---------------+-----------+</pre>"
      ],
      "text/plain": [
       "+---------------+-----------+"
      ]
     },
     "metadata": {},
     "output_type": "display_data"
    },
    {
     "data": {
      "text/html": [
       "<pre>| Center number | Row index |</pre>"
      ],
      "text/plain": [
       "| Center number | Row index |"
      ]
     },
     "metadata": {},
     "output_type": "display_data"
    },
    {
     "data": {
      "text/html": [
       "<pre>+---------------+-----------+</pre>"
      ],
      "text/plain": [
       "+---------------+-----------+"
      ]
     },
     "metadata": {},
     "output_type": "display_data"
    },
    {
     "data": {
      "text/html": [
       "<pre>| 0             | 46        |</pre>"
      ],
      "text/plain": [
       "| 0             | 46        |"
      ]
     },
     "metadata": {},
     "output_type": "display_data"
    },
    {
     "data": {
      "text/html": [
       "<pre>| 1             | 31        |</pre>"
      ],
      "text/plain": [
       "| 1             | 31        |"
      ]
     },
     "metadata": {},
     "output_type": "display_data"
    },
    {
     "data": {
      "text/html": [
       "<pre>| 2             | 23        |</pre>"
      ],
      "text/plain": [
       "| 2             | 23        |"
      ]
     },
     "metadata": {},
     "output_type": "display_data"
    },
    {
     "data": {
      "text/html": [
       "<pre>| 3             | 41        |</pre>"
      ],
      "text/plain": [
       "| 3             | 41        |"
      ]
     },
     "metadata": {},
     "output_type": "display_data"
    },
    {
     "data": {
      "text/html": [
       "<pre>| 4             | 61        |</pre>"
      ],
      "text/plain": [
       "| 4             | 61        |"
      ]
     },
     "metadata": {},
     "output_type": "display_data"
    },
    {
     "data": {
      "text/html": [
       "<pre>| 5             | 15        |</pre>"
      ],
      "text/plain": [
       "| 5             | 15        |"
      ]
     },
     "metadata": {},
     "output_type": "display_data"
    },
    {
     "data": {
      "text/html": [
       "<pre>| 10            | 32        |</pre>"
      ],
      "text/plain": [
       "| 10            | 32        |"
      ]
     },
     "metadata": {},
     "output_type": "display_data"
    },
    {
     "data": {
      "text/html": [
       "<pre>| 49            | 34        |</pre>"
      ],
      "text/plain": [
       "| 49            | 34        |"
      ]
     },
     "metadata": {},
     "output_type": "display_data"
    },
    {
     "data": {
      "text/html": [
       "<pre>+---------------+-----------+</pre>"
      ],
      "text/plain": [
       "+---------------+-----------+"
      ]
     },
     "metadata": {},
     "output_type": "display_data"
    },
    {
     "data": {
      "text/html": [
       "<pre>Starting kmeans model training.</pre>"
      ],
      "text/plain": [
       "Starting kmeans model training."
      ]
     },
     "metadata": {},
     "output_type": "display_data"
    },
    {
     "data": {
      "text/html": [
       "<pre>Assigning points to initial cluster centers.</pre>"
      ],
      "text/plain": [
       "Assigning points to initial cluster centers."
      ]
     },
     "metadata": {},
     "output_type": "display_data"
    },
    {
     "data": {
      "text/html": [
       "<pre>+-----------+-------------------------------+</pre>"
      ],
      "text/plain": [
       "+-----------+-------------------------------+"
      ]
     },
     "metadata": {},
     "output_type": "display_data"
    },
    {
     "data": {
      "text/html": [
       "<pre>| Iteration | Number of changed assignments |</pre>"
      ],
      "text/plain": [
       "| Iteration | Number of changed assignments |"
      ]
     },
     "metadata": {},
     "output_type": "display_data"
    },
    {
     "data": {
      "text/html": [
       "<pre>+-----------+-------------------------------+</pre>"
      ],
      "text/plain": [
       "+-----------+-------------------------------+"
      ]
     },
     "metadata": {},
     "output_type": "display_data"
    },
    {
     "data": {
      "text/html": [
       "<pre>| 1         | 0                             |</pre>"
      ],
      "text/plain": [
       "| 1         | 0                             |"
      ]
     },
     "metadata": {},
     "output_type": "display_data"
    },
    {
     "data": {
      "text/html": [
       "<pre>+-----------+-------------------------------+</pre>"
      ],
      "text/plain": [
       "+-----------+-------------------------------+"
      ]
     },
     "metadata": {},
     "output_type": "display_data"
    },
    {
     "data": {
      "text/html": [
       "<pre>Batch size is larger than the input dataset. Switching to an exact Kmeans method.</pre>"
      ],
      "text/plain": [
       "Batch size is larger than the input dataset. Switching to an exact Kmeans method."
      ]
     },
     "metadata": {},
     "output_type": "display_data"
    },
    {
     "data": {
      "text/html": [
       "<pre>Choosing initial cluster centers with Kmeans++.</pre>"
      ],
      "text/plain": [
       "Choosing initial cluster centers with Kmeans++."
      ]
     },
     "metadata": {},
     "output_type": "display_data"
    },
    {
     "data": {
      "text/html": [
       "<pre>+---------------+-----------+</pre>"
      ],
      "text/plain": [
       "+---------------+-----------+"
      ]
     },
     "metadata": {},
     "output_type": "display_data"
    },
    {
     "data": {
      "text/html": [
       "<pre>| Center number | Row index |</pre>"
      ],
      "text/plain": [
       "| Center number | Row index |"
      ]
     },
     "metadata": {},
     "output_type": "display_data"
    },
    {
     "data": {
      "text/html": [
       "<pre>+---------------+-----------+</pre>"
      ],
      "text/plain": [
       "+---------------+-----------+"
      ]
     },
     "metadata": {},
     "output_type": "display_data"
    },
    {
     "data": {
      "text/html": [
       "<pre>| 0             | 49        |</pre>"
      ],
      "text/plain": [
       "| 0             | 49        |"
      ]
     },
     "metadata": {},
     "output_type": "display_data"
    },
    {
     "data": {
      "text/html": [
       "<pre>| 1             | 38        |</pre>"
      ],
      "text/plain": [
       "| 1             | 38        |"
      ]
     },
     "metadata": {},
     "output_type": "display_data"
    },
    {
     "data": {
      "text/html": [
       "<pre>| 2             | 27        |</pre>"
      ],
      "text/plain": [
       "| 2             | 27        |"
      ]
     },
     "metadata": {},
     "output_type": "display_data"
    },
    {
     "data": {
      "text/html": [
       "<pre>| 3             | 0         |</pre>"
      ],
      "text/plain": [
       "| 3             | 0         |"
      ]
     },
     "metadata": {},
     "output_type": "display_data"
    },
    {
     "data": {
      "text/html": [
       "<pre>| 4             | 55        |</pre>"
      ],
      "text/plain": [
       "| 4             | 55        |"
      ]
     },
     "metadata": {},
     "output_type": "display_data"
    },
    {
     "data": {
      "text/html": [
       "<pre>| 5             | 25        |</pre>"
      ],
      "text/plain": [
       "| 5             | 25        |"
      ]
     },
     "metadata": {},
     "output_type": "display_data"
    },
    {
     "data": {
      "text/html": [
       "<pre>| 10            | 37        |</pre>"
      ],
      "text/plain": [
       "| 10            | 37        |"
      ]
     },
     "metadata": {},
     "output_type": "display_data"
    },
    {
     "data": {
      "text/html": [
       "<pre>| 50            | 10        |</pre>"
      ],
      "text/plain": [
       "| 50            | 10        |"
      ]
     },
     "metadata": {},
     "output_type": "display_data"
    },
    {
     "data": {
      "text/html": [
       "<pre>+---------------+-----------+</pre>"
      ],
      "text/plain": [
       "+---------------+-----------+"
      ]
     },
     "metadata": {},
     "output_type": "display_data"
    },
    {
     "data": {
      "text/html": [
       "<pre>Starting kmeans model training.</pre>"
      ],
      "text/plain": [
       "Starting kmeans model training."
      ]
     },
     "metadata": {},
     "output_type": "display_data"
    },
    {
     "data": {
      "text/html": [
       "<pre>Assigning points to initial cluster centers.</pre>"
      ],
      "text/plain": [
       "Assigning points to initial cluster centers."
      ]
     },
     "metadata": {},
     "output_type": "display_data"
    },
    {
     "data": {
      "text/html": [
       "<pre>+-----------+-------------------------------+</pre>"
      ],
      "text/plain": [
       "+-----------+-------------------------------+"
      ]
     },
     "metadata": {},
     "output_type": "display_data"
    },
    {
     "data": {
      "text/html": [
       "<pre>| Iteration | Number of changed assignments |</pre>"
      ],
      "text/plain": [
       "| Iteration | Number of changed assignments |"
      ]
     },
     "metadata": {},
     "output_type": "display_data"
    },
    {
     "data": {
      "text/html": [
       "<pre>+-----------+-------------------------------+</pre>"
      ],
      "text/plain": [
       "+-----------+-------------------------------+"
      ]
     },
     "metadata": {},
     "output_type": "display_data"
    },
    {
     "data": {
      "text/html": [
       "<pre>| 1         | 0                             |</pre>"
      ],
      "text/plain": [
       "| 1         | 0                             |"
      ]
     },
     "metadata": {},
     "output_type": "display_data"
    },
    {
     "data": {
      "text/html": [
       "<pre>+-----------+-------------------------------+</pre>"
      ],
      "text/plain": [
       "+-----------+-------------------------------+"
      ]
     },
     "metadata": {},
     "output_type": "display_data"
    },
    {
     "data": {
      "text/html": [
       "<pre>Batch size is larger than the input dataset. Switching to an exact Kmeans method.</pre>"
      ],
      "text/plain": [
       "Batch size is larger than the input dataset. Switching to an exact Kmeans method."
      ]
     },
     "metadata": {},
     "output_type": "display_data"
    },
    {
     "data": {
      "text/html": [
       "<pre>Choosing initial cluster centers with Kmeans++.</pre>"
      ],
      "text/plain": [
       "Choosing initial cluster centers with Kmeans++."
      ]
     },
     "metadata": {},
     "output_type": "display_data"
    },
    {
     "data": {
      "text/html": [
       "<pre>+---------------+-----------+</pre>"
      ],
      "text/plain": [
       "+---------------+-----------+"
      ]
     },
     "metadata": {},
     "output_type": "display_data"
    },
    {
     "data": {
      "text/html": [
       "<pre>| Center number | Row index |</pre>"
      ],
      "text/plain": [
       "| Center number | Row index |"
      ]
     },
     "metadata": {},
     "output_type": "display_data"
    },
    {
     "data": {
      "text/html": [
       "<pre>+---------------+-----------+</pre>"
      ],
      "text/plain": [
       "+---------------+-----------+"
      ]
     },
     "metadata": {},
     "output_type": "display_data"
    },
    {
     "data": {
      "text/html": [
       "<pre>| 0             | 7         |</pre>"
      ],
      "text/plain": [
       "| 0             | 7         |"
      ]
     },
     "metadata": {},
     "output_type": "display_data"
    },
    {
     "data": {
      "text/html": [
       "<pre>| 1             | 61        |</pre>"
      ],
      "text/plain": [
       "| 1             | 61        |"
      ]
     },
     "metadata": {},
     "output_type": "display_data"
    },
    {
     "data": {
      "text/html": [
       "<pre>| 2             | 46        |</pre>"
      ],
      "text/plain": [
       "| 2             | 46        |"
      ]
     },
     "metadata": {},
     "output_type": "display_data"
    },
    {
     "data": {
      "text/html": [
       "<pre>| 3             | 67        |</pre>"
      ],
      "text/plain": [
       "| 3             | 67        |"
      ]
     },
     "metadata": {},
     "output_type": "display_data"
    },
    {
     "data": {
      "text/html": [
       "<pre>| 4             | 6         |</pre>"
      ],
      "text/plain": [
       "| 4             | 6         |"
      ]
     },
     "metadata": {},
     "output_type": "display_data"
    },
    {
     "data": {
      "text/html": [
       "<pre>| 5             | 5         |</pre>"
      ],
      "text/plain": [
       "| 5             | 5         |"
      ]
     },
     "metadata": {},
     "output_type": "display_data"
    },
    {
     "data": {
      "text/html": [
       "<pre>| 10            | 0         |</pre>"
      ],
      "text/plain": [
       "| 10            | 0         |"
      ]
     },
     "metadata": {},
     "output_type": "display_data"
    },
    {
     "data": {
      "text/html": [
       "<pre>| 50            | 59        |</pre>"
      ],
      "text/plain": [
       "| 50            | 59        |"
      ]
     },
     "metadata": {},
     "output_type": "display_data"
    },
    {
     "data": {
      "text/html": [
       "<pre>| 51            | 30        |</pre>"
      ],
      "text/plain": [
       "| 51            | 30        |"
      ]
     },
     "metadata": {},
     "output_type": "display_data"
    },
    {
     "data": {
      "text/html": [
       "<pre>+---------------+-----------+</pre>"
      ],
      "text/plain": [
       "+---------------+-----------+"
      ]
     },
     "metadata": {},
     "output_type": "display_data"
    },
    {
     "data": {
      "text/html": [
       "<pre>Starting kmeans model training.</pre>"
      ],
      "text/plain": [
       "Starting kmeans model training."
      ]
     },
     "metadata": {},
     "output_type": "display_data"
    },
    {
     "data": {
      "text/html": [
       "<pre>Assigning points to initial cluster centers.</pre>"
      ],
      "text/plain": [
       "Assigning points to initial cluster centers."
      ]
     },
     "metadata": {},
     "output_type": "display_data"
    },
    {
     "data": {
      "text/html": [
       "<pre>+-----------+-------------------------------+</pre>"
      ],
      "text/plain": [
       "+-----------+-------------------------------+"
      ]
     },
     "metadata": {},
     "output_type": "display_data"
    },
    {
     "data": {
      "text/html": [
       "<pre>| Iteration | Number of changed assignments |</pre>"
      ],
      "text/plain": [
       "| Iteration | Number of changed assignments |"
      ]
     },
     "metadata": {},
     "output_type": "display_data"
    },
    {
     "data": {
      "text/html": [
       "<pre>+-----------+-------------------------------+</pre>"
      ],
      "text/plain": [
       "+-----------+-------------------------------+"
      ]
     },
     "metadata": {},
     "output_type": "display_data"
    },
    {
     "data": {
      "text/html": [
       "<pre>| 1         | 0                             |</pre>"
      ],
      "text/plain": [
       "| 1         | 0                             |"
      ]
     },
     "metadata": {},
     "output_type": "display_data"
    },
    {
     "data": {
      "text/html": [
       "<pre>+-----------+-------------------------------+</pre>"
      ],
      "text/plain": [
       "+-----------+-------------------------------+"
      ]
     },
     "metadata": {},
     "output_type": "display_data"
    },
    {
     "data": {
      "text/html": [
       "<pre>Batch size is larger than the input dataset. Switching to an exact Kmeans method.</pre>"
      ],
      "text/plain": [
       "Batch size is larger than the input dataset. Switching to an exact Kmeans method."
      ]
     },
     "metadata": {},
     "output_type": "display_data"
    },
    {
     "data": {
      "text/html": [
       "<pre>Choosing initial cluster centers with Kmeans++.</pre>"
      ],
      "text/plain": [
       "Choosing initial cluster centers with Kmeans++."
      ]
     },
     "metadata": {},
     "output_type": "display_data"
    },
    {
     "data": {
      "text/html": [
       "<pre>+---------------+-----------+</pre>"
      ],
      "text/plain": [
       "+---------------+-----------+"
      ]
     },
     "metadata": {},
     "output_type": "display_data"
    },
    {
     "data": {
      "text/html": [
       "<pre>| Center number | Row index |</pre>"
      ],
      "text/plain": [
       "| Center number | Row index |"
      ]
     },
     "metadata": {},
     "output_type": "display_data"
    },
    {
     "data": {
      "text/html": [
       "<pre>+---------------+-----------+</pre>"
      ],
      "text/plain": [
       "+---------------+-----------+"
      ]
     },
     "metadata": {},
     "output_type": "display_data"
    },
    {
     "data": {
      "text/html": [
       "<pre>| 0             | 1         |</pre>"
      ],
      "text/plain": [
       "| 0             | 1         |"
      ]
     },
     "metadata": {},
     "output_type": "display_data"
    },
    {
     "data": {
      "text/html": [
       "<pre>| 1             | 31        |</pre>"
      ],
      "text/plain": [
       "| 1             | 31        |"
      ]
     },
     "metadata": {},
     "output_type": "display_data"
    },
    {
     "data": {
      "text/html": [
       "<pre>| 2             | 44        |</pre>"
      ],
      "text/plain": [
       "| 2             | 44        |"
      ]
     },
     "metadata": {},
     "output_type": "display_data"
    },
    {
     "data": {
      "text/html": [
       "<pre>| 3             | 46        |</pre>"
      ],
      "text/plain": [
       "| 3             | 46        |"
      ]
     },
     "metadata": {},
     "output_type": "display_data"
    },
    {
     "data": {
      "text/html": [
       "<pre>| 4             | 18        |</pre>"
      ],
      "text/plain": [
       "| 4             | 18        |"
      ]
     },
     "metadata": {},
     "output_type": "display_data"
    },
    {
     "data": {
      "text/html": [
       "<pre>| 5             | 51        |</pre>"
      ],
      "text/plain": [
       "| 5             | 51        |"
      ]
     },
     "metadata": {},
     "output_type": "display_data"
    },
    {
     "data": {
      "text/html": [
       "<pre>| 10            | 14        |</pre>"
      ],
      "text/plain": [
       "| 10            | 14        |"
      ]
     },
     "metadata": {},
     "output_type": "display_data"
    },
    {
     "data": {
      "text/html": [
       "<pre>| 50            | 48        |</pre>"
      ],
      "text/plain": [
       "| 50            | 48        |"
      ]
     },
     "metadata": {},
     "output_type": "display_data"
    },
    {
     "data": {
      "text/html": [
       "<pre>| 52            | 30        |</pre>"
      ],
      "text/plain": [
       "| 52            | 30        |"
      ]
     },
     "metadata": {},
     "output_type": "display_data"
    },
    {
     "data": {
      "text/html": [
       "<pre>+---------------+-----------+</pre>"
      ],
      "text/plain": [
       "+---------------+-----------+"
      ]
     },
     "metadata": {},
     "output_type": "display_data"
    },
    {
     "data": {
      "text/html": [
       "<pre>Starting kmeans model training.</pre>"
      ],
      "text/plain": [
       "Starting kmeans model training."
      ]
     },
     "metadata": {},
     "output_type": "display_data"
    },
    {
     "data": {
      "text/html": [
       "<pre>Assigning points to initial cluster centers.</pre>"
      ],
      "text/plain": [
       "Assigning points to initial cluster centers."
      ]
     },
     "metadata": {},
     "output_type": "display_data"
    },
    {
     "data": {
      "text/html": [
       "<pre>+-----------+-------------------------------+</pre>"
      ],
      "text/plain": [
       "+-----------+-------------------------------+"
      ]
     },
     "metadata": {},
     "output_type": "display_data"
    },
    {
     "data": {
      "text/html": [
       "<pre>| Iteration | Number of changed assignments |</pre>"
      ],
      "text/plain": [
       "| Iteration | Number of changed assignments |"
      ]
     },
     "metadata": {},
     "output_type": "display_data"
    },
    {
     "data": {
      "text/html": [
       "<pre>+-----------+-------------------------------+</pre>"
      ],
      "text/plain": [
       "+-----------+-------------------------------+"
      ]
     },
     "metadata": {},
     "output_type": "display_data"
    },
    {
     "data": {
      "text/html": [
       "<pre>| 1         | 0                             |</pre>"
      ],
      "text/plain": [
       "| 1         | 0                             |"
      ]
     },
     "metadata": {},
     "output_type": "display_data"
    },
    {
     "data": {
      "text/html": [
       "<pre>+-----------+-------------------------------+</pre>"
      ],
      "text/plain": [
       "+-----------+-------------------------------+"
      ]
     },
     "metadata": {},
     "output_type": "display_data"
    },
    {
     "data": {
      "text/html": [
       "<pre>Batch size is larger than the input dataset. Switching to an exact Kmeans method.</pre>"
      ],
      "text/plain": [
       "Batch size is larger than the input dataset. Switching to an exact Kmeans method."
      ]
     },
     "metadata": {},
     "output_type": "display_data"
    },
    {
     "data": {
      "text/html": [
       "<pre>Choosing initial cluster centers with Kmeans++.</pre>"
      ],
      "text/plain": [
       "Choosing initial cluster centers with Kmeans++."
      ]
     },
     "metadata": {},
     "output_type": "display_data"
    },
    {
     "data": {
      "text/html": [
       "<pre>+---------------+-----------+</pre>"
      ],
      "text/plain": [
       "+---------------+-----------+"
      ]
     },
     "metadata": {},
     "output_type": "display_data"
    },
    {
     "data": {
      "text/html": [
       "<pre>| Center number | Row index |</pre>"
      ],
      "text/plain": [
       "| Center number | Row index |"
      ]
     },
     "metadata": {},
     "output_type": "display_data"
    },
    {
     "data": {
      "text/html": [
       "<pre>+---------------+-----------+</pre>"
      ],
      "text/plain": [
       "+---------------+-----------+"
      ]
     },
     "metadata": {},
     "output_type": "display_data"
    },
    {
     "data": {
      "text/html": [
       "<pre>| 0             | 33        |</pre>"
      ],
      "text/plain": [
       "| 0             | 33        |"
      ]
     },
     "metadata": {},
     "output_type": "display_data"
    },
    {
     "data": {
      "text/html": [
       "<pre>| 1             | 18        |</pre>"
      ],
      "text/plain": [
       "| 1             | 18        |"
      ]
     },
     "metadata": {},
     "output_type": "display_data"
    },
    {
     "data": {
      "text/html": [
       "<pre>| 2             | 39        |</pre>"
      ],
      "text/plain": [
       "| 2             | 39        |"
      ]
     },
     "metadata": {},
     "output_type": "display_data"
    },
    {
     "data": {
      "text/html": [
       "<pre>| 3             | 63        |</pre>"
      ],
      "text/plain": [
       "| 3             | 63        |"
      ]
     },
     "metadata": {},
     "output_type": "display_data"
    },
    {
     "data": {
      "text/html": [
       "<pre>| 4             | 29        |</pre>"
      ],
      "text/plain": [
       "| 4             | 29        |"
      ]
     },
     "metadata": {},
     "output_type": "display_data"
    },
    {
     "data": {
      "text/html": [
       "<pre>| 5             | 43        |</pre>"
      ],
      "text/plain": [
       "| 5             | 43        |"
      ]
     },
     "metadata": {},
     "output_type": "display_data"
    },
    {
     "data": {
      "text/html": [
       "<pre>| 10            | 35        |</pre>"
      ],
      "text/plain": [
       "| 10            | 35        |"
      ]
     },
     "metadata": {},
     "output_type": "display_data"
    },
    {
     "data": {
      "text/html": [
       "<pre>| 50            | 37        |</pre>"
      ],
      "text/plain": [
       "| 50            | 37        |"
      ]
     },
     "metadata": {},
     "output_type": "display_data"
    },
    {
     "data": {
      "text/html": [
       "<pre>| 53            | 15        |</pre>"
      ],
      "text/plain": [
       "| 53            | 15        |"
      ]
     },
     "metadata": {},
     "output_type": "display_data"
    },
    {
     "data": {
      "text/html": [
       "<pre>+---------------+-----------+</pre>"
      ],
      "text/plain": [
       "+---------------+-----------+"
      ]
     },
     "metadata": {},
     "output_type": "display_data"
    },
    {
     "data": {
      "text/html": [
       "<pre>Starting kmeans model training.</pre>"
      ],
      "text/plain": [
       "Starting kmeans model training."
      ]
     },
     "metadata": {},
     "output_type": "display_data"
    },
    {
     "data": {
      "text/html": [
       "<pre>Assigning points to initial cluster centers.</pre>"
      ],
      "text/plain": [
       "Assigning points to initial cluster centers."
      ]
     },
     "metadata": {},
     "output_type": "display_data"
    },
    {
     "data": {
      "text/html": [
       "<pre>+-----------+-------------------------------+</pre>"
      ],
      "text/plain": [
       "+-----------+-------------------------------+"
      ]
     },
     "metadata": {},
     "output_type": "display_data"
    },
    {
     "data": {
      "text/html": [
       "<pre>| Iteration | Number of changed assignments |</pre>"
      ],
      "text/plain": [
       "| Iteration | Number of changed assignments |"
      ]
     },
     "metadata": {},
     "output_type": "display_data"
    },
    {
     "data": {
      "text/html": [
       "<pre>+-----------+-------------------------------+</pre>"
      ],
      "text/plain": [
       "+-----------+-------------------------------+"
      ]
     },
     "metadata": {},
     "output_type": "display_data"
    },
    {
     "data": {
      "text/html": [
       "<pre>| 1         | 0                             |</pre>"
      ],
      "text/plain": [
       "| 1         | 0                             |"
      ]
     },
     "metadata": {},
     "output_type": "display_data"
    },
    {
     "data": {
      "text/html": [
       "<pre>+-----------+-------------------------------+</pre>"
      ],
      "text/plain": [
       "+-----------+-------------------------------+"
      ]
     },
     "metadata": {},
     "output_type": "display_data"
    },
    {
     "data": {
      "text/html": [
       "<pre>Batch size is larger than the input dataset. Switching to an exact Kmeans method.</pre>"
      ],
      "text/plain": [
       "Batch size is larger than the input dataset. Switching to an exact Kmeans method."
      ]
     },
     "metadata": {},
     "output_type": "display_data"
    },
    {
     "data": {
      "text/html": [
       "<pre>Choosing initial cluster centers with Kmeans++.</pre>"
      ],
      "text/plain": [
       "Choosing initial cluster centers with Kmeans++."
      ]
     },
     "metadata": {},
     "output_type": "display_data"
    },
    {
     "data": {
      "text/html": [
       "<pre>+---------------+-----------+</pre>"
      ],
      "text/plain": [
       "+---------------+-----------+"
      ]
     },
     "metadata": {},
     "output_type": "display_data"
    },
    {
     "data": {
      "text/html": [
       "<pre>| Center number | Row index |</pre>"
      ],
      "text/plain": [
       "| Center number | Row index |"
      ]
     },
     "metadata": {},
     "output_type": "display_data"
    },
    {
     "data": {
      "text/html": [
       "<pre>+---------------+-----------+</pre>"
      ],
      "text/plain": [
       "+---------------+-----------+"
      ]
     },
     "metadata": {},
     "output_type": "display_data"
    },
    {
     "data": {
      "text/html": [
       "<pre>| 0             | 28        |</pre>"
      ],
      "text/plain": [
       "| 0             | 28        |"
      ]
     },
     "metadata": {},
     "output_type": "display_data"
    },
    {
     "data": {
      "text/html": [
       "<pre>| 1             | 4         |</pre>"
      ],
      "text/plain": [
       "| 1             | 4         |"
      ]
     },
     "metadata": {},
     "output_type": "display_data"
    },
    {
     "data": {
      "text/html": [
       "<pre>| 2             | 36        |</pre>"
      ],
      "text/plain": [
       "| 2             | 36        |"
      ]
     },
     "metadata": {},
     "output_type": "display_data"
    },
    {
     "data": {
      "text/html": [
       "<pre>| 3             | 49        |</pre>"
      ],
      "text/plain": [
       "| 3             | 49        |"
      ]
     },
     "metadata": {},
     "output_type": "display_data"
    },
    {
     "data": {
      "text/html": [
       "<pre>| 4             | 1         |</pre>"
      ],
      "text/plain": [
       "| 4             | 1         |"
      ]
     },
     "metadata": {},
     "output_type": "display_data"
    },
    {
     "data": {
      "text/html": [
       "<pre>| 5             | 59        |</pre>"
      ],
      "text/plain": [
       "| 5             | 59        |"
      ]
     },
     "metadata": {},
     "output_type": "display_data"
    },
    {
     "data": {
      "text/html": [
       "<pre>| 10            | 6         |</pre>"
      ],
      "text/plain": [
       "| 10            | 6         |"
      ]
     },
     "metadata": {},
     "output_type": "display_data"
    },
    {
     "data": {
      "text/html": [
       "<pre>| 50            | 38        |</pre>"
      ],
      "text/plain": [
       "| 50            | 38        |"
      ]
     },
     "metadata": {},
     "output_type": "display_data"
    },
    {
     "data": {
      "text/html": [
       "<pre>| 54            | 5         |</pre>"
      ],
      "text/plain": [
       "| 54            | 5         |"
      ]
     },
     "metadata": {},
     "output_type": "display_data"
    },
    {
     "data": {
      "text/html": [
       "<pre>+---------------+-----------+</pre>"
      ],
      "text/plain": [
       "+---------------+-----------+"
      ]
     },
     "metadata": {},
     "output_type": "display_data"
    },
    {
     "data": {
      "text/html": [
       "<pre>Starting kmeans model training.</pre>"
      ],
      "text/plain": [
       "Starting kmeans model training."
      ]
     },
     "metadata": {},
     "output_type": "display_data"
    },
    {
     "data": {
      "text/html": [
       "<pre>Assigning points to initial cluster centers.</pre>"
      ],
      "text/plain": [
       "Assigning points to initial cluster centers."
      ]
     },
     "metadata": {},
     "output_type": "display_data"
    },
    {
     "data": {
      "text/html": [
       "<pre>+-----------+-------------------------------+</pre>"
      ],
      "text/plain": [
       "+-----------+-------------------------------+"
      ]
     },
     "metadata": {},
     "output_type": "display_data"
    },
    {
     "data": {
      "text/html": [
       "<pre>| Iteration | Number of changed assignments |</pre>"
      ],
      "text/plain": [
       "| Iteration | Number of changed assignments |"
      ]
     },
     "metadata": {},
     "output_type": "display_data"
    },
    {
     "data": {
      "text/html": [
       "<pre>+-----------+-------------------------------+</pre>"
      ],
      "text/plain": [
       "+-----------+-------------------------------+"
      ]
     },
     "metadata": {},
     "output_type": "display_data"
    },
    {
     "data": {
      "text/html": [
       "<pre>| 1         | 0                             |</pre>"
      ],
      "text/plain": [
       "| 1         | 0                             |"
      ]
     },
     "metadata": {},
     "output_type": "display_data"
    },
    {
     "data": {
      "text/html": [
       "<pre>+-----------+-------------------------------+</pre>"
      ],
      "text/plain": [
       "+-----------+-------------------------------+"
      ]
     },
     "metadata": {},
     "output_type": "display_data"
    },
    {
     "data": {
      "text/html": [
       "<pre>Batch size is larger than the input dataset. Switching to an exact Kmeans method.</pre>"
      ],
      "text/plain": [
       "Batch size is larger than the input dataset. Switching to an exact Kmeans method."
      ]
     },
     "metadata": {},
     "output_type": "display_data"
    },
    {
     "data": {
      "text/html": [
       "<pre>Choosing initial cluster centers with Kmeans++.</pre>"
      ],
      "text/plain": [
       "Choosing initial cluster centers with Kmeans++."
      ]
     },
     "metadata": {},
     "output_type": "display_data"
    },
    {
     "data": {
      "text/html": [
       "<pre>+---------------+-----------+</pre>"
      ],
      "text/plain": [
       "+---------------+-----------+"
      ]
     },
     "metadata": {},
     "output_type": "display_data"
    },
    {
     "data": {
      "text/html": [
       "<pre>| Center number | Row index |</pre>"
      ],
      "text/plain": [
       "| Center number | Row index |"
      ]
     },
     "metadata": {},
     "output_type": "display_data"
    },
    {
     "data": {
      "text/html": [
       "<pre>+---------------+-----------+</pre>"
      ],
      "text/plain": [
       "+---------------+-----------+"
      ]
     },
     "metadata": {},
     "output_type": "display_data"
    },
    {
     "data": {
      "text/html": [
       "<pre>| 0             | 38        |</pre>"
      ],
      "text/plain": [
       "| 0             | 38        |"
      ]
     },
     "metadata": {},
     "output_type": "display_data"
    },
    {
     "data": {
      "text/html": [
       "<pre>| 1             | 45        |</pre>"
      ],
      "text/plain": [
       "| 1             | 45        |"
      ]
     },
     "metadata": {},
     "output_type": "display_data"
    },
    {
     "data": {
      "text/html": [
       "<pre>| 2             | 27        |</pre>"
      ],
      "text/plain": [
       "| 2             | 27        |"
      ]
     },
     "metadata": {},
     "output_type": "display_data"
    },
    {
     "data": {
      "text/html": [
       "<pre>| 3             | 1         |</pre>"
      ],
      "text/plain": [
       "| 3             | 1         |"
      ]
     },
     "metadata": {},
     "output_type": "display_data"
    },
    {
     "data": {
      "text/html": [
       "<pre>| 4             | 44        |</pre>"
      ],
      "text/plain": [
       "| 4             | 44        |"
      ]
     },
     "metadata": {},
     "output_type": "display_data"
    },
    {
     "data": {
      "text/html": [
       "<pre>| 5             | 14        |</pre>"
      ],
      "text/plain": [
       "| 5             | 14        |"
      ]
     },
     "metadata": {},
     "output_type": "display_data"
    },
    {
     "data": {
      "text/html": [
       "<pre>| 10            | 4         |</pre>"
      ],
      "text/plain": [
       "| 10            | 4         |"
      ]
     },
     "metadata": {},
     "output_type": "display_data"
    },
    {
     "data": {
      "text/html": [
       "<pre>| 50            | 28        |</pre>"
      ],
      "text/plain": [
       "| 50            | 28        |"
      ]
     },
     "metadata": {},
     "output_type": "display_data"
    },
    {
     "data": {
      "text/html": [
       "<pre>| 55            | 2         |</pre>"
      ],
      "text/plain": [
       "| 55            | 2         |"
      ]
     },
     "metadata": {},
     "output_type": "display_data"
    },
    {
     "data": {
      "text/html": [
       "<pre>+---------------+-----------+</pre>"
      ],
      "text/plain": [
       "+---------------+-----------+"
      ]
     },
     "metadata": {},
     "output_type": "display_data"
    },
    {
     "data": {
      "text/html": [
       "<pre>Starting kmeans model training.</pre>"
      ],
      "text/plain": [
       "Starting kmeans model training."
      ]
     },
     "metadata": {},
     "output_type": "display_data"
    },
    {
     "data": {
      "text/html": [
       "<pre>Assigning points to initial cluster centers.</pre>"
      ],
      "text/plain": [
       "Assigning points to initial cluster centers."
      ]
     },
     "metadata": {},
     "output_type": "display_data"
    },
    {
     "data": {
      "text/html": [
       "<pre>+-----------+-------------------------------+</pre>"
      ],
      "text/plain": [
       "+-----------+-------------------------------+"
      ]
     },
     "metadata": {},
     "output_type": "display_data"
    },
    {
     "data": {
      "text/html": [
       "<pre>| Iteration | Number of changed assignments |</pre>"
      ],
      "text/plain": [
       "| Iteration | Number of changed assignments |"
      ]
     },
     "metadata": {},
     "output_type": "display_data"
    },
    {
     "data": {
      "text/html": [
       "<pre>+-----------+-------------------------------+</pre>"
      ],
      "text/plain": [
       "+-----------+-------------------------------+"
      ]
     },
     "metadata": {},
     "output_type": "display_data"
    },
    {
     "data": {
      "text/html": [
       "<pre>| 1         | 0                             |</pre>"
      ],
      "text/plain": [
       "| 1         | 0                             |"
      ]
     },
     "metadata": {},
     "output_type": "display_data"
    },
    {
     "data": {
      "text/html": [
       "<pre>+-----------+-------------------------------+</pre>"
      ],
      "text/plain": [
       "+-----------+-------------------------------+"
      ]
     },
     "metadata": {},
     "output_type": "display_data"
    },
    {
     "data": {
      "text/html": [
       "<pre>Batch size is larger than the input dataset. Switching to an exact Kmeans method.</pre>"
      ],
      "text/plain": [
       "Batch size is larger than the input dataset. Switching to an exact Kmeans method."
      ]
     },
     "metadata": {},
     "output_type": "display_data"
    },
    {
     "data": {
      "text/html": [
       "<pre>Choosing initial cluster centers with Kmeans++.</pre>"
      ],
      "text/plain": [
       "Choosing initial cluster centers with Kmeans++."
      ]
     },
     "metadata": {},
     "output_type": "display_data"
    },
    {
     "data": {
      "text/html": [
       "<pre>+---------------+-----------+</pre>"
      ],
      "text/plain": [
       "+---------------+-----------+"
      ]
     },
     "metadata": {},
     "output_type": "display_data"
    },
    {
     "data": {
      "text/html": [
       "<pre>| Center number | Row index |</pre>"
      ],
      "text/plain": [
       "| Center number | Row index |"
      ]
     },
     "metadata": {},
     "output_type": "display_data"
    },
    {
     "data": {
      "text/html": [
       "<pre>+---------------+-----------+</pre>"
      ],
      "text/plain": [
       "+---------------+-----------+"
      ]
     },
     "metadata": {},
     "output_type": "display_data"
    },
    {
     "data": {
      "text/html": [
       "<pre>| 0             | 54        |</pre>"
      ],
      "text/plain": [
       "| 0             | 54        |"
      ]
     },
     "metadata": {},
     "output_type": "display_data"
    },
    {
     "data": {
      "text/html": [
       "<pre>| 1             | 6         |</pre>"
      ],
      "text/plain": [
       "| 1             | 6         |"
      ]
     },
     "metadata": {},
     "output_type": "display_data"
    },
    {
     "data": {
      "text/html": [
       "<pre>| 2             | 30        |</pre>"
      ],
      "text/plain": [
       "| 2             | 30        |"
      ]
     },
     "metadata": {},
     "output_type": "display_data"
    },
    {
     "data": {
      "text/html": [
       "<pre>| 3             | 9         |</pre>"
      ],
      "text/plain": [
       "| 3             | 9         |"
      ]
     },
     "metadata": {},
     "output_type": "display_data"
    },
    {
     "data": {
      "text/html": [
       "<pre>| 4             | 29        |</pre>"
      ],
      "text/plain": [
       "| 4             | 29        |"
      ]
     },
     "metadata": {},
     "output_type": "display_data"
    },
    {
     "data": {
      "text/html": [
       "<pre>| 5             | 32        |</pre>"
      ],
      "text/plain": [
       "| 5             | 32        |"
      ]
     },
     "metadata": {},
     "output_type": "display_data"
    },
    {
     "data": {
      "text/html": [
       "<pre>| 10            | 44        |</pre>"
      ],
      "text/plain": [
       "| 10            | 44        |"
      ]
     },
     "metadata": {},
     "output_type": "display_data"
    },
    {
     "data": {
      "text/html": [
       "<pre>| 50            | 38        |</pre>"
      ],
      "text/plain": [
       "| 50            | 38        |"
      ]
     },
     "metadata": {},
     "output_type": "display_data"
    },
    {
     "data": {
      "text/html": [
       "<pre>| 56            | 22        |</pre>"
      ],
      "text/plain": [
       "| 56            | 22        |"
      ]
     },
     "metadata": {},
     "output_type": "display_data"
    },
    {
     "data": {
      "text/html": [
       "<pre>+---------------+-----------+</pre>"
      ],
      "text/plain": [
       "+---------------+-----------+"
      ]
     },
     "metadata": {},
     "output_type": "display_data"
    },
    {
     "data": {
      "text/html": [
       "<pre>Starting kmeans model training.</pre>"
      ],
      "text/plain": [
       "Starting kmeans model training."
      ]
     },
     "metadata": {},
     "output_type": "display_data"
    },
    {
     "data": {
      "text/html": [
       "<pre>Assigning points to initial cluster centers.</pre>"
      ],
      "text/plain": [
       "Assigning points to initial cluster centers."
      ]
     },
     "metadata": {},
     "output_type": "display_data"
    },
    {
     "data": {
      "text/html": [
       "<pre>+-----------+-------------------------------+</pre>"
      ],
      "text/plain": [
       "+-----------+-------------------------------+"
      ]
     },
     "metadata": {},
     "output_type": "display_data"
    },
    {
     "data": {
      "text/html": [
       "<pre>| Iteration | Number of changed assignments |</pre>"
      ],
      "text/plain": [
       "| Iteration | Number of changed assignments |"
      ]
     },
     "metadata": {},
     "output_type": "display_data"
    },
    {
     "data": {
      "text/html": [
       "<pre>+-----------+-------------------------------+</pre>"
      ],
      "text/plain": [
       "+-----------+-------------------------------+"
      ]
     },
     "metadata": {},
     "output_type": "display_data"
    },
    {
     "data": {
      "text/html": [
       "<pre>| 1         | 0                             |</pre>"
      ],
      "text/plain": [
       "| 1         | 0                             |"
      ]
     },
     "metadata": {},
     "output_type": "display_data"
    },
    {
     "data": {
      "text/html": [
       "<pre>+-----------+-------------------------------+</pre>"
      ],
      "text/plain": [
       "+-----------+-------------------------------+"
      ]
     },
     "metadata": {},
     "output_type": "display_data"
    },
    {
     "data": {
      "text/html": [
       "<pre>Batch size is larger than the input dataset. Switching to an exact Kmeans method.</pre>"
      ],
      "text/plain": [
       "Batch size is larger than the input dataset. Switching to an exact Kmeans method."
      ]
     },
     "metadata": {},
     "output_type": "display_data"
    },
    {
     "data": {
      "text/html": [
       "<pre>Choosing initial cluster centers with Kmeans++.</pre>"
      ],
      "text/plain": [
       "Choosing initial cluster centers with Kmeans++."
      ]
     },
     "metadata": {},
     "output_type": "display_data"
    },
    {
     "data": {
      "text/html": [
       "<pre>+---------------+-----------+</pre>"
      ],
      "text/plain": [
       "+---------------+-----------+"
      ]
     },
     "metadata": {},
     "output_type": "display_data"
    },
    {
     "data": {
      "text/html": [
       "<pre>| Center number | Row index |</pre>"
      ],
      "text/plain": [
       "| Center number | Row index |"
      ]
     },
     "metadata": {},
     "output_type": "display_data"
    },
    {
     "data": {
      "text/html": [
       "<pre>+---------------+-----------+</pre>"
      ],
      "text/plain": [
       "+---------------+-----------+"
      ]
     },
     "metadata": {},
     "output_type": "display_data"
    },
    {
     "data": {
      "text/html": [
       "<pre>| 0             | 54        |</pre>"
      ],
      "text/plain": [
       "| 0             | 54        |"
      ]
     },
     "metadata": {},
     "output_type": "display_data"
    },
    {
     "data": {
      "text/html": [
       "<pre>| 1             | 31        |</pre>"
      ],
      "text/plain": [
       "| 1             | 31        |"
      ]
     },
     "metadata": {},
     "output_type": "display_data"
    },
    {
     "data": {
      "text/html": [
       "<pre>| 2             | 14        |</pre>"
      ],
      "text/plain": [
       "| 2             | 14        |"
      ]
     },
     "metadata": {},
     "output_type": "display_data"
    },
    {
     "data": {
      "text/html": [
       "<pre>| 3             | 30        |</pre>"
      ],
      "text/plain": [
       "| 3             | 30        |"
      ]
     },
     "metadata": {},
     "output_type": "display_data"
    },
    {
     "data": {
      "text/html": [
       "<pre>| 4             | 27        |</pre>"
      ],
      "text/plain": [
       "| 4             | 27        |"
      ]
     },
     "metadata": {},
     "output_type": "display_data"
    },
    {
     "data": {
      "text/html": [
       "<pre>| 5             | 49        |</pre>"
      ],
      "text/plain": [
       "| 5             | 49        |"
      ]
     },
     "metadata": {},
     "output_type": "display_data"
    },
    {
     "data": {
      "text/html": [
       "<pre>| 10            | 21        |</pre>"
      ],
      "text/plain": [
       "| 10            | 21        |"
      ]
     },
     "metadata": {},
     "output_type": "display_data"
    },
    {
     "data": {
      "text/html": [
       "<pre>| 50            | 41        |</pre>"
      ],
      "text/plain": [
       "| 50            | 41        |"
      ]
     },
     "metadata": {},
     "output_type": "display_data"
    },
    {
     "data": {
      "text/html": [
       "<pre>| 57            | 23        |</pre>"
      ],
      "text/plain": [
       "| 57            | 23        |"
      ]
     },
     "metadata": {},
     "output_type": "display_data"
    },
    {
     "data": {
      "text/html": [
       "<pre>+---------------+-----------+</pre>"
      ],
      "text/plain": [
       "+---------------+-----------+"
      ]
     },
     "metadata": {},
     "output_type": "display_data"
    },
    {
     "data": {
      "text/html": [
       "<pre>Starting kmeans model training.</pre>"
      ],
      "text/plain": [
       "Starting kmeans model training."
      ]
     },
     "metadata": {},
     "output_type": "display_data"
    },
    {
     "data": {
      "text/html": [
       "<pre>Assigning points to initial cluster centers.</pre>"
      ],
      "text/plain": [
       "Assigning points to initial cluster centers."
      ]
     },
     "metadata": {},
     "output_type": "display_data"
    },
    {
     "data": {
      "text/html": [
       "<pre>+-----------+-------------------------------+</pre>"
      ],
      "text/plain": [
       "+-----------+-------------------------------+"
      ]
     },
     "metadata": {},
     "output_type": "display_data"
    },
    {
     "data": {
      "text/html": [
       "<pre>| Iteration | Number of changed assignments |</pre>"
      ],
      "text/plain": [
       "| Iteration | Number of changed assignments |"
      ]
     },
     "metadata": {},
     "output_type": "display_data"
    },
    {
     "data": {
      "text/html": [
       "<pre>+-----------+-------------------------------+</pre>"
      ],
      "text/plain": [
       "+-----------+-------------------------------+"
      ]
     },
     "metadata": {},
     "output_type": "display_data"
    },
    {
     "data": {
      "text/html": [
       "<pre>| 1         | 0                             |</pre>"
      ],
      "text/plain": [
       "| 1         | 0                             |"
      ]
     },
     "metadata": {},
     "output_type": "display_data"
    },
    {
     "data": {
      "text/html": [
       "<pre>+-----------+-------------------------------+</pre>"
      ],
      "text/plain": [
       "+-----------+-------------------------------+"
      ]
     },
     "metadata": {},
     "output_type": "display_data"
    },
    {
     "data": {
      "text/html": [
       "<pre>Batch size is larger than the input dataset. Switching to an exact Kmeans method.</pre>"
      ],
      "text/plain": [
       "Batch size is larger than the input dataset. Switching to an exact Kmeans method."
      ]
     },
     "metadata": {},
     "output_type": "display_data"
    },
    {
     "data": {
      "text/html": [
       "<pre>Choosing initial cluster centers with Kmeans++.</pre>"
      ],
      "text/plain": [
       "Choosing initial cluster centers with Kmeans++."
      ]
     },
     "metadata": {},
     "output_type": "display_data"
    },
    {
     "data": {
      "text/html": [
       "<pre>+---------------+-----------+</pre>"
      ],
      "text/plain": [
       "+---------------+-----------+"
      ]
     },
     "metadata": {},
     "output_type": "display_data"
    },
    {
     "data": {
      "text/html": [
       "<pre>| Center number | Row index |</pre>"
      ],
      "text/plain": [
       "| Center number | Row index |"
      ]
     },
     "metadata": {},
     "output_type": "display_data"
    },
    {
     "data": {
      "text/html": [
       "<pre>+---------------+-----------+</pre>"
      ],
      "text/plain": [
       "+---------------+-----------+"
      ]
     },
     "metadata": {},
     "output_type": "display_data"
    },
    {
     "data": {
      "text/html": [
       "<pre>| 0             | 27        |</pre>"
      ],
      "text/plain": [
       "| 0             | 27        |"
      ]
     },
     "metadata": {},
     "output_type": "display_data"
    },
    {
     "data": {
      "text/html": [
       "<pre>| 1             | 22        |</pre>"
      ],
      "text/plain": [
       "| 1             | 22        |"
      ]
     },
     "metadata": {},
     "output_type": "display_data"
    },
    {
     "data": {
      "text/html": [
       "<pre>| 2             | 6         |</pre>"
      ],
      "text/plain": [
       "| 2             | 6         |"
      ]
     },
     "metadata": {},
     "output_type": "display_data"
    },
    {
     "data": {
      "text/html": [
       "<pre>| 3             | 8         |</pre>"
      ],
      "text/plain": [
       "| 3             | 8         |"
      ]
     },
     "metadata": {},
     "output_type": "display_data"
    },
    {
     "data": {
      "text/html": [
       "<pre>| 4             | 62        |</pre>"
      ],
      "text/plain": [
       "| 4             | 62        |"
      ]
     },
     "metadata": {},
     "output_type": "display_data"
    },
    {
     "data": {
      "text/html": [
       "<pre>| 5             | 53        |</pre>"
      ],
      "text/plain": [
       "| 5             | 53        |"
      ]
     },
     "metadata": {},
     "output_type": "display_data"
    },
    {
     "data": {
      "text/html": [
       "<pre>| 10            | 24        |</pre>"
      ],
      "text/plain": [
       "| 10            | 24        |"
      ]
     },
     "metadata": {},
     "output_type": "display_data"
    },
    {
     "data": {
      "text/html": [
       "<pre>| 50            | 19        |</pre>"
      ],
      "text/plain": [
       "| 50            | 19        |"
      ]
     },
     "metadata": {},
     "output_type": "display_data"
    },
    {
     "data": {
      "text/html": [
       "<pre>| 58            | 13        |</pre>"
      ],
      "text/plain": [
       "| 58            | 13        |"
      ]
     },
     "metadata": {},
     "output_type": "display_data"
    },
    {
     "data": {
      "text/html": [
       "<pre>+---------------+-----------+</pre>"
      ],
      "text/plain": [
       "+---------------+-----------+"
      ]
     },
     "metadata": {},
     "output_type": "display_data"
    },
    {
     "data": {
      "text/html": [
       "<pre>Starting kmeans model training.</pre>"
      ],
      "text/plain": [
       "Starting kmeans model training."
      ]
     },
     "metadata": {},
     "output_type": "display_data"
    },
    {
     "data": {
      "text/html": [
       "<pre>Assigning points to initial cluster centers.</pre>"
      ],
      "text/plain": [
       "Assigning points to initial cluster centers."
      ]
     },
     "metadata": {},
     "output_type": "display_data"
    },
    {
     "data": {
      "text/html": [
       "<pre>+-----------+-------------------------------+</pre>"
      ],
      "text/plain": [
       "+-----------+-------------------------------+"
      ]
     },
     "metadata": {},
     "output_type": "display_data"
    },
    {
     "data": {
      "text/html": [
       "<pre>| Iteration | Number of changed assignments |</pre>"
      ],
      "text/plain": [
       "| Iteration | Number of changed assignments |"
      ]
     },
     "metadata": {},
     "output_type": "display_data"
    },
    {
     "data": {
      "text/html": [
       "<pre>+-----------+-------------------------------+</pre>"
      ],
      "text/plain": [
       "+-----------+-------------------------------+"
      ]
     },
     "metadata": {},
     "output_type": "display_data"
    },
    {
     "data": {
      "text/html": [
       "<pre>| 1         | 0                             |</pre>"
      ],
      "text/plain": [
       "| 1         | 0                             |"
      ]
     },
     "metadata": {},
     "output_type": "display_data"
    },
    {
     "data": {
      "text/html": [
       "<pre>+-----------+-------------------------------+</pre>"
      ],
      "text/plain": [
       "+-----------+-------------------------------+"
      ]
     },
     "metadata": {},
     "output_type": "display_data"
    },
    {
     "data": {
      "text/html": [
       "<pre>Batch size is larger than the input dataset. Switching to an exact Kmeans method.</pre>"
      ],
      "text/plain": [
       "Batch size is larger than the input dataset. Switching to an exact Kmeans method."
      ]
     },
     "metadata": {},
     "output_type": "display_data"
    },
    {
     "data": {
      "text/html": [
       "<pre>Choosing initial cluster centers with Kmeans++.</pre>"
      ],
      "text/plain": [
       "Choosing initial cluster centers with Kmeans++."
      ]
     },
     "metadata": {},
     "output_type": "display_data"
    },
    {
     "data": {
      "text/html": [
       "<pre>+---------------+-----------+</pre>"
      ],
      "text/plain": [
       "+---------------+-----------+"
      ]
     },
     "metadata": {},
     "output_type": "display_data"
    },
    {
     "data": {
      "text/html": [
       "<pre>| Center number | Row index |</pre>"
      ],
      "text/plain": [
       "| Center number | Row index |"
      ]
     },
     "metadata": {},
     "output_type": "display_data"
    },
    {
     "data": {
      "text/html": [
       "<pre>+---------------+-----------+</pre>"
      ],
      "text/plain": [
       "+---------------+-----------+"
      ]
     },
     "metadata": {},
     "output_type": "display_data"
    },
    {
     "data": {
      "text/html": [
       "<pre>| 0             | 0         |</pre>"
      ],
      "text/plain": [
       "| 0             | 0         |"
      ]
     },
     "metadata": {},
     "output_type": "display_data"
    },
    {
     "data": {
      "text/html": [
       "<pre>| 1             | 31        |</pre>"
      ],
      "text/plain": [
       "| 1             | 31        |"
      ]
     },
     "metadata": {},
     "output_type": "display_data"
    },
    {
     "data": {
      "text/html": [
       "<pre>| 2             | 44        |</pre>"
      ],
      "text/plain": [
       "| 2             | 44        |"
      ]
     },
     "metadata": {},
     "output_type": "display_data"
    },
    {
     "data": {
      "text/html": [
       "<pre>| 3             | 4         |</pre>"
      ],
      "text/plain": [
       "| 3             | 4         |"
      ]
     },
     "metadata": {},
     "output_type": "display_data"
    },
    {
     "data": {
      "text/html": [
       "<pre>| 4             | 61        |</pre>"
      ],
      "text/plain": [
       "| 4             | 61        |"
      ]
     },
     "metadata": {},
     "output_type": "display_data"
    },
    {
     "data": {
      "text/html": [
       "<pre>| 5             | 34        |</pre>"
      ],
      "text/plain": [
       "| 5             | 34        |"
      ]
     },
     "metadata": {},
     "output_type": "display_data"
    },
    {
     "data": {
      "text/html": [
       "<pre>| 10            | 30        |</pre>"
      ],
      "text/plain": [
       "| 10            | 30        |"
      ]
     },
     "metadata": {},
     "output_type": "display_data"
    },
    {
     "data": {
      "text/html": [
       "<pre>| 50            | 9         |</pre>"
      ],
      "text/plain": [
       "| 50            | 9         |"
      ]
     },
     "metadata": {},
     "output_type": "display_data"
    },
    {
     "data": {
      "text/html": [
       "<pre>| 59            | 64        |</pre>"
      ],
      "text/plain": [
       "| 59            | 64        |"
      ]
     },
     "metadata": {},
     "output_type": "display_data"
    },
    {
     "data": {
      "text/html": [
       "<pre>+---------------+-----------+</pre>"
      ],
      "text/plain": [
       "+---------------+-----------+"
      ]
     },
     "metadata": {},
     "output_type": "display_data"
    },
    {
     "data": {
      "text/html": [
       "<pre>Starting kmeans model training.</pre>"
      ],
      "text/plain": [
       "Starting kmeans model training."
      ]
     },
     "metadata": {},
     "output_type": "display_data"
    },
    {
     "data": {
      "text/html": [
       "<pre>Assigning points to initial cluster centers.</pre>"
      ],
      "text/plain": [
       "Assigning points to initial cluster centers."
      ]
     },
     "metadata": {},
     "output_type": "display_data"
    },
    {
     "data": {
      "text/html": [
       "<pre>+-----------+-------------------------------+</pre>"
      ],
      "text/plain": [
       "+-----------+-------------------------------+"
      ]
     },
     "metadata": {},
     "output_type": "display_data"
    },
    {
     "data": {
      "text/html": [
       "<pre>| Iteration | Number of changed assignments |</pre>"
      ],
      "text/plain": [
       "| Iteration | Number of changed assignments |"
      ]
     },
     "metadata": {},
     "output_type": "display_data"
    },
    {
     "data": {
      "text/html": [
       "<pre>+-----------+-------------------------------+</pre>"
      ],
      "text/plain": [
       "+-----------+-------------------------------+"
      ]
     },
     "metadata": {},
     "output_type": "display_data"
    },
    {
     "data": {
      "text/html": [
       "<pre>| 1         | 0                             |</pre>"
      ],
      "text/plain": [
       "| 1         | 0                             |"
      ]
     },
     "metadata": {},
     "output_type": "display_data"
    },
    {
     "data": {
      "text/html": [
       "<pre>+-----------+-------------------------------+</pre>"
      ],
      "text/plain": [
       "+-----------+-------------------------------+"
      ]
     },
     "metadata": {},
     "output_type": "display_data"
    },
    {
     "data": {
      "text/html": [
       "<pre>Batch size is larger than the input dataset. Switching to an exact Kmeans method.</pre>"
      ],
      "text/plain": [
       "Batch size is larger than the input dataset. Switching to an exact Kmeans method."
      ]
     },
     "metadata": {},
     "output_type": "display_data"
    },
    {
     "data": {
      "text/html": [
       "<pre>Choosing initial cluster centers with Kmeans++.</pre>"
      ],
      "text/plain": [
       "Choosing initial cluster centers with Kmeans++."
      ]
     },
     "metadata": {},
     "output_type": "display_data"
    },
    {
     "data": {
      "text/html": [
       "<pre>+---------------+-----------+</pre>"
      ],
      "text/plain": [
       "+---------------+-----------+"
      ]
     },
     "metadata": {},
     "output_type": "display_data"
    },
    {
     "data": {
      "text/html": [
       "<pre>| Center number | Row index |</pre>"
      ],
      "text/plain": [
       "| Center number | Row index |"
      ]
     },
     "metadata": {},
     "output_type": "display_data"
    },
    {
     "data": {
      "text/html": [
       "<pre>+---------------+-----------+</pre>"
      ],
      "text/plain": [
       "+---------------+-----------+"
      ]
     },
     "metadata": {},
     "output_type": "display_data"
    },
    {
     "data": {
      "text/html": [
       "<pre>| 0             | 39        |</pre>"
      ],
      "text/plain": [
       "| 0             | 39        |"
      ]
     },
     "metadata": {},
     "output_type": "display_data"
    },
    {
     "data": {
      "text/html": [
       "<pre>| 1             | 23        |</pre>"
      ],
      "text/plain": [
       "| 1             | 23        |"
      ]
     },
     "metadata": {},
     "output_type": "display_data"
    },
    {
     "data": {
      "text/html": [
       "<pre>| 2             | 0         |</pre>"
      ],
      "text/plain": [
       "| 2             | 0         |"
      ]
     },
     "metadata": {},
     "output_type": "display_data"
    },
    {
     "data": {
      "text/html": [
       "<pre>| 3             | 64        |</pre>"
      ],
      "text/plain": [
       "| 3             | 64        |"
      ]
     },
     "metadata": {},
     "output_type": "display_data"
    },
    {
     "data": {
      "text/html": [
       "<pre>| 4             | 16        |</pre>"
      ],
      "text/plain": [
       "| 4             | 16        |"
      ]
     },
     "metadata": {},
     "output_type": "display_data"
    },
    {
     "data": {
      "text/html": [
       "<pre>| 5             | 63        |</pre>"
      ],
      "text/plain": [
       "| 5             | 63        |"
      ]
     },
     "metadata": {},
     "output_type": "display_data"
    },
    {
     "data": {
      "text/html": [
       "<pre>| 10            | 2         |</pre>"
      ],
      "text/plain": [
       "| 10            | 2         |"
      ]
     },
     "metadata": {},
     "output_type": "display_data"
    },
    {
     "data": {
      "text/html": [
       "<pre>| 50            | 57        |</pre>"
      ],
      "text/plain": [
       "| 50            | 57        |"
      ]
     },
     "metadata": {},
     "output_type": "display_data"
    },
    {
     "data": {
      "text/html": [
       "<pre>| 60            | 9         |</pre>"
      ],
      "text/plain": [
       "| 60            | 9         |"
      ]
     },
     "metadata": {},
     "output_type": "display_data"
    },
    {
     "data": {
      "text/html": [
       "<pre>+---------------+-----------+</pre>"
      ],
      "text/plain": [
       "+---------------+-----------+"
      ]
     },
     "metadata": {},
     "output_type": "display_data"
    },
    {
     "data": {
      "text/html": [
       "<pre>Starting kmeans model training.</pre>"
      ],
      "text/plain": [
       "Starting kmeans model training."
      ]
     },
     "metadata": {},
     "output_type": "display_data"
    },
    {
     "data": {
      "text/html": [
       "<pre>Assigning points to initial cluster centers.</pre>"
      ],
      "text/plain": [
       "Assigning points to initial cluster centers."
      ]
     },
     "metadata": {},
     "output_type": "display_data"
    },
    {
     "data": {
      "text/html": [
       "<pre>+-----------+-------------------------------+</pre>"
      ],
      "text/plain": [
       "+-----------+-------------------------------+"
      ]
     },
     "metadata": {},
     "output_type": "display_data"
    },
    {
     "data": {
      "text/html": [
       "<pre>| Iteration | Number of changed assignments |</pre>"
      ],
      "text/plain": [
       "| Iteration | Number of changed assignments |"
      ]
     },
     "metadata": {},
     "output_type": "display_data"
    },
    {
     "data": {
      "text/html": [
       "<pre>+-----------+-------------------------------+</pre>"
      ],
      "text/plain": [
       "+-----------+-------------------------------+"
      ]
     },
     "metadata": {},
     "output_type": "display_data"
    },
    {
     "data": {
      "text/html": [
       "<pre>| 1         | 0                             |</pre>"
      ],
      "text/plain": [
       "| 1         | 0                             |"
      ]
     },
     "metadata": {},
     "output_type": "display_data"
    },
    {
     "data": {
      "text/html": [
       "<pre>+-----------+-------------------------------+</pre>"
      ],
      "text/plain": [
       "+-----------+-------------------------------+"
      ]
     },
     "metadata": {},
     "output_type": "display_data"
    },
    {
     "data": {
      "text/html": [
       "<pre>Batch size is larger than the input dataset. Switching to an exact Kmeans method.</pre>"
      ],
      "text/plain": [
       "Batch size is larger than the input dataset. Switching to an exact Kmeans method."
      ]
     },
     "metadata": {},
     "output_type": "display_data"
    },
    {
     "data": {
      "text/html": [
       "<pre>Choosing initial cluster centers with Kmeans++.</pre>"
      ],
      "text/plain": [
       "Choosing initial cluster centers with Kmeans++."
      ]
     },
     "metadata": {},
     "output_type": "display_data"
    },
    {
     "data": {
      "text/html": [
       "<pre>+---------------+-----------+</pre>"
      ],
      "text/plain": [
       "+---------------+-----------+"
      ]
     },
     "metadata": {},
     "output_type": "display_data"
    },
    {
     "data": {
      "text/html": [
       "<pre>| Center number | Row index |</pre>"
      ],
      "text/plain": [
       "| Center number | Row index |"
      ]
     },
     "metadata": {},
     "output_type": "display_data"
    },
    {
     "data": {
      "text/html": [
       "<pre>+---------------+-----------+</pre>"
      ],
      "text/plain": [
       "+---------------+-----------+"
      ]
     },
     "metadata": {},
     "output_type": "display_data"
    },
    {
     "data": {
      "text/html": [
       "<pre>| 0             | 24        |</pre>"
      ],
      "text/plain": [
       "| 0             | 24        |"
      ]
     },
     "metadata": {},
     "output_type": "display_data"
    },
    {
     "data": {
      "text/html": [
       "<pre>| 1             | 50        |</pre>"
      ],
      "text/plain": [
       "| 1             | 50        |"
      ]
     },
     "metadata": {},
     "output_type": "display_data"
    },
    {
     "data": {
      "text/html": [
       "<pre>| 2             | 46        |</pre>"
      ],
      "text/plain": [
       "| 2             | 46        |"
      ]
     },
     "metadata": {},
     "output_type": "display_data"
    },
    {
     "data": {
      "text/html": [
       "<pre>| 3             | 19        |</pre>"
      ],
      "text/plain": [
       "| 3             | 19        |"
      ]
     },
     "metadata": {},
     "output_type": "display_data"
    },
    {
     "data": {
      "text/html": [
       "<pre>| 4             | 61        |</pre>"
      ],
      "text/plain": [
       "| 4             | 61        |"
      ]
     },
     "metadata": {},
     "output_type": "display_data"
    },
    {
     "data": {
      "text/html": [
       "<pre>| 5             | 48        |</pre>"
      ],
      "text/plain": [
       "| 5             | 48        |"
      ]
     },
     "metadata": {},
     "output_type": "display_data"
    },
    {
     "data": {
      "text/html": [
       "<pre>| 10            | 32        |</pre>"
      ],
      "text/plain": [
       "| 10            | 32        |"
      ]
     },
     "metadata": {},
     "output_type": "display_data"
    },
    {
     "data": {
      "text/html": [
       "<pre>| 50            | 12        |</pre>"
      ],
      "text/plain": [
       "| 50            | 12        |"
      ]
     },
     "metadata": {},
     "output_type": "display_data"
    },
    {
     "data": {
      "text/html": [
       "<pre>| 61            | 11        |</pre>"
      ],
      "text/plain": [
       "| 61            | 11        |"
      ]
     },
     "metadata": {},
     "output_type": "display_data"
    },
    {
     "data": {
      "text/html": [
       "<pre>+---------------+-----------+</pre>"
      ],
      "text/plain": [
       "+---------------+-----------+"
      ]
     },
     "metadata": {},
     "output_type": "display_data"
    },
    {
     "data": {
      "text/html": [
       "<pre>Starting kmeans model training.</pre>"
      ],
      "text/plain": [
       "Starting kmeans model training."
      ]
     },
     "metadata": {},
     "output_type": "display_data"
    },
    {
     "data": {
      "text/html": [
       "<pre>Assigning points to initial cluster centers.</pre>"
      ],
      "text/plain": [
       "Assigning points to initial cluster centers."
      ]
     },
     "metadata": {},
     "output_type": "display_data"
    },
    {
     "data": {
      "text/html": [
       "<pre>+-----------+-------------------------------+</pre>"
      ],
      "text/plain": [
       "+-----------+-------------------------------+"
      ]
     },
     "metadata": {},
     "output_type": "display_data"
    },
    {
     "data": {
      "text/html": [
       "<pre>| Iteration | Number of changed assignments |</pre>"
      ],
      "text/plain": [
       "| Iteration | Number of changed assignments |"
      ]
     },
     "metadata": {},
     "output_type": "display_data"
    },
    {
     "data": {
      "text/html": [
       "<pre>+-----------+-------------------------------+</pre>"
      ],
      "text/plain": [
       "+-----------+-------------------------------+"
      ]
     },
     "metadata": {},
     "output_type": "display_data"
    },
    {
     "data": {
      "text/html": [
       "<pre>| 1         | 0                             |</pre>"
      ],
      "text/plain": [
       "| 1         | 0                             |"
      ]
     },
     "metadata": {},
     "output_type": "display_data"
    },
    {
     "data": {
      "text/html": [
       "<pre>+-----------+-------------------------------+</pre>"
      ],
      "text/plain": [
       "+-----------+-------------------------------+"
      ]
     },
     "metadata": {},
     "output_type": "display_data"
    },
    {
     "data": {
      "text/html": [
       "<pre>Batch size is larger than the input dataset. Switching to an exact Kmeans method.</pre>"
      ],
      "text/plain": [
       "Batch size is larger than the input dataset. Switching to an exact Kmeans method."
      ]
     },
     "metadata": {},
     "output_type": "display_data"
    },
    {
     "data": {
      "text/html": [
       "<pre>Choosing initial cluster centers with Kmeans++.</pre>"
      ],
      "text/plain": [
       "Choosing initial cluster centers with Kmeans++."
      ]
     },
     "metadata": {},
     "output_type": "display_data"
    },
    {
     "data": {
      "text/html": [
       "<pre>+---------------+-----------+</pre>"
      ],
      "text/plain": [
       "+---------------+-----------+"
      ]
     },
     "metadata": {},
     "output_type": "display_data"
    },
    {
     "data": {
      "text/html": [
       "<pre>| Center number | Row index |</pre>"
      ],
      "text/plain": [
       "| Center number | Row index |"
      ]
     },
     "metadata": {},
     "output_type": "display_data"
    },
    {
     "data": {
      "text/html": [
       "<pre>+---------------+-----------+</pre>"
      ],
      "text/plain": [
       "+---------------+-----------+"
      ]
     },
     "metadata": {},
     "output_type": "display_data"
    },
    {
     "data": {
      "text/html": [
       "<pre>| 0             | 43        |</pre>"
      ],
      "text/plain": [
       "| 0             | 43        |"
      ]
     },
     "metadata": {},
     "output_type": "display_data"
    },
    {
     "data": {
      "text/html": [
       "<pre>| 1             | 61        |</pre>"
      ],
      "text/plain": [
       "| 1             | 61        |"
      ]
     },
     "metadata": {},
     "output_type": "display_data"
    },
    {
     "data": {
      "text/html": [
       "<pre>| 2             | 1         |</pre>"
      ],
      "text/plain": [
       "| 2             | 1         |"
      ]
     },
     "metadata": {},
     "output_type": "display_data"
    },
    {
     "data": {
      "text/html": [
       "<pre>| 3             | 46        |</pre>"
      ],
      "text/plain": [
       "| 3             | 46        |"
      ]
     },
     "metadata": {},
     "output_type": "display_data"
    },
    {
     "data": {
      "text/html": [
       "<pre>| 4             | 42        |</pre>"
      ],
      "text/plain": [
       "| 4             | 42        |"
      ]
     },
     "metadata": {},
     "output_type": "display_data"
    },
    {
     "data": {
      "text/html": [
       "<pre>| 5             | 20        |</pre>"
      ],
      "text/plain": [
       "| 5             | 20        |"
      ]
     },
     "metadata": {},
     "output_type": "display_data"
    },
    {
     "data": {
      "text/html": [
       "<pre>| 10            | 54        |</pre>"
      ],
      "text/plain": [
       "| 10            | 54        |"
      ]
     },
     "metadata": {},
     "output_type": "display_data"
    },
    {
     "data": {
      "text/html": [
       "<pre>| 50            | 52        |</pre>"
      ],
      "text/plain": [
       "| 50            | 52        |"
      ]
     },
     "metadata": {},
     "output_type": "display_data"
    },
    {
     "data": {
      "text/html": [
       "<pre>| 62            | 19        |</pre>"
      ],
      "text/plain": [
       "| 62            | 19        |"
      ]
     },
     "metadata": {},
     "output_type": "display_data"
    },
    {
     "data": {
      "text/html": [
       "<pre>+---------------+-----------+</pre>"
      ],
      "text/plain": [
       "+---------------+-----------+"
      ]
     },
     "metadata": {},
     "output_type": "display_data"
    },
    {
     "data": {
      "text/html": [
       "<pre>Starting kmeans model training.</pre>"
      ],
      "text/plain": [
       "Starting kmeans model training."
      ]
     },
     "metadata": {},
     "output_type": "display_data"
    },
    {
     "data": {
      "text/html": [
       "<pre>Assigning points to initial cluster centers.</pre>"
      ],
      "text/plain": [
       "Assigning points to initial cluster centers."
      ]
     },
     "metadata": {},
     "output_type": "display_data"
    },
    {
     "data": {
      "text/html": [
       "<pre>+-----------+-------------------------------+</pre>"
      ],
      "text/plain": [
       "+-----------+-------------------------------+"
      ]
     },
     "metadata": {},
     "output_type": "display_data"
    },
    {
     "data": {
      "text/html": [
       "<pre>| Iteration | Number of changed assignments |</pre>"
      ],
      "text/plain": [
       "| Iteration | Number of changed assignments |"
      ]
     },
     "metadata": {},
     "output_type": "display_data"
    },
    {
     "data": {
      "text/html": [
       "<pre>+-----------+-------------------------------+</pre>"
      ],
      "text/plain": [
       "+-----------+-------------------------------+"
      ]
     },
     "metadata": {},
     "output_type": "display_data"
    },
    {
     "data": {
      "text/html": [
       "<pre>| 1         | 0                             |</pre>"
      ],
      "text/plain": [
       "| 1         | 0                             |"
      ]
     },
     "metadata": {},
     "output_type": "display_data"
    },
    {
     "data": {
      "text/html": [
       "<pre>+-----------+-------------------------------+</pre>"
      ],
      "text/plain": [
       "+-----------+-------------------------------+"
      ]
     },
     "metadata": {},
     "output_type": "display_data"
    },
    {
     "data": {
      "text/html": [
       "<pre>Batch size is larger than the input dataset. Switching to an exact Kmeans method.</pre>"
      ],
      "text/plain": [
       "Batch size is larger than the input dataset. Switching to an exact Kmeans method."
      ]
     },
     "metadata": {},
     "output_type": "display_data"
    },
    {
     "data": {
      "text/html": [
       "<pre>Choosing initial cluster centers with Kmeans++.</pre>"
      ],
      "text/plain": [
       "Choosing initial cluster centers with Kmeans++."
      ]
     },
     "metadata": {},
     "output_type": "display_data"
    },
    {
     "data": {
      "text/html": [
       "<pre>+---------------+-----------+</pre>"
      ],
      "text/plain": [
       "+---------------+-----------+"
      ]
     },
     "metadata": {},
     "output_type": "display_data"
    },
    {
     "data": {
      "text/html": [
       "<pre>| Center number | Row index |</pre>"
      ],
      "text/plain": [
       "| Center number | Row index |"
      ]
     },
     "metadata": {},
     "output_type": "display_data"
    },
    {
     "data": {
      "text/html": [
       "<pre>+---------------+-----------+</pre>"
      ],
      "text/plain": [
       "+---------------+-----------+"
      ]
     },
     "metadata": {},
     "output_type": "display_data"
    },
    {
     "data": {
      "text/html": [
       "<pre>| 0             | 58        |</pre>"
      ],
      "text/plain": [
       "| 0             | 58        |"
      ]
     },
     "metadata": {},
     "output_type": "display_data"
    },
    {
     "data": {
      "text/html": [
       "<pre>| 1             | 51        |</pre>"
      ],
      "text/plain": [
       "| 1             | 51        |"
      ]
     },
     "metadata": {},
     "output_type": "display_data"
    },
    {
     "data": {
      "text/html": [
       "<pre>| 2             | 62        |</pre>"
      ],
      "text/plain": [
       "| 2             | 62        |"
      ]
     },
     "metadata": {},
     "output_type": "display_data"
    },
    {
     "data": {
      "text/html": [
       "<pre>| 3             | 63        |</pre>"
      ],
      "text/plain": [
       "| 3             | 63        |"
      ]
     },
     "metadata": {},
     "output_type": "display_data"
    },
    {
     "data": {
      "text/html": [
       "<pre>| 4             | 32        |</pre>"
      ],
      "text/plain": [
       "| 4             | 32        |"
      ]
     },
     "metadata": {},
     "output_type": "display_data"
    },
    {
     "data": {
      "text/html": [
       "<pre>| 5             | 59        |</pre>"
      ],
      "text/plain": [
       "| 5             | 59        |"
      ]
     },
     "metadata": {},
     "output_type": "display_data"
    },
    {
     "data": {
      "text/html": [
       "<pre>| 10            | 18        |</pre>"
      ],
      "text/plain": [
       "| 10            | 18        |"
      ]
     },
     "metadata": {},
     "output_type": "display_data"
    },
    {
     "data": {
      "text/html": [
       "<pre>| 50            | 28        |</pre>"
      ],
      "text/plain": [
       "| 50            | 28        |"
      ]
     },
     "metadata": {},
     "output_type": "display_data"
    },
    {
     "data": {
      "text/html": [
       "<pre>| 63            | 38        |</pre>"
      ],
      "text/plain": [
       "| 63            | 38        |"
      ]
     },
     "metadata": {},
     "output_type": "display_data"
    },
    {
     "data": {
      "text/html": [
       "<pre>+---------------+-----------+</pre>"
      ],
      "text/plain": [
       "+---------------+-----------+"
      ]
     },
     "metadata": {},
     "output_type": "display_data"
    },
    {
     "data": {
      "text/html": [
       "<pre>Starting kmeans model training.</pre>"
      ],
      "text/plain": [
       "Starting kmeans model training."
      ]
     },
     "metadata": {},
     "output_type": "display_data"
    },
    {
     "data": {
      "text/html": [
       "<pre>Assigning points to initial cluster centers.</pre>"
      ],
      "text/plain": [
       "Assigning points to initial cluster centers."
      ]
     },
     "metadata": {},
     "output_type": "display_data"
    },
    {
     "data": {
      "text/html": [
       "<pre>+-----------+-------------------------------+</pre>"
      ],
      "text/plain": [
       "+-----------+-------------------------------+"
      ]
     },
     "metadata": {},
     "output_type": "display_data"
    },
    {
     "data": {
      "text/html": [
       "<pre>| Iteration | Number of changed assignments |</pre>"
      ],
      "text/plain": [
       "| Iteration | Number of changed assignments |"
      ]
     },
     "metadata": {},
     "output_type": "display_data"
    },
    {
     "data": {
      "text/html": [
       "<pre>+-----------+-------------------------------+</pre>"
      ],
      "text/plain": [
       "+-----------+-------------------------------+"
      ]
     },
     "metadata": {},
     "output_type": "display_data"
    },
    {
     "data": {
      "text/html": [
       "<pre>| 1         | 0                             |</pre>"
      ],
      "text/plain": [
       "| 1         | 0                             |"
      ]
     },
     "metadata": {},
     "output_type": "display_data"
    },
    {
     "data": {
      "text/html": [
       "<pre>+-----------+-------------------------------+</pre>"
      ],
      "text/plain": [
       "+-----------+-------------------------------+"
      ]
     },
     "metadata": {},
     "output_type": "display_data"
    },
    {
     "data": {
      "text/html": [
       "<pre>Batch size is larger than the input dataset. Switching to an exact Kmeans method.</pre>"
      ],
      "text/plain": [
       "Batch size is larger than the input dataset. Switching to an exact Kmeans method."
      ]
     },
     "metadata": {},
     "output_type": "display_data"
    },
    {
     "data": {
      "text/html": [
       "<pre>Choosing initial cluster centers with Kmeans++.</pre>"
      ],
      "text/plain": [
       "Choosing initial cluster centers with Kmeans++."
      ]
     },
     "metadata": {},
     "output_type": "display_data"
    },
    {
     "data": {
      "text/html": [
       "<pre>+---------------+-----------+</pre>"
      ],
      "text/plain": [
       "+---------------+-----------+"
      ]
     },
     "metadata": {},
     "output_type": "display_data"
    },
    {
     "data": {
      "text/html": [
       "<pre>| Center number | Row index |</pre>"
      ],
      "text/plain": [
       "| Center number | Row index |"
      ]
     },
     "metadata": {},
     "output_type": "display_data"
    },
    {
     "data": {
      "text/html": [
       "<pre>+---------------+-----------+</pre>"
      ],
      "text/plain": [
       "+---------------+-----------+"
      ]
     },
     "metadata": {},
     "output_type": "display_data"
    },
    {
     "data": {
      "text/html": [
       "<pre>| 0             | 31        |</pre>"
      ],
      "text/plain": [
       "| 0             | 31        |"
      ]
     },
     "metadata": {},
     "output_type": "display_data"
    },
    {
     "data": {
      "text/html": [
       "<pre>| 1             | 38        |</pre>"
      ],
      "text/plain": [
       "| 1             | 38        |"
      ]
     },
     "metadata": {},
     "output_type": "display_data"
    },
    {
     "data": {
      "text/html": [
       "<pre>| 2             | 57        |</pre>"
      ],
      "text/plain": [
       "| 2             | 57        |"
      ]
     },
     "metadata": {},
     "output_type": "display_data"
    },
    {
     "data": {
      "text/html": [
       "<pre>| 3             | 56        |</pre>"
      ],
      "text/plain": [
       "| 3             | 56        |"
      ]
     },
     "metadata": {},
     "output_type": "display_data"
    },
    {
     "data": {
      "text/html": [
       "<pre>| 4             | 34        |</pre>"
      ],
      "text/plain": [
       "| 4             | 34        |"
      ]
     },
     "metadata": {},
     "output_type": "display_data"
    },
    {
     "data": {
      "text/html": [
       "<pre>| 5             | 54        |</pre>"
      ],
      "text/plain": [
       "| 5             | 54        |"
      ]
     },
     "metadata": {},
     "output_type": "display_data"
    },
    {
     "data": {
      "text/html": [
       "<pre>| 10            | 63        |</pre>"
      ],
      "text/plain": [
       "| 10            | 63        |"
      ]
     },
     "metadata": {},
     "output_type": "display_data"
    },
    {
     "data": {
      "text/html": [
       "<pre>| 50            | 51        |</pre>"
      ],
      "text/plain": [
       "| 50            | 51        |"
      ]
     },
     "metadata": {},
     "output_type": "display_data"
    },
    {
     "data": {
      "text/html": [
       "<pre>| 64            | 55        |</pre>"
      ],
      "text/plain": [
       "| 64            | 55        |"
      ]
     },
     "metadata": {},
     "output_type": "display_data"
    },
    {
     "data": {
      "text/html": [
       "<pre>+---------------+-----------+</pre>"
      ],
      "text/plain": [
       "+---------------+-----------+"
      ]
     },
     "metadata": {},
     "output_type": "display_data"
    },
    {
     "data": {
      "text/html": [
       "<pre>Starting kmeans model training.</pre>"
      ],
      "text/plain": [
       "Starting kmeans model training."
      ]
     },
     "metadata": {},
     "output_type": "display_data"
    },
    {
     "data": {
      "text/html": [
       "<pre>Assigning points to initial cluster centers.</pre>"
      ],
      "text/plain": [
       "Assigning points to initial cluster centers."
      ]
     },
     "metadata": {},
     "output_type": "display_data"
    },
    {
     "data": {
      "text/html": [
       "<pre>+-----------+-------------------------------+</pre>"
      ],
      "text/plain": [
       "+-----------+-------------------------------+"
      ]
     },
     "metadata": {},
     "output_type": "display_data"
    },
    {
     "data": {
      "text/html": [
       "<pre>| Iteration | Number of changed assignments |</pre>"
      ],
      "text/plain": [
       "| Iteration | Number of changed assignments |"
      ]
     },
     "metadata": {},
     "output_type": "display_data"
    },
    {
     "data": {
      "text/html": [
       "<pre>+-----------+-------------------------------+</pre>"
      ],
      "text/plain": [
       "+-----------+-------------------------------+"
      ]
     },
     "metadata": {},
     "output_type": "display_data"
    },
    {
     "data": {
      "text/html": [
       "<pre>| 1         | 0                             |</pre>"
      ],
      "text/plain": [
       "| 1         | 0                             |"
      ]
     },
     "metadata": {},
     "output_type": "display_data"
    },
    {
     "data": {
      "text/html": [
       "<pre>+-----------+-------------------------------+</pre>"
      ],
      "text/plain": [
       "+-----------+-------------------------------+"
      ]
     },
     "metadata": {},
     "output_type": "display_data"
    },
    {
     "data": {
      "text/html": [
       "<pre>Batch size is larger than the input dataset. Switching to an exact Kmeans method.</pre>"
      ],
      "text/plain": [
       "Batch size is larger than the input dataset. Switching to an exact Kmeans method."
      ]
     },
     "metadata": {},
     "output_type": "display_data"
    },
    {
     "data": {
      "text/html": [
       "<pre>Choosing initial cluster centers with Kmeans++.</pre>"
      ],
      "text/plain": [
       "Choosing initial cluster centers with Kmeans++."
      ]
     },
     "metadata": {},
     "output_type": "display_data"
    },
    {
     "data": {
      "text/html": [
       "<pre>+---------------+-----------+</pre>"
      ],
      "text/plain": [
       "+---------------+-----------+"
      ]
     },
     "metadata": {},
     "output_type": "display_data"
    },
    {
     "data": {
      "text/html": [
       "<pre>| Center number | Row index |</pre>"
      ],
      "text/plain": [
       "| Center number | Row index |"
      ]
     },
     "metadata": {},
     "output_type": "display_data"
    },
    {
     "data": {
      "text/html": [
       "<pre>+---------------+-----------+</pre>"
      ],
      "text/plain": [
       "+---------------+-----------+"
      ]
     },
     "metadata": {},
     "output_type": "display_data"
    },
    {
     "data": {
      "text/html": [
       "<pre>| 0             | 65        |</pre>"
      ],
      "text/plain": [
       "| 0             | 65        |"
      ]
     },
     "metadata": {},
     "output_type": "display_data"
    },
    {
     "data": {
      "text/html": [
       "<pre>| 1             | 44        |</pre>"
      ],
      "text/plain": [
       "| 1             | 44        |"
      ]
     },
     "metadata": {},
     "output_type": "display_data"
    },
    {
     "data": {
      "text/html": [
       "<pre>| 2             | 46        |</pre>"
      ],
      "text/plain": [
       "| 2             | 46        |"
      ]
     },
     "metadata": {},
     "output_type": "display_data"
    },
    {
     "data": {
      "text/html": [
       "<pre>| 3             | 9         |</pre>"
      ],
      "text/plain": [
       "| 3             | 9         |"
      ]
     },
     "metadata": {},
     "output_type": "display_data"
    },
    {
     "data": {
      "text/html": [
       "<pre>| 4             | 24        |</pre>"
      ],
      "text/plain": [
       "| 4             | 24        |"
      ]
     },
     "metadata": {},
     "output_type": "display_data"
    },
    {
     "data": {
      "text/html": [
       "<pre>| 5             | 16        |</pre>"
      ],
      "text/plain": [
       "| 5             | 16        |"
      ]
     },
     "metadata": {},
     "output_type": "display_data"
    },
    {
     "data": {
      "text/html": [
       "<pre>| 10            | 14        |</pre>"
      ],
      "text/plain": [
       "| 10            | 14        |"
      ]
     },
     "metadata": {},
     "output_type": "display_data"
    },
    {
     "data": {
      "text/html": [
       "<pre>| 50            | 62        |</pre>"
      ],
      "text/plain": [
       "| 50            | 62        |"
      ]
     },
     "metadata": {},
     "output_type": "display_data"
    },
    {
     "data": {
      "text/html": [
       "<pre>| 65            | 28        |</pre>"
      ],
      "text/plain": [
       "| 65            | 28        |"
      ]
     },
     "metadata": {},
     "output_type": "display_data"
    },
    {
     "data": {
      "text/html": [
       "<pre>+---------------+-----------+</pre>"
      ],
      "text/plain": [
       "+---------------+-----------+"
      ]
     },
     "metadata": {},
     "output_type": "display_data"
    },
    {
     "data": {
      "text/html": [
       "<pre>Starting kmeans model training.</pre>"
      ],
      "text/plain": [
       "Starting kmeans model training."
      ]
     },
     "metadata": {},
     "output_type": "display_data"
    },
    {
     "data": {
      "text/html": [
       "<pre>Assigning points to initial cluster centers.</pre>"
      ],
      "text/plain": [
       "Assigning points to initial cluster centers."
      ]
     },
     "metadata": {},
     "output_type": "display_data"
    },
    {
     "data": {
      "text/html": [
       "<pre>+-----------+-------------------------------+</pre>"
      ],
      "text/plain": [
       "+-----------+-------------------------------+"
      ]
     },
     "metadata": {},
     "output_type": "display_data"
    },
    {
     "data": {
      "text/html": [
       "<pre>| Iteration | Number of changed assignments |</pre>"
      ],
      "text/plain": [
       "| Iteration | Number of changed assignments |"
      ]
     },
     "metadata": {},
     "output_type": "display_data"
    },
    {
     "data": {
      "text/html": [
       "<pre>+-----------+-------------------------------+</pre>"
      ],
      "text/plain": [
       "+-----------+-------------------------------+"
      ]
     },
     "metadata": {},
     "output_type": "display_data"
    },
    {
     "data": {
      "text/html": [
       "<pre>| 1         | 0                             |</pre>"
      ],
      "text/plain": [
       "| 1         | 0                             |"
      ]
     },
     "metadata": {},
     "output_type": "display_data"
    },
    {
     "data": {
      "text/html": [
       "<pre>+-----------+-------------------------------+</pre>"
      ],
      "text/plain": [
       "+-----------+-------------------------------+"
      ]
     },
     "metadata": {},
     "output_type": "display_data"
    },
    {
     "data": {
      "text/html": [
       "<pre>Batch size is larger than the input dataset. Switching to an exact Kmeans method.</pre>"
      ],
      "text/plain": [
       "Batch size is larger than the input dataset. Switching to an exact Kmeans method."
      ]
     },
     "metadata": {},
     "output_type": "display_data"
    },
    {
     "data": {
      "text/html": [
       "<pre>Choosing initial cluster centers with Kmeans++.</pre>"
      ],
      "text/plain": [
       "Choosing initial cluster centers with Kmeans++."
      ]
     },
     "metadata": {},
     "output_type": "display_data"
    },
    {
     "data": {
      "text/html": [
       "<pre>+---------------+-----------+</pre>"
      ],
      "text/plain": [
       "+---------------+-----------+"
      ]
     },
     "metadata": {},
     "output_type": "display_data"
    },
    {
     "data": {
      "text/html": [
       "<pre>| Center number | Row index |</pre>"
      ],
      "text/plain": [
       "| Center number | Row index |"
      ]
     },
     "metadata": {},
     "output_type": "display_data"
    },
    {
     "data": {
      "text/html": [
       "<pre>+---------------+-----------+</pre>"
      ],
      "text/plain": [
       "+---------------+-----------+"
      ]
     },
     "metadata": {},
     "output_type": "display_data"
    },
    {
     "data": {
      "text/html": [
       "<pre>| 0             | 18        |</pre>"
      ],
      "text/plain": [
       "| 0             | 18        |"
      ]
     },
     "metadata": {},
     "output_type": "display_data"
    },
    {
     "data": {
      "text/html": [
       "<pre>| 1             | 30        |</pre>"
      ],
      "text/plain": [
       "| 1             | 30        |"
      ]
     },
     "metadata": {},
     "output_type": "display_data"
    },
    {
     "data": {
      "text/html": [
       "<pre>| 2             | 36        |</pre>"
      ],
      "text/plain": [
       "| 2             | 36        |"
      ]
     },
     "metadata": {},
     "output_type": "display_data"
    },
    {
     "data": {
      "text/html": [
       "<pre>| 3             | 61        |</pre>"
      ],
      "text/plain": [
       "| 3             | 61        |"
      ]
     },
     "metadata": {},
     "output_type": "display_data"
    },
    {
     "data": {
      "text/html": [
       "<pre>| 4             | 34        |</pre>"
      ],
      "text/plain": [
       "| 4             | 34        |"
      ]
     },
     "metadata": {},
     "output_type": "display_data"
    },
    {
     "data": {
      "text/html": [
       "<pre>| 5             | 16        |</pre>"
      ],
      "text/plain": [
       "| 5             | 16        |"
      ]
     },
     "metadata": {},
     "output_type": "display_data"
    },
    {
     "data": {
      "text/html": [
       "<pre>| 10            | 33        |</pre>"
      ],
      "text/plain": [
       "| 10            | 33        |"
      ]
     },
     "metadata": {},
     "output_type": "display_data"
    },
    {
     "data": {
      "text/html": [
       "<pre>| 50            | 22        |</pre>"
      ],
      "text/plain": [
       "| 50            | 22        |"
      ]
     },
     "metadata": {},
     "output_type": "display_data"
    },
    {
     "data": {
      "text/html": [
       "<pre>| 66            | 23        |</pre>"
      ],
      "text/plain": [
       "| 66            | 23        |"
      ]
     },
     "metadata": {},
     "output_type": "display_data"
    },
    {
     "data": {
      "text/html": [
       "<pre>+---------------+-----------+</pre>"
      ],
      "text/plain": [
       "+---------------+-----------+"
      ]
     },
     "metadata": {},
     "output_type": "display_data"
    },
    {
     "data": {
      "text/html": [
       "<pre>Starting kmeans model training.</pre>"
      ],
      "text/plain": [
       "Starting kmeans model training."
      ]
     },
     "metadata": {},
     "output_type": "display_data"
    },
    {
     "data": {
      "text/html": [
       "<pre>Assigning points to initial cluster centers.</pre>"
      ],
      "text/plain": [
       "Assigning points to initial cluster centers."
      ]
     },
     "metadata": {},
     "output_type": "display_data"
    },
    {
     "data": {
      "text/html": [
       "<pre>+-----------+-------------------------------+</pre>"
      ],
      "text/plain": [
       "+-----------+-------------------------------+"
      ]
     },
     "metadata": {},
     "output_type": "display_data"
    },
    {
     "data": {
      "text/html": [
       "<pre>| Iteration | Number of changed assignments |</pre>"
      ],
      "text/plain": [
       "| Iteration | Number of changed assignments |"
      ]
     },
     "metadata": {},
     "output_type": "display_data"
    },
    {
     "data": {
      "text/html": [
       "<pre>+-----------+-------------------------------+</pre>"
      ],
      "text/plain": [
       "+-----------+-------------------------------+"
      ]
     },
     "metadata": {},
     "output_type": "display_data"
    },
    {
     "data": {
      "text/html": [
       "<pre>| 1         | 0                             |</pre>"
      ],
      "text/plain": [
       "| 1         | 0                             |"
      ]
     },
     "metadata": {},
     "output_type": "display_data"
    },
    {
     "data": {
      "text/html": [
       "<pre>+-----------+-------------------------------+</pre>"
      ],
      "text/plain": [
       "+-----------+-------------------------------+"
      ]
     },
     "metadata": {},
     "output_type": "display_data"
    }
   ],
   "source": [
    "sses = []\n",
    "for k in range(1, len(summary)):\n",
    "    model = turicreate.kmeans.create(summary, features=['tfidf'], num_clusters=k)\n",
    "    sses.append(sum(model.cluster_info['sum_squared_distance']))"
   ]
  },
  {
   "cell_type": "code",
   "execution_count": 39,
   "metadata": {},
   "outputs": [],
   "source": [
    "from matplotlib import pyplot as plt"
   ]
  },
  {
   "cell_type": "code",
   "execution_count": 40,
   "metadata": {},
   "outputs": [
    {
     "data": {
      "text/plain": [
       "[<matplotlib.lines.Line2D at 0x7f4822d17610>]"
      ]
     },
     "execution_count": 40,
     "metadata": {},
     "output_type": "execute_result"
    },
    {
     "data": {
      "image/png": "[encoded data removed]",
      "text/plain": [
       "<Figure size 432x288 with 1 Axes>"
      ]
     },
     "metadata": {
      "needs_background": "light"
     },
     "output_type": "display_data"
    }
   ],
   "source": [
    "fig = plt.figure()\n",
    "ax = fig.add_axes([0, 0, 1, 1])\n",
    "ax.plot(range(len(sses)),sses)"
   ]
  },
  {
   "cell_type": "markdown",
   "metadata": {},
   "source": [
    "### Manually choose k, perform K-Means clustering"
   ]
  },
  {
   "cell_type": "code",
   "execution_count": 55,
   "metadata": {},
   "outputs": [
    {
     "data": {
      "text/html": [
       "<pre>Batch size is larger than the input dataset. Switching to an exact Kmeans method.</pre>"
      ],
      "text/plain": [
       "Batch size is larger than the input dataset. Switching to an exact Kmeans method."
      ]
     },
     "metadata": {},
     "output_type": "display_data"
    },
    {
     "data": {
      "text/html": [
       "<pre>Choosing initial cluster centers with Kmeans++.</pre>"
      ],
      "text/plain": [
       "Choosing initial cluster centers with Kmeans++."
      ]
     },
     "metadata": {},
     "output_type": "display_data"
    },
    {
     "data": {
      "text/html": [
       "<pre>+---------------+-----------+</pre>"
      ],
      "text/plain": [
       "+---------------+-----------+"
      ]
     },
     "metadata": {},
     "output_type": "display_data"
    },
    {
     "data": {
      "text/html": [
       "<pre>| Center number | Row index |</pre>"
      ],
      "text/plain": [
       "| Center number | Row index |"
      ]
     },
     "metadata": {},
     "output_type": "display_data"
    },
    {
     "data": {
      "text/html": [
       "<pre>+---------------+-----------+</pre>"
      ],
      "text/plain": [
       "+---------------+-----------+"
      ]
     },
     "metadata": {},
     "output_type": "display_data"
    },
    {
     "data": {
      "text/html": [
       "<pre>| 0             | 62        |</pre>"
      ],
      "text/plain": [
       "| 0             | 62        |"
      ]
     },
     "metadata": {},
     "output_type": "display_data"
    },
    {
     "data": {
      "text/html": [
       "<pre>| 1             | 45        |</pre>"
      ],
      "text/plain": [
       "| 1             | 45        |"
      ]
     },
     "metadata": {},
     "output_type": "display_data"
    },
    {
     "data": {
      "text/html": [
       "<pre>| 2             | 55        |</pre>"
      ],
      "text/plain": [
       "| 2             | 55        |"
      ]
     },
     "metadata": {},
     "output_type": "display_data"
    },
    {
     "data": {
      "text/html": [
       "<pre>| 3             | 63        |</pre>"
      ],
      "text/plain": [
       "| 3             | 63        |"
      ]
     },
     "metadata": {},
     "output_type": "display_data"
    },
    {
     "data": {
      "text/html": [
       "<pre>| 4             | 24        |</pre>"
      ],
      "text/plain": [
       "| 4             | 24        |"
      ]
     },
     "metadata": {},
     "output_type": "display_data"
    },
    {
     "data": {
      "text/html": [
       "<pre>| 5             | 44        |</pre>"
      ],
      "text/plain": [
       "| 5             | 44        |"
      ]
     },
     "metadata": {},
     "output_type": "display_data"
    },
    {
     "data": {
      "text/html": [
       "<pre>| 10            | 10        |</pre>"
      ],
      "text/plain": [
       "| 10            | 10        |"
      ]
     },
     "metadata": {},
     "output_type": "display_data"
    },
    {
     "data": {
      "text/html": [
       "<pre>| 14            | 39        |</pre>"
      ],
      "text/plain": [
       "| 14            | 39        |"
      ]
     },
     "metadata": {},
     "output_type": "display_data"
    },
    {
     "data": {
      "text/html": [
       "<pre>+---------------+-----------+</pre>"
      ],
      "text/plain": [
       "+---------------+-----------+"
      ]
     },
     "metadata": {},
     "output_type": "display_data"
    },
    {
     "data": {
      "text/html": [
       "<pre>Starting kmeans model training.</pre>"
      ],
      "text/plain": [
       "Starting kmeans model training."
      ]
     },
     "metadata": {},
     "output_type": "display_data"
    },
    {
     "data": {
      "text/html": [
       "<pre>Assigning points to initial cluster centers.</pre>"
      ],
      "text/plain": [
       "Assigning points to initial cluster centers."
      ]
     },
     "metadata": {},
     "output_type": "display_data"
    },
    {
     "data": {
      "text/html": [
       "<pre>+-----------+-------------------------------+</pre>"
      ],
      "text/plain": [
       "+-----------+-------------------------------+"
      ]
     },
     "metadata": {},
     "output_type": "display_data"
    },
    {
     "data": {
      "text/html": [
       "<pre>| Iteration | Number of changed assignments |</pre>"
      ],
      "text/plain": [
       "| Iteration | Number of changed assignments |"
      ]
     },
     "metadata": {},
     "output_type": "display_data"
    },
    {
     "data": {
      "text/html": [
       "<pre>+-----------+-------------------------------+</pre>"
      ],
      "text/plain": [
       "+-----------+-------------------------------+"
      ]
     },
     "metadata": {},
     "output_type": "display_data"
    },
    {
     "data": {
      "text/html": [
       "<pre>| 1         | 0                             |</pre>"
      ],
      "text/plain": [
       "| 1         | 0                             |"
      ]
     },
     "metadata": {},
     "output_type": "display_data"
    },
    {
     "data": {
      "text/html": [
       "<pre>+-----------+-------------------------------+</pre>"
      ],
      "text/plain": [
       "+-----------+-------------------------------+"
      ]
     },
     "metadata": {},
     "output_type": "display_data"
    }
   ],
   "source": [
    "k = 15\n",
    "kmeans_model = turicreate.kmeans.create(summary, features=['tfidf'], num_clusters=k)"
   ]
  },
  {
   "cell_type": "code",
   "execution_count": 56,
   "metadata": {},
   "outputs": [
    {
     "name": "stdout",
     "output_type": "stream",
     "text": [
      "+-------------------------------+------------+------+----------------------+\n",
      "|             tfidf             | cluster_id | size | sum_squared_distance |\n",
      "+-------------------------------+------------+------+----------------------+\n",
      "| {'a': 2.3052365861183235, ... |     0      |  1   |         0.0          |\n",
      "| {'a': 0.11526182930591618,... |     1      |  2   |  769.5118408203125   |\n",
      "| {'a': 0.6698234608721167, ... |     2      |  53  |  146310.2216644287   |\n",
      "| {'a': 0.9220946344473294, ... |     3      |  1   |         0.0          |\n",
      "| {'a': 1.1526182930591617, ... |     4      |  1   |         0.0          |\n",
      "| {'a': 3.4578548791774852, ... |     5      |  1   |         0.0          |\n",
      "| {'a': 1.1526182930591617, ... |     6      |  1   |         0.0          |\n",
      "| {'a': 0.23052365861183235,... |     7      |  1   |         0.0          |\n",
      "| {'access': 4.2195077051761... |     8      |  1   |         0.0          |\n",
      "| {'a': 0.9220946344473294, ... |     9      |  1   |         0.0          |\n",
      "| {'acropora': 0.45830758948... |     10     |  1   |         0.0          |\n",
      "| {'a': 4.610473172236647, '... |     11     |  1   |         0.0          |\n",
      "| {'a': 1.1526182930591617, ... |     12     |  1   |         0.0          |\n",
      "| {'a': 0.23052365861183235,... |     13     |  1   |         0.0          |\n",
      "| {'a': 0.4610473172236647, ... |     14     |  1   |         0.0          |\n",
      "+-------------------------------+------------+------+----------------------+\n",
      "[15 rows x 4 columns]\n",
      "\n"
     ]
    }
   ],
   "source": [
    "kmeans_model.cluster_info.print_rows(num_rows=k)"
   ]
  },
  {
   "cell_type": "markdown",
   "metadata": {},
   "source": [
    "### What are the top 10 words defining a cluster?"
   ]
  },
  {
   "cell_type": "code",
   "execution_count": 57,
   "metadata": {},
   "outputs": [
    {
     "name": "stdout",
     "output_type": "stream",
     "text": [
      "Cluster 0\n",
      "['dmsp', 'indirect', 'hsgcms', 'store', 'aspera', 'concentrations', 'gave', 'dms', 'chromatography', 'lcms']\n",
      "Cluster 1\n",
      "['belitung', 'bangka', 'island', 'islands', 'tin', 'threatened', 'coastal', 'mining', 'mangrove', 'seagrass']\n",
      "Cluster 2\n",
      "['semantic', 'corals', 'gulf', 'bleaching', 'w', 'were', 'space', 'at', 'm', 'growth']\n",
      "Cluster 3\n",
      "['radial', 'corallites', 'coenosteum', 'atlantic', 'spinules', 'sized', 'evenly', 'simple', 'tubular', 'branch']\n",
      "Cluster 4\n",
      "['introgression', 'evolutionary', 'roles', 'chapter', 'duplication', 'i', 'diversification', 'dominance', 'rise', 'genome']\n",
      "Cluster 5\n",
      "['srca', 'interbranch', 'climate', 'reconstructions', 'cores', 'gbr', 'porites', 'skeleton', 'reconstruction', 'slope']\n",
      "Cluster 6\n",
      "['methylation', 'epigenetic', 'dna', 'changes', 'variation', 'modifications', 'seasonal', 'responses', 'consistent', 'these']\n",
      "Cluster 7\n",
      "['setosum', 'diadema', 'gonad', 'vitamin', 'compounds', 'elements', 'mg', 'nutrient', 'content', 'potency']\n",
      "Cluster 8\n",
      "['ne', 'nw', 'survival', 'rate', 'location', 'concrete', 'growth', 'domeshaped', 'turbidity', 'artificial']\n",
      "Cluster 9\n",
      "['traf', 'proteins', 'o', 'evolutionary', 'al', 'et', 'protein', 'repertoire', 'better', 'may']\n",
      "Cluster 10\n",
      "['drupella', 'snail', 'predation', 'feeding', 'lakshadweep', 'isopora', 'station', 'corallivorous', 'followed', 'our']\n",
      "Cluster 11\n",
      "['agaricites', 'mm', 'planula', 'planulae', 'humilis', 'times', 'wk', 'n', 'reproductive', 'production']\n",
      "Cluster 12\n",
      "['slopes', 'distance', 'offshore', 'fl', 'fungiidae', 'gradients', 'shelf', 'ats', 'species', 'regard']\n",
      "Cluster 13\n",
      "['publication', 'article', 'your', 'website', 'version', 'manuscript', 'link', 'available', 'accepted', 'you']\n",
      "Cluster 14\n",
      "['facies', 'belt', 'standard', 'buildup', 'classify', 'detail', 'taxonomy', 'coralline', 'another', 'ujunggenteng']\n"
     ]
    }
   ],
   "source": [
    "info = kmeans_model.cluster_info\n",
    "for k in range(0, len(info)):\n",
    "    cluster = info[info['cluster_id'] == k]\n",
    "    top_words_tfidf = cluster[['tfidf']].stack('tfidf', new_column_name=['word','tfidf']).sort('tfidf', ascending=False)\n",
    "    top_words = top_words_tfidf['word'][0:10]\n",
    "    print(f\"Cluster {k}\")\n",
    "    print(top_words)"
   ]
  }
 ],
 "metadata": {
  "kernelspec": {
   "display_name": "Python 3",
   "language": "python",
   "name": "python3"
  },
  "language_info": {
   "codemirror_mode": {
    "name": "ipython",
    "version": 3
   },
   "file_extension": ".py",
   "mimetype": "text/x-python",
   "name": "python",
   "nbconvert_exporter": "python",
   "pygments_lexer": "ipython3",
   "version": "3.8.5"
  }
 },
 "nbformat": 4,
 "nbformat_minor": 4
}
