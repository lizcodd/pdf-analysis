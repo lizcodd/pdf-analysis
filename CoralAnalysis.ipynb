{
 "cells": [
  {
   "cell_type": "markdown",
   "metadata": {},
   "source": [
    "# Coral Analysis"
   ]
  },
  {
   "cell_type": "code",
   "execution_count": 1,
   "metadata": {},
   "outputs": [],
   "source": [
    "import turicreate"
   ]
  },
  {
   "cell_type": "code",
   "execution_count": 2,
   "metadata": {},
   "outputs": [],
   "source": [
    "import re"
   ]
  },
  {
   "cell_type": "code",
   "execution_count": 4,
   "metadata": {},
   "outputs": [
    {
     "data": {
      "text/html": [
       "<pre>Finished parsing file /home/liz/coral/pdf-analysis/selectedSummary.csv</pre>"
      ],
      "text/plain": [
       "Finished parsing file /home/liz/coral/pdf-analysis/selectedSummary.csv"
      ]
     },
     "metadata": {},
     "output_type": "display_data"
    },
    {
     "data": {
      "text/html": [
       "<pre>Parsing completed. Parsed 76 lines in 0.016628 secs.</pre>"
      ],
      "text/plain": [
       "Parsing completed. Parsed 76 lines in 0.016628 secs."
      ]
     },
     "metadata": {},
     "output_type": "display_data"
    },
    {
     "name": "stdout",
     "output_type": "stream",
     "text": [
      "------------------------------------------------------\n",
      "Inferred types from first 100 line(s) of file as \n",
      "column_type_hints=[str,str,str,str,str,str,str]\n",
      "If parsing fails due to incorrect types, you can correct\n",
      "the inferred type list above and pass it to read_csv in\n",
      "the column_type_hints argument\n",
      "------------------------------------------------------\n"
     ]
    },
    {
     "data": {
      "text/html": [
       "<pre>Finished parsing file /home/liz/coral/pdf-analysis/selectedSummary.csv</pre>"
      ],
      "text/plain": [
       "Finished parsing file /home/liz/coral/pdf-analysis/selectedSummary.csv"
      ]
     },
     "metadata": {},
     "output_type": "display_data"
    },
    {
     "data": {
      "text/html": [
       "<pre>Parsing completed. Parsed 76 lines in 0.017815 secs.</pre>"
      ],
      "text/plain": [
       "Parsing completed. Parsed 76 lines in 0.017815 secs."
      ]
     },
     "metadata": {},
     "output_type": "display_data"
    }
   ],
   "source": [
    "# summary = turicreate.SFrame('crossrefSummary.csv')\n",
    "# summary = turicreate.SFrame('scholarSummary.csv')\n",
    "summary = turicreate.SFrame('selectedSummary.csv')"
   ]
  },
  {
   "cell_type": "code",
   "execution_count": 5,
   "metadata": {},
   "outputs": [],
   "source": [
    "summary = summary[summary['Abstract'] != None]  # only search documents where abstract was found"
   ]
  },
  {
   "cell_type": "markdown",
   "metadata": {},
   "source": [
    "### Search text for all Acropora species (species list taken from Acropora Wiki)"
   ]
  },
  {
   "cell_type": "code",
   "execution_count": 6,
   "metadata": {},
   "outputs": [
    {
     "data": {
      "text/plain": [
       "289"
      ]
     },
     "execution_count": 6,
     "metadata": {},
     "output_type": "execute_result"
    }
   ],
   "source": [
    "species_list = []\n",
    "with open('acroporaSpecies.txt', 'r') as f:\n",
    "    text = f.read()\n",
    "    species_list = re.findall('(?<=\\n)[A-Za-z]+ [a-z]+', text) # pull out species names only\n",
    "len(species_list)"
   ]
  },
  {
   "cell_type": "code",
   "execution_count": 7,
   "metadata": {},
   "outputs": [],
   "source": [
    "def searchSpecies(text):\n",
    "    species_found = []\n",
    "    for species in species_list:\n",
    "        # e.g. search for Acropora digitifera or A. digitifera \n",
    "        #if species in text or re.search(species[0]+'[\\.]? '+species.split(' ')[1], text):\n",
    "        if species in text or re.search(species[0]+'[\\.]? '+species.split(' ')[1], text):\n",
    "            species_found.append(species)\n",
    "    return species_found"
   ]
  },
  {
   "cell_type": "code",
   "execution_count": 8,
   "metadata": {},
   "outputs": [
    {
     "data": {
      "text/html": [
       "<div style=\"max-height:1000px;max-width:1500px;overflow:auto;\"><table frame=\"box\" rules=\"cols\">\n",
       "    <tr>\n",
       "        <th style=\"padding-left: 1em; padding-right: 1em; text-align: center\">ID</th>\n",
       "        <th style=\"padding-left: 1em; padding-right: 1em; text-align: center\">DOI</th>\n",
       "        <th style=\"padding-left: 1em; padding-right: 1em; text-align: center\">Title</th>\n",
       "        <th style=\"padding-left: 1em; padding-right: 1em; text-align: center\">Date</th>\n",
       "    </tr>\n",
       "    <tr>\n",
       "        <td style=\"padding-left: 1em; padding-right: 1em; text-align: center; vertical-align: top\">10.1038_s41598-018-21267-<br>3 ...</td>\n",
       "        <td style=\"padding-left: 1em; padding-right: 1em; text-align: center; vertical-align: top\">10.1038/s41598-018-21267-<br>3 ...</td>\n",
       "        <td style=\"padding-left: 1em; padding-right: 1em; text-align: center; vertical-align: top\">Elevated CO 2 delays the<br>early development of ...</td>\n",
       "        <td style=\"padding-left: 1em; padding-right: 1em; text-align: center; vertical-align: top\">None</td>\n",
       "    </tr>\n",
       "    <tr>\n",
       "        <td style=\"padding-left: 1em; padding-right: 1em; text-align: center; vertical-align: top\">10.1016_j.marpolbul.2016.<br>03.068 ...</td>\n",
       "        <td style=\"padding-left: 1em; padding-right: 1em; text-align: center; vertical-align: top\">10.1016/j.marpolbul.2016.<br>03.068 ...</td>\n",
       "        <td style=\"padding-left: 1em; padding-right: 1em; text-align: center; vertical-align: top\">Proteomic analysis of<br>bleached and unbleached ...</td>\n",
       "        <td style=\"padding-left: 1em; padding-right: 1em; text-align: center; vertical-align: top\">19 April 2016</td>\n",
       "    </tr>\n",
       "    <tr>\n",
       "        <td style=\"padding-left: 1em; padding-right: 1em; text-align: center; vertical-align: top\">10.1186_s12864-015-2355-x</td>\n",
       "        <td style=\"padding-left: 1em; padding-right: 1em; text-align: center; vertical-align: top\">10.1186/s12864-015-2355-x</td>\n",
       "        <td style=\"padding-left: 1em; padding-right: 1em; text-align: center; vertical-align: top\">Functional conservation<br>of the apoptotic ...</td>\n",
       "        <td style=\"padding-left: 1em; padding-right: 1em; text-align: center; vertical-align: top\">None</td>\n",
       "    </tr>\n",
       "    <tr>\n",
       "        <td style=\"padding-left: 1em; padding-right: 1em; text-align: center; vertical-align: top\">10.1111_mec.15642</td>\n",
       "        <td style=\"padding-left: 1em; padding-right: 1em; text-align: center; vertical-align: top\">10.1111/mec.15642</td>\n",
       "        <td style=\"padding-left: 1em; padding-right: 1em; text-align: center; vertical-align: top\">Local acclimatisation-<br>driven differential gene ...</td>\n",
       "        <td style=\"padding-left: 1em; padding-right: 1em; text-align: center; vertical-align: top\">None</td>\n",
       "    </tr>\n",
       "    <tr>\n",
       "        <td style=\"padding-left: 1em; padding-right: 1em; text-align: center; vertical-align: top\">10.1371_journal.pone.0016<br>095 ...</td>\n",
       "        <td style=\"padding-left: 1em; padding-right: 1em; text-align: center; vertical-align: top\">10.1371/journal.pone.0016<br>095 ...</td>\n",
       "        <td style=\"padding-left: 1em; padding-right: 1em; text-align: center; vertical-align: top\">Regulation of Apoptotic<br>Mediators Reveals Dyn ...</td>\n",
       "        <td style=\"padding-left: 1em; padding-right: 1em; text-align: center; vertical-align: top\">January 24, 2011</td>\n",
       "    </tr>\n",
       "    <tr>\n",
       "        <td style=\"padding-left: 1em; padding-right: 1em; text-align: center; vertical-align: top\">10.1007_s10126-020-09984-<br>1 ...</td>\n",
       "        <td style=\"padding-left: 1em; padding-right: 1em; text-align: center; vertical-align: top\">10.1007/s10126-020-09984-<br>1 ...</td>\n",
       "        <td style=\"padding-left: 1em; padding-right: 1em; text-align: center; vertical-align: top\">Transcriptome Analyses of<br>Immune System Behaviors ...</td>\n",
       "        <td style=\"padding-left: 1em; padding-right: 1em; text-align: center; vertical-align: top\">21 July 2020</td>\n",
       "    </tr>\n",
       "    <tr>\n",
       "        <td style=\"padding-left: 1em; padding-right: 1em; text-align: center; vertical-align: top\">10.1371_journal.pone.0020<br>140 ...</td>\n",
       "        <td style=\"padding-left: 1em; padding-right: 1em; text-align: center; vertical-align: top\">10.1371/journal.pone.0020<br>140 ...</td>\n",
       "        <td style=\"padding-left: 1em; padding-right: 1em; text-align: center; vertical-align: top\">Identification of Fast-<br>Evolving Genes in the ...</td>\n",
       "        <td style=\"padding-left: 1em; padding-right: 1em; text-align: center; vertical-align: top\">June 20, 2011</td>\n",
       "    </tr>\n",
       "    <tr>\n",
       "        <td style=\"padding-left: 1em; padding-right: 1em; text-align: center; vertical-align: top\">10.1371_journal.pone.0081<br>821 ...</td>\n",
       "        <td style=\"padding-left: 1em; padding-right: 1em; text-align: center; vertical-align: top\">10.1371/journal.pone.0081<br>821 ...</td>\n",
       "        <td style=\"padding-left: 1em; padding-right: 1em; text-align: center; vertical-align: top\">RNA-seq Profiles of<br>Immune Related Genes in ...</td>\n",
       "        <td style=\"padding-left: 1em; padding-right: 1em; text-align: center; vertical-align: top\">November 21, 2013</td>\n",
       "    </tr>\n",
       "    <tr>\n",
       "        <td style=\"padding-left: 1em; padding-right: 1em; text-align: center; vertical-align: top\">10.1086_692717</td>\n",
       "        <td style=\"padding-left: 1em; padding-right: 1em; text-align: center; vertical-align: top\">None</td>\n",
       "        <td style=\"padding-left: 1em; padding-right: 1em; text-align: center; vertical-align: top\">Early Transcriptional<br>Responses during Heat ...</td>\n",
       "        <td style=\"padding-left: 1em; padding-right: 1em; text-align: center; vertical-align: top\">31 May 2017</td>\n",
       "    </tr>\n",
       "    <tr>\n",
       "        <td style=\"padding-left: 1em; padding-right: 1em; text-align: center; vertical-align: top\">10.5539_ijb.v4n1p3</td>\n",
       "        <td style=\"padding-left: 1em; padding-right: 1em; text-align: center; vertical-align: top\">10.5539/ijb.v4n1p3</td>\n",
       "        <td style=\"padding-left: 1em; padding-right: 1em; text-align: center; vertical-align: top\">Effects of Heat Stress on<br>Phytopigments of ...</td>\n",
       "        <td style=\"padding-left: 1em; padding-right: 1em; text-align: center; vertical-align: top\">January 1, 2012</td>\n",
       "    </tr>\n",
       "</table>\n",
       "<table frame=\"box\" rules=\"cols\">\n",
       "    <tr>\n",
       "        <th style=\"padding-left: 1em; padding-right: 1em; text-align: center\">Keywords</th>\n",
       "        <th style=\"padding-left: 1em; padding-right: 1em; text-align: center\">Abstract</th>\n",
       "        <th style=\"padding-left: 1em; padding-right: 1em; text-align: center\">Language</th>\n",
       "        <th style=\"padding-left: 1em; padding-right: 1em; text-align: center\">Species present</th>\n",
       "    </tr>\n",
       "    <tr>\n",
       "        <td style=\"padding-left: 1em; padding-right: 1em; text-align: center; vertical-align: top\">None</td>\n",
       "        <td style=\"padding-left: 1em; padding-right: 1em; text-align: center; vertical-align: top\">The effects of elevated<br>CO 2 on the early life ...</td>\n",
       "        <td style=\"padding-left: 1em; padding-right: 1em; text-align: center; vertical-align: top\">en</td>\n",
       "        <td style=\"padding-left: 1em; padding-right: 1em; text-align: center; vertical-align: top\">[Acropora gemmifera,<br>Acropora millepora] ...</td>\n",
       "    </tr>\n",
       "    <tr>\n",
       "        <td style=\"padding-left: 1em; padding-right: 1em; text-align: center; vertical-align: top\">Coral bleaching<br>Proteomics Acropora ...</td>\n",
       "        <td style=\"padding-left: 1em; padding-right: 1em; text-align: center; vertical-align: top\">There has been an<br>increase in the scale ...</td>\n",
       "        <td style=\"padding-left: 1em; padding-right: 1em; text-align: center; vertical-align: top\">en</td>\n",
       "        <td style=\"padding-left: 1em; padding-right: 1em; text-align: center; vertical-align: top\">[Acropora palmata]</td>\n",
       "    </tr>\n",
       "    <tr>\n",
       "        <td style=\"padding-left: 1em; padding-right: 1em; text-align: center; vertical-align: top\">Apoptosis,Caspase,Bcl-2,C<br>oral,Acropora ...</td>\n",
       "        <td style=\"padding-left: 1em; padding-right: 1em; text-align: center; vertical-align: top\">Background: Apoptotic<br>cell death is a defining ...</td>\n",
       "        <td style=\"padding-left: 1em; padding-right: 1em; text-align: center; vertical-align: top\">en</td>\n",
       "        <td style=\"padding-left: 1em; padding-right: 1em; text-align: center; vertical-align: top\">[Acropora millepora]</td>\n",
       "    </tr>\n",
       "    <tr>\n",
       "        <td style=\"padding-left: 1em; padding-right: 1em; text-align: center; vertical-align: top\">Acropora<br>muricata,bleaching ...</td>\n",
       "        <td style=\"padding-left: 1em; padding-right: 1em; text-align: center; vertical-align: top\">Coral reefs are the most<br>productive and ...</td>\n",
       "        <td style=\"padding-left: 1em; padding-right: 1em; text-align: center; vertical-align: top\">en</td>\n",
       "        <td style=\"padding-left: 1em; padding-right: 1em; text-align: center; vertical-align: top\">[]</td>\n",
       "    </tr>\n",
       "    <tr>\n",
       "        <td style=\"padding-left: 1em; padding-right: 1em; text-align: center; vertical-align: top\">None</td>\n",
       "        <td style=\"padding-left: 1em; padding-right: 1em; text-align: center; vertical-align: top\">Background: Mass coral<br>bleaching is increasing ...</td>\n",
       "        <td style=\"padding-left: 1em; padding-right: 1em; text-align: center; vertical-align: top\">en</td>\n",
       "        <td style=\"padding-left: 1em; padding-right: 1em; text-align: center; vertical-align: top\">[Acropora millepora]</td>\n",
       "    </tr>\n",
       "    <tr>\n",
       "        <td style=\"padding-left: 1em; padding-right: 1em; text-align: center; vertical-align: top\">Coral,Vibrio<br>coralliilyticus,Thermal ...</td>\n",
       "        <td style=\"padding-left: 1em; padding-right: 1em; text-align: center; vertical-align: top\">Elevated sea surface<br>temperature associated ...</td>\n",
       "        <td style=\"padding-left: 1em; padding-right: 1em; text-align: center; vertical-align: top\">en</td>\n",
       "        <td style=\"padding-left: 1em; padding-right: 1em; text-align: center; vertical-align: top\">[Acropora digitifera]</td>\n",
       "    </tr>\n",
       "    <tr>\n",
       "        <td style=\"padding-left: 1em; padding-right: 1em; text-align: center; vertical-align: top\">None</td>\n",
       "        <td style=\"padding-left: 1em; padding-right: 1em; text-align: center; vertical-align: top\">To identify fast-evolving<br>genes in reef-building ...</td>\n",
       "        <td style=\"padding-left: 1em; padding-right: 1em; text-align: center; vertical-align: top\">en</td>\n",
       "        <td style=\"padding-left: 1em; padding-right: 1em; text-align: center; vertical-align: top\">[Acropora millepora,<br>Acropora palmata] ...</td>\n",
       "    </tr>\n",
       "    <tr>\n",
       "        <td style=\"padding-left: 1em; padding-right: 1em; text-align: center; vertical-align: top\">None</td>\n",
       "        <td style=\"padding-left: 1em; padding-right: 1em; text-align: center; vertical-align: top\">Coral diseases are among<br>the most serious threats ...</td>\n",
       "        <td style=\"padding-left: 1em; padding-right: 1em; text-align: center; vertical-align: top\">en</td>\n",
       "        <td style=\"padding-left: 1em; padding-right: 1em; text-align: center; vertical-align: top\">[Acropora cervicornis]</td>\n",
       "    </tr>\n",
       "    <tr>\n",
       "        <td style=\"padding-left: 1em; padding-right: 1em; text-align: center; vertical-align: top\">HSP, heat shock<br>protein,Log2FC, Log2  ...</td>\n",
       "        <td style=\"padding-left: 1em; padding-right: 1em; text-align: center; vertical-align: top\">Corals respond to heat<br>pulses that cause ...</td>\n",
       "        <td style=\"padding-left: 1em; padding-right: 1em; text-align: center; vertical-align: top\">en</td>\n",
       "        <td style=\"padding-left: 1em; padding-right: 1em; text-align: center; vertical-align: top\">[]</td>\n",
       "    </tr>\n",
       "    <tr>\n",
       "        <td style=\"padding-left: 1em; padding-right: 1em; text-align: center; vertical-align: top\">Carotenoids,Chlorophyll a<br>(chl a),Chlorophyll c ...</td>\n",
       "        <td style=\"padding-left: 1em; padding-right: 1em; text-align: center; vertical-align: top\">The question of whether<br>global warming affects ...</td>\n",
       "        <td style=\"padding-left: 1em; padding-right: 1em; text-align: center; vertical-align: top\">en</td>\n",
       "        <td style=\"padding-left: 1em; padding-right: 1em; text-align: center; vertical-align: top\">[Acropora hyacinthus]</td>\n",
       "    </tr>\n",
       "</table>\n",
       "[73 rows x 8 columns]<br/>Note: Only the head of the SFrame is printed.<br/>You can use print_rows(num_rows=m, num_columns=n) to print more rows and columns.\n",
       "</div>"
      ],
      "text/plain": [
       "Columns:\n",
       "\tID\tstr\n",
       "\tDOI\tstr\n",
       "\tTitle\tstr\n",
       "\tDate\tstr\n",
       "\tKeywords\tstr\n",
       "\tAbstract\tstr\n",
       "\tLanguage\tstr\n",
       "\tSpecies present\tlist\n",
       "\n",
       "Rows: 73\n",
       "\n",
       "Data:\n",
       "+-------------------------------+-------------------------------+\n",
       "|               ID              |              DOI              |\n",
       "+-------------------------------+-------------------------------+\n",
       "|   10.1038_s41598-018-21267-3  |   10.1038/s41598-018-21267-3  |\n",
       "| 10.1016_j.marpolbul.2016.0... | 10.1016/j.marpolbul.2016.0... |\n",
       "|   10.1186_s12864-015-2355-x   |   10.1186/s12864-015-2355-x   |\n",
       "|       10.1111_mec.15642       |       10.1111/mec.15642       |\n",
       "|  10.1371_journal.pone.0016095 |  10.1371/journal.pone.0016095 |\n",
       "|   10.1007_s10126-020-09984-1  |   10.1007/s10126-020-09984-1  |\n",
       "|  10.1371_journal.pone.0020140 |  10.1371/journal.pone.0020140 |\n",
       "|  10.1371_journal.pone.0081821 |  10.1371/journal.pone.0081821 |\n",
       "|         10.1086_692717        |              None             |\n",
       "|       10.5539_ijb.v4n1p3      |       10.5539/ijb.v4n1p3      |\n",
       "+-------------------------------+-------------------------------+\n",
       "+-------------------------------+-------------------+\n",
       "|             Title             |        Date       |\n",
       "+-------------------------------+-------------------+\n",
       "| Elevated CO 2 delays the e... |        None       |\n",
       "| Proteomic analysis of blea... |   19 April 2016   |\n",
       "| Functional conservation of... |        None       |\n",
       "| Local acclimatisation-driv... |        None       |\n",
       "| Regulation of Apoptotic Me... |  January 24, 2011 |\n",
       "| Transcriptome Analyses of ... |    21 July 2020   |\n",
       "| Identification of Fast-Evo... |   June 20, 2011   |\n",
       "| RNA-seq Profiles of Immune... | November 21, 2013 |\n",
       "| Early Transcriptional Resp... |    31 May 2017    |\n",
       "| Effects of Heat Stress on ... |  January 1, 2012  |\n",
       "+-------------------------------+-------------------+\n",
       "+-------------------------------+-------------------------------+----------+\n",
       "|            Keywords           |            Abstract           | Language |\n",
       "+-------------------------------+-------------------------------+----------+\n",
       "|              None             | The effects of elevated CO... |    en    |\n",
       "| Coral bleaching Proteomics... | There has been an increase... |    en    |\n",
       "| Apoptosis,Caspase,Bcl-2,Co... | Background: Apoptotic cell... |    en    |\n",
       "| Acropora muricata,bleachin... | Coral reefs are the most p... |    en    |\n",
       "|              None             | Background: Mass coral ble... |    en    |\n",
       "| Coral,Vibrio coralliilytic... | Elevated sea surface tempe... |    en    |\n",
       "|              None             | To identify fast-evolving ... |    en    |\n",
       "|              None             | Coral diseases are among t... |    en    |\n",
       "| HSP, heat shock protein,Lo... | Corals respond to heat pul... |    en    |\n",
       "| Carotenoids,Chlorophyll a ... | The question of whether gl... |    en    |\n",
       "+-------------------------------+-------------------------------+----------+\n",
       "+-------------------------------+\n",
       "|        Species present        |\n",
       "+-------------------------------+\n",
       "| [Acropora gemmifera, Acrop... |\n",
       "|       [Acropora palmata]      |\n",
       "|      [Acropora millepora]     |\n",
       "|               []              |\n",
       "|      [Acropora millepora]     |\n",
       "|     [Acropora digitifera]     |\n",
       "| [Acropora millepora, Acrop... |\n",
       "|     [Acropora cervicornis]    |\n",
       "|               []              |\n",
       "|     [Acropora hyacinthus]     |\n",
       "+-------------------------------+\n",
       "[73 rows x 8 columns]\n",
       "Note: Only the head of the SFrame is printed.\n",
       "You can use print_rows(num_rows=m, num_columns=n) to print more rows and columns."
      ]
     },
     "execution_count": 8,
     "metadata": {},
     "output_type": "execute_result"
    }
   ],
   "source": [
    "summary['Species present'] = summary['Abstract'].apply(searchSpecies)\n",
    "summary"
   ]
  },
  {
   "cell_type": "code",
   "execution_count": 9,
   "metadata": {},
   "outputs": [],
   "source": [
    "species_info = turicreate.SFrame({'Species': species_list})\n",
    "\n",
    "# Count the number of papers referencing a given species\n",
    "def totalPapersWithSpecies(species):\n",
    "    return sum([species in species_pres for species_pres in summary['Species present']])\n",
    "  \n",
    "species_info['Total papers'] = species_info['Species'].apply(totalPapersWithSpecies)"
   ]
  },
  {
   "cell_type": "markdown",
   "metadata": {},
   "source": [
    "### Most Commonly Studied Species"
   ]
  },
  {
   "cell_type": "code",
   "execution_count": 10,
   "metadata": {},
   "outputs": [],
   "source": [
    "species_info = species_info.sort('Total papers', ascending=False)"
   ]
  },
  {
   "cell_type": "code",
   "execution_count": 11,
   "metadata": {},
   "outputs": [
    {
     "data": {
      "text/html": [
       "<div style=\"max-height:1000px;max-width:1500px;overflow:auto;\"><table frame=\"box\" rules=\"cols\">\n",
       "    <tr>\n",
       "        <th style=\"padding-left: 1em; padding-right: 1em; text-align: center\">Species</th>\n",
       "        <th style=\"padding-left: 1em; padding-right: 1em; text-align: center\">Total papers</th>\n",
       "    </tr>\n",
       "    <tr>\n",
       "        <td style=\"padding-left: 1em; padding-right: 1em; text-align: center; vertical-align: top\">Acropora millepora</td>\n",
       "        <td style=\"padding-left: 1em; padding-right: 1em; text-align: center; vertical-align: top\">20</td>\n",
       "    </tr>\n",
       "    <tr>\n",
       "        <td style=\"padding-left: 1em; padding-right: 1em; text-align: center; vertical-align: top\">Acropora palmata</td>\n",
       "        <td style=\"padding-left: 1em; padding-right: 1em; text-align: center; vertical-align: top\">11</td>\n",
       "    </tr>\n",
       "    <tr>\n",
       "        <td style=\"padding-left: 1em; padding-right: 1em; text-align: center; vertical-align: top\">Acropora digitifera</td>\n",
       "        <td style=\"padding-left: 1em; padding-right: 1em; text-align: center; vertical-align: top\">8</td>\n",
       "    </tr>\n",
       "    <tr>\n",
       "        <td style=\"padding-left: 1em; padding-right: 1em; text-align: center; vertical-align: top\">Acropora tenuis</td>\n",
       "        <td style=\"padding-left: 1em; padding-right: 1em; text-align: center; vertical-align: top\">7</td>\n",
       "    </tr>\n",
       "    <tr>\n",
       "        <td style=\"padding-left: 1em; padding-right: 1em; text-align: center; vertical-align: top\">Acropora cervicornis</td>\n",
       "        <td style=\"padding-left: 1em; padding-right: 1em; text-align: center; vertical-align: top\">3</td>\n",
       "    </tr>\n",
       "    <tr>\n",
       "        <td style=\"padding-left: 1em; padding-right: 1em; text-align: center; vertical-align: top\">Acropora aspera</td>\n",
       "        <td style=\"padding-left: 1em; padding-right: 1em; text-align: center; vertical-align: top\">3</td>\n",
       "    </tr>\n",
       "    <tr>\n",
       "        <td style=\"padding-left: 1em; padding-right: 1em; text-align: center; vertical-align: top\">Acropora hyacinthus</td>\n",
       "        <td style=\"padding-left: 1em; padding-right: 1em; text-align: center; vertical-align: top\">2</td>\n",
       "    </tr>\n",
       "    <tr>\n",
       "        <td style=\"padding-left: 1em; padding-right: 1em; text-align: center; vertical-align: top\">Acropora nasuta</td>\n",
       "        <td style=\"padding-left: 1em; padding-right: 1em; text-align: center; vertical-align: top\">2</td>\n",
       "    </tr>\n",
       "    <tr>\n",
       "        <td style=\"padding-left: 1em; padding-right: 1em; text-align: center; vertical-align: top\">Acropora aculeus</td>\n",
       "        <td style=\"padding-left: 1em; padding-right: 1em; text-align: center; vertical-align: top\">1</td>\n",
       "    </tr>\n",
       "    <tr>\n",
       "        <td style=\"padding-left: 1em; padding-right: 1em; text-align: center; vertical-align: top\">Acropora microphthalma</td>\n",
       "        <td style=\"padding-left: 1em; padding-right: 1em; text-align: center; vertical-align: top\">1</td>\n",
       "    </tr>\n",
       "</table>\n",
       "[289 rows x 2 columns]<br/>Note: Only the head of the SFrame is printed.<br/>You can use print_rows(num_rows=m, num_columns=n) to print more rows and columns.\n",
       "</div>"
      ],
      "text/plain": [
       "Columns:\n",
       "\tSpecies\tstr\n",
       "\tTotal papers\tint\n",
       "\n",
       "Rows: 289\n",
       "\n",
       "Data:\n",
       "+------------------------+--------------+\n",
       "|        Species         | Total papers |\n",
       "+------------------------+--------------+\n",
       "|   Acropora millepora   |      20      |\n",
       "|    Acropora palmata    |      11      |\n",
       "|  Acropora digitifera   |      8       |\n",
       "|    Acropora tenuis     |      7       |\n",
       "|  Acropora cervicornis  |      3       |\n",
       "|    Acropora aspera     |      3       |\n",
       "|  Acropora hyacinthus   |      2       |\n",
       "|    Acropora nasuta     |      2       |\n",
       "|    Acropora aculeus    |      1       |\n",
       "| Acropora microphthalma |      1       |\n",
       "+------------------------+--------------+\n",
       "[289 rows x 2 columns]\n",
       "Note: Only the head of the SFrame is printed.\n",
       "You can use print_rows(num_rows=m, num_columns=n) to print more rows and columns."
      ]
     },
     "execution_count": 11,
     "metadata": {},
     "output_type": "execute_result"
    }
   ],
   "source": [
    "species_info"
   ]
  },
  {
   "cell_type": "code",
   "execution_count": 12,
   "metadata": {},
   "outputs": [
    {
     "data": {
      "text/plain": [
       "dtype: str\n",
       "Rows: ?\n",
       "['Acropora millepora', 'Acropora palmata', 'Acropora digitifera', 'Acropora tenuis', 'Acropora cervicornis', 'Acropora aspera', 'Acropora hyacinthus', 'Acropora nasuta', 'Acropora aculeus', 'Acropora microphthalma', 'Montipora digitata', 'Acropora gemmifera', 'Acropora muricata', 'Acropora humilis', ... ]"
      ]
     },
     "execution_count": 12,
     "metadata": {},
     "output_type": "execute_result"
    }
   ],
   "source": [
    "sum(species_info['Total papers'] > 0)  # count how many species appear at all in any paper\n",
    "species_info[species_info['Total papers'] > 0]['Species']"
   ]
  },
  {
   "cell_type": "markdown",
   "metadata": {},
   "source": [
    "### Search text for all proteins on Uniprot for Acropora"
   ]
  },
  {
   "cell_type": "code",
   "execution_count": 13,
   "metadata": {},
   "outputs": [],
   "source": [
    "def simplifyProteinName(protein_name):\n",
    "    protein_name = re.sub(' \\(.*\\)', '', protein_name)  # remove anything in parentheses, unlikely to match\n",
    "    protein_name = re.sub('  ', ' ', protein_name)  # get rid of double spaces\n",
    "    return protein_name\n",
    "\n",
    "def removeCommonGeneNames(gene_name):\n",
    "    if len(gene_name) < 4 or re.match('[0-9\\.]+', gene_name):\n",
    "        gene_name = None\n",
    "    return gene_name"
   ]
  },
  {
   "cell_type": "code",
   "execution_count": 14,
   "metadata": {},
   "outputs": [
    {
     "data": {
      "text/html": [
       "<pre>Successfully parsed 3 tokens: \n",
       "\t0: Q58251\n",
       "\t1: reviewed\n",
       "\t2: [Methyl-co ... C 2.1.1.-)</pre>"
      ],
      "text/plain": [
       "Successfully parsed 3 tokens: \n",
       "\t0: Q58251\n",
       "\t1: reviewed\n",
       "\t2: [Methyl-co ... C 2.1.1.-)"
      ]
     },
     "metadata": {},
     "output_type": "display_data"
    },
    {
     "data": {
      "text/html": [
       "<pre>Successfully parsed 3 tokens: \n",
       "\t0: A0A5Q0MUT1\n",
       "\t1: reviewed\n",
       "\t2: [Thr6, Val ... hyllokinin</pre>"
      ],
      "text/plain": [
       "Successfully parsed 3 tokens: \n",
       "\t0: A0A5Q0MUT1\n",
       "\t1: reviewed\n",
       "\t2: [Thr6, Val ... hyllokinin"
      ]
     },
     "metadata": {},
     "output_type": "display_data"
    },
    {
     "data": {
      "text/html": [
       "<pre>Successfully parsed 3 tokens: \n",
       "\t0: L0PJV8\n",
       "\t1: reviewed\n",
       "\t2: [Thr6]-bra ... radykinin]</pre>"
      ],
      "text/plain": [
       "Successfully parsed 3 tokens: \n",
       "\t0: L0PJV8\n",
       "\t1: reviewed\n",
       "\t2: [Thr6]-bra ... radykinin]"
      ]
     },
     "metadata": {},
     "output_type": "display_data"
    },
    {
     "data": {
      "text/html": [
       "<pre>Successfully parsed 3 tokens: \n",
       "\t0: P86629\n",
       "\t1: reviewed\n",
       "\t2: [Thr6]-bradykinin</pre>"
      ],
      "text/plain": [
       "Successfully parsed 3 tokens: \n",
       "\t0: P86629\n",
       "\t1: reviewed\n",
       "\t2: [Thr6]-bradykinin"
      ]
     },
     "metadata": {},
     "output_type": "display_data"
    },
    {
     "data": {
      "text/html": [
       "<pre>Successfully parsed 3 tokens: \n",
       "\t0: P86815\n",
       "\t1: reviewed\n",
       "\t2: [Ala1,Thr6 ... ys,Ala,Val</pre>"
      ],
      "text/plain": [
       "Successfully parsed 3 tokens: \n",
       "\t0: P86815\n",
       "\t1: reviewed\n",
       "\t2: [Ala1,Thr6 ... ys,Ala,Val"
      ]
     },
     "metadata": {},
     "output_type": "display_data"
    },
    {
     "data": {
      "text/html": [
       "<pre>Successfully parsed 3 tokens: \n",
       "\t0: P86812\n",
       "\t1: reviewed\n",
       "\t2: [Ala1,Thr6 ... bradykinin</pre>"
      ],
      "text/plain": [
       "Successfully parsed 3 tokens: \n",
       "\t0: P86812\n",
       "\t1: reviewed\n",
       "\t2: [Ala1,Thr6 ... bradykinin"
      ]
     },
     "metadata": {},
     "output_type": "display_data"
    },
    {
     "data": {
      "text/html": [
       "<pre>Successfully parsed 3 tokens: \n",
       "\t0: P21850\n",
       "\t1: reviewed\n",
       "\t2: [D-Ala2]-d ... orphin I)]</pre>"
      ],
      "text/plain": [
       "Successfully parsed 3 tokens: \n",
       "\t0: P21850\n",
       "\t1: reviewed\n",
       "\t2: [D-Ala2]-d ... orphin I)]"
      ]
     },
     "metadata": {},
     "output_type": "display_data"
    },
    {
     "data": {
      "text/html": [
       "<pre>Successfully parsed 3 tokens: \n",
       "\t0: P86814\n",
       "\t1: reviewed\n",
       "\t2: [Ala1,Thr6 ... yl-Ser,Lys</pre>"
      ],
      "text/plain": [
       "Successfully parsed 3 tokens: \n",
       "\t0: P86814\n",
       "\t1: reviewed\n",
       "\t2: [Ala1,Thr6 ... yl-Ser,Lys"
      ]
     },
     "metadata": {},
     "output_type": "display_data"
    },
    {
     "data": {
      "text/html": [
       "<pre>Successfully parsed 3 tokens: \n",
       "\t0: P86035\n",
       "\t1: reviewed\n",
       "\t2: [Asp6]-bradykinin</pre>"
      ],
      "text/plain": [
       "Successfully parsed 3 tokens: \n",
       "\t0: P86035\n",
       "\t1: reviewed\n",
       "\t2: [Asp6]-bradykinin"
      ]
     },
     "metadata": {},
     "output_type": "display_data"
    },
    {
     "data": {
      "text/html": [
       "<pre>Successfully parsed 3 tokens: \n",
       "\t0: P86818\n",
       "\t1: reviewed\n",
       "\t2: [Ala1,Thr6 ... hyllokinin</pre>"
      ],
      "text/plain": [
       "Successfully parsed 3 tokens: \n",
       "\t0: P86818\n",
       "\t1: reviewed\n",
       "\t2: [Ala1,Thr6 ... hyllokinin"
      ]
     },
     "metadata": {},
     "output_type": "display_data"
    },
    {
     "data": {
      "text/html": [
       "<pre>40 lines failed to parse correctly</pre>"
      ],
      "text/plain": [
       "40 lines failed to parse correctly"
      ]
     },
     "metadata": {},
     "output_type": "display_data"
    },
    {
     "data": {
      "text/html": [
       "<pre>Finished parsing file /home/liz/coral/pdf-analysis/swissprot_all.tab</pre>"
      ],
      "text/plain": [
       "Finished parsing file /home/liz/coral/pdf-analysis/swissprot_all.tab"
      ]
     },
     "metadata": {},
     "output_type": "display_data"
    },
    {
     "data": {
      "text/html": [
       "<pre>Parsing completed. Parsed 100 lines in 0.488788 secs.</pre>"
      ],
      "text/plain": [
       "Parsing completed. Parsed 100 lines in 0.488788 secs."
      ]
     },
     "metadata": {},
     "output_type": "display_data"
    },
    {
     "name": "stdout",
     "output_type": "stream",
     "text": [
      "------------------------------------------------------\n",
      "Inferred types from first 100 line(s) of file as \n",
      "column_type_hints=[str,str,str,str]\n",
      "If parsing fails due to incorrect types, you can correct\n",
      "the inferred type list above and pass it to read_csv in\n",
      "the column_type_hints argument\n",
      "------------------------------------------------------\n"
     ]
    },
    {
     "data": {
      "text/html": [
       "<pre>Successfully parsed 3 tokens: \n",
       "\t0: Q58251\n",
       "\t1: reviewed\n",
       "\t2: [Methyl-co ...  2.1.1.-)</pre>"
      ],
      "text/plain": [
       "Successfully parsed 3 tokens: \n",
       "\t0: Q58251\n",
       "\t1: reviewed\n",
       "\t2: [Methyl-co ...  2.1.1.-)"
      ]
     },
     "metadata": {},
     "output_type": "display_data"
    },
    {
     "data": {
      "text/html": [
       "<pre>Successfully parsed 3 tokens: \n",
       "\t0: A0A5Q0MUT1\n",
       "\t1: reviewed\n",
       "\t2: [Thr6, Val ... yllokinin</pre>"
      ],
      "text/plain": [
       "Successfully parsed 3 tokens: \n",
       "\t0: A0A5Q0MUT1\n",
       "\t1: reviewed\n",
       "\t2: [Thr6, Val ... yllokinin"
      ]
     },
     "metadata": {},
     "output_type": "display_data"
    },
    {
     "data": {
      "text/html": [
       "<pre>Successfully parsed 3 tokens: \n",
       "\t0: L0PJV8\n",
       "\t1: reviewed\n",
       "\t2: [Thr6]-bra ... adykinin]</pre>"
      ],
      "text/plain": [
       "Successfully parsed 3 tokens: \n",
       "\t0: L0PJV8\n",
       "\t1: reviewed\n",
       "\t2: [Thr6]-bra ... adykinin]"
      ]
     },
     "metadata": {},
     "output_type": "display_data"
    },
    {
     "data": {
      "text/html": [
       "<pre>Successfully parsed 3 tokens: \n",
       "\t0: P86629\n",
       "\t1: reviewed\n",
       "\t2: [Thr6]-bradykinin</pre>"
      ],
      "text/plain": [
       "Successfully parsed 3 tokens: \n",
       "\t0: P86629\n",
       "\t1: reviewed\n",
       "\t2: [Thr6]-bradykinin"
      ]
     },
     "metadata": {},
     "output_type": "display_data"
    },
    {
     "data": {
      "text/html": [
       "<pre>Successfully parsed 3 tokens: \n",
       "\t0: P86815\n",
       "\t1: reviewed\n",
       "\t2: [Ala1,Thr6 ... s,Ala,Val</pre>"
      ],
      "text/plain": [
       "Successfully parsed 3 tokens: \n",
       "\t0: P86815\n",
       "\t1: reviewed\n",
       "\t2: [Ala1,Thr6 ... s,Ala,Val"
      ]
     },
     "metadata": {},
     "output_type": "display_data"
    },
    {
     "data": {
      "text/html": [
       "<pre>Successfully parsed 3 tokens: \n",
       "\t0: P86812\n",
       "\t1: reviewed\n",
       "\t2: [Ala1,Thr6 ... radykinin</pre>"
      ],
      "text/plain": [
       "Successfully parsed 3 tokens: \n",
       "\t0: P86812\n",
       "\t1: reviewed\n",
       "\t2: [Ala1,Thr6 ... radykinin"
      ]
     },
     "metadata": {},
     "output_type": "display_data"
    },
    {
     "data": {
      "text/html": [
       "<pre>Successfully parsed 3 tokens: \n",
       "\t0: P21850\n",
       "\t1: reviewed\n",
       "\t2: [D-Ala2]-d ... rphin I)]</pre>"
      ],
      "text/plain": [
       "Successfully parsed 3 tokens: \n",
       "\t0: P21850\n",
       "\t1: reviewed\n",
       "\t2: [D-Ala2]-d ... rphin I)]"
      ]
     },
     "metadata": {},
     "output_type": "display_data"
    },
    {
     "data": {
      "text/html": [
       "<pre>Successfully parsed 3 tokens: \n",
       "\t0: P86814\n",
       "\t1: reviewed\n",
       "\t2: [Ala1,Thr6 ... l-Ser,Lys</pre>"
      ],
      "text/plain": [
       "Successfully parsed 3 tokens: \n",
       "\t0: P86814\n",
       "\t1: reviewed\n",
       "\t2: [Ala1,Thr6 ... l-Ser,Lys"
      ]
     },
     "metadata": {},
     "output_type": "display_data"
    },
    {
     "data": {
      "text/html": [
       "<pre>Successfully parsed 3 tokens: \n",
       "\t0: P86035\n",
       "\t1: reviewed\n",
       "\t2: [Asp6]-bradykinin</pre>"
      ],
      "text/plain": [
       "Successfully parsed 3 tokens: \n",
       "\t0: P86035\n",
       "\t1: reviewed\n",
       "\t2: [Asp6]-bradykinin"
      ]
     },
     "metadata": {},
     "output_type": "display_data"
    },
    {
     "data": {
      "text/html": [
       "<pre>Successfully parsed 3 tokens: \n",
       "\t0: P86818\n",
       "\t1: reviewed\n",
       "\t2: [Ala1,Thr6 ... yllokinin</pre>"
      ],
      "text/plain": [
       "Successfully parsed 3 tokens: \n",
       "\t0: P86818\n",
       "\t1: reviewed\n",
       "\t2: [Ala1,Thr6 ... yllokinin"
      ]
     },
     "metadata": {},
     "output_type": "display_data"
    },
    {
     "data": {
      "text/html": [
       "<pre>Read 531163 lines. Lines per second: 1.38069e+06</pre>"
      ],
      "text/plain": [
       "Read 531163 lines. Lines per second: 1.38069e+06"
      ]
     },
     "metadata": {},
     "output_type": "display_data"
    },
    {
     "data": {
      "text/html": [
       "<pre>43 lines failed to parse correctly</pre>"
      ],
      "text/plain": [
       "43 lines failed to parse correctly"
      ]
     },
     "metadata": {},
     "output_type": "display_data"
    },
    {
     "data": {
      "text/html": [
       "<pre>Finished parsing file /home/liz/coral/pdf-analysis/swissprot_all.tab</pre>"
      ],
      "text/plain": [
       "Finished parsing file /home/liz/coral/pdf-analysis/swissprot_all.tab"
      ]
     },
     "metadata": {},
     "output_type": "display_data"
    },
    {
     "data": {
      "text/html": [
       "<pre>Parsing completed. Parsed 563929 lines in 0.396998 secs.</pre>"
      ],
      "text/plain": [
       "Parsing completed. Parsed 563929 lines in 0.396998 secs."
      ]
     },
     "metadata": {},
     "output_type": "display_data"
    },
    {
     "data": {
      "text/html": [
       "<div style=\"max-height:1000px;max-width:1500px;overflow:auto;\"><table frame=\"box\" rules=\"cols\">\n",
       "    <tr>\n",
       "        <th style=\"padding-left: 1em; padding-right: 1em; text-align: center\">ID</th>\n",
       "        <th style=\"padding-left: 1em; padding-right: 1em; text-align: center\">DOI</th>\n",
       "        <th style=\"padding-left: 1em; padding-right: 1em; text-align: center\">Title</th>\n",
       "        <th style=\"padding-left: 1em; padding-right: 1em; text-align: center\">Date</th>\n",
       "    </tr>\n",
       "    <tr>\n",
       "        <td style=\"padding-left: 1em; padding-right: 1em; text-align: center; vertical-align: top\">10.1038_s41598-018-21267-<br>3 ...</td>\n",
       "        <td style=\"padding-left: 1em; padding-right: 1em; text-align: center; vertical-align: top\">10.1038/s41598-018-21267-<br>3 ...</td>\n",
       "        <td style=\"padding-left: 1em; padding-right: 1em; text-align: center; vertical-align: top\">Elevated CO 2 delays the<br>early development of ...</td>\n",
       "        <td style=\"padding-left: 1em; padding-right: 1em; text-align: center; vertical-align: top\">None</td>\n",
       "    </tr>\n",
       "    <tr>\n",
       "        <td style=\"padding-left: 1em; padding-right: 1em; text-align: center; vertical-align: top\">10.1016_j.marpolbul.2016.<br>03.068 ...</td>\n",
       "        <td style=\"padding-left: 1em; padding-right: 1em; text-align: center; vertical-align: top\">10.1016/j.marpolbul.2016.<br>03.068 ...</td>\n",
       "        <td style=\"padding-left: 1em; padding-right: 1em; text-align: center; vertical-align: top\">Proteomic analysis of<br>bleached and unbleached ...</td>\n",
       "        <td style=\"padding-left: 1em; padding-right: 1em; text-align: center; vertical-align: top\">19 April 2016</td>\n",
       "    </tr>\n",
       "    <tr>\n",
       "        <td style=\"padding-left: 1em; padding-right: 1em; text-align: center; vertical-align: top\">10.1186_s12864-015-2355-x</td>\n",
       "        <td style=\"padding-left: 1em; padding-right: 1em; text-align: center; vertical-align: top\">10.1186/s12864-015-2355-x</td>\n",
       "        <td style=\"padding-left: 1em; padding-right: 1em; text-align: center; vertical-align: top\">Functional conservation<br>of the apoptotic ...</td>\n",
       "        <td style=\"padding-left: 1em; padding-right: 1em; text-align: center; vertical-align: top\">None</td>\n",
       "    </tr>\n",
       "    <tr>\n",
       "        <td style=\"padding-left: 1em; padding-right: 1em; text-align: center; vertical-align: top\">10.1111_mec.15642</td>\n",
       "        <td style=\"padding-left: 1em; padding-right: 1em; text-align: center; vertical-align: top\">10.1111/mec.15642</td>\n",
       "        <td style=\"padding-left: 1em; padding-right: 1em; text-align: center; vertical-align: top\">Local acclimatisation-<br>driven differential gene ...</td>\n",
       "        <td style=\"padding-left: 1em; padding-right: 1em; text-align: center; vertical-align: top\">None</td>\n",
       "    </tr>\n",
       "    <tr>\n",
       "        <td style=\"padding-left: 1em; padding-right: 1em; text-align: center; vertical-align: top\">10.1371_journal.pone.0016<br>095 ...</td>\n",
       "        <td style=\"padding-left: 1em; padding-right: 1em; text-align: center; vertical-align: top\">10.1371/journal.pone.0016<br>095 ...</td>\n",
       "        <td style=\"padding-left: 1em; padding-right: 1em; text-align: center; vertical-align: top\">Regulation of Apoptotic<br>Mediators Reveals Dyn ...</td>\n",
       "        <td style=\"padding-left: 1em; padding-right: 1em; text-align: center; vertical-align: top\">January 24, 2011</td>\n",
       "    </tr>\n",
       "    <tr>\n",
       "        <td style=\"padding-left: 1em; padding-right: 1em; text-align: center; vertical-align: top\">10.1007_s10126-020-09984-<br>1 ...</td>\n",
       "        <td style=\"padding-left: 1em; padding-right: 1em; text-align: center; vertical-align: top\">10.1007/s10126-020-09984-<br>1 ...</td>\n",
       "        <td style=\"padding-left: 1em; padding-right: 1em; text-align: center; vertical-align: top\">Transcriptome Analyses of<br>Immune System Behaviors ...</td>\n",
       "        <td style=\"padding-left: 1em; padding-right: 1em; text-align: center; vertical-align: top\">21 July 2020</td>\n",
       "    </tr>\n",
       "    <tr>\n",
       "        <td style=\"padding-left: 1em; padding-right: 1em; text-align: center; vertical-align: top\">10.1371_journal.pone.0020<br>140 ...</td>\n",
       "        <td style=\"padding-left: 1em; padding-right: 1em; text-align: center; vertical-align: top\">10.1371/journal.pone.0020<br>140 ...</td>\n",
       "        <td style=\"padding-left: 1em; padding-right: 1em; text-align: center; vertical-align: top\">Identification of Fast-<br>Evolving Genes in the ...</td>\n",
       "        <td style=\"padding-left: 1em; padding-right: 1em; text-align: center; vertical-align: top\">June 20, 2011</td>\n",
       "    </tr>\n",
       "    <tr>\n",
       "        <td style=\"padding-left: 1em; padding-right: 1em; text-align: center; vertical-align: top\">10.1371_journal.pone.0081<br>821 ...</td>\n",
       "        <td style=\"padding-left: 1em; padding-right: 1em; text-align: center; vertical-align: top\">10.1371/journal.pone.0081<br>821 ...</td>\n",
       "        <td style=\"padding-left: 1em; padding-right: 1em; text-align: center; vertical-align: top\">RNA-seq Profiles of<br>Immune Related Genes in ...</td>\n",
       "        <td style=\"padding-left: 1em; padding-right: 1em; text-align: center; vertical-align: top\">November 21, 2013</td>\n",
       "    </tr>\n",
       "    <tr>\n",
       "        <td style=\"padding-left: 1em; padding-right: 1em; text-align: center; vertical-align: top\">10.1086_692717</td>\n",
       "        <td style=\"padding-left: 1em; padding-right: 1em; text-align: center; vertical-align: top\">None</td>\n",
       "        <td style=\"padding-left: 1em; padding-right: 1em; text-align: center; vertical-align: top\">Early Transcriptional<br>Responses during Heat ...</td>\n",
       "        <td style=\"padding-left: 1em; padding-right: 1em; text-align: center; vertical-align: top\">31 May 2017</td>\n",
       "    </tr>\n",
       "    <tr>\n",
       "        <td style=\"padding-left: 1em; padding-right: 1em; text-align: center; vertical-align: top\">10.5539_ijb.v4n1p3</td>\n",
       "        <td style=\"padding-left: 1em; padding-right: 1em; text-align: center; vertical-align: top\">10.5539/ijb.v4n1p3</td>\n",
       "        <td style=\"padding-left: 1em; padding-right: 1em; text-align: center; vertical-align: top\">Effects of Heat Stress on<br>Phytopigments of ...</td>\n",
       "        <td style=\"padding-left: 1em; padding-right: 1em; text-align: center; vertical-align: top\">January 1, 2012</td>\n",
       "    </tr>\n",
       "</table>\n",
       "<table frame=\"box\" rules=\"cols\">\n",
       "    <tr>\n",
       "        <th style=\"padding-left: 1em; padding-right: 1em; text-align: center\">Keywords</th>\n",
       "        <th style=\"padding-left: 1em; padding-right: 1em; text-align: center\">Abstract</th>\n",
       "        <th style=\"padding-left: 1em; padding-right: 1em; text-align: center\">Language</th>\n",
       "        <th style=\"padding-left: 1em; padding-right: 1em; text-align: center\">Species present</th>\n",
       "    </tr>\n",
       "    <tr>\n",
       "        <td style=\"padding-left: 1em; padding-right: 1em; text-align: center; vertical-align: top\">None</td>\n",
       "        <td style=\"padding-left: 1em; padding-right: 1em; text-align: center; vertical-align: top\">The effects of elevated<br>CO 2 on the early life ...</td>\n",
       "        <td style=\"padding-left: 1em; padding-right: 1em; text-align: center; vertical-align: top\">en</td>\n",
       "        <td style=\"padding-left: 1em; padding-right: 1em; text-align: center; vertical-align: top\">[Acropora gemmifera,<br>Acropora millepora] ...</td>\n",
       "    </tr>\n",
       "    <tr>\n",
       "        <td style=\"padding-left: 1em; padding-right: 1em; text-align: center; vertical-align: top\">Coral bleaching<br>Proteomics Acropora ...</td>\n",
       "        <td style=\"padding-left: 1em; padding-right: 1em; text-align: center; vertical-align: top\">There has been an<br>increase in the scale ...</td>\n",
       "        <td style=\"padding-left: 1em; padding-right: 1em; text-align: center; vertical-align: top\">en</td>\n",
       "        <td style=\"padding-left: 1em; padding-right: 1em; text-align: center; vertical-align: top\">[Acropora palmata]</td>\n",
       "    </tr>\n",
       "    <tr>\n",
       "        <td style=\"padding-left: 1em; padding-right: 1em; text-align: center; vertical-align: top\">Apoptosis,Caspase,Bcl-2,C<br>oral,Acropora ...</td>\n",
       "        <td style=\"padding-left: 1em; padding-right: 1em; text-align: center; vertical-align: top\">Background: Apoptotic<br>cell death is a defining ...</td>\n",
       "        <td style=\"padding-left: 1em; padding-right: 1em; text-align: center; vertical-align: top\">en</td>\n",
       "        <td style=\"padding-left: 1em; padding-right: 1em; text-align: center; vertical-align: top\">[Acropora millepora]</td>\n",
       "    </tr>\n",
       "    <tr>\n",
       "        <td style=\"padding-left: 1em; padding-right: 1em; text-align: center; vertical-align: top\">Acropora<br>muricata,bleaching ...</td>\n",
       "        <td style=\"padding-left: 1em; padding-right: 1em; text-align: center; vertical-align: top\">Coral reefs are the most<br>productive and ...</td>\n",
       "        <td style=\"padding-left: 1em; padding-right: 1em; text-align: center; vertical-align: top\">en</td>\n",
       "        <td style=\"padding-left: 1em; padding-right: 1em; text-align: center; vertical-align: top\">[]</td>\n",
       "    </tr>\n",
       "    <tr>\n",
       "        <td style=\"padding-left: 1em; padding-right: 1em; text-align: center; vertical-align: top\">None</td>\n",
       "        <td style=\"padding-left: 1em; padding-right: 1em; text-align: center; vertical-align: top\">Background: Mass coral<br>bleaching is increasing ...</td>\n",
       "        <td style=\"padding-left: 1em; padding-right: 1em; text-align: center; vertical-align: top\">en</td>\n",
       "        <td style=\"padding-left: 1em; padding-right: 1em; text-align: center; vertical-align: top\">[Acropora millepora]</td>\n",
       "    </tr>\n",
       "    <tr>\n",
       "        <td style=\"padding-left: 1em; padding-right: 1em; text-align: center; vertical-align: top\">Coral,Vibrio<br>coralliilyticus,Thermal ...</td>\n",
       "        <td style=\"padding-left: 1em; padding-right: 1em; text-align: center; vertical-align: top\">Elevated sea surface<br>temperature associated ...</td>\n",
       "        <td style=\"padding-left: 1em; padding-right: 1em; text-align: center; vertical-align: top\">en</td>\n",
       "        <td style=\"padding-left: 1em; padding-right: 1em; text-align: center; vertical-align: top\">[Acropora digitifera]</td>\n",
       "    </tr>\n",
       "    <tr>\n",
       "        <td style=\"padding-left: 1em; padding-right: 1em; text-align: center; vertical-align: top\">None</td>\n",
       "        <td style=\"padding-left: 1em; padding-right: 1em; text-align: center; vertical-align: top\">To identify fast-evolving<br>genes in reef-building ...</td>\n",
       "        <td style=\"padding-left: 1em; padding-right: 1em; text-align: center; vertical-align: top\">en</td>\n",
       "        <td style=\"padding-left: 1em; padding-right: 1em; text-align: center; vertical-align: top\">[Acropora millepora,<br>Acropora palmata] ...</td>\n",
       "    </tr>\n",
       "    <tr>\n",
       "        <td style=\"padding-left: 1em; padding-right: 1em; text-align: center; vertical-align: top\">None</td>\n",
       "        <td style=\"padding-left: 1em; padding-right: 1em; text-align: center; vertical-align: top\">Coral diseases are among<br>the most serious threats ...</td>\n",
       "        <td style=\"padding-left: 1em; padding-right: 1em; text-align: center; vertical-align: top\">en</td>\n",
       "        <td style=\"padding-left: 1em; padding-right: 1em; text-align: center; vertical-align: top\">[Acropora cervicornis]</td>\n",
       "    </tr>\n",
       "    <tr>\n",
       "        <td style=\"padding-left: 1em; padding-right: 1em; text-align: center; vertical-align: top\">HSP, heat shock<br>protein,Log2FC, Log2  ...</td>\n",
       "        <td style=\"padding-left: 1em; padding-right: 1em; text-align: center; vertical-align: top\">Corals respond to heat<br>pulses that cause ...</td>\n",
       "        <td style=\"padding-left: 1em; padding-right: 1em; text-align: center; vertical-align: top\">en</td>\n",
       "        <td style=\"padding-left: 1em; padding-right: 1em; text-align: center; vertical-align: top\">[]</td>\n",
       "    </tr>\n",
       "    <tr>\n",
       "        <td style=\"padding-left: 1em; padding-right: 1em; text-align: center; vertical-align: top\">Carotenoids,Chlorophyll a<br>(chl a),Chlorophyll c ...</td>\n",
       "        <td style=\"padding-left: 1em; padding-right: 1em; text-align: center; vertical-align: top\">The question of whether<br>global warming affects ...</td>\n",
       "        <td style=\"padding-left: 1em; padding-right: 1em; text-align: center; vertical-align: top\">en</td>\n",
       "        <td style=\"padding-left: 1em; padding-right: 1em; text-align: center; vertical-align: top\">[Acropora hyacinthus]</td>\n",
       "    </tr>\n",
       "</table>\n",
       "[? rows x 8 columns]<br/>Note: Only the head of the SFrame is printed. This SFrame is lazily evaluated.<br/>You can use sf.materialize() to force materialization.\n",
       "</div>"
      ],
      "text/plain": [
       "Columns:\n",
       "\tID\tstr\n",
       "\tDOI\tstr\n",
       "\tTitle\tstr\n",
       "\tDate\tstr\n",
       "\tKeywords\tstr\n",
       "\tAbstract\tstr\n",
       "\tLanguage\tstr\n",
       "\tSpecies present\tlist\n",
       "\n",
       "Rows: Unknown\n",
       "\n",
       "Data:\n",
       "+-------------------------------+-------------------------------+\n",
       "|               ID              |              DOI              |\n",
       "+-------------------------------+-------------------------------+\n",
       "|   10.1038_s41598-018-21267-3  |   10.1038/s41598-018-21267-3  |\n",
       "| 10.1016_j.marpolbul.2016.0... | 10.1016/j.marpolbul.2016.0... |\n",
       "|   10.1186_s12864-015-2355-x   |   10.1186/s12864-015-2355-x   |\n",
       "|       10.1111_mec.15642       |       10.1111/mec.15642       |\n",
       "|  10.1371_journal.pone.0016095 |  10.1371/journal.pone.0016095 |\n",
       "|   10.1007_s10126-020-09984-1  |   10.1007/s10126-020-09984-1  |\n",
       "|  10.1371_journal.pone.0020140 |  10.1371/journal.pone.0020140 |\n",
       "|  10.1371_journal.pone.0081821 |  10.1371/journal.pone.0081821 |\n",
       "|         10.1086_692717        |              None             |\n",
       "|       10.5539_ijb.v4n1p3      |       10.5539/ijb.v4n1p3      |\n",
       "+-------------------------------+-------------------------------+\n",
       "+-------------------------------+-------------------+\n",
       "|             Title             |        Date       |\n",
       "+-------------------------------+-------------------+\n",
       "| Elevated CO 2 delays the e... |        None       |\n",
       "| Proteomic analysis of blea... |   19 April 2016   |\n",
       "| Functional conservation of... |        None       |\n",
       "| Local acclimatisation-driv... |        None       |\n",
       "| Regulation of Apoptotic Me... |  January 24, 2011 |\n",
       "| Transcriptome Analyses of ... |    21 July 2020   |\n",
       "| Identification of Fast-Evo... |   June 20, 2011   |\n",
       "| RNA-seq Profiles of Immune... | November 21, 2013 |\n",
       "| Early Transcriptional Resp... |    31 May 2017    |\n",
       "| Effects of Heat Stress on ... |  January 1, 2012  |\n",
       "+-------------------------------+-------------------+\n",
       "+-------------------------------+-------------------------------+----------+\n",
       "|            Keywords           |            Abstract           | Language |\n",
       "+-------------------------------+-------------------------------+----------+\n",
       "|              None             | The effects of elevated CO... |    en    |\n",
       "| Coral bleaching Proteomics... | There has been an increase... |    en    |\n",
       "| Apoptosis,Caspase,Bcl-2,Co... | Background: Apoptotic cell... |    en    |\n",
       "| Acropora muricata,bleachin... | Coral reefs are the most p... |    en    |\n",
       "|              None             | Background: Mass coral ble... |    en    |\n",
       "| Coral,Vibrio coralliilytic... | Elevated sea surface tempe... |    en    |\n",
       "|              None             | To identify fast-evolving ... |    en    |\n",
       "|              None             | Coral diseases are among t... |    en    |\n",
       "| HSP, heat shock protein,Lo... | Corals respond to heat pul... |    en    |\n",
       "| Carotenoids,Chlorophyll a ... | The question of whether gl... |    en    |\n",
       "+-------------------------------+-------------------------------+----------+\n",
       "+-------------------------------+\n",
       "|        Species present        |\n",
       "+-------------------------------+\n",
       "| [Acropora gemmifera, Acrop... |\n",
       "|       [Acropora palmata]      |\n",
       "|      [Acropora millepora]     |\n",
       "|               []              |\n",
       "|      [Acropora millepora]     |\n",
       "|     [Acropora digitifera]     |\n",
       "| [Acropora millepora, Acrop... |\n",
       "|     [Acropora cervicornis]    |\n",
       "|               []              |\n",
       "|     [Acropora hyacinthus]     |\n",
       "+-------------------------------+\n",
       "[? rows x 8 columns]\n",
       "Note: Only the head of the SFrame is printed. This SFrame is lazily evaluated.\n",
       "You can use sf.materialize() to force materialization."
      ]
     },
     "execution_count": 14,
     "metadata": {},
     "output_type": "execute_result"
    }
   ],
   "source": [
    "swissprot = turicreate.SFrame.read_csv('swissprot_all.tab', '\\t')\n",
    "swissprot = swissprot.rename({'Gene names  (primary )':'Gene names'})\n",
    "swissprot['Protein names'] = swissprot['Protein names'].apply(simplifyProteinName)  # make names more searchable\n",
    "swissprot['Gene names'] = swissprot['Gene names'].apply(removeCommonGeneNames)  # some gene names are common words\n",
    "swissprot = swissprot['Protein names', 'Gene names'].unique()  # remove duplicates\n",
    "swissprot = swissprot.swap_columns('Protein names', 'Gene names')\n",
    "summary = summary[summary['Language'] == 'en']  # only search documents written in english\n",
    "summary"
   ]
  },
  {
   "cell_type": "code",
   "execution_count": 15,
   "metadata": {},
   "outputs": [],
   "source": [
    "def searchGenes(text):\n",
    "    print(\".\", end=\"\")\n",
    "    gene_list = []\n",
    "    for gene in swissprot:\n",
    "        gene_name = gene['Gene names']\n",
    "        protein_name = gene['Protein names']\n",
    "        if protein_name in text:\n",
    "            gene_list.append(protein_name)  # found match\n",
    "        elif gene_name:\n",
    "            gene_name = re.sub(r'\\\\', r'\\\\\\\\', gene_name)  # escape any backslash characters in gene names\n",
    "            reg = re.compile('(?<=[^a-zA-Z])'+gene_name+'(?=[^a-zA-Z])') # don't let the gene name be part of a word\n",
    "            if re.search(reg, text):\n",
    "                gene_list.append(gene_name)\n",
    "    return gene_list\n"
   ]
  },
  {
   "cell_type": "code",
   "execution_count": 16,
   "metadata": {},
   "outputs": [
    {
     "name": "stdout",
     "output_type": "stream",
     "text": [
      "........................................................................."
     ]
    }
   ],
   "source": [
    "# This can take some time (searching for all proteins/genes is swissprot)...\n",
    "summary['Genes present'] = summary['Abstract'].apply(searchGenes)\n",
    "summary.materialize()"
   ]
  },
  {
   "cell_type": "code",
   "execution_count": 17,
   "metadata": {},
   "outputs": [
    {
     "data": {
      "text/html": [
       "<div style=\"max-height:1000px;max-width:1500px;overflow:auto;\"><table frame=\"box\" rules=\"cols\">\n",
       "    <tr>\n",
       "        <th style=\"padding-left: 1em; padding-right: 1em; text-align: center\">ID</th>\n",
       "        <th style=\"padding-left: 1em; padding-right: 1em; text-align: center\">DOI</th>\n",
       "        <th style=\"padding-left: 1em; padding-right: 1em; text-align: center\">Title</th>\n",
       "        <th style=\"padding-left: 1em; padding-right: 1em; text-align: center\">Date</th>\n",
       "    </tr>\n",
       "    <tr>\n",
       "        <td style=\"padding-left: 1em; padding-right: 1em; text-align: center; vertical-align: top\">10.1038_s41598-018-21267-<br>3 ...</td>\n",
       "        <td style=\"padding-left: 1em; padding-right: 1em; text-align: center; vertical-align: top\">10.1038/s41598-018-21267-<br>3 ...</td>\n",
       "        <td style=\"padding-left: 1em; padding-right: 1em; text-align: center; vertical-align: top\">Elevated CO 2 delays the<br>early development of ...</td>\n",
       "        <td style=\"padding-left: 1em; padding-right: 1em; text-align: center; vertical-align: top\">None</td>\n",
       "    </tr>\n",
       "    <tr>\n",
       "        <td style=\"padding-left: 1em; padding-right: 1em; text-align: center; vertical-align: top\">10.1016_j.marpolbul.2016.<br>03.068 ...</td>\n",
       "        <td style=\"padding-left: 1em; padding-right: 1em; text-align: center; vertical-align: top\">10.1016/j.marpolbul.2016.<br>03.068 ...</td>\n",
       "        <td style=\"padding-left: 1em; padding-right: 1em; text-align: center; vertical-align: top\">Proteomic analysis of<br>bleached and unbleached ...</td>\n",
       "        <td style=\"padding-left: 1em; padding-right: 1em; text-align: center; vertical-align: top\">19 April 2016</td>\n",
       "    </tr>\n",
       "    <tr>\n",
       "        <td style=\"padding-left: 1em; padding-right: 1em; text-align: center; vertical-align: top\">10.1186_s12864-015-2355-x</td>\n",
       "        <td style=\"padding-left: 1em; padding-right: 1em; text-align: center; vertical-align: top\">10.1186/s12864-015-2355-x</td>\n",
       "        <td style=\"padding-left: 1em; padding-right: 1em; text-align: center; vertical-align: top\">Functional conservation<br>of the apoptotic ...</td>\n",
       "        <td style=\"padding-left: 1em; padding-right: 1em; text-align: center; vertical-align: top\">None</td>\n",
       "    </tr>\n",
       "    <tr>\n",
       "        <td style=\"padding-left: 1em; padding-right: 1em; text-align: center; vertical-align: top\">10.1111_mec.15642</td>\n",
       "        <td style=\"padding-left: 1em; padding-right: 1em; text-align: center; vertical-align: top\">10.1111/mec.15642</td>\n",
       "        <td style=\"padding-left: 1em; padding-right: 1em; text-align: center; vertical-align: top\">Local acclimatisation-<br>driven differential gene ...</td>\n",
       "        <td style=\"padding-left: 1em; padding-right: 1em; text-align: center; vertical-align: top\">None</td>\n",
       "    </tr>\n",
       "    <tr>\n",
       "        <td style=\"padding-left: 1em; padding-right: 1em; text-align: center; vertical-align: top\">10.1371_journal.pone.0016<br>095 ...</td>\n",
       "        <td style=\"padding-left: 1em; padding-right: 1em; text-align: center; vertical-align: top\">10.1371/journal.pone.0016<br>095 ...</td>\n",
       "        <td style=\"padding-left: 1em; padding-right: 1em; text-align: center; vertical-align: top\">Regulation of Apoptotic<br>Mediators Reveals Dyn ...</td>\n",
       "        <td style=\"padding-left: 1em; padding-right: 1em; text-align: center; vertical-align: top\">January 24, 2011</td>\n",
       "    </tr>\n",
       "    <tr>\n",
       "        <td style=\"padding-left: 1em; padding-right: 1em; text-align: center; vertical-align: top\">10.1007_s10126-020-09984-<br>1 ...</td>\n",
       "        <td style=\"padding-left: 1em; padding-right: 1em; text-align: center; vertical-align: top\">10.1007/s10126-020-09984-<br>1 ...</td>\n",
       "        <td style=\"padding-left: 1em; padding-right: 1em; text-align: center; vertical-align: top\">Transcriptome Analyses of<br>Immune System Behaviors ...</td>\n",
       "        <td style=\"padding-left: 1em; padding-right: 1em; text-align: center; vertical-align: top\">21 July 2020</td>\n",
       "    </tr>\n",
       "    <tr>\n",
       "        <td style=\"padding-left: 1em; padding-right: 1em; text-align: center; vertical-align: top\">10.1371_journal.pone.0020<br>140 ...</td>\n",
       "        <td style=\"padding-left: 1em; padding-right: 1em; text-align: center; vertical-align: top\">10.1371/journal.pone.0020<br>140 ...</td>\n",
       "        <td style=\"padding-left: 1em; padding-right: 1em; text-align: center; vertical-align: top\">Identification of Fast-<br>Evolving Genes in the ...</td>\n",
       "        <td style=\"padding-left: 1em; padding-right: 1em; text-align: center; vertical-align: top\">June 20, 2011</td>\n",
       "    </tr>\n",
       "    <tr>\n",
       "        <td style=\"padding-left: 1em; padding-right: 1em; text-align: center; vertical-align: top\">10.1371_journal.pone.0081<br>821 ...</td>\n",
       "        <td style=\"padding-left: 1em; padding-right: 1em; text-align: center; vertical-align: top\">10.1371/journal.pone.0081<br>821 ...</td>\n",
       "        <td style=\"padding-left: 1em; padding-right: 1em; text-align: center; vertical-align: top\">RNA-seq Profiles of<br>Immune Related Genes in ...</td>\n",
       "        <td style=\"padding-left: 1em; padding-right: 1em; text-align: center; vertical-align: top\">November 21, 2013</td>\n",
       "    </tr>\n",
       "    <tr>\n",
       "        <td style=\"padding-left: 1em; padding-right: 1em; text-align: center; vertical-align: top\">10.1086_692717</td>\n",
       "        <td style=\"padding-left: 1em; padding-right: 1em; text-align: center; vertical-align: top\">None</td>\n",
       "        <td style=\"padding-left: 1em; padding-right: 1em; text-align: center; vertical-align: top\">Early Transcriptional<br>Responses during Heat ...</td>\n",
       "        <td style=\"padding-left: 1em; padding-right: 1em; text-align: center; vertical-align: top\">31 May 2017</td>\n",
       "    </tr>\n",
       "    <tr>\n",
       "        <td style=\"padding-left: 1em; padding-right: 1em; text-align: center; vertical-align: top\">10.5539_ijb.v4n1p3</td>\n",
       "        <td style=\"padding-left: 1em; padding-right: 1em; text-align: center; vertical-align: top\">10.5539/ijb.v4n1p3</td>\n",
       "        <td style=\"padding-left: 1em; padding-right: 1em; text-align: center; vertical-align: top\">Effects of Heat Stress on<br>Phytopigments of ...</td>\n",
       "        <td style=\"padding-left: 1em; padding-right: 1em; text-align: center; vertical-align: top\">January 1, 2012</td>\n",
       "    </tr>\n",
       "</table>\n",
       "<table frame=\"box\" rules=\"cols\">\n",
       "    <tr>\n",
       "        <th style=\"padding-left: 1em; padding-right: 1em; text-align: center\">Keywords</th>\n",
       "        <th style=\"padding-left: 1em; padding-right: 1em; text-align: center\">Abstract</th>\n",
       "        <th style=\"padding-left: 1em; padding-right: 1em; text-align: center\">Language</th>\n",
       "        <th style=\"padding-left: 1em; padding-right: 1em; text-align: center\">Species present</th>\n",
       "    </tr>\n",
       "    <tr>\n",
       "        <td style=\"padding-left: 1em; padding-right: 1em; text-align: center; vertical-align: top\">None</td>\n",
       "        <td style=\"padding-left: 1em; padding-right: 1em; text-align: center; vertical-align: top\">The effects of elevated<br>CO 2 on the early life ...</td>\n",
       "        <td style=\"padding-left: 1em; padding-right: 1em; text-align: center; vertical-align: top\">en</td>\n",
       "        <td style=\"padding-left: 1em; padding-right: 1em; text-align: center; vertical-align: top\">[Acropora gemmifera,<br>Acropora millepora] ...</td>\n",
       "    </tr>\n",
       "    <tr>\n",
       "        <td style=\"padding-left: 1em; padding-right: 1em; text-align: center; vertical-align: top\">Coral bleaching<br>Proteomics Acropora ...</td>\n",
       "        <td style=\"padding-left: 1em; padding-right: 1em; text-align: center; vertical-align: top\">There has been an<br>increase in the scale ...</td>\n",
       "        <td style=\"padding-left: 1em; padding-right: 1em; text-align: center; vertical-align: top\">en</td>\n",
       "        <td style=\"padding-left: 1em; padding-right: 1em; text-align: center; vertical-align: top\">[Acropora palmata]</td>\n",
       "    </tr>\n",
       "    <tr>\n",
       "        <td style=\"padding-left: 1em; padding-right: 1em; text-align: center; vertical-align: top\">Apoptosis,Caspase,Bcl-2,C<br>oral,Acropora ...</td>\n",
       "        <td style=\"padding-left: 1em; padding-right: 1em; text-align: center; vertical-align: top\">Background: Apoptotic<br>cell death is a defining ...</td>\n",
       "        <td style=\"padding-left: 1em; padding-right: 1em; text-align: center; vertical-align: top\">en</td>\n",
       "        <td style=\"padding-left: 1em; padding-right: 1em; text-align: center; vertical-align: top\">[Acropora millepora]</td>\n",
       "    </tr>\n",
       "    <tr>\n",
       "        <td style=\"padding-left: 1em; padding-right: 1em; text-align: center; vertical-align: top\">Acropora<br>muricata,bleaching ...</td>\n",
       "        <td style=\"padding-left: 1em; padding-right: 1em; text-align: center; vertical-align: top\">Coral reefs are the most<br>productive and ...</td>\n",
       "        <td style=\"padding-left: 1em; padding-right: 1em; text-align: center; vertical-align: top\">en</td>\n",
       "        <td style=\"padding-left: 1em; padding-right: 1em; text-align: center; vertical-align: top\">[]</td>\n",
       "    </tr>\n",
       "    <tr>\n",
       "        <td style=\"padding-left: 1em; padding-right: 1em; text-align: center; vertical-align: top\">None</td>\n",
       "        <td style=\"padding-left: 1em; padding-right: 1em; text-align: center; vertical-align: top\">Background: Mass coral<br>bleaching is increasing ...</td>\n",
       "        <td style=\"padding-left: 1em; padding-right: 1em; text-align: center; vertical-align: top\">en</td>\n",
       "        <td style=\"padding-left: 1em; padding-right: 1em; text-align: center; vertical-align: top\">[Acropora millepora]</td>\n",
       "    </tr>\n",
       "    <tr>\n",
       "        <td style=\"padding-left: 1em; padding-right: 1em; text-align: center; vertical-align: top\">Coral,Vibrio<br>coralliilyticus,Thermal ...</td>\n",
       "        <td style=\"padding-left: 1em; padding-right: 1em; text-align: center; vertical-align: top\">Elevated sea surface<br>temperature associated ...</td>\n",
       "        <td style=\"padding-left: 1em; padding-right: 1em; text-align: center; vertical-align: top\">en</td>\n",
       "        <td style=\"padding-left: 1em; padding-right: 1em; text-align: center; vertical-align: top\">[Acropora digitifera]</td>\n",
       "    </tr>\n",
       "    <tr>\n",
       "        <td style=\"padding-left: 1em; padding-right: 1em; text-align: center; vertical-align: top\">None</td>\n",
       "        <td style=\"padding-left: 1em; padding-right: 1em; text-align: center; vertical-align: top\">To identify fast-evolving<br>genes in reef-building ...</td>\n",
       "        <td style=\"padding-left: 1em; padding-right: 1em; text-align: center; vertical-align: top\">en</td>\n",
       "        <td style=\"padding-left: 1em; padding-right: 1em; text-align: center; vertical-align: top\">[Acropora millepora,<br>Acropora palmata] ...</td>\n",
       "    </tr>\n",
       "    <tr>\n",
       "        <td style=\"padding-left: 1em; padding-right: 1em; text-align: center; vertical-align: top\">None</td>\n",
       "        <td style=\"padding-left: 1em; padding-right: 1em; text-align: center; vertical-align: top\">Coral diseases are among<br>the most serious threats ...</td>\n",
       "        <td style=\"padding-left: 1em; padding-right: 1em; text-align: center; vertical-align: top\">en</td>\n",
       "        <td style=\"padding-left: 1em; padding-right: 1em; text-align: center; vertical-align: top\">[Acropora cervicornis]</td>\n",
       "    </tr>\n",
       "    <tr>\n",
       "        <td style=\"padding-left: 1em; padding-right: 1em; text-align: center; vertical-align: top\">HSP, heat shock<br>protein,Log2FC, Log2  ...</td>\n",
       "        <td style=\"padding-left: 1em; padding-right: 1em; text-align: center; vertical-align: top\">Corals respond to heat<br>pulses that cause ...</td>\n",
       "        <td style=\"padding-left: 1em; padding-right: 1em; text-align: center; vertical-align: top\">en</td>\n",
       "        <td style=\"padding-left: 1em; padding-right: 1em; text-align: center; vertical-align: top\">[]</td>\n",
       "    </tr>\n",
       "    <tr>\n",
       "        <td style=\"padding-left: 1em; padding-right: 1em; text-align: center; vertical-align: top\">Carotenoids,Chlorophyll a<br>(chl a),Chlorophyll c ...</td>\n",
       "        <td style=\"padding-left: 1em; padding-right: 1em; text-align: center; vertical-align: top\">The question of whether<br>global warming affects ...</td>\n",
       "        <td style=\"padding-left: 1em; padding-right: 1em; text-align: center; vertical-align: top\">en</td>\n",
       "        <td style=\"padding-left: 1em; padding-right: 1em; text-align: center; vertical-align: top\">[Acropora hyacinthus]</td>\n",
       "    </tr>\n",
       "</table>\n",
       "<table frame=\"box\" rules=\"cols\">\n",
       "    <tr>\n",
       "        <th style=\"padding-left: 1em; padding-right: 1em; text-align: center\">Genes present</th>\n",
       "    </tr>\n",
       "    <tr>\n",
       "        <td style=\"padding-left: 1em; padding-right: 1em; text-align: center; vertical-align: top\">[]</td>\n",
       "    </tr>\n",
       "    <tr>\n",
       "        <td style=\"padding-left: 1em; padding-right: 1em; text-align: center; vertical-align: top\">[]</td>\n",
       "    </tr>\n",
       "    <tr>\n",
       "        <td style=\"padding-left: 1em; padding-right: 1em; text-align: center; vertical-align: top\">[]</td>\n",
       "    </tr>\n",
       "    <tr>\n",
       "        <td style=\"padding-left: 1em; padding-right: 1em; text-align: center; vertical-align: top\">[]</td>\n",
       "    </tr>\n",
       "    <tr>\n",
       "        <td style=\"padding-left: 1em; padding-right: 1em; text-align: center; vertical-align: top\">[DNA, DNA, DNA, DNA, DNA,<br>DNA, DNA, DNA, DNA, DNA, ...</td>\n",
       "    </tr>\n",
       "    <tr>\n",
       "        <td style=\"padding-left: 1em; padding-right: 1em; text-align: center; vertical-align: top\">[]</td>\n",
       "    </tr>\n",
       "    <tr>\n",
       "        <td style=\"padding-left: 1em; padding-right: 1em; text-align: center; vertical-align: top\">[]</td>\n",
       "    </tr>\n",
       "    <tr>\n",
       "        <td style=\"padding-left: 1em; padding-right: 1em; text-align: center; vertical-align: top\">[mRNA, mRNA, mRNA]</td>\n",
       "    </tr>\n",
       "    <tr>\n",
       "        <td style=\"padding-left: 1em; padding-right: 1em; text-align: center; vertical-align: top\">[Pol polyprotein, term]</td>\n",
       "    </tr>\n",
       "    <tr>\n",
       "        <td style=\"padding-left: 1em; padding-right: 1em; text-align: center; vertical-align: top\">[]</td>\n",
       "    </tr>\n",
       "</table>\n",
       "[73 rows x 9 columns]<br/>Note: Only the head of the SFrame is printed.<br/>You can use print_rows(num_rows=m, num_columns=n) to print more rows and columns.\n",
       "</div>"
      ],
      "text/plain": [
       "Columns:\n",
       "\tID\tstr\n",
       "\tDOI\tstr\n",
       "\tTitle\tstr\n",
       "\tDate\tstr\n",
       "\tKeywords\tstr\n",
       "\tAbstract\tstr\n",
       "\tLanguage\tstr\n",
       "\tSpecies present\tlist\n",
       "\tGenes present\tlist\n",
       "\n",
       "Rows: 73\n",
       "\n",
       "Data:\n",
       "+-------------------------------+-------------------------------+\n",
       "|               ID              |              DOI              |\n",
       "+-------------------------------+-------------------------------+\n",
       "|   10.1038_s41598-018-21267-3  |   10.1038/s41598-018-21267-3  |\n",
       "| 10.1016_j.marpolbul.2016.0... | 10.1016/j.marpolbul.2016.0... |\n",
       "|   10.1186_s12864-015-2355-x   |   10.1186/s12864-015-2355-x   |\n",
       "|       10.1111_mec.15642       |       10.1111/mec.15642       |\n",
       "|  10.1371_journal.pone.0016095 |  10.1371/journal.pone.0016095 |\n",
       "|   10.1007_s10126-020-09984-1  |   10.1007/s10126-020-09984-1  |\n",
       "|  10.1371_journal.pone.0020140 |  10.1371/journal.pone.0020140 |\n",
       "|  10.1371_journal.pone.0081821 |  10.1371/journal.pone.0081821 |\n",
       "|         10.1086_692717        |              None             |\n",
       "|       10.5539_ijb.v4n1p3      |       10.5539/ijb.v4n1p3      |\n",
       "+-------------------------------+-------------------------------+\n",
       "+-------------------------------+-------------------+\n",
       "|             Title             |        Date       |\n",
       "+-------------------------------+-------------------+\n",
       "| Elevated CO 2 delays the e... |        None       |\n",
       "| Proteomic analysis of blea... |   19 April 2016   |\n",
       "| Functional conservation of... |        None       |\n",
       "| Local acclimatisation-driv... |        None       |\n",
       "| Regulation of Apoptotic Me... |  January 24, 2011 |\n",
       "| Transcriptome Analyses of ... |    21 July 2020   |\n",
       "| Identification of Fast-Evo... |   June 20, 2011   |\n",
       "| RNA-seq Profiles of Immune... | November 21, 2013 |\n",
       "| Early Transcriptional Resp... |    31 May 2017    |\n",
       "| Effects of Heat Stress on ... |  January 1, 2012  |\n",
       "+-------------------------------+-------------------+\n",
       "+-------------------------------+-------------------------------+----------+\n",
       "|            Keywords           |            Abstract           | Language |\n",
       "+-------------------------------+-------------------------------+----------+\n",
       "|              None             | The effects of elevated CO... |    en    |\n",
       "| Coral bleaching Proteomics... | There has been an increase... |    en    |\n",
       "| Apoptosis,Caspase,Bcl-2,Co... | Background: Apoptotic cell... |    en    |\n",
       "| Acropora muricata,bleachin... | Coral reefs are the most p... |    en    |\n",
       "|              None             | Background: Mass coral ble... |    en    |\n",
       "| Coral,Vibrio coralliilytic... | Elevated sea surface tempe... |    en    |\n",
       "|              None             | To identify fast-evolving ... |    en    |\n",
       "|              None             | Coral diseases are among t... |    en    |\n",
       "| HSP, heat shock protein,Lo... | Corals respond to heat pul... |    en    |\n",
       "| Carotenoids,Chlorophyll a ... | The question of whether gl... |    en    |\n",
       "+-------------------------------+-------------------------------+----------+\n",
       "+-------------------------------+-------------------------------+\n",
       "|        Species present        |         Genes present         |\n",
       "+-------------------------------+-------------------------------+\n",
       "| [Acropora gemmifera, Acrop... |               []              |\n",
       "|       [Acropora palmata]      |               []              |\n",
       "|      [Acropora millepora]     |               []              |\n",
       "|               []              |               []              |\n",
       "|      [Acropora millepora]     | [DNA, DNA, DNA, DNA, DNA, ... |\n",
       "|     [Acropora digitifera]     |               []              |\n",
       "| [Acropora millepora, Acrop... |               []              |\n",
       "|     [Acropora cervicornis]    |       [mRNA, mRNA, mRNA]      |\n",
       "|               []              |    [Pol polyprotein, term]    |\n",
       "|     [Acropora hyacinthus]     |               []              |\n",
       "+-------------------------------+-------------------------------+\n",
       "[73 rows x 9 columns]\n",
       "Note: Only the head of the SFrame is printed.\n",
       "You can use print_rows(num_rows=m, num_columns=n) to print more rows and columns."
      ]
     },
     "execution_count": 17,
     "metadata": {},
     "output_type": "execute_result"
    }
   ],
   "source": [
    "summary"
   ]
  },
  {
   "cell_type": "code",
   "execution_count": 18,
   "metadata": {},
   "outputs": [],
   "source": [
    "def totalPapersWithGene(gene_record):\n",
    "    total_papers = 0\n",
    "    protein_name = gene_record['Protein names']\n",
    "    gene_name = gene_record['Gene names']\n",
    "    for gene_list in summary['Genes present']:\n",
    "        if protein_name in gene_list or gene_name in gene_list:\n",
    "            total_papers += 1\n",
    "    return total_papers"
   ]
  },
  {
   "cell_type": "code",
   "execution_count": 19,
   "metadata": {},
   "outputs": [
    {
     "data": {
      "text/plain": [
       "dtype: str\n",
       "Rows: ?\n",
       "['CMT2', 'Dnmt3a', 'DRM1A', 'Dnmt3c', 'CMT3', 'DMT1', 'dnmA', 'Dnmt3b', 'DNMT1', 'DNMT3A', 'MET4', 'MET3', 'MET2A', 'ZMET5', 'DRM2', 'MET1B', 'CMT1', 'Dnmt1', 'DNMT3B', 'MET2', 'DMT105', 'MET1A', 'DRM1', 'DNMT', 'term', 'impact', 'impact', 'pcif1', 'PCIF1', 'Pcif1', 'alpha', 'alpha', 'alpha', 'alpha', 'alpha', 'cope', 'NOP2C', 'HSP70', 'HSP70', 'HSP70', 'HSP70', 'HSP70', 'RPL37', 'QCR2', 'RPL3', 'RPS27A', 'RPS27A', 'RPS2', None, 'NLRC5', 'pdp1', 'RPS27A', 'GSE1', 'RPL3', 'adcyap1', 'Dgat1', 'CCT7', 'NAIP', 'rmtB', 'Hsf1', 'CCT7', 'RPS27A', 'star', None, 'bud23', 'ACTB', 'RPS2', None, 'hsf1', 'HSP90', 'hsp70', 'HSP90', 'kamB', 'beta', 'ACTB', 'fmrO', 'BUD23', 'RID2', 'star', 'TATA', 'RPL3', 'TUBB', 'NLRC3', 'ACTB', 'BTRC', 'EF1A', 'slim', 'RPS2', 'HSP90', 'rmtC', 'TUBB', 'csnk1d', 'npmA', None, ... ]"
      ]
     },
     "execution_count": 19,
     "metadata": {},
     "output_type": "execute_result"
    }
   ],
   "source": [
    "gene_info = swissprot\n",
    "gene_info['Total papers'] = gene_info.apply(totalPapersWithGene)\n",
    "gene_info.materialize()\n",
    "gene_info = gene_info.sort('Total papers', ascending=False)\n",
    "totalPapersContainingGenes = sum(len(gene_list) > 0 for gene_list in summary['Genes present'])\n",
    "gene_info[gene_info['Total papers'] > 0]['Gene names']"
   ]
  },
  {
   "cell_type": "markdown",
   "metadata": {},
   "source": [
    "### Find loose matches hiding in a phrase like \"wnt-like genes\" or \"ras-related proteins\""
   ]
  },
  {
   "cell_type": "code",
   "execution_count": 20,
   "metadata": {},
   "outputs": [],
   "source": [
    "def findPossibleGeneTerms(text):\n",
    "    return re.findall('\\w+(?=-related|-like)', text)"
   ]
  },
  {
   "cell_type": "code",
   "execution_count": 21,
   "metadata": {},
   "outputs": [
    {
     "data": {
      "text/html": [
       "<div style=\"max-height:1000px;max-width:1500px;overflow:auto;\"><table frame=\"box\" rules=\"cols\">\n",
       "    <tr>\n",
       "        <th style=\"padding-left: 1em; padding-right: 1em; text-align: center\">ID</th>\n",
       "        <th style=\"padding-left: 1em; padding-right: 1em; text-align: center\">DOI</th>\n",
       "        <th style=\"padding-left: 1em; padding-right: 1em; text-align: center\">Title</th>\n",
       "        <th style=\"padding-left: 1em; padding-right: 1em; text-align: center\">Date</th>\n",
       "    </tr>\n",
       "    <tr>\n",
       "        <td style=\"padding-left: 1em; padding-right: 1em; text-align: center; vertical-align: top\">10.1186_s12864-015-2355-x</td>\n",
       "        <td style=\"padding-left: 1em; padding-right: 1em; text-align: center; vertical-align: top\">10.1186/s12864-015-2355-x</td>\n",
       "        <td style=\"padding-left: 1em; padding-right: 1em; text-align: center; vertical-align: top\">Functional conservation<br>of the apoptotic ...</td>\n",
       "        <td style=\"padding-left: 1em; padding-right: 1em; text-align: center; vertical-align: top\">None</td>\n",
       "    </tr>\n",
       "    <tr>\n",
       "        <td style=\"padding-left: 1em; padding-right: 1em; text-align: center; vertical-align: top\">10.1371_journal.pone.0016<br>095 ...</td>\n",
       "        <td style=\"padding-left: 1em; padding-right: 1em; text-align: center; vertical-align: top\">10.1371/journal.pone.0016<br>095 ...</td>\n",
       "        <td style=\"padding-left: 1em; padding-right: 1em; text-align: center; vertical-align: top\">Regulation of Apoptotic<br>Mediators Reveals Dyn ...</td>\n",
       "        <td style=\"padding-left: 1em; padding-right: 1em; text-align: center; vertical-align: top\">January 24, 2011</td>\n",
       "    </tr>\n",
       "    <tr>\n",
       "        <td style=\"padding-left: 1em; padding-right: 1em; text-align: center; vertical-align: top\">10.1371_journal.pone.0081<br>821 ...</td>\n",
       "        <td style=\"padding-left: 1em; padding-right: 1em; text-align: center; vertical-align: top\">10.1371/journal.pone.0081<br>821 ...</td>\n",
       "        <td style=\"padding-left: 1em; padding-right: 1em; text-align: center; vertical-align: top\">RNA-seq Profiles of<br>Immune Related Genes in ...</td>\n",
       "        <td style=\"padding-left: 1em; padding-right: 1em; text-align: center; vertical-align: top\">November 21, 2013</td>\n",
       "    </tr>\n",
       "    <tr>\n",
       "        <td style=\"padding-left: 1em; padding-right: 1em; text-align: center; vertical-align: top\">10.1086_692717</td>\n",
       "        <td style=\"padding-left: 1em; padding-right: 1em; text-align: center; vertical-align: top\">None</td>\n",
       "        <td style=\"padding-left: 1em; padding-right: 1em; text-align: center; vertical-align: top\">Early Transcriptional<br>Responses during Heat ...</td>\n",
       "        <td style=\"padding-left: 1em; padding-right: 1em; text-align: center; vertical-align: top\">31 May 2017</td>\n",
       "    </tr>\n",
       "    <tr>\n",
       "        <td style=\"padding-left: 1em; padding-right: 1em; text-align: center; vertical-align: top\">10.3354_dao069079</td>\n",
       "        <td style=\"padding-left: 1em; padding-right: 1em; text-align: center; vertical-align: top\">None</td>\n",
       "        <td style=\"padding-left: 1em; padding-right: 1em; text-align: center; vertical-align: top\">Bacterial community<br>structure associated  ...</td>\n",
       "        <td style=\"padding-left: 1em; padding-right: 1em; text-align: center; vertical-align: top\">None</td>\n",
       "    </tr>\n",
       "    <tr>\n",
       "        <td style=\"padding-left: 1em; padding-right: 1em; text-align: center; vertical-align: top\">10.1016_j.scitotenv.2019.<br>07.280 ...</td>\n",
       "        <td style=\"padding-left: 1em; padding-right: 1em; text-align: center; vertical-align: top\">10.1016/j.scitotenv.2019.<br>07.280 ...</td>\n",
       "        <td style=\"padding-left: 1em; padding-right: 1em; text-align: center; vertical-align: top\">Science of the Total<br>Environment ...</td>\n",
       "        <td style=\"padding-left: 1em; padding-right: 1em; text-align: center; vertical-align: top\">25 July 2019</td>\n",
       "    </tr>\n",
       "    <tr>\n",
       "        <td style=\"padding-left: 1em; padding-right: 1em; text-align: center; vertical-align: top\">10.1371_journal.pone.0013<br>975 ...</td>\n",
       "        <td style=\"padding-left: 1em; padding-right: 1em; text-align: center; vertical-align: top\">10.1371/journal.pone.0013<br>975 ...</td>\n",
       "        <td style=\"padding-left: 1em; padding-right: 1em; text-align: center; vertical-align: top\">Gene Expression in the<br>Scleractinian Acropora ...</td>\n",
       "        <td style=\"padding-left: 1em; padding-right: 1em; text-align: center; vertical-align: top\">November 12, 2010</td>\n",
       "    </tr>\n",
       "    <tr>\n",
       "        <td style=\"padding-left: 1em; padding-right: 1em; text-align: center; vertical-align: top\">10.1007_s12562-015-0862-y</td>\n",
       "        <td style=\"padding-left: 1em; padding-right: 1em; text-align: center; vertical-align: top\">10.1007/s12562-015-0862-y</td>\n",
       "        <td style=\"padding-left: 1em; padding-right: 1em; text-align: center; vertical-align: top\">Possible involvement of<br>Tachylectin-2-like le ...</td>\n",
       "        <td style=\"padding-left: 1em; padding-right: 1em; text-align: center; vertical-align: top\">18 March 2015</td>\n",
       "    </tr>\n",
       "    <tr>\n",
       "        <td style=\"padding-left: 1em; padding-right: 1em; text-align: center; vertical-align: top\">10.1016_j.jembe.2012.06.0<br>20 ...</td>\n",
       "        <td style=\"padding-left: 1em; padding-right: 1em; text-align: center; vertical-align: top\">10.1016/j.jembe.2012.06.0<br>20 ...</td>\n",
       "        <td style=\"padding-left: 1em; padding-right: 1em; text-align: center; vertical-align: top\">Differential gene<br>expression in juvenile ...</td>\n",
       "        <td style=\"padding-left: 1em; padding-right: 1em; text-align: center; vertical-align: top\">17 July 2012</td>\n",
       "    </tr>\n",
       "    <tr>\n",
       "        <td style=\"padding-left: 1em; padding-right: 1em; text-align: center; vertical-align: top\">10.1186_s12864-017-3959-0</td>\n",
       "        <td style=\"padding-left: 1em; padding-right: 1em; text-align: center; vertical-align: top\">10.1186/s12864-017-3959-0</td>\n",
       "        <td style=\"padding-left: 1em; padding-right: 1em; text-align: center; vertical-align: top\">Transcriptomic analysis<br>of the response of ...</td>\n",
       "        <td style=\"padding-left: 1em; padding-right: 1em; text-align: center; vertical-align: top\">None</td>\n",
       "    </tr>\n",
       "</table>\n",
       "<table frame=\"box\" rules=\"cols\">\n",
       "    <tr>\n",
       "        <th style=\"padding-left: 1em; padding-right: 1em; text-align: center\">Keywords</th>\n",
       "        <th style=\"padding-left: 1em; padding-right: 1em; text-align: center\">Abstract</th>\n",
       "        <th style=\"padding-left: 1em; padding-right: 1em; text-align: center\">Language</th>\n",
       "        <th style=\"padding-left: 1em; padding-right: 1em; text-align: center\">Species present</th>\n",
       "    </tr>\n",
       "    <tr>\n",
       "        <td style=\"padding-left: 1em; padding-right: 1em; text-align: center; vertical-align: top\">Apoptosis,Caspase,Bcl-2,C<br>oral,Acropora ...</td>\n",
       "        <td style=\"padding-left: 1em; padding-right: 1em; text-align: center; vertical-align: top\">Background: Apoptotic<br>cell death is a defining ...</td>\n",
       "        <td style=\"padding-left: 1em; padding-right: 1em; text-align: center; vertical-align: top\">en</td>\n",
       "        <td style=\"padding-left: 1em; padding-right: 1em; text-align: center; vertical-align: top\">[Acropora millepora]</td>\n",
       "    </tr>\n",
       "    <tr>\n",
       "        <td style=\"padding-left: 1em; padding-right: 1em; text-align: center; vertical-align: top\">None</td>\n",
       "        <td style=\"padding-left: 1em; padding-right: 1em; text-align: center; vertical-align: top\">Background: Mass coral<br>bleaching is increasing ...</td>\n",
       "        <td style=\"padding-left: 1em; padding-right: 1em; text-align: center; vertical-align: top\">en</td>\n",
       "        <td style=\"padding-left: 1em; padding-right: 1em; text-align: center; vertical-align: top\">[Acropora millepora]</td>\n",
       "    </tr>\n",
       "    <tr>\n",
       "        <td style=\"padding-left: 1em; padding-right: 1em; text-align: center; vertical-align: top\">None</td>\n",
       "        <td style=\"padding-left: 1em; padding-right: 1em; text-align: center; vertical-align: top\">Coral diseases are among<br>the most serious threats ...</td>\n",
       "        <td style=\"padding-left: 1em; padding-right: 1em; text-align: center; vertical-align: top\">en</td>\n",
       "        <td style=\"padding-left: 1em; padding-right: 1em; text-align: center; vertical-align: top\">[Acropora cervicornis]</td>\n",
       "    </tr>\n",
       "    <tr>\n",
       "        <td style=\"padding-left: 1em; padding-right: 1em; text-align: center; vertical-align: top\">HSP, heat shock<br>protein,Log2FC, Log2  ...</td>\n",
       "        <td style=\"padding-left: 1em; padding-right: 1em; text-align: center; vertical-align: top\">Corals respond to heat<br>pulses that cause ...</td>\n",
       "        <td style=\"padding-left: 1em; padding-right: 1em; text-align: center; vertical-align: top\">en</td>\n",
       "        <td style=\"padding-left: 1em; padding-right: 1em; text-align: center; vertical-align: top\">[]</td>\n",
       "    </tr>\n",
       "    <tr>\n",
       "        <td style=\"padding-left: 1em; padding-right: 1em; text-align: center; vertical-align: top\">None</td>\n",
       "        <td style=\"padding-left: 1em; padding-right: 1em; text-align: center; vertical-align: top\">Culture-independent<br>molecular (16S ribosomal ...</td>\n",
       "        <td style=\"padding-left: 1em; padding-right: 1em; text-align: center; vertical-align: top\">en</td>\n",
       "        <td style=\"padding-left: 1em; padding-right: 1em; text-align: center; vertical-align: top\">[Acropora palmata]</td>\n",
       "    </tr>\n",
       "    <tr>\n",
       "        <td style=\"padding-left: 1em; padding-right: 1em; text-align: center; vertical-align: top\">Benzo(a)pyrene<br>Antioxidant enzyme ...</td>\n",
       "        <td style=\"padding-left: 1em; padding-right: 1em; text-align: center; vertical-align: top\">The impact of acute<br>benzo(a)pyrene on ...</td>\n",
       "        <td style=\"padding-left: 1em; padding-right: 1em; text-align: center; vertical-align: top\">en</td>\n",
       "        <td style=\"padding-left: 1em; padding-right: 1em; text-align: center; vertical-align: top\">[]</td>\n",
       "    </tr>\n",
       "    <tr>\n",
       "        <td style=\"padding-left: 1em; padding-right: 1em; text-align: center; vertical-align: top\">None</td>\n",
       "        <td style=\"padding-left: 1em; padding-right: 1em; text-align: center; vertical-align: top\">Background: The success<br>of tropical reef-buil ...</td>\n",
       "        <td style=\"padding-left: 1em; padding-right: 1em; text-align: center; vertical-align: top\">en</td>\n",
       "        <td style=\"padding-left: 1em; padding-right: 1em; text-align: center; vertical-align: top\">[Acropora microphthalma]</td>\n",
       "    </tr>\n",
       "    <tr>\n",
       "        <td style=\"padding-left: 1em; padding-right: 1em; text-align: center; vertical-align: top\">N-acetyl-D-<br>galactosamine,Acropor ...</td>\n",
       "        <td style=\"padding-left: 1em; padding-right: 1em; text-align: center; vertical-align: top\">N-acetyl-D-galactosamine,<br>and N-acetyl-D- ...</td>\n",
       "        <td style=\"padding-left: 1em; padding-right: 1em; text-align: center; vertical-align: top\">en</td>\n",
       "        <td style=\"padding-left: 1em; padding-right: 1em; text-align: center; vertical-align: top\">[Acropora tenuis]</td>\n",
       "    </tr>\n",
       "    <tr>\n",
       "        <td style=\"padding-left: 1em; padding-right: 1em; text-align: center; vertical-align: top\">Coral Gene expression<br>HiCEP Stress response ...</td>\n",
       "        <td style=\"padding-left: 1em; padding-right: 1em; text-align: center; vertical-align: top\">We describe a strategy to<br>identify stress- ...</td>\n",
       "        <td style=\"padding-left: 1em; padding-right: 1em; text-align: center; vertical-align: top\">en</td>\n",
       "        <td style=\"padding-left: 1em; padding-right: 1em; text-align: center; vertical-align: top\">[Acropora tenuis]</td>\n",
       "    </tr>\n",
       "    <tr>\n",
       "        <td style=\"padding-left: 1em; padding-right: 1em; text-align: center; vertical-align: top\">DMSP pathway,Acropora<br>millepora,Coral,Salinity ...</td>\n",
       "        <td style=\"padding-left: 1em; padding-right: 1em; text-align: center; vertical-align: top\">Background: Dimethylsulfo<br>niopropionate (DMSP)  ...</td>\n",
       "        <td style=\"padding-left: 1em; padding-right: 1em; text-align: center; vertical-align: top\">en</td>\n",
       "        <td style=\"padding-left: 1em; padding-right: 1em; text-align: center; vertical-align: top\">[Acropora millepora]</td>\n",
       "    </tr>\n",
       "</table>\n",
       "<table frame=\"box\" rules=\"cols\">\n",
       "    <tr>\n",
       "        <th style=\"padding-left: 1em; padding-right: 1em; text-align: center\">Genes present</th>\n",
       "        <th style=\"padding-left: 1em; padding-right: 1em; text-align: center\">Possible gene terms</th>\n",
       "    </tr>\n",
       "    <tr>\n",
       "        <td style=\"padding-left: 1em; padding-right: 1em; text-align: center; vertical-align: top\">[]</td>\n",
       "        <td style=\"padding-left: 1em; padding-right: 1em; text-align: center; vertical-align: top\">[vertebrate]</td>\n",
       "    </tr>\n",
       "    <tr>\n",
       "        <td style=\"padding-left: 1em; padding-right: 1em; text-align: center; vertical-align: top\">[DNA, DNA, DNA, DNA, DNA,<br>DNA, DNA, DNA, DNA, DNA, ...</td>\n",
       "        <td style=\"padding-left: 1em; padding-right: 1em; text-align: center; vertical-align: top\">[3, 3]</td>\n",
       "    </tr>\n",
       "    <tr>\n",
       "        <td style=\"padding-left: 1em; padding-right: 1em; text-align: center; vertical-align: top\">[mRNA, mRNA, mRNA]</td>\n",
       "        <td style=\"padding-left: 1em; padding-right: 1em; text-align: center; vertical-align: top\">[Toll]</td>\n",
       "    </tr>\n",
       "    <tr>\n",
       "        <td style=\"padding-left: 1em; padding-right: 1em; text-align: center; vertical-align: top\">[Pol polyprotein, term]</td>\n",
       "        <td style=\"padding-left: 1em; padding-right: 1em; text-align: center; vertical-align: top\">[Krüppel, stress]</td>\n",
       "    </tr>\n",
       "    <tr>\n",
       "        <td style=\"padding-left: 1em; padding-right: 1em; text-align: center; vertical-align: top\">[star, star]</td>\n",
       "        <td style=\"padding-left: 1em; padding-right: 1em; text-align: center; vertical-align: top\">[plague, plague]</td>\n",
       "    </tr>\n",
       "    <tr>\n",
       "        <td style=\"padding-left: 1em; padding-right: 1em; text-align: center; vertical-align: top\">[impact, impact]</td>\n",
       "        <td style=\"padding-left: 1em; padding-right: 1em; text-align: center; vertical-align: top\">[stress]</td>\n",
       "    </tr>\n",
       "    <tr>\n",
       "        <td style=\"padding-left: 1em; padding-right: 1em; text-align: center; vertical-align: top\">[DNA, DNA, DNA, DNA, DNA,<br>mRNA, mRNA, mRNA, DNA, ...</td>\n",
       "        <td style=\"padding-left: 1em; padding-right: 1em; text-align: center; vertical-align: top\">[mycosporine,<br>synaptotagmin] ...</td>\n",
       "    </tr>\n",
       "    <tr>\n",
       "        <td style=\"padding-left: 1em; padding-right: 1em; text-align: center; vertical-align: top\">[DNA, DNA, DNA, DNA, DNA,<br>DNA, DNA, DNA, DNA, DNA, ...</td>\n",
       "        <td style=\"padding-left: 1em; padding-right: 1em; text-align: center; vertical-align: top\">[2]</td>\n",
       "    </tr>\n",
       "    <tr>\n",
       "        <td style=\"padding-left: 1em; padding-right: 1em; text-align: center; vertical-align: top\">[DNA, DNA, DNA, DNA, DNA,<br>DNA, DNA, DNA, DNA, DNA, ...</td>\n",
       "        <td style=\"padding-left: 1em; padding-right: 1em; text-align: center; vertical-align: top\">[stress, DnaJ]</td>\n",
       "    </tr>\n",
       "    <tr>\n",
       "        <td style=\"padding-left: 1em; padding-right: 1em; text-align: center; vertical-align: top\">[]</td>\n",
       "        <td style=\"padding-left: 1em; padding-right: 1em; text-align: center; vertical-align: top\">[algal]</td>\n",
       "    </tr>\n",
       "</table>\n",
       "[? rows x 10 columns]<br/>Note: Only the head of the SFrame is printed. This SFrame is lazily evaluated.<br/>You can use sf.materialize() to force materialization.\n",
       "</div>"
      ],
      "text/plain": [
       "Columns:\n",
       "\tID\tstr\n",
       "\tDOI\tstr\n",
       "\tTitle\tstr\n",
       "\tDate\tstr\n",
       "\tKeywords\tstr\n",
       "\tAbstract\tstr\n",
       "\tLanguage\tstr\n",
       "\tSpecies present\tlist\n",
       "\tGenes present\tlist\n",
       "\tPossible gene terms\tlist\n",
       "\n",
       "Rows: Unknown\n",
       "\n",
       "Data:\n",
       "+-------------------------------+-------------------------------+\n",
       "|               ID              |              DOI              |\n",
       "+-------------------------------+-------------------------------+\n",
       "|   10.1186_s12864-015-2355-x   |   10.1186/s12864-015-2355-x   |\n",
       "|  10.1371_journal.pone.0016095 |  10.1371/journal.pone.0016095 |\n",
       "|  10.1371_journal.pone.0081821 |  10.1371/journal.pone.0081821 |\n",
       "|         10.1086_692717        |              None             |\n",
       "|       10.3354_dao069079       |              None             |\n",
       "| 10.1016_j.scitotenv.2019.0... | 10.1016/j.scitotenv.2019.0... |\n",
       "|  10.1371_journal.pone.0013975 |  10.1371/journal.pone.0013975 |\n",
       "|   10.1007_s12562-015-0862-y   |   10.1007/s12562-015-0862-y   |\n",
       "|  10.1016_j.jembe.2012.06.020  |  10.1016/j.jembe.2012.06.020  |\n",
       "|   10.1186_s12864-017-3959-0   |   10.1186/s12864-017-3959-0   |\n",
       "+-------------------------------+-------------------------------+\n",
       "+-------------------------------+-------------------+\n",
       "|             Title             |        Date       |\n",
       "+-------------------------------+-------------------+\n",
       "| Functional conservation of... |        None       |\n",
       "| Regulation of Apoptotic Me... |  January 24, 2011 |\n",
       "| RNA-seq Profiles of Immune... | November 21, 2013 |\n",
       "| Early Transcriptional Resp... |    31 May 2017    |\n",
       "| Bacterial community struct... |        None       |\n",
       "| Science of the Total Envir... |    25 July 2019   |\n",
       "| Gene Expression in the Scl... | November 12, 2010 |\n",
       "| Possible involvement of Ta... |   18 March 2015   |\n",
       "| Differential gene expressi... |    17 July 2012   |\n",
       "| Transcriptomic analysis of... |        None       |\n",
       "+-------------------------------+-------------------+\n",
       "+-------------------------------+-------------------------------+----------+\n",
       "|            Keywords           |            Abstract           | Language |\n",
       "+-------------------------------+-------------------------------+----------+\n",
       "| Apoptosis,Caspase,Bcl-2,Co... | Background: Apoptotic cell... |    en    |\n",
       "|              None             | Background: Mass coral ble... |    en    |\n",
       "|              None             | Coral diseases are among t... |    en    |\n",
       "| HSP, heat shock protein,Lo... | Corals respond to heat pul... |    en    |\n",
       "|              None             | Culture-independent molecu... |    en    |\n",
       "| Benzo(a)pyrene Antioxidant... | The impact of acute benzo(... |    en    |\n",
       "|              None             | Background: The success of... |    en    |\n",
       "| N-acetyl-D-galactosamine,A... | N-acetyl-D-galactosamine, ... |    en    |\n",
       "| Coral Gene expression HiCE... | We describe a strategy to ... |    en    |\n",
       "| DMSP pathway,Acropora mill... | Background: Dimethylsulfon... |    en    |\n",
       "+-------------------------------+-------------------------------+----------+\n",
       "+--------------------------+-------------------------------+\n",
       "|     Species present      |         Genes present         |\n",
       "+--------------------------+-------------------------------+\n",
       "|   [Acropora millepora]   |               []              |\n",
       "|   [Acropora millepora]   | [DNA, DNA, DNA, DNA, DNA, ... |\n",
       "|  [Acropora cervicornis]  |       [mRNA, mRNA, mRNA]      |\n",
       "|            []            |    [Pol polyprotein, term]    |\n",
       "|    [Acropora palmata]    |          [star, star]         |\n",
       "|            []            |        [impact, impact]       |\n",
       "| [Acropora microphthalma] | [DNA, DNA, DNA, DNA, DNA, ... |\n",
       "|    [Acropora tenuis]     | [DNA, DNA, DNA, DNA, DNA, ... |\n",
       "|    [Acropora tenuis]     | [DNA, DNA, DNA, DNA, DNA, ... |\n",
       "|   [Acropora millepora]   |               []              |\n",
       "+--------------------------+-------------------------------+\n",
       "+------------------------------+\n",
       "|     Possible gene terms      |\n",
       "+------------------------------+\n",
       "|         [vertebrate]         |\n",
       "|            [3, 3]            |\n",
       "|            [Toll]            |\n",
       "|      [Krüppel, stress]       |\n",
       "|       [plague, plague]       |\n",
       "|           [stress]           |\n",
       "| [mycosporine, synaptotagmin] |\n",
       "|             [2]              |\n",
       "|        [stress, DnaJ]        |\n",
       "|           [algal]            |\n",
       "+------------------------------+\n",
       "[? rows x 10 columns]\n",
       "Note: Only the head of the SFrame is printed. This SFrame is lazily evaluated.\n",
       "You can use sf.materialize() to force materialization."
      ]
     },
     "execution_count": 21,
     "metadata": {},
     "output_type": "execute_result"
    }
   ],
   "source": [
    "summary['Possible gene terms'] = summary['Abstract'].apply(findPossibleGeneTerms)\n",
    "summary[summary['Possible gene terms']]\n"
   ]
  },
  {
   "cell_type": "markdown",
   "metadata": {},
   "source": [
    "## TF-IDF K-Means Clustering and Nearest Neighbors\n",
    "### (cool but admittedly not useful on the current dataset - leaving it just for fun)"
   ]
  },
  {
   "cell_type": "code",
   "execution_count": 44,
   "metadata": {},
   "outputs": [],
   "source": [
    "def wordsOnly(text):\n",
    "    text = re.sub(',', ' ', text)\n",
    "    text = re.sub('[^a-zA-Z\\s]', '', text)\n",
    "    return text"
   ]
  },
  {
   "cell_type": "code",
   "execution_count": 45,
   "metadata": {},
   "outputs": [],
   "source": [
    "summary = summary[summary['Language'] == 'en']\n",
    "summary['Abstract_Words_Only'] = summary['Abstract'].apply(wordsOnly)"
   ]
  },
  {
   "cell_type": "code",
   "execution_count": 46,
   "metadata": {},
   "outputs": [
    {
     "data": {
      "text/plain": [
       "dtype: dict\n",
       "Rows: 73\n",
       "[{'communities': 2.344549292093078, 'understanding': 1.7255100836868542, 'more': 1.3460204619819507, 'analysis': 1.1549652252192415, 'species': 2.6920409239639014, 'primarily': 2.9041650800285006, 'impacting': 3.597312260588446, 'assumption': 4.290459441148391, 'rubisco': 4.290459441148391, 'anhydrase': 2.9041650800285006, 'remodelling': 4.290459441148391, 'interactions': 2.498699971920336, 'involved': 1.2459370034249682, 'regulation': 2.211017899468555, 'upregulation': 2.211017899468555, 'kaniewska': 4.290459441148391, 'members': 2.211017899468555, 'family': 2.211017899468555, 'bcl': 3.1918471524802814, 'eg': 3.597312260588446, 'antiapoptotic': 3.1918471524802814, 'suite': 4.290459441148391, 'hsps': 2.9041650800285006, 'heat': 2.800175366504453, 'upregulating': 3.597312260588446, 'acclimate': 4.290459441148391, 'capacity': 3.1918471524802814, 'rocker': 4.290459441148391, 'response': 0.8247235383486646, 'strong': 2.681021528714291, 'lacked': 3.597312260588446, 'although': 2.211017899468555, 'anhydrases': 4.290459441148391, 'model': 2.498699971920336, 'carbonic': 5.808330160057001, 'there': 7.4960999157610075, 'seem': 4.290459441148391, 'transport': 9.378197168372312, 'many': 3.6111055827207816, 'corresponding': 3.1918471524802814, 'or': 0.9582549309731873, 'corals': 0.6387659917280152, 'pco': 11.616660320114002, 'ca': 5.362043057428582, 'elevated': 15.824092400461808, 'largely': 2.211017899468555, 'demonstrated': 2.498699971920336, 'be': 1.7129444733264898, 'related': 6.902040334747417, 'is': 1.2577752907215003, 'matter': 4.290459441148391, 'develop': 3.1918471524802814, 'particularly': 2.681021528714291, 'downregulation': 5.362043057428582, 'shock': 3.975748696308691, 'suppress': 4.290459441148391, 'these': 0.41925843024050014, 'an': 1.6494470766973293, 'playing': 4.290459441148391, 'al': 9.575541457440844, 'marine': 1.9878743481543455, 'proteins': 9.800613782765584, 'provide': 1.8925641683500207, 'membrane': 10.791936781765338, 'previous': 8.712495240085502, 'however': 1.2459370034249682, 'somps': 4.290459441148391, 'supporting': 3.1918471524802814, 'their': 1.989245150288124, 'carriers': 4.290459441148391, 'role': 1.6514021115331325, 'slc': 4.290459441148391, 'ring': 4.290459441148391, 'transporters': 12.871378323445173, 'under': 1.4000876832522264, 'suggesting': 1.8925641683500207, 'downregulated': 3.975748696308691, 'genes': 1.7612473577533299, 'saturation': 4.290459441148391, 'illumina': 3.597312260588446, 'millepora': 2.5894543351888, 'calcification': 11.055089497342776, 'early': 14.444422330883127, 'solute': 4.290459441148391, 'approach': 2.681021528714291, 'recruits': 15.959235762401407, 'degree': 3.597312260588446, 'some': 1.8925641683500207, 'aragonite': 4.290459441148391, 'partial': 4.290459441148391, 'new': 12.49349985960168, 'larvae': 11.055089497342776, 'have': 1.4000876832522264, 'culturing': 4.290459441148391, 'possibly': 4.290459441148391, 'the': 0.0, 'of': 0.0, 'complete': 2.681021528714291, 'effects': 3.1648184800923618, 'three': 1.7255100836868542, 'pelagic': 8.580918882296782, 'decreased': 2.211017899468555, 'used': 5.362043057428582, 'development': 12.49349985960168, 'studies': 6.902040334747417, 'investigated': 2.211017899468555, 'settling': 4.290459441148391, 'pressure': 3.597312260588446, 'coral': 1.411265787707517, 'were': 1.1353093071607352, 'authors': 4.290459441148391, 'to': 0.6714271855845153, 'high': 3.0357414378172196, 'important': 1.3460204619819507, 'morphology': 7.194624521176892, 'protein': 2.4918740068499363, 'gemmifera': 12.871378323445173, 'led': 2.9041650800285006, 'seawater': 3.7851283367000415, 'bicarbonate': 3.597312260588446, 'lifecycle': 4.290459441148391, 'organisms': 2.9041650800285006, 'skeleton': 17.98656130294223, 'noncalcifying': 4.290459441148391, 'resulting': 2.344549292093078, 'on': 2.5075911800749786, 'benthic': 4.290459441148391, 'was': 1.0585186509096574, 'at': 0.923163611161917, 'ph': 3.597312260588446, 'respectively': 2.498699971920336, 'impacts': 2.681021528714291, 'period': 2.498699971920336, 'membranes': 4.290459441148391, 'might': 6.633053698405666, 'metamorphosis': 3.597312260588446, 'a': 0.9434350393316762, 'believed': 3.597312260588446, 'temperature': 1.2947271675944, 'in': 0.11034657705868615, 'life': 17.490899803442353, 'fewer': 3.1918471524802814, 'stages': 9.994799887681344, 'production': 2.498699971920336, 'organic': 8.580918882296782, 'consistent': 2.498699971920336, 'rates': 2.9041650800285006, 'both': 1.1549652252192415, 'smaller': 4.290459441148391, 'infection': 2.9041650800285006, 'delayed': 6.383694304960563, 'consequently': 3.597312260588446, 'due': 1.5178707189086098, 'specific': 1.8055527913603908, 'various': 2.093234863812172, 'moya': 4.290459441148391, 'concern': 3.597312260588446, 'about': 2.344549292093078, 'potential': 1.7255100836868542, 'during': 3.7378110102749043, 'are': 1.7612473577533299, 'hco': 8.580918882296782, 'planktonic': 3.597312260588446, 'stony': 3.1918471524802814, 'has': 4.038061385945852, 'controlled': 3.597312260588446, 'until': 2.9041650800285006, 'they': 2.498699971920336, 'reported': 5.808330160057001, 'gene': 2.2053341389769328, 'study': 2.769490833485751, 'settle': 8.580918882296782, 'documenting': 4.290459441148391, 'morphological': 3.597312260588446, 'cytoskeletal': 8.580918882296782, 'acidified': 6.383694304960563, 'fig': 4.290459441148391, 'studied': 2.681021528714291, 'by': 3.694544357274369, 'after': 1.2459370034249682, 'changes': 3.214750848840571, 'calcifying': 4.290459441148391, 'base': 4.290459441148391, 'establish': 3.597312260588446, 'form': 3.1918471524802814, 'no': 1.8925641683500207, 'significantly': 1.2459370034249682, 'septa': 4.290459441148391, 'vulnerable': 4.290459441148391, 'structure': 2.498699971920336, 'skeletal': 3.597312260588446, 'rapidly': 6.383694304960563, 'phases': 3.597312260588446, 'stage': 5.808330160057001, 'that': 0.5803608562637701, 'several': 1.9878743481543455, 'acute': 2.681021528714291, 'expression': 3.4613242466645, 'also': 4.797667951160301, 'reducing': 3.597312260588446, 'growth': 2.344549292093078, 'closely': 2.9041650800285006, 'h': 1.8055527913603908, 'settlement': 5.808330160057001, 'as': 3.8204945826611487, 'well': 3.7851283367000415, 'calcium': 3.1918471524802814, 'co': 25.790042213023856, 'matrix': 3.1918471524802814, 'been': 4.038061385945852, 'information': 2.9041650800285006, 'significant': 1.8055527913603908, 'area': 3.1918471524802814, 'addition': 2.093234863812172, 'affected': 9.575541457440844, 'respond': 2.9041650800285006, 'and': 0.0, 'rnaseq': 2.211017899468555, 'membraneassociated': 4.290459441148391, 'atmospheric': 3.597312260588446, 'delaying': 4.290459441148391, 'success': 2.498699971920336, 'modulating': 4.290459441148391, 'other': 1.032362903126909, 'concentrations': 4.997399943840672, 'metabolism': 1.7255100836868542, 'changing': 2.9041650800285006, 'survival': 4.997399943840672, 'increasing': 4.186469727624344, 'algal': 2.093234863812172, 'with': 0.9044261837523503, 'showed': 1.4000876832522264, 'exhibited': 2.093234863812172, 'corallite': 4.290459441148391, 'analysed': 4.290459441148391, 'understand': 1.9878743481543455, 'postsettlement': 3.597312260588446, 'acropora': 0.23214434250550806, 'formation': 2.498699971920336, 'entire': 3.597312260588446, 'et': 9.575541457440844, 'how': 3.7851283367000415, 'synapticular': 4.290459441148391, 'exposure': 1.8925641683500207, 'detailed': 3.597312260588446, 'most': 1.3460204619819507, 'resulted': 2.9041650800285006, 'ion': 3.1918471524802814, 'slowing': 3.597312260588446, 'not': 1.032362903126909, 'while': 1.6514021115331325}, {'environmental': 1.3460204619819507, 'not': 1.032362903126909, 'response': 0.8247235383486646, 'differential': 2.093234863812172, 'a': 0.4288341087871255, 'we': 0.8385168604810003, 'basis': 2.344549292093078, 'cellular': 1.5824092400461809, 'order': 2.681021528714291, 'same': 2.681021528714291, 'under': 1.4000876832522264, 'often': 2.9041650800285006, 'may': 1.032362903126909, 'caribbean': 2.211017899468555, 'scales': 3.597312260588446, 'at': 0.923163611161917, 'signatures': 3.597312260588446, 'expression': 1.1537747488881667, 'transcription': 2.344549292093078, 'coverage': 4.290459441148391, 'has': 1.3460204619819507, 'everincreasing': 4.290459441148391, 'temperature': 1.2947271675944, 'around': 2.9041650800285006, 'level': 2.211017899468555, 'in': 0.11034657705868615, 'unbleached': 8.580918882296782, 'did': 1.8925641683500207, 'molecular': 1.1549652252192415, 'southwestern': 4.290459441148391, 'have': 1.4000876832522264, 'due': 1.5178707189086098, 'frequency': 2.498699971920336, 'bleach': 3.597312260588446, 'sea': 1.9878743481543455, 'an': 1.6494470766973293, 'to': 0.08392839819806441, 'been': 1.3460204619819507, 'that': 0.23214434250550806, 'undertaken': 3.1918471524802814, 'understand': 1.9878743481543455, 'increase': 1.8055527913603908, 'scale': 3.597312260588446, 'incidence': 3.1918471524802814, 'the': 0.0, 'of': 0.0, 'conditions': 1.3460204619819507, 'this': 0.50626980723013, 'biomineralization': 4.290459441148391, 'there': 4.997399943840672, 'results': 0.706940502692281, 'decline': 2.498699971920336, 'immunity': 1.6514021115331325, 'world': 3.597312260588446, 'those': 1.8055527913603908, 'categorized': 4.290459441148391, 'acropora': 0.11607217125275403, 'approach': 5.362043057428582, 'factors': 2.344549292093078, 'mainly': 6.383694304960563, 'with': 0.6029507891682335, 'proteomic': 8.580918882296782, 'comparative': 3.1918471524802814, 'significant': 1.8055527913603908, 'protein': 2.4918740068499363, 'colonies': 3.1648184800923618, 'for': 0.4618180446592961, 'occur': 2.344549292093078, 'changes': 1.0715836162801904, 'palmata': 5.677692505050063, 'compared': 1.5824092400461809, 'tandem': 2.9041650800285006, 'was': 1.5877779763644861, 'endangered': 3.597312260588446, 'and': 0.0, 'mass': 2.498699971920336, 'significantly': 1.2459370034249682, 'overall': 2.9041650800285006, 'identified': 1.5824092400461809, 'expressed': 1.457246097092175, 'detected': 2.211017899468555, 'resulting': 2.344549292093078, 'bleached': 7.4960999157610075, 'key': 2.093234863812172, 'responses': 1.2459370034249682, 'respectively': 2.498699971920336, 'puerto': 4.290459441148391, 'different': 1.6514021115331325, 'rico': 4.290459441148391, 'induced': 2.681021528714291, 'proteins': 2.800175366504453, 'large': 2.681021528714291, 'spectrometry': 3.1918471524802814, 'between': 0.6795415285041667, 'corals': 0.21292199724267172, 'cytoskeleton': 2.9041650800285006, 'wide': 2.9041650800285006, 'bleaching': 1.9165098619463745, 'range': 3.1918471524802814, 'using': 1.4000876832522264, 'including': 1.5178707189086098, 'involved': 1.2459370034249682, 'coral': 0.403218796487862, 'stressuv': 4.290459441148391, 'apoptosis': 2.344549292093078, 'heat': 1.4000876832522264, 'endoexophagocytosis': 4.290459441148391, 'suggest': 1.5824092400461809}, {'understanding': 1.7255100836868542, 'towards': 3.1918471524802814, 'studies': 1.7255100836868542, 'experimental': 3.597312260588446, 'framework': 3.597312260588446, 'on': 0.6268977950187447, 'new': 2.498699971920336, 'provide': 1.8925641683500207, 'which': 0.7351113796589775, 'identification': 2.498699971920336, 'common': 1.9878743481543455, 'mechanisms': 3.0357414378172196, 'here': 1.457246097092175, 'procaspase': 4.290459441148391, 'basic': 3.1918471524802814, 'likely': 1.8055527913603908, 'interact': 4.290459441148391, 'prediction': 4.290459441148391, 'might': 4.42203579893711, 'suggesting': 1.8925641683500207, 'inducing': 4.290459441148391, 'effective': 4.290459441148391, 'more': 1.3460204619819507, 'domain': 14.389249042353784, 'confirm': 4.290459441148391, 'only': 3.975748696308691, 'caused': 2.211017899468555, 'future': 2.093234863812172, 'fulllength': 7.194624521176892, 'many': 1.8055527913603908, 'corals': 0.21292199724267172, 'restricted': 3.597312260588446, 'appears': 3.597312260588446, 'identified': 1.5824092400461809, 'was': 1.0585186509096574, 'domains': 7.194624521176892, 'inactive': 17.161837764593564, 'containing': 6.383694304960563, 'caspasex': 12.871378323445173, 'type': 2.344549292093078, 'cflip': 4.290459441148391, 'despite': 2.093234863812172, 'machinery': 4.290459441148391, 'effectorantiapoptotic': 4.290459441148391, 'conservation': 6.383694304960563, 'activity': 1.9878743481543455, 'both': 2.309930450438483, 'functional': 2.498699971920336, 'imply': 4.290459441148391, 'cells': 4.186469727624344, 'expression': 0.5768873744440833, 'extrinsic': 4.290459441148391, 'by': 0.4618180446592961, 'were': 0.7568728714404901, 'or': 0.9582549309731873, 'activities': 3.597312260588446, 'all': 1.2459370034249682, 'other': 1.032362903126909, 'with': 0.30147539458411676, 'investigated': 2.211017899468555, 'relationships': 3.597312260588446, 'place': 4.290459441148391, 'mammalian': 11.616660320114002, 'sequence': 2.211017899468555, 'recent': 2.681021528714291, 'evolution': 4.997399943840672, 'this': 0.50626980723013, 'proor': 4.290459441148391, 'conversely': 4.290459441148391, 'characteristics': 3.597312260588446, 'bilaterians': 3.597312260588446, 'apoptotic': 25.181185824119122, 'suggests': 4.997399943840672, 'cnidarian': 2.9041650800285006, 'resulting': 2.344549292093078, 'caspases': 8.580918882296782, 'reflect': 2.9041650800285006, 'not': 2.064725806253818, 'modulate': 4.290459441148391, 'animals': 3.1918471524802814, 'pathways': 5.416658374081172, 'clear': 2.681021528714291, 'molecular': 2.309930450438483, 'resembling': 4.290459441148391, 'loss': 2.093234863812172, 'millepora': 1.2947271675944, 'active': 12.767388609921126, 'roles': 2.211017899468555, 'conclusions': 2.211017899468555, 'acropora': 0.34821651375826207, 'these': 0.41925843024050014, 'characteristic': 3.1918471524802814, 'do': 3.597312260588446, 'its': 1.6514021115331325, 'species': 1.3460204619819507, 'and': 0.0, 'factor': 2.498699971920336, 'version': 3.597312260588446, 'networks': 2.9041650800285006, 'class': 4.290459441148391, 'metazoans': 3.1918471524802814, 'origins': 3.597312260588446, 'a': 0.5146009305445506, 'ancestor': 2.9041650800285006, 'we': 0.41925843024050014, 'is': 0.8385168604810003, 'viability': 3.597312260588446, 'some': 1.8925641683500207, 'establishing': 4.290459441148391, 'played': 4.290459441148391, 'vertebratelike': 4.290459441148391, 'cell': 8.372939455248687, 'data': 3.975748696308691, 'the': 0.0, 'of': 0.0, 'ubiquitous': 4.290459441148391, 'death': 10.724086114857164, 'now': 2.681021528714291, 'characterization': 3.597312260588446, 'intrinsic': 4.290459441148391, 'transcriptomic': 2.344549292093078, 'work': 3.597312260588446, 'but': 2.9838677254321864, 'proteins': 4.200263049756679, 'evolutionary': 2.681021528714291, 'describe': 2.681021528714291, 'that': 0.8125051987692782, 'although': 2.211017899468555, 'defining': 3.597312260588446, 'caenorhabditis': 3.1918471524802814, 'it': 1.8925641683500207, 'apoptosis': 2.344549292093078, 'cnidarians': 6.383694304960563, 'are': 1.7612473577533299, 'background': 1.6514021115331325, 'drosophila': 2.9041650800285006, 'basal': 4.290459441148391, 'unclear': 6.383694304960563, 'in': 0.20689983198503653, 'key': 2.093234863812172, 'bleaching': 0.9582549309731873, 'family': 2.211017899468555, 'be': 2.569416709989735, 'antiapoptotic': 9.575541457440844, 'complex': 2.498699971920336, 'will': 2.211017899468555, 'involved': 2.4918740068499363, 'truncated': 4.290459441148391, 'hence': 4.290459441148391, 'bases': 4.290459441148391, 'may': 1.032362903126909, 'proapoptotic': 4.290459441148391, 'complement': 3.1918471524802814, 'expressed': 1.457246097092175, 'representatives': 4.290459441148391, 'help': 2.9041650800285006, 'available': 3.597312260588446, 'also': 1.1994169877900753, 'orthologs': 3.597312260588446, 'us': 2.681021528714291, 'anthozoa': 3.597312260588446, 'to': 0.16785679639612883, 'presented': 3.597312260588446, 'understand': 1.9878743481543455, 'vertebrate': 4.290459441148391, 'our': 1.2459370034249682, 'network': 3.1918471524802814, 'when': 1.8925641683500207, 'results': 2.120821508076843, 'phylogenetics': 4.290459441148391, 'novel': 2.211017899468555, 'repertoires': 8.580918882296782, 'coral': 0.403218796487862, 'complete': 2.681021528714291, 'most': 1.3460204619819507, 'limited': 3.1918471524802814, 'making': 3.597312260588446, 'bcl': 19.151082914881687, 'use': 3.597312260588446, 'structure': 4.997399943840672, 'for': 0.9236360893185922, 'indicates': 2.093234863812172, 'perspectives': 4.290459441148391, 'caspase': 15.959235762401407, 'protein': 2.4918740068499363, 'ancestral': 3.597312260588446, 'comprehensive': 3.597312260588446, 'specific': 1.8055527913603908, 'members': 2.211017899468555}, {'guest': 4.290459441148391, 'distribution': 3.1918471524802814, 'be': 0.8564722366632449, 'indeed': 3.597312260588446, 'heron': 4.290459441148391, 'observed': 2.211017899468555, 'temporal': 4.290459441148391, 'spatial': 4.290459441148391, 'however': 1.2459370034249682, 'mortality': 1.8925641683500207, 'strongly': 3.1918471524802814, 'bleaching': 2.874764792919562, 'recognised': 4.290459441148391, 'known': 1.457246097092175, 'decades': 3.597312260588446, 'mcmanus': 4.290459441148391, 'such': 1.7255100836868542, 'the': 0.0, 'abiotic': 3.597312260588446, 'building': 2.9041650800285006, 'reefbuilding': 1.7255100836868542, 'patterns': 2.498699971920336, 'as': 0.7640989165322297, 'to': 0.08392839819806441, 'blocks': 4.290459441148391, 'subsequently': 4.290459441148391, 'been': 2.6920409239639014, 'marine': 1.9878743481543455, 'mass': 4.997399943840672, 'are': 0.8806236788766649, 'reefs': 3.1648184800923618, 'in': 0.041379966397007306, 'intensity': 3.1918471524802814, 'ecosystems': 4.42203579893711, 'stresses': 3.597312260588446, 'unprecedented': 4.290459441148391, 'aronson': 4.290459441148391, 'unequal': 4.290459441148391, 'combination': 3.597312260588446, 'most': 1.3460204619819507, 'cause': 2.344549292093078, 'productive': 4.290459441148391, 'and': 0.0, 'variable': 3.597312260588446, 'has': 1.3460204619819507, 'temperature': 1.2947271675944, 'corals': 0.21292199724267172, 'coral': 0.403218796487862, 'world': 3.597312260588446, 'a': 0.0857668217574251, 'biologically': 4.290459441148391, 'is': 0.41925843024050014, 'prominent': 3.1918471524802814, 'around': 2.9041650800285006, 'sully': 4.290459441148391, 'of': 0.0, 'diverse': 2.681021528714291, 'have': 2.800175366504453, 'due': 1.5178707189086098, 'faced': 4.290459441148391, 'global': 1.5178707189086098, 'degradation': 3.1918471524802814, 'al': 25.53477721984225, 'pratchett': 4.290459441148391, 'last': 3.1918471524802814, 'hughes': 12.871378323445173, 'particular': 2.681021528714291, 'rising': 2.681021528714291, 'sea': 1.9878743481543455, 'surface': 2.498699971920336, 'warming': 2.211017899468555, 'with': 0.30147539458411676, 'et': 25.53477721984225, 'high': 1.5178707189086098, 'by': 0.4618180446592961, 'influenced': 3.597312260588446, 'light': 2.681021528714291}, {'environmental': 1.3460204619819507, 'exposed': 1.457246097092175, 'could': 1.9878743481543455, 'mitigating': 4.290459441148391, 'response': 1.6494470766973293, 'protective': 4.290459441148391, 'also': 1.1994169877900753, 'but': 0.994622575144062, 'designated': 3.597312260588446, 'regulatory': 3.1918471524802814, 'cells': 4.186469727624344, 'temperatures': 1.5178707189086098, 'model': 2.498699971920336, 'survival': 2.498699971920336, 'propose': 3.1918471524802814, 'surviving': 3.597312260588446, 'results': 0.706940502692281, 'these': 0.41925843024050014, 'hosts': 2.9041650800285006, 'light': 2.681021528714291, 'decrease': 1.9878743481543455, 'delayed': 6.383694304960563, 'upregulation': 2.211017899468555, 'caspasedependent': 4.290459441148391, 'early': 1.8055527913603908, 'contrast': 2.498699971920336, 'antiapoptotic': 3.1918471524802814, 'suppression': 3.1918471524802814, 'mediated': 4.290459441148391, 'may': 1.032362903126909, 'suggesting': 1.8925641683500207, 'downregulation': 2.681021528714291, 'a': 0.4288341087871255, 'was': 1.0585186509096574, 'millepora': 1.2947271675944, 'conceivably': 4.290459441148391, 'followed': 2.9041650800285006, 'acropora': 0.11607217125275403, 'for': 0.9236360893185922, 'building': 2.9041650800285006, 'reef': 1.457246097092175, 'dna': 6.383694304960563, 'during': 1.2459370034249682, 'mechanisms': 1.5178707189086098, 'cellular': 3.1648184800923618, 'global': 1.5178707189086098, 'mechanism': 5.808330160057001, 'elucidate': 3.1918471524802814, 'background': 1.6514021115331325, 'sudden': 4.290459441148391, 'subsequent': 2.9041650800285006, 'corals': 0.6387659917280152, 'members': 2.211017899468555, 'proteases': 4.290459441148391, 'steps': 3.1918471524802814, 'upon': 2.681021528714291, 'consecutively': 4.290459441148391, 'worlds': 3.597312260588446, 'levels': 1.7255100836868542, 'from': 0.4837969513780714, 'increase': 1.8055527913603908, 'understand': 1.9878743481543455, 'to': 0.20982099549516103, 'termination': 4.290459441148391, 'fragmentation': 8.580918882296782, 'order': 2.681021528714291, 'warming': 2.211017899468555, 'it': 1.8925641683500207, 'involving': 3.597312260588446, 'conclusionssignificance': 2.681021528714291, 'that': 0.34821651375826207, 'arising': 4.290459441148391, 'activity': 5.963623044463036, 'across': 2.9041650800285006, 'operate': 4.290459441148391, 'increased': 3.0357414378172196, 'reports': 3.597312260588446, 'in': 0.19310650985270078, 'change': 1.457246097092175, 'process': 2.093234863812172, 'bcl': 12.767388609921126, 'iii': 3.597312260588446, 'primarily': 2.9041650800285006, 'stressors': 1.9878743481543455, 'relative': 5.362043057428582, 'coral': 0.5040234956098275, 'underlying': 1.9878743481543455, 'different': 1.6514021115331325, 'and': 0.0, 'mass': 2.498699971920336, 'associated': 2.800175366504453, 'frequency': 2.498699971920336, 'is': 2.096292151202501, 'colchicine': 8.580918882296782, 'changes': 1.0715836162801904, 'projected': 3.1918471524802814, 'by': 2.7709082679557766, 'impacts': 5.362043057428582, 'breakdown': 2.498699971920336, 'engage': 4.290459441148391, 'scale': 3.597312260588446, 'indicated': 2.681021528714291, 'being': 2.681021528714291, 'driven': 3.1918471524802814, 'i': 2.9041650800285006, 'potential': 1.7255100836868542, 'increasing': 4.186469727624344, 'bleaching': 1.9165098619463745, 'this': 1.01253961446026, 'the': 0.0, 'of': 0.0, 'mortality': 1.8925641683500207, 'overexpression': 4.290459441148391, 'related': 1.7255100836868542, 'be': 1.7129444733264898, 'incubated': 4.290459441148391, 'respect': 4.290459441148391, 'mutualistic': 3.597312260588446, 'disposal': 4.290459441148391, 'stress': 3.6755568982948876, 'apoptotic': 7.194624521176892, 'death': 2.681021528714291, 'an': 3.2988941533946585, 'heat': 4.200263049756679, 'finally': 4.290459441148391, 'climate': 1.8925641683500207, 'cnidarian': 2.9041650800285006, 'symbiosis': 1.9878743481543455, 'induction': 4.290459441148391, 'execution': 4.290459441148391, 'like': 5.362043057428582, 'whereby': 3.597312260588446, 'events': 2.9041650800285006, 'between': 0.6795415285041667, 'findings': 2.211017899468555, 'host': 1.4000876832522264, 'dinoflagellate': 2.093234863812172, 'symbionts': 1.8925641683500207, 'we': 0.41925843024050014, 'study': 0.923163611161917, 'methodologyprincipal': 2.681021528714291, 'present': 1.8925641683500207, 'on': 0.6268977950187447, 'activation': 5.808330160057001, 'reefs': 3.1648184800923618, 'three': 1.7255100836868542, 'expression': 0.5768873744440833, 'thermal': 2.3988339755801507, 'cell': 6.2797045914365155, 'phases': 3.597312260588446, 'their': 0.994622575144062, 'apoptosis': 11.72274646046539, 'onset': 3.597312260588446, 'dependent': 3.597312260588446, 'important': 4.038061385945852, 'caspase': 9.575541457440844, 'initiation': 8.580918882296782, 'differential': 2.093234863812172, 'with': 0.9044261837523503, 'ii': 3.1918471524802814}, {'new': 2.498699971920336, 'results': 0.706940502692281, 'matrix': 3.1918471524802814, 'extracellular': 3.597312260588446, 'signal': 2.681021528714291, 'exosome': 4.290459441148391, 'metabolism': 3.4510201673737084, 'protein': 1.2459370034249682, 'changes': 2.1431672325603808, 'mounted': 4.290459441148391, 'in': 0.02758664426467154, 'we': 0.8385168604810003, 'based': 2.344549292093078, 'which': 0.7351113796589775, 'corals': 0.21292199724267172, 'pathologies': 4.290459441148391, 'under': 4.200263049756679, 'as': 1.5281978330644594, 'against': 2.9041650800285006, 'to': 0.25178519459419324, 'wellknown': 4.290459441148391, 'exacerbate': 4.290459441148391, 'performed': 3.1918471524802814, 'a': 0.2573004652722753, 'promotes': 3.597312260588446, 'rising': 2.681021528714291, 'molecules': 2.9041650800285006, 'infectious': 8.580918882296782, 'analysis': 1.1549652252192415, 'thereby': 4.290459441148391, 'pathogenic': 3.1918471524802814, 'various': 4.186469727624344, 'interactions': 2.498699971920336, 'bleaching': 0.9582549309731873, 'with': 0.30147539458411676, 'is': 0.8385168604810003, 'responses': 2.4918740068499363, 'infection': 8.712495240085502, 'understood': 2.498699971920336, 'global': 1.5178707189086098, 'coral': 0.9072422920976896, 'causative': 4.290459441148391, 'by': 0.4618180446592961, 'warming': 2.211017899468555, 'immune': 3.6111055827207816, 'and': 0.0, 'temperature': 2.5894543351888, 'sea': 3.975748696308691, 'agent': 3.597312260588446, 'insights': 2.681021528714291, 'elevated': 3.1648184800923618, 'diseases': 2.344549292093078, 'serious': 3.1918471524802814, 'exposed': 1.457246097092175, 'indirectly': 4.290459441148391, 'into': 1.2947271675944, 'reefs': 1.5824092400461809, 'threat': 2.498699971920336, 'associated': 1.4000876832522264, 'delivering': 4.290459441148391, 'are': 0.44031183943833246, 'temperatures': 1.5178707189086098, 'distribution': 3.1918471524802814, 'immunity': 3.302804223066265, 'or': 0.9582549309731873, 'release': 4.290459441148391, 'alter': 3.597312260588446, 'coralliilyticus': 10.791936781765338, 'poorly': 2.9041650800285006, 'disease': 1.7255100836868542, 'several': 1.9878743481543455, 'including': 3.0357414378172196, 'such': 1.7255100836868542, 'thermal': 5.997084938950376, 'bacterial': 2.093234863812172, 'tissue': 2.093234863812172, 'directly': 2.498699971920336, 'lysis': 4.290459441148391, 'remodeling': 4.290459441148391, 'white': 2.344549292093078, 'syndrome': 3.597312260588446, 'aposymbiotic': 3.597312260588446, 'causes': 2.344549292093078, 'vibrio': 2.9041650800285006, 'molecular': 1.1549652252192415, 'coralpathogen': 4.290459441148391, 'related': 1.7255100836868542, 'however': 1.2459370034249682, 'of': 0.0, 'the': 0.0, 'effects': 4.747227720138543, 'acropora': 0.11607217125275403, 'stress': 3.6755568982948876, 'on': 2.5075911800749786, 'pathogen': 8.043064586142872, 'delineate': 4.290459441148391, 'provide': 1.8925641683500207, 'transcriptome': 1.8925641683500207, 'primary': 2.681021528714291, 'that': 0.11607217125275403, 'bacterium': 8.580918882296782, 'reefbuilding': 1.7255100836868542, 'digitifera': 4.42203579893711, 'mitochondrial': 3.597312260588446, 'this': 0.50626980723013, 'conditions': 2.6920409239639014, 'was': 0.5292593254548287, 'had': 1.7255100836868542, 'v': 5.808330160057001, 'polyps': 3.1918471524802814, 'negative': 3.597312260588446, 'processes': 1.5178707189086098, 'suppression': 3.1918471524802814, 'gene': 0.7351113796589775, 'surface': 4.997399943840672, 'expression': 0.5768873744440833, 'these': 0.41925843024050014, 'innate': 4.42203579893711, 'response': 1.6494470766973293}, {'process': 2.093234863812172, 'evolutionary': 2.681021528714291, 'provide': 1.8925641683500207, 'clarify': 3.597312260588446, 'studies': 1.7255100836868542, 'further': 2.211017899468555, 'symbiont': 2.211017899468555, 'or': 0.9582549309731873, 'immunity': 1.6514021115331325, 'role': 1.6514021115331325, 'consistent': 2.498699971920336, 'lectin': 2.681021528714291, 'celiii': 3.597312260588446, 'indicated': 2.681021528714291, 'also': 1.1994169877900753, 'results': 0.706940502692281, 'associated': 1.4000876832522264, 'contigs': 6.383694304960563, 'independent': 6.383694304960563, 'direct': 2.9041650800285006, 'comparison': 3.597312260588446, 'australia': 4.290459441148391, 'performed': 3.1918471524802814, 'barrier': 3.1918471524802814, 'sea': 1.9878743481543455, 'comparisons': 3.597312260588446, 'great': 3.1918471524802814, 'near': 3.1918471524802814, 'of': 0.0, 'the': 0.0, 'dnds': 8.580918882296782, 'palmata': 3.7851283367000415, 'under': 5.600350733008906, 'our': 1.2459370034249682, 'identify': 2.344549292093078, 'sequences': 2.681021528714291, 'deviated': 4.290459441148391, 'we': 0.41925843024050014, 'a': 0.3430672870297004, 'tag': 4.290459441148391, 'and': 0.0, 'play': 2.681021528714291, 'important': 1.3460204619819507, 'putative': 4.186469727624344, 'reefbuilding': 1.7255100836868542, 'in': 0.06896661066167885, 'pairs': 7.194624521176892, 'adaptive': 2.498699971920336, 'implied': 4.290459441148391, 'datasets': 7.194624521176892, 'demonstrated': 2.498699971920336, 'corals': 0.42584399448534344, 'resulted': 2.9041650800285006, 'needed': 3.1918471524802814, 'expressed': 1.457246097092175, 'positive': 5.808330160057001, 'nonorthologous': 4.290459441148391, 'acropora': 0.34821651375826207, 'roles': 2.211017899468555, 'reef': 1.457246097092175, 'millepora': 2.5894543351888, 'genes': 2.201559197191662, 'sequence': 4.42203579893711, 'analysis': 1.1549652252192415, 'identification': 2.498699971920336, 'homologues': 8.580918882296782, 'est': 4.290459441148391, 'ratios': 7.194624521176892, 'amino': 4.997399943840672, 'while': 1.6514021115331325, 'caribbean': 2.211017899468555, 'to': 0.16785679639612883, 'fastevolving': 4.290459441148391, 'high': 1.5178707189086098, 'low': 2.681021528714291, 'were': 0.37843643572024505, 'from': 2.9027817082684284, 'acid': 3.975748696308691, 'recognition': 2.498699971920336, 'are': 0.8806236788766649, 'similarities': 6.383694304960563, 'suggesting': 3.7851283367000415, 'over': 2.093234863812172, 'acroporid': 3.597312260588446, 'two': 2.4918740068499363, 'showing': 2.9041650800285006, 'among': 1.9878743481543455, 'most': 1.3460204619819507, 'complete': 2.681021528714291, 'showed': 1.4000876832522264, 'other': 1.032362903126909, 'cnidarians': 3.1918471524802814, 'hydra': 3.597312260588446, 'may': 1.032362903126909, 'magnipapillata': 4.290459441148391, 'that': 0.4642886850110161, 'with': 1.205901578336467, 'nematostella': 3.1918471524802814, 'insight': 2.9041650800285006, 'homologous': 8.580918882296782, 'vectensis': 3.1918471524802814, 'some': 1.8925641683500207, 'these': 0.8385168604810003, 'possible': 5.362043057428582, 'purifying': 4.290459441148391, 'within': 1.7255100836868542, 'exhibited': 2.093234863812172, 'significantly': 2.4918740068499363, 'less': 2.681021528714291, 'functions': 2.681021528714291, 'was': 0.5292593254548287, 'selection': 9.575541457440844, 'functional': 2.498699971920336, 'comparative': 3.1918471524802814, 'than': 1.457246097092175, 'evolution': 2.498699971920336, 'constraints': 4.290459441148391, 'eight': 2.9041650800285006, 'exceeding': 4.290459441148391, 'into': 1.2947271675944, 'species': 2.6920409239639014, 'three': 1.7255100836868542}, {'symbionts': 1.8925641683500207, 'its': 1.6514021115331325, 'not': 1.032362903126909, 'driven': 3.1918471524802814, 'indicating': 2.9041650800285006, 'clear': 2.681021528714291, 'symbiodinium': 1.457246097092175, 'protozoans': 4.290459441148391, 'fungi': 4.290459441148391, 'plant': 4.290459441148391, 'n': 12.767388609921126, 'metazoan': 3.1918471524802814, 'classified': 3.1918471524802814, 'with': 0.30147539458411676, 'associated': 1.4000876832522264, 'had': 1.7255100836868542, 'strongly': 3.1918471524802814, 'pathways': 1.8055527913603908, 'complement': 3.1918471524802814, 'any': 2.093234863812172, 'tlr': 4.290459441148391, 'receptors': 4.290459441148391, 'pathwaystolllike': 4.290459441148391, 'innate': 2.211017899468555, 'none': 8.580918882296782, 'interestingly': 3.597312260588446, 'role': 1.6514021115331325, 'suggests': 2.498699971920336, 'synthaselipoxygenase': 4.290459441148391, 'algal': 6.2797045914365155, 'oxide': 7.194624521176892, 'allene': 8.580918882296782, 'enzyme': 2.9041650800285006, 'upregulation': 2.211017899468555, 'strong': 2.681021528714291, 'calcium': 3.1918471524802814, 'homeostasis': 2.9041650800285006, 'mediators': 4.290459441148391, 'as': 2.292296749596689, 'transcript': 3.1918471524802814, 'phagocytosis': 3.1918471524802814, 'hallmarks': 4.290459441148391, 'production': 2.498699971920336, 'ros': 2.9041650800285006, 'macrophagemediated': 4.290459441148391, 'included': 2.211017899468555, 'out': 3.1918471524802814, 'disease': 3.4510201673737084, 'serious': 3.1918471524802814, 'prophenoloxydase': 4.290459441148391, 'changes': 1.0715836162801904, 'wbd': 3.1918471524802814, 'band': 2.9041650800285006, 'key': 4.186469727624344, 'profile': 4.290459441148391, 'across': 2.9041650800285006, 'here': 1.457246097092175, 'healthy': 2.498699971920336, 'white': 2.344549292093078, 'transcriptomewide': 3.597312260588446, 'worldwide': 2.344549292093078, 'using': 1.4000876832522264, 'transcripts': 17.424990480171004, 'a': 0.3430672870297004, 'we': 0.41925843024050014, 'rnaseq': 4.42203579893711, 'used': 2.681021528714291, 'exhibited': 2.093234863812172, 'very': 3.1918471524802814, 'fivehundred': 4.290459441148391, 'where': 2.9041650800285006, 'among': 1.9878743481543455, 'de': 3.597312260588446, 'understood': 2.498699971920336, 'two': 1.2459370034249682, 'little': 2.9041650800285006, 'infection': 11.616660320114002, 'an': 0.8247235383486646, 'response': 3.2988941533946585, 'comparing': 4.290459441148391, 'due': 1.5178707189086098, 'to': 0.37767779189128986, 'or': 1.9165098619463745, 'immunity': 1.6514021115331325, 'threats': 2.9041650800285006, 'downregulated': 1.9878743481543455, 'most': 2.6920409239639014, 'fifty': 4.290459441148391, 'poorly': 2.9041650800285006, 'yet': 2.498699971920336, 'immune': 7.222211165441563, 'and': 0.0, 'nextgeneration': 4.290459441148391, 'rnasequencing': 3.597312260588446, 'diseases': 4.689098584186156, 'acropora': 0.23214434250550806, 'selected': 3.1918471524802814, 'is': 1.2577752907215003, 'recognition': 2.498699971920336, 'are': 0.44031183943833246, 'assembled': 2.9041650800285006, 'remain': 2.211017899468555, 'upand': 3.597312260588446, 'identified': 1.5824092400461809, 'the': 0.0, 'cervicornis': 9.575541457440844, 'of': 0.0, 'primary': 5.362043057428582, 'host': 2.800175366504453, 'tissues': 5.362043057428582, 'significant': 1.8055527913603908, 'area': 3.1918471524802814, 'transcriptome': 3.7851283367000415, 'by': 0.9236360893185922, 'produce': 3.597312260588446, 'infected': 7.194624521176892, 'apoptosis': 2.344549292093078, 'asymptomatic': 3.597312260588446, 'known': 1.457246097092175, 'were': 1.5137457428809802, 'functions': 2.681021528714291, 'was': 0.5292593254548287, 'from': 0.9675939027561428, 'atail': 4.290459441148391, 'versus': 3.597312260588446, 'genes': 0.44031183943833246, 'illumina': 3.597312260588446, 'pathway': 2.211017899468555, 'pathogen': 5.362043057428582, 'mrnaseq': 4.290459441148391, 'data': 1.9878743481543455, 'whole': 2.681021528714291, 'staghorn': 3.597312260588446, 'noncoral': 12.871378323445173, 'well': 1.8925641683500207, 'involved': 1.2459370034249682, 'parsed': 4.290459441148391, 'datasets': 3.597312260588446, 'bioinformatically': 4.290459441148391, 'three': 1.7255100836868542, 'reefs': 1.5824092400461809, 'into': 1.2947271675944, 'novo': 3.597312260588446, 'that': 0.34821651375826207, 'coral': 1.3104610885855517, 'existing': 4.290459441148391, 'genomes': 2.681021528714291, 'in': 0.06896661066167885, 'order': 2.681021528714291, 'how': 1.8925641683500207, 'identify': 4.689098584186156, 'putative': 4.186469727624344, 'differentially': 4.186469727624344, 'expressed': 2.91449219418435, 'analyses': 2.498699971920336, 'indicate': 1.7255100836868542, 'gene': 0.7351113796589775, 'corals': 0.21292199724267172, 'responds': 4.290459441148391, 'expression': 0.5768873744440833}, {'ultimately': 3.597312260588446, 'may': 1.032362903126909, 'adhesion': 4.290459441148391, 'cell': 2.093234863812172, 'degradation': 3.1918471524802814, 'model': 2.498699971920336, 'lastly': 4.290459441148391, 'experiment': 2.498699971920336, 'whole': 2.681021528714291, 'rnaseq': 2.211017899468555, 'have': 1.4000876832522264, 'sequencing': 2.498699971920336, 'resilient': 4.290459441148391, 'how': 1.8925641683500207, 'propose': 3.1918471524802814, 'throughout': 3.1918471524802814, 'and': 0.0, 'using': 1.4000876832522264, 'immediate': 4.290459441148391, 'be': 0.8564722366632449, 'could': 1.9878743481543455, 'pulses': 4.290459441148391, 'small': 3.1918471524802814, 'a': 0.2573004652722753, 'we': 0.8385168604810003, 'early': 5.416658374081172, 'increase': 1.8055527913603908, 'between': 0.6795415285041667, 'understanding': 1.7255100836868542, 'retrovirusrelated': 4.290459441148391, 'protein': 1.2459370034249682, 'regulation': 2.211017899468555, 'important': 1.3460204619819507, 'signals': 3.597312260588446, 'with': 0.30147539458411676, 'responses': 1.2459370034249682, 'more': 1.3460204619819507, 'been': 1.3460204619819507, 'transposons': 4.290459441148391, 'vary': 2.9041650800285006, 'heat': 5.600350733008906, 'transcriptional': 8.043064586142872, 'as': 0.7640989165322297, 'responsible': 3.1918471524802814, 'bleaching': 2.874764792919562, 'found': 1.7255100836868542, 'never': 4.290459441148391, 'gtpases': 4.290459441148391, 'corals': 0.42584399448534344, 'but': 0.994622575144062, 'less': 2.681021528714291, 'up': 2.9041650800285006, 'change': 1.457246097092175, 'cause': 2.344549292093078, 'shock': 3.975748696308691, 'proteins': 1.4000876832522264, 'these': 1.2577752907215003, 'for': 1.8472721786371844, 'such': 1.7255100836868542, 'respond': 2.9041650800285006, 'shifts': 4.290459441148391, 'response': 2.4741706150459937, 'sampling': 3.597312260588446, 'every': 4.290459441148391, 'significantly': 2.4918740068499363, 'min': 12.871378323445173, 'highly': 5.808330160057001, 'minutes': 4.290459441148391, 'was': 0.5292593254548287, 'within': 3.4510201673737084, 'during': 1.2459370034249682, 'enriched': 2.344549292093078, 'components': 2.344549292093078, 'massive': 3.597312260588446, 'the': 0.0, 'of': 0.0, 'stress': 2.2053341389769328, 'were': 1.1353093071607352, 'detailed': 3.597312260588446, 'that': 0.4642886850110161, 'upregulated': 1.8925641683500207, 'after': 1.2459370034249682, 'c': 1.4000876832522264, 'mechanisms': 3.0357414378172196, 'temperature': 1.2947271675944, 'developmental': 2.681021528714291, 'transcription': 4.689098584186156, 'factor': 4.997399943840672, 'rna': 2.9041650800285006, 'starting': 3.597312260588446, 'sets': 4.290459441148391, 'to': 0.20982099549516103, 'krppellike': 4.290459441148391, 'expressed': 4.371738291276525, 'polyproteins': 4.290459441148391, 'transcriptome': 1.8925641683500207, 'factors': 2.344549292093078, 'regulatory': 3.1918471524802814, 'elk': 4.290459441148391, 'stressrelated': 3.1918471524802814, 'at': 0.923163611161917, 'identifying': 4.290459441148391, 'genes': 0.8806236788766649, 'proteasome': 4.290459441148391, 'included': 2.211017899468555, 'pol': 4.290459441148391, 'lead': 4.42203579893711, 'shortterm': 2.9041650800285006, 'from': 0.4837969513780714}, {'exapted': 4.290459441148391, 'or': 0.9582549309731873, 'host': 1.4000876832522264, 'their': 0.994622575144062, 'may': 2.064725806253818, 'stress': 0.7351113796589775, 'heat': 1.4000876832522264, 'indicate': 1.7255100836868542, 'results': 0.706940502692281, 'temperature': 1.2947271675944, 'already': 3.1918471524802814, 'linearly': 4.290459441148391, 'decreased': 2.211017899468555, 'no': 1.8925641683500207, 'increased': 1.5178707189086098, 'had': 1.7255100836868542, 'which': 0.7351113796589775, 'that': 0.11607217125275403, 'case': 4.290459441148391, 'except': 4.290459441148391, 'varied': 3.1918471524802814, 'between': 1.3590830570083334, 'initiated': 4.290459441148391, 'need': 4.290459441148391, 'response': 2.4741706150459937, 'while': 1.6514021115331325, 'from': 0.4837969513780714, 'stepfunction': 4.290459441148391, 'different': 1.6514021115331325, 'significantly': 2.4918740068499363, 'significant': 1.8055527913603908, 'for': 0.4618180446592961, 'in': 0.09655325492635039, 'acropora': 0.11607217125275403, 'corals': 0.21292199724267172, 'examined': 2.093234863812172, 'adapted': 3.597312260588446, 'central': 4.290459441148391, 'the': 0.0, 'symbiodinium': 4.371738291276525, 'temperatures': 3.0357414378172196, 'question': 4.290459441148391, 'whether': 2.681021528714291, 'understanding': 1.7255100836868542, 'fucoxanthins': 4.290459441148391, 'warming': 2.211017899468555, 'a': 0.3430672870297004, 'bleaching': 0.9582549309731873, 'this': 0.50626980723013, 'f': 3.597312260588446, 'phytopigments': 17.161837764593564, 'our': 1.2459370034249682, 'as': 0.7640989165322297, 'all': 2.4918740068499363, 'to': 0.16785679639612883, 'phaeophytins': 4.290459441148391, 'implying': 3.597312260588446, 'affects': 3.597312260588446, 'coral': 0.30241409736589653, 'be': 1.7129444733264898, 'within': 1.7255100836868542, 'study': 0.923163611161917, 'favites': 4.290459441148391, 'carotenoids': 7.194624521176892, 'of': 0.0, 'spp': 2.344549292093078, 'global': 1.5178707189086098, 'solida': 8.580918882296782, 'porites': 4.290459441148391, 'and': 0.0, 'p': 2.344549292093078, 'process': 2.093234863812172, 'complanata': 8.580918882296782, 'were': 1.1353093071607352, 'exposed': 1.457246097092175, 'elevated': 1.5824092400461809, 'o': 17.161837764593564, 'c': 7.000438416261132, 'decreases': 4.290459441148391, 'h': 1.8055527913603908, 'is': 0.41925843024050014, 'responses': 1.2459370034249682, 'adapt': 3.1918471524802814, 'chl': 7.194624521176892, 'at': 0.923163611161917, 'total': 8.043064586142872, 'phytopigment': 4.290459441148391, 'hyacinthus': 7.194624521176892, 'concentrations': 2.498699971920336}, {'their': 0.994622575144062, 'determine': 3.1918471524802814, 'organisms': 2.9041650800285006, 'oyster': 4.290459441148391, 'cause': 2.344549292093078, 'proteobacteria': 4.290459441148391, 'group': 5.362043057428582, 'role': 1.6514021115331325, 'members': 4.42203579893711, 'closely': 2.9041650800285006, 'ribotypes': 4.290459441148391, 'these': 0.41925843024050014, 'juvenile': 2.681021528714291, 'from': 1.9351878055122855, 'infected': 3.597312260588446, 'nondiseased': 4.290459441148391, 'remote': 4.290459441148391, 'some': 1.8925641683500207, 'experiments': 3.1918471524802814, 'present': 1.8925641683500207, 'adapted': 3.597312260588446, 'a': 0.4288341087871255, 's': 2.681021528714291, 'communities': 2.344549292093078, 'levels': 1.7255100836868542, 'other': 1.032362903126909, 'an': 0.8247235383486646, 'all': 2.4918740068499363, 'to': 0.20982099549516103, 'is': 0.41925843024050014, 'at': 0.923163611161917, 'were': 0.37843643572024505, 'black': 4.290459441148391, 'effect': 5.808330160057001, 'diversity': 2.681021528714291, 'decomposition': 4.290459441148391, 'isolated': 2.9041650800285006, 'coral': 0.403218796487862, 'community': 8.043064586142872, 'bacterial': 6.2797045914365155, 'elkhorn': 2.9041650800285006, 'differences': 4.186469727624344, 'healthy': 7.4960999157610075, 'related': 1.7255100836868542, 'be': 1.7129444733264898, 'clearly': 4.290459441148391, 'palmata': 1.8925641683500207, 'demonstrates': 3.597312260588446, 'changes': 2.1431672325603808, 'techniques': 3.597312260588446, 'band': 5.808330160057001, 'was': 1.0585186509096574, 'associated': 2.800175366504453, 'are': 1.7612473577533299, 'molecular': 1.1549652252192415, 'ribosomal': 5.808330160057001, 'of': 0.0, 'the': 0.0, 'showed': 1.4000876832522264, 'appear': 3.1918471524802814, 'apparent': 3.597312260588446, 'cultureindependent': 3.597312260588446, 'greater': 2.681021528714291, 'by': 0.9236360893185922, 'with': 0.9044261837523503, 'challenge': 2.9041650800285006, 'white': 7.033647876279234, 'it': 1.8925641683500207, 'notably': 3.597312260588446, 'rna': 2.9041650800285006, 'cm': 3.597312260588446, 'in': 0.09655325492635039, 'explained': 4.290459441148391, 'acropora': 0.11607217125275403, 'distinct': 5.362043057428582, 'type': 2.344549292093078, 'plaguelike': 8.580918882296782, 'for': 0.9236360893185922, 'structure': 2.498699971920336, 'marine': 1.9878743481543455, 'tissues': 13.405107643571455, 'and': 0.0, 'pattern': 2.9041650800285006, 'recently': 4.689098584186156, 'similar': 2.344549292093078, 'consistently': 2.9041650800285006, 'i': 2.9041650800285006, 'montastraea': 3.597312260588446, 'demonstrated': 4.997399943840672, 'corals': 0.21292199724267172, 'disease': 13.804080669494834, 'several': 1.9878743481543455, 'samples': 2.093234863812172, 'lesion': 7.194624521176892, 'diseased': 2.681021528714291, 'this': 1.01253961446026, 'wholeorganism': 4.290459441148391, 'likely': 1.8055527913603908, 'wbd': 3.1918471524802814, 'what': 4.290459441148391, 'localised': 4.290459441148391, 'that': 0.5803608562637701, 'been': 1.3460204619819507, 'has': 1.3460204619819507, 'degrading': 4.290459441148391, 'also': 1.1994169877900753, 'star': 4.290459441148391, 'appears': 3.597312260588446, 'diseases': 4.689098584186156, 'annularis': 4.290459441148391, 'colonisation': 4.290459441148391, 'dead': 4.290459441148391, 'each': 1.8925641683500207, 'microheterotroph': 4.290459441148391, 'however': 1.2459370034249682, 'important': 1.3460204619819507, 'colonies': 1.5824092400461809, 'apparently': 3.597312260588446, 'specific': 1.8055527913603908, 'types': 2.344549292093078, 'absent': 3.1918471524802814}, {'warming': 2.211017899468555, 'from': 0.4837969513780714, 'potential': 1.7255100836868542, 'insights': 2.681021528714291, 'increasing': 2.093234863812172, 'downregulated': 1.9878743481543455, 'genes': 0.44031183943833246, 'physiological': 1.9878743481543455, 'and': 0.0, 'acropora': 0.11607217125275403, 'structure': 2.498699971920336, 'in': 0.06896661066167885, 'phenomenon': 3.1918471524802814, 'treatments': 2.344549292093078, 'different': 1.6514021115331325, 'underlying': 1.9878743481543455, 'differences': 2.093234863812172, 'applied': 3.1918471524802814, 'suggest': 1.5824092400461809, 'may': 1.032362903126909, 'appearance': 4.290459441148391, 'involved': 1.2459370034249682, 'thermal': 8.395918914530528, 'new': 2.498699971920336, 'remain': 2.211017899468555, 'heat': 5.600350733008906, 'by': 0.4618180446592961, 'scleractinian': 7.570256673400083, 'that': 0.5803608562637701, 'indicate': 1.7255100836868542, 'to': 0.33571359279225765, 'early': 3.6111055827207816, 'mainly': 3.1918471524802814, 'likely': 1.8055527913603908, 'increase': 1.8055527913603908, 'offers': 3.597312260588446, 'ecological': 3.597312260588446, 'global': 1.5178707189086098, 'pruinosa': 3.597312260588446, 'microbiota': 2.9041650800285006, 'be': 0.8564722366632449, 'were': 0.7568728714404901, 'stress': 2.94044551863591, 'into': 1.2947271675944, 'studied': 2.681021528714291, 'coral': 0.7056328938537585, 'symbiodiniaceae': 5.808330160057001, 'are': 0.44031183943833246, 'study': 0.923163611161917, 'we': 1.2577752907215003, 'causes': 2.344549292093078, 'communities': 2.344549292093078, 'a': 0.0857668217574251, 'increased': 1.5178707189086098, 'field': 4.290459441148391, 'develop': 3.1918471524802814, 'mechanisms': 1.5178707189086098, 'higher': 1.8925641683500207, 'adaptive': 2.498699971920336, 'index': 4.290459441148391, 'exposed': 1.457246097092175, 'subsequent': 2.9041650800285006, 'those': 1.8055527913603908, 'this': 1.5188094216903902, 'however': 1.2459370034249682, 'found': 1.7255100836868542, 'population': 2.498699971920336, 'the': 0.0, 'of': 0.0, 'stable': 2.9041650800285006, 'transcriptome': 1.8925641683500207, 'response': 0.8247235383486646, 'pathways': 1.8055527913603908, 'unravel': 4.290459441148391, 'enigmatic': 4.290459441148391, 'improved': 4.290459441148391, 'metabolism': 6.902040334747417, 'selfprotection': 4.290459441148391, 'after': 1.2459370034249682, 'tolerance': 8.372939455248687, 'decrease': 1.9878743481543455, 'bacterial': 8.372939455248687, 'community': 2.681021528714291, 'dominant': 2.498699971920336, 'resulting': 2.344549292093078, 'symbiotic': 1.8925641683500207, 'diversity': 5.362043057428582, 'reorganized': 4.290459441148391, 'might': 2.211017899468555, 'remained': 2.681021528714291, 'rnaseq': 2.211017899468555, 'analysis': 1.1549652252192415, 'host': 4.200263049756679, 'observations': 3.597312260588446, 'relating': 3.597312260588446, 'particularly': 2.681021528714291, 'revealed': 1.8055527913603908, 'nitrogen': 3.597312260588446, 'altering': 4.290459441148391, 'holobiont': 2.498699971920336, 'pathway': 2.211017899468555, 'indicates': 2.093234863812172, 'whereas': 2.211017899468555, 'led': 2.9041650800285006, 'acclimation': 9.575541457440844, 'level': 2.211017899468555, 'which': 0.7351113796589775, 'mechanism': 2.9041650800285006, 'slowing': 3.597312260588446}, {'article': 4.290459441148391, 'this': 0.50626980723013, 'material': 4.290459441148391, 'supplementary': 4.290459441148391, 'electronic': 4.290459441148391, 'anastazia': 4.290459441148391, 'dr': 4.290459441148391, 'editor': 4.290459441148391, 'fields': 4.290459441148391, 'omics': 4.290459441148391, 'recent': 2.681021528714291, 'photoinhibition': 3.597312260588446, 'symbiodinium': 1.457246097092175, 'proteomics': 4.290459441148391, 'keywords': 3.597312260588446, 'symbiosis': 1.9878743481543455, 'cnidariandinoflagellate': 4.290459441148391, 'signalling': 4.290459441148391, 'cnidarian': 2.9041650800285006, 'homeostasis': 2.9041650800285006, 'undescribed': 4.290459441148391, 'largely': 2.211017899468555, 'its': 1.6514021115331325, 'further': 4.42203579893711, 'findings': 4.42203579893711, 'ascorbate': 4.290459441148391, 'addition': 2.093234863812172, 'intermediates': 3.597312260588446, 'abundance': 2.9041650800285006, 'decline': 2.498699971920336, 'host': 2.800175366504453, 'genomics': 4.290459441148391, 'antioxidant': 4.689098584186156, 'chloroplastassociated': 4.290459441148391, 'acids': 5.808330160057001, 'fatty': 3.1918471524802814, 'providing': 4.290459441148391, 'accumulations': 4.290459441148391, 'acclimation': 3.1918471524802814, 'symbionts': 1.8925641683500207, 'free': 9.575541457440844, 'metabolite': 12.767388609921126, 'intracellular': 5.808330160057001, 'chromatographymass': 3.597312260588446, 'spectrometry': 3.1918471524802814, 'symbiotic': 1.8925641683500207, 'applied': 3.1918471524802814, 'threat': 2.498699971920336, 'both': 1.1549652252192415, 'by': 0.4618180446592961, 'gas': 4.290459441148391, 'version': 3.597312260588446, 'observed': 2.211017899468555, 'affect': 2.9041650800285006, 'networks': 2.9041650800285006, 'metabolic': 4.42203579893711, 'were': 0.37843643572024505, 'stress': 2.2053341389769328, 'thermal': 5.997084938950376, 'these': 1.2577752907215003, 'amino': 2.498699971920336, 'metabolomics': 12.871378323445173, 'remain': 2.211017899468555, 'bleaching': 3.833019723892749, 'occur': 2.344549292093078, 'changes': 4.2863344651207615, 'and': 0.0, 'significant': 1.8055527913603908, 'holobiont': 2.498699971920336, 'symbiont': 6.633053698405666, 'underpin': 3.597312260588446, 'into': 1.2947271675944, 'reefs': 1.5824092400461809, 'systems': 2.681021528714291, 'to': 0.37767779189128986, 'how': 1.8925641683500207, 'our': 2.4918740068499363, 'online': 4.290459441148391, 'pose': 3.597312260588446, 'any': 2.093234863812172, 'seawater': 1.8925641683500207, 'specifically': 2.498699971920336, 'of': 0.0, 'the': 0.0, 'temperatures': 1.5178707189086098, 'rising': 2.681021528714291, 'lipid': 2.9041650800285006, 'coral': 0.201609398243931, 'multiple': 4.997399943840672, 'despite': 2.093234863812172, 'that': 0.23214434250550806, 'biology': 3.1918471524802814, 'energygenerating': 4.290459441148391, 'importance': 2.9041650800285006, 'communicated': 4.290459441148391, 'also': 2.3988339755801507, 'detect': 4.290459441148391, 'in': 0.16551986558802922, 'function': 2.9041650800285006, 'a': 0.3430672870297004, 'catabolism': 3.597312260588446, 'polar': 4.290459441148391, 'gcms': 8.580918882296782, 'we': 1.6770337209620005, 'semipolar': 4.290459441148391, 'compounds': 4.290459441148391, 'insight': 2.9041650800285006, 'hosts': 2.9041650800285006, 'hospite': 4.290459441148391, 'their': 0.994622575144062, 'banaszak': 4.290459441148391, 'earlyand': 4.290459441148391, 'major': 2.498699971920336, 'pools': 14.389249042353784, 'microorganisms': 8.580918882296782, 'profiles': 2.344549292093078, 'during': 2.4918740068499363, 'alphatocopherol': 4.290459441148391, 'reduction': 2.9041650800285006, 'persistence': 3.597312260588446, 'approximately': 2.9041650800285006, 'carbohydrates': 4.290459441148391, 'density': 2.681021528714291, 'are': 0.44031183943833246, 'plus': 4.290459441148391, 'detected': 4.42203579893711, 'severity': 2.9041650800285006, 'characteristic': 3.1918471524802814, 'each': 1.8925641683500207, 'individual': 2.9041650800285006, 'partner': 4.290459441148391, 'transcriptomics': 3.597312260588446, 'with': 0.9044261837523503, 'advances': 4.290459441148391, 'cellular': 3.1648184800923618, 'roles': 2.211017899468555, 'respectively': 2.498699971920336, 'responses': 1.2459370034249682, 'oxidative': 1.8925641683500207, 'osmotic': 4.290459441148391, 'which': 0.7351113796589775, 'latestage': 4.290459441148391, 'stores': 3.597312260588446, 'alterations': 4.290459441148391, 'gaps': 4.290459441148391, 'progressed': 4.290459441148391, 'understanding': 3.4510201673737084, 'associated': 4.200263049756679, 'indicative': 4.290459441148391, 'biosynthesis': 2.681021528714291, 'pathways': 1.8055527913603908, 'partners': 3.597312260588446, 'provide': 1.8925641683500207, 'dinoflagellate': 2.093234863812172, 'shift': 2.9041650800285006, 'increased': 1.5178707189086098}, {'coral': 0.1008046991219655, 'reef': 1.457246097092175, 'restoration': 3.597312260588446, 'catalytic': 3.597312260588446, 'genes': 0.44031183943833246, 'results': 0.706940502692281, 'thebinding': 4.290459441148391, 'abundant': 3.597312260588446, 'of': 0.0, 'cellular': 1.5824092400461809, 'valuable': 4.290459441148391, 'i': 5.808330160057001, 'g': 7.194624521176892, 'pathways': 1.8055527913603908, 'subcategories': 4.290459441148391, 'the': 0.0, 'more': 1.3460204619819507, 'activity': 1.9878743481543455, 'category': 3.597312260588446, 'leading': 3.1918471524802814, 'and': 0.0, 'were': 1.1353093071607352, 'ecosystem': 3.597312260588446, 'richer': 4.290459441148391, 'metabolic': 2.211017899468555, 'xenobiotics': 4.290459441148391, 'molecular': 2.309930450438483, 'in': 0.05517328852934308, 'exploit': 4.290459441148391, 'help': 2.9041650800285006, 'function': 2.9041650800285006, 'l': 3.597312260588446, 'markers': 3.597312260588446, 'differentially': 2.093234863812172, 'protection': 3.597312260588446, 'ssr': 4.290459441148391, 'expressed': 1.457246097092175, 's': 2.681021528714291, 't': 3.597312260588446, 'a': 0.0857668217574251, 'h': 5.416658374081172, 'enriched': 2.344549292093078, 'oxidative': 1.8925641683500207, 'phosphorylation': 4.290459441148391, 'biological': 2.211017899468555, 'metabolism': 1.7255100836868542, 'most': 2.6920409239639014, 'process': 4.186469727624344, 'can': 3.302804223066265, 'processes': 1.5178707189086098, 'study': 0.923163611161917}, {'in': 0.01379332213233577, 'mechanisms': 1.5178707189086098, 'or': 0.9582549309731873, 'antioxidant': 2.344549292093078, 'other': 1.032362903126909, 'why': 4.290459441148391, 'extent': 3.1918471524802814, 'should': 3.597312260588446, 'their': 0.994622575144062, 'reducing': 3.597312260588446, 'thus': 2.681021528714291, 'temperatures': 1.5178707189086098, 'higher': 1.8925641683500207, 'not': 1.032362903126909, 'future': 2.093234863812172, 'at': 2.769490833485751, 'than': 4.371738291276525, 'planula': 3.597312260588446, 'whereas': 2.211017899468555, 'about': 2.344549292093078, 'values': 4.290459441148391, 'q': 3.597312260588446, 'coefficient': 4.290459441148391, 'had': 6.902040334747417, 'c': 2.800175366504453, 'both': 1.1549652252192415, 'each': 1.8925641683500207, 'be': 1.7129444733264898, 'within': 1.7255100836868542, 'larvae': 15.477125296279887, 'adult': 7.4960999157610075, 'tolerant': 3.1918471524802814, 'are': 0.44031183943833246, 'that': 0.23214434250550806, 'damicornis': 25.181185824119122, 'the': 0.0, 'investigated': 2.211017899468555, 'symbiotic': 3.7851283367000415, 'under': 2.800175366504453, 'photoprotective': 4.290459441148391, 'become': 3.597312260588446, 'could': 1.9878743481543455, 'we': 0.41925843024050014, 'a': 0.7719013958168259, 'greater': 2.681021528714291, 'species': 4.038061385945852, 'significantly': 2.4918740068499363, 'highly': 2.9041650800285006, 'algal': 2.093234863812172, 'planulae': 21.452297205741957, 'attain': 4.290459441148391, 'appear': 3.1918471524802814, 'symbionts': 1.8925641683500207, 'high': 3.0357414378172196, 'which': 0.7351113796589775, 'branches': 14.389249042353784, 'rate': 13.405107643571455, 'pocillopora': 3.597312260588446, 'coral': 0.1008046991219655, 'reactive': 2.9041650800285006, 'survivorship': 3.597312260588446, 'partly': 4.290459441148391, 'nonsymbiotic': 8.580918882296782, 'oxygen': 2.9041650800285006, 'source': 3.597312260588446, 'acropora': 0.11607217125275403, 'respiration': 21.452297205741957, 'of': 0.0, 'lower': 2.211017899468555, 'tolerance': 2.093234863812172, 'stressful': 4.290459441148391, 'thermal': 2.3988339755801507, 'stress': 2.2053341389769328, 'understand': 1.9878743481543455, 'compared': 3.1648184800923618, 'with': 0.6029507891682335, 'first': 2.093234863812172, 'dependency': 4.290459441148391, 'tenuis': 11.72274646046539, 'conditions': 1.3460204619819507, 'although': 4.42203579893711, 'step': 3.597312260588446, 'all': 1.2459370034249682, 'to': 0.16785679639612883, 'as': 2.292296749596689, 'how': 1.8925641683500207, 'but': 0.994622575144062, 'can': 1.6514021115331325, 'p': 14.067295752558469, 'similar': 2.344549292093078, 'and': 0.0, 'capable': 3.1918471524802814, 'well': 1.8925641683500207, 'temperature': 3.8841815027832003, 'explain': 2.9041650800285006, 'dependence': 4.290459441148391, 'between': 1.3590830570083334}, {'related': 1.7255100836868542, 'be': 0.8564722366632449, 'may': 1.032362903126909, 'suggest': 1.5824092400461809, 'findings': 2.211017899468555, 'between': 0.6795415285041667, 'change': 1.457246097092175, 'not': 3.097088709380727, 'they': 2.498699971920336, 'but': 0.994622575144062, 'genes': 0.44031183943833246, 'differed': 4.290459441148391, 'molecules': 2.9041650800285006, 'these': 0.8385168604810003, 'reaction': 2.9041650800285006, 'chain': 2.9041650800285006, 'about': 2.344549292093078, 'maintained': 3.597312260588446, 'information': 2.9041650800285006, 'hsf': 8.580918882296782, 'larvae': 8.84407159787422, 'coral': 0.30241409736589653, 'reported': 2.9041650800285006, 'significantly': 2.4918740068499363, 'elevated': 1.5824092400461809, 'serious': 3.1918471524802814, 'ph': 7.194624521176892, 'external': 8.580918882296782, 'early': 1.8055527913603908, 'been': 1.3460204619819507, 'marine': 3.975748696308691, 'potential': 1.7255100836868542, 'two': 1.2459370034249682, 'responses': 2.4918740068499363, 'ongoing': 4.290459441148391, 'stages': 4.997399943840672, 'level': 2.211017899468555, 'life': 4.997399943840672, 'heat': 2.800175366504453, 'by': 0.4618180446592961, 'in': 0.08275993279401461, 'developmental': 2.681021528714291, 'mechanisms': 1.5178707189086098, 'scarce': 4.290459441148391, 'processes': 1.5178707189086098, 'to': 0.25178519459419324, 'other': 1.032362903126909, 'all': 1.2459370034249682, 'an': 0.8247235383486646, 'underlying': 1.9878743481543455, 'due': 3.0357414378172196, 'organisms': 5.808330160057001, 'a': 0.1715336435148502, 'increasing': 2.093234863812172, 'threat': 2.498699971920336, 'years': 3.1918471524802814, 'target': 3.1918471524802814, 'next': 3.1918471524802814, 'has': 2.6920409239639014, 'expected': 2.498699971920336, 'on': 1.880693385056234, 'their': 0.994622575144062, 'is': 1.2577752907215003, 'at': 1.846327222323834, 'expression': 2.3075494977763333, 'acidification': 5.362043057428582, 'atmospheric': 3.597312260588446, 'indicate': 1.7255100836868542, 'co': 7.033647876279234, 'impact': 2.498699971920336, 'concentration': 2.344549292093078, 'hand': 3.597312260588446, 'levels': 1.7255100836868542, 'realtime': 2.344549292093078, 'physiologic': 4.290459441148391, 'however': 1.2459370034249682, 'seawater': 5.677692505050063, 'present': 1.8925641683500207, 'changed': 3.597312260588446, 'examined': 2.093234863812172, 'acropora': 0.11607217125275403, 'changes': 2.1431672325603808, 'occur': 2.344549292093078, 'the': 0.0, 'effects': 1.5824092400461809, 'of': 0.0, 'under': 1.4000876832522264, 'acidified': 6.383694304960563, 'digitifera': 2.211017899468555, 'did': 1.8925641683500207, 'ocean': 2.498699971920336, 'molecular': 1.1549652252192415, 'targeted': 3.1918471524802814, 'shock': 3.975748696308691, 'proteins': 1.4000876832522264, 'and': 0.0, 'tolerance': 6.2797045914365155, 'transcription': 2.344549292093078, 'factor': 2.498699971920336, 'that': 0.34821651375826207, 'because': 2.681021528714291, 'among': 1.9878743481543455, 'importance': 2.9041650800285006, 'stress': 0.7351113796589775, 'were': 0.37843643572024505, 'for': 0.4618180446592961, 'such': 1.7255100836868542, 'ambient': 2.681021528714291, 'conditions': 2.6920409239639014, 'are': 0.44031183943833246, 'possible': 2.681021528714291, 'within': 1.7255100836868542, 'study': 0.923163611161917, 'we': 1.2577752907215003, 'then': 3.1918471524802814, 'hsp': 8.043064586142872, 'evaluated': 3.1918471524802814, 'pcr': 2.211017899468555, 'hsps': 5.808330160057001, 'quantitative': 2.093234863812172, 'polymerase': 3.1918471524802814}, {'as': 0.7640989165322297, 'act': 3.1918471524802814, 'also': 1.1994169877900753, 'results': 0.706940502692281, 'scales': 3.597312260588446, 'time': 1.8925641683500207, 'affected': 3.1918471524802814, 'be': 0.8564722366632449, 'not': 1.032362903126909, 'experiments': 3.1918471524802814, 'after': 2.4918740068499363, 'two': 1.2459370034249682, 'separate': 4.290459441148391, 'target': 3.1918471524802814, 'differential': 2.093234863812172, 'metabolism': 5.176530251060562, 'acropora': 0.11607217125275403, 'critical': 3.597312260588446, 'putative': 2.093234863812172, 'with': 0.30147539458411676, 'suggests': 2.498699971920336, 'millepora': 1.2947271675944, 'genes': 1.3209355183149973, 'downregulated': 1.9878743481543455, 'growth': 2.344549292093078, 'here': 1.457246097092175, 'within': 1.7255100836868542, 'branching': 3.1918471524802814, 'less': 2.681021528714291, 'deteriorating': 4.290459441148391, 'these': 0.8385168604810003, 'widely': 4.290459441148391, 'evidence': 2.9041650800285006, 'explore': 4.290459441148391, 'environmental': 1.3460204619819507, 'to': 0.25178519459419324, 'highlight': 4.290459441148391, 'response': 1.6494470766973293, 'calcification': 6.633053698405666, 'in': 0.09655325492635039, 'however': 1.2459370034249682, 'between': 1.3590830570083334, 'acknowledged': 4.290459441148391, 'other': 1.032362903126909, 'links': 4.290459441148391, 'qcr': 8.580918882296782, 'we': 0.41925843024050014, 'temperature': 5.1789086703776, 'exposure': 3.7851283367000415, 'a': 0.2573004652722753, 'roles': 2.211017899468555, 'responses': 2.4918740068499363, 'environments': 2.681021528714291, 'is': 0.41925843024050014, 'longer': 3.597312260588446, 'the': 0.0, 'of': 0.0, 'declining': 3.597312260588446, 'health': 2.681021528714291, 'scleractinian': 1.8925641683500207, 'corals': 0.6387659917280152, 'understood': 2.498699971920336, 'iii': 3.597312260588446, 'and': 0.0, 'coral': 0.201609398243931, 'genomic': 5.362043057428582, 'detected': 2.211017899468555, 'are': 0.44031183943833246, 'pco': 20.329155560199503, 'temperatures': 1.5178707189086098, 'c': 2.800175366504453, 'functional': 2.498699971920336, 'both': 1.1549652252192415, 'days': 8.712495240085502, 'no': 1.8925641683500207, 'either': 2.9041650800285006, 'or': 0.9582549309731873, 'on': 0.6268977950187447, 'atp': 3.597312260588446, 'was': 1.0585186509096574, 'expression': 1.1537747488881667, 'atm': 8.580918882296782, 'control': 4.689098584186156, 'complex': 2.498699971920336, 'treatments': 4.689098584186156, 'ubiquinolcytochromec': 4.290459441148391, 'targeted': 3.1918471524802814, 'potential': 1.7255100836868542, 'reductase': 4.290459441148391, 'subunit': 4.290459441148391, 'gene': 1.470222759317955, 'well': 1.8925641683500207, 'involved': 1.2459370034249682, 'physiological': 1.9878743481543455, 'electron': 4.290459441148391, 'mitochondria': 4.290459441148391, 'chain': 2.9041650800285006, 'transport': 2.344549292093078, 'ambient': 8.043064586142872, 'for': 0.9236360893185922, 'changing': 2.9041650800285006, 'stressors': 1.9878743481543455, 'general': 2.498699971920336, 'generation': 3.597312260588446, 'elevated': 12.659273920369447, 'overall': 2.9041650800285006, 'significantly': 1.2459370034249682, 'biomarker': 2.681021528714291, 'treatment': 2.093234863812172, 'conditions': 1.3460204619819507, 'absence': 3.597312260588446, 'strong': 2.681021528714291, 'by': 0.9236360893185922, 'that': 0.11607217125275403, 'may': 1.032362903126909}, {'evidence': 2.9041650800285006, 'needed': 3.1918471524802814, 'investigating': 3.597312260588446, 'pathway': 2.211017899468555, 'proteins': 1.4000876832522264, 'possibility': 4.290459441148391, 'raises': 4.290459441148391, 'also': 1.1994169877900753, 'studies': 1.7255100836868542, 'development': 2.498699971920336, 'coexpression': 2.9041650800285006, 'lectins': 7.194624521176892, 'hypothesis': 3.597312260588446, 'consistent': 2.498699971920336, 'clarify': 3.597312260588446, 'although': 2.211017899468555, 'data': 1.9878743481543455, 'symbioses': 3.1918471524802814, 'winnowing': 4.290459441148391, 'spp': 2.344549292093078, 'involved': 1.2459370034249682, 'would': 3.597312260588446, 'systems': 2.681021528714291, 'as': 2.292296749596689, 'challenges': 3.597312260588446, 'complex': 2.498699971920336, 'around': 2.9041650800285006, 'occurs': 2.9041650800285006, 'which': 1.470222759317955, 'processes': 1.5178707189086098, 'alternatively': 4.290459441148391, 'maturation': 8.580918882296782, 'to': 0.12589259729709662, 'emerging': 4.290459441148391, 'may': 4.129451612507636, 'increase': 3.6111055827207816, 'timing': 3.597312260588446, 'settlement': 2.9041650800285006, 'following': 2.9041650800285006, 'months': 2.9041650800285006, 'six': 2.9041650800285006, 'during': 3.7378110102749043, 'further': 4.42203579893711, 'sampling': 3.597312260588446, 'influence': 3.1918471524802814, 'any': 2.093234863812172, 'than': 1.457246097092175, 'time': 5.677692505050063, 'higher': 1.8925641683500207, 'significantly': 1.2459370034249682, 'was': 0.5292593254548287, 'coral': 0.201609398243931, 'most': 1.3460204619819507, 'very': 3.1918471524802814, 'be': 1.7129444733264898, 'related': 1.7255100836868542, 'innate': 6.633053698405666, 'these': 0.8385168604810003, 'lack': 3.597312260588446, 'individuals': 2.681021528714291, 'history': 3.597312260588446, 'molecular': 1.1549652252192415, 'finetuned': 4.290459441148391, 'distinguish': 4.290459441148391, 'methodologyprincipal': 2.681021528714291, 'putative': 4.186469727624344, 'sampled': 3.597312260588446, 'they': 4.997399943840672, 'between': 0.6795415285041667, 'findings': 2.211017899468555, 'microbiota': 2.9041650800285006, 'however': 2.4918740068499363, 'various': 2.093234863812172, 'associations': 3.597312260588446, 'a': 0.5146009305445506, 'juveniles': 6.383694304960563, 'endosymbionts': 2.211017899468555, 'not': 1.032362903126909, 'early': 5.416658374081172, 'celiii': 7.194624521176892, 'amillepora': 4.290459441148391, 'when': 1.8925641683500207, 'an': 0.8247235383486646, 'other': 3.097088709380727, 'invertebrates': 5.362043057428582, 'this': 1.5188094216903902, 'mature': 3.597312260588446, 'corals': 1.490453980698702, 'many': 1.8055527913603908, 'stages': 2.498699971920336, 'symbiodinium': 1.457246097092175, 'acquire': 3.597312260588446, 'do': 3.597312260588446, 'with': 0.9044261837523503, 'are': 1.7612473577533299, 'recognition': 2.498699971920336, 'background': 1.6514021115331325, 'system': 8.712495240085502, 'ontogeny': 8.580918882296782, 'in': 0.19310650985270078, 'of': 0.0, 'the': 0.0, 'population': 2.498699971920336, 'postsettlement': 3.597312260588446, 'examined': 2.093234863812172, 'alloimmunechallenged': 4.290459441148391, 'distantly': 4.290459441148391, 'dinoflagellate': 2.093234863812172, 'surface': 2.498699971920336, 'expression': 2.3075494977763333, 'marine': 1.9878743481543455, 'preliminary': 4.290459441148391, 'conclusionssignificance': 2.681021528714291, 'that': 0.34821651375826207, 'like': 2.681021528714291, 'common': 1.9878743481543455, 'using': 1.4000876832522264, 'levels': 1.7255100836868542, 'realtime': 2.344549292093078, 'indeed': 3.597312260588446, 'responses': 2.4918740068499363, 'symbionts': 1.8925641683500207, 'linked': 3.597312260588446, 'life': 2.498699971920336, 'lectin': 5.362043057428582, 'play': 2.681021528714291, 'allorecognition': 17.161837764593564, 'about': 2.344549292093078, 'quantitative': 2.093234863812172, 'establish': 3.597312260588446, 'components': 4.689098584186156, 'underpin': 3.597312260588446, 'immunity': 4.954206334599398, 'or': 2.874764792919562, 'fourth': 4.290459441148391, 'our': 1.2459370034249682, 'sixmonth': 4.290459441148391, 'how': 1.8925641683500207, 'throughout': 3.1918471524802814, 'change': 1.457246097092175, 'four': 2.344549292093078, 'through': 5.808330160057001, 'at': 1.846327222323834, 'is': 0.41925843024050014, 'patterns': 2.498699971920336, 'and': 0.0, 'immune': 7.222211165441563, 'period': 2.498699971920336, 'same': 2.681021528714291, 'month': 4.290459441148391, 'response': 2.4741706150459937, 'millepora': 1.2947271675944, 'genes': 1.7612473577533299, 'represent': 3.597312260588446, 'apextrin': 8.580918882296782, 'complement': 3.1918471524802814, 'role': 1.6514021115331325, 'bacteria': 2.498699971920336, 'c': 1.4000876832522264, 'little': 2.9041650800285006, 'two': 1.2459370034249682, 'type': 4.689098584186156, 'acropora': 0.11607217125275403, 'known': 1.457246097092175, 'were': 0.37843643572024505, 'from': 0.4837969513780714, 'juvenile': 2.681021528714291, 'qpcr': 2.9041650800285006, 'important': 1.3460204619819507, 'colonies': 1.5824092400461809, 'such': 3.4510201673737084, 'for': 0.4618180446592961, 'closely': 2.9041650800285006, 'pcr': 2.211017899468555, 'efficiently': 4.290459441148391, 'gene': 0.7351113796589775, 'peaked': 4.290459441148391}, {'death': 2.681021528714291, 'suggesting': 1.8925641683500207, 'become': 3.597312260588446, 'remained': 2.681021528714291, 'chronic': 4.290459441148391, 'due': 1.5178707189086098, 'natural': 2.9041650800285006, 'present': 1.8925641683500207, 'cells': 2.093234863812172, 'density': 2.681021528714291, 'spreading': 4.290459441148391, 'ruptured': 4.290459441148391, 'some': 1.8925641683500207, 'mostly': 3.597312260588446, 'had': 1.7255100836868542, 'those': 1.8055527913603908, 'lose': 4.290459441148391, 'cell': 2.093234863812172, 'severe': 3.597312260588446, 'about': 2.344549292093078, 'no': 1.8925641683500207, 'vacuolated': 8.580918882296782, 'swelled': 8.580918882296782, 'or': 0.9582549309731873, 'more': 1.3460204619819507, 'was': 0.5292593254548287, 'yellow': 4.290459441148391, 'while': 3.302804223066265, 'from': 1.4513908541342142, 'necrotic': 4.290459441148391, 'bleached': 4.997399943840672, 'classified': 3.1918471524802814, 'cellular': 1.5824092400461809, 'less': 2.681021528714291, 'suffered': 8.580918882296782, 'were': 2.2706186143214704, 'observation': 4.290459441148391, 'recovered': 4.290459441148391, 'pigmentation': 8.580918882296782, 'hz': 8.580918882296782, 'collected': 2.498699971920336, 'of': 0.0, 'bleaching': 3.833019723892749, 'based': 2.344549292093078, 'pale': 8.580918882296782, 'to': 0.12589259729709662, 'study': 0.923163611161917, 'stress': 0.7351113796589775, 'morphological': 3.597312260588446, 'tz': 17.161837764593564, 'acropora': 0.11607217125275403, 'during': 1.2459370034249682, 'zooxanthellae': 24.98699971920336, 'okinawa': 4.290459441148391, 'vacuoles': 4.290459441148391, 'corals': 0.21292199724267172, 'healthylooking': 4.290459441148391, 'changes': 1.0715836162801904, 'and': 0.0, 'shape': 4.290459441148391, 'severely': 3.597312260588446, 'colonies': 7.912046200230904, 'a': 0.1715336435148502, 'we': 0.41925843024050014, 'in': 0.09655325492635039, 'degrees': 3.597312260588446, 'various': 2.093234863812172, 'observed': 2.211017899468555, 'shallow': 4.290459441148391, 'suggests': 2.498699971920336, 'with': 0.9044261837523503, 'reef': 1.457246097092175, 'at': 0.923163611161917, 'out': 3.1918471524802814, 'bise': 3.597312260588446, 'july': 4.290459441148391, 'that': 0.34821651375826207, 'into': 1.2947271675944, 'nasuta': 7.194624521176892, 'september': 4.290459441148391, 'host': 1.4000876832522264, 'content': 3.597312260588446, 'coloration': 4.290459441148391, 'nonbleached': 4.290459441148391, 'disorganized': 4.290459441148391, 'within': 1.7255100836868542, 'the': 0.0, 'dominant': 2.498699971920336, 'tissue': 4.186469727624344, 'types': 2.344549292093078, 'pz': 8.580918882296782, 'on': 0.6268977950187447, 'cm': 3.597312260588446, 'their': 0.994622575144062, 'transparent': 4.290459441148391}, {'acropora': 0.11607217125275403, 'corals': 0.21292199724267172, 'stony': 3.1918471524802814, 'the': 0.0, 'acute': 2.681021528714291, 'impact': 2.498699971920336, 'in': 0.01379332213233577, 'stressrelated': 3.1918471524802814, 'of': 0.0, 'benzoapyrene': 4.290459441148391, 'spp': 2.344549292093078, 'on': 0.6268977950187447, 'antioxidant': 2.344549292093078, 'enzyme': 2.9041650800285006, 'tropical': 3.1918471524802814, 'and': 0.0, 'genes': 0.44031183943833246}, {'virulence': 3.597312260588446, 'type': 2.344549292093078, 'our': 1.2459370034249682, 'enzyme': 2.9041650800285006, 'could': 1.9878743481543455, 'but': 0.994622575144062, 'characterized': 3.1918471524802814, 'been': 1.3460204619819507, 'not': 1.032362903126909, 'role': 1.6514021115331325, 'microbiome': 3.597312260588446, 'implicated': 2.9041650800285006, 'acid': 3.975748696308691, 'as': 0.7640989165322297, 'module': 4.290459441148391, 'lipid': 2.9041650800285006, 'enriched': 4.689098584186156, 'one': 2.093234863812172, 'positively': 3.1918471524802814, 'modules': 4.290459441148391, 'identified': 4.747227720138543, 'coexpression': 2.9041650800285006, 'important': 4.038061385945852, 'indicating': 2.9041650800285006, 'no': 1.8925641683500207, 'transmission': 6.383694304960563, 'two': 1.2459370034249682, 'showing': 5.808330160057001, 'corals': 0.42584399448534344, 'changes': 2.1431672325603808, 'negative': 3.597312260588446, 'results': 0.706940502692281, 'aspartate': 4.290459441148391, 'characterization': 3.597312260588446, 'transcriptomic': 4.689098584186156, 'a': 0.857668217574251, 'keystone': 7.194624521176892, 'there': 2.498699971920336, 'oxidase': 7.194624521176892, 'frequency': 2.498699971920336, 'correlated': 3.1918471524802814, 'species': 2.6920409239639014, 'cover': 2.681021528714291, 'decrease': 1.9878743481543455, 'seen': 4.290459441148391, 'which': 0.7351113796589775, 'decarboxylase': 4.290459441148391, 'caribbean': 4.42203579893711, 'biosynthesis': 2.681021528714291, 'may': 3.097088709380727, 'b': 4.290459441148391, 'of': 0.0, 'the': 0.0, 'prevalence': 3.597312260588446, 'has': 4.038061385945852, 'expected': 2.498699971920336, 'worrying': 4.290459441148391, 'genotypes': 2.9041650800285006, 'increase': 1.8055527913603908, 'fold': 5.808330160057001, 'yet': 2.498699971920336, 'immunity': 1.6514021115331325, 'or': 0.9582549309731873, 'for': 2.7709082679557766, 'its': 1.6514021115331325, 'importance': 2.9041650800285006, 'stressors': 1.9878743481543455, 'primarily': 2.9041650800285006, 'differentially': 2.093234863812172, 'to': 0.37767779189128986, 'we': 0.8385168604810003, 'study': 0.923163611161917, 'due': 3.0357414378172196, 'damino': 8.580918882296782, 'despite': 4.186469727624344, 'response': 2.4741706150459937, 'outbreaks': 2.498699971920336, 'biomarker': 2.681021528714291, 'included': 2.211017899468555, 'immune': 5.416658374081172, 'and': 0.0, 'in': 0.20689983198503653, 'disease': 20.70612100424225, 'palmata': 9.462820841750103, 'resistance': 2.9041650800285006, 'positive': 2.9041650800285006, 'coral': 0.403218796487862, 'core': 8.580918882296782, 'differences': 2.093234863812172, 'mounts': 4.290459441148391, 'lower': 2.211017899468555, 'innate': 2.211017899468555, 'these': 1.2577752907215003, 'genes': 3.082182876068327, 'cyclindependent': 4.290459441148391, 'anthropogenic': 3.1918471524802814, 'predicted': 2.093234863812172, 'acropora': 0.11607217125275403, 'branching': 3.1918471524802814, 'change': 1.457246097092175, 'severity': 2.9041650800285006, 'were': 0.37843643572024505, 'is': 0.41925843024050014, 'compensation': 4.290459441148391, 'homeostasis': 2.9041650800285006, 'climate': 1.8925641683500207, 'log': 8.580918882296782, 'their': 0.994622575144062, 'an': 1.6494470766973293, 'other': 2.064725806253818, 'hub': 3.597312260588446, 'this': 2.02507922892052, 'especially': 3.597312260588446, 'symbiodiniaceae': 8.712495240085502, 'are': 0.44031183943833246, 'first': 2.093234863812172, 'analysis': 2.309930450438483, 'occurring': 3.597312260588446, 'between': 1.3590830570083334, 'symbiont': 4.42203579893711, 'exposed': 1.457246097092175, 'year': 3.1918471524802814, 'was': 1.5877779763644861, 'that': 0.5803608562637701, 'gene': 2.94044551863591, 'indicate': 3.4510201673737084, 'expression': 2.3075494977763333, 'responding': 4.290459441148391, 'already': 3.1918471524802814, 'variance': 7.194624521176892, 'transport': 2.344549292093078, 'provide': 1.8925641683500207, 'hypothesize': 4.290459441148391, 'driver': 8.580918882296782, 'expressed': 1.457246097092175, 'ribosomal': 2.9041650800285006, 'exposure': 5.677692505050063, 'higher': 1.8925641683500207, 'be': 4.282361183316224, 'transmembrane': 4.290459441148391, 'ion': 3.1918471524802814, 'phagocytosis': 3.1918471524802814, 'dysbiosis': 4.290459441148391, 'primary': 2.681021528714291, 'host': 1.4000876832522264, 'second': 4.290459441148391, 'development': 2.498699971920336, 'set': 2.9041650800285006, 'significantly': 1.2459370034249682, 'future': 2.093234863812172, 'showed': 1.4000876832522264, 'kinase': 3.1918471524802814}, {'additive': 4.290459441148391, 'estimates': 4.290459441148391, 'increases': 2.9041650800285006, 'more': 1.3460204619819507, 'projected': 3.1918471524802814, 'however': 1.2459370034249682, 'traits': 2.9041650800285006, 'substantial': 4.290459441148391, 'suggest': 1.5824092400461809, 'sample': 3.1918471524802814, 'verified': 3.597312260588446, 'they': 2.498699971920336, 'should': 3.597312260588446, 'biomarkers': 3.1918471524802814, 'be': 1.7129444733264898, 'will': 2.211017899468555, 'could': 1.9878743481543455, 'genes': 0.44031183943833246, 'transcriptomic': 2.344549292093078, 'response': 0.8247235383486646, 'despite': 2.093234863812172, 'us': 2.681021528714291, 'consistently': 2.9041650800285006, 'prevented': 4.290459441148391, 'relatedness': 4.290459441148391, 'variance': 3.597312260588446, 'low': 2.681021528714291, 'total': 2.681021528714291, 'has': 2.6920409239639014, 'mortality': 1.8925641683500207, 'distinct': 2.681021528714291, 'genetically': 4.290459441148391, 'mrna': 3.1918471524802814, 'foundation': 4.290459441148391, 'from': 1.9351878055122855, 'understand': 1.9878743481543455, 'potential': 1.7255100836868542, 'any': 2.093234863812172, 'fragments': 2.498699971920336, 'high': 1.5178707189086098, 'regarding': 3.597312260588446, 'to': 0.29374939369322545, 'warmer': 3.597312260588446, 'can': 1.6514021115331325, 'change': 2.91449219418435, 'species': 1.3460204619819507, 'estimated': 3.597312260588446, 'tolerant': 6.383694304960563, 'individuals': 2.681021528714291, 'depend': 4.290459441148391, 'directly': 2.498699971920336, 'making': 3.597312260588446, 'collected': 2.498699971920336, 'revealed': 1.8055527913603908, 'this': 2.53134903615065, 'whether': 5.362043057428582, 'understanding': 1.7255100836868542, 'in': 0.09655325492635039, 'temperatures': 3.0357414378172196, 'corals': 0.21292199724267172, 'a': 0.2573004652722753, 'larger': 2.9041650800285006, 'resulting': 2.344549292093078, 'was': 1.0585186509096574, 'coral': 0.1008046991219655, 'narrowsense': 4.290459441148391, 'are': 0.44031183943833246, 'conclusions': 2.211017899468555, 'acropora': 0.11607217125275403, 'tavernier': 4.290459441148391, 'colonies': 7.912046200230904, 'important': 1.3460204619819507, 'protein': 1.2459370034249682, 'level': 2.211017899468555, 'start': 4.290459441148391, 'kept': 3.597312260588446, 'restoration': 3.597312260588446, 'climate': 3.7851283367000415, 'address': 3.1918471524802814, 'their': 1.989245150288124, 'how': 1.8925641683500207, 'among': 3.975748696308691, 'florida': 4.290459441148391, 'much': 3.597312260588446, 'nursery': 4.290459441148391, 'cervicornis': 3.1918471524802814, 'of': 0.0, 'the': 0.0, 'population': 7.4960999157610075, 'within': 3.4510201673737084, 'that': 0.4642886850110161, 'vary': 2.9041650800285006, 'thermal': 7.196501926740452, 'determining': 3.597312260588446, 'tolerance': 12.559409182873031, 'and': 0.0, 'susceptible': 6.383694304960563, 'impact': 2.498699971920336, 'usa': 3.597312260588446, 'heritability': 4.290459441148391, 'were': 1.1353093071607352, 'is': 1.2577752907215003, 'at': 1.846327222323834, 'expression': 0.5768873744440833, 'variability': 3.1918471524802814, 'either': 2.9041650800285006, 'for': 1.3854541339778883, 'ambient': 2.681021528714291, 'precise': 4.290459441148391, 'd': 2.211017899468555, 'both': 2.309930450438483, 'or': 0.9582549309731873, 'overall': 2.9041650800285006, 'significantly': 1.2459370034249682, 'elevated': 3.1648184800923618, 'c': 2.800175366504453, 'monitored': 3.597312260588446, 'h': 10.833316748162344, 'on': 0.6268977950187447, 'amount': 3.1918471524802814, 'after': 1.2459370034249682, 'heritable': 4.290459441148391, 'genetic': 6.2797045914365155, 'different': 1.6514021115331325, 'underlying': 1.9878743481543455, 'variation': 11.055089497342776, 'temperature': 2.5894543351888, 'physiological': 1.9878743481543455, 'components': 2.344549292093078, 'adapt': 3.1918471524802814, 'basis': 2.344549292093078, 'gene': 0.7351113796589775, 'but': 0.994622575144062, 'considerable': 3.1918471524802814, 'impacting': 3.597312260588446, 'tissue': 2.093234863812172, 'treatments': 2.344549292093078, 'negatively': 4.290459441148391, 'broadsense': 4.290459441148391, 'taken': 4.290459441148391, 'experiment': 2.498699971920336, 'survival': 2.498699971920336, 'investigate': 2.9041650800285006, 'determine': 3.1918471524802814, 'between': 1.3590830570083334, 'results': 1.413881005384562}, {'rare': 4.290459441148391, 'if': 2.681021528714291, 'vital': 4.290459441148391, 'these': 0.8385168604810003, 'thermal': 1.1994169877900753, 'greater': 2.681021528714291, 'exhibits': 4.290459441148391, 'also': 1.1994169877900753, 'range': 3.1918471524802814, 'wide': 2.9041650800285006, 'exhibit': 3.1918471524802814, 'even': 3.597312260588446, 'abundancedensity': 4.290459441148391, 'reflect': 2.9041650800285006, 'may': 2.064725806253818, 'types': 2.344549292093078, 'few': 3.1918471524802814, 'little': 2.9041650800285006, 'majority': 3.1918471524802814, 'in': 0.08275993279401461, 'be': 0.8564722366632449, 'randomly': 4.290459441148391, 'gametespawning': 4.290459441148391, 'genetic': 2.093234863812172, 'dinoflagellate': 2.093234863812172, 'while': 3.302804223066265, 'compared': 3.1648184800923618, 'characteristics': 7.194624521176892, 'symbiodiniumspecific': 4.290459441148391, 'individual': 2.9041650800285006, 'host': 1.4000876832522264, 'andor': 5.362043057428582, 'corals': 1.2775319834560304, 'some': 1.8925641683500207, 'recruits': 15.959235762401407, 'sensitivity': 3.1918471524802814, 'algal': 2.093234863812172, 'months': 2.9041650800285006, 'essential': 2.681021528714291, 'within': 1.7255100836868542, 'populations': 2.681021528714291, 'local': 3.1918471524802814, 'environment': 7.4960999157610075, 'survival': 4.997399943840672, 'composition': 10.791936781765338, 'than': 1.457246097092175, 'divided': 3.1918471524802814, 'an': 0.8247235383486646, 'pool': 7.194624521176892, 'column': 4.290459441148391, 'endosymbionts': 2.211017899468555, 'to': 0.29374939369322545, 'coralalgal': 3.1918471524802814, 'for': 0.9236360893185922, 'important': 1.3460204619819507, 'colonies': 1.5824092400461809, 'detected': 2.211017899468555, 'are': 1.7612473577533299, 'specifically': 4.997399943840672, 'newly': 4.290459441148391, 'its': 6.60560844613253, 'symbioses': 3.1918471524802814, 'into': 1.2947271675944, 'that': 0.11607217125275403, 'physiological': 1.9878743481543455, 'several': 1.9878743481543455, 'about': 2.344549292093078, 'despite': 2.093234863812172, 'surrounding': 3.1918471524802814, 'sediments': 4.290459441148391, 'acquire': 7.194624521176892, 'symbiodinium': 14.57246097092175, 'certain': 3.597312260588446, 'clades': 12.767388609921126, 'environments': 5.362043057428582, 'is': 0.41925843024050014, 'more': 1.3460204619819507, 'stress': 0.7351113796589775, 'known': 2.91449219418435, 'whether': 2.681021528714291, 'therefore': 3.1918471524802814, 'select': 4.290459441148391, 'of': 0.0, 'the': 0.0, 'population': 2.498699971920336, 'or': 1.9165098619463745, 'present': 1.8925641683500207, 'study': 0.923163611161917, 'we': 0.41925843024050014, 'a': 0.5146009305445506, 'tolerance': 8.372939455248687, 'clade': 8.712495240085502, 'due': 1.5178707189086098, 'recruited': 4.290459441148391, 'acropora': 0.34821651375826207, 'type': 9.378197168372312, 'with': 0.30147539458411676, 'water': 2.9041650800285006, 'and': 0.0, 'settlement': 2.9041650800285006, 'environmentally': 4.290459441148391, 'd': 6.633053698405666, 'members': 2.211017899468555, 'role': 1.6514021115331325, 'c': 9.800613782765584, 'environmental': 4.038061385945852, 'until': 2.9041650800285006, 'after': 1.2459370034249682, 'genus': 2.344549292093078, 'mainly': 6.383694304960563, 'initial': 3.597312260588446, 'plays': 2.9041650800285006, 'harbored': 8.580918882296782, 'being': 2.681021528714291, 'composed': 4.290459441148391, 'from': 0.9675939027561428, 'addition': 2.093234863812172, 'adult': 2.498699971920336, 'lesser': 4.290459441148391, 'extent': 3.1918471524802814, 'dominant': 2.498699971920336, 'was': 0.5292593254548287, 'not': 2.064725806253818}, {'site': 3.1918471524802814, 'at': 0.923163611161917, 'density': 2.681021528714291, 'conclusion': 4.290459441148391, 'monitored': 3.597312260588446, 'originally': 3.597312260588446, 'analysis': 1.1549652252192415, 'indicated': 2.681021528714291, 'asexual': 8.580918882296782, 'surveys': 3.1918471524802814, 'june': 4.290459441148391, 'by': 0.4618180446592961, 'generated': 3.1918471524802814, 'survived': 3.1918471524802814, 'fragments': 4.997399943840672, 'monitoring': 4.290459441148391, 'physical': 6.383694304960563, 'recruits': 3.1918471524802814, 'some': 1.8925641683500207, 'incurred': 4.290459441148391, 'both': 2.309930450438483, 'half': 4.290459441148391, 'over': 2.093234863812172, 'bleach': 3.597312260588446, 'sexual': 12.871378323445173, 'did': 3.7851283367000415, 'those': 3.6111055827207816, 'than': 2.91449219418435, 'had': 1.7255100836868542, 'corals': 0.42584399448534344, 'from': 2.9027817082684284, 'and': 0.0, 'examined': 2.093234863812172, 'longterm': 2.9041650800285006, 'st': 4.290459441148391, 'virgin': 8.580918882296782, 'january': 4.290459441148391, 'contributing': 3.597312260588446, 'including': 1.5178707189086098, 'national': 4.290459441148391, 'colonies': 11.076864680323267, 'area': 3.1918471524802814, 'signs': 3.1918471524802814, 'significant': 1.8055527913603908, 'mortality': 1.8925641683500207, 'haulover': 4.290459441148391, 'was': 1.0585186509096574, 'unknown': 2.211017899468555, 'for': 0.9236360893185922, 'john': 4.290459441148391, 'us': 2.681021528714291, 'greater': 2.681021528714291, 'situ': 3.597312260588446, 'threatened': 3.1918471524802814, 'this': 1.01253961446026, 'found': 1.7255100836868542, 'bleaching': 1.9165098619463745, 'islands': 8.580918882296782, 'scleractinian': 1.8925641683500207, 'genotype': 4.290459441148391, 'water': 2.9041650800285006, 'palmata': 5.677692505050063, 'disease': 12.078570585807979, 'acropora': 0.23214434250550806, 'branches': 3.597312260588446, 'monthly': 8.580918882296782, 'in': 0.11034657705868615, 'through': 5.808330160057001, 'a': 0.2573004652722753, 'recent': 2.681021528714291, 'pox': 8.580918882296782, 'attached': 4.290459441148391, 'particularly': 2.681021528714291, 'tissue': 2.093234863812172, 'but': 1.989245150288124, 'reef': 1.457246097092175, 'usvi': 8.580918882296782, 'exhibited': 2.093234863812172, 'average': 3.597312260588446, 'showed': 5.600350733008906, 'directly': 2.498699971920336, 'most': 1.3460204619819507, 'complete': 2.681021528714291, 'colony': 5.362043057428582, 'park': 4.290459441148391, 'were': 0.7568728714404901, 'species': 1.3460204619819507, 'estimated': 3.597312260588446, 'diseases': 2.344549292093078, 'that': 1.1607217125275402, 'bay': 4.290459441148391, 'stressors': 1.9878743481543455, 'number': 2.344549292093078, 'living': 4.290459441148391, 'only': 1.9878743481543455, 'white': 7.033647876279234, 'grew': 4.290459441148391, 'within': 3.4510201673737084, 'during': 3.7378110102749043, 'formed': 4.290459441148391, 'generally': 3.1918471524802814, 'supporting': 3.1918471524802814, 'damage': 4.997399943840672, 'recovery': 3.1918471524802814, 'just': 4.290459441148391, 'december': 4.290459441148391, 'broken': 4.290459441148391, 'appeared': 3.1918471524802814, 'n': 6.383694304960563, 'limiting': 4.290459441148391, 'not': 3.097088709380727, 'bleached': 7.4960999157610075, 'band': 2.9041650800285006, 'prevalence': 14.389249042353784, 'to': 0.16785679639612883, 'ranged': 4.290459441148391, 'cause': 2.344549292093078, 'between': 0.6795415285041667, 'coral': 0.1008046991219655, 'correlation': 4.290459441148391, 'positive': 2.9041650800285006, 'substrate': 4.290459441148391, 'temperature': 1.2947271675944, 'longer': 3.597312260588446, 'of': 0.0, 'the': 0.0, 'incidence': 6.383694304960563, 'remained': 5.362043057428582, 'annual': 3.597312260588446, 'constant': 3.1918471524802814, 'other': 1.032362903126909, 'an': 2.4741706150459937, 'increase': 5.416658374081172, 'amount': 3.1918471524802814, 'total': 5.362043057428582, 'alive': 4.290459441148391, 'growth': 2.344549292093078, 'study': 2.769490833485751, 'died': 8.580918882296782, 'reproduction': 8.580918882296782, 'are': 0.8806236788766649, 'first': 2.093234863812172, 'time': 1.8925641683500207, 'caribbean': 2.211017899468555, 'event': 3.1918471524802814, 'one': 2.093234863812172, 'die': 4.290459441148391}, {'physiological': 1.9878743481543455, 'showed': 1.4000876832522264, 'genotoxic': 4.290459441148391, 'spans': 4.290459441148391, 'despite': 2.093234863812172, 'genomic': 2.681021528714291, 'to': 0.08392839819806441, 'identified': 1.5824092400461809, 'here': 1.457246097092175, 'possible': 2.681021528714291, 'exposure': 1.8925641683500207, 'mechanisms': 1.5178707189086098, 'studies': 1.7255100836868542, 'make': 4.290459441148391, 'now': 2.681021528714291, 'available': 3.597312260588446, 'adaptive': 2.498699971920336, 'we': 0.41925843024050014, 'study': 0.923163611161917, 'point': 3.1918471524802814, 'enable': 4.290459441148391, 'starting': 3.597312260588446, 'molecules': 2.9041650800285006, 'structural': 4.290459441148391, 'formation': 2.498699971920336, 'metabolism': 1.7255100836868542, 'nucleic': 3.597312260588446, 'involved': 1.2459370034249682, 'functional': 2.498699971920336, 'anhydrase': 2.9041650800285006, 'life': 2.498699971920336, 'maintain': 3.597312260588446, 'fluorescent': 3.1918471524802814, 'highlighted': 4.290459441148391, 'paralog': 4.290459441148391, 'evolutionary': 2.681021528714291, 'screens': 4.290459441148391, 'provide': 1.8925641683500207, 'transcriptome': 3.7851283367000415, 'cnidaria': 3.1918471524802814, 'proteins': 2.800175366504453, 'separating': 4.290459441148391, 'candidate': 2.681021528714291, 'key': 2.093234863812172, 'repair': 6.383694304960563, 'damage': 2.498699971920336, 'dna': 6.383694304960563, 'groups': 6.383694304960563, 'oxidative': 3.7851283367000415, 'pathways': 5.416658374081172, 'bilateria': 8.580918882296782, 'experienced': 4.290459441148391, 'as': 0.7640989165322297, 'molecular': 1.1549652252192415, 'coral': 0.1008046991219655, 'western': 4.290459441148391, 'atlantic': 4.290459441148391, 'at': 0.923163611161917, 'green': 3.597312260588446, 'same': 2.681021528714291, 'total': 2.681021528714291, 'the': 0.0, 'of': 0.0, 'annotation': 7.194624521176892, 'conservation': 3.1918471524802814, 'palmata': 3.7851283367000415, 'conclusions': 2.211017899468555, 'acropora': 0.11607217125275403, 'indicated': 2.681021528714291, 'carbonic': 2.9041650800285006, 'expressed': 2.91449219418435, 'associated': 1.4000876832522264, 'understanding': 1.7255100836868542, 'bilaterians': 3.597312260588446, 'cataloging': 4.290459441148391, 'between': 0.6795415285041667, 'anemones': 2.9041650800285006, 'foundationspecies': 4.290459441148391, 'success': 2.498699971920336, 'sequencing': 2.498699971920336, 'genes': 2.201559197191662, 'unique': 3.1918471524802814, 'will': 2.211017899468555, 'underlying': 1.9878743481543455, 'invertebrates': 2.681021528714291, 'metazoan': 3.1918471524802814, 'acid': 1.9878743481543455, 'p': 2.344549292093078, 'from': 0.9675939027561428, 'allow': 4.290459441148391, 'our': 2.4918740068499363, 'reefs': 1.5824092400461809, 'into': 2.5894543351888, 'advance': 4.290459441148391, 'insights': 2.681021528714291, 'evidence': 2.9041650800285006, 'beyond': 4.290459441148391, 'vertebrates': 3.597312260588446, 'free': 3.1918471524802814, 'cnidarians': 6.383694304960563, 'offer': 4.290459441148391, 'and': 0.0, 'harbor': 3.597312260588446, 'branch': 4.290459441148391, 'homologs': 2.9041650800285006, 'found': 1.7255100836868542, 'cdna': 2.093234863812172, 'retain': 4.290459441148391, 'many': 1.8055527913603908, 'corals': 1.2775319834560304, 'platform': 3.597312260588446, 'including': 3.0357414378172196, 'that': 0.4642886850110161, 'because': 2.681021528714291, 'symbiont': 2.211017899468555, 'caribbean': 2.211017899468555, 'they': 2.498699971920336, 'analysis': 1.1549652252192415, 'currently': 3.1918471524802814, 'nonmetazoans': 4.290459441148391, 'multispecies': 4.290459441148391, 'stress': 2.2053341389769328, 'known': 1.457246097092175, 'were': 0.7568728714404901, 'player': 4.290459441148391, 'genetic': 4.186469727624344, 'provided': 7.194624521176892, 'rough': 4.290459441148391, 'only': 1.9878743481543455, 'efforts': 3.597312260588446, 'similarities': 3.1918471524802814, 'background': 1.6514021115331325, 'protein': 1.2459370034249682, 'important': 2.6920409239639014, 'transitiontransversion': 4.290459441148391, 'number': 2.344549292093078, 'in': 0.15172654345569347, 'estimate': 4.290459441148391, 'components': 2.344549292093078, 'basis': 2.344549292093078, 'sample': 3.1918471524802814, 'integrity': 4.290459441148391, 'ecologically': 3.597312260588446, 'traits': 2.9041650800285006, 'these': 0.41925843024050014, 'comes': 3.597312260588446, 'ratios': 3.597312260588446, 'wide': 2.9041650800285006, 'assembled': 8.712495240085502, 'model': 2.498699971920336, 'time': 1.8925641683500207, 'results': 1.413881005384562, 'when': 1.8925641683500207, 'has': 1.3460204619819507, 'data': 5.963623044463036, 'all': 1.2459370034249682, 'other': 1.032362903126909, 'for': 1.8472721786371844, 'samples': 2.093234863812172, 'comparisons': 3.597312260588446, 'with': 0.6029507891682335, 'library': 3.597312260588446, 'comparative': 3.1918471524802814, 'contained': 4.290459441148391, 'evolution': 4.997399943840672, 'enriched': 2.344549292093078, 'larval': 2.9041650800285006, 'considerable': 3.1918471524802814, 'obtained': 2.9041650800285006, 'tissue': 2.093234863812172, 'selection': 3.1918471524802814, 'was': 1.0585186509096574, 'sequenced': 2.9041650800285006, 'long': 3.597312260588446, 'on': 0.6268977950187447, 'along': 4.290459441148391, 'gsflx': 4.290459441148391, 'over': 4.186469727624344, 'reads': 3.1918471524802814, 'contigs': 3.1918471524802814, 'acquired': 3.1918471524802814, 'particularly': 2.681021528714291, 'sequences': 5.362043057428582, 'a': 0.6861345740594008, 'transcripts': 2.9041650800285006, 'tagged': 4.290459441148391}, {'process': 2.093234863812172, 'cellular': 1.5824092400461809, 'growing': 4.290459441148391, 'study': 0.923163611161917, 'quenching': 4.290459441148391, 'key': 2.093234863812172, 'indicates': 2.093234863812172, 'play': 2.681021528714291, 'biomarker': 2.681021528714291, 'early': 1.8055527913603908, 'thus': 2.681021528714291, 'measured': 4.290459441148391, 'any': 2.093234863812172, 'thermallyinduced': 4.290459441148391, 'significant': 1.8055527913603908, 'approximately': 2.9041650800285006, 'likely': 1.8055527913603908, 'contrast': 2.498699971920336, 'shift': 5.808330160057001, 'oxidative': 3.7851283367000415, 'there': 2.498699971920336, 'which': 0.7351113796589775, 'after': 2.4918740068499363, 'days': 5.808330160057001, 'role': 1.6514021115331325, 'twelve': 3.597312260588446, 'abrupt': 4.290459441148391, 'until': 2.9041650800285006, 'stable': 2.9041650800285006, 'dysfunction': 3.597312260588446, 'redox': 4.290459441148391, 'i': 2.9041650800285006, 'had': 1.7255100836868542, 'timescales': 4.290459441148391, 'different': 1.6514021115331325, 'changes': 1.0715836162801904, 'occur': 2.344549292093078, 'show': 2.498699971920336, 'densities': 3.597312260588446, 'thermal': 2.3988339755801507, 'cell': 2.093234863812172, 'chlorophyll': 3.597312260588446, 'efficiency': 2.9041650800285006, 'parameter': 4.290459441148391, 'prior': 3.597312260588446, 'experiment': 2.498699971920336, 'photochemical': 3.597312260588446, 'symbiont': 4.42203579893711, 'corals': 0.42584399448534344, 'symbiosis': 5.963623044463036, 'occurred': 3.1918471524802814, 'worldwide': 2.344549292093078, 'work': 3.597312260588446, 'oxidation': 4.290459441148391, 'ros': 5.808330160057001, 'into': 1.2947271675944, 'species': 1.3460204619819507, 'by': 0.9236360893185922, 'precede': 3.597312260588446, 'disrupt': 3.597312260588446, 'coral': 0.30241409736589653, 'pq': 8.580918882296782, 'during': 1.2459370034249682, 'on': 0.6268977950187447, 'enhanced': 2.9041650800285006, 'lcms': 4.290459441148391, 'phenomenon': 3.1918471524802814, 'in': 0.08275993279401461, 'bleaching': 2.874764792919562, 'their': 0.994622575144062, 'that': 0.4642886850110161, 'consensus': 4.290459441148391, 'physiological': 3.975748696308691, 'is': 1.2577752907215003, 'responses': 3.7378110102749043, 'current': 3.597312260588446, 'biggest': 4.290459441148391, 'state': 7.194624521176892, 'seawater': 1.8925641683500207, 'increasing': 2.093234863812172, 'antioxidant': 7.033647876279234, 'may': 2.064725806253818, 'ecosystems': 2.211017899468555, 'remained': 2.681021528714291, 'pool': 14.389249042353784, 'assessing': 4.290459441148391, 'other': 1.032362903126909, 'an': 2.4741706150459937, 'episodes': 4.290459441148391, 'these': 0.41925843024050014, 'from': 0.4837969513780714, 'body': 3.597312260588446, 'systems': 2.681021528714291, 'as': 0.7640989165322297, 'coralalgal': 3.1918471524802814, 'to': 0.20982099549516103, 'mortality': 1.8925641683500207, 'for': 0.4618180446592961, 'results': 1.413881005384562, 'reef': 1.457246097092175, 'and': 0.0, 'mass': 2.498699971920336, 'temperatures': 1.5178707189086098, 'components': 2.344549292093078, 'relevant': 3.1918471524802814, 'plastoquinone': 4.290459441148391, 'regarded': 4.290459441148391, 'adds': 4.290459441148391, 'reactive': 2.9041650800285006, 'chromatographymass': 3.597312260588446, 'production': 2.498699971920336, 'induce': 3.597312260588446, 'one': 2.093234863812172, 'endosymbiotic': 2.498699971920336, 'the': 0.0, 'of': 0.0, 'threats': 2.9041650800285006, 'symbiodinium': 4.371738291276525, 'dinoflagellates': 2.344549292093078, 'here': 1.457246097092175, 'two': 3.7378110102749043, 'colonies': 1.5824092400461809, 'important': 1.3460204619819507, 'host': 5.600350733008906, 'a': 0.1715336435148502, 'q': 3.597312260588446, 'concentration': 2.344549292093078, 'quantify': 4.290459441148391, 'time': 1.8925641683500207, 'photosystem': 3.597312260588446, 'oxygen': 2.9041650800285006, 'pools': 7.194624521176892, 'coq': 12.871378323445173, 'was': 1.0585186509096574, 'with': 0.30147539458411676, 'ii': 6.383694304960563, 'investigated': 2.211017899468555, 'between': 0.6795415285041667, 'spectrometry': 3.1918471524802814, 'are': 0.8806236788766649, 'first': 2.093234863812172, 'scleractinian': 1.8925641683500207, 'stress': 1.470222759317955, 'together': 3.597312260588446, 'acropora': 0.11607217125275403, 'millepora': 1.2947271675944, 'experimentallyinduced': 4.290459441148391, 'coenzyme': 4.290459441148391, 'under': 1.4000876832522264, 'ecologically': 3.597312260588446, 'this': 1.5188094216903902, 'parameters': 4.290459441148391, 'conditions': 1.3460204619819507, 'liquid': 4.290459441148391, 'caused': 2.211017899468555, 'used': 2.681021528714291, 'states': 3.597312260588446, 'general': 2.498699971920336, 'harmful': 3.597312260588446, 'defence': 3.597312260588446, 'including': 1.5178707189086098}, {'manifests': 4.290459441148391, 'partnership': 4.290459441148391, 'breakdown': 2.498699971920336, 'contributing': 3.597312260588446, 'also': 1.1994169877900753, 'key': 2.093234863812172, 'putative': 2.093234863812172, 'sequences': 2.681021528714291, 'dna': 3.1918471524802814, 'bioinformatics': 3.597312260588446, 'algal': 2.093234863812172, 'assembly': 3.597312260588446, 'protein': 1.2459370034249682, 'snare': 4.290459441148391, 'regulator': 4.290459441148391, 'binding': 2.9041650800285006, 'invokes': 4.290459441148391, 'bleaching': 1.9165098619463745, 'mechanism': 2.9041650800285006, 'cellular': 3.1648184800923618, 'exposed': 1.457246097092175, 'induced': 2.681021528714291, 'phagosomal': 4.290459441148391, 'expression': 1.1537747488881667, 'additionally': 2.9041650800285006, 'partners': 7.194624521176892, 'lightinduced': 4.290459441148391, 'symbiotic': 1.8925641683500207, 'adaptation': 3.597312260588446, 'shared': 3.1918471524802814, 'these': 0.41925843024050014, 'biosynthesis': 2.681021528714291, 'further': 2.211017899468555, 'pcr': 2.211017899468555, 'process': 2.093234863812172, 'empirical': 4.290459441148391, 'symbiosis': 3.975748696308691, 'upholds': 4.290459441148391, 'mrna': 3.1918471524802814, 'subtractive': 4.290459441148391, 'transplantation': 4.290459441148391, 'as': 2.292296749596689, 'analyses': 2.498699971920336, 'residing': 4.290459441148391, 'differential': 2.093234863812172, 'exocytosis': 8.580918882296782, 'reveals': 4.290459441148391, 'cdna': 4.186469727624344, 'encoding': 3.1918471524802814, 'this': 1.01253961446026, 'a': 1.0292018610891012, 'solar': 14.389249042353784, 'treatment': 2.093234863812172, 'levels': 1.7255100836868542, 'pcrbased': 4.290459441148391, 'library': 7.194624521176892, 'coral': 0.7056328938537585, 'molecular': 1.1549652252192415, 'irradiance': 17.161837764593564, 'examine': 2.9041650800285006, 'cooperation': 4.290459441148391, 'acropora': 0.11607217125275403, 'precursor': 4.290459441148391, 'depends': 4.290459441148391, 'performance': 3.597312260588446, 'obtained': 5.808330160057001, 'mycosporinelike': 4.290459441148391, 'formation': 2.498699971920336, 'implicate': 4.290459441148391, 'corals': 0.21292199724267172, 'by': 2.3090902232964803, 'uvprotective': 4.290459441148391, 'whereby': 3.597312260588446, 'between': 2.0386245855125003, 'genes': 0.8806236788766649, 'loss': 2.093234863812172, 'findings': 2.211017899468555, 'tropical': 3.1918471524802814, 'is': 0.8385168604810003, 'and': 0.0, 'endosymbionts': 2.211017899468555, 'gene': 1.470222759317955, 'annotation': 3.597312260588446, 'success': 2.498699971920336, 'metabolically': 4.290459441148391, 'are': 0.8806236788766649, 'background': 1.6514021115331325, 'algae': 5.808330160057001, 'of': 0.0, 'the': 0.0, 'endosymbiotic': 4.997399943840672, 'photosynthetic': 2.498699971920336, 'maa': 8.580918882296782, 'constructed': 3.597312260588446, 'pcrssh': 4.290459441148391, 'cells': 2.093234863812172, 'revealed': 3.6111055827207816, 'deoxygadusol': 4.290459441148391, 'suppression': 3.1918471524802814, 'animal': 3.1918471524802814, 'ca': 2.681021528714291, 'sequence': 2.211017899468555, 'potent': 4.290459441148391, 'enhanced': 2.9041650800285006, 'on': 0.6268977950187447, 'shikimic': 4.290459441148391, 'was': 0.5292593254548287, 'its': 1.6514021115331325, 'acids': 2.9041650800285006, 'response': 0.8247235383486646, 'colony': 2.681021528714291, 'branching': 3.1918471524802814, 'has': 1.3460204619819507, 'metabolite': 3.1918471524802814, 'lost': 2.9041650800285006, 'depth': 4.290459441148391, 'within': 1.7255100836868542, 'during': 1.2459370034249682, 'identification': 2.498699971920336, 'contention': 4.290459441148391, 'based': 2.344549292093078, 'which': 2.2053341389769328, 'noticeably': 4.290459441148391, 'to': 0.29374939369322545, 'high': 3.0357414378172196, 'became': 4.290459441148391, 'phototrophic': 4.290459441148391, 'm': 2.9041650800285006, 'in': 0.041379966397007306, 'leads': 3.597312260588446, 'metabolic': 4.42203579893711, 'sunexposed': 4.290459441148391, 'host': 2.800175366504453, 'tissues': 2.681021528714291, 'evidence': 5.808330160057001, 'methodologyprincipal': 2.681021528714291, 'novel': 2.211017899468555, 'synaptotagminlike': 4.290459441148391, 'sunscreens': 8.580918882296782, 'approach': 2.681021528714291, 'steps': 3.1918471524802814, 'serve': 2.9041650800285006, 'nearsurface': 4.290459441148391, 'microphthalma': 4.290459441148391, 'gave': 4.290459441148391, 'conclusionssignificance': 2.681021528714291, 'that': 0.4642886850110161, 'genetic': 2.093234863812172, 'for': 0.4618180446592961, 'reefbuilding': 1.7255100836868542, 'hypothetical': 4.290459441148391, 'biosynthetic': 7.194624521176892, 'essential': 2.681021528714291, 'pathway': 6.633053698405666, 'hybridisation': 4.290459441148391, 'from': 2.418984756890357, 'acid': 1.9878743481543455, 'antioxidant': 2.344549292093078, 'paler': 4.290459441148391, 'expected': 2.498699971920336, 'amino': 2.498699971920336, 'maas': 4.290459441148391}, {'process': 2.093234863812172, 'involved': 1.2459370034249682, 'likely': 1.8055527913603908, 'these': 0.41925843024050014, 'on': 0.6268977950187447, 'apparent': 3.597312260588446, 'lectins': 3.597312260588446, 'with': 0.30147539458411676, 'polyps': 3.1918471524802814, 'binding': 5.808330160057001, 'to': 0.16785679639612883, 'isolated': 2.9041650800285006, 'symbiodinium': 4.371738291276525, 'cloning': 4.290459441148391, 'the': 0.0, 'masses': 4.290459441148391, 'of': 0.0, 'tachylectinlike': 4.290459441148391, 'and': 0.0, 'results': 0.706940502692281, 'de': 3.597312260588446, 'nacetyldglucosamine': 4.290459441148391, 'nacetyldgalactosamine': 8.580918882296782, 'at': 0.923163611161917, 'two': 1.2459370034249682, 'in': 0.01379332213233577, 'mm': 4.290459441148391, 'molecular': 1.1549652252192415, 'from': 0.4837969513780714, 'novo': 3.597312260588446, 'also': 2.3988339755801507, 'kda': 6.383694304960563, 'showed': 1.4000876832522264, 'tended': 4.290459441148391, 'acquisition': 12.871378323445173, 'suggested': 2.9041650800285006, 'we': 0.41925843024050014, 'a': 0.1715336435148502, 'based': 2.344549292093078, 'cdna': 2.093234863812172, 'tenuis': 4.689098584186156, 'sequencing': 2.498699971920336, 'that': 0.11607217125275403, 'protein': 1.2459370034249682, 'is': 1.2577752907215003, 'lectin': 2.681021528714291, 'decrease': 1.9878743481543455, 'attl': 17.161837764593564, 'inhibited': 4.290459441148391, 'nacetyldgalactosamineresin': 4.290459441148391, 'antitachylectin': 4.290459441148391, 'by': 0.4618180446592961, 'antibody': 8.580918882296782, 'bind': 3.1918471524802814, 'specifically': 2.498699971920336, 'juvenile': 2.681021528714291}, {'interacting': 4.290459441148391, 'cause': 2.344549292093078, 'might': 2.211017899468555, 'by': 0.9236360893185922, 'was': 0.5292593254548287, 'co': 2.344549292093078, 'evaluated': 3.1918471524802814, 'adult': 2.498699971920336, 'in': 0.11034657705868615, 'concentration': 2.344549292093078, 'model': 7.4960999157610075, 'spermegg': 4.290459441148391, 'compared': 3.1648184800923618, 'life': 2.498699971920336, 'calcification': 2.211017899468555, 'early': 1.8055527913603908, 'followed': 2.9041650800285006, 'acropora': 0.11607217125275403, 'history': 3.597312260588446, 'have': 1.4000876832522264, 'as': 0.7640989165322297, 'to': 0.08392839819806441, 'our': 1.2459370034249682, 'cover': 2.681021528714291, 'stage': 2.9041650800285006, 'oa': 10.791936781765338, 'been': 1.3460204619819507, 'that': 0.5803608562637701, 'into': 1.2947271675944, 'acidification': 2.681021528714291, 'finding': 3.597312260588446, 'of': 0.0, 'effects': 6.3296369601847235, 'the': 0.0, 'bestfitted': 4.290459441148391, 'these': 0.41925843024050014, 'support': 4.290459441148391, 'thermal': 3.598250963370226, 'reef': 1.457246097092175, 'severe': 3.597312260588446, 'reefbuilding': 3.4510201673737084, 'data': 1.9878743481543455, 'generalized': 3.597312260588446, 'ocean': 2.498699971920336, 'driven': 3.1918471524802814, 'gw': 12.871378323445173, 'results': 0.706940502692281, 'on': 3.1344889750937233, 'unknown': 2.211017899468555, 'warming': 2.211017899468555, 'are': 0.44031183943833246, 'normal': 2.9041650800285006, 'global': 1.5178707189086098, 'fertilization': 25.181185824119122, 'coral': 0.5040234956098275, 'for': 0.9236360893185922, 'study': 0.923163611161917, 'we': 0.41925843024050014, 'a': 0.2573004652722753, 'threats': 2.9041650800285006, 'corals': 0.6387659917280152, 'contrast': 2.498699971920336, 'but': 0.994622575144062, 'ecosystems': 2.211017899468555, 'decreased': 4.42203579893711, 'seawater': 9.462820841750103, 'evident': 3.597312260588446, 'digitifera': 6.633053698405666, 'decrease': 1.9878743481543455, 'rates': 8.712495240085502, 'mixed': 4.290459441148391, 'response': 0.8247235383486646, 'those': 1.8055527913603908, 'not': 2.064725806253818, 'acidified': 12.767388609921126, 'under': 1.4000876832522264, 'this': 0.50626980723013, 'conditions': 1.3460204619819507, 'stress': 2.2053341389769328, 'were': 1.1353093071607352, 'linear': 4.290459441148391, 'and': 0.0, 'glmm': 4.290459441148391, 'predicted': 2.093234863812172, 'best': 4.290459441148391, 'crosses': 4.290459441148391, 'temperature': 1.2947271675944, 'with': 0.6029507891682335, 'explanatory': 4.290459441148391, 'taking': 3.597312260588446, 'variables': 3.597312260588446, 'interactions': 2.498699971920336, 'between': 0.6795415285041667, 'recognized': 4.290459441148391, 'suggested': 2.9041650800285006, 'selected': 3.1918471524802814, 'is': 0.41925843024050014, 'changes': 1.0715836162801904, 'more': 1.3460204619819507, 'sensitive': 3.597312260588446, 'future': 2.093234863812172, 'relatively': 3.597312260588446, 'than': 1.457246097092175, 'consideration': 4.290459441148391, 'motility': 4.290459441148391, 'previous': 2.9041650800285006, 'sperm': 8.580918882296782}, {'ros': 2.9041650800285006, 'reactive': 2.9041650800285006, 'po': 4.290459441148391, 'phenoloxidase': 4.290459441148391, 'ppo': 4.290459441148391, 'prophenoloxidase': 4.290459441148391, 'when': 1.8925641683500207, 'activated': 3.597312260588446, 'barrier': 3.1918471524802814, 'serve': 2.9041650800285006, 'deposits': 4.290459441148391, 'mucus': 3.597312260588446, 'barriers': 4.290459441148391, 'phagocytosis': 3.1918471524802814, 'eg': 7.194624521176892, 'cellular': 1.5824092400461809, 'macromolecules': 3.597312260588446, 'antimicrobial': 3.1918471524802814, 'recognition': 4.997399943840672, 'include': 2.9041650800285006, 'features': 3.597312260588446, 'invading': 8.580918882296782, 'innate': 4.42203579893711, 'entirely': 4.290459441148391, 'invertebrates': 2.681021528714291, 'like': 2.681021528714291, 'dynamics': 3.1918471524802814, 'transmission': 3.1918471524802814, 'considered': 4.290459441148391, 'members': 2.211017899468555, 'between': 0.6795415285041667, 'effects': 1.5824092400461809, 'interactive': 3.597312260588446, 'disturbance': 3.597312260588446, 'unaffected': 3.1918471524802814, 'general': 2.498699971920336, 'biology': 3.1918471524802814, 'associated': 2.800175366504453, 'lesions': 6.383694304960563, 'varied': 3.1918471524802814, 'because': 2.681021528714291, 'suggest': 1.5824092400461809, 'results': 0.706940502692281, 'pathobiome': 12.871378323445173, 'were': 0.37843643572024505, 'shifting': 4.290459441148391, 'species': 5.384081847927803, 'facilitate': 4.290459441148391, 'events': 2.9041650800285006, 'launch': 4.290459441148391, 'role': 1.6514021115331325, 'did': 1.8925641683500207, 'causes': 2.344549292093078, 'ie': 3.597312260588446, 'pattern': 2.9041650800285006, 'stress': 0.7351113796589775, 'fragments': 2.498699971920336, 'any': 4.186469727624344, 'as': 2.292296749596689, 'expression': 1.1537747488881667, 'another': 3.597312260588446, 'largely': 2.211017899468555, 'corals': 0.6387659917280152, 'compounded': 4.290459441148391, 'many': 3.6111055827207816, 'diagnosis': 4.290459441148391, 'large': 2.681021528714291, 'maintained': 3.597312260588446, 'health': 5.362043057428582, 'opportunistic': 4.290459441148391, 'whereas': 2.211017899468555, 'subsequent': 2.9041650800285006, 'constitutive': 3.597312260588446, 'factors': 2.344549292093078, 'physical': 6.383694304960563, 'immune': 3.6111055827207816, 'and': 0.0, 'taxa': 3.1918471524802814, 'eight': 2.9041650800285006, 'cover': 2.681021528714291, 'coral': 0.806437592975724, 'resistance': 2.9041650800285006, 'melanin': 8.580918882296782, 'favor': 4.290459441148391, 'healthier': 4.290459441148391, 'immunity': 4.954206334599398, 'vibrio': 5.808330160057001, 'predict': 2.681021528714291, 'however': 1.2459370034249682, 'intraspecific': 4.290459441148391, 'multiple': 4.997399943840672, 'response': 0.8247235383486646, 'genotypes': 5.808330160057001, 'recurrent': 4.290459441148391, 'changes': 1.0715836162801904, 'more': 1.3460204619819507, 'fold': 2.9041650800285006, 'disease': 15.529590753181688, 'whose': 4.290459441148391, 'several': 1.9878743481543455, 'unclear': 3.1918471524802814, 'worldwide': 2.344549292093078, 'stressassociated': 4.290459441148391, 'highmortality': 4.290459441148391, 'might': 2.211017899468555, 'secreted': 4.290459441148391, 'a': 0.6861345740594008, 'we': 0.8385168604810003, 'individuals': 8.043064586142872, 'zero': 4.290459441148391, 'millepora': 1.2947271675944, 'variation': 2.211017899468555, 'genes': 0.44031183943833246, 'weaknesses': 4.290459441148391, 'that': 0.4642886850110161, 'appeared': 3.1918471524802814, 'from': 1.4513908541342142, 'significant': 1.8055527913603908, 'colonies': 4.747227720138543, 'specific': 1.8055527913603908, 'mortality': 9.462820841750103, 'for': 0.9236360893185922, 'bacterial': 8.372939455248687, 'transcriptomic': 2.344549292093078, 'assay': 3.1918471524802814, 'pathogenic': 3.1918471524802814, 'major': 2.498699971920336, 'putatively': 4.290459441148391, 'rather': 4.290459441148391, 'protection': 3.597312260588446, 'of': 0.0, 'the': 0.0, 'spp': 2.344549292093078, 'challenge': 5.808330160057001, 'responsible': 3.1918471524802814, 'biotic': 3.597312260588446, 'oxygen': 2.9041650800285006, 'rates': 5.808330160057001, 'bacteria': 7.4960999157610075, 'due': 1.5178707189086098, 'consists': 4.290459441148391, 'average': 3.597312260588446, 'signatures': 3.597312260588446, 'with': 1.205901578336467, 'attributed': 3.1918471524802814, 'single': 8.712495240085502, 'increasing': 2.093234863812172, 'deterioration': 4.290459441148391, 'researchers': 4.290459441148391, 'act': 6.383694304960563, 'molecular': 1.1549652252192415, 'than': 2.91449219418435, 'healthy': 2.498699971920336, 'rely': 3.597312260588446, 'activity': 1.9878743481543455, 'describe': 2.681021528714291, 'exposed': 1.457246097092175, 'if': 2.681021528714291, 'diseases': 7.033647876279234, 'nature': 4.290459441148391, 'be': 1.7129444733264898, 'remain': 2.211017899468555, 'holobiont': 2.498699971920336, 'physiology': 3.1918471524802814, 'instead': 9.575541457440844, 'virulence': 3.597312260588446, 'larger': 2.9041650800285006, 'to': 0.5035703891883865, 'etiological': 12.871378323445173, 'condition': 6.383694304960563, 'our': 1.2459370034249682, 'agent': 7.194624521176892, 'environmental': 2.6920409239639014, 'conditions': 1.3460204619819507, 'compromising': 4.290459441148391, 'determinant': 4.290459441148391, 'play': 2.681021528714291, 'merely': 4.290459441148391, 'opportunistically': 4.290459441148391, 'lowmortality': 4.290459441148391, 'outbreaks': 2.498699971920336, 'is': 1.2577752907215003, 'compromised': 7.194624521176892, 'developed': 3.597312260588446, 'currently': 3.1918471524802814, 'microbiome': 7.194624521176892, 'independently': 3.597312260588446, 'thought': 4.290459441148391, 'cleavage': 4.290459441148391, 'exploiting': 4.290459441148391, 'crossvalidated': 4.290459441148391, 'some': 1.8925641683500207, 'acropora': 0.11607217125275403, 'remained': 2.681021528714291, 'biomarker': 2.681021528714291, 'in': 0.15172654345569347, 'based': 2.344549292093078, 'which': 0.7351113796589775, 'on': 1.880693385056234, 'asymptomatic': 3.597312260588446, 'not': 1.032362903126909, 'global': 1.5178707189086098, 'declines': 3.1918471524802814, 'responses': 2.4918740068499363, 'are': 0.8806236788766649, 'after': 1.2459370034249682, 'by': 0.9236360893185922, 'cascade': 4.290459441148391, 'variety': 3.597312260588446, 'diseased': 2.681021528714291, 'macroscopic': 4.290459441148391, 'characterizations': 4.290459441148391, 'against': 2.9041650800285006, 'reported': 2.9041650800285006, 'coincides': 4.290459441148391, 'genus': 2.344549292093078, 'have': 2.800175366504453, 'been': 1.3460204619819507, 'prominent': 3.1918471524802814, 'implicated': 2.9041650800285006, 'pathogen': 8.043064586142872, 'but': 0.994622575144062, 'these': 0.8385168604810003, 'may': 1.032362903126909, 'synthesis': 3.597312260588446, 'recently': 2.344549292093078, 'pathogens': 12.767388609921126, 'hosts': 2.9041650800285006, 'arise': 4.290459441148391, 'presence': 2.681021528714291, 'stressors': 1.9878743481543455, 'diversity': 2.681021528714291, 'suggests': 2.498699971920336, 'triggers': 3.597312260588446, 'instances': 4.290459441148391, 'defined': 3.1918471524802814, 'agents': 3.597312260588446, 'cannot': 3.1918471524802814, 'appear': 3.1918471524802814, 'produced': 3.597312260588446, 'ambiguously': 4.290459441148391, 'during': 1.2459370034249682, 'phenomena': 4.290459441148391, 'introduced': 4.290459441148391, 'concept': 3.597312260588446, 'all': 2.4918740068499363, 'microbiota': 2.9041650800285006, 'contribute': 4.290459441148391, 'host': 1.4000876832522264, 'direct': 2.9041650800285006, 'describes': 4.290459441148391}, {'order': 2.681021528714291, 'an': 0.8247235383486646, 'normal': 2.9041650800285006, 'suggested': 2.9041650800285006, 'in': 0.06896661066167885, 'decrease': 5.963623044463036, 'after': 3.7378110102749043, 'it': 1.8925641683500207, 'host': 1.4000876832522264, 'elevation': 3.597312260588446, 'however': 1.2459370034249682, 'lost': 11.616660320114002, 'bleaching': 0.9582549309731873, 'its': 1.6514021115331325, 'a': 0.857668217574251, 's': 16.086129172285744, 'similar': 2.344549292093078, 'sedimentation': 4.290459441148391, 'and': 0.0, 'zooxanthellae': 24.98699971920336, 'increased': 3.0357414378172196, 'had': 1.7255100836868542, 'by': 0.4618180446592961, 'humilis': 30.033216088038735, 'l': 17.98656130294223, 'coral': 0.1008046991219655, 'stylophora': 4.290459441148391, 'decline': 2.498699971920336, 'not': 1.032362903126909, 'sharp': 4.290459441148391, 'those': 3.6111055827207816, 'viability': 3.597312260588446, 'with': 0.30147539458411676, 'sample': 6.383694304960563, 'each': 3.7851283367000415, 'treatment': 2.093234863812172, 'higher': 3.7851283367000415, 'exposure': 3.7851283367000415, 'temperature': 3.8841815027832003, 'from': 1.9351878055122855, 'as': 0.7640989165322297, 'to': 0.20982099549516103, 'any': 2.093234863812172, 'very': 3.1918471524802814, 'revealed': 1.8055527913603908, 'day': 4.997399943840672, 'control': 4.689098584186156, 'of': 0.0, 'the': 0.0, 'two': 3.7378110102749043, 'loss': 4.186469727624344, 'between': 0.6795415285041667, 'rate': 2.681021528714291, 'c': 7.000438416261132, 'both': 1.1549652252192415, 'is': 0.41925843024050014, 'at': 6.462145278133419, 'was': 2.1170373018193147, 'low': 2.681021528714291, 'were': 0.7568728714404901, 'but': 0.994622575144062, 'corals': 0.42584399448534344, 'acropora': 0.11607217125275403, 'depicted': 4.290459441148391, 'vary': 2.9041650800285006, 'number': 2.344549292093078, 'species': 1.3460204619819507, 'studied': 5.362043057428582, 'pistillata': 30.033216088038735, 'cell': 2.093234863812172, 'be': 0.8564722366632449, 'densities': 17.98656130294223, 'for': 0.9236360893185922, 'where': 2.9041650800285006, 'significant': 1.8055527913603908, 'than': 2.91449219418435, 'same': 5.362043057428582, 'greatly': 4.290459441148391, 'or': 1.9165098619463745, 'less': 5.362043057428582, 'their': 0.994622575144062, 'h': 1.8055527913603908, 'samples': 2.093234863812172, 'exposed': 2.91449219418435, 'threshold': 4.290459441148391, 'sediment': 8.580918882296782, 'time': 7.570256673400083, 'concentration': 4.689098584186156, 'mgcm': 17.161837764593564, 'did': 1.8925641683500207, 'caused': 2.211017899468555, 'through': 2.9041650800285006, 'show': 2.498699971920336, 'gcm': 4.290459441148391, 'significantly': 1.2459370034249682, 'this': 0.50626980723013, 'highly': 2.9041650800285006, 'different': 1.6514021115331325, 'controls': 3.597312260588446, 'increases': 2.9041650800285006, 'that': 0.23214434250550806, 'over': 2.093234863812172, 'stage': 2.9041650800285006, 'measurements': 4.290459441148391, 'difference': 3.1918471524802814}, {'occurs': 2.9041650800285006, 'stress': 0.7351113796589775, 'each': 1.8925641683500207, 'suggesting': 1.8925641683500207, 'coral': 0.1008046991219655, 'was': 0.5292593254548287, 'showing': 2.9041650800285006, 'oxidative': 3.7851283367000415, 'gene': 1.470222759317955, 'lightharvesting': 3.597312260588446, 'stressexposed': 4.290459441148391, 'chloroplast': 4.290459441148391, 'for': 0.9236360893185922, 'with': 0.30147539458411676, 'associated': 1.4000876832522264, 'response': 0.8247235383486646, 'algae': 2.9041650800285006, 'endosymbiotic': 2.498699971920336, 'stressrelated': 3.1918471524802814, 'generally': 3.1918471524802814, 'aquaglyceroporin': 4.290459441148391, 'adenosyltransferase': 4.290459441148391, 'methionine': 3.597312260588446, 'dnajlike': 4.290459441148391, 'calreticulin': 4.290459441148391, 'protein': 4.983748013699873, 'coding': 7.194624521176892, 'encoding': 3.1918471524802814, 'pcr': 2.211017899468555, 'realtime': 2.344549292093078, 'using': 1.4000876832522264, 'showed': 1.4000876832522264, 'study': 0.923163611161917, 'tbtcl': 4.290459441148391, 'three': 1.7255100836868542, 'expression': 2.3075494977763333, 'highcoverage': 4.290459441148391, 'were': 1.1353093071607352, 'of': 0.0, 'sequences': 5.362043057428582, 'describe': 2.681021528714291, 'both': 1.1549652252192415, 'polyps': 3.1918471524802814, 'the': 0.0, 'thermal': 2.3988339755801507, 'these': 0.8385168604810003, 'means': 4.290459441148391, 'strategy': 4.290459441148391, 'heat': 1.4000876832522264, 'by': 0.4618180446592961, 'that': 0.11607217125275403, 'stressresponsive': 12.767388609921126, 'dcmu': 4.290459441148391, 'this': 0.50626980723013, 'cdna': 2.093234863812172, 'we': 0.8385168604810003, 'a': 0.0857668217574251, 'all': 1.2459370034249682, 'patterns': 2.498699971920336, 'as': 1.5281978330644594, 'to': 0.12589259729709662, 'only': 1.9878743481543455, 'hicep': 4.290459441148391, 'increased': 1.5178707189086098, 'had': 1.7255100836868542, 'profiling': 2.9041650800285006, 'identify': 2.344549292093078, 'genes': 2.6418710366299947, 'seven': 6.383694304960563, 'chemical': 8.580918882296782, 'known': 1.457246097092175, 'corals': 0.6387659917280152, 'levels': 1.7255100836868542, 'examined': 2.093234863812172, 'in': 0.08275993279401461, 'differential': 2.093234863812172, 'stresses': 10.791936781765338, 'on': 0.6268977950187447, 'effects': 1.5824092400461809, 'acropora': 0.11607217125275403, 'tenuis': 2.344549292093078, 'quantified': 2.9041650800285006, 'polyp': 4.290459441148391, 'juvenile': 2.681021528714291, 'identified': 3.1648184800923618, 'significantly': 1.2459370034249682, 'and': 0.0, 'similar': 2.344549292093078, 'shock': 1.9878743481543455, 'proteins': 1.4000876832522264}, {'display': 3.597312260588446, 'found': 1.7255100836868542, 'pathways': 1.8055527913603908, 'regulating': 3.597312260588446, 'involved': 1.2459370034249682, 'addition': 2.093234863812172, 'containing': 3.1918471524802814, 'zooxanthellae': 4.997399943840672, 'rhythmic': 4.290459441148391, 'may': 1.032362903126909, 'exhibit': 3.1918471524802814, 'ontology': 3.597312260588446, 'gene': 2.2053341389769328, 'also': 1.1994169877900753, 'between': 0.6795415285041667, 'biological': 6.633053698405666, 'lightdark': 4.290459441148391, 'entrained': 3.597312260588446, 'patterns': 2.498699971920336, 'is': 0.8385168604810003, 'transcription': 7.033647876279234, 'their': 0.994622575144062, 'endogenous': 4.290459441148391, 'absent': 3.1918471524802814, 'eyes': 4.290459441148391, 'individual': 2.9041650800285006, 'analysis': 2.309930450438483, 'darkness': 12.871378323445173, 'methodologyprincipal': 2.681021528714291, 'brooding': 4.290459441148391, 'control': 2.344549292093078, 'day': 2.498699971920336, 'expression': 1.73066212333225, 'both': 2.309930450438483, 'nonilluminationfor': 4.290459441148391, 'periods': 3.597312260588446, 'solar': 7.194624521176892, 'associated': 1.4000876832522264, 'regulation': 2.211017899468555, 'specific': 1.8055527913603908, 'different': 1.6514021115331325, 'scleractinian': 1.8925641683500207, 'regulated': 6.383694304960563, 'behaviors': 3.597312260588446, 'reproductive': 3.597312260588446, 'tissue': 2.093234863812172, 'but': 0.994622575144062, 'and': 0.0, 'larvae': 2.211017899468555, 'example': 12.871378323445173, 'number': 4.689098584186156, 'are': 1.3209355183149973, 'background': 1.6514021115331325, 'by': 1.3854541339778883, 'physiological': 1.9878743481543455, 'responsive': 4.290459441148391, 'indicating': 5.808330160057001, 'feeding': 4.290459441148391, 'daily': 3.597312260588446, 'coral': 0.201609398243931, 'damped': 4.290459441148391, 'rhythms': 7.194624521176892, 'diurnal': 12.871378323445173, 'studies': 1.7255100836868542, 'cycles': 17.161837764593564, 'a': 0.4288341087871255, 'we': 0.41925843024050014, 'regulate': 3.597312260588446, 'with': 0.30147539458411676, 'spawning': 3.597312260588446, 'night': 4.290459441148391, 'sequencing': 2.498699971920336, 'populations': 2.681021528714291, 'abundance': 2.9041650800285006, 'broadcast': 3.597312260588446, 'in': 0.12413989919102192, 'circadian': 11.616660320114002, 'illumination': 8.580918882296782, 'cycle': 9.575541457440844, 'lack': 3.597312260588446, 'these': 0.41925843024050014, 'some': 1.8925641683500207, 'corals': 0.42584399448534344, 'many': 9.027763956801953, 'others': 3.597312260588446, 'deposition': 4.290459441148391, 'on': 0.6268977950187447, 'skeletal': 3.597312260588446, 'adult': 2.498699971920336, 'controlled': 3.597312260588446, 'pcr': 2.211017899468555, 'annotations': 4.290459441148391, 'entrain': 4.290459441148391, 'clock': 14.389249042353784, 'behavioral': 4.290459441148391, 'quantitative': 2.093234863812172, 'when': 1.8925641683500207, 'diel': 4.290459441148391, 'have': 1.4000876832522264, 'undertaken': 3.1918471524802814, 'quickly': 4.290459441148391, 'potentially': 3.597312260588446, 'other': 2.064725806253818, 'an': 1.6494470766973293, 'robust': 4.290459441148391, 'of': 0.0, 'the': 0.0, 'whole': 2.681021528714291, 'clustering': 3.597312260588446, 'transcriptome': 1.8925641683500207, 'occur': 2.344549292093078, 'more': 1.3460204619819507, 'or': 0.9582549309731873, 'focused': 3.597312260588446, 'candidate': 2.681021528714291, 'for': 0.9236360893185922, 'acropora': 0.11607217125275403, 'genes': 0.8806236788766649, 'millepora': 1.2947271675944, 'participate': 4.290459441148391, 'light': 5.362043057428582, 'using': 1.4000876832522264, 'cryptochrome': 7.194624521176892, 'which': 0.7351113796589775, 'rna': 5.808330160057001, 'findings': 2.211017899468555, 'examples': 4.290459441148391, 'were': 1.1353093071607352, 'timeless': 3.597312260588446, 'processes': 9.10722431345166, 'identified': 3.1648184800923618, 'often': 2.9041650800285006, 'under': 4.200263049756679, 'constant': 9.575541457440844, 'conclusionssignificance': 2.681021528714291, 'varied': 3.1918471524802814, 'deep': 3.597312260588446, 'that': 0.6964330275165241, 'continue': 3.597312260588446, 'to': 0.16785679639612883, 'manner': 4.290459441148391, 'kept': 3.597312260588446}, {'compromised': 3.597312260588446, 'selectively': 4.290459441148391, 'water': 2.9041650800285006, 'was': 0.5292593254548287, 'results': 0.706940502692281, 'susceptible': 3.1918471524802814, 'these': 0.41925843024050014, 'suggest': 1.5824092400461809, 'location': 3.597312260588446, 'nor': 4.290459441148391, 'diseased': 2.681021528714291, 'previously': 3.1918471524802814, 'from': 0.4837969513780714, 'most': 2.6920409239639014, 'distance': 4.290459441148391, 'neither': 4.290459441148391, 'high': 1.5178707189086098, 'were': 0.7568728714404901, 'temperatures': 3.0357414378172196, 'individuals': 2.681021528714291, 'highwater': 4.290459441148391, 'variables': 3.597312260588446, 'host': 1.4000876832522264, 'likely': 1.8055527913603908, 'susceptibility': 3.597312260588446, 'genetic': 2.093234863812172, 'years': 3.1918471524802814, 'over': 2.093234863812172, 'influenced': 7.194624521176892, 'oldest': 4.290459441148391, 'unknown': 2.211017899468555, 'largely': 2.211017899468555, 'presence': 5.362043057428582, 'caribbean': 2.211017899468555, 'in': 0.01379332213233577, 'corals': 0.21292199724267172, 'examined': 2.093234863812172, 'size': 4.290459441148391, 'bayesian': 4.290459441148391, 'outbreaks': 2.498699971920336, 'one': 2.093234863812172, 'associated': 1.4000876832522264, 'are': 0.8806236788766649, 'coral': 0.5040234956098275, 'the': 0.0, 'positively': 3.1918471524802814, 'whitepox': 21.452297205741957, 'lead': 2.211017899468555, 'of': 0.0, 'consequence': 3.1918471524802814, 'our': 1.2459370034249682, 'to': 0.12589259729709662, 'a': 0.2573004652722753, 'we': 1.2577752907215003, 'with': 0.30147539458411676, 'reef': 1.457246097092175, 'diseases': 4.689098584186156, 'study': 0.923163611161917, 'colony': 5.362043057428582, 'showed': 2.800175366504453, 'spatialtemporal': 4.290459441148391, 'genotypes': 5.808330160057001, 'here': 1.457246097092175, 'yet': 2.498699971920336, 'mechanisms': 1.5178707189086098, 'primary': 2.681021528714291, 'that': 0.6964330275165241, 'nested': 4.290459441148391, 'also': 1.1994169877900753, 'seven': 3.1918471524802814, 'threats': 2.9041650800285006, 'approach': 2.681021528714291, 'greatest': 2.9041650800285006, 'dynamics': 6.383694304960563, 'on': 1.2537955900374893, 'disease': 8.627550418434272, 'still': 3.597312260588446, 'palmata': 3.7851283367000415, 'known': 1.457246097092175, 'and': 0.0, 'laplace': 4.290459441148391, 'took': 3.597312260588446, 'anomalously': 4.290459441148391, 'integrated': 3.597312260588446, 'colonies': 4.747227720138543, 'approximation': 4.290459441148391, 'examine': 2.9041650800285006, 'algorithms': 4.290459441148391, 'using': 1.4000876832522264, 'which': 0.7351113796589775, 'tested': 3.597312260588446, 'acropora': 0.11607217125275403, 'covariates': 4.290459441148391}, {'feasible': 4.290459441148391, 'are': 0.44031183943833246, 'with': 0.6029507891682335, 'compared': 1.5824092400461809, 'cost': 4.290459441148391, 'lower': 2.211017899468555, 'our': 1.2459370034249682, 'populationlevel': 8.580918882296782, 'for': 0.9236360893185922, 'useful': 2.9041650800285006, 'markers': 3.597312260588446, 'candidate': 2.681021528714291, 'these': 0.41925843024050014, 'propose': 3.1918471524802814, 'therefore': 3.1918471524802814, 'tool': 3.597312260588446, 'tested': 3.597312260588446, 'consistently': 2.9041650800285006, 'as': 0.7640989165322297, 'mnsod': 3.597312260588446, 'nfkb': 3.597312260588446, 'method': 3.1918471524802814, 'in': 0.05517328852934308, 'majority': 3.1918471524802814, 'or': 1.9165098619463745, 'yet': 2.498699971920336, 'roles': 2.211017899468555, 'acropora': 0.11607217125275403, 'common': 1.9878743481543455, 'species': 1.3460204619819507, 'labour': 4.290459441148391, 'coral': 0.30241409736589653, 'reefbuilding': 1.7255100836868542, 'reference': 3.597312260588446, 'qpcr': 5.808330160057001, 'most': 1.3460204619819507, 'and': 0.0, 'gois': 12.871378323445173, 'reaction': 2.9041650800285006, 'polymerase': 3.1918471524802814, 'transcription': 2.344549292093078, 'four': 2.344549292093078, 'rtqpcr': 4.290459441148391, 'genetic': 2.093234863812172, 'from': 0.4837969513780714, 'cdna': 2.093234863812172, 'report': 4.290459441148391, 'small': 3.1918471524802814, 'a': 0.3430672870297004, 'we': 0.8385168604810003, 'have': 1.4000876832522264, 'rgs': 4.290459441148391, 'during': 1.2459370034249682, 'profiles': 2.344549292093078, 'provides': 2.9041650800285006, 'chain': 2.9041650800285006, 'target': 3.1918471524802814, 'multiplex': 4.290459441148391, 'all': 1.2459370034249682, 'an': 1.6494470766973293, 'evaluations': 4.290459441148391, 'genes': 2.6418710366299947, 'millepora': 1.2947271675944, 'variation': 2.211017899468555, 'putative': 2.093234863812172, 'particular': 2.681021528714291, 'assay': 9.575541457440844, 'this': 0.50626980723013, 'based': 2.344549292093078, 'gap': 4.290459441148391, 'reproducing': 4.290459441148391, 'expression': 1.73066212333225, 'replication': 4.290459441148391, 'of': 0.0, 'the': 0.0, 'gene': 2.2053341389769328, 'is': 0.8385168604810003, 'not': 1.032362903126909, 'capable': 3.1918471524802814, 'restricted': 3.597312260588446, 'two': 1.2459370034249682, 'to': 0.08392839819806441, 'studies': 3.4510201673737084, 'set': 2.9041650800285006, 'coulter': 4.290459441148391, 'amount': 3.1918471524802814, 'on': 0.6268977950187447, 'interest': 3.597312260588446, 'bleaching': 1.9165098619463745, 'fullerton': 4.290459441148391, 'ca': 2.681021528714291, 'new': 2.498699971920336, 'model': 2.498699971920336, 'usa': 3.597312260588446, 'thousands': 4.290459441148391, 'beckman': 4.290459441148391, 'genomelab': 4.290459441148391, 'important': 1.3460204619819507, 'colonies': 3.1648184800923618, 'analysis': 2.309930450438483, 'large': 5.362043057428582, 'between': 0.6795415285041667, 'system': 2.9041650800285006, 'bridges': 4.290459441148391, 'realtime': 2.344549292093078, 'pcr': 2.211017899468555, 'single': 2.9041650800285006, 'accurate': 4.290459441148391, 'number': 2.344549292093078, 'quantitative': 4.186469727624344, 'microarray': 3.597312260588446, 'thermal': 2.3988339755801507, 'surveys': 3.1918471524802814, 'response': 0.8247235383486646, 'despite': 2.093234863812172, 'among': 1.9878743481543455, 'reverse': 3.597312260588446, 'procedure': 4.290459441148391, 'replicates': 4.290459441148391, 'biological': 4.42203579893711, 'known': 1.457246097092175, 'gexp': 4.290459441148391, 'stress': 1.470222759317955, 'were': 0.7568728714404901, 'singleplex': 4.290459441148391, 'because': 2.681021528714291, 'upregulated': 3.7851283367000415, 'up': 2.9041650800285006, 'required': 3.597312260588446, 'laboratorybased': 4.290459441148391, 'experiment': 2.498699971920336}, {'under': 1.4000876832522264, 'proteolysis': 3.597312260588446, 'consequence': 3.1918471524802814, 'sink': 4.290459441148391, 'ros': 2.9041650800285006, 'scavenger': 4.290459441148391, 'serving': 4.290459441148391, 'osmolyte': 8.580918882296782, 'primarily': 2.9041650800285006, 'unlikely': 4.290459441148391, 'response': 0.8247235383486646, 'rapidly': 3.1918471524802814, 'able': 3.597312260588446, 'from': 0.4837969513780714, 'generate': 4.290459441148391, 'pathway': 2.211017899468555, 'algallike': 4.290459441148391, 'use': 3.597312260588446, 'suggest': 1.5824092400461809, 'strongly': 3.1918471524802814, 'data': 3.975748696308691, 'steps': 3.1918471524802814, 'salinity': 3.597312260588446, 'produce': 3.597312260588446, 'can': 1.6514021115331325, 'but': 0.994622575144062, 'specific': 1.8055527913603908, 'corresponding': 3.1918471524802814, 'corals': 1.2775319834560304, 'bacteria': 2.498699971920336, 'role': 1.6514021115331325, 'which': 1.470222759317955, 'excess': 4.290459441148391, 'we': 1.2577752907215003, 'exposure': 1.8925641683500207, 'photosynthetic': 2.498699971920336, 'by': 0.9236360893185922, 'prodigious': 4.290459441148391, 'be': 1.7129444733264898, 'here': 1.457246097092175, 'recently': 2.344549292093078, 'also': 2.3988339755801507, 'cycle': 3.1918471524802814, 'in': 0.16551986558802922, 'believed': 3.597312260588446, 'know': 3.597312260588446, 'however': 2.4918740068499363, 'biosynthesis': 5.362043057428582, 'function': 2.9041650800285006, 'concomitantly': 4.290459441148391, 'catabolism': 3.597312260588446, 'a': 0.4288341087871255, 'small': 3.1918471524802814, 'methionine': 7.194624521176892, 'oceans': 4.290459441148391, 'is': 2.096292151202501, 'environmental': 1.3460204619819507, 'until': 2.9041650800285006, 'upregulated': 1.8925641683500207, 'that': 0.34821651375826207, 'marine': 1.9878743481543455, 'dmsp': 38.61413497033552, 'organisms': 8.712495240085502, 'sources': 4.290459441148391, 'fold': 5.808330160057001, 'sulphur': 4.290459441148391, 'used': 2.681021528714291, 'dimethylsulfoniopropionate': 4.290459441148391, 'for': 0.9236360893185922, 'candidate': 2.681021528714291, 'expression': 0.5768873744440833, 'compound': 8.580918882296782, 'change': 1.457246097092175, 'major': 2.498699971920336, 'now': 2.681021528714291, 'involved': 1.2459370034249682, 'synthesized': 4.290459441148391, 'exclusively': 4.290459441148391, 'are': 0.8806236788766649, 'background': 1.6514021115331325, 'amounts': 4.290459441148391, 'its': 1.6514021115331325, 'and': 0.0, 'plays': 2.9041650800285006, 'to': 0.41964199099032207, 'was': 0.5292593254548287, 'produced': 7.194624521176892, 'sulfur': 4.290459441148391, 'the': 0.0, 'of': 0.0, 'necessary': 3.1918471524802814, 'molecular': 2.309930450438483, 'genes': 1.3209355183149973, 'millepora': 1.2947271675944, 'presented': 3.597312260588446, 'hyposaline': 4.290459441148391, 'instead': 3.1918471524802814, 'basis': 2.344549292093078, 'unknown': 2.211017899468555, 'hypoosmotic': 3.597312260588446, 'potentially': 3.597312260588446, 'an': 1.6494470766973293, 'other': 1.032362903126909, 'pivotal': 4.290459441148391, 'these': 0.41925843024050014, 'results': 0.706940502692281, 'were': 0.37843643572024505, 'known': 1.457246097092175, 'stress': 1.470222759317955, 'conjunction': 4.290459441148391, 'trigger': 4.290459441148391, 'production': 4.997399943840672, 'with': 0.30147539458411676, 'transcriptomics': 3.597312260588446, 'our': 1.2459370034249682, 'identify': 2.344549292093078, 'after': 1.2459370034249682, 'coral': 0.201609398243931, 'as': 3.056395666128919, 'enabling': 2.9041650800285006, 'likely': 1.8055527913603908, 'focused': 3.597312260588446, 'specifically': 2.498699971920336, 'on': 0.6268977950187447, 'indicate': 1.7255100836868542, 'leading': 3.1918471524802814, 'both': 1.1549652252192415, 'juveniles': 6.383694304960563, 'conclusions': 2.211017899468555, 'acropora': 0.11607217125275403, 'h': 1.8055527913603908, 'this': 0.50626980723013, 'conditions': 2.6920409239639014, 'concentrations': 2.498699971920336, 'increased': 1.5178707189086098, 'adults': 4.290459441148391, 'significantly': 1.2459370034249682, 'adult': 2.498699971920336, 'each': 1.8925641683500207}, {'reef': 1.457246097092175, 'on': 0.6268977950187447, 'climate': 1.8925641683500207, 'predict': 2.681021528714291, 'habitats': 4.290459441148391, 'variability': 3.1918471524802814, 'potential': 3.4510201673737084, 'studies': 1.7255100836868542, 'from': 0.4837969513780714, 'lead': 2.211017899468555, 'as': 0.7640989165322297, 'different': 3.302804223066265, 'such': 1.7255100836868542, 'for': 0.4618180446592961, 'stable': 2.9041650800285006, 'seawater': 5.677692505050063, 'while': 3.302804223066265, 'compared': 4.747227720138543, 'increase': 1.8055527913603908, 'not': 1.032362903126909, 'ecosystems': 2.211017899468555, 'decreased': 2.211017899468555, 'dark': 4.290459441148391, 'examine': 2.9041650800285006, 'rate': 5.362043057428582, 'which': 0.7351113796589775, 'were': 1.1353093071607352, 'light': 2.681021528714291, 'digitifera': 2.211017899468555, 'acclimation': 3.1918471524802814, 'pco': 11.616660320114002, 'carbon': 3.1918471524802814, 'putative': 2.093234863812172, 'bicarbonate': 3.597312260588446, 'taking': 3.597312260588446, 'significantly': 3.7378110102749043, 'local': 3.1918471524802814, 'populations': 16.086129172285744, 'additionally': 2.9041650800285006, 'coral': 0.201609398243931, 'an': 0.8247235383486646, 'corals': 1.9162979751840454, 'calcification': 11.055089497342776, 'in': 0.15172654345569347, 'did': 1.8925641683500207, 'ocean': 2.498699971920336, 'galaxin': 4.290459441148391, 'possible': 2.681021528714291, 'furthermore': 4.290459441148391, 'okinawan': 4.290459441148391, 'effects': 1.5824092400461809, 'of': 0.0, 'the': 0.0, 'responses': 1.2459370034249682, 'considering': 4.290459441148391, 'changes': 1.0715836162801904, 'more': 2.6920409239639014, 'plasticity': 3.597312260588446, 'could': 1.9878743481543455, 'high': 4.55361215672583, 'to': 0.5455345882874187, 'forereef': 4.290459441148391, 'with': 0.30147539458411676, 'rates': 5.808330160057001, 'and': 0.0, 'change': 2.91449219418435, 'acropora': 0.11607217125275403, 'among': 3.975748696308691, 'bise': 17.98656130294223, 'into': 1.2947271675944, 'sensitivity': 9.575541457440844, 'between': 2.0386245855125003, 'inorganic': 3.597312260588446, 'scleractinian': 1.8925641683500207, 'acidification': 2.681021528714291, 'two': 4.983748013699873, 'account': 4.290459441148391, 'found': 1.7255100836868542, 'sesoko': 21.452297205741957, 'was': 1.0585186509096574, 'explain': 2.9041650800285006, 'relatively': 3.597312260588446, 'than': 1.457246097092175, 'lower': 2.211017899468555, 'differences': 6.2797045914365155, 'at': 1.846327222323834, 'control': 4.689098584186156, 'expression': 1.1537747488881667, 'conditions': 5.384081847927803, 'expressions': 4.290459441148391, 'calcificationrelated': 4.290459441148391, 'important': 1.3460204619819507, 'regulation': 2.211017899468555, 'genes': 0.8806236788766649, 'bat': 8.580918882296782, 'that': 0.34821651375826207, 'upregulated': 1.8925641683500207, 'andor': 2.681021528714291, 'transporter': 3.597312260588446, 'both': 1.1549652252192415, 'co': 2.344549292093078, 'gene': 0.7351113796589775, 'variation': 2.211017899468555, 'higher': 1.8925641683500207, 'consequently': 3.597312260588446, 'response': 2.4741706150459937, 'shows': 4.290459441148391, 'transport': 2.344549292093078, 'related': 1.7255100836868542, 'be': 0.8564722366632449, 'may': 1.032362903126909, 'reasons': 4.290459441148391, 'we': 0.8385168604810003, 'difference': 3.1918471524802814, 'located': 8.580918882296782, 'nearshore': 4.290459441148391, 'oa': 10.791936781765338, 'areas': 4.290459441148391, 'environmental': 2.6920409239639014, 'where': 2.9041650800285006, 'are': 0.8806236788766649, 'variable': 3.597312260588446}, {'involvement': 3.1918471524802814, 'their': 0.994622575144062, 'indicates': 2.093234863812172, 'treatments': 2.344549292093078, 'activated': 3.597312260588446, 'microbial': 6.383694304960563, 'that': 0.11607217125275403, 'challenged': 12.871378323445173, 'acropora': 0.11607217125275403, 'stress': 2.2053341389769328, 'c': 4.200263049756679, 'profiles': 4.689098584186156, 'both': 1.1549652252192415, 'absence': 3.597312260588446, 'this': 0.50626980723013, 'increasing': 2.093234863812172, 'inoculum': 4.290459441148391, 'study': 0.923163611161917, 'impact': 2.498699971920336, 'ecosystems': 2.211017899468555, 'lectin': 5.362043057428582, 'concentrations': 2.498699971920336, 'represents': 4.290459441148391, 'physiology': 3.1918471524802814, 'increase': 3.6111055827207816, 'understanding': 1.7255100836868542, 'hsp': 10.724086114857164, 'coral': 0.5040234956098275, 'fitness': 3.597312260588446, 'changed': 3.597312260588446, 'on': 1.2537955900374893, 'in': 0.11034657705868615, 'pathogenic': 3.1918471524802814, 'alteromonas': 17.161837764593564, 'challenge': 2.9041650800285006, 'to': 0.16785679639612883, 'resilience': 2.9041650800285006, 'outbreaks': 2.498699971920336, 'for': 0.9236360893185922, 'building': 2.9041650800285006, 'gene': 1.470222759317955, 'tolerance': 2.093234863812172, 'of': 0.0, 'the': 0.0, 'coralassociated': 4.290459441148391, 'response': 4.948341230091987, 'gel': 4.290459441148391, 'interactions': 2.498699971920336, 'concern': 3.597312260588446, 'immune': 5.416658374081172, 'and': 0.0, 'demonstrating': 4.290459441148391, 'millepora': 1.2947271675944, 'genes': 0.44031183943833246, 'coralliilyticus': 10.791936781765338, 'also': 1.1994169877900753, 'showing': 2.9041650800285006, 'two': 1.2459370034249682, 'explored': 2.9041650800285006, 'lesions': 3.1918471524802814, 'reef': 2.91449219418435, 'with': 1.507376972920584, 'an': 1.6494470766973293, 'corals': 0.6387659917280152, 'showed': 2.800175366504453, 'hours': 7.194624521176892, 'did': 1.8925641683500207, 'vibrio': 2.9041650800285006, 'sp': 17.161837764593564, 'at': 2.769490833485751, 'transcriptional': 5.362043057428582, 'expression': 1.1537747488881667, 'cells': 2.093234863812172, 'ctype': 8.580918882296782, 'shift': 2.9041650800285006, 'ml': 4.290459441148391, 'denaturing': 4.290459441148391, 'potential': 1.7255100836868542, 'any': 2.093234863812172, 'fragments': 4.997399943840672, 'appeared': 3.1918471524802814, 'strains': 8.580918882296782, 'predicting': 4.290459441148391, 'healthy': 2.498699971920336, 'challenges': 3.597312260588446, 'inoculated': 3.597312260588446, 'while': 1.6514021115331325, 'significant': 1.8055527913603908, 'signs': 12.767388609921126, 'treatment': 4.186469727624344, 'correlated': 3.1918471524802814, 'disease': 8.627550418434272, 'suggesting': 1.8925641683500207, 'tissue': 2.093234863812172, 'show': 2.498699971920336, 'bacterial': 8.372939455248687, 'community': 5.362043057428582, 'after': 2.4918740068499363, 'even': 3.597312260588446, 'hr': 4.290459441148391, 'assessed': 3.1918471524802814, 'using': 1.4000876832522264, 'v': 5.808330160057001, 'gradient': 4.290459441148391, 'not': 1.032362903126909, 'electrophoresis': 4.290459441148391, 'by': 0.4618180446592961, 'one': 2.093234863812172, 'greatest': 2.9041650800285006, 'putative': 2.093234863812172, 'increased': 1.5178707189086098, 'a': 0.2573004652722753, 'relies': 4.290459441148391, 'h': 1.8055527913603908}, {'dinoflagellates': 2.344549292093078, 'in': 0.01379332213233577, 'proteins': 1.4000876832522264, 'shock': 1.9878743481543455, 'expression': 0.5768873744440833, 'and': 0.0, 'analysis': 1.1549652252192415, 'the': 0.0, 'hermatypic': 4.290459441148391, 'of': 0.0, 'acropora': 0.11607217125275403, 'tenuis': 2.344549292093078, 'coral': 0.201609398243931, 'rgb': 4.290459441148391, 'symbiotic': 1.8925641683500207, 'tolerance': 2.093234863812172, 'elucidated': 3.597312260588446, 'heat': 1.4000876832522264, 'thermal': 1.1994169877900753, 'by': 0.4618180446592961}, {'seawater': 1.8925641683500207, 'its': 1.6514021115331325, 'insights': 2.681021528714291, 'provide': 1.8925641683500207, 'unique': 3.1918471524802814, 'suggest': 1.5824092400461809, 'results': 0.706940502692281, 'our': 1.2459370034249682, 'adaptation': 3.597312260588446, 'enabling': 2.9041650800285006, 'under': 1.4000876832522264, 'symbiosisrelated': 4.290459441148391, 'antimicrobial': 3.1918471524802814, 'enhancing': 4.290459441148391, 'selection': 3.1918471524802814, 'functions': 2.681021528714291, 'suggesting': 1.8925641683500207, 'algal': 2.093234863812172, 'family': 2.211017899468555, 'horizontal': 4.290459441148391, 'acquired': 3.1918471524802814, 'gasses': 4.290459441148391, 'greenhouse': 4.290459441148391, 'formation': 4.997399943840672, 'warmer': 3.597312260588446, 'cloud': 8.580918882296782, 'promotes': 3.597312260588446, 'which': 0.7351113796589775, 'sulfide': 4.290459441148391, 'dimethyl': 4.290459441148391, 'astreopora': 4.290459441148391, 'genera': 3.597312260588446, 'taxa': 3.1918471524802814, 'coccolithophores': 4.290459441148391, 'by': 1.3854541339778883, 'examine': 2.9041650800285006, 'acroporid': 3.597312260588446, 'genetic': 2.093234863812172, 'transfer': 3.597312260588446, 'genomes': 5.362043057428582, 'capacity': 3.1918471524802814, 'diverse': 8.043064586142872, 'sequenced': 2.9041650800285006, 'cleave': 4.290459441148391, 'rising': 2.681021528714291, 'other': 1.032362903126909, 'all': 1.2459370034249682, 'wide': 2.9041650800285006, 'success': 4.997399943840672, 'survived': 6.383694304960563, 'combats': 4.290459441148391, 'general': 2.498699971920336, 'symbiodiniaceae': 2.9041650800285006, 'are': 2.201559197191662, 'symbionts': 1.8925641683500207, 'periods': 7.194624521176892, 'diversification': 4.290459441148391, 'corals': 0.21292199724267172, 'acropora': 1.2767938837802943, 'warm': 8.580918882296782, 'this': 0.50626980723013, 'highly': 2.9041650800285006, 'temperatures': 1.5178707189086098, 'distribution': 3.1918471524802814, 'belonging': 7.194624521176892, 'novelties': 4.290459441148391, 'mid': 4.290459441148391, 'may': 3.097088709380727, 'that': 0.5803608562637701, 'been': 2.6920409239639014, 'and': 0.0, 'basis': 2.344549292093078, 'gene': 1.470222759317955, 'montipora': 3.597312260588446, 'comprises': 4.290459441148391, 'perhaps': 3.597312260588446, 'most': 4.038061385945852, 'complete': 2.681021528714291, 'unclear': 3.1918471524802814, 'in': 0.11034657705868615, 'ecosystems': 2.211017899468555, 'obtained': 2.9041650800285006, 'for': 0.4618180446592961, 'to': 0.33571359279225765, 'anthozoa': 3.597312260588446, 'peptides': 4.290459441148391, 'molecular': 1.1549652252192415, 'past': 4.290459441148391, 'genus': 2.344549292093078, 'into': 2.5894543351888, 'species': 2.6920409239639014, 'reefs': 1.5824092400461809, 'enhanced': 2.9041650800285006, 'on': 0.6268977950187447, 'eocene': 4.290459441148391, 'scleractinian': 3.7851283367000415, 'of': 0.0, 'the': 0.0, 'enzyme': 2.9041650800285006, 'without': 2.9041650800285006, 'earth': 4.290459441148391, 'their': 0.994622575144062, 'unknown': 2.211017899468555, 'genomic': 2.681021528714291, 'positive': 2.9041650800285006, 'coral': 0.1008046991219655, 'duplicated': 8.580918882296782, 'however': 2.4918740068499363, 'explain': 2.9041650800285006, 'cooling': 4.290459441148391, 'environments': 8.043064586142872, 'is': 0.41925843024050014, 'marine': 5.963623044463036, 'evolutionary': 2.681021528714291, 'these': 0.41925843024050014, 'successfully': 4.290459441148391, 'reasonable': 4.290459441148391, 'early': 1.8055527913603908, 'draft': 4.290459441148391, 'dating': 4.290459441148391, 'tandemly': 4.290459441148391, 'indicates': 2.093234863812172, 'we': 0.8385168604810003, 'ancestor': 5.808330160057001, 'adaptations': 4.290459441148391, 'here': 1.457246097092175, 'sea': 1.9878743481543455, 'ice': 4.290459441148391, 'addition': 2.093234863812172, 'from': 1.4513908541342142, 'or': 1.9165098619463745, 'cretaceous': 4.290459441148391, 'have': 4.200263049756679, 'subsequent': 2.9041650800285006, 'ancient': 3.1918471524802814, 'although': 2.211017899468555, 'cnidaria': 3.1918471524802814, 'repertoire': 3.1918471524802814, 'response': 0.8247235383486646, 'conserved': 2.9041650800285006, 'coralor': 4.290459441148391, 'adjust': 4.290459441148391, 'late': 3.597312260588446, 'cnidarianspecific': 4.290459441148391, 'possible': 5.362043057428582, 'stress': 0.7351113796589775, 'genes': 1.3209355183149973, 'abundant': 3.597312260588446, 'enzymes': 4.290459441148391, 'dimethlysulfonioproprionate': 4.290459441148391}, {'nda': 4.290459441148391, 'distinct': 2.681021528714291, 'been': 1.3460204619819507, 'has': 1.3460204619819507, 'hydra': 3.597312260588446, 'neurons': 4.290459441148391, 'ganglion': 4.290459441148391, 'that': 0.23214434250550806, 'cells': 2.093234863812172, 'ectodermal': 4.290459441148391, 'development': 2.498699971920336, 'millepora': 1.2947271675944, 'six': 2.9041650800285006, 'not': 1.032362903126909, 'amamp': 8.580918882296782, 'damicornin': 4.290459441148391, 'antimicrobial': 3.1918471524802814, 'in': 0.06896661066167885, 'lacking': 4.290459441148391, 'by': 0.4618180446592961, 'signal': 2.681021528714291, 'nterminal': 3.597312260588446, 'proteins': 2.800175366504453, 'other': 1.032362903126909, 'swissprot': 4.290459441148391, 'an': 0.8247235383486646, 'cysteine': 4.290459441148391, 'sea': 1.9878743481543455, 'and': 0.0, 'resembled': 4.290459441148391, 'residues': 3.597312260588446, 'clear': 2.681021528714291, 'expressed': 2.91449219418435, 'whole': 2.681021528714291, 'amp': 8.580918882296782, 'as': 1.5281978330644594, 'was': 1.5877779763644861, 'consistent': 2.498699971920336, 'closely': 2.9041650800285006, 'sequence': 2.211017899468555, 'aa': 4.290459441148391, 'from': 0.4837969513780714, 'short': 4.290459441148391, 'shk': 4.290459441148391, 'identified': 1.5824092400461809, 'cysteinerich': 4.290459441148391, 'searching': 4.290459441148391, 'for': 0.9236360893185922, 'peptide': 12.871378323445173, 'candidate': 2.681021528714291, 'a': 0.5146009305445506, 'known': 2.91449219418435, 'genome': 2.498699971920336, 'acropora': 0.11607217125275403, 'common': 1.9878743481543455, 'coral': 0.30241409736589653, 'the': 0.0, 'of': 0.0, 'resemble': 4.290459441148391, 'homologs': 2.9041650800285006, 'predicted': 2.093234863812172, 'both': 1.1549652252192415, 'only': 1.9878743481543455, 'amps': 12.871378323445173, 'it': 3.7851283367000415, 'database': 3.597312260588446, 'with': 0.6029507891682335, 'between': 0.6795415285041667, 'anemones': 2.9041650800285006, 'shown': 3.597312260588446, 'close': 3.597312260588446, 'related': 1.7255100836868542, 'be': 0.8564722366632449, 'active': 3.1918471524802814, 'to': 0.08392839819806441, 'against': 2.9041650800285006, 'present': 1.8925641683500207, 'gramnegative': 4.290459441148391, 'cys': 4.290459441148391, 'but': 1.989245150288124, 'grampositive': 4.290459441148391, 'late': 3.597312260588446, 'bacteria': 2.498699971920336, 'conserved': 2.9041650800285006, 'idea': 4.290459441148391, 'these': 0.41925843024050014, 'define': 3.597312260588446, 'family': 2.211017899468555, 'demonstrated': 2.498699971920336, 'corals': 0.21292199724267172, 'neurotoxins': 4.290459441148391, 'their': 0.994622575144062, 'are': 0.44031183943833246, 'preproproteins': 4.290459441148391, 'recently': 2.344549292093078, 'synthesised': 4.290459441148391, 'which': 1.470222759317955, 'cterminal': 3.597312260588446, 'relatives': 4.290459441148391, 'contains': 3.597312260588446, 'toxins': 4.290459441148391, 'arrangement': 3.597312260588446, 'origin': 3.597312260588446, 'mature': 3.597312260588446, 'this': 0.50626980723013, 'at': 0.923163611161917, 'motif': 4.290459441148391, 'is': 1.2577752907215003, 'corallimorpharia': 4.290459441148391, 'shared': 3.1918471524802814, 'stages': 2.498699971920336}, {'insufficiently': 4.290459441148391, 'by': 0.9236360893185922, 'necrosis': 3.597312260588446, 'andor': 2.681021528714291, 'when': 1.8925641683500207, 'results': 0.706940502692281, 'oxidative': 1.8925641683500207, 'holobiont': 4.997399943840672, 'capabilities': 4.290459441148391, 'antioxidant': 2.344549292093078, 'production': 2.498699971920336, 'oxidant': 4.290459441148391, 'reactive': 2.9041650800285006, 'between': 0.6795415285041667, 'transduction': 4.290459441148391, 'signal': 2.681021528714291, 'hypothesis': 3.597312260588446, 'consistent': 2.498699971920336, 'protein': 2.4918740068499363, 'revealed': 1.8055527913603908, 'conducted': 4.290459441148391, 'extracts': 4.290459441148391, 'death': 2.681021528714291, 'zooxanthella': 4.290459441148391, 'degradation': 6.383694304960563, 'reduction': 2.9041650800285006, 'activity': 1.9878743481543455, 'leading': 3.1918471524802814, 'processes': 1.5178707189086098, 'initial': 3.597312260588446, 'fewer': 3.1918471524802814, 'reduced': 2.681021528714291, 'g': 3.597312260588446, 'd': 2.211017899468555, 'treatments': 2.344549292093078, 'that': 0.23214434250550806, 'species': 1.3460204619819507, 'into': 1.2947271675944, 'and': 0.0, 'to': 0.37767779189128986, 'an': 0.8247235383486646, 'all': 1.2459370034249682, 'caused': 2.211017899468555, 'action': 8.580918882296782, 'c': 4.200263049756679, 'insight': 2.9041650800285006, 'mitigate': 4.290459441148391, 'provide': 1.8925641683500207, 'can': 1.6514021115331325, 'allelochemicals': 8.580918882296782, 'change': 1.457246097092175, 'relative': 2.681021528714291, 'coral': 0.806437592975724, 'as': 1.5281978330644594, 'enabling': 2.9041650800285006, 'response': 0.8247235383486646, 'conoides': 12.871378323445173, 'mitigates': 4.290459441148391, 'within': 6.902040334747417, 'identification': 2.498699971920336, 'well': 1.8925641683500207, 'unknown': 2.211017899468555, 'assessed': 3.1918471524802814, 'day': 2.498699971920336, 'transcriptional': 5.362043057428582, 'expression': 2.884436872220417, 'on': 0.6268977950187447, 'but': 2.9838677254321864, 'mode': 4.290459441148391, 'acropora': 0.11607217125275403, 'molecular': 2.309930450438483, 'causes': 2.344549292093078, 'exposure': 3.7851283367000415, 't': 7.194624521176892, 'a': 0.0857668217574251, 'reveal': 3.597312260588446, 'competitive': 4.290459441148391, 'mortality': 1.8925641683500207, 'significant': 5.416658374081172, 'often': 2.9041650800285006, 'direct': 2.9041650800285006, 'macroalgae': 12.871378323445173, 'corals': 0.21292199724267172, 'strategies': 3.597312260588446, 'shading': 4.290459441148391, 'nubbins': 7.194624521176892, 'with': 1.205901578336467, 'exposures': 3.597312260588446, 'alteration': 8.580918882296782, 'are': 1.3209355183149973, 'longterm': 2.9041650800285006, 'abrasion': 4.290459441148391, 'after': 3.7378110102749043, 'gene': 3.6755568982948876, 'chlorodesmis': 8.580918882296782, 'evaluate': 4.290459441148391, 'these': 1.2577752907215003, 'allelopathy': 4.290459441148391, 'interactions': 7.4960999157610075, 'rarely': 4.290459441148391, 'clear': 2.681021528714291, 'changes': 3.214750848840571, 'elicited': 8.580918882296782, 'damage': 4.997399943840672, 'this': 1.01253961446026, 'bleaching': 2.874764792919562, 'interaction': 4.290459441148391, 'catalytic': 3.597312260588446, 'roles': 2.211017899468555, 'responses': 2.4918740068499363, 'survive': 4.290459441148391, 'days': 8.712495240085502, 'eventually': 4.290459441148391, 'versus': 7.194624521176892, 'millepora': 2.5894543351888, 'at': 0.923163611161917, 'filamentosa': 8.580918882296782, 'in': 0.09655325492635039, 'hydrophobic': 8.580918882296782, 'fastigiata': 21.452297205741957, 'allelopathic': 4.290459441148391, 'metabolic': 2.211017899468555, 'dictyota': 4.290459441148391, 'of': 0.0, 'effects': 1.5824092400461809, 'the': 0.0, 'bartayresiana': 8.580918882296782, 'compensatory': 4.290459441148391, 'turbinaria': 4.290459441148391, 'lead': 2.211017899468555, 'from': 0.4837969513780714, 'shortterm': 5.808330160057001, 'h': 3.6111055827207816, 'apoptosis': 2.344549292093078, 'their': 0.994622575144062, 'extract': 4.290459441148391, 'thalli': 12.871378323445173, 'were': 0.7568728714404901, 'no': 1.8925641683500207, 'contact': 14.389249042353784, 'visual': 12.871378323445173, 'or': 0.9582549309731873, 'zooxanthellae': 4.997399943840672, 'psii': 9.575541457440844, 'associated': 1.4000876832522264, 'quantum': 12.871378323445173, 'rapid': 3.597312260588446, 'yield': 12.871378323445173, 'stimulated': 4.290459441148391, 'imbalance': 8.580918882296782, 'galaxaura': 4.290459441148391, 'greatest': 2.9041650800285006}, {'here': 1.457246097092175, 'generalized': 3.597312260588446, 'concept': 3.597312260588446, 'conditions': 1.3460204619819507, 'needed': 3.1918471524802814, 'corals': 0.21292199724267172, 'changes': 1.0715836162801904, 'particular': 2.681021528714291, 'specific': 1.8055527913603908, 'regulation': 2.211017899468555, 'they': 2.498699971920336, 'between': 0.6795415285041667, 'reason': 4.290459441148391, 'differentiate': 4.290459441148391, 'it': 1.8925641683500207, 'underlie': 4.290459441148391, 'response': 2.4741706150459937, 'pathways': 1.8055527913603908, 'how': 1.8925641683500207, 'seek': 4.290459441148391, 'reflecting': 3.597312260588446, 'genes': 0.44031183943833246, 'stressor': 7.194624521176892, 'single': 2.9041650800285006, 'focus': 3.597312260588446, 'isolation': 3.597312260588446, 'has': 2.6920409239639014, 'climate': 1.8925641683500207, 'provide': 1.8925641683500207, 'by': 0.4618180446592961, 'this': 1.01253961446026, 'threatened': 3.1918471524802814, 'suboptimal': 4.290459441148391, 'ecosystems': 2.211017899468555, 'prokaryotes': 4.290459441148391, 'expression': 1.1537747488881667, 'reefs': 1.5824092400461809, 'among': 1.9878743481543455, 'responses': 1.2459370034249682, 'is': 0.8385168604810003, 'coral': 0.201609398243931, 'are': 0.44031183943833246, 'with': 0.30147539458411676, 'motivated': 4.290459441148391, 'the': 0.0, 'such': 1.7255100836868542, 'these': 0.8385168604810003, 'high': 1.5178707189086098, 'on': 0.6268977950187447, 'ecological': 3.597312260588446, 'and': 0.0, 'been': 1.3460204619819507, 'that': 0.11607217125275403, 'socioeconomic': 4.290459441148391, 'efforts': 3.597312260588446, 'most': 1.3460204619819507, 'change': 1.457246097092175, 'but': 0.994622575144062, 'gene': 2.2053341389769328, 'approaching': 4.290459441148391, 'investigated': 2.211017899468555, 'disproportionately': 4.290459441148391, 'drury': 4.290459441148391, 'understand': 3.975748696308691, 'of': 0.0, 'mechanisms': 1.5178707189086098, 'to': 0.25178519459419324, 'resilience': 2.9041650800285006, 'contend': 4.290459441148391, 'genomewide': 3.597312260588446, 'general': 7.4960999157610075, 'environmental': 1.3460204619819507, 'studies': 3.4510201673737084, 'stress': 3.6755568982948876, 'a': 0.3430672870297004, 'popular': 4.290459441148391, 'in': 0.041379966397007306, 'adaptive': 2.498699971920336, 'method': 3.1918471524802814, 'for': 0.9236360893185922, 'thoroughly': 4.290459441148391, 'delineation': 4.290459441148391, 'cannot': 3.1918471524802814, 'using': 1.4000876832522264, 'benefits': 4.290459441148391, 'often': 2.9041650800285006, 'identify': 2.344549292093078, 'questions': 3.597312260588446, 'rnaseq': 2.211017899468555, 'however': 1.2459370034249682, 'profiling': 2.9041650800285006}, {'algae': 2.9041650800285006, 'endosymbiotic': 2.498699971920336, 'results': 0.706940502692281, 'harboring': 4.290459441148391, 'fluorescence': 3.1918471524802814, 'intensity': 3.1918471524802814, 'in': 0.041379966397007306, 'suggest': 1.5824092400461809, 'increased': 3.0357414378172196, 'if': 5.362043057428582, 'decreased': 2.211017899468555, 'pcr': 2.211017899468555, 'by': 0.4618180446592961, 'analyzed': 4.290459441148391, 'transporter': 3.597312260588446, 'ascorbic': 4.290459441148391, 'an': 1.6494470766973293, 'affect': 2.9041650800285006, 'symbionts': 7.570256673400083, 'fluorescent': 3.1918471524802814, 'coding': 3.597312260588446, 'genes': 1.3209355183149973, 'stress': 2.2053341389769328, 'to': 0.08392839819806441, 'quantitative': 2.093234863812172, 'reefbuilding': 1.7255100836868542, 'divided': 3.1918471524802814, 'temperatures': 1.5178707189086098, 'clades': 6.383694304960563, 'currently': 3.1918471524802814, 'symbiodinium': 2.91449219418435, 'the': 0.0, 'oxidative': 1.8925641683500207, 'gene': 0.7351113796589775, 'including': 1.5178707189086098, 'several': 1.9878743481543455, 'that': 0.11607217125275403, 'stressresponsive': 6.383694304960563, 'into': 1.2947271675944, 'or': 0.9582549309731873, 'different': 3.302804223066265, 'dinoflagellates': 2.344549292093078, 'at': 1.846327222323834, 'expression': 1.73066212333225, 'corals': 0.42584399448534344, 'present': 1.8925641683500207, 'harbor': 3.597312260588446, 'red': 4.290459441148391, 'with': 1.507376972920584, 'of': 0.0, 'spp': 2.344549292093078, 'putative': 2.093234863812172, 'tenuis': 2.344549292093078, 'symbiotic': 1.8925641683500207, 'not': 2.064725806253818, 'thermal': 3.598250963370226, 'realtime': 2.344549292093078, 'which': 0.7351113796589775, 'associated': 4.200263049756679, 'are': 0.8806236788766649, 'coral': 0.201609398243931, 'temperature': 1.2947271675944, 'well': 1.8925641683500207, 'a': 0.3430672870297004, 'juveniles': 15.959235762401407, 'understood': 2.498699971920336, 'acid': 1.9878743481543455, 'especially': 3.597312260588446, 'protein': 1.2459370034249682, 'responses': 2.4918740068499363, 'level': 2.211017899468555, 'acropora': 0.11607217125275403, 'genotypes': 2.9041650800285006, 'inoculated': 3.597312260588446, 'algal': 2.093234863812172, 'exposed': 1.457246097092175, 'types': 2.344549292093078, 'd': 6.633053698405666, 'high': 1.5178707189086098, 'clade': 14.520825400142503, 'were': 1.5137457428809802, 'green': 7.194624521176892, 'and': 0.0, 'levels': 3.4510201673737084, 'but': 1.989245150288124, 'proteins': 1.4000876832522264, 'four': 4.689098584186156}, {'management': 4.290459441148391, 'strategies': 3.597312260588446, 'develop': 3.1918471524802814, 'climate': 1.8925641683500207, 'communities': 2.344549292093078, 'understand': 1.9878743481543455, 'processes': 1.5178707189086098, 'analysis': 1.1549652252192415, 'for': 0.4618180446592961, 'stage': 2.9041650800285006, 'our': 1.2459370034249682, 'more': 1.3460204619819507, 'acclimatize': 4.290459441148391, 'between': 0.6795415285041667, 'differences': 2.093234863812172, 'change': 2.91449219418435, 'adjusts': 4.290459441148391, 'gene': 1.470222759317955, 'early': 1.8055527913603908, 'calcification': 2.211017899468555, 'dehydrogenase': 4.290459441148391, 'two': 1.2459370034249682, 'elevated': 1.5824092400461809, 'showed': 1.4000876832522264, 'stores': 3.597312260588446, 'imminent': 4.290459441148391, 'part': 3.1918471524802814, 'least': 2.9041650800285006, 'decline': 2.498699971920336, 'initially': 4.290459441148391, 'formation': 2.498699971920336, 'catalyses': 4.290459441148391, 'dgat': 4.290459441148391, 'triacylglycerol': 8.580918882296782, 'acids': 2.9041650800285006, 'fatty': 3.1918471524802814, 'rapidly': 3.1918471524802814, 'trajectories': 4.290459441148391, 'storage': 4.290459441148391, 'opposing': 3.597312260588446, 'as': 1.5281978330644594, 'set': 2.9041650800285006, 'five': 3.597312260588446, 'after': 1.2459370034249682, 'already': 3.1918471524802814, 'be': 1.7129444733264898, 'could': 1.9878743481543455, 'oxidative': 1.8925641683500207, 'transport': 2.344549292093078, 'involved': 2.4918740068499363, 'regulation': 2.211017899468555, 'conditions': 2.6920409239639014, 'creating': 4.290459441148391, 'limited': 3.1918471524802814, 'levels': 1.7255100836868542, 'releases': 4.290459441148391, 'can': 4.954206334599398, 'environments': 2.681021528714291, 'at': 0.923163611161917, 'is': 0.41925843024050014, 'and': 0.0, 'causing': 4.290459441148391, 'reefbuilding': 1.7255100836868542, 'adapt': 3.1918471524802814, 'triglycerides': 4.290459441148391, 'took': 3.597312260588446, 'quantitative': 2.093234863812172, 'stressors': 1.9878743481543455, 'its': 1.6514021115331325, 'results': 0.706940502692281, 'increasingly': 3.597312260588446, 'carbonic': 2.9041650800285006, 'local': 6.383694304960563, 'populations': 10.724086114857164, 'individuals': 2.681021528714291, 'global': 3.0357414378172196, 'from': 1.4513908541342142, 'conclusionssignificance': 2.681021528714291, 'that': 0.4642886850110161, 'vary': 2.9041650800285006, 'alter': 3.597312260588446, 'persistence': 3.597312260588446, 'by': 0.9236360893185922, 'into': 1.2947271675944, 'species': 1.3460204619819507, 'considerably': 4.290459441148391, 'serve': 2.9041650800285006, 'upon': 2.681021528714291, 'consistently': 2.9041650800285006, 'reduced': 2.681021528714291, 'environmental': 1.3460204619819507, 'psii': 6.383694304960563, 'which': 2.2053341389769328, 'using': 1.4000876832522264, 'in': 0.12413989919102192, 'cope': 3.597312260588446, 'c': 1.4000876832522264, 'higher': 1.8925641683500207, 'mechanisms': 1.5178707189086098, 'predict': 2.681021528714291, 'photosynthesis': 4.290459441148391, 'these': 0.8385168604810003, 'face': 4.290459441148391, 'however': 1.2459370034249682, 'therefore': 3.1918471524802814, 'understanding': 1.7255100836868542, 'attributed': 3.1918471524802814, 'anthropogenic': 3.1918471524802814, 'with': 0.30147539458411676, 'status': 4.290459441148391, 'reef': 1.457246097092175, 'mortality': 1.8925641683500207, 'reverse': 3.597312260588446, 'long': 3.597312260588446, 'paramount': 4.290459441148391, 'corals': 0.6387659917280152, 'better': 3.597312260588446, 'aldehyde': 4.290459441148391, 'twice': 4.290459441148391, 'escalating': 4.290459441148391, 'findings': 2.211017899468555, 'qrtpcr': 4.290459441148391, 'days': 5.808330160057001, 'environment': 2.498699971920336, 'signature': 4.290459441148391, 'to': 0.29374939369322545, 'natural': 5.808330160057001, 'the': 0.0, 'of': 0.0, 'offshore': 4.290459441148391, 'endosymbionts': 2.211017899468555, 'fitness': 3.597312260588446, 'methodologyprincipal': 2.681021528714291, 'we': 0.41925843024050014, 'a': 0.0857668217574251, 'compare': 4.290459441148391, 'andor': 2.681021528714291, 'across': 2.9041650800285006, 'nutritional': 12.871378323445173, 'shaded': 4.290459441148391, 'symbiodinium': 1.457246097092175, 'expression': 2.884436872220417, 'declines': 3.1918471524802814, 'coral': 0.6048281947317931, 'host': 4.200263049756679, 'responses': 2.4918740068499363, 'impacts': 2.681021528714291, 'content': 10.791936781765338, 'tgl': 4.290459441148391, 'genes': 1.3209355183149973, 'an': 2.4741706150459937, 'metabolism': 3.4510201673737084, 'inshore': 7.194624521176892, 'mobilisation': 4.290459441148391, 'lipid': 8.712495240085502, 'location': 7.194624521176892, 'respond': 2.9041650800285006, 'transcriptionpcr': 4.290459441148391, 'their': 0.994622575144062, 'heterotrophic': 4.290459441148391, 'efficient': 4.290459441148391, 'over': 4.186469727624344, 'course': 8.580918882296782, 'exposed': 1.457246097092175, 'following': 2.9041650800285006, 'translocation': 4.290459441148391, 'consistent': 2.498699971920336, 'anhydrase': 2.9041650800285006, 'filtered': 4.290459441148391, 'whereas': 2.211017899468555, 'seawater': 1.8925641683500207, 'indicate': 3.4510201673737084, 'co': 2.344549292093078, 'activity': 3.975748696308691, 'algal': 2.093234863812172, 'deprivation': 4.290459441148391, 'experiment': 2.498699971920336, 'had': 1.7255100836868542, 'type': 2.344549292093078, 'indicated': 2.681021528714291, 'detected': 2.211017899468555, 'are': 0.44031183943833246, 'background': 1.6514021115331325, 'uptake': 4.290459441148391, 'stress': 2.2053341389769328, 'were': 0.37843643572024505}, {'for': 0.4618180446592961, 'keywords': 3.597312260588446, 'during': 1.2459370034249682, 'caenorhabditis': 3.1918471524802814, 'likely': 1.8055527913603908, 'these': 0.41925843024050014, 'drosophila': 2.9041650800285006, 'cnidaria': 9.575541457440844, 'annelida': 4.290459441148391, 'mollusca': 4.290459441148391, 'ests': 8.580918882296782, 'tags': 4.290459441148391, 'animal': 3.1918471524802814, 'genomes': 5.362043057428582, 'increasing': 2.093234863812172, 'peridot': 8.580918882296782, 'amber': 8.580918882296782, 'homo': 4.290459441148391, 'pearl': 8.580918882296782, 'which': 0.7351113796589775, 'clades': 3.1918471524802814, 'cephalochordata': 4.290459441148391, 'hlh': 4.290459441148391, 'three': 3.4510201673737084, 'identified': 1.5824092400461809, 'identification': 2.498699971920336, 'transcription': 2.344549292093078, 'basic': 6.383694304960563, 'evolution': 2.498699971920336, 'lost': 2.9041650800285006, 'found': 3.4510201673737084, 'this': 1.01253961446026, 'full': 4.290459441148391, 'coral': 0.1008046991219655, 'set': 2.9041650800285006, 'of': 0.0, 'orthologous': 14.389249042353784, 'bhlh': 10.791936781765338, 'nearly': 4.290459441148391, 'melanogaster': 4.290459441148391, 'than': 1.457246097092175, 'designated': 3.597312260588446, 'the': 0.0, 'is': 0.41925843024050014, 'helixloophelix': 8.580918882296782, 'acropora': 0.23214434250550806, 'factors': 2.344549292093078, 'elegans': 4.290459441148391, 'hemichordata': 4.290459441148391, 'nematostella': 3.1918471524802814, 'number': 4.689098584186156, 'organism': 4.290459441148391, 'assigned': 4.290459441148391, 'enabled': 4.290459441148391, 'to': 0.25178519459419324, 'comparable': 4.290459441148391, 'larger': 2.9041650800285006, 'novel': 4.42203579893711, 'genes': 1.7612473577533299, 'sea': 1.9878743481543455, 'sequenced': 2.9041650800285006, 'characterize': 4.290459441148391, 'metazoans': 3.1918471524802814, 'genomewide': 3.597312260588446, 'anemone': 3.597312260588446, 'survey': 3.1918471524802814, 'proteins': 1.4000876832522264, 'most': 1.3460204619819507, 'and': 0.0, 'vectensis': 3.1918471524802814, 'those': 1.8055527913603908, 'other': 1.032362903126909, 'orthologues': 8.580918882296782, 'genome': 2.498699971920336, 'a': 0.0857668217574251, 'we': 0.8385168604810003, 'digitifera': 4.42203579893711, 'us': 2.681021528714291, 'invertebrate': 3.597312260588446, 'were': 1.5137457428809802, 'in': 0.12413989919102192, 'decoding': 4.290459441148391, 'families': 11.616660320114002, 'previously': 3.1918471524802814, 'sapiens': 4.290459441148391, 'expressed': 1.457246097092175, 'reported': 2.9041650800285006, 'addition': 6.2797045914365155}, {'concentrations': 2.498699971920336, 'endofcentury': 4.290459441148391, 'than': 1.457246097092175, 'much': 3.597312260588446, 'many': 1.8055527913603908, 'corals': 0.21292199724267172, 'impact': 2.498699971920336, 'will': 2.211017899468555, 'waters': 4.290459441148391, 'that': 0.11607217125275403, 'demonstrate': 4.290459441148391, 'evident': 3.597312260588446, 'synergistic': 4.290459441148391, 'controls': 3.597312260588446, 'similar': 2.344549292093078, 'showed': 1.4000876832522264, 'p': 4.689098584186156, 'compared': 1.5824092400461809, 'relative': 2.681021528714291, 'levels': 1.7255100836868542, 'treatment': 4.186469727624344, 'decrease': 1.9878743481543455, 'acidification': 2.681021528714291, 'pressure': 3.597312260588446, 'recovery': 3.1918471524802814, 'depressed': 4.290459441148391, 'elevated': 6.3296369601847235, 'significantly': 3.7378110102749043, 'v': 8.712495240085502, 'and': 0.0, 'f': 21.583873563530677, 'photosynthetic': 2.498699971920336, 'symbiont': 2.211017899468555, 'carbon': 6.383694304960563, 'to': 0.08392839819806441, 'all': 1.2459370034249682, 'physiology': 3.1918471524802814, 'linking': 4.290459441148391, 'utilising': 4.290459441148391, 'involved': 2.4918740068499363, 'studies': 1.7255100836868542, 'altered': 3.1918471524802814, 'aspera': 3.1918471524802814, 'symbiodinium': 2.91449219418435, 'slightly': 4.290459441148391, 'indicate': 1.7255100836868542, 'co': 7.033647876279234, 'andor': 2.681021528714291, 'during': 3.7378110102749043, 'was': 1.5877779763644861, 'ca': 5.362043057428582, 'on': 2.5075911800749786, 'fold': 2.9041650800285006, 'interactive': 3.597312260588446, 'greatest': 2.9041650800285006, 'while': 1.6514021115331325, 'ppm': 4.290459441148391, 'period': 2.498699971920336, 'loss': 2.093234863812172, 'genes': 1.3209355183149973, 'in': 0.09655325492635039, 'm': 8.712495240085502, 'd': 4.42203579893711, 'c': 1.4000876832522264, 'sooner': 4.290459441148391, 'anhydrase': 2.9041650800285006, 'by': 1.3854541339778883, 'heat': 1.4000876832522264, 'acropora': 0.11607217125275403, 'this': 1.01253961446026, 'bleaching': 3.833019723892749, 'isoforms': 3.597312260588446, 'above': 3.597312260588446, 'a': 0.1715336435148502, 'the': 0.0, 'effects': 4.747227720138543, 'of': 0.0, 'nearterm': 4.290459441148391, 'current': 3.597312260588446, 'efficiency': 2.9041650800285006, 'increases': 2.9041650800285006, 'event': 6.383694304960563, 'metabolism': 3.4510201673737084, 'downregulated': 1.9878743481543455, 'simulated': 4.290459441148391, 'no': 1.8925641683500207, 'study': 1.846327222323834, 'affect': 2.9041650800285006, 'pco': 17.424990480171004, 'symbionts': 1.8925641683500207, 'ambient': 2.681021528714291, 'for': 0.4618180446592961, 'effect': 2.9041650800285006, 'mitigated': 4.290459441148391, 'not': 2.064725806253818, 'increased': 4.55361215672583, 'had': 1.7255100836868542, 'would': 3.597312260588446, 'either': 2.9041650800285006, 'temperature': 3.8841815027832003, 'density': 2.681021528714291, 'final': 4.290459441148391, 'however': 1.2459370034249682, 'ocean': 2.498699971920336, 'did': 1.8925641683500207, 'alone': 3.597312260588446, 'or': 0.9582549309731873, 'crossed': 8.580918882296782, 'host': 1.4000876832522264, 'largest': 4.290459441148391, 'were': 0.37843643572024505, 'stress': 0.7351113796589775, 'response': 0.8247235383486646, 'targeted': 3.1918471524802814, 'notably': 3.597312260588446, 'patterns': 2.498699971920336, 'selected': 3.1918471524802814, 'explored': 2.9041650800285006, 'two': 1.2459370034249682, 'coca': 8.580918882296782, 'carbonic': 2.9041650800285006, 'exhibited': 2.093234863812172, 'changes': 1.0715836162801904, 'trend': 3.597312260588446, 'most': 1.3460204619819507, 'treatments': 4.689098584186156, 'surface': 2.498699971920336, 'control': 2.344549292093078, 'expression': 2.3075494977763333, 'day': 4.997399943840672, 'with': 0.6029507891682335}, {'point': 3.1918471524802814, 'faveolata': 4.290459441148391, 'montastraea': 3.597312260588446, 'those': 1.8055527913603908, 'with': 0.30147539458411676, 'compared': 1.5824092400461809, 'extracellular': 3.597312260588446, 'modifications': 4.290459441148391, 'signaling': 4.290459441148391, 'oxide': 3.597312260588446, 'evolutionary': 2.681021528714291, 'host': 1.4000876832522264, 'transfer': 3.597312260588446, 'metabolite': 3.1918471524802814, 'include': 2.9041650800285006, 'damaged': 4.290459441148391, 'stabilization': 4.290459441148391, 'nucleic': 3.597312260588446, 'removal': 4.290459441148391, 'activity': 1.9878743481543455, 'arrest': 4.290459441148391, 'growth': 2.344549292093078, 'indicates': 2.093234863812172, 'spp': 2.344549292093078, 'endosymbionts': 2.211017899468555, 'view': 4.290459441148391, 'utilized': 4.290459441148391, 'collected': 2.498699971920336, 'previous': 2.9041650800285006, 'their': 0.994622575144062, 'containing': 3.1918471524802814, 'successful': 3.597312260588446, 'analysis': 2.309930450438483, 'processes': 4.55361215672583, 'chaperone': 4.290459441148391, 'promise': 4.290459441148391, 'hold': 4.290459441148391, 'worldwide': 2.344549292093078, 'symbiosis': 1.9878743481543455, 'corals': 0.6387659917280152, 'dinoflagellate': 2.093234863812172, 'since': 3.1918471524802814, 'at': 0.923163611161917, 'a': 0.5146009305445506, 'study': 1.846327222323834, 'we': 0.41925843024050014, 'and': 0.0, 'symbiotic': 1.8925641683500207, 'mutualism': 3.597312260588446, 'thermal': 5.997084938950376, 'for': 1.3854541339778883, 'specific': 1.8055527913603908, 'colonies': 1.5824092400461809, 'unforeseen': 4.290459441148391, 'novel': 2.211017899468555, 'genes': 1.7612473577533299, 'in': 0.11034657705868615, 'being': 2.681021528714291, 'observed': 2.211017899468555, 'between': 1.3590830570083334, 'anemones': 2.9041650800285006, 'totals': 4.290459441148391, 'these': 0.41925843024050014, 'comes': 3.597312260588446, 'reefbuilding': 1.7255100836868542, 'results': 0.706940502692281, 'when': 1.8925641683500207, 'microarray': 10.791936781765338, 'emergence': 4.290459441148391, 'replicate': 4.290459441148391, 'cellular': 4.747227720138543, 'repair': 3.1918471524802814, 'alarming': 4.290459441148391, 'symbiodinium': 1.457246097092175, 'elkhorn': 2.9041650800285006, 'scleractinian': 1.8925641683500207, 'nitric': 4.290459441148391, 'great': 3.1918471524802814, 'triggers': 3.597312260588446, 'tools': 8.580918882296782, 'actin': 4.290459441148391, 'acropora': 0.11607217125275403, 'of': 0.0, 'the': 0.0, 'cytoskeleton': 2.9041650800285006, 'macromolecules': 3.597312260588446, 'time': 1.8925641683500207, 'genomic': 2.681021528714291, 'losses': 3.597312260588446, 'are': 1.7612473577533299, 'coral': 0.403218796487862, 'cover': 2.681021528714291, 'perception': 4.290459441148391, 'cdna': 2.093234863812172, 'upon': 2.681021528714291, 'frozen': 4.290459441148391, 'transcriptomic': 2.344549292093078, 'response': 2.4741706150459937, 'stressinduced': 4.290459441148391, 'offers': 3.597312260588446, 'other': 1.032362903126909, 'an': 1.6494470766973293, 'underlying': 1.9878743481543455, 'threatened': 3.1918471524802814, 'involving': 3.597312260588446, 'that': 0.34821651375826207, 'to': 0.25178519459419324, 'coralalgal': 3.1918471524802814, 'symbioses': 3.1918471524802814, 'bleaching': 2.874764792919562, 'differentially': 8.372939455248687, 'present': 1.8925641683500207, 'caribbean': 2.211017899468555, 'palmata': 3.7851283367000415, 'elucidating': 4.290459441148391, 'identify': 2.344549292093078, 'extraordinary': 3.597312260588446, 'after': 2.4918740068499363, 'expressed': 5.8289843883687, 'overall': 2.9041650800285006, 'measuring': 3.597312260588446, 'elevated': 1.5824092400461809, 'fragments': 2.498699971920336, 'conserved': 2.9041650800285006, 'endosymbiont': 4.290459441148391, 'exposed': 1.457246097092175, 'acid': 1.9878743481543455, 'from': 0.9675939027561428, 'sensory': 4.290459441148391, 'stress': 3.6755568982948876, 'were': 1.5137457428809802, 'temperature': 1.2947271675944, 'matrix': 3.1918471524802814, 'd': 4.42203579893711, 'samples': 4.186469727624344, 'h': 1.8055527913603908, 'breakdown': 2.498699971920336, 'respectively': 2.498699971920336}, {'photosystem': 3.597312260588446, 'd': 2.211017899468555, 'include': 2.9041650800285006, 'points': 8.580918882296782, 'potential': 3.4510201673737084, 'sites': 3.597312260588446, 'damage': 4.997399943840672, 'elucidation': 4.290459441148391, 'lost': 2.9041650800285006, 'ancestor': 2.9041650800285006, 'common': 1.9878743481543455, 'independently': 3.597312260588446, 'acquired': 6.383694304960563, 'either': 2.9041650800285006, 'differences': 2.093234863812172, 'species': 4.038061385945852, 'across': 2.9041650800285006, 'thermally': 7.194624521176892, 'sensitivity': 9.575541457440844, 'differential': 2.093234863812172, 'oscillation': 4.290459441148391, 'nio': 4.290459441148391, 'sensitive': 7.194624521176892, 'an': 0.8247235383486646, 'event': 6.383694304960563, 'change': 1.457246097092175, 'attributed': 3.1918471524802814, 'bleached': 4.997399943840672, 'gbr': 3.597312260588446, 'due': 1.5178707189086098, 'focus': 3.597312260588446, 'key': 2.093234863812172, 'have': 4.200263049756679, 'result': 2.681021528714291, 'that': 0.11607217125275403, 'exhibited': 2.093234863812172, 'all': 1.2459370034249682, 'quantified': 2.9041650800285006, 'time': 1.8925641683500207, 'acppcsym': 21.452297205741957, 'significantly': 1.2459370034249682, 'elevated': 4.747227720138543, 'eight': 2.9041650800285006, 'since': 3.1918471524802814, 'day': 14.992199831522015, 'expression': 3.4613242466645, 'surface': 2.498699971920336, 'aspera': 3.1918471524802814, 'acropora': 0.11607217125275403, 'gene': 1.470222759317955, 'acppc': 17.161837764593564, 'genes': 1.3209355183149973, 'complex': 4.997399943840672, 'rise': 4.290459441148391, 'integral': 4.290459441148391, 'c': 5.600350733008906, 'twelve': 3.597312260588446, 'period': 2.498699971920336, 'postulated': 4.290459441148391, 'associations': 3.597312260588446, 'classed': 4.290459441148391, 'from': 1.9351878055122855, 'lead': 2.211017899468555, 'increasing': 2.093234863812172, 'known': 1.457246097092175, 'were': 0.37843643572024505, 'loss': 4.186469727624344, 'thermal': 4.797667951160301, 'lhc': 4.290459441148391, 'expected': 2.498699971920336, 'a': 0.6861345740594008, 'effect': 5.808330160057001, 'daily': 7.194624521176892, 'cells': 4.186469727624344, 'explored': 2.9041650800285006, 'important': 1.3460204619819507, 'photoinhibition': 3.597312260588446, 'protein': 3.7378110102749043, 'dependent': 3.597312260588446, 'onset': 3.597312260588446, 'chlorophylls': 4.290459441148391, 'under': 1.4000876832522264, 'leads': 3.597312260588446, 'efficiency': 5.808330160057001, 'both': 2.309930450438483, 'when': 1.8925641683500207, 'chlorophyll': 3.597312260588446, 'heat': 2.800175366504453, 'hosts': 2.9041650800285006, 'symbiodinium': 16.029707068013924, 'the': 0.0, 'of': 0.0, 'temperatures': 7.589353594543049, 'belonging': 7.194624521176892, 'study': 0.923163611161917, 'symbionts': 3.7851283367000415, 'clade': 2.9041650800285006, 'and': 0.0, 'mass': 4.997399943840672, 'focussed': 8.580918882296782, 'dinoflagellate': 2.093234863812172, 'ii': 3.1918471524802814, 'provide': 1.8925641683500207, 'el': 4.290459441148391, 'factors': 2.344549292093078, 'coral': 0.806437592975724, 'coinciding': 4.290459441148391, 'reef': 1.457246097092175, 'success': 2.498699971920336, 'to': 0.5035703891883865, 'high': 1.5178707189086098, 'lightharvesting': 7.194624521176892, 'lhcs': 4.290459441148391, 'it': 1.8925641683500207, 'largely': 2.211017899468555, 'genus': 4.689098584186156, 'contrast': 2.498699971920336, 'grow': 4.290459441148391, 'on': 4.388284565131213, 'symbiont': 6.633053698405666, 'between': 2.0386245855125003, 'events': 5.808330160057001, 'peridinin': 4.290459441148391, 'are': 1.3209355183149973, 'acquires': 4.290459441148391, 'seasurface': 4.290459441148391, 'few': 3.1918471524802814, 'bleaching': 5.749529585839124, 'same': 2.681021528714291, 'pigments': 8.580918882296782, 'five': 3.597312260588446, 'benefit': 3.597312260588446, 'been': 5.384081847927803, 'sixteenday': 4.290459441148391, 'upregulated': 1.8925641683500207, 'nutrients': 4.290459441148391, 'was': 1.5877779763644861, 'sixteen': 12.871378323445173, 'density': 2.681021528714291, 'fluctuations': 3.1918471524802814, 'has': 4.038061385945852, 'next': 3.1918471524802814, 'psii': 3.1918471524802814, 'chl': 3.597312260588446, 'photobleaching': 4.290459441148391, 'environmental': 1.3460204619819507, 'three': 3.4510201673737084, 'reefs': 4.747227720138543, 'symbiosis': 1.9878743481543455, 'by': 1.8472721786371844, 'decrease': 3.975748696308691, 'carbon': 3.1918471524802814, 'expulsion': 4.290459441148391, 'which': 0.7351113796589775, 'bind': 3.1918471524802814, 'types': 4.689098584186156, 'or': 2.874764792919562, 'corals': 0.8516879889706869, 'where': 2.9041650800285006, 'many': 1.8055527913603908, 'exposed': 1.457246097092175, 'above': 7.194624521176892, 'ten': 4.290459441148391, 'unchanged': 4.290459441148391, 'throughout': 3.1918471524802814, 'generally': 3.1918471524802814, 'climate': 1.8925641683500207, 'interestingly': 3.597312260588446, 'while': 3.302804223066265, 'phylogenetic': 3.1918471524802814, 'with': 1.507376972920584, 'global': 1.5178707189086098, 'increased': 1.5178707189086098, 'relationships': 7.194624521176892, 'cluster': 3.1918471524802814, 'analysis': 1.1549652252192415, 'eukaryotic': 4.290459441148391, 'southern': 4.290459441148391, 'dinoflagellates': 4.689098584186156, 'sea': 3.975748696308691, 'carotenoids': 3.597312260588446, 'form': 3.1918471524802814, 'symbiotic': 1.8925641683500207, 'variety': 3.597312260588446, 'marine': 3.975748696308691, 'host': 4.200263049756679, 'lower': 2.211017899468555, 'taxa': 3.1918471524802814, 'observed': 6.633053698405666, 'these': 1.2577752907215003, 'endosymbiotic': 2.498699971920336, 'conditions': 1.3460204619819507, 'mutualistic': 3.597312260588446, 'such': 3.4510201673737084, 'for': 0.4618180446592961, 'photosynthetic': 17.490899803442353, 'inorganic': 3.597312260588446, 'results': 0.706940502692281, 'scleractinian': 1.8925641683500207, 'nitrogen': 3.597312260588446, 'required': 3.597312260588446, 'phosphate': 4.290459441148391, 'achlorophyll': 4.290459441148391, 'can': 1.6514021115331325, 'is': 2.096292151202501, 'turn': 4.290459441148391, 'up': 2.9041650800285006, 'stress': 2.94044551863591, 'energy': 3.597312260588446, 'reproduce': 3.597312260588446, 'experimentation': 4.290459441148391, 'critical': 3.597312260588446, 'tolerant': 6.383694304960563, 'their': 0.994622575144062, 'supporting': 3.1918471524802814, 'over': 4.186469727624344, 'holobiont': 2.498699971920336, 'diverse': 5.362043057428582, 'ecosystems': 2.211017899468555, 'implicated': 2.9041650800285006, 'complexes': 8.580918882296782, 'occurs': 2.9041650800285006, 'then': 3.1918471524802814, 'only': 1.9878743481543455, 'degrees': 3.597312260588446, 'this': 1.01253961446026, 'longterm': 2.9041650800285006, 'maxima': 4.290459441148391, 'together': 3.597312260588446, 'in': 0.20689983198503653, 'endosymbionts': 2.211017899468555, 'temperature': 2.5894543351888, 'relationship': 3.597312260588446, 'occur': 2.344549292093078, 'proliferation': 4.290459441148391, 'more': 1.3460204619819507, 'ocean': 2.498699971920336, 'basis': 2.344549292093078, 'including': 1.5178707189086098, 'mean': 4.290459441148391, 'within': 5.176530251060562, 'predicted': 2.093234863812172, 'as': 3.8204945826611487, 'experiment': 2.498699971920336, 'approximately': 2.9041650800285006, 'century': 4.290459441148391, 'seawater': 1.8925641683500207, 'eutrophication': 4.290459441148391, 'disease': 1.7255100836868542}, {'processing': 3.597312260588446, 'ancestral': 3.597312260588446, 'an': 0.8247235383486646, 'reflect': 2.9041650800285006, 'corals': 0.21292199724267172, 'out': 3.1918471524802814, 'ruled': 4.290459441148391, 'be': 0.8564722366632449, 'cannot': 3.1918471524802814, 'convergence': 4.290459441148391, 'whilst': 3.597312260588446, 'evolution': 2.498699971920336, 'animal': 3.1918471524802814, 'results': 0.706940502692281, 'derivative': 4.290459441148391, 'immunogens': 4.290459441148391, 'animals': 3.1918471524802814, 'higher': 1.8925641683500207, 'functional': 2.498699971920336, 'both': 1.1549652252192415, 'distinct': 2.681021528714291, 'provoking': 4.290459441148391, 'ic': 4.290459441148391, 'and': 0.0, 'phagolysosomal': 4.290459441148391, 'homologs': 2.9041650800285006, 'viral': 4.290459441148391, 'bacterial': 2.093234863812172, 'mdp': 8.580918882296782, 'cell': 2.093234863812172, 'immunity': 4.954206334599398, 'these': 0.41925843024050014, 'but': 1.989245150288124, 'perhaps': 3.597312260588446, 'most': 1.3460204619819507, 'survey': 3.1918471524802814, 'towards': 3.1918471524802814, 'well': 3.7851283367000415, 'has': 1.3460204619819507, 'cluster': 3.1918471524802814, 'origins': 3.597312260588446, 'a': 0.2573004652722753, 'genome': 2.498699971920336, 'characterised': 4.290459441148391, 'mimic': 4.290459441148391, 'of': 0.0, 'the': 0.0, 'effects': 1.5824092400461809, 'as': 2.292296749596689, 'to': 0.04196419909903221, 'poly': 4.290459441148391, 'with': 0.6029507891682335, 'responses': 3.7378110102749043, 'is': 0.41925843024050014, 'step': 3.597312260588446, 'phylogenomic': 4.290459441148391, 'whole': 2.681021528714291, 'in': 0.11034657705868615, 'transcriptome': 1.8925641683500207, 'challenge': 2.9041650800285006, 'understanding': 1.7255100836868542, 'lineagespecific': 3.597312260588446, 'losses': 3.597312260588446, 'mammals': 8.580918882296782, 'arthropods': 4.290459441148391, 'coral': 0.201609398243931, 'coralspecific': 4.290459441148391, 'we': 0.41925843024050014, 'surprising': 3.597312260588446, 'wall': 4.290459441148391, 'finding': 3.597312260588446, 'was': 0.5292593254548287, 'acute': 2.681021528714291, 'that': 0.11607217125275403, 'been': 1.3460204619819507, 'reveal': 3.597312260588446, 'specifically': 2.498699971920336, 'induced': 2.681021528714291, 'three': 1.7255100836868542, 'role': 1.6514021115331325, 'gimap': 12.871378323445173, 'members': 2.211017899468555, 'gene': 1.470222759317955, 'family': 4.42203579893711, 'which': 0.7351113796589775, 'like': 2.681021528714291, 'implicated': 2.9041650800285006, 'absent': 3.1918471524802814, 'may': 1.032362903126909, 'arranged': 4.290459441148391, 'from': 0.4837969513780714, 'experiments': 3.1918471524802814, 'present': 1.8925641683500207, 'drosophila': 2.9041650800285006, 'caenorhabditis': 3.1918471524802814, 'their': 0.994622575144062, 'mammalian': 2.9041650800285006, 'millepora': 1.2947271675944, 'genes': 0.44031183943833246, 'background': 1.6514021115331325, 'first': 2.093234863812172, 'similarities': 3.1918471524802814, 'are': 0.44031183943833246, 'tandem': 2.9041650800285006, 'acropora': 0.11607217125275403, 'conclusions': 2.211017899468555, 'this': 0.50626980723013, 'expression': 0.5768873744440833, 'implies': 3.1918471524802814, 'ancient': 3.1918471524802814, 'during': 1.2459370034249682, 'multiple': 2.498699971920336, 'independent': 3.1918471524802814, 'defined': 3.1918471524802814, 'analysis': 1.1549652252192415, 'expansions': 3.597312260588446}, {'active': 3.1918471524802814, 'an': 0.8247235383486646, 'indicates': 2.093234863812172, 'result': 2.681021528714291, 'hours': 3.597312260588446, 'increase': 1.8055527913603908, 'ambient': 2.681021528714291, 'presence': 2.681021528714291, 'constant': 3.1918471524802814, 'fluorescence': 3.1918471524802814, 'intracellular': 5.808330160057001, 'activation': 2.9041650800285006, 'needs': 4.290459441148391, 'during': 1.2459370034249682, 'calcium': 22.34293006736197, 'or': 0.9582549309731873, 'approximate': 4.290459441148391, 'fura': 4.290459441148391, 'of': 0.0, 'this': 0.50626980723013, 'bleaching': 0.9582549309731873, 'concentration': 9.378197168372312, 'and': 0.0, 'under': 1.4000876832522264, 'changes': 1.0715836162801904, 'without': 2.9041650800285006, 'the': 0.0, 'existence': 4.290459441148391, 'temperatures': 6.071482875634439, 'hsps': 8.712495240085502, 'heatshock': 8.580918882296782, 'involvement': 3.1918471524802814, 'examined': 4.186469727624344, 'corals': 0.21292199724267172, 'increased': 1.5178707189086098, 'kda': 6.383694304960563, 'a': 0.1715336435148502, 'we': 0.41925843024050014, 'elevated': 4.747227720138543, 'change': 1.457246097092175, 'cells': 8.372939455248687, 'proteins': 1.4000876832522264, 'subcellular': 4.290459441148391, 'extent': 3.1918471524802814, 'induce': 3.597312260588446, 'coral': 0.5040234956098275, 'least': 2.9041650800285006, 'to': 0.08392839819806441, 'was': 1.5877779763644861, 'method': 3.1918471524802814, 'in': 0.06896661066167885, 'prominent': 3.1918471524802814, 'protein': 1.2459370034249682, 'heatstressed': 4.290459441148391, 'oxidative': 1.8925641683500207, 'expression': 0.5768873744440833, 'since': 3.1918471524802814, 'three': 1.7255100836868542, 'at': 3.692654444647668, 'after': 1.2459370034249682, 'for': 0.4618180446592961, 'demonstrated': 2.498699971920336, 'with': 0.6029507891682335, 'molecular': 1.1549652252192415, 'be': 0.8564722366632449, 'weights': 4.290459441148391, 'high': 1.5178707189086098, 'were': 0.37843643572024505, 'stress': 0.7351113796589775, 'investigate': 2.9041650800285006, 'further': 2.211017899468555, 'oxygenase': 4.290459441148391, 'heme': 4.290459441148391, 'signal': 5.362043057428582, 'heat': 4.200263049756679, 'by': 0.9236360893185922, 'immunoblotting': 4.290459441148391, 'treatment': 6.2797045914365155, 'suggesting': 1.8925641683500207}, {'other': 1.032362903126909, 'documented': 4.290459441148391, 'reduced': 2.681021528714291, 'processes': 1.5178707189086098, 'cellular': 1.5824092400461809, 'essential': 2.681021528714291, 'gene': 0.7351113796589775, 'proper': 4.290459441148391, 'breakdown': 2.498699971920336, 'may': 2.064725806253818, 'increased': 1.5178707189086098, 'suggest': 1.5824092400461809, 'results': 0.706940502692281, 'cause': 2.344549292093078, 'shock': 1.9878743481543455, 'heat': 1.4000876832522264, 'while': 1.6514021115331325, 'cytoskeleton': 2.9041650800285006, 'numerous': 3.597312260588446, 'hpf': 4.290459441148391, 'survivorship': 3.597312260588446, 'samples': 2.093234863812172, 'elevated': 1.5824092400461809, 'nonstressful': 4.290459441148391, 'further': 2.211017899468555, 'elkhorn': 2.9041650800285006, 'palmata': 9.462820841750103, 'blastula': 4.290459441148391, 'embryonic': 7.194624521176892, 'were': 0.7568728714404901, 'transcriptomic': 2.344549292093078, 'involved': 4.983748013699873, 'major': 2.498699971920336, 'this': 0.50626980723013, 'abnormal': 4.290459441148391, 'cdna': 2.093234863812172, 'assessed': 3.1918471524802814, 'downregulation': 5.362043057428582, 'particularly': 2.681021528714291, 'changes': 2.1431672325603808, 'projected': 3.1918471524802814, 'by': 1.8472721786371844, 'threat': 2.498699971920336, 'c': 11.200701466017811, 'these': 1.2577752907215003, 'effects': 1.5824092400461809, 'of': 0.0, 'the': 0.0, 'temperatures': 6.071482875634439, 'postfertilization': 12.871378323445173, 'embryos': 8.580918882296782, 'examined': 2.093234863812172, 'levels': 1.7255100836868542, 'corals': 0.21292199724267172, 'poses': 4.290459441148391, 'months': 2.9041650800285006, 'seawater': 1.8925641683500207, 'occurred': 3.1918471524802814, 'upregulating': 3.597312260588446, 'elevation': 3.597312260588446, 'coral': 0.1008046991219655, 'two': 1.2459370034249682, 'expression': 2.3075494977763333, 'three': 1.7255100836868542, 'caribbean': 2.211017899468555, 'during': 4.983748013699873, 'stages': 7.4960999157610075, 'to': 0.20982099549516103, 'at': 4.615818055809585, 'patterns': 2.498699971920336, 'reefbuilding': 1.7255100836868542, 'cell': 4.186469727624344, 'larval': 2.9041650800285006, 'growth': 2.344549292093078, 'a': 0.6861345740594008, 'study': 0.923163611161917, 'we': 0.41925843024050014, 'which': 0.7351113796589775, 'planktonic': 3.597312260588446, 'characterized': 3.1918471524802814, 'on': 0.6268977950187447, 'division': 8.580918882296782, 'studies': 1.7255100836868542, 'altered': 3.1918471524802814, 'development': 9.994799887681344, 'and': 0.0, 'transcriptomes': 3.597312260588446, 'have': 1.4000876832522264, 'success': 2.498699971920336, 'year': 3.1918471524802814, 'microarrays': 4.290459441148391, 'compared': 3.1648184800923618, 'lead': 2.211017899468555, 'from': 1.4513908541342142, 'later': 4.290459441148391, 'genes': 3.082182876068327, 'early': 1.8055527913603908, 'warmest': 4.290459441148391, 'larvae': 2.211017899468555, 'h': 3.6111055827207816, 'multiple': 2.498699971920336, 'temperature': 2.5894543351888, 'reproductive': 3.597312260588446, 'developmental': 2.681021528714291, 'using': 1.4000876832522264, 'including': 1.5178707189086098, 'preblastula': 4.290459441148391, 'acropora': 0.11607217125275403, 'followed': 2.9041650800285006, 'reduction': 2.9041650800285006, 'gastrula': 4.290459441148391, 'transcriptome': 1.8925641683500207, 'planula': 3.597312260588446, 'each': 1.8925641683500207, 'in': 0.15172654345569347, 'treatments': 4.689098584186156, 'replicationcell': 8.580918882296782, 'transcription': 4.689098584186156, 'that': 0.34821651375826207, 'upregulated': 3.7851283367000415, 'its': 1.6514021115331325, 'protein': 1.2459370034249682, 'metabolism': 3.4510201673737084, 'synthesis': 3.597312260588446, 'caused': 2.211017899468555}, {'rate': 2.681021528714291, 'response': 0.8247235383486646, 'bacteria': 2.498699971920336, 'traits': 2.9041650800285006, 'result': 2.681021528714291, 'lower': 2.211017899468555, 'such': 1.7255100836868542, 'tolerance': 2.093234863812172, 'postulate': 4.290459441148391, 'metabolismrelated': 4.290459441148391, 'those': 1.8055527913603908, 'stressresistance': 4.290459441148391, 'mostly': 3.597312260588446, 'expression': 1.1537747488881667, 'revealed': 1.8055527913603908, 'of': 0.0, 'significantly': 3.7378110102749043, 'metabolic': 2.211017899468555, 'diversity': 5.362043057428582, 'microbial': 6.383694304960563, 'immune': 3.6111055827207816, 'higher': 7.570256673400083, 'exhibited': 2.093234863812172, 'nevertheless': 4.290459441148391, 'detected': 2.211017899468555, 'difference': 3.1918471524802814, 'bacterial': 2.093234863812172, 'compared': 3.1648184800923618, 'profiled': 3.597312260588446, 'analysis': 1.1549652252192415, 'between': 0.6795415285041667, 'display': 3.597312260588446, 'the': 0.0, 'genes': 0.44031183943833246, 'symbiodiniaceae': 5.808330160057001, 'coral': 0.30241409736589653, 'species': 2.6920409239639014, 'biotic': 3.597312260588446, 'varying': 4.290459441148391, 'low': 2.681021528714291, 'were': 0.7568728714404901, 'high': 1.5178707189086098, 'pruinosa': 14.389249042353784, 'clade': 2.9041650800285006, 'with': 1.507376972920584, 'related': 1.7255100836868542, 'susceptibilities': 4.290459441148391, 'as': 1.5281978330644594, 'to': 0.12589259729709662, 'was': 0.5292593254548287, 'structure': 2.498699971920336, 'type': 2.344549292093078, 'acropora': 0.11607217125275403, 'stressresistant': 4.290459441148391, 'a': 0.2573004652722753, 'causes': 2.344549292093078, 'communities': 2.344549292093078, 'we': 1.2577752907215003, 'is': 0.41925843024050014, 'displaying': 3.597312260588446, 'responses': 2.4918740068499363, 'decussata': 21.452297205741957, 'abiotic': 3.597312260588446, 'or': 0.9582549309731873, 'stress': 0.7351113796589775, 'two': 1.2459370034249682, 'c': 1.4000876832522264, 'several': 1.9878743481543455, 'whereas': 2.211017899468555, 'no': 1.8925641683500207, 'address': 3.1918471524802814, 'community': 2.681021528714291, 'dominant': 4.997399943840672, 'and': 0.0, 'transcriptome': 3.7851283367000415, 'phenomenon': 3.1918471524802814, 'subclade': 4.290459441148391, 'in': 0.041379966397007306, 'pavona': 4.290459441148391, 'that': 0.5803608562637701, 'underlying': 1.9878743481543455, 'different': 4.954206334599398, 'tolerances': 4.290459441148391, 'environmental': 1.3460204619819507, 'weizhou': 4.290459441148391, 'island': 3.597312260588446, 'this': 0.50626980723013, 'found': 1.7255100836868542, 'p': 9.378197168372312, 'most': 1.3460204619819507}, {'future': 2.093234863812172, 'intensity': 3.1918471524802814, 'frequency': 2.498699971920336, 'increase': 1.8055527913603908, 'are': 0.44031183943833246, 'which': 0.7351113796589775, 'warming': 2.211017899468555, 'global': 1.5178707189086098, 'progressing': 4.290459441148391, 'evaluation': 4.290459441148391, 'information': 2.9041650800285006, 'useful': 2.9041650800285006, 'provides': 2.9041650800285006, 'fragile': 4.290459441148391, 'near': 3.1918471524802814, 'on': 0.6268977950187447, 'greater': 2.681021528714291, 'indicate': 1.7255100836868542, 'these': 0.41925843024050014, 'caused': 2.211017899468555, 'damage': 2.498699971920336, 'lowered': 4.290459441148391, 'severely': 3.597312260588446, 'but': 0.994622575144062, 'previous': 5.808330160057001, 'observed': 4.42203579893711, 'cyclone': 30.033216088038735, 'expected': 2.498699971920336, 'thermal': 2.3988339755801507, 'lower': 2.211017899468555, 'japan': 3.597312260588446, 'site': 19.151082914881687, 'a': 0.4288341087871255, 'communities': 2.344549292093078, 'study': 1.846327222323834, 'we': 0.41925843024050014, 'were': 1.1353093071607352, 'stress': 1.470222759317955, 'two': 1.2459370034249682, 'strength': 4.290459441148391, 'iriomote': 4.290459441148391, 'to': 0.5035703891883865, 'protected': 12.871378323445173, 'during': 2.4918740068499363, 'period': 4.997399943840672, 'from': 0.4837969513780714, 'tracked': 4.290459441148391, 'compared': 4.747227720138543, 'it': 1.8925641683500207, 'higher': 1.8925641683500207, 'into': 1.2947271675944, 'that': 0.34821651375826207, 'in': 0.1379332213233577, 'for': 0.9236360893185922, 'structure': 2.498699971920336, 'acropora': 0.4642886850110161, 'delayed': 3.1918471524802814, 'without': 2.9041650800285006, 'disturbance': 7.194624521176892, 'was': 1.0585186509096574, 'reaction': 2.9041650800285006, 'environmental': 1.3460204619819507, 'probably': 4.290459441148391, 'survived': 3.1918471524802814, 'island': 3.597312260588446, 'predict': 2.681021528714291, 'an': 0.8247235383486646, 'all': 3.7378110102749043, 'other': 1.032362903126909, 'coral': 0.30241409736589653, 'relative': 2.681021528714291, 'response': 1.6494470766973293, 'due': 3.0357414378172196, 'at': 4.615818055809585, 'is': 0.41925843024050014, 'tropical': 15.959235762401407, 'investigated': 2.211017899468555, 'predicted': 2.093234863812172, 'know': 3.597312260588446, 'rate': 5.362043057428582, 'the': 0.0, 'of': 0.0, 'remarkable': 4.290459441148391, 'and': 0.0, 'this': 0.50626980723013, 'conditions': 2.6920409239639014, 'tabular': 12.871378323445173, 'each': 1.8925641683500207, 'colonies': 4.747227720138543, 'mortality': 9.462820841750103, 'four': 2.344549292093078, 'had': 1.7255100836868542, 'morphologies': 4.290459441148391, 'arborescent': 17.161837764593564, 'corymbose': 8.580918882296782, 'following': 2.9041650800285006, 'exposed': 7.286230485460875, 'induced': 2.681021528714291, 'community': 2.681021528714291, 'through': 2.9041650800285006, 'identified': 1.5824092400461809, 'impact': 4.997399943840672, 'digitate': 8.580918882296782, 'time': 1.8925641683500207, 'speciesspecific': 4.290459441148391, 'annual': 3.597312260588446, 'growth': 14.067295752558469, 'calculate': 4.290459441148391, 'than': 2.91449219418435, 'results': 0.706940502692281, 'disturbances': 4.290459441148391, 'extremely': 4.290459441148391, 'necessary': 3.1918471524802814, 'bleaching': 1.9165098619463745, 'changing': 2.9041650800285006, 'forms': 8.580918882296782, 'after': 4.983748013699873, 'decrease': 1.9878743481543455, 'declined': 4.290459441148391, 'contrast': 2.498699971920336, 'corals': 0.8516879889706869, 'physical': 3.1918471524802814, 'sites': 7.194624521176892, 'by': 0.9236360893185922, 'highest': 3.597312260588446, 'remnant': 4.290459441148391, 'classified': 3.1918471524802814, 'moreover': 3.597312260588446, 'decline': 2.498699971920336, 'not': 1.032362903126909, 'exhibited': 2.093234863812172, 'year': 12.767388609921126, 'did': 1.8925641683500207}, {'for': 0.4618180446592961, 'important': 1.3460204619819507, 'address': 3.1918471524802814, 'have': 2.800175366504453, 'could': 1.9878743481543455, 'will': 2.211017899468555, 'studies': 1.7255100836868542, 'future': 2.093234863812172, 'another': 3.597312260588446, 'ie': 3.597312260588446, 'differences': 2.093234863812172, 'qualitative': 4.290459441148391, 'genetic': 4.186469727624344, 'depending': 4.290459441148391, 'families': 2.9041650800285006, 'larval': 2.9041650800285006, 'different': 1.6514021115331325, 'our': 1.2459370034249682, 'accuracy': 4.290459441148391, 'quantitative': 2.093234863812172, 'confirmed': 4.290459441148391, 'qpcr': 5.808330160057001, 'validation': 4.290459441148391, 'background': 1.6514021115331325, 'are': 0.44031183943833246, 'but': 0.994622575144062, 'under': 2.800175366504453, 'consequences': 3.597312260588446, 'precede': 3.597312260588446, 'changes': 1.0715836162801904, 'behaviour': 4.290459441148391, 'correspond': 4.290459441148391, 'may': 1.032362903126909, 'which': 1.470222759317955, 'regulated': 3.1918471524802814, 'some': 1.8925641683500207, 'variation': 4.42203579893711, 'developmental': 2.681021528714291, 'differential': 2.093234863812172, 'by': 0.9236360893185922, 'glwamide': 8.580918882296782, 'neuropeptide': 4.290459441148391, 'cca': 8.580918882296782, 'shorth': 4.290459441148391, 'applied': 3.1918471524802814, 'hypothesisforming': 4.290459441148391, 'threat': 2.498699971920336, 'elucidate': 3.1918471524802814, 'acropora': 0.11607217125275403, 'molecular': 1.1549652252192415, 'coralline': 4.290459441148391, 'approach': 2.681021528714291, 'transport': 2.344549292093078, 'change': 4.371738291276525, 'importantly': 4.290459441148391, 'shock': 1.9878743481543455, 'accompanied': 3.597312260588446, 'proteins': 2.800175366504453, 'one': 2.093234863812172, 'global': 3.0357414378172196, 'contrasting': 4.290459441148391, 'corals': 0.8516879889706869, 'novel': 2.211017899468555, 'millepora': 1.2947271675944, 'genes': 1.3209355183149973, 'these': 1.2577752907215003, 'is': 0.41925843024050014, 'roles': 2.211017899468555, 'responses': 4.983748013699873, 'settlement': 5.808330160057001, 'powerful': 4.290459441148391, 'study': 0.923163611161917, 'we': 0.8385168604810003, 'a': 0.5146009305445506, 'bypassed': 4.290459441148391, 'metamorphosis': 7.194624521176892, 'might': 2.211017899468555, 'on': 0.6268977950187447, 'fullsibling': 4.290459441148391, 'pose': 3.597312260588446, 'influence': 3.1918471524802814, 'profiles': 2.344549292093078, 'during': 2.4918740068499363, 'adaptive': 2.498699971920336, 'clear': 2.681021528714291, 'elevated': 3.1648184800923618, 'climate': 5.677692505050063, 'algae': 2.9041650800285006, 'while': 1.6514021115331325, 'profiled': 3.597312260588446, 'crustose': 4.290459441148391, 'gene': 1.470222759317955, 'temperatures': 3.0357414378172196, 'tool': 3.597312260588446, 'extensive': 3.1918471524802814, 'also': 1.1994169877900753, 'poorly': 2.9041650800285006, 'morphology': 3.597312260588446, 'to': 0.29374939369322545, 'help': 2.9041650800285006, 'reefbuilding': 3.4510201673737084, 'profiling': 2.9041650800285006, 'however': 1.2459370034249682, 'traits': 5.808330160057001, 'downregulation': 5.362043057428582, 'survival': 2.498699971920336, 'upregulation': 4.42203579893711, 'protocol': 4.290459441148391, 'and': 0.0, 'dispersal': 4.290459441148391, 'rnaseq': 4.42203579893711, 'resulting': 2.344549292093078, 'understood': 2.498699971920336, 'ca': 2.681021528714291, 'heat': 2.800175366504453, 'resulted': 2.9041650800285006, 'inducers': 4.290459441148391, 'in': 0.09655325492635039, 'larvae': 2.211017899468555, 'synthetic': 4.290459441148391, 'from': 0.4837969513780714, 'shortterm': 2.9041650800285006, 'natural': 5.808330160057001, 'the': 0.0, 'of': 0.0, 'recruitmentassociated': 4.290459441148391, 'revealed': 3.6111055827207816, 'coral': 0.1008046991219655, 'this': 1.01253961446026, 'analysis': 2.309930450438483, 'between': 0.6795415285041667, 'single': 2.9041650800285006, 'family': 4.42203579893711, 'longterm': 5.808330160057001, 'associated': 1.4000876832522264, 'cues': 8.580918882296782, 'expression': 2.3075494977763333, 'day': 2.498699971920336, 'remain': 2.211017899468555, 'exposures': 3.597312260588446, 'known': 1.457246097092175, 'were': 0.7568728714404901, 'that': 0.34821651375826207, 'upregulated': 1.8925641683500207, 'only': 3.975748696308691, 'can': 1.6514021115331325, 'treatment': 8.372939455248687, 'induced': 2.681021528714291, 'ribosomal': 2.9041650800285006, 'with': 0.6029507891682335, 'here': 1.457246097092175, 'ion': 3.1918471524802814, 'metabolism': 1.7255100836868542, 'both': 1.1549652252192415, 'co': 2.344549292093078, 'including': 1.5178707189086098, 'using': 2.800175366504453, 'aposymbiotic': 3.597312260588446, 'cue': 8.580918882296782}, {'environment': 2.498699971920336, 'complex': 2.498699971920336, 'which': 0.7351113796589775, 'complexity': 4.290459441148391, 'illustrate': 4.290459441148391, 'results': 0.706940502692281, 'extraordinary': 3.597312260588446, 'after': 1.2459370034249682, 'have': 1.4000876832522264, 'may': 2.064725806253818, 'addition': 2.093234863812172, 'duplication': 3.597312260588446, 'part': 6.383694304960563, 'least': 2.9041650800285006, 'generated': 3.1918471524802814, 'been': 1.3460204619819507, 'repertoire': 6.383694304960563, 'large': 2.681021528714291, 'acropora': 0.11607217125275403, 'adaptive': 2.498699971920336, 'pairs': 3.597312260588446, 'organized': 4.290459441148391, 'lineagespecific': 3.597312260588446, 'largely': 2.211017899468555, 'including': 1.5178707189086098, 'lineages': 4.290459441148391, 'metazoan': 3.1918471524802814, 'various': 2.093234863812172, 'suggest': 1.5824092400461809, 'analyses': 2.498699971920336, 'novel': 2.211017899468555, 'tandem': 2.9041650800285006, 'inventories': 4.290459441148391, 'group': 2.681021528714291, 'glycosyl': 4.290459441148391, 'nachtnbarc': 17.161837764593564, 'found': 1.7255100836868542, 'predicted': 2.093234863812172, 'wd': 4.290459441148391, 'ankyrin': 4.290459441148391, 'tetratricopeptide': 4.290459441148391, 'hete': 4.290459441148391, 'receptor': 4.290459441148391, 'dinoflagellates': 2.344549292093078, 'apaf': 4.290459441148391, 'products': 4.290459441148391, 'ciia': 4.290459441148391, 'leucinerich': 4.290459441148391, 'diversity': 2.681021528714291, 'presence': 2.681021528714291, 'expansions': 7.194624521176892, 'defined': 3.1918471524802814, 'challenging': 4.290459441148391, 'apoptosisrelated': 4.290459441148391, 'a': 0.6861345740594008, 'card': 4.290459441148391, 'transferase': 4.290459441148391, 'related': 1.7255100836868542, 'oligomerization': 3.597312260588446, 'combination': 3.597312260588446, 'that': 0.4642886850110161, 'ced': 4.290459441148391, 'but': 1.989245150288124, 'domain': 46.7650593876498, 'has': 1.3460204619819507, 'intracellular': 2.9041650800285006, 'system': 2.9041650800285006, 'symbiodinium': 1.457246097092175, 'contain': 8.580918882296782, 'genus': 2.344549292093078, 'nucleotide': 4.290459441148391, 'to': 0.12589259729709662, 'as': 0.7640989165322297, 'with': 0.30147539458411676, 'immune': 1.8055527913603908, 'and': 0.0, 'by': 1.3854541339778883, 'interest': 3.597312260588446, 'or': 0.9582549309731873, 'immunity': 3.302804223066265, 'occurred': 3.1918471524802814, 'revealed': 1.8055527913603908, 'nbarcrepeat': 4.290459441148391, 'of': 0.0, 'the': 0.0, 'not': 2.064725806253818, 'at': 0.923163611161917, 'is': 0.41925843024050014, 'special': 4.290459441148391, 'tripartite': 4.290459441148391, 'also': 3.598250963370226, 'nodlike': 4.290459441148391, 'in': 0.16551986558802922, 'domains': 14.389249042353784, 'establishment': 3.1918471524802814, 'obligate': 3.1918471524802814, 'uniquely': 4.290459441148391, 'coral': 0.403218796487862, 'triplets': 4.290459441148391, 'combinations': 4.290459441148391, 'these': 0.41925843024050014, 'nachtand': 4.290459441148391, 'innate': 6.633053698405666, 'their': 0.994622575144062, 'collapse': 3.597312260588446, 'approximately': 2.9041650800285006, 'proteins': 5.600350733008906, 'symbiosis': 1.9878743481543455, 'nacht': 7.194624521176892, 'phylogenetic': 3.1918471524802814, 'pattern': 2.9041650800285006, 'selfdefense': 4.290459441148391, 'one': 2.093234863812172, 'cterminal': 7.194624521176892, 'repeat': 8.580918882296782, 'effector': 17.161837764593564, 'naip': 4.290459441148391, 'lrr': 3.597312260588446, 'number': 2.344549292093078, 'shuffling': 4.290459441148391, 'three': 1.7255100836868542, 'types': 4.689098584186156, 'nterminal': 10.791936781765338, 'evolution': 2.498699971920336, 'surveying': 4.290459441148391, 'than': 1.457246097092175, 'genome': 4.997399943840672, 'known': 1.457246097092175, 'only': 3.975748696308691, 'function': 2.9041650800285006, 'first': 2.093234863812172, 'are': 1.7612473577533299, 'recognition': 2.498699971920336, 'symbiotic': 1.8925641683500207, 'reflect': 2.9041650800285006, 'relation': 4.290459441148391, 'vertebrates': 3.597312260588446, 'larger': 2.9041650800285006, 'nucleotidebinding': 3.597312260588446, 'adaptor': 4.290459441148391, 'shared': 3.1918471524802814, 'among': 1.9878743481543455, 'r': 3.597312260588446, 'lifestyle': 4.290459441148391, 'molecules': 2.9041650800285006, 'nbarcencoding': 4.290459441148391, 'suggesting': 1.8925641683500207, 'repeats': 12.871378323445173, 'loci': 8.580918882296782, 'other': 1.032362903126909, 'metazoans': 6.383694304960563, 'death': 5.362043057428582, 'tp': 4.290459441148391, 'surprising': 3.597312260588446, 'primary': 2.681021528714291, 'nachtnbarccontaining': 4.290459441148391, 'context': 4.290459441148391, 'included': 4.42203579893711, 'specific': 1.8055527913603908, 'caspase': 3.1918471524802814, 'many': 3.6111055827207816, 'lrrs': 4.290459441148391, 'corals': 0.6387659917280152, 'recruitment': 4.290459441148391, 'ded': 4.290459441148391}, {'necessary': 3.1918471524802814, 'information': 2.9041650800285006, 'interdependent': 4.290459441148391, 'questions': 3.597312260588446, 'many': 1.8055527913603908, 'although': 2.211017899468555, 'illuminated': 4.290459441148391, 'genomes': 5.362043057428582, 'plastid': 4.290459441148391, 'salient': 4.290459441148391, 'splicing': 3.597312260588446, 'spliceosomal': 4.290459441148391, 'permanently': 4.290459441148391, 'certain': 3.597312260588446, 'expansion': 4.290459441148391, 'on': 0.6268977950187447, 'are': 0.8806236788766649, 'genome': 2.498699971920336, 'features': 7.194624521176892, 'characteristic': 3.1918471524802814, 'part': 3.1918471524802814, 'least': 2.9041650800285006, 'upon': 2.681021528714291, 'light': 2.681021528714291, 'by': 0.4618180446592961, 'extension': 4.290459441148391, 'cellular': 1.5824092400461809, 'further': 2.211017899468555, 'require': 4.290459441148391, 'these': 0.41925843024050014, 'innate': 2.211017899468555, 'photosynthetic': 2.498699971920336, 'photoreceptors': 4.290459441148391, 'endosymbiosis': 8.580918882296782, 'at': 0.923163611161917, 'is': 0.41925843024050014, 'more': 1.3460204619819507, 'obligate': 3.1918471524802814, 'with': 0.30147539458411676, 'enabling': 2.9041650800285006, 'collapse': 3.597312260588446, 'mechanisms': 1.5178707189086098, 'also': 4.797667951160301, 'circadian': 2.9041650800285006, 'in': 0.05517328852934308, 'and': 0.0, 'coraldinoflagellate': 4.290459441148391, 'processes': 1.5178707189086098, 'essential': 2.681021528714291, 'may': 2.064725806253818, 'scleractinian': 3.7851283367000415, 'stressresponse': 4.290459441148391, 'knowledge': 4.290459441148391, 'established': 3.1918471524802814, 'intimate': 4.290459441148391, 'summarize': 4.290459441148391, 'basis': 2.344549292093078, 'shed': 4.290459441148391, 'for': 0.9236360893185922, 'such': 1.7255100836868542, 'derived': 3.1918471524802814, 'clarification': 4.290459441148391, 'biology': 3.1918471524802814, 'been': 1.3460204619819507, 'that': 0.23214434250550806, 'maintenance': 4.290459441148391, 'here': 1.457246097092175, 'dinoflagellates': 2.344549292093078, 'dinoflagellate': 2.093234863812172, 'far': 3.597312260588446, 'reviewed': 4.290459441148391, 'order': 2.681021528714291, 'unusual': 4.290459441148391, 'understanding': 1.7255100836868542, 'regarding': 3.597312260588446, 'to': 0.04196419909903221, 'all': 1.2459370034249682, 'endosymbiotic': 2.498699971920336, 'the': 0.0, 'of': 0.0, 'immunity': 1.6514021115331325, 'understand': 1.9878743481543455, 'how': 1.8925641683500207, 'chromatin': 4.290459441148391, 'have': 1.4000876832522264, 'endosymbioses': 4.290459441148391, 'explain': 2.9041650800285006, 'particular': 2.681021528714291, 'diverse': 2.681021528714291, 'molecular': 2.309930450438483, 'focusing': 4.290459441148391, 'environmental': 1.3460204619819507, 'arrangement': 3.597312260588446, 'autophagy': 4.290459441148391, 'future': 2.093234863812172, 'promote': 4.290459441148391, 'genomic': 5.362043057428582, 'coral': 0.201609398243931, 'resistance': 2.9041650800285006, 'discuss': 3.597312260588446, 'mitochondrial': 3.597312260588446, 'conditions': 1.3460204619819507, 'this': 0.50626980723013, 'recent': 2.681021528714291, 'mutualism': 3.597312260588446, 'symbiotic': 1.8925641683500207, 'data': 3.975748696308691, 'undergird': 4.290459441148391, 'we': 1.6770337209620005, 'acropora': 0.34821651375826207, 'digitifera': 2.211017899468555, 'symbiodinium': 4.371738291276525, 'from': 0.4837969513780714, 'acid': 1.9878743481543455, 'involved': 1.2459370034249682, 'coralsymbiont': 4.290459441148391, 'review': 4.290459441148391, 'fluorescence': 3.1918471524802814, 'establishment': 3.1918471524802814, 'calcification': 2.211017899468555, 'minutum': 4.290459441148391, 'embryonic': 3.597312260588446, 'studies': 3.4510201673737084, 'development': 2.498699971920336, 'unique': 3.1918471524802814, 'detail': 3.597312260588446, 'condensed': 4.290459441148391, 'apoptosis': 2.344549292093078, 'families': 2.9041650800285006, 'uv': 4.290459441148391, 'clocks': 4.290459441148391, 'etc': 3.597312260588446, 'gene': 2.2053341389769328, 'genes': 0.44031183943833246, 'loss': 2.093234863812172, 'remain': 2.211017899468555, 'amino': 2.498699971920336, 'metabolism': 1.7255100836868542}, {'predict': 2.681021528714291, 'be': 0.8564722366632449, 'may': 1.032362903126909, 'that': 0.11607217125275403, 'results': 0.706940502692281, 'and': 0.0, 'downregulated': 1.9878743481543455, 'was': 0.5292593254548287, 'coral': 0.1008046991219655, 'observed': 2.211017899468555, 'biomarker': 2.681021528714291, 'these': 0.41925843024050014, 'such': 1.7255100836868542, 'no': 1.8925641683500207, 'whereas': 2.211017899468555, 'bleached': 2.498699971920336, 'whiter': 4.290459441148391, 'significantly': 2.4918740068499363, 'group': 5.362043057428582, 'treatment': 4.186469727624344, 'gl': 17.161837764593564, 'or': 0.9582549309731873, 'after': 2.4918740068499363, 'shock': 1.9878743481543455, 'the': 0.0, 'gene': 0.7351113796589775, 'showed': 1.4000876832522264, 'degree': 3.597312260588446, 'bleaching': 0.9582549309731873, 'cdna': 2.093234863812172, 'corals': 0.6387659917280152, 'suggest': 1.5824092400461809, 'kda': 3.1918471524802814, 'encoding': 3.1918471524802814, 'level': 2.211017899468555, 'protein': 1.2459370034249682, 'to': 0.16785679639612883, 'frame': 4.290459441148391, 'of': 0.0, 'body': 3.597312260588446, 'which': 0.7351113796589775, 'reading': 4.290459441148391, 'exposure': 3.7851283367000415, 'a': 0.6861345740594008, 'we': 0.41925843024050014, 'herbicide': 4.290459441148391, 'however': 1.2459370034249682, 'residues': 3.597312260588446, 'on': 0.6268977950187447, 'amino': 4.997399943840672, 'expression': 1.1537747488881667, 'irgarol': 12.871378323445173, 'fulllength': 3.597312260588446, 'with': 0.6029507891682335, 'hsp': 16.086129172285744, 'by': 0.4618180446592961, 'heat': 1.4000876832522264, 'herbicides': 4.290459441148391, 'hard': 4.290459441148391, 'from': 0.4837969513780714, 'open': 4.290459441148391, 'sequence': 2.211017899468555, 'elucidate': 3.1918471524802814, 'effects': 3.1648184800923618, 'acropora': 0.11607217125275403, 'caused': 2.211017899468555, 'tenuis': 7.033647876279234, 'has': 1.3460204619819507, 'deduced': 4.290459441148391, 'acid': 3.975748696308691, 'both': 1.1549652252192415, 'd': 2.211017899468555, 'predicted': 2.093234863812172, 'molecular': 2.309930450438483, 'useful': 2.9041650800285006, 'mass': 2.498699971920336, 'were': 0.7568728714404901, 'isolated': 2.9041650800285006, 'high': 1.5178707189086098, 'similarity': 3.597312260588446, 'hermatypiccoral': 4.290459441148391, 'colours': 4.290459441148391, 'in': 0.05517328852934308, 'families': 2.9041650800285006}, {'problem': 4.290459441148391, 'help': 2.9041650800285006, 'biomarkers': 3.1918471524802814, 'can': 1.6514021115331325, 'be': 1.7129444733264898, 'rpsa': 4.290459441148391, 'snornps': 4.290459441148391, 'indicating': 2.9041650800285006, 'normal': 2.9041650800285006, 'between': 0.6795415285041667, 'responsible': 3.1918471524802814, 'processes': 4.55361215672583, 'showed': 1.4000876832522264, 'analysis': 1.1549652252192415, 'by': 0.9236360893185922, 'omnibus': 4.290459441148391, 'profiling': 2.9041650800285006, 'may': 1.032362903126909, 'biosynthesis': 2.681021528714291, 'moreover': 3.597312260588446, 'bleached': 2.498699971920336, 'resulting': 2.344549292093078, 'solve': 4.290459441148391, 'was': 0.5292593254548287, 'database': 3.597312260588446, 'expression': 1.1537747488881667, 'hub': 7.194624521176892, 'this': 0.50626980723013, 'were': 0.37843643572024505, 'stress': 3.6755568982948876, 'corals': 0.21292199724267172, 'many': 1.8055527913603908, 'rpl': 4.290459441148391, 'using': 1.4000876832522264, 'which': 0.7351113796589775, 'disruption': 3.597312260588446, 'some': 1.8925641683500207, 'for': 0.4618180446592961, 'such': 1.7255100836868542, 'these': 0.8385168604810003, 'as': 1.5281978330644594, 'breakdown': 2.498699971920336, 'responses': 4.983748013699873, 'is': 0.41925843024050014, 'new': 2.498699971920336, 'main': 3.597312260588446, 'cytoskeleton': 2.9041650800285006, 'data': 1.9878743481543455, 'bioinformatics': 3.597312260588446, 'explored': 2.9041650800285006, 'necrosis': 3.597312260588446, 'gene': 2.2053341389769328, 'vitamin': 4.290459441148391, 'and': 0.0, 'temperature': 1.2947271675944, 'to': 0.16785679639612883, 'high': 1.5178707189086098, 'factors': 2.344549292093078, 'acropora': 0.11607217125275403, 'reduction': 2.9041650800285006, 'environmental': 1.3460204619819507, 'detected': 2.211017899468555, 'are': 0.44031183943833246, 'coral': 0.5040234956098275, 'among': 1.9878743481543455, 'results': 0.706940502692281, 'molecular': 1.1549652252192415, 'causes': 2.344549292093078, 'a': 0.1715336435148502, 'thus': 2.681021528714291, 'cct': 8.580918882296782, 'analyses': 2.498699971920336, 'the': 0.0, 'of': 0.0, 'important': 2.6920409239639014, 'led': 2.9041650800285006, 'involved': 2.4918740068499363, 'genes': 2.6418710366299947, 'downregulated': 3.975748696308691, 'cycle': 3.1918471524802814, 'will': 2.211017899468555, 'in': 0.05517328852934308, 'palmata': 1.8925641683500207, 'suggest': 1.5824092400461809, 'snornp': 4.290459441148391, 'ribosomal': 2.9041650800285006, 'proteins': 1.4000876832522264, 'study': 1.846327222323834, 'then': 3.1918471524802814, 'decreased': 2.211017899468555, 'series': 4.290459441148391, 'biological': 2.211017899468555, 'factor': 2.498699971920336, 'metabolic': 2.211017899468555, 'that': 0.34821651375826207, 'because': 5.362043057428582, 'thermal': 5.997084938950376, 'insufficient': 4.290459441148391, 'triphosphate': 4.290459441148391, 'production': 2.498699971920336, 'used': 2.681021528714291, 'mechanism': 2.9041650800285006, 'caused': 2.211017899468555, 'glyoxylate': 4.290459441148391, 'destroy': 4.290459441148391, 'pathway': 2.211017899468555, 'initiate': 4.290459441148391, 'all': 1.2459370034249682, 'ultimately': 3.597312260588446, 'apoptosis': 2.344549292093078, 'from': 0.4837969513780714, 'gse': 4.290459441148391, 'p': 2.344549292093078, 'addition': 2.093234863812172, 'bleaching': 5.749529585839124, 'adenosine': 4.290459441148391, 'differentially': 2.093234863812172, 'expressed': 1.457246097092175}, {'be': 0.8564722366632449, 'regulate': 3.597312260588446, 'regulatory': 3.1918471524802814, 'gene': 0.7351113796589775, 'conservation': 3.1918471524802814, 'level': 2.211017899468555, 'also': 2.3988339755801507, 'was': 0.5292593254548287, 'melanopsin': 4.290459441148391, 'nonvisual': 4.290459441148391, 'match': 4.290459441148391, 'levels': 1.7255100836868542, 'confidence': 4.290459441148391, 'strong': 2.681021528714291, 'having': 4.290459441148391, 'with': 0.30147539458411676, 'queried': 4.290459441148391, 'interactions': 2.498699971920336, 'it': 3.7851283367000415, 'signals': 7.194624521176892, 'successful': 3.597312260588446, 'directly': 2.498699971920336, 'analysis': 1.1549652252192415, 'members': 2.211017899468555, 'ensuring': 4.290459441148391, 'high': 1.5178707189086098, 'to': 0.29374939369322545, 'an': 0.8247235383486646, 'all': 1.2459370034249682, 'that': 0.23214434250550806, 'been': 1.3460204619819507, 'removed': 4.290459441148391, 'stimuli': 4.290459441148391, 'have': 2.800175366504453, 'spawn': 4.290459441148391, 'likely': 1.8055527913603908, 'timing': 7.194624521176892, 'whether': 2.681021528714291, 'pathway': 2.211017899468555, 'essential': 2.681021528714291, 'systems': 8.043064586142872, 'environmental': 2.6920409239639014, 'scleractinian': 3.7851283367000415, 'identified': 1.5824092400461809, 'processes': 4.55361215672583, 'networks': 2.9041650800285006, 'continue': 3.597312260588446, 'free': 3.1918471524802814, 'is': 1.2577752907215003, 'more': 1.3460204619819507, 'time': 1.8925641683500207, 'assembled': 2.9041650800285006, 'these': 0.8385168604810003, 'implies': 3.1918471524802814, 'control': 2.344549292093078, 'spawning': 3.597312260588446, 'sequencing': 2.498699971920336, 'rhythms': 7.194624521176892, 'run': 4.290459441148391, 'cyclical': 4.290459441148391, 'entrained': 10.791936781765338, 'via': 3.1918471524802814, 'biological': 2.211017899468555, 'in': 0.08275993279401461, 'broadcast': 3.597312260588446, 'circadian': 17.424990480171004, 'millepora': 1.2947271675944, 'genes': 0.8806236788766649, 'when': 1.8925641683500207, 'by': 1.8472721786371844, 'reproduce': 3.597312260588446, 'are': 1.7612473577533299, 'plants': 4.290459441148391, 'bioinformatic': 4.290459441148391, 'matches': 12.871378323445173, 'many': 1.8055527913603908, 'corals': 0.42584399448534344, 'considerable': 6.383694304960563, 'but': 0.994622575144062, 'reads': 3.1918471524802814, 'for': 0.9236360893185922, 'synchronizing': 4.290459441148391, 'a': 0.1715336435148502, 'we': 0.41925843024050014, 'regulated': 6.383694304960563, 'larval': 2.9041650800285006, 'if': 2.681021528714291, 'detail': 3.597312260588446, 'and': 0.0, 'photoreceptor': 3.597312260588446, 'or': 1.9165098619463745, 'circalunar': 4.290459441148391, 'mrna': 3.1918471524802814, 'genetic': 2.093234863812172, 'the': 0.0, 'of': 0.0, 'studied': 2.681021528714291, 'microbes': 4.290459441148391, 'between': 0.6795415285041667, 'animals': 3.1918471524802814, 'synchronized': 4.290459441148391, 'identify': 2.344549292093078, 'potential': 1.7255100836868542, 'not': 1.032362903126909, 'participants': 4.290459441148391, 'regulating': 3.597312260588446, 'undertaken': 3.1918471524802814, 'larvae': 2.211017899468555, 'transcriptome': 1.8925641683500207, 'coral': 0.1008046991219655, 'acropora': 0.34821651375826207, 'contigs': 3.1918471524802814, 'than': 1.457246097092175, 'known': 1.457246097092175, 'were': 0.7568728714404901, 'fertilization': 3.597312260588446, 'components': 2.344549292093078, 'searched': 3.597312260588446, 'conserved': 2.9041650800285006, 'ncbi': 4.290459441148391, 'blast': 4.290459441148391, 'key': 2.093234863812172, 'from': 0.9675939027561428, 'insect': 4.290459441148391, 'mammalian': 2.9041650800285006, 'found': 1.7255100836868542}, {'energy': 3.597312260588446, 'processes': 1.5178707189086098, 'cellular': 1.5824092400461809, 'dynamics': 3.1918471524802814, 'revealed': 1.8055527913603908, 'gene': 0.7351113796589775, 'sequence': 2.211017899468555, 'lacked': 3.597312260588446, 'which': 1.470222759317955, 'sequences': 2.681021528714291, 'unknown': 2.211017899468555, 'well': 1.8925641683500207, 'symbiodinium': 1.457246097092175, 'presence': 2.681021528714291, 'dominant': 2.498699971920336, 'holobiont': 2.498699971920336, 'analyses': 4.997399943840672, 'taxonomic': 4.290459441148391, 'transcript': 3.1918471524802814, 'showed': 1.4000876832522264, 'sodiumpotassiumtransporting': 4.290459441148391, 'gfplike': 4.290459441148391, 'led': 2.9041650800285006, 'whereas': 2.211017899468555, 'origin': 3.597312260588446, 'photosynthetic': 2.498699971920336, 'is': 0.41925843024050014, 'how': 1.8925641683500207, 'understanding': 1.7255100836868542, 'mortality': 1.8925641683500207, 'increased': 1.5178707189086098, 'growth': 4.689098584186156, 'reefbuilding': 1.7255100836868542, 'identity': 4.290459441148391, 'data': 1.9878743481543455, 'decreased': 2.211017899468555, 'environment': 4.997399943840672, 'networks': 2.9041650800285006, 'affect': 2.9041650800285006, 'fluorescent': 3.1918471524802814, 'symbionts': 1.8925641683500207, 'algal': 6.2797045914365155, 'concentrations': 2.498699971920336, 'reduced': 5.362043057428582, 'activities': 3.597312260588446, 'disclosed': 3.597312260588446, 'human': 4.290459441148391, 'global': 1.5178707189086098, 'concentration': 2.344549292093078, 'chromoprotein': 4.290459441148391, 'and': 0.0, 'changes': 4.2863344651207615, 'degs': 8.580918882296782, 'coral': 0.806437592975724, 'to': 0.29374939369322545, 'as': 2.292296749596689, 'all': 1.2459370034249682, 'transcripts': 2.9041650800285006, 'a': 0.2573004652722753, 'we': 0.41925843024050014, 'endosymbionts': 2.211017899468555, 'include': 2.9041650800285006, 'list': 4.290459441148391, 'provided': 3.597312260588446, 'background': 1.6514021115331325, 'temperatures': 1.5178707189086098, 'critically': 3.597312260588446, 'for': 0.4618180446592961, 'building': 2.9041650800285006, 'differentially': 2.093234863812172, 'bleaching': 0.9582549309731873, 'range': 3.1918471524802814, 'elevated': 1.5824092400461809, 'sublethal': 4.290459441148391, 'expressed': 1.457246097092175, 'requirement': 4.290459441148391, 'early': 1.8055527913603908, 'calcification': 2.211017899468555, 'diseases': 2.344549292093078, 'aspera': 3.1918471524802814, 'exposed': 1.457246097092175, 'responses': 1.2459370034249682, 'nutrient': 8.580918882296782, 'impacts': 2.681021528714291, 'pathways': 1.8055527913603908, 'reef': 1.457246097092175, 'corals': 0.42584399448534344, 'corresponding': 3.1918471524802814, 'on': 0.6268977950187447, 'their': 0.994622575144062, 'result': 5.362043057428582, 'upregulated': 3.7851283367000415, 'that': 0.11607217125275403, 'like': 2.681021528714291, 'reefs': 1.5824092400461809, 'results': 0.706940502692281, 'enriched': 2.344549292093078, 'happening': 4.290459441148391, 'genes': 2.6418710366299947, 'oxidase': 3.597312260588446, 'downregulated': 1.9878743481543455, 'ontology': 3.597312260588446, 'here': 1.457246097092175, 'with': 0.30147539458411676, 'investigated': 2.211017899468555, 'transcriptional': 2.681021528714291, 'expression': 0.5768873744440833, 'hundreds': 4.290459441148391, 'acropora': 0.11607217125275403, 'common': 1.9878743481543455, 'from': 0.4837969513780714, 'shortterm': 2.9041650800285006, 'evaluating': 3.597312260588446, 'thermal': 1.1994169877900753, 'upand': 3.597312260588446, 'c': 2.800175366504453, 'in': 0.06896661066167885, 'm': 2.9041650800285006, 'known': 1.457246097092175, 'stress': 2.2053341389769328, 'rnaseq': 2.211017899468555, 'various': 2.093234863812172, 'atpase': 4.290459441148391, 'cytochrome': 4.290459441148391, 'regimes': 7.194624521176892, 'ammoniumenrichment': 4.290459441148391, 'can': 1.6514021115331325, 'levels': 3.4510201673737084, 'included': 2.211017899468555, 'protein': 1.2459370034249682, 'colonies': 1.5824092400461809, 'important': 1.3460204619819507, 'nadhubiquinone': 4.290459441148391, 'affecting': 4.290459441148391, 'incidence': 3.1918471524802814, 'of': 0.0, 'the': 0.0, 'oxidoreductase': 4.290459441148391}, {'without': 2.9041650800285006, 'be': 0.8564722366632449, 'will': 2.211017899468555, 'it': 1.8925641683500207, 'by': 0.4618180446592961, 'diversified': 4.290459441148391, 'established': 3.1918471524802814, 'functions': 2.681021528714291, 'was': 1.0585186509096574, 'that': 0.11607217125275403, 'suggests': 2.498699971920336, 'this': 0.50626980723013, 'n': 3.1918471524802814, 'fewer': 3.1918471524802814, 'share': 4.290459441148391, 'genomes': 2.681021528714291, 'thus': 2.681021528714291, 'duplication': 3.597312260588446, 'contains': 3.597312260588446, 'likely': 1.8055527913603908, 'opsin': 4.290459441148391, 'each': 3.7851283367000415, 'analyses': 2.498699971920336, 'duplications': 4.290459441148391, 'cryptochrome': 3.597312260588446, 'how': 1.8925641683500207, 'our': 1.2459370034249682, 'to': 0.16785679639612883, 'csnkdcnske': 4.290459441148391, 'period': 4.997399943840672, 'tandem': 5.808330160057001, 'compared': 1.5824092400461809, 'digitifera': 6.633053698405666, 'loss': 2.093234863812172, 'genes': 4.843430233821657, 'coral': 0.5040234956098275, 'seven': 3.1918471524802814, 'in': 0.08275993279401461, 'circadian': 17.424990480171004, 'failed': 4.290459441148391, 'and': 0.0, 'yielded': 4.290459441148391, 'for': 0.9236360893185922, 'sggzw': 4.290459441148391, 'two': 2.4918740068499363, 'little': 2.9041650800285006, 'about': 2.344549292093078, 'behaviors': 7.194624521176892, 'no': 1.8925641683500207, 'three': 3.4510201673737084, 'exhibit': 3.1918471524802814, 'but': 0.994622575144062, 'four': 2.344549292093078, 'more': 1.3460204619819507, 'survey': 3.1918471524802814, 'corals': 0.42584399448534344, 'surveyed': 4.290459441148391, 'is': 0.41925843024050014, 'acropora': 0.11607217125275403, 'photoreceptor': 10.791936781765338, 'or': 0.9582549309731873, 'timeout': 4.290459441148391, 'paralogous': 4.290459441148391, 'common': 1.9878743481543455, 'vectensis': 6.383694304960563, 'using': 1.4000876832522264, 'underlying': 1.9878743481543455, 'regulation': 2.211017899468555, 'than': 1.457246097092175, 'intriguingly': 4.290459441148391, 'nematostella': 3.1918471524802814, 'similar': 2.344549292093078, 'recently': 2.344549292093078, 'orthologous': 3.597312260588446, 'system': 2.9041650800285006, 'bmalcycle': 4.290459441148391, 'dco': 4.290459441148391, 'of': 0.0, 'the': 0.0, 'these': 0.41925843024050014, 'mechanisms': 1.5178707189086098, 'underwent': 4.290459441148391, 'ancestor': 2.9041650800285006, 'we': 1.6770337209620005, 'a': 0.3430672870297004, 'decoded': 4.290459441148391, 'family': 2.211017899468555, 'interesting': 4.290459441148391, 'vrille': 4.290459441148391, 'adcyaplr': 4.290459441148391, 'lineage': 8.580918882296782, 'crebatf': 4.290459441148391, 'homologs': 2.9041650800285006, 'found': 3.4510201673737084, 'repertoire': 3.1918471524802814, 'although': 4.42203579893711, 'drosophila': 2.9041650800285006, 'phylogenetic': 3.1918471524802814, 'one': 14.652644046685204, 'clock': 21.583873563530677, 'ckalpha': 4.290459441148391, 'search': 4.290459441148391, 'mammalian': 2.9041650800285006, 'bhlh': 3.597312260588446, 'grinl': 4.290459441148391, 'determine': 3.1918471524802814, 'anemones': 2.9041650800285006, 'adcyap': 4.290459441148391, 'revervnrd': 4.290459441148391, 'known': 1.457246097092175, 'genome': 2.498699971920336, 'were': 0.7568728714404901, 'timeless': 3.597312260588446, 'spite': 4.290459441148391, 'an': 0.8247235383486646, 'pdplike': 4.290459441148391, 'sea': 5.963623044463036, 'also': 2.3988339755801507, 'orthologs': 7.194624521176892, 'slimbtrc': 4.290459441148391, 'extensive': 3.1918471524802814, 'find': 8.580918882296782, 'molecular': 2.309930450438483, 'did': 1.8925641683500207, 'gene': 1.470222759317955, 'from': 0.4837969513780714, 'vpac': 4.290459441148391, 'addition': 2.093234863812172, 'following': 2.9041650800285006, 'anemone': 7.194624521176892}, {'symbiosis': 1.9878743481543455, 'coralzooxanthellae': 4.290459441148391, 'balance': 4.290459441148391, 'this': 0.50626980723013, 'finetuning': 4.290459441148391, 'level': 2.211017899468555, 'suppressed': 4.290459441148391, 'results': 0.706940502692281, 'our': 1.2459370034249682, 'metabolism': 3.4510201673737084, 'atp': 7.194624521176892, 'nlrclike': 12.871378323445173, 'domaincontaining': 4.290459441148391, 'nucleotidebinding': 3.597312260588446, 'pyd': 4.290459441148391, 'lrr': 3.597312260588446, 'nacht': 3.597312260588446, 'found': 3.4510201673737084, 'groups': 12.767388609921126, 'constructed': 3.597312260588446, 'to': 0.25178519459419324, 'present': 1.8925641683500207, 'obtained': 5.808330160057001, 'generation': 3.597312260588446, 'stress': 3.6755568982948876, 'were': 4.541237228642941, 'severity': 2.9041650800285006, 'estimation': 4.290459441148391, 'assembled': 2.9041650800285006, 'subjected': 3.597312260588446, 'factor': 2.498699971920336, 'lengths': 4.290459441148391, 'disrupt': 3.597312260588446, 'sequencing': 2.498699971920336, 'aculeus': 8.580918882296782, 'overrepresented': 8.580918882296782, 'these': 0.8385168604810003, 'global': 1.5178707189086098, 'fortythree': 4.290459441148391, 'a': 0.3430672870297004, 'go': 12.871378323445173, 'warming': 2.211017899468555, 'which': 2.2053341389769328, 'study': 0.923163611161917, 'for': 1.8472721786371844, 'directly': 2.498699971920336, 'most': 1.3460204619819507, 'four': 4.689098584186156, 'reads': 3.1918471524802814, 'process': 4.186469727624344, 'in': 0.11034657705868615, 'coral': 0.30241409736589653, 'pairedend': 8.580918882296782, 'was': 0.5292593254548287, 'relationship': 3.597312260588446, 'genes': 2.6418710366299947, 'frequency': 2.498699971920336, 'downregulated': 3.975748696308691, 'due': 1.5178707189086098, 'response': 1.6494470766973293, 'acropora': 0.11607217125275403, 'including': 3.0357414378172196, 'platform': 3.597312260588446, 'common': 3.975748696308691, 'is': 0.41925843024050014, 'two': 1.2459370034249682, 'heat': 7.000438416261132, 'signal': 5.362043057428582, 'protein': 11.213433030824714, 'bp': 4.290459441148391, 'category': 7.194624521176892, 'activity': 1.9878743481543455, 'indicate': 1.7255100836868542, 'both': 1.1549652252192415, 'nfkb': 7.194624521176892, 'stony': 3.1918471524802814, 'next': 3.1918471524802814, 'has': 1.3460204619819507, 'increased': 1.5178707189086098, 'included': 2.211017899468555, 'comparison': 3.597312260588446, 'immune': 1.8055527913603908, 'transcriptomes': 3.597312260588446, 'and': 0.0, 'control': 4.689098584186156, 'group': 5.362043057428582, 'between': 0.6795415285041667, 'total': 2.681021528714291, 'the': 0.0, 'of': 0.0, 'turnover': 4.290459441148391, 'with': 0.30147539458411676, 'libraries': 3.597312260588446, 'coralderived': 4.290459441148391, 'sequenced': 5.808330160057001, 'after': 1.2459370034249682, 'read': 4.290459441148391, 'bleaching': 1.9165098619463745, 'differentially': 2.093234863812172, 'abundance': 2.9041650800285006, 'expressed': 1.457246097092175, 'significantly': 4.983748013699873, 'result': 2.681021528714291, 'that': 0.11607217125275403, 'acute': 2.681021528714291, 'upregulated': 3.7851283367000415, 'entire': 3.597312260588446, 'twentythree': 4.290459441148391, 'uncharacterized': 4.290459441148391, 'immunocyte': 4.290459441148391, 'terms': 12.871378323445173, 'might': 2.211017899468555, 'via': 6.383694304960563, 'biological': 4.42203579893711, 'divided': 3.1918471524802814, 'six': 2.9041650800285006, 'mapping': 4.290459441148391, 'according': 4.290459441148391, 'oligomerization': 3.597312260588446, 'related': 3.4510201673737084, 'their': 0.994622575144062, 'remaining': 4.290459441148391, 'domainscontaining': 4.290459441148391, 'relevant': 6.383694304960563, 'ubiquitination': 8.580918882296782, 'pathway': 4.42203579893711, 'pathogen': 2.681021528714291, 'into': 1.2947271675944, 'three': 3.4510201673737084, 'activation': 2.9041650800285006}, {'naturally': 4.290459441148391, 'originally': 3.597312260588446, 'related': 1.7255100836868542, 'be': 0.8564722366632449, 'might': 2.211017899468555, 'being': 2.681021528714291, 'instead': 3.1918471524802814, 'sustain': 4.290459441148391, 'able': 3.597312260588446, 'coral': 0.1008046991219655, 'which': 0.7351113796589775, 'indicates': 2.093234863812172, 'similarity': 3.597312260588446, 'specifically': 4.997399943840672, 'despite': 2.093234863812172, 'colony': 2.681021528714291, 'state': 3.597312260588446, 'altered': 3.1918471524802814, 'suggestive': 4.290459441148391, 'still': 3.597312260588446, 'consequence': 3.1918471524802814, 'samples': 4.186469727624344, 'significantly': 1.2459370034249682, 'not': 1.032362903126909, 'changes': 1.0715836162801904, 'displaying': 3.597312260588446, 'although': 2.211017899468555, 'unaffected': 9.575541457440844, 'metabolic': 2.211017899468555, 'towards': 6.383694304960563, 'different': 1.6514021115331325, 'switch': 4.290459441148391, 'calcification': 2.211017899468555, 'reduced': 2.681021528714291, 'associated': 1.4000876832522264, 'reliance': 4.290459441148391, 'exhibiting': 4.290459441148391, 'healthy': 19.989599775362688, 'performance': 3.597312260588446, 'here': 1.457246097092175, 'to': 0.16785679639612883, 'against': 2.9041650800285006, 'conclusions': 2.211017899468555, 'followed': 2.9041650800285006, 'acropora': 0.11607217125275403, 'in': 0.041379966397007306, 'group': 2.681021528714291, 'compared': 1.5824092400461809, 'from': 1.4513908541342142, 'profiles': 2.344549292093078, 'implies': 3.1918471524802814, 'stored': 4.290459441148391, 'expression': 0.5768873744440833, 'is': 0.41925843024050014, 'at': 0.923163611161917, 'we': 0.41925843024050014, 'a': 0.3430672870297004, 'poorly': 2.9041650800285006, 'remain': 2.211017899468555, 'such': 1.7255100836868542, 'its': 1.6514021115331325, 'largely': 2.211017899468555, 'tagbased': 4.290459441148391, 'stressors': 1.9878743481543455, 'differentially': 2.093234863812172, 'systemic': 4.290459441148391, 'analysis': 2.309930450438483, 'occurring': 3.597312260588446, 'between': 1.3590830570083334, 'defenses': 4.290459441148391, 'site': 3.1918471524802814, 'upregulated': 3.7851283367000415, 'that': 0.34821651375826207, 'hyacinthus': 7.194624521176892, 'accompanied': 3.597312260588446, 'diverse': 2.681021528714291, 'trend': 3.597312260588446, 'collected': 2.498699971920336, 'palau': 4.290459441148391, 'immunity': 3.302804223066265, 'gene': 1.470222759317955, 'groups': 3.1918471524802814, 'effects': 3.1648184800923618, 'natural': 2.9041650800285006, 'of': 0.0, 'the': 0.0, 'eight': 5.808330160057001, 'types': 2.344549292093078, 'coexpression': 2.9041650800285006, 'identified': 3.1648184800923618, 'commonly': 4.290459441148391, 'capable': 3.1918471524802814, 'corals': 0.42584399448534344, 'launching': 4.290459441148391, 'colonywide': 4.290459441148391, 'tissue': 4.186469727624344, 'but': 0.994622575144062, 'lipids': 4.290459441148391, 'molecular': 1.1549652252192415, 'syndromes': 12.871378323445173, 'higher': 1.8925641683500207, 'mechanisms': 1.5178707189086098, 'are': 0.8806236788766649, 'background': 1.6514021115331325, 'with': 0.6029507891682335, 'understood': 2.498699971920336, 'contact': 3.597312260588446, 'indicate': 1.7255100836868542, 'activity': 1.9878743481543455, 'immune': 1.8055527913603908, 'and': 0.0, 'white': 7.033647876279234, 'all': 2.4918740068499363, 'pathogens': 3.1918471524802814, 'environment': 2.498699971920336, 'on': 1.2537955900374893, 'near': 3.1918471524802814, 'tissues': 8.043064586142872, 'two': 1.2459370034249682, 'were': 1.1353093071607352, 'sampled': 3.597312260588446, 'this': 0.50626980723013, 'diseased': 18.767150701000038, 'visibly': 4.290459441148391, 'repair': 3.1918471524802814, 'colonies': 12.659273920369447, 'apparently': 10.791936781765338, 'weak': 4.290459441148391, 'results': 0.706940502692281, 'affected': 3.1918471524802814, 'rnaseq': 2.211017899468555, 'by': 0.9236360893185922, 'weighted': 4.290459441148391, 'network': 6.383694304960563, 'coregulated': 4.290459441148391, 'expressed': 1.457246097092175, 'loss': 2.093234863812172, 'genes': 1.3209355183149973, 'health': 2.681021528714291, 'states': 3.597312260588446, 'lesion': 3.597312260588446, 'susceptibility': 3.597312260588446, 'fully': 12.871378323445173, 'parts': 17.161837764593564, 'direct': 2.9041650800285006, 'differences': 2.093234863812172, 'activation': 2.9041650800285006, 'physiological': 1.9878743481543455, 'disease': 5.176530251060562, 'several': 1.9878743481543455, 'these': 0.8385168604810003, 'innate': 2.211017899468555, 'reef': 1.457246097092175, 'pathways': 1.8055527913603908}, {'stressors': 1.9878743481543455, 'reduce': 4.290459441148391, 'if': 2.681021528714291, 'future': 2.093234863812172, 'for': 0.4618180446592961, 'hope': 4.290459441148391, 'suggest': 1.5824092400461809, 'findings': 2.211017899468555, 'these': 0.41925843024050014, 'changes': 1.0715836162801904, 'which': 0.7351113796589775, 'immunity': 1.6514021115331325, 'elevated': 1.5824092400461809, 'specific': 1.8055527913603908, 'is': 0.41925843024050014, 'there': 2.498699971920336, 'however': 1.2459370034249682, 'processing': 3.597312260588446, 'biosynthetic': 3.597312260588446, 'including': 1.5178707189086098, 'biological': 2.211017899468555, 'anthropogenic': 3.1918471524802814, 'with': 1.205901578336467, 'involved': 1.2459370034249682, 'months': 2.9041650800285006, 'four': 2.344549292093078, 'exception': 4.290459441148391, 'respond': 2.9041650800285006, 'polyunsaturated': 4.290459441148391, 'lipid': 2.9041650800285006, 'populations': 2.681021528714291, 'environmental': 2.6920409239639014, 'native': 4.290459441148391, 'investigate': 2.9041650800285006, 'exposed': 2.91449219418435, 'corals': 0.42584399448534344, 'acropora': 0.11607217125275403, 'ge': 8.580918882296782, 'inshore': 3.597312260588446, 'source': 10.791936781765338, 'health': 5.362043057428582, 'classes': 4.290459441148391, 'expression': 1.1537747488881667, 'fragments': 9.994799887681344, 'influence': 3.1918471524802814, 'fatty': 6.383694304960563, 'and': 0.0, 'composition': 7.194624521176892, 'novel': 2.211017899468555, 'genes': 1.7612473577533299, 'in': 0.11034657705868615, 'physiological': 1.9878743481543455, 'acid': 1.9878743481543455, 'biochemical': 4.290459441148391, 'from': 0.4837969513780714, 'to': 0.25178519459419324, 'all': 1.2459370034249682, 'regardless': 4.290459441148391, 'gene': 1.470222759317955, 'one': 2.093234863812172, 'global': 1.5178707189086098, 'cellular': 3.1648184800923618, 'coral': 0.30241409736589653, 'quantified': 2.9041650800285006, 'ribosome': 10.791936781765338, 'identical': 4.290459441148391, 'multiple': 2.498699971920336, 'colony': 5.362043057428582, 'processes': 1.5178707189086098, 'we': 0.41925843024050014, 'study': 0.923163611161917, 'translation': 8.580918882296782, 'were': 1.1353093071607352, 'shortchain': 4.290459441148391, 'detected': 2.211017899468555, 'c': 1.4000876832522264, 'profiles': 2.344549292093078, 'acids': 2.9041650800285006, 'pufa': 4.290459441148391, 'decreased': 2.211017899468555, 'concentration': 2.344549292093078, 'lower': 2.211017899468555, 'major': 2.498699971920336, 'regimes': 3.597312260588446, 'attributes': 4.290459441148391, 'water': 5.808330160057001, 'quality': 8.580918882296782, 'their': 0.994622575144062, 'of': 0.0, 'the': 0.0, 'population': 4.997399943840672, 'a': 0.1715336435148502, 'strong': 5.362043057428582, 'effect': 5.808330160057001, 'surviving': 3.597312260588446, 'when': 1.8925641683500207, 'biogenesis': 8.580918882296782, 'functions': 2.681021528714291, 'was': 1.0585186509096574, 'fa': 17.161837764593564, 'tenuis': 2.344549292093078, 'enriched': 2.344549292093078, 'associated': 1.4000876832522264, 'components': 2.344549292093078, 'after': 1.2459370034249682, 'cluster': 3.1918471524802814, 'coexpressed': 4.290459441148391, 'positively': 3.1918471524802814, 'correlated': 3.1918471524802814, 'individual': 2.9041650800285006, 'contrast': 2.498699971920336, 'basic': 3.1918471524802814, 'can': 3.302804223066265, 'included': 2.211017899468555, 'variation': 2.211017899468555, 'developmental': 2.681021528714291, 'defining': 3.597312260588446, 'pathways': 1.8055527913603908, 'conditions': 1.3460204619819507, 'this': 0.50626980723013, 'two': 1.2459370034249682, 'demonstrates': 3.597312260588446, 'plasticity': 7.194624521176892, 'relating': 7.194624521176892}, {'play': 2.681021528714291, 'frequently': 4.290459441148391, 'physiological': 1.9878743481543455, 'maintain': 3.597312260588446, 'may': 2.064725806253818, 'communities': 2.344549292093078, 'we': 0.41925843024050014, 'a': 0.2573004652722753, 'this': 0.50626980723013, 'conditions': 1.3460204619819507, 'environmental': 2.6920409239639014, 'role': 1.6514021115331325, 'c': 2.800175366504453, 'corals': 1.0646099862133587, 'phosphoenolpyruvate': 4.290459441148391, 'experience': 3.597312260588446, 'tolerance': 2.093234863812172, 'decrease': 1.9878743481543455, 'to': 0.20982099549516103, 'our': 1.2459370034249682, 'japan': 3.597312260588446, 'capacity': 3.1918471524802814, 'carboxykinase': 4.290459441148391, 'kochi': 8.580918882296782, 'changing': 2.9041650800285006, 'fluctuations': 3.1918471524802814, 'that': 0.4642886850110161, 'otsuki': 8.580918882296782, 'and': 0.0, 'resilience': 2.9041650800285006, 'seasons': 3.597312260588446, 'with': 0.30147539458411676, 'health': 5.362043057428582, 'climate': 1.8925641683500207, 'here': 1.457246097092175, 'observations': 3.597312260588446, 'has': 1.3460204619819507, 'temperature': 1.2947271675944, 'of': 0.0, 'the': 0.0, 'muricata': 8.580918882296782, 'decline': 2.498699971920336, 'not': 1.032362903126909, 'notable': 4.290459441148391, 'describe': 2.681021528714291, 'resulted': 2.9041650800285006, 'in': 0.1379332213233577, 'global': 1.5178707189086098, 'coral': 0.30241409736589653, 'objective': 4.290459441148391, 'large': 2.681021528714291, 'between': 0.6795415285041667, 'any': 2.093234863812172, 'condition': 3.1918471524802814, 'due': 1.5178707189086098, 'various': 2.093234863812172, 'reefs': 1.5824092400461809, 'encountered': 3.597312260588446, 'worldwide': 2.344549292093078, 'hand': 3.597312260588446, 'opposing': 3.597312260588446, 'cold': 8.580918882296782, 'profiles': 2.344549292093078, 'season': 4.290459441148391, 'during': 3.7378110102749043, 'expression': 0.5768873744440833, 'change': 4.371738291276525, 'collected': 12.49349985960168, 'most': 1.3460204619819507, 'acropora': 0.11607217125275403, 'summer': 10.791936781765338, 'nubbins': 3.597312260588446, 'kinase': 3.1918471524802814, 'showed': 4.200263049756679, 'cellular': 1.5824092400461809, 'no': 1.8925641683500207, 'samples': 2.093234863812172, 'photochemical': 7.194624521176892, 'upregulation': 4.42203579893711, 'efficiency': 2.9041650800285006, 'cope': 3.597312260588446, 'while': 3.302804223066265, 'from': 0.4837969513780714, 'results': 0.706940502692281, 'when': 3.7851283367000415, 'exposed': 1.457246097092175, 'thermal': 4.797667951160301, 'define': 3.597312260588446, 'or': 0.9582549309731873, 'were': 1.1353093071607352, 'stress': 5.1457796576128425, 'subjected': 3.597312260588446, 'winter': 17.161837764593564, 'under': 4.200263049756679, 'actinrelated': 4.290459441148391, 'protein': 2.4918740068499363, 'serinethreonine': 4.290459441148391, 'did': 1.8925641683500207, 'temperaturederived': 4.290459441148391, 'show': 2.498699971920336, 'expressed': 1.457246097092175, 'on': 0.6268977950187447, 'an': 0.8247235383486646, 'other': 1.032362903126909, 'differential': 2.093234863812172, 'was': 0.5292593254548287, 'genes': 0.44031183943833246, 'suggest': 1.5824092400461809}, {'condition': 3.1918471524802814, 'experimental': 3.597312260588446, 'species': 1.3460204619819507, 'pocillopora': 3.597312260588446, 'examined': 2.093234863812172, 'pcr': 2.211017899468555, 'analyzing': 4.290459441148391, 'accurately': 8.580918882296782, 'a': 0.0857668217574251, 'reference': 17.98656130294223, 'qpcr': 2.9041650800285006, 'stressresponsive': 3.1918471524802814, 'that': 0.23214434250550806, 'damicornis': 7.194624521176892, 'by': 0.4618180446592961, 'heat': 1.4000876832522264, 'its': 1.6514021115331325, 'to': 0.04196419909903221, 'as': 0.7640989165322297, 'our': 1.2459370034249682, 'thus': 2.681021528714291, 'environment': 4.997399943840672, 'surrounding': 3.1918471524802814, 'genorm': 4.290459441148391, 'under': 1.4000876832522264, 'we': 2.096292151202501, 'study': 0.923163611161917, 'tbp': 12.871378323445173, 'for': 2.7709082679557766, 'investigating': 3.597312260588446, 'reef': 1.457246097092175, 'biomarkers': 3.1918471524802814, 'genes': 3.5224947155066597, 'adapts': 4.290459441148391, 'digitata': 8.580918882296782, 'methods': 3.597312260588446, 'each': 5.677692505050063, 'montipora': 3.597312260588446, 'realtime': 2.344549292093078, 'can': 1.6514021115331325, 'most': 2.6920409239639014, 'shock': 1.9878743481543455, 'coral': 0.403218796487862, 'additionally': 2.9041650800285006, 'factor': 2.498699971920336, 'suggested': 2.9041650800285006, 'is': 0.41925843024050014, 'protein': 2.4918740068499363, 'p': 2.344549292093078, 'rrna': 3.597312260588446, 'it': 1.8925641683500207, 'gene': 2.2053341389769328, 'these': 0.41925843024050014, 'evaluating': 3.597312260588446, 'box': 4.290459441148391, 'expected': 2.498699971920336, 'thermal': 1.1994169877900753, 'expression': 1.1537747488881667, 'acropora': 0.11607217125275403, 'serve': 2.9041650800285006, 'nasuta': 7.194624521176892, 'employed': 4.290459441148391, 'was': 0.5292593254548287, 'analytical': 4.290459441148391, 'and': 0.0, 'normfinder': 4.290459441148391, 'using': 2.800175366504453, 'expressing': 4.290459441148391, 'including': 1.5178707189086098, 'verified': 3.597312260588446, 'ct': 4.290459441148391, 'collectively': 4.290459441148391, 'bestkeeper': 4.290459441148391, 'quantitative': 2.093234863812172, 'searched': 3.597312260588446, 'evaluated': 3.1918471524802814, 'hsp': 2.681021528714291, 'elongation': 4.290459441148391, 'alpha': 4.290459441148391, 'efa': 12.871378323445173, 'family': 2.211017899468555, 'betatubulin': 4.290459441148391, 's': 5.362043057428582, 'tubb': 8.580918882296782, 'betaactin': 4.290459441148391, 'actb': 4.290459441148391, 'appropriate': 12.871378323445173, 'helpful': 3.597312260588446, 'tata': 4.290459441148391, 'binding': 2.9041650800285006, 'in': 0.01379332213233577, 'm': 2.9041650800285006, 'stable': 5.808330160057001, 'the': 0.0, 'of': 0.0, 'quantified': 2.9041650800285006, 'this': 0.50626980723013, 'conditions': 1.3460204619819507, 'recommend': 4.290459441148391, 'were': 0.7568728714404901, 'stress': 0.7351113796589775}, {'potential': 1.7255100836868542, 'these': 0.41925843024050014, 'once': 4.290459441148391, 'exhibited': 2.093234863812172, 'coexpression': 2.9041650800285006, 'also': 1.1994169877900753, 'refined': 4.290459441148391, 'etc': 3.597312260588446, 'mitochondrion': 4.290459441148391, 'metabolic': 2.211017899468555, 'several': 1.9878743481543455, 'demonstrated': 2.498699971920336, 'for': 0.9236360893185922, 'prevention': 4.290459441148391, 'activity': 1.9878743481543455, 'functional': 4.997399943840672, 'post': 4.290459441148391, 'expressed': 1.457246097092175, 'dataset': 4.290459441148391, 'established': 3.1918471524802814, 'mrnas': 8.580918882296782, 'including': 1.5178707189086098, 'our': 1.2459370034249682, 'network': 6.383694304960563, 'targets': 4.290459441148391, 'complex': 4.997399943840672, 'stepwise': 4.290459441148391, 'biological': 2.211017899468555, 'via': 6.383694304960563, 'additionally': 2.9041650800285006, 'six': 2.9041650800285006, 'lncrnas': 21.452297205741957, 'retention': 4.290459441148391, 'intron': 4.290459441148391, 'kinase': 3.1918471524802814, 'showed': 1.4000876832522264, 'splicing': 3.597312260588446, 'proportion': 4.290459441148391, 'generated': 3.1918471524802814, 'lncrnasmrnas': 8.580918882296782, 'h': 3.6111055827207816, 'larvae': 2.211017899468555, 'symbiodiniuminfected': 4.290459441148391, 'processes': 1.5178707189086098, 'identified': 1.5824092400461809, 'were': 1.8921821786012252, 'isoforms': 10.791936781765338, 'novel': 4.42203579893711, 'between': 0.6795415285041667, 'analysis': 3.4648956756577247, 'implying': 3.597312260588446, 'main': 3.597312260588446, 'as': 0.7640989165322297, 'to': 0.33571359279225765, 'transcripts': 8.712495240085502, 'a': 0.7719013958168259, 'well': 3.7851283367000415, 'been': 2.6920409239639014, 'marine': 1.9878743481543455, 'cause': 2.344549292093078, 'terrestrial': 4.290459441148391, 'highconfidence': 4.290459441148391, 'fact': 4.290459441148391, 'due': 1.5178707189086098, 'breakdown': 2.498699971920336, 'by': 0.4618180446592961, 'pathways': 3.6111055827207816, 'highest': 3.597312260588446, 'reftranscriptomev': 4.290459441148391, 'good': 4.290459441148391, 'identification': 2.498699971920336, 'which': 0.7351113796589775, 'based': 4.689098584186156, 'revealed': 1.8055527913603908, 'regulation': 2.211017899468555, 'protein': 1.2459370034249682, 'specific': 1.8055527913603908, 'important': 1.3460204619819507, 'now': 2.681021528714291, 'lncrnascoexpressed': 4.290459441148391, 'elucidated': 3.597312260588446, 'predominated': 4.290459441148391, 'relevant': 3.1918471524802814, 'devastation': 4.290459441148391, 'be': 0.8564722366632449, 'related': 3.4510201673737084, 'molecular': 1.1549652252192415, 'plays': 2.9041650800285006, 'being': 2.681021528714291, 'this': 0.50626980723013, 'ecosystem': 3.597312260588446, 'studied': 2.681021528714291, 'reefs': 3.1648184800923618, 'validated': 4.290459441148391, 'construction': 4.290459441148391, 'stability': 4.290459441148391, 'results': 1.413881005384562, 'filtering': 4.290459441148391, 'of': 0.0, 'massive': 3.597312260588446, 'the': 0.0, 'critically': 3.597312260588446, 'background': 1.6514021115331325, 'are': 0.44031183943833246, 'coral': 0.7056328938537585, 'accelerating': 4.290459441148391, 'crucial': 4.290459441148391, 'on': 1.2537955900374893, 'surrounding': 3.1918471524802814, 'pipeline': 4.290459441148391, 'changes': 1.0715836162801904, 'with': 0.30147539458411676, 'but': 0.994622575144062, 'undergoing': 4.290459441148391, 'not': 2.064725806253818, 'establishment': 3.1918471524802814, 'rnasequencing': 3.597312260588446, 'and': 0.0, 'ribosome': 3.597312260588446, 'those': 1.8055527913603908, 'v': 2.9041650800285006, 'symbiosis': 3.975748696308691, 'at': 1.846327222323834, 'is': 0.41925843024050014, 'environments': 2.681021528714291, 'predicted': 4.186469727624344, 'however': 2.4918740068499363, 'role': 1.6514021115331325, 'in': 0.11034657705868615, 'could': 1.9878743481543455, 'alternative': 8.580918882296782, 'maintaining': 4.290459441148391, 'study': 2.769490833485751, 'investigate': 2.9041650800285006, 'survival': 2.498699971920336, 'performed': 3.1918471524802814, 'cellular': 1.5824092400461809, 'global': 1.5178707189086098, 'mechanisms': 1.5178707189086098, 'yet': 2.498699971920336, 'have': 1.4000876832522264, 'that': 0.4642886850110161, 'deep': 3.597312260588446, 'has': 2.6920409239639014, 'data': 1.9878743481543455, 'directly': 2.498699971920336, 'zooxanthellae': 4.997399943840672, 'derived': 3.1918471524802814, 'stringent': 4.290459441148391, 'from': 0.4837969513780714, 'treatment': 2.093234863812172, 'deeply': 4.290459441148391, 'disclosed': 3.597312260588446, 'compared': 1.5824092400461809, 'only': 1.9878743481543455, 'statuses': 4.290459441148391, 'mohamed': 4.290459441148391, 'among': 1.9878743481543455, 'r': 3.597312260588446, 'differentially': 4.186469727624344, 'bleaching': 2.874764792919562, 'et': 3.1918471524802814, 'lncrnamediated': 4.290459441148391, 'all': 1.2459370034249682, 'al': 3.1918471524802814, 'an': 0.8247235383486646, 'response': 1.6494470766973293, 'integrated': 3.597312260588446, 'clustering': 3.597312260588446, 'dinoflagellate': 4.186469727624344, 'transcriptome': 7.570256673400083, 'was': 0.5292593254548287, 'conclusions': 2.211017899468555, 'acropora': 0.11607217125275403, 'digitifera': 8.84407159787422, 'infection': 8.712495240085502, 'genus': 2.344549292093078, 'symbiodinium': 2.91449219418435, 'enriched': 2.344549292093078, 'assembly': 3.597312260588446, 'numerous': 3.597312260588446}, {'stressor': 3.597312260588446, 'into': 1.2947271675944, 'gain': 4.290459441148391, 'interindividual': 4.290459441148391, 'emphasise': 4.290459441148391, 'during': 1.2459370034249682, 'fe': 4.290459441148391, 'down': 4.290459441148391, 'break': 4.290459441148391, 'respectively': 2.498699971920336, 'roles': 2.211017899468555, 'potential': 1.7255100836868542, 'time': 1.8925641683500207, 'point': 3.1918471524802814, 'abundance': 2.9041650800285006, 'transcript': 3.1918471524802814, 'intercolony': 4.290459441148391, 'intraas': 4.290459441148391, 'enormous': 4.290459441148391, 'an': 1.6494470766973293, 'at': 0.923163611161917, 'is': 0.41925843024050014, 'there': 2.498699971920336, 'that': 0.11607217125275403, 'increasingly': 3.597312260588446, 'results': 1.413881005384562, 'nonstressed': 4.290459441148391, 'stressed': 4.290459441148391, 'thermally': 3.597312260588446, 'those': 1.8055527913603908, 'to': 0.41964199099032207, 'our': 4.983748013699873, 'a': 0.3430672870297004, 'variation': 4.42203579893711, 'exposure': 3.7851283367000415, 'host': 2.800175366504453, 'discuss': 3.597312260588446, 'relative': 2.681021528714291, 'coral': 0.5040234956098275, 'expression': 1.1537747488881667, 'transcriptional': 2.681021528714291, 'between': 0.6795415285041667, 'analysis': 1.1549652252192415, 'symbiosis': 1.9878743481543455, 'zooxanthellae': 2.498699971920336, 'environmental': 1.3460204619819507, 'reaction': 2.9041650800285006, 'obligate': 3.1918471524802814, 'process': 2.093234863812172, 'and': 0.0, 'formation': 2.498699971920336, 'intracellular': 5.808330160057001, 'limit': 4.290459441148391, 'well': 1.8925641683500207, 'involved': 1.2459370034249682, 'measuring': 3.597312260588446, 'applications': 4.290459441148391, 'antioxidant': 2.344549292093078, 'dinoflagellate': 2.093234863812172, 'pushed': 4.290459441148391, 'corals': 0.6387659917280152, 'molecular': 1.1549652252192415, 'conditions': 1.3460204619819507, 'few': 3.1918471524802814, 'detachment': 4.290459441148391, 'decades': 3.597312260588446, 'cell': 2.093234863812172, 'thermal': 3.598250963370226, 'last': 3.1918471524802814, 'change': 1.457246097092175, 'oxygen': 2.9041650800285006, 'intermediates': 3.597312260588446, 'lead': 2.211017899468555, 'common': 1.9878743481543455, 'insight': 2.9041650800285006, 'using': 1.4000876832522264, 'harmful': 3.597312260588446, 'have': 2.800175366504453, 'their': 1.989245150288124, 'recently': 2.344549292093078, 'endosymbionts': 2.211017899468555, 'acropora': 0.11607217125275403, 'upper': 4.290459441148391, 'majority': 3.1918471524802814, 'in': 0.11034657705868615, 'population': 2.498699971920336, 'of': 0.0, 'effects': 1.5824092400461809, 'the': 0.0, 'upon': 2.681021528714291, 'particular': 2.681021528714291, 'developed': 3.597312260588446, 'realtime': 2.344549292093078, 'can': 1.6514021115331325, 'levels': 1.7255100836868542, 'zn': 8.580918882296782, 'close': 3.597312260588446, 'quantitative': 2.093234863812172, 'known': 1.457246097092175, 'stress': 2.2053341389769328, 'bleaching': 1.9165098619463745, 'techniques': 3.597312260588446, 'homeostasis': 2.9041650800285006, 'climate': 1.8925641683500207, 'cnidarian': 2.9041650800285006, 'reef': 1.457246097092175, 'research': 4.290459441148391, 'as': 1.5281978330644594, 'mnsod': 3.597312260588446, 'enhanced': 2.9041650800285006, 'metalloprotease': 8.580918882296782, 'polymerase': 3.1918471524802814, 'magnitude': 4.290459441148391, 'various': 2.093234863812172, 'first': 2.093234863812172, 'importance': 2.9041650800285006, 'stressors': 1.9878743481543455, 'present': 1.8925641683500207, 'we': 0.8385168604810003, 'study': 1.846327222323834, 'show': 2.498699971920336, 'assay': 3.1918471524802814, 'samples': 4.186469727624344, 'assess': 4.290459441148391, 'millepora': 1.2947271675944, 'genes': 0.8806236788766649, 'oxidative': 1.8925641683500207, 'gene': 0.7351113796589775, 'understanding': 1.7255100836868542, 'hsp': 2.681021528714291, 'over': 2.093234863812172, 'chain': 2.9041650800285006, 'provides': 2.9041650800285006, 'encountered': 3.597312260588446, 'ferritin': 8.580918882296782, 'upregulation': 2.211017899468555, 'disruption': 3.597312260588446, 'after': 1.2459370034249682, 'laboratorycontrolled': 4.290459441148391, 'indopacific': 4.290459441148391, 'populationscale': 4.290459441148391, 'response': 2.4741706150459937, 'despite': 2.093234863812172, 'reefbuilding': 1.7255100836868542, 'significant': 1.8055527913603908}, {'signs': 3.1918471524802814, 'prodromal': 4.290459441148391, 'in': 0.01379332213233577, 'helpful': 3.597312260588446, 'pursuit': 4.290459441148391, 'avenue': 4.290459441148391, 'could': 1.9878743481543455, 'will': 2.211017899468555, 'outbreaks': 2.498699971920336, 'shift': 2.9041650800285006, 'microbial': 3.1918471524802814, 'whether': 2.681021528714291, 'determining': 3.597312260588446, 'normal': 2.9041650800285006, 'tissues': 2.681021528714291, 'unaffected': 3.1918471524802814, 'cultured': 4.290459441148391, 'amongst': 4.290459441148391, 'prevalent': 4.290459441148391, 'was': 0.5292593254548287, 'slurries': 4.290459441148391, 'both': 1.1549652252192415, 'cultureindependent': 3.597312260588446, 'further': 2.211017899468555, 'partitioning': 4.290459441148391, 'be': 2.569416709989735, 'with': 0.9044261837523503, 'lesions': 6.383694304960563, 'were': 1.8921821786012252, 'around': 2.9041650800285006, 'is': 0.41925843024050014, 'more': 1.3460204619819507, 'samples': 2.093234863812172, 'disease': 3.4510201673737084, 'several': 1.9878743481543455, 'occurs': 2.9041650800285006, 'american': 4.290459441148391, 'associated': 2.800175366504453, 'culturedependent': 4.290459441148391, 'spp': 2.344549292093078, 'white': 4.689098584186156, 'by': 1.8472721786371844, 'characterized': 9.575541457440844, 'rapid': 3.597312260588446, 'coral': 0.403218796487862, 'multilocus': 4.290459441148391, 'aws': 17.161837764593564, 'reports': 3.597312260588446, 'vibrionaceae': 4.290459441148391, 'between': 0.6795415285041667, 'respectively': 2.498699971920336, 'healthy': 7.4960999157610075, 'than': 2.91449219418435, 'tissue': 6.2797045914365155, 'seawater': 1.8925641683500207, 'culturable': 4.290459441148391, 'agents': 3.597312260588446, 'revealing': 8.580918882296782, 'prior': 7.194624521176892, 'syndrome': 3.597312260588446, 'skeleton': 3.597312260588446, 'showed': 1.4000876832522264, 'methods': 3.597312260588446, 'of': 0.0, 'the': 0.0, 'acropora': 0.23214434250550806, 'manifestation': 4.290459441148391, 'bacteria': 2.498699971920336, 'others': 3.597312260588446, 'corals': 1.2775319834560304, 'whilst': 3.597312260588446, 'mucus': 7.194624521176892, 'using': 1.4000876832522264, 'useful': 2.9041650800285006, 'revealed': 1.8055527913603908, 'worldwide': 2.344549292093078, 'different': 1.6514021115331325, 'underlying': 1.9878743481543455, 'affects': 3.597312260588446, 'and': 0.0, 'recently': 2.344549292093078, 'similar': 2.344549292093078, 'bacterial': 4.186469727624344, 'detecting': 4.290459441148391, 'genera': 3.597312260588446, 'microbiota': 2.9041650800285006, 's': 5.362043057428582, 'a': 0.4288341087871255, 'from': 3.3865786596464997, 'rrna': 7.194624521176892, 'isolates': 12.871378323445173, 'however': 1.2459370034249682, 'found': 3.4510201673737084, 'gene': 0.7351113796589775, 'clone': 8.580918882296782, 'identified': 1.5824092400461809, 'samoa': 4.290459441148391, 'libraries': 7.194624521176892, 'sequence': 2.211017899468555, 'collected': 2.498699971920336, 'derived': 3.1918471524802814, 'dominated': 4.290459441148391, 'gammaproteobacteria': 4.290459441148391, 'diseased': 8.043064586142872, 'jaccards': 4.290459441148391, 'distances': 4.290459441148391, 'calculated': 4.290459441148391, 'that': 0.23214434250550806, 'species': 1.3460204619819507, 'into': 1.2947271675944, 'causal': 4.290459441148391, 'those': 3.6111055827207816, 'had': 1.7255100836868542, 'distinct': 2.681021528714291, 'to': 0.20982099549516103, 'conflicting': 4.290459441148391, 'as': 1.5281978330644594, 'each': 1.8925641683500207, 'other': 1.032362903126909, 'loss': 2.093234863812172, 'genes': 0.44031183943833246, 'also': 1.1994169877900753, 'typing': 4.290459441148391, 'vibrio': 8.712495240085502, 'are': 0.44031183943833246, 'described': 4.290459441148391, 'owensii': 4.290459441148391}, {'heavy': 4.290459441148391, 'consequences': 3.597312260588446, 'likely': 1.8055527913603908, 'insights': 2.681021528714291, 'provides': 2.9041650800285006, 'is': 0.41925843024050014, 'this': 0.50626980723013, 'represent': 3.597312260588446, 'metabolism': 1.7255100836868542, 'amino': 2.498699971920336, 'while': 1.6514021115331325, 'damage': 2.498699971920336, 'mitigation': 4.290459441148391, 'upregulation': 4.42203579893711, 'environmental': 1.3460204619819507, 'stressors': 1.9878743481543455, 'general': 2.498699971920336, 'important': 1.3460204619819507, 'comprehensive': 3.597312260588446, 'specific': 3.6111055827207816, 'common': 1.9878743481543455, 'involvement': 3.1918471524802814, 'revealed': 1.8055527913603908, 'macromolecular': 4.290459441148391, 'analysis': 2.309930450438483, 'gene': 0.7351113796589775, 'differential': 2.093234863812172, 'under': 1.4000876832522264, 'runoff': 8.580918882296782, 'cover': 2.681021528714291, 'limited': 3.1918471524802814, 'in': 0.12413989919102192, 'future': 2.093234863812172, 'expression': 1.1537747488881667, 'marine': 1.9878743481543455, 'coral': 0.6048281947317931, 'involve': 4.290459441148391, 'during': 1.2459370034249682, 'stages': 2.498699971920336, 'conclusions': 2.211017899468555, 'dropping': 4.290459441148391, 'acropora': 0.23214434250550806, 'which': 0.7351113796589775, 'low': 10.724086114857164, 'severity': 2.9041650800285006, 'reef': 1.457246097092175, 'barrier': 3.1918471524802814, 'psu': 4.290459441148391, 'salinity': 28.778498084707568, 'to': 0.5035703891883865, 'into': 1.2947271675944, 'reefs': 3.1648184800923618, 'results': 0.706940502692281, 'on': 2.5075911800749786, 'predicted': 2.093234863812172, 'both': 2.309930450438483, 'but': 0.994622575144062, 'great': 3.1918471524802814, 'that': 0.11607217125275403, 'acute': 2.681021528714291, 'these': 0.8385168604810003, 'and': 0.0, 'events': 11.616660320114002, 'far': 3.597312260588446, 'corals': 0.42584399448534344, 'proteolysis': 3.597312260588446, 'due': 1.5178707189086098, 'response': 4.123617691743323, 'correlate': 4.290459441148391, 'have': 4.200263049756679, 'frequency': 2.498699971920336, 'first': 2.093234863812172, 'are': 0.44031183943833246, 'background': 1.6514021115331325, 'change': 1.457246097092175, 'major': 2.498699971920336, 'involved': 3.7378110102749043, 'transcriptomic': 4.689098584186156, 'increase': 1.8055527913603908, 'understand': 1.9878743481543455, 'seasons': 3.597312260588446, 'fluctuations': 3.1918471524802814, 'gbr': 3.597312260588446, 'better': 3.597312260588446, 'mortality': 1.8925641683500207, 'summer': 3.597312260588446, 'transport': 4.689098584186156, 'bleaching': 0.9582549309731873, 'scenarios': 4.290459441148391, 'invertebrates': 2.681021528714291, 'with': 0.30147539458411676, 'investigated': 2.211017899468555, 'mechanisms': 1.5178707189086098, 'exposure': 3.7851283367000415, 'causes': 2.344549292093078, 'study': 0.923163611161917, 'we': 0.41925843024050014, 'increased': 1.5178707189086098, 'climate': 1.8925641683500207, 'prolonged': 4.290459441148391, 'effects': 1.5824092400461809, 'the': 0.0, 'attention': 4.290459441148391, 'of': 0.0, 'impacts': 2.681021528714291, 'responses': 2.4918740068499363, 'changes': 1.0715836162801904, 'occur': 2.344549292093078, 'more': 1.3460204619819507, 'oxidative': 3.7851283367000415, 'stress': 2.94044551863591, 'membrane': 3.597312260588446, 'included': 2.211017899468555, 'can': 4.954206334599398, 'so': 4.290459441148391, 'declines': 3.1918471524802814, 'rainfall': 8.580918882296782, 'received': 4.290459441148391, 'only': 1.9878743481543455, 'other': 1.032362903126909, 'hypoosmotic': 3.597312260588446, 'here': 1.457246097092175, 'genes': 1.3209355183149973, 'millepora': 1.2947271675944, 'adult': 2.498699971920336, 'acid': 1.9878743481543455, 'lead': 2.211017899468555, 'juvenile': 2.681021528714291, 'experience': 3.597312260588446, 'h': 3.6111055827207816, 'life': 2.498699971920336}, {'component': 4.290459441148391, 'keystone': 3.597312260588446, 'potential': 1.7255100836868542, 'a': 0.0857668217574251, 'immunity': 1.6514021115331325, 'nonadaptive': 4.290459441148391, 'be': 0.8564722366632449, 'form': 3.1918471524802814, 'to': 0.20982099549516103, 'millepora': 1.2947271675944, 'is': 1.2577752907215003, 'acropora': 0.11607217125275403, 'mannosebinding': 8.580918882296782, 'binding': 2.9041650800285006, 'analysis': 1.1549652252192415, 'we': 0.41925843024050014, 'unknown': 2.211017899468555, 'remain': 2.211017899468555, 'worlds': 3.597312260588446, 'which': 0.7351113796589775, 'ancient': 3.1918471524802814, 'recognise': 4.290459441148391, 'involved': 1.2459370034249682, 'well': 1.8925641683500207, 'framework': 3.597312260588446, 'bleaching': 0.9582549309731873, 'cdna': 2.093234863812172, 'this': 0.50626980723013, 'yet': 2.498699971920336, 'variation': 2.211017899468555, 'mechanisms': 3.0357414378172196, 'under': 1.4000876832522264, 'disease': 1.7255100836868542, 'bind': 3.1918471524802814, 'dysfunction': 3.597312260588446, 'mannoselike': 4.290459441148391, 'other': 1.032362903126909, 'an': 0.8247235383486646, 'corals': 0.21292199724267172, 'the': 0.0, 'of': 0.0, 'from': 0.4837969513780714, 'symbiotic': 1.8925641683500207, 'invertebrates': 2.681021528714291, 'increases': 2.9041650800285006, 'processes': 1.5178707189086098, 'affinity': 4.290459441148391, 'lectin': 8.043064586142872, 'symbionts': 3.7851283367000415, 'rely': 3.597312260588446, 'in': 0.06896661066167885, 'reefs': 1.5824092400461809, 'as': 2.292296749596689, 'systems': 2.681021528714291, 'pathogen': 2.681021528714291, 'describe': 2.681021528714291, 'symbiont': 2.211017899468555, 'was': 1.0585186509096574, 'coral': 0.403218796487862, 'isolated': 2.9041650800285006, 'by': 0.4618180446592961, 'pattern': 2.9041650800285006, 'chromatography': 4.290459441148391, 'largely': 2.211017899468555, 'its': 1.6514021115331325, 'shown': 3.597312260588446, 'pathogens': 6.383694304960563, 'and': 0.0, 'immune': 1.8055527913603908, 'here': 1.457246097092175, 'dinoflagellates': 2.344549292093078, 'likely': 1.8055527913603908, 'characterisation': 4.290459441148391, 'genus': 2.344549292093078, 'both': 1.1549652252192415, 'indicate': 1.7255100836868542, 'extensive': 6.383694304960563, 'sequence': 4.42203579893711, 'region': 4.290459441148391, 'defence': 3.597312260588446, 'including': 1.5178707189086098, 'reflecting': 3.597312260588446, 'various': 2.093234863812172, 'recognition': 4.997399943840672, 'are': 0.44031183943833246, 'millectin': 8.580918882296782, 'first': 2.093234863812172, 'carbohydrate': 4.290459441148391, 'symbiodinium': 1.457246097092175, 'structures': 4.290459441148391, 'on': 1.2537955900374893, 'nonself': 4.290459441148391, 'isolation': 3.597312260588446, 'cells': 2.093234863812172, 'proteins': 1.4000876832522264, 'bacterial': 2.093234863812172, 'show': 2.498699971920336, 'variability': 3.1918471524802814, 'ability': 4.290459441148391, 'observed': 2.211017899468555, 'for': 0.4618180446592961, 'threat': 2.498699971920336, 'invertebrate': 3.597312260588446, 'given': 4.290459441148391, 'that': 0.11607217125275403}, {'benefit': 3.597312260588446, 'dual': 4.290459441148391, 'confer': 4.290459441148391, 'may': 1.032362903126909, 'downregulation': 2.681021528714291, 'resilience': 5.808330160057001, 'thermal': 2.3988339755801507, 'linked': 3.597312260588446, 'role': 1.6514021115331325, 'unsuspected': 4.290459441148391, 'but': 0.994622575144062, 'key': 2.093234863812172, 'posttranscriptional': 4.290459441148391, 'downregulated': 1.9878743481543455, 'proteins': 2.800175366504453, 'shock': 1.9878743481543455, 'heat': 1.4000876832522264, 'years': 3.1918471524802814, 'palmata': 1.8925641683500207, 'suggesting': 1.8925641683500207, 'disease': 12.078570585807979, 'a': 0.2573004652722753, 'we': 0.8385168604810003, 'upregulation': 2.211017899468555, 'elkhorn': 2.9041650800285006, 'acropora': 0.23214434250550806, 'coralsthe': 4.290459441148391, 'whereas': 2.211017899468555, 'shallowwater': 4.290459441148391, 'caribbeans': 4.290459441148391, 'up': 2.9041650800285006, 'over': 2.093234863812172, 'acidification': 2.681021528714291, 'immunity': 1.6514021115331325, 'killed': 4.290459441148391, 'interferencemediated': 4.290459441148391, 'has': 4.038061385945852, 'previously': 3.1918471524802814, 'exposure': 1.8925641683500207, 'temperature': 1.2947271675944, 'now': 2.681021528714291, 'involved': 1.2459370034249682, 'to': 0.16785679639612883, 'corals': 1.2775319834560304, 'other': 1.032362903126909, 'rising': 2.681021528714291, 'indicates': 2.093234863812172, 'declining': 3.597312260588446, 'argonaute': 8.580918882296782, 'outbreaks': 2.498699971920336, 'us': 2.681021528714291, 'due': 1.5178707189086098, 'cervicornis': 3.1918471524802814, 'of': 0.0, 'the': 0.0, 'hsps': 8.712495240085502, 'staghorn': 14.389249042353784, 'response': 0.8247235383486646, 'multiple': 2.498699971920336, 'sea': 1.9878743481543455, 'here': 1.457246097092175, 'are': 1.7612473577533299, 'associated': 1.4000876832522264, 'ocean': 2.498699971920336, 'wbd': 6.383694304960563, 'their': 0.994622575144062, 'worldwide': 2.344549292093078, 'white': 2.344549292093078, 'transcriptomewide': 3.597312260588446, 'including': 3.0357414378172196, 'using': 1.4000876832522264, 'on': 0.6268977950187447, 'last': 3.1918471524802814, 'situ': 3.597312260588446, 'underlying': 1.9878743481543455, 'alone': 3.597312260588446, 'factors': 2.344549292093078, 'constitutive': 7.194624521176892, 'band': 2.9041650800285006, 'listed': 4.290459441148391, 'and': 0.0, 'susceptible': 3.1918471524802814, 'immune': 1.8055527913603908, 'reefs': 1.5824092400461809, 'species': 1.3460204619819507, 'act': 3.1918471524802814, 'plays': 2.9041650800285006, 'slow': 4.290459441148391, 'while': 1.6514021115331325, 'compared': 1.5824092400461809, 'from': 0.4837969513780714, 'recovery': 3.1918471524802814, 'been': 2.6920409239639014, 'recent': 2.681021528714291, 'transmission': 6.383694304960563, 'surveys': 3.1918471524802814, 'both': 1.1549652252192415, 'indicate': 1.7255100836868542, 'gene': 2.94044551863591, 'more': 1.3460204619819507, 'than': 1.457246097092175, 'differences': 2.093234863812172, 'resistant': 17.161837764593564, 'in': 0.08275993279401461, 'surface': 2.498699971920336, 'expression': 1.73066212333225, 'dominant': 2.498699971920336, 'between': 0.6795415285041667, 'exposed': 1.457246097092175, 'assays': 4.290459441148391, 'identified': 1.5824092400461809, 'coral': 0.403218796487862, 'resistance': 5.808330160057001, 'independent': 3.1918471524802814, 'with': 0.30147539458411676, 'genes': 0.44031183943833246, 'rna': 2.9041650800285006, 'silencing': 8.580918882296782, 'endangered': 3.597312260588446, 'were': 0.7568728714404901, 'that': 0.4642886850110161, 'upregulated': 1.8925641683500207}]"
      ]
     },
     "execution_count": 46,
     "metadata": {},
     "output_type": "execute_result"
    }
   ],
   "source": [
    "summary['tfidf'] = turicreate.text_analytics.tf_idf(summary['Abstract_Words_Only'])\n",
    "summary['tfidf']"
   ]
  },
  {
   "cell_type": "markdown",
   "metadata": {},
   "source": [
    "### Determine which article is the nearest neighbor of a given article (based on TF-IDF in abstract)"
   ]
  },
  {
   "cell_type": "code",
   "execution_count": 47,
   "metadata": {},
   "outputs": [
    {
     "data": {
      "text/html": [
       "<pre>Starting brute force nearest neighbors model training.</pre>"
      ],
      "text/plain": [
       "Starting brute force nearest neighbors model training."
      ]
     },
     "metadata": {},
     "output_type": "display_data"
    },
    {
     "data": {
      "text/html": [
       "<pre>Validating distance components.</pre>"
      ],
      "text/plain": [
       "Validating distance components."
      ]
     },
     "metadata": {},
     "output_type": "display_data"
    },
    {
     "data": {
      "text/html": [
       "<pre>Initializing model data.</pre>"
      ],
      "text/plain": [
       "Initializing model data."
      ]
     },
     "metadata": {},
     "output_type": "display_data"
    },
    {
     "data": {
      "text/html": [
       "<pre>Initializing distances.</pre>"
      ],
      "text/plain": [
       "Initializing distances."
      ]
     },
     "metadata": {},
     "output_type": "display_data"
    },
    {
     "data": {
      "text/html": [
       "<pre>Done.</pre>"
      ],
      "text/plain": [
       "Done."
      ]
     },
     "metadata": {},
     "output_type": "display_data"
    }
   ],
   "source": [
    "nn_model = turicreate.nearest_neighbors.create(summary, features=['tfidf'], label='ID')"
   ]
  },
  {
   "cell_type": "code",
   "execution_count": 48,
   "metadata": {},
   "outputs": [
    {
     "data": {
      "text/html": [
       "<pre>Starting pairwise querying.</pre>"
      ],
      "text/plain": [
       "Starting pairwise querying."
      ]
     },
     "metadata": {},
     "output_type": "display_data"
    },
    {
     "data": {
      "text/html": [
       "<pre>+--------------+---------+-------------+--------------+</pre>"
      ],
      "text/plain": [
       "+--------------+---------+-------------+--------------+"
      ]
     },
     "metadata": {},
     "output_type": "display_data"
    },
    {
     "data": {
      "text/html": [
       "<pre>| Query points | # Pairs | % Complete. | Elapsed Time |</pre>"
      ],
      "text/plain": [
       "| Query points | # Pairs | % Complete. | Elapsed Time |"
      ]
     },
     "metadata": {},
     "output_type": "display_data"
    },
    {
     "data": {
      "text/html": [
       "<pre>+--------------+---------+-------------+--------------+</pre>"
      ],
      "text/plain": [
       "+--------------+---------+-------------+--------------+"
      ]
     },
     "metadata": {},
     "output_type": "display_data"
    },
    {
     "data": {
      "text/html": [
       "<pre>| 0            | 1       | 1.36986     | 697us        |</pre>"
      ],
      "text/plain": [
       "| 0            | 1       | 1.36986     | 697us        |"
      ]
     },
     "metadata": {},
     "output_type": "display_data"
    },
    {
     "data": {
      "text/html": [
       "<pre>| Done         |         | 100         | 2.323ms      |</pre>"
      ],
      "text/plain": [
       "| Done         |         | 100         | 2.323ms      |"
      ]
     },
     "metadata": {},
     "output_type": "display_data"
    },
    {
     "data": {
      "text/html": [
       "<pre>+--------------+---------+-------------+--------------+</pre>"
      ],
      "text/plain": [
       "+--------------+---------+-------------+--------------+"
      ]
     },
     "metadata": {},
     "output_type": "display_data"
    },
    {
     "data": {
      "text/html": [
       "<div style=\"max-height:1000px;max-width:1500px;overflow:auto;\"><table frame=\"box\" rules=\"cols\">\n",
       "    <tr>\n",
       "        <th style=\"padding-left: 1em; padding-right: 1em; text-align: center\">query_label</th>\n",
       "        <th style=\"padding-left: 1em; padding-right: 1em; text-align: center\">reference_label</th>\n",
       "        <th style=\"padding-left: 1em; padding-right: 1em; text-align: center\">distance</th>\n",
       "        <th style=\"padding-left: 1em; padding-right: 1em; text-align: center\">rank</th>\n",
       "    </tr>\n",
       "    <tr>\n",
       "        <td style=\"padding-left: 1em; padding-right: 1em; text-align: center; vertical-align: top\">0</td>\n",
       "        <td style=\"padding-left: 1em; padding-right: 1em; text-align: center; vertical-align: top\">10.1038_s41598-018-21267-<br>3 ...</td>\n",
       "        <td style=\"padding-left: 1em; padding-right: 1em; text-align: center; vertical-align: top\">0.0</td>\n",
       "        <td style=\"padding-left: 1em; padding-right: 1em; text-align: center; vertical-align: top\">1</td>\n",
       "    </tr>\n",
       "    <tr>\n",
       "        <td style=\"padding-left: 1em; padding-right: 1em; text-align: center; vertical-align: top\">0</td>\n",
       "        <td style=\"padding-left: 1em; padding-right: 1em; text-align: center; vertical-align: top\">10.1242_bio.2011036</td>\n",
       "        <td style=\"padding-left: 1em; padding-right: 1em; text-align: center; vertical-align: top\">0.8264984227129337</td>\n",
       "        <td style=\"padding-left: 1em; padding-right: 1em; text-align: center; vertical-align: top\">2</td>\n",
       "    </tr>\n",
       "    <tr>\n",
       "        <td style=\"padding-left: 1em; padding-right: 1em; text-align: center; vertical-align: top\">0</td>\n",
       "        <td style=\"padding-left: 1em; padding-right: 1em; text-align: center; vertical-align: top\">10.1111_j.1365-294x.2011.<br>05205.x ...</td>\n",
       "        <td style=\"padding-left: 1em; padding-right: 1em; text-align: center; vertical-align: top\">0.8418079096045198</td>\n",
       "        <td style=\"padding-left: 1em; padding-right: 1em; text-align: center; vertical-align: top\">3</td>\n",
       "    </tr>\n",
       "    <tr>\n",
       "        <td style=\"padding-left: 1em; padding-right: 1em; text-align: center; vertical-align: top\">0</td>\n",
       "        <td style=\"padding-left: 1em; padding-right: 1em; text-align: center; vertical-align: top\">10.1016_j.margen.2015.08.<br>001 ...</td>\n",
       "        <td style=\"padding-left: 1em; padding-right: 1em; text-align: center; vertical-align: top\">0.8490566037735849</td>\n",
       "        <td style=\"padding-left: 1em; padding-right: 1em; text-align: center; vertical-align: top\">4</td>\n",
       "    </tr>\n",
       "    <tr>\n",
       "        <td style=\"padding-left: 1em; padding-right: 1em; text-align: center; vertical-align: top\">0</td>\n",
       "        <td style=\"padding-left: 1em; padding-right: 1em; text-align: center; vertical-align: top\">10.1371_journal.pone.0039<br>099 ...</td>\n",
       "        <td style=\"padding-left: 1em; padding-right: 1em; text-align: center; vertical-align: top\">0.8494623655913979</td>\n",
       "        <td style=\"padding-left: 1em; padding-right: 1em; text-align: center; vertical-align: top\">5</td>\n",
       "    </tr>\n",
       "</table>\n",
       "[5 rows x 4 columns]<br/>\n",
       "</div>"
      ],
      "text/plain": [
       "Columns:\n",
       "\tquery_label\tint\n",
       "\treference_label\tstr\n",
       "\tdistance\tfloat\n",
       "\trank\tint\n",
       "\n",
       "Rows: 5\n",
       "\n",
       "Data:\n",
       "+-------------+-------------------------------+--------------------+------+\n",
       "| query_label |        reference_label        |      distance      | rank |\n",
       "+-------------+-------------------------------+--------------------+------+\n",
       "|      0      |   10.1038_s41598-018-21267-3  |        0.0         |  1   |\n",
       "|      0      |      10.1242_bio.2011036      | 0.8264984227129337 |  2   |\n",
       "|      0      | 10.1111_j.1365-294x.2011.0... | 0.8418079096045198 |  3   |\n",
       "|      0      |  10.1016_j.margen.2015.08.001 | 0.8490566037735849 |  4   |\n",
       "|      0      |  10.1371_journal.pone.0039099 | 0.8494623655913979 |  5   |\n",
       "+-------------+-------------------------------+--------------------+------+\n",
       "[5 rows x 4 columns]"
      ]
     },
     "execution_count": 48,
     "metadata": {},
     "output_type": "execute_result"
    }
   ],
   "source": [
    "nn_model.query(summary[0:1])"
   ]
  },
  {
   "cell_type": "markdown",
   "metadata": {},
   "source": [
    "### Plot SSE to determine reasonable number of clusters"
   ]
  },
  {
   "cell_type": "code",
   "execution_count": null,
   "metadata": {},
   "outputs": [
    {
     "data": {
      "text/html": [
       "<pre>Batch size is larger than the input dataset. Switching to an exact Kmeans method.</pre>"
      ],
      "text/plain": [
       "Batch size is larger than the input dataset. Switching to an exact Kmeans method."
      ]
     },
     "metadata": {},
     "output_type": "display_data"
    },
    {
     "data": {
      "text/html": [
       "<pre>Choosing initial cluster centers with Kmeans++.</pre>"
      ],
      "text/plain": [
       "Choosing initial cluster centers with Kmeans++."
      ]
     },
     "metadata": {},
     "output_type": "display_data"
    },
    {
     "data": {
      "text/html": [
       "<pre>+---------------+-----------+</pre>"
      ],
      "text/plain": [
       "+---------------+-----------+"
      ]
     },
     "metadata": {},
     "output_type": "display_data"
    },
    {
     "data": {
      "text/html": [
       "<pre>| Center number | Row index |</pre>"
      ],
      "text/plain": [
       "| Center number | Row index |"
      ]
     },
     "metadata": {},
     "output_type": "display_data"
    },
    {
     "data": {
      "text/html": [
       "<pre>+---------------+-----------+</pre>"
      ],
      "text/plain": [
       "+---------------+-----------+"
      ]
     },
     "metadata": {},
     "output_type": "display_data"
    },
    {
     "data": {
      "text/html": [
       "<pre>| 0             | 63        |</pre>"
      ],
      "text/plain": [
       "| 0             | 63        |"
      ]
     },
     "metadata": {},
     "output_type": "display_data"
    },
    {
     "data": {
      "text/html": [
       "<pre>+---------------+-----------+</pre>"
      ],
      "text/plain": [
       "+---------------+-----------+"
      ]
     },
     "metadata": {},
     "output_type": "display_data"
    },
    {
     "data": {
      "text/html": [
       "<pre>Starting kmeans model training.</pre>"
      ],
      "text/plain": [
       "Starting kmeans model training."
      ]
     },
     "metadata": {},
     "output_type": "display_data"
    },
    {
     "data": {
      "text/html": [
       "<pre>Assigning points to initial cluster centers.</pre>"
      ],
      "text/plain": [
       "Assigning points to initial cluster centers."
      ]
     },
     "metadata": {},
     "output_type": "display_data"
    },
    {
     "data": {
      "text/html": [
       "<pre>+-----------+-------------------------------+</pre>"
      ],
      "text/plain": [
       "+-----------+-------------------------------+"
      ]
     },
     "metadata": {},
     "output_type": "display_data"
    },
    {
     "data": {
      "text/html": [
       "<pre>| Iteration | Number of changed assignments |</pre>"
      ],
      "text/plain": [
       "| Iteration | Number of changed assignments |"
      ]
     },
     "metadata": {},
     "output_type": "display_data"
    },
    {
     "data": {
      "text/html": [
       "<pre>+-----------+-------------------------------+</pre>"
      ],
      "text/plain": [
       "+-----------+-------------------------------+"
      ]
     },
     "metadata": {},
     "output_type": "display_data"
    },
    {
     "data": {
      "text/html": [
       "<pre>| 1         | 0                             |</pre>"
      ],
      "text/plain": [
       "| 1         | 0                             |"
      ]
     },
     "metadata": {},
     "output_type": "display_data"
    },
    {
     "data": {
      "text/html": [
       "<pre>+-----------+-------------------------------+</pre>"
      ],
      "text/plain": [
       "+-----------+-------------------------------+"
      ]
     },
     "metadata": {},
     "output_type": "display_data"
    },
    {
     "data": {
      "text/html": [
       "<pre>Batch size is larger than the input dataset. Switching to an exact Kmeans method.</pre>"
      ],
      "text/plain": [
       "Batch size is larger than the input dataset. Switching to an exact Kmeans method."
      ]
     },
     "metadata": {},
     "output_type": "display_data"
    },
    {
     "data": {
      "text/html": [
       "<pre>Choosing initial cluster centers with Kmeans++.</pre>"
      ],
      "text/plain": [
       "Choosing initial cluster centers with Kmeans++."
      ]
     },
     "metadata": {},
     "output_type": "display_data"
    },
    {
     "data": {
      "text/html": [
       "<pre>+---------------+-----------+</pre>"
      ],
      "text/plain": [
       "+---------------+-----------+"
      ]
     },
     "metadata": {},
     "output_type": "display_data"
    },
    {
     "data": {
      "text/html": [
       "<pre>| Center number | Row index |</pre>"
      ],
      "text/plain": [
       "| Center number | Row index |"
      ]
     },
     "metadata": {},
     "output_type": "display_data"
    },
    {
     "data": {
      "text/html": [
       "<pre>+---------------+-----------+</pre>"
      ],
      "text/plain": [
       "+---------------+-----------+"
      ]
     },
     "metadata": {},
     "output_type": "display_data"
    },
    {
     "data": {
      "text/html": [
       "<pre>| 0             | 31        |</pre>"
      ],
      "text/plain": [
       "| 0             | 31        |"
      ]
     },
     "metadata": {},
     "output_type": "display_data"
    },
    {
     "data": {
      "text/html": [
       "<pre>| 1             | 24        |</pre>"
      ],
      "text/plain": [
       "| 1             | 24        |"
      ]
     },
     "metadata": {},
     "output_type": "display_data"
    },
    {
     "data": {
      "text/html": [
       "<pre>+---------------+-----------+</pre>"
      ],
      "text/plain": [
       "+---------------+-----------+"
      ]
     },
     "metadata": {},
     "output_type": "display_data"
    },
    {
     "data": {
      "text/html": [
       "<pre>Starting kmeans model training.</pre>"
      ],
      "text/plain": [
       "Starting kmeans model training."
      ]
     },
     "metadata": {},
     "output_type": "display_data"
    },
    {
     "data": {
      "text/html": [
       "<pre>Assigning points to initial cluster centers.</pre>"
      ],
      "text/plain": [
       "Assigning points to initial cluster centers."
      ]
     },
     "metadata": {},
     "output_type": "display_data"
    },
    {
     "data": {
      "text/html": [
       "<pre>+-----------+-------------------------------+</pre>"
      ],
      "text/plain": [
       "+-----------+-------------------------------+"
      ]
     },
     "metadata": {},
     "output_type": "display_data"
    },
    {
     "data": {
      "text/html": [
       "<pre>| Iteration | Number of changed assignments |</pre>"
      ],
      "text/plain": [
       "| Iteration | Number of changed assignments |"
      ]
     },
     "metadata": {},
     "output_type": "display_data"
    },
    {
     "data": {
      "text/html": [
       "<pre>+-----------+-------------------------------+</pre>"
      ],
      "text/plain": [
       "+-----------+-------------------------------+"
      ]
     },
     "metadata": {},
     "output_type": "display_data"
    },
    {
     "data": {
      "text/html": [
       "<pre>| 1         | 0                             |</pre>"
      ],
      "text/plain": [
       "| 1         | 0                             |"
      ]
     },
     "metadata": {},
     "output_type": "display_data"
    },
    {
     "data": {
      "text/html": [
       "<pre>+-----------+-------------------------------+</pre>"
      ],
      "text/plain": [
       "+-----------+-------------------------------+"
      ]
     },
     "metadata": {},
     "output_type": "display_data"
    },
    {
     "data": {
      "text/html": [
       "<pre>Batch size is larger than the input dataset. Switching to an exact Kmeans method.</pre>"
      ],
      "text/plain": [
       "Batch size is larger than the input dataset. Switching to an exact Kmeans method."
      ]
     },
     "metadata": {},
     "output_type": "display_data"
    },
    {
     "data": {
      "text/html": [
       "<pre>Choosing initial cluster centers with Kmeans++.</pre>"
      ],
      "text/plain": [
       "Choosing initial cluster centers with Kmeans++."
      ]
     },
     "metadata": {},
     "output_type": "display_data"
    },
    {
     "data": {
      "text/html": [
       "<pre>+---------------+-----------+</pre>"
      ],
      "text/plain": [
       "+---------------+-----------+"
      ]
     },
     "metadata": {},
     "output_type": "display_data"
    },
    {
     "data": {
      "text/html": [
       "<pre>| Center number | Row index |</pre>"
      ],
      "text/plain": [
       "| Center number | Row index |"
      ]
     },
     "metadata": {},
     "output_type": "display_data"
    },
    {
     "data": {
      "text/html": [
       "<pre>+---------------+-----------+</pre>"
      ],
      "text/plain": [
       "+---------------+-----------+"
      ]
     },
     "metadata": {},
     "output_type": "display_data"
    },
    {
     "data": {
      "text/html": [
       "<pre>| 0             | 16        |</pre>"
      ],
      "text/plain": [
       "| 0             | 16        |"
      ]
     },
     "metadata": {},
     "output_type": "display_data"
    },
    {
     "data": {
      "text/html": [
       "<pre>| 1             | 21        |</pre>"
      ],
      "text/plain": [
       "| 1             | 21        |"
      ]
     },
     "metadata": {},
     "output_type": "display_data"
    },
    {
     "data": {
      "text/html": [
       "<pre>| 2             | 69        |</pre>"
      ],
      "text/plain": [
       "| 2             | 69        |"
      ]
     },
     "metadata": {},
     "output_type": "display_data"
    },
    {
     "data": {
      "text/html": [
       "<pre>+---------------+-----------+</pre>"
      ],
      "text/plain": [
       "+---------------+-----------+"
      ]
     },
     "metadata": {},
     "output_type": "display_data"
    },
    {
     "data": {
      "text/html": [
       "<pre>Starting kmeans model training.</pre>"
      ],
      "text/plain": [
       "Starting kmeans model training."
      ]
     },
     "metadata": {},
     "output_type": "display_data"
    },
    {
     "data": {
      "text/html": [
       "<pre>Assigning points to initial cluster centers.</pre>"
      ],
      "text/plain": [
       "Assigning points to initial cluster centers."
      ]
     },
     "metadata": {},
     "output_type": "display_data"
    },
    {
     "data": {
      "text/html": [
       "<pre>+-----------+-------------------------------+</pre>"
      ],
      "text/plain": [
       "+-----------+-------------------------------+"
      ]
     },
     "metadata": {},
     "output_type": "display_data"
    },
    {
     "data": {
      "text/html": [
       "<pre>| Iteration | Number of changed assignments |</pre>"
      ],
      "text/plain": [
       "| Iteration | Number of changed assignments |"
      ]
     },
     "metadata": {},
     "output_type": "display_data"
    },
    {
     "data": {
      "text/html": [
       "<pre>+-----------+-------------------------------+</pre>"
      ],
      "text/plain": [
       "+-----------+-------------------------------+"
      ]
     },
     "metadata": {},
     "output_type": "display_data"
    },
    {
     "data": {
      "text/html": [
       "<pre>| 1         | 1                             |</pre>"
      ],
      "text/plain": [
       "| 1         | 1                             |"
      ]
     },
     "metadata": {},
     "output_type": "display_data"
    },
    {
     "data": {
      "text/html": [
       "<pre>| 2         | 0                             |</pre>"
      ],
      "text/plain": [
       "| 2         | 0                             |"
      ]
     },
     "metadata": {},
     "output_type": "display_data"
    },
    {
     "data": {
      "text/html": [
       "<pre>+-----------+-------------------------------+</pre>"
      ],
      "text/plain": [
       "+-----------+-------------------------------+"
      ]
     },
     "metadata": {},
     "output_type": "display_data"
    },
    {
     "data": {
      "text/html": [
       "<pre>Batch size is larger than the input dataset. Switching to an exact Kmeans method.</pre>"
      ],
      "text/plain": [
       "Batch size is larger than the input dataset. Switching to an exact Kmeans method."
      ]
     },
     "metadata": {},
     "output_type": "display_data"
    },
    {
     "data": {
      "text/html": [
       "<pre>Choosing initial cluster centers with Kmeans++.</pre>"
      ],
      "text/plain": [
       "Choosing initial cluster centers with Kmeans++."
      ]
     },
     "metadata": {},
     "output_type": "display_data"
    },
    {
     "data": {
      "text/html": [
       "<pre>+---------------+-----------+</pre>"
      ],
      "text/plain": [
       "+---------------+-----------+"
      ]
     },
     "metadata": {},
     "output_type": "display_data"
    },
    {
     "data": {
      "text/html": [
       "<pre>| Center number | Row index |</pre>"
      ],
      "text/plain": [
       "| Center number | Row index |"
      ]
     },
     "metadata": {},
     "output_type": "display_data"
    },
    {
     "data": {
      "text/html": [
       "<pre>+---------------+-----------+</pre>"
      ],
      "text/plain": [
       "+---------------+-----------+"
      ]
     },
     "metadata": {},
     "output_type": "display_data"
    },
    {
     "data": {
      "text/html": [
       "<pre>| 0             | 53        |</pre>"
      ],
      "text/plain": [
       "| 0             | 53        |"
      ]
     },
     "metadata": {},
     "output_type": "display_data"
    },
    {
     "data": {
      "text/html": [
       "<pre>| 1             | 72        |</pre>"
      ],
      "text/plain": [
       "| 1             | 72        |"
      ]
     },
     "metadata": {},
     "output_type": "display_data"
    },
    {
     "data": {
      "text/html": [
       "<pre>| 2             | 69        |</pre>"
      ],
      "text/plain": [
       "| 2             | 69        |"
      ]
     },
     "metadata": {},
     "output_type": "display_data"
    },
    {
     "data": {
      "text/html": [
       "<pre>| 3             | 46        |</pre>"
      ],
      "text/plain": [
       "| 3             | 46        |"
      ]
     },
     "metadata": {},
     "output_type": "display_data"
    },
    {
     "data": {
      "text/html": [
       "<pre>+---------------+-----------+</pre>"
      ],
      "text/plain": [
       "+---------------+-----------+"
      ]
     },
     "metadata": {},
     "output_type": "display_data"
    },
    {
     "data": {
      "text/html": [
       "<pre>Starting kmeans model training.</pre>"
      ],
      "text/plain": [
       "Starting kmeans model training."
      ]
     },
     "metadata": {},
     "output_type": "display_data"
    },
    {
     "data": {
      "text/html": [
       "<pre>Assigning points to initial cluster centers.</pre>"
      ],
      "text/plain": [
       "Assigning points to initial cluster centers."
      ]
     },
     "metadata": {},
     "output_type": "display_data"
    },
    {
     "data": {
      "text/html": [
       "<pre>+-----------+-------------------------------+</pre>"
      ],
      "text/plain": [
       "+-----------+-------------------------------+"
      ]
     },
     "metadata": {},
     "output_type": "display_data"
    },
    {
     "data": {
      "text/html": [
       "<pre>| Iteration | Number of changed assignments |</pre>"
      ],
      "text/plain": [
       "| Iteration | Number of changed assignments |"
      ]
     },
     "metadata": {},
     "output_type": "display_data"
    },
    {
     "data": {
      "text/html": [
       "<pre>+-----------+-------------------------------+</pre>"
      ],
      "text/plain": [
       "+-----------+-------------------------------+"
      ]
     },
     "metadata": {},
     "output_type": "display_data"
    },
    {
     "data": {
      "text/html": [
       "<pre>| 1         | 0                             |</pre>"
      ],
      "text/plain": [
       "| 1         | 0                             |"
      ]
     },
     "metadata": {},
     "output_type": "display_data"
    },
    {
     "data": {
      "text/html": [
       "<pre>+-----------+-------------------------------+</pre>"
      ],
      "text/plain": [
       "+-----------+-------------------------------+"
      ]
     },
     "metadata": {},
     "output_type": "display_data"
    },
    {
     "data": {
      "text/html": [
       "<pre>Batch size is larger than the input dataset. Switching to an exact Kmeans method.</pre>"
      ],
      "text/plain": [
       "Batch size is larger than the input dataset. Switching to an exact Kmeans method."
      ]
     },
     "metadata": {},
     "output_type": "display_data"
    },
    {
     "data": {
      "text/html": [
       "<pre>Choosing initial cluster centers with Kmeans++.</pre>"
      ],
      "text/plain": [
       "Choosing initial cluster centers with Kmeans++."
      ]
     },
     "metadata": {},
     "output_type": "display_data"
    },
    {
     "data": {
      "text/html": [
       "<pre>+---------------+-----------+</pre>"
      ],
      "text/plain": [
       "+---------------+-----------+"
      ]
     },
     "metadata": {},
     "output_type": "display_data"
    },
    {
     "data": {
      "text/html": [
       "<pre>| Center number | Row index |</pre>"
      ],
      "text/plain": [
       "| Center number | Row index |"
      ]
     },
     "metadata": {},
     "output_type": "display_data"
    },
    {
     "data": {
      "text/html": [
       "<pre>+---------------+-----------+</pre>"
      ],
      "text/plain": [
       "+---------------+-----------+"
      ]
     },
     "metadata": {},
     "output_type": "display_data"
    },
    {
     "data": {
      "text/html": [
       "<pre>| 0             | 60        |</pre>"
      ],
      "text/plain": [
       "| 0             | 60        |"
      ]
     },
     "metadata": {},
     "output_type": "display_data"
    },
    {
     "data": {
      "text/html": [
       "<pre>| 1             | 39        |</pre>"
      ],
      "text/plain": [
       "| 1             | 39        |"
      ]
     },
     "metadata": {},
     "output_type": "display_data"
    },
    {
     "data": {
      "text/html": [
       "<pre>| 2             | 50        |</pre>"
      ],
      "text/plain": [
       "| 2             | 50        |"
      ]
     },
     "metadata": {},
     "output_type": "display_data"
    },
    {
     "data": {
      "text/html": [
       "<pre>| 3             | 2         |</pre>"
      ],
      "text/plain": [
       "| 3             | 2         |"
      ]
     },
     "metadata": {},
     "output_type": "display_data"
    },
    {
     "data": {
      "text/html": [
       "<pre>| 4             | 37        |</pre>"
      ],
      "text/plain": [
       "| 4             | 37        |"
      ]
     },
     "metadata": {},
     "output_type": "display_data"
    },
    {
     "data": {
      "text/html": [
       "<pre>+---------------+-----------+</pre>"
      ],
      "text/plain": [
       "+---------------+-----------+"
      ]
     },
     "metadata": {},
     "output_type": "display_data"
    },
    {
     "data": {
      "text/html": [
       "<pre>Starting kmeans model training.</pre>"
      ],
      "text/plain": [
       "Starting kmeans model training."
      ]
     },
     "metadata": {},
     "output_type": "display_data"
    },
    {
     "data": {
      "text/html": [
       "<pre>Assigning points to initial cluster centers.</pre>"
      ],
      "text/plain": [
       "Assigning points to initial cluster centers."
      ]
     },
     "metadata": {},
     "output_type": "display_data"
    },
    {
     "data": {
      "text/html": [
       "<pre>+-----------+-------------------------------+</pre>"
      ],
      "text/plain": [
       "+-----------+-------------------------------+"
      ]
     },
     "metadata": {},
     "output_type": "display_data"
    },
    {
     "data": {
      "text/html": [
       "<pre>| Iteration | Number of changed assignments |</pre>"
      ],
      "text/plain": [
       "| Iteration | Number of changed assignments |"
      ]
     },
     "metadata": {},
     "output_type": "display_data"
    },
    {
     "data": {
      "text/html": [
       "<pre>+-----------+-------------------------------+</pre>"
      ],
      "text/plain": [
       "+-----------+-------------------------------+"
      ]
     },
     "metadata": {},
     "output_type": "display_data"
    },
    {
     "data": {
      "text/html": [
       "<pre>| 1         | 0                             |</pre>"
      ],
      "text/plain": [
       "| 1         | 0                             |"
      ]
     },
     "metadata": {},
     "output_type": "display_data"
    },
    {
     "data": {
      "text/html": [
       "<pre>+-----------+-------------------------------+</pre>"
      ],
      "text/plain": [
       "+-----------+-------------------------------+"
      ]
     },
     "metadata": {},
     "output_type": "display_data"
    },
    {
     "data": {
      "text/html": [
       "<pre>Batch size is larger than the input dataset. Switching to an exact Kmeans method.</pre>"
      ],
      "text/plain": [
       "Batch size is larger than the input dataset. Switching to an exact Kmeans method."
      ]
     },
     "metadata": {},
     "output_type": "display_data"
    },
    {
     "data": {
      "text/html": [
       "<pre>Choosing initial cluster centers with Kmeans++.</pre>"
      ],
      "text/plain": [
       "Choosing initial cluster centers with Kmeans++."
      ]
     },
     "metadata": {},
     "output_type": "display_data"
    },
    {
     "data": {
      "text/html": [
       "<pre>+---------------+-----------+</pre>"
      ],
      "text/plain": [
       "+---------------+-----------+"
      ]
     },
     "metadata": {},
     "output_type": "display_data"
    },
    {
     "data": {
      "text/html": [
       "<pre>| Center number | Row index |</pre>"
      ],
      "text/plain": [
       "| Center number | Row index |"
      ]
     },
     "metadata": {},
     "output_type": "display_data"
    },
    {
     "data": {
      "text/html": [
       "<pre>+---------------+-----------+</pre>"
      ],
      "text/plain": [
       "+---------------+-----------+"
      ]
     },
     "metadata": {},
     "output_type": "display_data"
    },
    {
     "data": {
      "text/html": [
       "<pre>| 0             | 27        |</pre>"
      ],
      "text/plain": [
       "| 0             | 27        |"
      ]
     },
     "metadata": {},
     "output_type": "display_data"
    },
    {
     "data": {
      "text/html": [
       "<pre>| 1             | 57        |</pre>"
      ],
      "text/plain": [
       "| 1             | 57        |"
      ]
     },
     "metadata": {},
     "output_type": "display_data"
    },
    {
     "data": {
      "text/html": [
       "<pre>| 2             | 55        |</pre>"
      ],
      "text/plain": [
       "| 2             | 55        |"
      ]
     },
     "metadata": {},
     "output_type": "display_data"
    },
    {
     "data": {
      "text/html": [
       "<pre>| 3             | 8         |</pre>"
      ],
      "text/plain": [
       "| 3             | 8         |"
      ]
     },
     "metadata": {},
     "output_type": "display_data"
    },
    {
     "data": {
      "text/html": [
       "<pre>| 4             | 17        |</pre>"
      ],
      "text/plain": [
       "| 4             | 17        |"
      ]
     },
     "metadata": {},
     "output_type": "display_data"
    },
    {
     "data": {
      "text/html": [
       "<pre>| 5             | 3         |</pre>"
      ],
      "text/plain": [
       "| 5             | 3         |"
      ]
     },
     "metadata": {},
     "output_type": "display_data"
    },
    {
     "data": {
      "text/html": [
       "<pre>+---------------+-----------+</pre>"
      ],
      "text/plain": [
       "+---------------+-----------+"
      ]
     },
     "metadata": {},
     "output_type": "display_data"
    },
    {
     "data": {
      "text/html": [
       "<pre>Starting kmeans model training.</pre>"
      ],
      "text/plain": [
       "Starting kmeans model training."
      ]
     },
     "metadata": {},
     "output_type": "display_data"
    },
    {
     "data": {
      "text/html": [
       "<pre>Assigning points to initial cluster centers.</pre>"
      ],
      "text/plain": [
       "Assigning points to initial cluster centers."
      ]
     },
     "metadata": {},
     "output_type": "display_data"
    },
    {
     "data": {
      "text/html": [
       "<pre>+-----------+-------------------------------+</pre>"
      ],
      "text/plain": [
       "+-----------+-------------------------------+"
      ]
     },
     "metadata": {},
     "output_type": "display_data"
    },
    {
     "data": {
      "text/html": [
       "<pre>| Iteration | Number of changed assignments |</pre>"
      ],
      "text/plain": [
       "| Iteration | Number of changed assignments |"
      ]
     },
     "metadata": {},
     "output_type": "display_data"
    },
    {
     "data": {
      "text/html": [
       "<pre>+-----------+-------------------------------+</pre>"
      ],
      "text/plain": [
       "+-----------+-------------------------------+"
      ]
     },
     "metadata": {},
     "output_type": "display_data"
    },
    {
     "data": {
      "text/html": [
       "<pre>| 1         | 0                             |</pre>"
      ],
      "text/plain": [
       "| 1         | 0                             |"
      ]
     },
     "metadata": {},
     "output_type": "display_data"
    },
    {
     "data": {
      "text/html": [
       "<pre>+-----------+-------------------------------+</pre>"
      ],
      "text/plain": [
       "+-----------+-------------------------------+"
      ]
     },
     "metadata": {},
     "output_type": "display_data"
    },
    {
     "data": {
      "text/html": [
       "<pre>Batch size is larger than the input dataset. Switching to an exact Kmeans method.</pre>"
      ],
      "text/plain": [
       "Batch size is larger than the input dataset. Switching to an exact Kmeans method."
      ]
     },
     "metadata": {},
     "output_type": "display_data"
    },
    {
     "data": {
      "text/html": [
       "<pre>Choosing initial cluster centers with Kmeans++.</pre>"
      ],
      "text/plain": [
       "Choosing initial cluster centers with Kmeans++."
      ]
     },
     "metadata": {},
     "output_type": "display_data"
    },
    {
     "data": {
      "text/html": [
       "<pre>+---------------+-----------+</pre>"
      ],
      "text/plain": [
       "+---------------+-----------+"
      ]
     },
     "metadata": {},
     "output_type": "display_data"
    },
    {
     "data": {
      "text/html": [
       "<pre>| Center number | Row index |</pre>"
      ],
      "text/plain": [
       "| Center number | Row index |"
      ]
     },
     "metadata": {},
     "output_type": "display_data"
    },
    {
     "data": {
      "text/html": [
       "<pre>+---------------+-----------+</pre>"
      ],
      "text/plain": [
       "+---------------+-----------+"
      ]
     },
     "metadata": {},
     "output_type": "display_data"
    },
    {
     "data": {
      "text/html": [
       "<pre>| 0             | 62        |</pre>"
      ],
      "text/plain": [
       "| 0             | 62        |"
      ]
     },
     "metadata": {},
     "output_type": "display_data"
    },
    {
     "data": {
      "text/html": [
       "<pre>| 1             | 7         |</pre>"
      ],
      "text/plain": [
       "| 1             | 7         |"
      ]
     },
     "metadata": {},
     "output_type": "display_data"
    },
    {
     "data": {
      "text/html": [
       "<pre>| 2             | 0         |</pre>"
      ],
      "text/plain": [
       "| 2             | 0         |"
      ]
     },
     "metadata": {},
     "output_type": "display_data"
    },
    {
     "data": {
      "text/html": [
       "<pre>| 3             | 44        |</pre>"
      ],
      "text/plain": [
       "| 3             | 44        |"
      ]
     },
     "metadata": {},
     "output_type": "display_data"
    },
    {
     "data": {
      "text/html": [
       "<pre>| 4             | 46        |</pre>"
      ],
      "text/plain": [
       "| 4             | 46        |"
      ]
     },
     "metadata": {},
     "output_type": "display_data"
    },
    {
     "data": {
      "text/html": [
       "<pre>| 5             | 52        |</pre>"
      ],
      "text/plain": [
       "| 5             | 52        |"
      ]
     },
     "metadata": {},
     "output_type": "display_data"
    },
    {
     "data": {
      "text/html": [
       "<pre>| 6             | 53        |</pre>"
      ],
      "text/plain": [
       "| 6             | 53        |"
      ]
     },
     "metadata": {},
     "output_type": "display_data"
    },
    {
     "data": {
      "text/html": [
       "<pre>+---------------+-----------+</pre>"
      ],
      "text/plain": [
       "+---------------+-----------+"
      ]
     },
     "metadata": {},
     "output_type": "display_data"
    },
    {
     "data": {
      "text/html": [
       "<pre>Starting kmeans model training.</pre>"
      ],
      "text/plain": [
       "Starting kmeans model training."
      ]
     },
     "metadata": {},
     "output_type": "display_data"
    },
    {
     "data": {
      "text/html": [
       "<pre>Assigning points to initial cluster centers.</pre>"
      ],
      "text/plain": [
       "Assigning points to initial cluster centers."
      ]
     },
     "metadata": {},
     "output_type": "display_data"
    },
    {
     "data": {
      "text/html": [
       "<pre>+-----------+-------------------------------+</pre>"
      ],
      "text/plain": [
       "+-----------+-------------------------------+"
      ]
     },
     "metadata": {},
     "output_type": "display_data"
    },
    {
     "data": {
      "text/html": [
       "<pre>| Iteration | Number of changed assignments |</pre>"
      ],
      "text/plain": [
       "| Iteration | Number of changed assignments |"
      ]
     },
     "metadata": {},
     "output_type": "display_data"
    },
    {
     "data": {
      "text/html": [
       "<pre>+-----------+-------------------------------+</pre>"
      ],
      "text/plain": [
       "+-----------+-------------------------------+"
      ]
     },
     "metadata": {},
     "output_type": "display_data"
    },
    {
     "data": {
      "text/html": [
       "<pre>| 1         | 0                             |</pre>"
      ],
      "text/plain": [
       "| 1         | 0                             |"
      ]
     },
     "metadata": {},
     "output_type": "display_data"
    },
    {
     "data": {
      "text/html": [
       "<pre>+-----------+-------------------------------+</pre>"
      ],
      "text/plain": [
       "+-----------+-------------------------------+"
      ]
     },
     "metadata": {},
     "output_type": "display_data"
    },
    {
     "data": {
      "text/html": [
       "<pre>Batch size is larger than the input dataset. Switching to an exact Kmeans method.</pre>"
      ],
      "text/plain": [
       "Batch size is larger than the input dataset. Switching to an exact Kmeans method."
      ]
     },
     "metadata": {},
     "output_type": "display_data"
    },
    {
     "data": {
      "text/html": [
       "<pre>Choosing initial cluster centers with Kmeans++.</pre>"
      ],
      "text/plain": [
       "Choosing initial cluster centers with Kmeans++."
      ]
     },
     "metadata": {},
     "output_type": "display_data"
    },
    {
     "data": {
      "text/html": [
       "<pre>+---------------+-----------+</pre>"
      ],
      "text/plain": [
       "+---------------+-----------+"
      ]
     },
     "metadata": {},
     "output_type": "display_data"
    },
    {
     "data": {
      "text/html": [
       "<pre>| Center number | Row index |</pre>"
      ],
      "text/plain": [
       "| Center number | Row index |"
      ]
     },
     "metadata": {},
     "output_type": "display_data"
    },
    {
     "data": {
      "text/html": [
       "<pre>+---------------+-----------+</pre>"
      ],
      "text/plain": [
       "+---------------+-----------+"
      ]
     },
     "metadata": {},
     "output_type": "display_data"
    },
    {
     "data": {
      "text/html": [
       "<pre>| 0             | 48        |</pre>"
      ],
      "text/plain": [
       "| 0             | 48        |"
      ]
     },
     "metadata": {},
     "output_type": "display_data"
    },
    {
     "data": {
      "text/html": [
       "<pre>| 1             | 26        |</pre>"
      ],
      "text/plain": [
       "| 1             | 26        |"
      ]
     },
     "metadata": {},
     "output_type": "display_data"
    },
    {
     "data": {
      "text/html": [
       "<pre>| 2             | 42        |</pre>"
      ],
      "text/plain": [
       "| 2             | 42        |"
      ]
     },
     "metadata": {},
     "output_type": "display_data"
    },
    {
     "data": {
      "text/html": [
       "<pre>| 3             | 19        |</pre>"
      ],
      "text/plain": [
       "| 3             | 19        |"
      ]
     },
     "metadata": {},
     "output_type": "display_data"
    },
    {
     "data": {
      "text/html": [
       "<pre>| 4             | 41        |</pre>"
      ],
      "text/plain": [
       "| 4             | 41        |"
      ]
     },
     "metadata": {},
     "output_type": "display_data"
    },
    {
     "data": {
      "text/html": [
       "<pre>| 5             | 25        |</pre>"
      ],
      "text/plain": [
       "| 5             | 25        |"
      ]
     },
     "metadata": {},
     "output_type": "display_data"
    },
    {
     "data": {
      "text/html": [
       "<pre>| 7             | 46        |</pre>"
      ],
      "text/plain": [
       "| 7             | 46        |"
      ]
     },
     "metadata": {},
     "output_type": "display_data"
    },
    {
     "data": {
      "text/html": [
       "<pre>+---------------+-----------+</pre>"
      ],
      "text/plain": [
       "+---------------+-----------+"
      ]
     },
     "metadata": {},
     "output_type": "display_data"
    },
    {
     "data": {
      "text/html": [
       "<pre>Starting kmeans model training.</pre>"
      ],
      "text/plain": [
       "Starting kmeans model training."
      ]
     },
     "metadata": {},
     "output_type": "display_data"
    },
    {
     "data": {
      "text/html": [
       "<pre>Assigning points to initial cluster centers.</pre>"
      ],
      "text/plain": [
       "Assigning points to initial cluster centers."
      ]
     },
     "metadata": {},
     "output_type": "display_data"
    },
    {
     "data": {
      "text/html": [
       "<pre>+-----------+-------------------------------+</pre>"
      ],
      "text/plain": [
       "+-----------+-------------------------------+"
      ]
     },
     "metadata": {},
     "output_type": "display_data"
    },
    {
     "data": {
      "text/html": [
       "<pre>| Iteration | Number of changed assignments |</pre>"
      ],
      "text/plain": [
       "| Iteration | Number of changed assignments |"
      ]
     },
     "metadata": {},
     "output_type": "display_data"
    },
    {
     "data": {
      "text/html": [
       "<pre>+-----------+-------------------------------+</pre>"
      ],
      "text/plain": [
       "+-----------+-------------------------------+"
      ]
     },
     "metadata": {},
     "output_type": "display_data"
    },
    {
     "data": {
      "text/html": [
       "<pre>| 1         | 0                             |</pre>"
      ],
      "text/plain": [
       "| 1         | 0                             |"
      ]
     },
     "metadata": {},
     "output_type": "display_data"
    },
    {
     "data": {
      "text/html": [
       "<pre>+-----------+-------------------------------+</pre>"
      ],
      "text/plain": [
       "+-----------+-------------------------------+"
      ]
     },
     "metadata": {},
     "output_type": "display_data"
    },
    {
     "data": {
      "text/html": [
       "<pre>Batch size is larger than the input dataset. Switching to an exact Kmeans method.</pre>"
      ],
      "text/plain": [
       "Batch size is larger than the input dataset. Switching to an exact Kmeans method."
      ]
     },
     "metadata": {},
     "output_type": "display_data"
    },
    {
     "data": {
      "text/html": [
       "<pre>Choosing initial cluster centers with Kmeans++.</pre>"
      ],
      "text/plain": [
       "Choosing initial cluster centers with Kmeans++."
      ]
     },
     "metadata": {},
     "output_type": "display_data"
    },
    {
     "data": {
      "text/html": [
       "<pre>+---------------+-----------+</pre>"
      ],
      "text/plain": [
       "+---------------+-----------+"
      ]
     },
     "metadata": {},
     "output_type": "display_data"
    },
    {
     "data": {
      "text/html": [
       "<pre>| Center number | Row index |</pre>"
      ],
      "text/plain": [
       "| Center number | Row index |"
      ]
     },
     "metadata": {},
     "output_type": "display_data"
    },
    {
     "data": {
      "text/html": [
       "<pre>+---------------+-----------+</pre>"
      ],
      "text/plain": [
       "+---------------+-----------+"
      ]
     },
     "metadata": {},
     "output_type": "display_data"
    },
    {
     "data": {
      "text/html": [
       "<pre>| 0             | 55        |</pre>"
      ],
      "text/plain": [
       "| 0             | 55        |"
      ]
     },
     "metadata": {},
     "output_type": "display_data"
    },
    {
     "data": {
      "text/html": [
       "<pre>| 1             | 8         |</pre>"
      ],
      "text/plain": [
       "| 1             | 8         |"
      ]
     },
     "metadata": {},
     "output_type": "display_data"
    },
    {
     "data": {
      "text/html": [
       "<pre>| 2             | 10        |</pre>"
      ],
      "text/plain": [
       "| 2             | 10        |"
      ]
     },
     "metadata": {},
     "output_type": "display_data"
    },
    {
     "data": {
      "text/html": [
       "<pre>| 3             | 63        |</pre>"
      ],
      "text/plain": [
       "| 3             | 63        |"
      ]
     },
     "metadata": {},
     "output_type": "display_data"
    },
    {
     "data": {
      "text/html": [
       "<pre>| 4             | 69        |</pre>"
      ],
      "text/plain": [
       "| 4             | 69        |"
      ]
     },
     "metadata": {},
     "output_type": "display_data"
    },
    {
     "data": {
      "text/html": [
       "<pre>| 5             | 51        |</pre>"
      ],
      "text/plain": [
       "| 5             | 51        |"
      ]
     },
     "metadata": {},
     "output_type": "display_data"
    },
    {
     "data": {
      "text/html": [
       "<pre>| 8             | 2         |</pre>"
      ],
      "text/plain": [
       "| 8             | 2         |"
      ]
     },
     "metadata": {},
     "output_type": "display_data"
    },
    {
     "data": {
      "text/html": [
       "<pre>+---------------+-----------+</pre>"
      ],
      "text/plain": [
       "+---------------+-----------+"
      ]
     },
     "metadata": {},
     "output_type": "display_data"
    },
    {
     "data": {
      "text/html": [
       "<pre>Starting kmeans model training.</pre>"
      ],
      "text/plain": [
       "Starting kmeans model training."
      ]
     },
     "metadata": {},
     "output_type": "display_data"
    },
    {
     "data": {
      "text/html": [
       "<pre>Assigning points to initial cluster centers.</pre>"
      ],
      "text/plain": [
       "Assigning points to initial cluster centers."
      ]
     },
     "metadata": {},
     "output_type": "display_data"
    },
    {
     "data": {
      "text/html": [
       "<pre>+-----------+-------------------------------+</pre>"
      ],
      "text/plain": [
       "+-----------+-------------------------------+"
      ]
     },
     "metadata": {},
     "output_type": "display_data"
    },
    {
     "data": {
      "text/html": [
       "<pre>| Iteration | Number of changed assignments |</pre>"
      ],
      "text/plain": [
       "| Iteration | Number of changed assignments |"
      ]
     },
     "metadata": {},
     "output_type": "display_data"
    },
    {
     "data": {
      "text/html": [
       "<pre>+-----------+-------------------------------+</pre>"
      ],
      "text/plain": [
       "+-----------+-------------------------------+"
      ]
     },
     "metadata": {},
     "output_type": "display_data"
    },
    {
     "data": {
      "text/html": [
       "<pre>| 1         | 0                             |</pre>"
      ],
      "text/plain": [
       "| 1         | 0                             |"
      ]
     },
     "metadata": {},
     "output_type": "display_data"
    },
    {
     "data": {
      "text/html": [
       "<pre>+-----------+-------------------------------+</pre>"
      ],
      "text/plain": [
       "+-----------+-------------------------------+"
      ]
     },
     "metadata": {},
     "output_type": "display_data"
    },
    {
     "data": {
      "text/html": [
       "<pre>Batch size is larger than the input dataset. Switching to an exact Kmeans method.</pre>"
      ],
      "text/plain": [
       "Batch size is larger than the input dataset. Switching to an exact Kmeans method."
      ]
     },
     "metadata": {},
     "output_type": "display_data"
    },
    {
     "data": {
      "text/html": [
       "<pre>Choosing initial cluster centers with Kmeans++.</pre>"
      ],
      "text/plain": [
       "Choosing initial cluster centers with Kmeans++."
      ]
     },
     "metadata": {},
     "output_type": "display_data"
    },
    {
     "data": {
      "text/html": [
       "<pre>+---------------+-----------+</pre>"
      ],
      "text/plain": [
       "+---------------+-----------+"
      ]
     },
     "metadata": {},
     "output_type": "display_data"
    },
    {
     "data": {
      "text/html": [
       "<pre>| Center number | Row index |</pre>"
      ],
      "text/plain": [
       "| Center number | Row index |"
      ]
     },
     "metadata": {},
     "output_type": "display_data"
    },
    {
     "data": {
      "text/html": [
       "<pre>+---------------+-----------+</pre>"
      ],
      "text/plain": [
       "+---------------+-----------+"
      ]
     },
     "metadata": {},
     "output_type": "display_data"
    },
    {
     "data": {
      "text/html": [
       "<pre>| 0             | 20        |</pre>"
      ],
      "text/plain": [
       "| 0             | 20        |"
      ]
     },
     "metadata": {},
     "output_type": "display_data"
    },
    {
     "data": {
      "text/html": [
       "<pre>| 1             | 15        |</pre>"
      ],
      "text/plain": [
       "| 1             | 15        |"
      ]
     },
     "metadata": {},
     "output_type": "display_data"
    },
    {
     "data": {
      "text/html": [
       "<pre>| 2             | 24        |</pre>"
      ],
      "text/plain": [
       "| 2             | 24        |"
      ]
     },
     "metadata": {},
     "output_type": "display_data"
    },
    {
     "data": {
      "text/html": [
       "<pre>| 3             | 44        |</pre>"
      ],
      "text/plain": [
       "| 3             | 44        |"
      ]
     },
     "metadata": {},
     "output_type": "display_data"
    },
    {
     "data": {
      "text/html": [
       "<pre>| 4             | 62        |</pre>"
      ],
      "text/plain": [
       "| 4             | 62        |"
      ]
     },
     "metadata": {},
     "output_type": "display_data"
    },
    {
     "data": {
      "text/html": [
       "<pre>| 5             | 0         |</pre>"
      ],
      "text/plain": [
       "| 5             | 0         |"
      ]
     },
     "metadata": {},
     "output_type": "display_data"
    },
    {
     "data": {
      "text/html": [
       "<pre>| 9             | 12        |</pre>"
      ],
      "text/plain": [
       "| 9             | 12        |"
      ]
     },
     "metadata": {},
     "output_type": "display_data"
    },
    {
     "data": {
      "text/html": [
       "<pre>+---------------+-----------+</pre>"
      ],
      "text/plain": [
       "+---------------+-----------+"
      ]
     },
     "metadata": {},
     "output_type": "display_data"
    },
    {
     "data": {
      "text/html": [
       "<pre>Starting kmeans model training.</pre>"
      ],
      "text/plain": [
       "Starting kmeans model training."
      ]
     },
     "metadata": {},
     "output_type": "display_data"
    },
    {
     "data": {
      "text/html": [
       "<pre>Assigning points to initial cluster centers.</pre>"
      ],
      "text/plain": [
       "Assigning points to initial cluster centers."
      ]
     },
     "metadata": {},
     "output_type": "display_data"
    },
    {
     "data": {
      "text/html": [
       "<pre>+-----------+-------------------------------+</pre>"
      ],
      "text/plain": [
       "+-----------+-------------------------------+"
      ]
     },
     "metadata": {},
     "output_type": "display_data"
    },
    {
     "data": {
      "text/html": [
       "<pre>| Iteration | Number of changed assignments |</pre>"
      ],
      "text/plain": [
       "| Iteration | Number of changed assignments |"
      ]
     },
     "metadata": {},
     "output_type": "display_data"
    },
    {
     "data": {
      "text/html": [
       "<pre>+-----------+-------------------------------+</pre>"
      ],
      "text/plain": [
       "+-----------+-------------------------------+"
      ]
     },
     "metadata": {},
     "output_type": "display_data"
    },
    {
     "data": {
      "text/html": [
       "<pre>| 1         | 1                             |</pre>"
      ],
      "text/plain": [
       "| 1         | 1                             |"
      ]
     },
     "metadata": {},
     "output_type": "display_data"
    },
    {
     "data": {
      "text/html": [
       "<pre>| 2         | 0                             |</pre>"
      ],
      "text/plain": [
       "| 2         | 0                             |"
      ]
     },
     "metadata": {},
     "output_type": "display_data"
    },
    {
     "data": {
      "text/html": [
       "<pre>+-----------+-------------------------------+</pre>"
      ],
      "text/plain": [
       "+-----------+-------------------------------+"
      ]
     },
     "metadata": {},
     "output_type": "display_data"
    },
    {
     "data": {
      "text/html": [
       "<pre>Batch size is larger than the input dataset. Switching to an exact Kmeans method.</pre>"
      ],
      "text/plain": [
       "Batch size is larger than the input dataset. Switching to an exact Kmeans method."
      ]
     },
     "metadata": {},
     "output_type": "display_data"
    },
    {
     "data": {
      "text/html": [
       "<pre>Choosing initial cluster centers with Kmeans++.</pre>"
      ],
      "text/plain": [
       "Choosing initial cluster centers with Kmeans++."
      ]
     },
     "metadata": {},
     "output_type": "display_data"
    },
    {
     "data": {
      "text/html": [
       "<pre>+---------------+-----------+</pre>"
      ],
      "text/plain": [
       "+---------------+-----------+"
      ]
     },
     "metadata": {},
     "output_type": "display_data"
    },
    {
     "data": {
      "text/html": [
       "<pre>| Center number | Row index |</pre>"
      ],
      "text/plain": [
       "| Center number | Row index |"
      ]
     },
     "metadata": {},
     "output_type": "display_data"
    },
    {
     "data": {
      "text/html": [
       "<pre>+---------------+-----------+</pre>"
      ],
      "text/plain": [
       "+---------------+-----------+"
      ]
     },
     "metadata": {},
     "output_type": "display_data"
    },
    {
     "data": {
      "text/html": [
       "<pre>| 0             | 31        |</pre>"
      ],
      "text/plain": [
       "| 0             | 31        |"
      ]
     },
     "metadata": {},
     "output_type": "display_data"
    },
    {
     "data": {
      "text/html": [
       "<pre>| 1             | 30        |</pre>"
      ],
      "text/plain": [
       "| 1             | 30        |"
      ]
     },
     "metadata": {},
     "output_type": "display_data"
    },
    {
     "data": {
      "text/html": [
       "<pre>| 2             | 13        |</pre>"
      ],
      "text/plain": [
       "| 2             | 13        |"
      ]
     },
     "metadata": {},
     "output_type": "display_data"
    },
    {
     "data": {
      "text/html": [
       "<pre>| 3             | 61        |</pre>"
      ],
      "text/plain": [
       "| 3             | 61        |"
      ]
     },
     "metadata": {},
     "output_type": "display_data"
    },
    {
     "data": {
      "text/html": [
       "<pre>| 4             | 44        |</pre>"
      ],
      "text/plain": [
       "| 4             | 44        |"
      ]
     },
     "metadata": {},
     "output_type": "display_data"
    },
    {
     "data": {
      "text/html": [
       "<pre>| 5             | 40        |</pre>"
      ],
      "text/plain": [
       "| 5             | 40        |"
      ]
     },
     "metadata": {},
     "output_type": "display_data"
    },
    {
     "data": {
      "text/html": [
       "<pre>| 10            | 18        |</pre>"
      ],
      "text/plain": [
       "| 10            | 18        |"
      ]
     },
     "metadata": {},
     "output_type": "display_data"
    },
    {
     "data": {
      "text/html": [
       "<pre>+---------------+-----------+</pre>"
      ],
      "text/plain": [
       "+---------------+-----------+"
      ]
     },
     "metadata": {},
     "output_type": "display_data"
    },
    {
     "data": {
      "text/html": [
       "<pre>Starting kmeans model training.</pre>"
      ],
      "text/plain": [
       "Starting kmeans model training."
      ]
     },
     "metadata": {},
     "output_type": "display_data"
    },
    {
     "data": {
      "text/html": [
       "<pre>Assigning points to initial cluster centers.</pre>"
      ],
      "text/plain": [
       "Assigning points to initial cluster centers."
      ]
     },
     "metadata": {},
     "output_type": "display_data"
    },
    {
     "data": {
      "text/html": [
       "<pre>+-----------+-------------------------------+</pre>"
      ],
      "text/plain": [
       "+-----------+-------------------------------+"
      ]
     },
     "metadata": {},
     "output_type": "display_data"
    },
    {
     "data": {
      "text/html": [
       "<pre>| Iteration | Number of changed assignments |</pre>"
      ],
      "text/plain": [
       "| Iteration | Number of changed assignments |"
      ]
     },
     "metadata": {},
     "output_type": "display_data"
    },
    {
     "data": {
      "text/html": [
       "<pre>+-----------+-------------------------------+</pre>"
      ],
      "text/plain": [
       "+-----------+-------------------------------+"
      ]
     },
     "metadata": {},
     "output_type": "display_data"
    },
    {
     "data": {
      "text/html": [
       "<pre>| 1         | 1                             |</pre>"
      ],
      "text/plain": [
       "| 1         | 1                             |"
      ]
     },
     "metadata": {},
     "output_type": "display_data"
    },
    {
     "data": {
      "text/html": [
       "<pre>| 2         | 0                             |</pre>"
      ],
      "text/plain": [
       "| 2         | 0                             |"
      ]
     },
     "metadata": {},
     "output_type": "display_data"
    },
    {
     "data": {
      "text/html": [
       "<pre>+-----------+-------------------------------+</pre>"
      ],
      "text/plain": [
       "+-----------+-------------------------------+"
      ]
     },
     "metadata": {},
     "output_type": "display_data"
    },
    {
     "data": {
      "text/html": [
       "<pre>Batch size is larger than the input dataset. Switching to an exact Kmeans method.</pre>"
      ],
      "text/plain": [
       "Batch size is larger than the input dataset. Switching to an exact Kmeans method."
      ]
     },
     "metadata": {},
     "output_type": "display_data"
    },
    {
     "data": {
      "text/html": [
       "<pre>Choosing initial cluster centers with Kmeans++.</pre>"
      ],
      "text/plain": [
       "Choosing initial cluster centers with Kmeans++."
      ]
     },
     "metadata": {},
     "output_type": "display_data"
    },
    {
     "data": {
      "text/html": [
       "<pre>+---------------+-----------+</pre>"
      ],
      "text/plain": [
       "+---------------+-----------+"
      ]
     },
     "metadata": {},
     "output_type": "display_data"
    },
    {
     "data": {
      "text/html": [
       "<pre>| Center number | Row index |</pre>"
      ],
      "text/plain": [
       "| Center number | Row index |"
      ]
     },
     "metadata": {},
     "output_type": "display_data"
    },
    {
     "data": {
      "text/html": [
       "<pre>+---------------+-----------+</pre>"
      ],
      "text/plain": [
       "+---------------+-----------+"
      ]
     },
     "metadata": {},
     "output_type": "display_data"
    },
    {
     "data": {
      "text/html": [
       "<pre>| 0             | 50        |</pre>"
      ],
      "text/plain": [
       "| 0             | 50        |"
      ]
     },
     "metadata": {},
     "output_type": "display_data"
    },
    {
     "data": {
      "text/html": [
       "<pre>| 1             | 52        |</pre>"
      ],
      "text/plain": [
       "| 1             | 52        |"
      ]
     },
     "metadata": {},
     "output_type": "display_data"
    },
    {
     "data": {
      "text/html": [
       "<pre>| 2             | 28        |</pre>"
      ],
      "text/plain": [
       "| 2             | 28        |"
      ]
     },
     "metadata": {},
     "output_type": "display_data"
    },
    {
     "data": {
      "text/html": [
       "<pre>| 3             | 6         |</pre>"
      ],
      "text/plain": [
       "| 3             | 6         |"
      ]
     },
     "metadata": {},
     "output_type": "display_data"
    },
    {
     "data": {
      "text/html": [
       "<pre>| 4             | 62        |</pre>"
      ],
      "text/plain": [
       "| 4             | 62        |"
      ]
     },
     "metadata": {},
     "output_type": "display_data"
    },
    {
     "data": {
      "text/html": [
       "<pre>| 5             | 30        |</pre>"
      ],
      "text/plain": [
       "| 5             | 30        |"
      ]
     },
     "metadata": {},
     "output_type": "display_data"
    },
    {
     "data": {
      "text/html": [
       "<pre>| 10            | 12        |</pre>"
      ],
      "text/plain": [
       "| 10            | 12        |"
      ]
     },
     "metadata": {},
     "output_type": "display_data"
    },
    {
     "data": {
      "text/html": [
       "<pre>| 11            | 61        |</pre>"
      ],
      "text/plain": [
       "| 11            | 61        |"
      ]
     },
     "metadata": {},
     "output_type": "display_data"
    },
    {
     "data": {
      "text/html": [
       "<pre>+---------------+-----------+</pre>"
      ],
      "text/plain": [
       "+---------------+-----------+"
      ]
     },
     "metadata": {},
     "output_type": "display_data"
    },
    {
     "data": {
      "text/html": [
       "<pre>Starting kmeans model training.</pre>"
      ],
      "text/plain": [
       "Starting kmeans model training."
      ]
     },
     "metadata": {},
     "output_type": "display_data"
    },
    {
     "data": {
      "text/html": [
       "<pre>Assigning points to initial cluster centers.</pre>"
      ],
      "text/plain": [
       "Assigning points to initial cluster centers."
      ]
     },
     "metadata": {},
     "output_type": "display_data"
    },
    {
     "data": {
      "text/html": [
       "<pre>+-----------+-------------------------------+</pre>"
      ],
      "text/plain": [
       "+-----------+-------------------------------+"
      ]
     },
     "metadata": {},
     "output_type": "display_data"
    },
    {
     "data": {
      "text/html": [
       "<pre>| Iteration | Number of changed assignments |</pre>"
      ],
      "text/plain": [
       "| Iteration | Number of changed assignments |"
      ]
     },
     "metadata": {},
     "output_type": "display_data"
    },
    {
     "data": {
      "text/html": [
       "<pre>+-----------+-------------------------------+</pre>"
      ],
      "text/plain": [
       "+-----------+-------------------------------+"
      ]
     },
     "metadata": {},
     "output_type": "display_data"
    },
    {
     "data": {
      "text/html": [
       "<pre>| 1         | 1                             |</pre>"
      ],
      "text/plain": [
       "| 1         | 1                             |"
      ]
     },
     "metadata": {},
     "output_type": "display_data"
    },
    {
     "data": {
      "text/html": [
       "<pre>| 2         | 0                             |</pre>"
      ],
      "text/plain": [
       "| 2         | 0                             |"
      ]
     },
     "metadata": {},
     "output_type": "display_data"
    },
    {
     "data": {
      "text/html": [
       "<pre>+-----------+-------------------------------+</pre>"
      ],
      "text/plain": [
       "+-----------+-------------------------------+"
      ]
     },
     "metadata": {},
     "output_type": "display_data"
    },
    {
     "data": {
      "text/html": [
       "<pre>Batch size is larger than the input dataset. Switching to an exact Kmeans method.</pre>"
      ],
      "text/plain": [
       "Batch size is larger than the input dataset. Switching to an exact Kmeans method."
      ]
     },
     "metadata": {},
     "output_type": "display_data"
    },
    {
     "data": {
      "text/html": [
       "<pre>Choosing initial cluster centers with Kmeans++.</pre>"
      ],
      "text/plain": [
       "Choosing initial cluster centers with Kmeans++."
      ]
     },
     "metadata": {},
     "output_type": "display_data"
    },
    {
     "data": {
      "text/html": [
       "<pre>+---------------+-----------+</pre>"
      ],
      "text/plain": [
       "+---------------+-----------+"
      ]
     },
     "metadata": {},
     "output_type": "display_data"
    },
    {
     "data": {
      "text/html": [
       "<pre>| Center number | Row index |</pre>"
      ],
      "text/plain": [
       "| Center number | Row index |"
      ]
     },
     "metadata": {},
     "output_type": "display_data"
    },
    {
     "data": {
      "text/html": [
       "<pre>+---------------+-----------+</pre>"
      ],
      "text/plain": [
       "+---------------+-----------+"
      ]
     },
     "metadata": {},
     "output_type": "display_data"
    },
    {
     "data": {
      "text/html": [
       "<pre>| 0             | 3         |</pre>"
      ],
      "text/plain": [
       "| 0             | 3         |"
      ]
     },
     "metadata": {},
     "output_type": "display_data"
    },
    {
     "data": {
      "text/html": [
       "<pre>| 1             | 31        |</pre>"
      ],
      "text/plain": [
       "| 1             | 31        |"
      ]
     },
     "metadata": {},
     "output_type": "display_data"
    },
    {
     "data": {
      "text/html": [
       "<pre>| 2             | 20        |</pre>"
      ],
      "text/plain": [
       "| 2             | 20        |"
      ]
     },
     "metadata": {},
     "output_type": "display_data"
    },
    {
     "data": {
      "text/html": [
       "<pre>| 3             | 57        |</pre>"
      ],
      "text/plain": [
       "| 3             | 57        |"
      ]
     },
     "metadata": {},
     "output_type": "display_data"
    },
    {
     "data": {
      "text/html": [
       "<pre>| 4             | 68        |</pre>"
      ],
      "text/plain": [
       "| 4             | 68        |"
      ]
     },
     "metadata": {},
     "output_type": "display_data"
    },
    {
     "data": {
      "text/html": [
       "<pre>| 5             | 62        |</pre>"
      ],
      "text/plain": [
       "| 5             | 62        |"
      ]
     },
     "metadata": {},
     "output_type": "display_data"
    },
    {
     "data": {
      "text/html": [
       "<pre>| 10            | 60        |</pre>"
      ],
      "text/plain": [
       "| 10            | 60        |"
      ]
     },
     "metadata": {},
     "output_type": "display_data"
    },
    {
     "data": {
      "text/html": [
       "<pre>| 12            | 54        |</pre>"
      ],
      "text/plain": [
       "| 12            | 54        |"
      ]
     },
     "metadata": {},
     "output_type": "display_data"
    },
    {
     "data": {
      "text/html": [
       "<pre>+---------------+-----------+</pre>"
      ],
      "text/plain": [
       "+---------------+-----------+"
      ]
     },
     "metadata": {},
     "output_type": "display_data"
    },
    {
     "data": {
      "text/html": [
       "<pre>Starting kmeans model training.</pre>"
      ],
      "text/plain": [
       "Starting kmeans model training."
      ]
     },
     "metadata": {},
     "output_type": "display_data"
    },
    {
     "data": {
      "text/html": [
       "<pre>Assigning points to initial cluster centers.</pre>"
      ],
      "text/plain": [
       "Assigning points to initial cluster centers."
      ]
     },
     "metadata": {},
     "output_type": "display_data"
    },
    {
     "data": {
      "text/html": [
       "<pre>+-----------+-------------------------------+</pre>"
      ],
      "text/plain": [
       "+-----------+-------------------------------+"
      ]
     },
     "metadata": {},
     "output_type": "display_data"
    },
    {
     "data": {
      "text/html": [
       "<pre>| Iteration | Number of changed assignments |</pre>"
      ],
      "text/plain": [
       "| Iteration | Number of changed assignments |"
      ]
     },
     "metadata": {},
     "output_type": "display_data"
    },
    {
     "data": {
      "text/html": [
       "<pre>+-----------+-------------------------------+</pre>"
      ],
      "text/plain": [
       "+-----------+-------------------------------+"
      ]
     },
     "metadata": {},
     "output_type": "display_data"
    },
    {
     "data": {
      "text/html": [
       "<pre>| 1         | 1                             |</pre>"
      ],
      "text/plain": [
       "| 1         | 1                             |"
      ]
     },
     "metadata": {},
     "output_type": "display_data"
    },
    {
     "data": {
      "text/html": [
       "<pre>| 2         | 0                             |</pre>"
      ],
      "text/plain": [
       "| 2         | 0                             |"
      ]
     },
     "metadata": {},
     "output_type": "display_data"
    },
    {
     "data": {
      "text/html": [
       "<pre>+-----------+-------------------------------+</pre>"
      ],
      "text/plain": [
       "+-----------+-------------------------------+"
      ]
     },
     "metadata": {},
     "output_type": "display_data"
    },
    {
     "data": {
      "text/html": [
       "<pre>Batch size is larger than the input dataset. Switching to an exact Kmeans method.</pre>"
      ],
      "text/plain": [
       "Batch size is larger than the input dataset. Switching to an exact Kmeans method."
      ]
     },
     "metadata": {},
     "output_type": "display_data"
    },
    {
     "data": {
      "text/html": [
       "<pre>Choosing initial cluster centers with Kmeans++.</pre>"
      ],
      "text/plain": [
       "Choosing initial cluster centers with Kmeans++."
      ]
     },
     "metadata": {},
     "output_type": "display_data"
    },
    {
     "data": {
      "text/html": [
       "<pre>+---------------+-----------+</pre>"
      ],
      "text/plain": [
       "+---------------+-----------+"
      ]
     },
     "metadata": {},
     "output_type": "display_data"
    },
    {
     "data": {
      "text/html": [
       "<pre>| Center number | Row index |</pre>"
      ],
      "text/plain": [
       "| Center number | Row index |"
      ]
     },
     "metadata": {},
     "output_type": "display_data"
    },
    {
     "data": {
      "text/html": [
       "<pre>+---------------+-----------+</pre>"
      ],
      "text/plain": [
       "+---------------+-----------+"
      ]
     },
     "metadata": {},
     "output_type": "display_data"
    },
    {
     "data": {
      "text/html": [
       "<pre>| 0             | 72        |</pre>"
      ],
      "text/plain": [
       "| 0             | 72        |"
      ]
     },
     "metadata": {},
     "output_type": "display_data"
    },
    {
     "data": {
      "text/html": [
       "<pre>| 1             | 37        |</pre>"
      ],
      "text/plain": [
       "| 1             | 37        |"
      ]
     },
     "metadata": {},
     "output_type": "display_data"
    },
    {
     "data": {
      "text/html": [
       "<pre>| 2             | 42        |</pre>"
      ],
      "text/plain": [
       "| 2             | 42        |"
      ]
     },
     "metadata": {},
     "output_type": "display_data"
    },
    {
     "data": {
      "text/html": [
       "<pre>| 3             | 30        |</pre>"
      ],
      "text/plain": [
       "| 3             | 30        |"
      ]
     },
     "metadata": {},
     "output_type": "display_data"
    },
    {
     "data": {
      "text/html": [
       "<pre>| 4             | 22        |</pre>"
      ],
      "text/plain": [
       "| 4             | 22        |"
      ]
     },
     "metadata": {},
     "output_type": "display_data"
    },
    {
     "data": {
      "text/html": [
       "<pre>| 5             | 48        |</pre>"
      ],
      "text/plain": [
       "| 5             | 48        |"
      ]
     },
     "metadata": {},
     "output_type": "display_data"
    },
    {
     "data": {
      "text/html": [
       "<pre>| 10            | 52        |</pre>"
      ],
      "text/plain": [
       "| 10            | 52        |"
      ]
     },
     "metadata": {},
     "output_type": "display_data"
    },
    {
     "data": {
      "text/html": [
       "<pre>| 13            | 17        |</pre>"
      ],
      "text/plain": [
       "| 13            | 17        |"
      ]
     },
     "metadata": {},
     "output_type": "display_data"
    },
    {
     "data": {
      "text/html": [
       "<pre>+---------------+-----------+</pre>"
      ],
      "text/plain": [
       "+---------------+-----------+"
      ]
     },
     "metadata": {},
     "output_type": "display_data"
    },
    {
     "data": {
      "text/html": [
       "<pre>Starting kmeans model training.</pre>"
      ],
      "text/plain": [
       "Starting kmeans model training."
      ]
     },
     "metadata": {},
     "output_type": "display_data"
    },
    {
     "data": {
      "text/html": [
       "<pre>Assigning points to initial cluster centers.</pre>"
      ],
      "text/plain": [
       "Assigning points to initial cluster centers."
      ]
     },
     "metadata": {},
     "output_type": "display_data"
    },
    {
     "data": {
      "text/html": [
       "<pre>+-----------+-------------------------------+</pre>"
      ],
      "text/plain": [
       "+-----------+-------------------------------+"
      ]
     },
     "metadata": {},
     "output_type": "display_data"
    },
    {
     "data": {
      "text/html": [
       "<pre>| Iteration | Number of changed assignments |</pre>"
      ],
      "text/plain": [
       "| Iteration | Number of changed assignments |"
      ]
     },
     "metadata": {},
     "output_type": "display_data"
    },
    {
     "data": {
      "text/html": [
       "<pre>+-----------+-------------------------------+</pre>"
      ],
      "text/plain": [
       "+-----------+-------------------------------+"
      ]
     },
     "metadata": {},
     "output_type": "display_data"
    },
    {
     "data": {
      "text/html": [
       "<pre>| 1         | 0                             |</pre>"
      ],
      "text/plain": [
       "| 1         | 0                             |"
      ]
     },
     "metadata": {},
     "output_type": "display_data"
    },
    {
     "data": {
      "text/html": [
       "<pre>+-----------+-------------------------------+</pre>"
      ],
      "text/plain": [
       "+-----------+-------------------------------+"
      ]
     },
     "metadata": {},
     "output_type": "display_data"
    },
    {
     "data": {
      "text/html": [
       "<pre>Batch size is larger than the input dataset. Switching to an exact Kmeans method.</pre>"
      ],
      "text/plain": [
       "Batch size is larger than the input dataset. Switching to an exact Kmeans method."
      ]
     },
     "metadata": {},
     "output_type": "display_data"
    },
    {
     "data": {
      "text/html": [
       "<pre>Choosing initial cluster centers with Kmeans++.</pre>"
      ],
      "text/plain": [
       "Choosing initial cluster centers with Kmeans++."
      ]
     },
     "metadata": {},
     "output_type": "display_data"
    },
    {
     "data": {
      "text/html": [
       "<pre>+---------------+-----------+</pre>"
      ],
      "text/plain": [
       "+---------------+-----------+"
      ]
     },
     "metadata": {},
     "output_type": "display_data"
    },
    {
     "data": {
      "text/html": [
       "<pre>| Center number | Row index |</pre>"
      ],
      "text/plain": [
       "| Center number | Row index |"
      ]
     },
     "metadata": {},
     "output_type": "display_data"
    },
    {
     "data": {
      "text/html": [
       "<pre>+---------------+-----------+</pre>"
      ],
      "text/plain": [
       "+---------------+-----------+"
      ]
     },
     "metadata": {},
     "output_type": "display_data"
    },
    {
     "data": {
      "text/html": [
       "<pre>| 0             | 48        |</pre>"
      ],
      "text/plain": [
       "| 0             | 48        |"
      ]
     },
     "metadata": {},
     "output_type": "display_data"
    },
    {
     "data": {
      "text/html": [
       "<pre>| 1             | 18        |</pre>"
      ],
      "text/plain": [
       "| 1             | 18        |"
      ]
     },
     "metadata": {},
     "output_type": "display_data"
    },
    {
     "data": {
      "text/html": [
       "<pre>| 2             | 20        |</pre>"
      ],
      "text/plain": [
       "| 2             | 20        |"
      ]
     },
     "metadata": {},
     "output_type": "display_data"
    },
    {
     "data": {
      "text/html": [
       "<pre>| 3             | 64        |</pre>"
      ],
      "text/plain": [
       "| 3             | 64        |"
      ]
     },
     "metadata": {},
     "output_type": "display_data"
    },
    {
     "data": {
      "text/html": [
       "<pre>| 4             | 41        |</pre>"
      ],
      "text/plain": [
       "| 4             | 41        |"
      ]
     },
     "metadata": {},
     "output_type": "display_data"
    },
    {
     "data": {
      "text/html": [
       "<pre>| 5             | 35        |</pre>"
      ],
      "text/plain": [
       "| 5             | 35        |"
      ]
     },
     "metadata": {},
     "output_type": "display_data"
    },
    {
     "data": {
      "text/html": [
       "<pre>| 10            | 3         |</pre>"
      ],
      "text/plain": [
       "| 10            | 3         |"
      ]
     },
     "metadata": {},
     "output_type": "display_data"
    },
    {
     "data": {
      "text/html": [
       "<pre>| 14            | 65        |</pre>"
      ],
      "text/plain": [
       "| 14            | 65        |"
      ]
     },
     "metadata": {},
     "output_type": "display_data"
    },
    {
     "data": {
      "text/html": [
       "<pre>+---------------+-----------+</pre>"
      ],
      "text/plain": [
       "+---------------+-----------+"
      ]
     },
     "metadata": {},
     "output_type": "display_data"
    },
    {
     "data": {
      "text/html": [
       "<pre>Starting kmeans model training.</pre>"
      ],
      "text/plain": [
       "Starting kmeans model training."
      ]
     },
     "metadata": {},
     "output_type": "display_data"
    },
    {
     "data": {
      "text/html": [
       "<pre>Assigning points to initial cluster centers.</pre>"
      ],
      "text/plain": [
       "Assigning points to initial cluster centers."
      ]
     },
     "metadata": {},
     "output_type": "display_data"
    },
    {
     "data": {
      "text/html": [
       "<pre>+-----------+-------------------------------+</pre>"
      ],
      "text/plain": [
       "+-----------+-------------------------------+"
      ]
     },
     "metadata": {},
     "output_type": "display_data"
    },
    {
     "data": {
      "text/html": [
       "<pre>| Iteration | Number of changed assignments |</pre>"
      ],
      "text/plain": [
       "| Iteration | Number of changed assignments |"
      ]
     },
     "metadata": {},
     "output_type": "display_data"
    },
    {
     "data": {
      "text/html": [
       "<pre>+-----------+-------------------------------+</pre>"
      ],
      "text/plain": [
       "+-----------+-------------------------------+"
      ]
     },
     "metadata": {},
     "output_type": "display_data"
    },
    {
     "data": {
      "text/html": [
       "<pre>| 1         | 1                             |</pre>"
      ],
      "text/plain": [
       "| 1         | 1                             |"
      ]
     },
     "metadata": {},
     "output_type": "display_data"
    },
    {
     "data": {
      "text/html": [
       "<pre>| 2         | 0                             |</pre>"
      ],
      "text/plain": [
       "| 2         | 0                             |"
      ]
     },
     "metadata": {},
     "output_type": "display_data"
    },
    {
     "data": {
      "text/html": [
       "<pre>+-----------+-------------------------------+</pre>"
      ],
      "text/plain": [
       "+-----------+-------------------------------+"
      ]
     },
     "metadata": {},
     "output_type": "display_data"
    },
    {
     "data": {
      "text/html": [
       "<pre>Batch size is larger than the input dataset. Switching to an exact Kmeans method.</pre>"
      ],
      "text/plain": [
       "Batch size is larger than the input dataset. Switching to an exact Kmeans method."
      ]
     },
     "metadata": {},
     "output_type": "display_data"
    },
    {
     "data": {
      "text/html": [
       "<pre>Choosing initial cluster centers with Kmeans++.</pre>"
      ],
      "text/plain": [
       "Choosing initial cluster centers with Kmeans++."
      ]
     },
     "metadata": {},
     "output_type": "display_data"
    },
    {
     "data": {
      "text/html": [
       "<pre>+---------------+-----------+</pre>"
      ],
      "text/plain": [
       "+---------------+-----------+"
      ]
     },
     "metadata": {},
     "output_type": "display_data"
    },
    {
     "data": {
      "text/html": [
       "<pre>| Center number | Row index |</pre>"
      ],
      "text/plain": [
       "| Center number | Row index |"
      ]
     },
     "metadata": {},
     "output_type": "display_data"
    },
    {
     "data": {
      "text/html": [
       "<pre>+---------------+-----------+</pre>"
      ],
      "text/plain": [
       "+---------------+-----------+"
      ]
     },
     "metadata": {},
     "output_type": "display_data"
    },
    {
     "data": {
      "text/html": [
       "<pre>| 0             | 41        |</pre>"
      ],
      "text/plain": [
       "| 0             | 41        |"
      ]
     },
     "metadata": {},
     "output_type": "display_data"
    },
    {
     "data": {
      "text/html": [
       "<pre>| 1             | 25        |</pre>"
      ],
      "text/plain": [
       "| 1             | 25        |"
      ]
     },
     "metadata": {},
     "output_type": "display_data"
    },
    {
     "data": {
      "text/html": [
       "<pre>| 2             | 56        |</pre>"
      ],
      "text/plain": [
       "| 2             | 56        |"
      ]
     },
     "metadata": {},
     "output_type": "display_data"
    },
    {
     "data": {
      "text/html": [
       "<pre>| 3             | 28        |</pre>"
      ],
      "text/plain": [
       "| 3             | 28        |"
      ]
     },
     "metadata": {},
     "output_type": "display_data"
    },
    {
     "data": {
      "text/html": [
       "<pre>| 4             | 27        |</pre>"
      ],
      "text/plain": [
       "| 4             | 27        |"
      ]
     },
     "metadata": {},
     "output_type": "display_data"
    },
    {
     "data": {
      "text/html": [
       "<pre>| 5             | 50        |</pre>"
      ],
      "text/plain": [
       "| 5             | 50        |"
      ]
     },
     "metadata": {},
     "output_type": "display_data"
    },
    {
     "data": {
      "text/html": [
       "<pre>| 10            | 42        |</pre>"
      ],
      "text/plain": [
       "| 10            | 42        |"
      ]
     },
     "metadata": {},
     "output_type": "display_data"
    },
    {
     "data": {
      "text/html": [
       "<pre>| 15            | 29        |</pre>"
      ],
      "text/plain": [
       "| 15            | 29        |"
      ]
     },
     "metadata": {},
     "output_type": "display_data"
    },
    {
     "data": {
      "text/html": [
       "<pre>+---------------+-----------+</pre>"
      ],
      "text/plain": [
       "+---------------+-----------+"
      ]
     },
     "metadata": {},
     "output_type": "display_data"
    },
    {
     "data": {
      "text/html": [
       "<pre>Starting kmeans model training.</pre>"
      ],
      "text/plain": [
       "Starting kmeans model training."
      ]
     },
     "metadata": {},
     "output_type": "display_data"
    },
    {
     "data": {
      "text/html": [
       "<pre>Assigning points to initial cluster centers.</pre>"
      ],
      "text/plain": [
       "Assigning points to initial cluster centers."
      ]
     },
     "metadata": {},
     "output_type": "display_data"
    },
    {
     "data": {
      "text/html": [
       "<pre>+-----------+-------------------------------+</pre>"
      ],
      "text/plain": [
       "+-----------+-------------------------------+"
      ]
     },
     "metadata": {},
     "output_type": "display_data"
    },
    {
     "data": {
      "text/html": [
       "<pre>| Iteration | Number of changed assignments |</pre>"
      ],
      "text/plain": [
       "| Iteration | Number of changed assignments |"
      ]
     },
     "metadata": {},
     "output_type": "display_data"
    },
    {
     "data": {
      "text/html": [
       "<pre>+-----------+-------------------------------+</pre>"
      ],
      "text/plain": [
       "+-----------+-------------------------------+"
      ]
     },
     "metadata": {},
     "output_type": "display_data"
    },
    {
     "data": {
      "text/html": [
       "<pre>| 1         | 0                             |</pre>"
      ],
      "text/plain": [
       "| 1         | 0                             |"
      ]
     },
     "metadata": {},
     "output_type": "display_data"
    },
    {
     "data": {
      "text/html": [
       "<pre>+-----------+-------------------------------+</pre>"
      ],
      "text/plain": [
       "+-----------+-------------------------------+"
      ]
     },
     "metadata": {},
     "output_type": "display_data"
    },
    {
     "data": {
      "text/html": [
       "<pre>Batch size is larger than the input dataset. Switching to an exact Kmeans method.</pre>"
      ],
      "text/plain": [
       "Batch size is larger than the input dataset. Switching to an exact Kmeans method."
      ]
     },
     "metadata": {},
     "output_type": "display_data"
    },
    {
     "data": {
      "text/html": [
       "<pre>Choosing initial cluster centers with Kmeans++.</pre>"
      ],
      "text/plain": [
       "Choosing initial cluster centers with Kmeans++."
      ]
     },
     "metadata": {},
     "output_type": "display_data"
    },
    {
     "data": {
      "text/html": [
       "<pre>+---------------+-----------+</pre>"
      ],
      "text/plain": [
       "+---------------+-----------+"
      ]
     },
     "metadata": {},
     "output_type": "display_data"
    },
    {
     "data": {
      "text/html": [
       "<pre>| Center number | Row index |</pre>"
      ],
      "text/plain": [
       "| Center number | Row index |"
      ]
     },
     "metadata": {},
     "output_type": "display_data"
    },
    {
     "data": {
      "text/html": [
       "<pre>+---------------+-----------+</pre>"
      ],
      "text/plain": [
       "+---------------+-----------+"
      ]
     },
     "metadata": {},
     "output_type": "display_data"
    },
    {
     "data": {
      "text/html": [
       "<pre>| 0             | 17        |</pre>"
      ],
      "text/plain": [
       "| 0             | 17        |"
      ]
     },
     "metadata": {},
     "output_type": "display_data"
    },
    {
     "data": {
      "text/html": [
       "<pre>| 1             | 38        |</pre>"
      ],
      "text/plain": [
       "| 1             | 38        |"
      ]
     },
     "metadata": {},
     "output_type": "display_data"
    },
    {
     "data": {
      "text/html": [
       "<pre>| 2             | 24        |</pre>"
      ],
      "text/plain": [
       "| 2             | 24        |"
      ]
     },
     "metadata": {},
     "output_type": "display_data"
    },
    {
     "data": {
      "text/html": [
       "<pre>| 3             | 26        |</pre>"
      ],
      "text/plain": [
       "| 3             | 26        |"
      ]
     },
     "metadata": {},
     "output_type": "display_data"
    },
    {
     "data": {
      "text/html": [
       "<pre>| 4             | 53        |</pre>"
      ],
      "text/plain": [
       "| 4             | 53        |"
      ]
     },
     "metadata": {},
     "output_type": "display_data"
    },
    {
     "data": {
      "text/html": [
       "<pre>| 5             | 55        |</pre>"
      ],
      "text/plain": [
       "| 5             | 55        |"
      ]
     },
     "metadata": {},
     "output_type": "display_data"
    },
    {
     "data": {
      "text/html": [
       "<pre>| 10            | 0         |</pre>"
      ],
      "text/plain": [
       "| 10            | 0         |"
      ]
     },
     "metadata": {},
     "output_type": "display_data"
    },
    {
     "data": {
      "text/html": [
       "<pre>| 16            | 20        |</pre>"
      ],
      "text/plain": [
       "| 16            | 20        |"
      ]
     },
     "metadata": {},
     "output_type": "display_data"
    },
    {
     "data": {
      "text/html": [
       "<pre>+---------------+-----------+</pre>"
      ],
      "text/plain": [
       "+---------------+-----------+"
      ]
     },
     "metadata": {},
     "output_type": "display_data"
    },
    {
     "data": {
      "text/html": [
       "<pre>Starting kmeans model training.</pre>"
      ],
      "text/plain": [
       "Starting kmeans model training."
      ]
     },
     "metadata": {},
     "output_type": "display_data"
    },
    {
     "data": {
      "text/html": [
       "<pre>Assigning points to initial cluster centers.</pre>"
      ],
      "text/plain": [
       "Assigning points to initial cluster centers."
      ]
     },
     "metadata": {},
     "output_type": "display_data"
    },
    {
     "data": {
      "text/html": [
       "<pre>+-----------+-------------------------------+</pre>"
      ],
      "text/plain": [
       "+-----------+-------------------------------+"
      ]
     },
     "metadata": {},
     "output_type": "display_data"
    },
    {
     "data": {
      "text/html": [
       "<pre>| Iteration | Number of changed assignments |</pre>"
      ],
      "text/plain": [
       "| Iteration | Number of changed assignments |"
      ]
     },
     "metadata": {},
     "output_type": "display_data"
    },
    {
     "data": {
      "text/html": [
       "<pre>+-----------+-------------------------------+</pre>"
      ],
      "text/plain": [
       "+-----------+-------------------------------+"
      ]
     },
     "metadata": {},
     "output_type": "display_data"
    },
    {
     "data": {
      "text/html": [
       "<pre>| 1         | 0                             |</pre>"
      ],
      "text/plain": [
       "| 1         | 0                             |"
      ]
     },
     "metadata": {},
     "output_type": "display_data"
    },
    {
     "data": {
      "text/html": [
       "<pre>+-----------+-------------------------------+</pre>"
      ],
      "text/plain": [
       "+-----------+-------------------------------+"
      ]
     },
     "metadata": {},
     "output_type": "display_data"
    },
    {
     "data": {
      "text/html": [
       "<pre>Batch size is larger than the input dataset. Switching to an exact Kmeans method.</pre>"
      ],
      "text/plain": [
       "Batch size is larger than the input dataset. Switching to an exact Kmeans method."
      ]
     },
     "metadata": {},
     "output_type": "display_data"
    },
    {
     "data": {
      "text/html": [
       "<pre>Choosing initial cluster centers with Kmeans++.</pre>"
      ],
      "text/plain": [
       "Choosing initial cluster centers with Kmeans++."
      ]
     },
     "metadata": {},
     "output_type": "display_data"
    },
    {
     "data": {
      "text/html": [
       "<pre>+---------------+-----------+</pre>"
      ],
      "text/plain": [
       "+---------------+-----------+"
      ]
     },
     "metadata": {},
     "output_type": "display_data"
    },
    {
     "data": {
      "text/html": [
       "<pre>| Center number | Row index |</pre>"
      ],
      "text/plain": [
       "| Center number | Row index |"
      ]
     },
     "metadata": {},
     "output_type": "display_data"
    },
    {
     "data": {
      "text/html": [
       "<pre>+---------------+-----------+</pre>"
      ],
      "text/plain": [
       "+---------------+-----------+"
      ]
     },
     "metadata": {},
     "output_type": "display_data"
    },
    {
     "data": {
      "text/html": [
       "<pre>| 0             | 15        |</pre>"
      ],
      "text/plain": [
       "| 0             | 15        |"
      ]
     },
     "metadata": {},
     "output_type": "display_data"
    },
    {
     "data": {
      "text/html": [
       "<pre>| 1             | 21        |</pre>"
      ],
      "text/plain": [
       "| 1             | 21        |"
      ]
     },
     "metadata": {},
     "output_type": "display_data"
    },
    {
     "data": {
      "text/html": [
       "<pre>| 2             | 46        |</pre>"
      ],
      "text/plain": [
       "| 2             | 46        |"
      ]
     },
     "metadata": {},
     "output_type": "display_data"
    },
    {
     "data": {
      "text/html": [
       "<pre>| 3             | 64        |</pre>"
      ],
      "text/plain": [
       "| 3             | 64        |"
      ]
     },
     "metadata": {},
     "output_type": "display_data"
    },
    {
     "data": {
      "text/html": [
       "<pre>| 4             | 55        |</pre>"
      ],
      "text/plain": [
       "| 4             | 55        |"
      ]
     },
     "metadata": {},
     "output_type": "display_data"
    },
    {
     "data": {
      "text/html": [
       "<pre>| 5             | 5         |</pre>"
      ],
      "text/plain": [
       "| 5             | 5         |"
      ]
     },
     "metadata": {},
     "output_type": "display_data"
    },
    {
     "data": {
      "text/html": [
       "<pre>| 10            | 29        |</pre>"
      ],
      "text/plain": [
       "| 10            | 29        |"
      ]
     },
     "metadata": {},
     "output_type": "display_data"
    },
    {
     "data": {
      "text/html": [
       "<pre>| 17            | 63        |</pre>"
      ],
      "text/plain": [
       "| 17            | 63        |"
      ]
     },
     "metadata": {},
     "output_type": "display_data"
    },
    {
     "data": {
      "text/html": [
       "<pre>+---------------+-----------+</pre>"
      ],
      "text/plain": [
       "+---------------+-----------+"
      ]
     },
     "metadata": {},
     "output_type": "display_data"
    },
    {
     "data": {
      "text/html": [
       "<pre>Starting kmeans model training.</pre>"
      ],
      "text/plain": [
       "Starting kmeans model training."
      ]
     },
     "metadata": {},
     "output_type": "display_data"
    },
    {
     "data": {
      "text/html": [
       "<pre>Assigning points to initial cluster centers.</pre>"
      ],
      "text/plain": [
       "Assigning points to initial cluster centers."
      ]
     },
     "metadata": {},
     "output_type": "display_data"
    },
    {
     "data": {
      "text/html": [
       "<pre>+-----------+-------------------------------+</pre>"
      ],
      "text/plain": [
       "+-----------+-------------------------------+"
      ]
     },
     "metadata": {},
     "output_type": "display_data"
    },
    {
     "data": {
      "text/html": [
       "<pre>| Iteration | Number of changed assignments |</pre>"
      ],
      "text/plain": [
       "| Iteration | Number of changed assignments |"
      ]
     },
     "metadata": {},
     "output_type": "display_data"
    },
    {
     "data": {
      "text/html": [
       "<pre>+-----------+-------------------------------+</pre>"
      ],
      "text/plain": [
       "+-----------+-------------------------------+"
      ]
     },
     "metadata": {},
     "output_type": "display_data"
    },
    {
     "data": {
      "text/html": [
       "<pre>| 1         | 0                             |</pre>"
      ],
      "text/plain": [
       "| 1         | 0                             |"
      ]
     },
     "metadata": {},
     "output_type": "display_data"
    },
    {
     "data": {
      "text/html": [
       "<pre>+-----------+-------------------------------+</pre>"
      ],
      "text/plain": [
       "+-----------+-------------------------------+"
      ]
     },
     "metadata": {},
     "output_type": "display_data"
    },
    {
     "data": {
      "text/html": [
       "<pre>Batch size is larger than the input dataset. Switching to an exact Kmeans method.</pre>"
      ],
      "text/plain": [
       "Batch size is larger than the input dataset. Switching to an exact Kmeans method."
      ]
     },
     "metadata": {},
     "output_type": "display_data"
    },
    {
     "data": {
      "text/html": [
       "<pre>Choosing initial cluster centers with Kmeans++.</pre>"
      ],
      "text/plain": [
       "Choosing initial cluster centers with Kmeans++."
      ]
     },
     "metadata": {},
     "output_type": "display_data"
    },
    {
     "data": {
      "text/html": [
       "<pre>+---------------+-----------+</pre>"
      ],
      "text/plain": [
       "+---------------+-----------+"
      ]
     },
     "metadata": {},
     "output_type": "display_data"
    },
    {
     "data": {
      "text/html": [
       "<pre>| Center number | Row index |</pre>"
      ],
      "text/plain": [
       "| Center number | Row index |"
      ]
     },
     "metadata": {},
     "output_type": "display_data"
    },
    {
     "data": {
      "text/html": [
       "<pre>+---------------+-----------+</pre>"
      ],
      "text/plain": [
       "+---------------+-----------+"
      ]
     },
     "metadata": {},
     "output_type": "display_data"
    },
    {
     "data": {
      "text/html": [
       "<pre>| 0             | 22        |</pre>"
      ],
      "text/plain": [
       "| 0             | 22        |"
      ]
     },
     "metadata": {},
     "output_type": "display_data"
    },
    {
     "data": {
      "text/html": [
       "<pre>| 1             | 61        |</pre>"
      ],
      "text/plain": [
       "| 1             | 61        |"
      ]
     },
     "metadata": {},
     "output_type": "display_data"
    },
    {
     "data": {
      "text/html": [
       "<pre>| 2             | 53        |</pre>"
      ],
      "text/plain": [
       "| 2             | 53        |"
      ]
     },
     "metadata": {},
     "output_type": "display_data"
    },
    {
     "data": {
      "text/html": [
       "<pre>| 3             | 29        |</pre>"
      ],
      "text/plain": [
       "| 3             | 29        |"
      ]
     },
     "metadata": {},
     "output_type": "display_data"
    },
    {
     "data": {
      "text/html": [
       "<pre>| 4             | 10        |</pre>"
      ],
      "text/plain": [
       "| 4             | 10        |"
      ]
     },
     "metadata": {},
     "output_type": "display_data"
    },
    {
     "data": {
      "text/html": [
       "<pre>| 5             | 35        |</pre>"
      ],
      "text/plain": [
       "| 5             | 35        |"
      ]
     },
     "metadata": {},
     "output_type": "display_data"
    },
    {
     "data": {
      "text/html": [
       "<pre>| 10            | 45        |</pre>"
      ],
      "text/plain": [
       "| 10            | 45        |"
      ]
     },
     "metadata": {},
     "output_type": "display_data"
    },
    {
     "data": {
      "text/html": [
       "<pre>| 18            | 17        |</pre>"
      ],
      "text/plain": [
       "| 18            | 17        |"
      ]
     },
     "metadata": {},
     "output_type": "display_data"
    },
    {
     "data": {
      "text/html": [
       "<pre>+---------------+-----------+</pre>"
      ],
      "text/plain": [
       "+---------------+-----------+"
      ]
     },
     "metadata": {},
     "output_type": "display_data"
    },
    {
     "data": {
      "text/html": [
       "<pre>Starting kmeans model training.</pre>"
      ],
      "text/plain": [
       "Starting kmeans model training."
      ]
     },
     "metadata": {},
     "output_type": "display_data"
    },
    {
     "data": {
      "text/html": [
       "<pre>Assigning points to initial cluster centers.</pre>"
      ],
      "text/plain": [
       "Assigning points to initial cluster centers."
      ]
     },
     "metadata": {},
     "output_type": "display_data"
    },
    {
     "data": {
      "text/html": [
       "<pre>+-----------+-------------------------------+</pre>"
      ],
      "text/plain": [
       "+-----------+-------------------------------+"
      ]
     },
     "metadata": {},
     "output_type": "display_data"
    },
    {
     "data": {
      "text/html": [
       "<pre>| Iteration | Number of changed assignments |</pre>"
      ],
      "text/plain": [
       "| Iteration | Number of changed assignments |"
      ]
     },
     "metadata": {},
     "output_type": "display_data"
    },
    {
     "data": {
      "text/html": [
       "<pre>+-----------+-------------------------------+</pre>"
      ],
      "text/plain": [
       "+-----------+-------------------------------+"
      ]
     },
     "metadata": {},
     "output_type": "display_data"
    },
    {
     "data": {
      "text/html": [
       "<pre>| 1         | 0                             |</pre>"
      ],
      "text/plain": [
       "| 1         | 0                             |"
      ]
     },
     "metadata": {},
     "output_type": "display_data"
    },
    {
     "data": {
      "text/html": [
       "<pre>+-----------+-------------------------------+</pre>"
      ],
      "text/plain": [
       "+-----------+-------------------------------+"
      ]
     },
     "metadata": {},
     "output_type": "display_data"
    },
    {
     "data": {
      "text/html": [
       "<pre>Batch size is larger than the input dataset. Switching to an exact Kmeans method.</pre>"
      ],
      "text/plain": [
       "Batch size is larger than the input dataset. Switching to an exact Kmeans method."
      ]
     },
     "metadata": {},
     "output_type": "display_data"
    },
    {
     "data": {
      "text/html": [
       "<pre>Choosing initial cluster centers with Kmeans++.</pre>"
      ],
      "text/plain": [
       "Choosing initial cluster centers with Kmeans++."
      ]
     },
     "metadata": {},
     "output_type": "display_data"
    },
    {
     "data": {
      "text/html": [
       "<pre>+---------------+-----------+</pre>"
      ],
      "text/plain": [
       "+---------------+-----------+"
      ]
     },
     "metadata": {},
     "output_type": "display_data"
    },
    {
     "data": {
      "text/html": [
       "<pre>| Center number | Row index |</pre>"
      ],
      "text/plain": [
       "| Center number | Row index |"
      ]
     },
     "metadata": {},
     "output_type": "display_data"
    },
    {
     "data": {
      "text/html": [
       "<pre>+---------------+-----------+</pre>"
      ],
      "text/plain": [
       "+---------------+-----------+"
      ]
     },
     "metadata": {},
     "output_type": "display_data"
    },
    {
     "data": {
      "text/html": [
       "<pre>| 0             | 12        |</pre>"
      ],
      "text/plain": [
       "| 0             | 12        |"
      ]
     },
     "metadata": {},
     "output_type": "display_data"
    },
    {
     "data": {
      "text/html": [
       "<pre>| 1             | 67        |</pre>"
      ],
      "text/plain": [
       "| 1             | 67        |"
      ]
     },
     "metadata": {},
     "output_type": "display_data"
    },
    {
     "data": {
      "text/html": [
       "<pre>| 2             | 0         |</pre>"
      ],
      "text/plain": [
       "| 2             | 0         |"
      ]
     },
     "metadata": {},
     "output_type": "display_data"
    },
    {
     "data": {
      "text/html": [
       "<pre>| 3             | 9         |</pre>"
      ],
      "text/plain": [
       "| 3             | 9         |"
      ]
     },
     "metadata": {},
     "output_type": "display_data"
    },
    {
     "data": {
      "text/html": [
       "<pre>| 4             | 7         |</pre>"
      ],
      "text/plain": [
       "| 4             | 7         |"
      ]
     },
     "metadata": {},
     "output_type": "display_data"
    },
    {
     "data": {
      "text/html": [
       "<pre>| 5             | 10        |</pre>"
      ],
      "text/plain": [
       "| 5             | 10        |"
      ]
     },
     "metadata": {},
     "output_type": "display_data"
    },
    {
     "data": {
      "text/html": [
       "<pre>| 10            | 31        |</pre>"
      ],
      "text/plain": [
       "| 10            | 31        |"
      ]
     },
     "metadata": {},
     "output_type": "display_data"
    },
    {
     "data": {
      "text/html": [
       "<pre>| 19            | 41        |</pre>"
      ],
      "text/plain": [
       "| 19            | 41        |"
      ]
     },
     "metadata": {},
     "output_type": "display_data"
    },
    {
     "data": {
      "text/html": [
       "<pre>+---------------+-----------+</pre>"
      ],
      "text/plain": [
       "+---------------+-----------+"
      ]
     },
     "metadata": {},
     "output_type": "display_data"
    },
    {
     "data": {
      "text/html": [
       "<pre>Starting kmeans model training.</pre>"
      ],
      "text/plain": [
       "Starting kmeans model training."
      ]
     },
     "metadata": {},
     "output_type": "display_data"
    },
    {
     "data": {
      "text/html": [
       "<pre>Assigning points to initial cluster centers.</pre>"
      ],
      "text/plain": [
       "Assigning points to initial cluster centers."
      ]
     },
     "metadata": {},
     "output_type": "display_data"
    },
    {
     "data": {
      "text/html": [
       "<pre>+-----------+-------------------------------+</pre>"
      ],
      "text/plain": [
       "+-----------+-------------------------------+"
      ]
     },
     "metadata": {},
     "output_type": "display_data"
    },
    {
     "data": {
      "text/html": [
       "<pre>| Iteration | Number of changed assignments |</pre>"
      ],
      "text/plain": [
       "| Iteration | Number of changed assignments |"
      ]
     },
     "metadata": {},
     "output_type": "display_data"
    },
    {
     "data": {
      "text/html": [
       "<pre>+-----------+-------------------------------+</pre>"
      ],
      "text/plain": [
       "+-----------+-------------------------------+"
      ]
     },
     "metadata": {},
     "output_type": "display_data"
    },
    {
     "data": {
      "text/html": [
       "<pre>| 1         | 2                             |</pre>"
      ],
      "text/plain": [
       "| 1         | 2                             |"
      ]
     },
     "metadata": {},
     "output_type": "display_data"
    },
    {
     "data": {
      "text/html": [
       "<pre>| 2         | 0                             |</pre>"
      ],
      "text/plain": [
       "| 2         | 0                             |"
      ]
     },
     "metadata": {},
     "output_type": "display_data"
    },
    {
     "data": {
      "text/html": [
       "<pre>+-----------+-------------------------------+</pre>"
      ],
      "text/plain": [
       "+-----------+-------------------------------+"
      ]
     },
     "metadata": {},
     "output_type": "display_data"
    },
    {
     "data": {
      "text/html": [
       "<pre>Batch size is larger than the input dataset. Switching to an exact Kmeans method.</pre>"
      ],
      "text/plain": [
       "Batch size is larger than the input dataset. Switching to an exact Kmeans method."
      ]
     },
     "metadata": {},
     "output_type": "display_data"
    },
    {
     "data": {
      "text/html": [
       "<pre>Choosing initial cluster centers with Kmeans++.</pre>"
      ],
      "text/plain": [
       "Choosing initial cluster centers with Kmeans++."
      ]
     },
     "metadata": {},
     "output_type": "display_data"
    },
    {
     "data": {
      "text/html": [
       "<pre>+---------------+-----------+</pre>"
      ],
      "text/plain": [
       "+---------------+-----------+"
      ]
     },
     "metadata": {},
     "output_type": "display_data"
    },
    {
     "data": {
      "text/html": [
       "<pre>| Center number | Row index |</pre>"
      ],
      "text/plain": [
       "| Center number | Row index |"
      ]
     },
     "metadata": {},
     "output_type": "display_data"
    },
    {
     "data": {
      "text/html": [
       "<pre>+---------------+-----------+</pre>"
      ],
      "text/plain": [
       "+---------------+-----------+"
      ]
     },
     "metadata": {},
     "output_type": "display_data"
    },
    {
     "data": {
      "text/html": [
       "<pre>| 0             | 21        |</pre>"
      ],
      "text/plain": [
       "| 0             | 21        |"
      ]
     },
     "metadata": {},
     "output_type": "display_data"
    },
    {
     "data": {
      "text/html": [
       "<pre>| 1             | 63        |</pre>"
      ],
      "text/plain": [
       "| 1             | 63        |"
      ]
     },
     "metadata": {},
     "output_type": "display_data"
    },
    {
     "data": {
      "text/html": [
       "<pre>| 2             | 12        |</pre>"
      ],
      "text/plain": [
       "| 2             | 12        |"
      ]
     },
     "metadata": {},
     "output_type": "display_data"
    },
    {
     "data": {
      "text/html": [
       "<pre>| 3             | 64        |</pre>"
      ],
      "text/plain": [
       "| 3             | 64        |"
      ]
     },
     "metadata": {},
     "output_type": "display_data"
    },
    {
     "data": {
      "text/html": [
       "<pre>| 4             | 59        |</pre>"
      ],
      "text/plain": [
       "| 4             | 59        |"
      ]
     },
     "metadata": {},
     "output_type": "display_data"
    },
    {
     "data": {
      "text/html": [
       "<pre>| 5             | 28        |</pre>"
      ],
      "text/plain": [
       "| 5             | 28        |"
      ]
     },
     "metadata": {},
     "output_type": "display_data"
    },
    {
     "data": {
      "text/html": [
       "<pre>| 10            | 52        |</pre>"
      ],
      "text/plain": [
       "| 10            | 52        |"
      ]
     },
     "metadata": {},
     "output_type": "display_data"
    },
    {
     "data": {
      "text/html": [
       "<pre>| 20            | 19        |</pre>"
      ],
      "text/plain": [
       "| 20            | 19        |"
      ]
     },
     "metadata": {},
     "output_type": "display_data"
    },
    {
     "data": {
      "text/html": [
       "<pre>+---------------+-----------+</pre>"
      ],
      "text/plain": [
       "+---------------+-----------+"
      ]
     },
     "metadata": {},
     "output_type": "display_data"
    },
    {
     "data": {
      "text/html": [
       "<pre>Starting kmeans model training.</pre>"
      ],
      "text/plain": [
       "Starting kmeans model training."
      ]
     },
     "metadata": {},
     "output_type": "display_data"
    },
    {
     "data": {
      "text/html": [
       "<pre>Assigning points to initial cluster centers.</pre>"
      ],
      "text/plain": [
       "Assigning points to initial cluster centers."
      ]
     },
     "metadata": {},
     "output_type": "display_data"
    },
    {
     "data": {
      "text/html": [
       "<pre>+-----------+-------------------------------+</pre>"
      ],
      "text/plain": [
       "+-----------+-------------------------------+"
      ]
     },
     "metadata": {},
     "output_type": "display_data"
    },
    {
     "data": {
      "text/html": [
       "<pre>| Iteration | Number of changed assignments |</pre>"
      ],
      "text/plain": [
       "| Iteration | Number of changed assignments |"
      ]
     },
     "metadata": {},
     "output_type": "display_data"
    },
    {
     "data": {
      "text/html": [
       "<pre>+-----------+-------------------------------+</pre>"
      ],
      "text/plain": [
       "+-----------+-------------------------------+"
      ]
     },
     "metadata": {},
     "output_type": "display_data"
    },
    {
     "data": {
      "text/html": [
       "<pre>| 1         | 0                             |</pre>"
      ],
      "text/plain": [
       "| 1         | 0                             |"
      ]
     },
     "metadata": {},
     "output_type": "display_data"
    },
    {
     "data": {
      "text/html": [
       "<pre>+-----------+-------------------------------+</pre>"
      ],
      "text/plain": [
       "+-----------+-------------------------------+"
      ]
     },
     "metadata": {},
     "output_type": "display_data"
    },
    {
     "data": {
      "text/html": [
       "<pre>Batch size is larger than the input dataset. Switching to an exact Kmeans method.</pre>"
      ],
      "text/plain": [
       "Batch size is larger than the input dataset. Switching to an exact Kmeans method."
      ]
     },
     "metadata": {},
     "output_type": "display_data"
    },
    {
     "data": {
      "text/html": [
       "<pre>Choosing initial cluster centers with Kmeans++.</pre>"
      ],
      "text/plain": [
       "Choosing initial cluster centers with Kmeans++."
      ]
     },
     "metadata": {},
     "output_type": "display_data"
    },
    {
     "data": {
      "text/html": [
       "<pre>+---------------+-----------+</pre>"
      ],
      "text/plain": [
       "+---------------+-----------+"
      ]
     },
     "metadata": {},
     "output_type": "display_data"
    },
    {
     "data": {
      "text/html": [
       "<pre>| Center number | Row index |</pre>"
      ],
      "text/plain": [
       "| Center number | Row index |"
      ]
     },
     "metadata": {},
     "output_type": "display_data"
    },
    {
     "data": {
      "text/html": [
       "<pre>+---------------+-----------+</pre>"
      ],
      "text/plain": [
       "+---------------+-----------+"
      ]
     },
     "metadata": {},
     "output_type": "display_data"
    },
    {
     "data": {
      "text/html": [
       "<pre>| 0             | 56        |</pre>"
      ],
      "text/plain": [
       "| 0             | 56        |"
      ]
     },
     "metadata": {},
     "output_type": "display_data"
    },
    {
     "data": {
      "text/html": [
       "<pre>| 1             | 48        |</pre>"
      ],
      "text/plain": [
       "| 1             | 48        |"
      ]
     },
     "metadata": {},
     "output_type": "display_data"
    },
    {
     "data": {
      "text/html": [
       "<pre>| 2             | 57        |</pre>"
      ],
      "text/plain": [
       "| 2             | 57        |"
      ]
     },
     "metadata": {},
     "output_type": "display_data"
    },
    {
     "data": {
      "text/html": [
       "<pre>| 3             | 53        |</pre>"
      ],
      "text/plain": [
       "| 3             | 53        |"
      ]
     },
     "metadata": {},
     "output_type": "display_data"
    },
    {
     "data": {
      "text/html": [
       "<pre>| 4             | 0         |</pre>"
      ],
      "text/plain": [
       "| 4             | 0         |"
      ]
     },
     "metadata": {},
     "output_type": "display_data"
    },
    {
     "data": {
      "text/html": [
       "<pre>| 5             | 7         |</pre>"
      ],
      "text/plain": [
       "| 5             | 7         |"
      ]
     },
     "metadata": {},
     "output_type": "display_data"
    },
    {
     "data": {
      "text/html": [
       "<pre>| 10            | 37        |</pre>"
      ],
      "text/plain": [
       "| 10            | 37        |"
      ]
     },
     "metadata": {},
     "output_type": "display_data"
    },
    {
     "data": {
      "text/html": [
       "<pre>| 21            | 51        |</pre>"
      ],
      "text/plain": [
       "| 21            | 51        |"
      ]
     },
     "metadata": {},
     "output_type": "display_data"
    },
    {
     "data": {
      "text/html": [
       "<pre>+---------------+-----------+</pre>"
      ],
      "text/plain": [
       "+---------------+-----------+"
      ]
     },
     "metadata": {},
     "output_type": "display_data"
    },
    {
     "data": {
      "text/html": [
       "<pre>Starting kmeans model training.</pre>"
      ],
      "text/plain": [
       "Starting kmeans model training."
      ]
     },
     "metadata": {},
     "output_type": "display_data"
    },
    {
     "data": {
      "text/html": [
       "<pre>Assigning points to initial cluster centers.</pre>"
      ],
      "text/plain": [
       "Assigning points to initial cluster centers."
      ]
     },
     "metadata": {},
     "output_type": "display_data"
    },
    {
     "data": {
      "text/html": [
       "<pre>+-----------+-------------------------------+</pre>"
      ],
      "text/plain": [
       "+-----------+-------------------------------+"
      ]
     },
     "metadata": {},
     "output_type": "display_data"
    },
    {
     "data": {
      "text/html": [
       "<pre>| Iteration | Number of changed assignments |</pre>"
      ],
      "text/plain": [
       "| Iteration | Number of changed assignments |"
      ]
     },
     "metadata": {},
     "output_type": "display_data"
    },
    {
     "data": {
      "text/html": [
       "<pre>+-----------+-------------------------------+</pre>"
      ],
      "text/plain": [
       "+-----------+-------------------------------+"
      ]
     },
     "metadata": {},
     "output_type": "display_data"
    },
    {
     "data": {
      "text/html": [
       "<pre>| 1         | 0                             |</pre>"
      ],
      "text/plain": [
       "| 1         | 0                             |"
      ]
     },
     "metadata": {},
     "output_type": "display_data"
    },
    {
     "data": {
      "text/html": [
       "<pre>+-----------+-------------------------------+</pre>"
      ],
      "text/plain": [
       "+-----------+-------------------------------+"
      ]
     },
     "metadata": {},
     "output_type": "display_data"
    },
    {
     "data": {
      "text/html": [
       "<pre>Batch size is larger than the input dataset. Switching to an exact Kmeans method.</pre>"
      ],
      "text/plain": [
       "Batch size is larger than the input dataset. Switching to an exact Kmeans method."
      ]
     },
     "metadata": {},
     "output_type": "display_data"
    },
    {
     "data": {
      "text/html": [
       "<pre>Choosing initial cluster centers with Kmeans++.</pre>"
      ],
      "text/plain": [
       "Choosing initial cluster centers with Kmeans++."
      ]
     },
     "metadata": {},
     "output_type": "display_data"
    },
    {
     "data": {
      "text/html": [
       "<pre>+---------------+-----------+</pre>"
      ],
      "text/plain": [
       "+---------------+-----------+"
      ]
     },
     "metadata": {},
     "output_type": "display_data"
    },
    {
     "data": {
      "text/html": [
       "<pre>| Center number | Row index |</pre>"
      ],
      "text/plain": [
       "| Center number | Row index |"
      ]
     },
     "metadata": {},
     "output_type": "display_data"
    },
    {
     "data": {
      "text/html": [
       "<pre>+---------------+-----------+</pre>"
      ],
      "text/plain": [
       "+---------------+-----------+"
      ]
     },
     "metadata": {},
     "output_type": "display_data"
    },
    {
     "data": {
      "text/html": [
       "<pre>| 0             | 59        |</pre>"
      ],
      "text/plain": [
       "| 0             | 59        |"
      ]
     },
     "metadata": {},
     "output_type": "display_data"
    },
    {
     "data": {
      "text/html": [
       "<pre>| 1             | 9         |</pre>"
      ],
      "text/plain": [
       "| 1             | 9         |"
      ]
     },
     "metadata": {},
     "output_type": "display_data"
    },
    {
     "data": {
      "text/html": [
       "<pre>| 2             | 57        |</pre>"
      ],
      "text/plain": [
       "| 2             | 57        |"
      ]
     },
     "metadata": {},
     "output_type": "display_data"
    },
    {
     "data": {
      "text/html": [
       "<pre>| 3             | 4         |</pre>"
      ],
      "text/plain": [
       "| 3             | 4         |"
      ]
     },
     "metadata": {},
     "output_type": "display_data"
    },
    {
     "data": {
      "text/html": [
       "<pre>| 4             | 49        |</pre>"
      ],
      "text/plain": [
       "| 4             | 49        |"
      ]
     },
     "metadata": {},
     "output_type": "display_data"
    },
    {
     "data": {
      "text/html": [
       "<pre>| 5             | 36        |</pre>"
      ],
      "text/plain": [
       "| 5             | 36        |"
      ]
     },
     "metadata": {},
     "output_type": "display_data"
    },
    {
     "data": {
      "text/html": [
       "<pre>| 10            | 5         |</pre>"
      ],
      "text/plain": [
       "| 10            | 5         |"
      ]
     },
     "metadata": {},
     "output_type": "display_data"
    },
    {
     "data": {
      "text/html": [
       "<pre>| 22            | 56        |</pre>"
      ],
      "text/plain": [
       "| 22            | 56        |"
      ]
     },
     "metadata": {},
     "output_type": "display_data"
    },
    {
     "data": {
      "text/html": [
       "<pre>+---------------+-----------+</pre>"
      ],
      "text/plain": [
       "+---------------+-----------+"
      ]
     },
     "metadata": {},
     "output_type": "display_data"
    },
    {
     "data": {
      "text/html": [
       "<pre>Starting kmeans model training.</pre>"
      ],
      "text/plain": [
       "Starting kmeans model training."
      ]
     },
     "metadata": {},
     "output_type": "display_data"
    },
    {
     "data": {
      "text/html": [
       "<pre>Assigning points to initial cluster centers.</pre>"
      ],
      "text/plain": [
       "Assigning points to initial cluster centers."
      ]
     },
     "metadata": {},
     "output_type": "display_data"
    },
    {
     "data": {
      "text/html": [
       "<pre>+-----------+-------------------------------+</pre>"
      ],
      "text/plain": [
       "+-----------+-------------------------------+"
      ]
     },
     "metadata": {},
     "output_type": "display_data"
    },
    {
     "data": {
      "text/html": [
       "<pre>| Iteration | Number of changed assignments |</pre>"
      ],
      "text/plain": [
       "| Iteration | Number of changed assignments |"
      ]
     },
     "metadata": {},
     "output_type": "display_data"
    },
    {
     "data": {
      "text/html": [
       "<pre>+-----------+-------------------------------+</pre>"
      ],
      "text/plain": [
       "+-----------+-------------------------------+"
      ]
     },
     "metadata": {},
     "output_type": "display_data"
    },
    {
     "data": {
      "text/html": [
       "<pre>| 1         | 0                             |</pre>"
      ],
      "text/plain": [
       "| 1         | 0                             |"
      ]
     },
     "metadata": {},
     "output_type": "display_data"
    },
    {
     "data": {
      "text/html": [
       "<pre>+-----------+-------------------------------+</pre>"
      ],
      "text/plain": [
       "+-----------+-------------------------------+"
      ]
     },
     "metadata": {},
     "output_type": "display_data"
    },
    {
     "data": {
      "text/html": [
       "<pre>Batch size is larger than the input dataset. Switching to an exact Kmeans method.</pre>"
      ],
      "text/plain": [
       "Batch size is larger than the input dataset. Switching to an exact Kmeans method."
      ]
     },
     "metadata": {},
     "output_type": "display_data"
    },
    {
     "data": {
      "text/html": [
       "<pre>Choosing initial cluster centers with Kmeans++.</pre>"
      ],
      "text/plain": [
       "Choosing initial cluster centers with Kmeans++."
      ]
     },
     "metadata": {},
     "output_type": "display_data"
    },
    {
     "data": {
      "text/html": [
       "<pre>+---------------+-----------+</pre>"
      ],
      "text/plain": [
       "+---------------+-----------+"
      ]
     },
     "metadata": {},
     "output_type": "display_data"
    },
    {
     "data": {
      "text/html": [
       "<pre>| Center number | Row index |</pre>"
      ],
      "text/plain": [
       "| Center number | Row index |"
      ]
     },
     "metadata": {},
     "output_type": "display_data"
    },
    {
     "data": {
      "text/html": [
       "<pre>+---------------+-----------+</pre>"
      ],
      "text/plain": [
       "+---------------+-----------+"
      ]
     },
     "metadata": {},
     "output_type": "display_data"
    },
    {
     "data": {
      "text/html": [
       "<pre>| 0             | 11        |</pre>"
      ],
      "text/plain": [
       "| 0             | 11        |"
      ]
     },
     "metadata": {},
     "output_type": "display_data"
    },
    {
     "data": {
      "text/html": [
       "<pre>| 1             | 8         |</pre>"
      ],
      "text/plain": [
       "| 1             | 8         |"
      ]
     },
     "metadata": {},
     "output_type": "display_data"
    },
    {
     "data": {
      "text/html": [
       "<pre>| 2             | 61        |</pre>"
      ],
      "text/plain": [
       "| 2             | 61        |"
      ]
     },
     "metadata": {},
     "output_type": "display_data"
    },
    {
     "data": {
      "text/html": [
       "<pre>| 3             | 4         |</pre>"
      ],
      "text/plain": [
       "| 3             | 4         |"
      ]
     },
     "metadata": {},
     "output_type": "display_data"
    },
    {
     "data": {
      "text/html": [
       "<pre>| 4             | 55        |</pre>"
      ],
      "text/plain": [
       "| 4             | 55        |"
      ]
     },
     "metadata": {},
     "output_type": "display_data"
    },
    {
     "data": {
      "text/html": [
       "<pre>| 5             | 63        |</pre>"
      ],
      "text/plain": [
       "| 5             | 63        |"
      ]
     },
     "metadata": {},
     "output_type": "display_data"
    },
    {
     "data": {
      "text/html": [
       "<pre>| 10            | 31        |</pre>"
      ],
      "text/plain": [
       "| 10            | 31        |"
      ]
     },
     "metadata": {},
     "output_type": "display_data"
    },
    {
     "data": {
      "text/html": [
       "<pre>| 23            | 34        |</pre>"
      ],
      "text/plain": [
       "| 23            | 34        |"
      ]
     },
     "metadata": {},
     "output_type": "display_data"
    },
    {
     "data": {
      "text/html": [
       "<pre>+---------------+-----------+</pre>"
      ],
      "text/plain": [
       "+---------------+-----------+"
      ]
     },
     "metadata": {},
     "output_type": "display_data"
    },
    {
     "data": {
      "text/html": [
       "<pre>Starting kmeans model training.</pre>"
      ],
      "text/plain": [
       "Starting kmeans model training."
      ]
     },
     "metadata": {},
     "output_type": "display_data"
    },
    {
     "data": {
      "text/html": [
       "<pre>Assigning points to initial cluster centers.</pre>"
      ],
      "text/plain": [
       "Assigning points to initial cluster centers."
      ]
     },
     "metadata": {},
     "output_type": "display_data"
    },
    {
     "data": {
      "text/html": [
       "<pre>+-----------+-------------------------------+</pre>"
      ],
      "text/plain": [
       "+-----------+-------------------------------+"
      ]
     },
     "metadata": {},
     "output_type": "display_data"
    },
    {
     "data": {
      "text/html": [
       "<pre>| Iteration | Number of changed assignments |</pre>"
      ],
      "text/plain": [
       "| Iteration | Number of changed assignments |"
      ]
     },
     "metadata": {},
     "output_type": "display_data"
    },
    {
     "data": {
      "text/html": [
       "<pre>+-----------+-------------------------------+</pre>"
      ],
      "text/plain": [
       "+-----------+-------------------------------+"
      ]
     },
     "metadata": {},
     "output_type": "display_data"
    },
    {
     "data": {
      "text/html": [
       "<pre>| 1         | 0                             |</pre>"
      ],
      "text/plain": [
       "| 1         | 0                             |"
      ]
     },
     "metadata": {},
     "output_type": "display_data"
    },
    {
     "data": {
      "text/html": [
       "<pre>+-----------+-------------------------------+</pre>"
      ],
      "text/plain": [
       "+-----------+-------------------------------+"
      ]
     },
     "metadata": {},
     "output_type": "display_data"
    },
    {
     "data": {
      "text/html": [
       "<pre>Batch size is larger than the input dataset. Switching to an exact Kmeans method.</pre>"
      ],
      "text/plain": [
       "Batch size is larger than the input dataset. Switching to an exact Kmeans method."
      ]
     },
     "metadata": {},
     "output_type": "display_data"
    },
    {
     "data": {
      "text/html": [
       "<pre>Choosing initial cluster centers with Kmeans++.</pre>"
      ],
      "text/plain": [
       "Choosing initial cluster centers with Kmeans++."
      ]
     },
     "metadata": {},
     "output_type": "display_data"
    },
    {
     "data": {
      "text/html": [
       "<pre>+---------------+-----------+</pre>"
      ],
      "text/plain": [
       "+---------------+-----------+"
      ]
     },
     "metadata": {},
     "output_type": "display_data"
    },
    {
     "data": {
      "text/html": [
       "<pre>| Center number | Row index |</pre>"
      ],
      "text/plain": [
       "| Center number | Row index |"
      ]
     },
     "metadata": {},
     "output_type": "display_data"
    },
    {
     "data": {
      "text/html": [
       "<pre>+---------------+-----------+</pre>"
      ],
      "text/plain": [
       "+---------------+-----------+"
      ]
     },
     "metadata": {},
     "output_type": "display_data"
    },
    {
     "data": {
      "text/html": [
       "<pre>| 0             | 64        |</pre>"
      ],
      "text/plain": [
       "| 0             | 64        |"
      ]
     },
     "metadata": {},
     "output_type": "display_data"
    },
    {
     "data": {
      "text/html": [
       "<pre>| 1             | 32        |</pre>"
      ],
      "text/plain": [
       "| 1             | 32        |"
      ]
     },
     "metadata": {},
     "output_type": "display_data"
    },
    {
     "data": {
      "text/html": [
       "<pre>| 2             | 61        |</pre>"
      ],
      "text/plain": [
       "| 2             | 61        |"
      ]
     },
     "metadata": {},
     "output_type": "display_data"
    },
    {
     "data": {
      "text/html": [
       "<pre>| 3             | 8         |</pre>"
      ],
      "text/plain": [
       "| 3             | 8         |"
      ]
     },
     "metadata": {},
     "output_type": "display_data"
    },
    {
     "data": {
      "text/html": [
       "<pre>| 4             | 55        |</pre>"
      ],
      "text/plain": [
       "| 4             | 55        |"
      ]
     },
     "metadata": {},
     "output_type": "display_data"
    },
    {
     "data": {
      "text/html": [
       "<pre>| 5             | 60        |</pre>"
      ],
      "text/plain": [
       "| 5             | 60        |"
      ]
     },
     "metadata": {},
     "output_type": "display_data"
    },
    {
     "data": {
      "text/html": [
       "<pre>| 10            | 52        |</pre>"
      ],
      "text/plain": [
       "| 10            | 52        |"
      ]
     },
     "metadata": {},
     "output_type": "display_data"
    },
    {
     "data": {
      "text/html": [
       "<pre>| 24            | 66        |</pre>"
      ],
      "text/plain": [
       "| 24            | 66        |"
      ]
     },
     "metadata": {},
     "output_type": "display_data"
    },
    {
     "data": {
      "text/html": [
       "<pre>+---------------+-----------+</pre>"
      ],
      "text/plain": [
       "+---------------+-----------+"
      ]
     },
     "metadata": {},
     "output_type": "display_data"
    },
    {
     "data": {
      "text/html": [
       "<pre>Starting kmeans model training.</pre>"
      ],
      "text/plain": [
       "Starting kmeans model training."
      ]
     },
     "metadata": {},
     "output_type": "display_data"
    },
    {
     "data": {
      "text/html": [
       "<pre>Assigning points to initial cluster centers.</pre>"
      ],
      "text/plain": [
       "Assigning points to initial cluster centers."
      ]
     },
     "metadata": {},
     "output_type": "display_data"
    },
    {
     "data": {
      "text/html": [
       "<pre>+-----------+-------------------------------+</pre>"
      ],
      "text/plain": [
       "+-----------+-------------------------------+"
      ]
     },
     "metadata": {},
     "output_type": "display_data"
    },
    {
     "data": {
      "text/html": [
       "<pre>| Iteration | Number of changed assignments |</pre>"
      ],
      "text/plain": [
       "| Iteration | Number of changed assignments |"
      ]
     },
     "metadata": {},
     "output_type": "display_data"
    },
    {
     "data": {
      "text/html": [
       "<pre>+-----------+-------------------------------+</pre>"
      ],
      "text/plain": [
       "+-----------+-------------------------------+"
      ]
     },
     "metadata": {},
     "output_type": "display_data"
    },
    {
     "data": {
      "text/html": [
       "<pre>| 1         | 0                             |</pre>"
      ],
      "text/plain": [
       "| 1         | 0                             |"
      ]
     },
     "metadata": {},
     "output_type": "display_data"
    },
    {
     "data": {
      "text/html": [
       "<pre>+-----------+-------------------------------+</pre>"
      ],
      "text/plain": [
       "+-----------+-------------------------------+"
      ]
     },
     "metadata": {},
     "output_type": "display_data"
    },
    {
     "data": {
      "text/html": [
       "<pre>Batch size is larger than the input dataset. Switching to an exact Kmeans method.</pre>"
      ],
      "text/plain": [
       "Batch size is larger than the input dataset. Switching to an exact Kmeans method."
      ]
     },
     "metadata": {},
     "output_type": "display_data"
    },
    {
     "data": {
      "text/html": [
       "<pre>Choosing initial cluster centers with Kmeans++.</pre>"
      ],
      "text/plain": [
       "Choosing initial cluster centers with Kmeans++."
      ]
     },
     "metadata": {},
     "output_type": "display_data"
    },
    {
     "data": {
      "text/html": [
       "<pre>+---------------+-----------+</pre>"
      ],
      "text/plain": [
       "+---------------+-----------+"
      ]
     },
     "metadata": {},
     "output_type": "display_data"
    },
    {
     "data": {
      "text/html": [
       "<pre>| Center number | Row index |</pre>"
      ],
      "text/plain": [
       "| Center number | Row index |"
      ]
     },
     "metadata": {},
     "output_type": "display_data"
    },
    {
     "data": {
      "text/html": [
       "<pre>+---------------+-----------+</pre>"
      ],
      "text/plain": [
       "+---------------+-----------+"
      ]
     },
     "metadata": {},
     "output_type": "display_data"
    },
    {
     "data": {
      "text/html": [
       "<pre>| 0             | 54        |</pre>"
      ],
      "text/plain": [
       "| 0             | 54        |"
      ]
     },
     "metadata": {},
     "output_type": "display_data"
    },
    {
     "data": {
      "text/html": [
       "<pre>| 1             | 22        |</pre>"
      ],
      "text/plain": [
       "| 1             | 22        |"
      ]
     },
     "metadata": {},
     "output_type": "display_data"
    },
    {
     "data": {
      "text/html": [
       "<pre>| 2             | 64        |</pre>"
      ],
      "text/plain": [
       "| 2             | 64        |"
      ]
     },
     "metadata": {},
     "output_type": "display_data"
    },
    {
     "data": {
      "text/html": [
       "<pre>| 3             | 55        |</pre>"
      ],
      "text/plain": [
       "| 3             | 55        |"
      ]
     },
     "metadata": {},
     "output_type": "display_data"
    },
    {
     "data": {
      "text/html": [
       "<pre>| 4             | 63        |</pre>"
      ],
      "text/plain": [
       "| 4             | 63        |"
      ]
     },
     "metadata": {},
     "output_type": "display_data"
    },
    {
     "data": {
      "text/html": [
       "<pre>| 5             | 30        |</pre>"
      ],
      "text/plain": [
       "| 5             | 30        |"
      ]
     },
     "metadata": {},
     "output_type": "display_data"
    },
    {
     "data": {
      "text/html": [
       "<pre>| 10            | 10        |</pre>"
      ],
      "text/plain": [
       "| 10            | 10        |"
      ]
     },
     "metadata": {},
     "output_type": "display_data"
    },
    {
     "data": {
      "text/html": [
       "<pre>| 25            | 58        |</pre>"
      ],
      "text/plain": [
       "| 25            | 58        |"
      ]
     },
     "metadata": {},
     "output_type": "display_data"
    },
    {
     "data": {
      "text/html": [
       "<pre>+---------------+-----------+</pre>"
      ],
      "text/plain": [
       "+---------------+-----------+"
      ]
     },
     "metadata": {},
     "output_type": "display_data"
    },
    {
     "data": {
      "text/html": [
       "<pre>Starting kmeans model training.</pre>"
      ],
      "text/plain": [
       "Starting kmeans model training."
      ]
     },
     "metadata": {},
     "output_type": "display_data"
    },
    {
     "data": {
      "text/html": [
       "<pre>Assigning points to initial cluster centers.</pre>"
      ],
      "text/plain": [
       "Assigning points to initial cluster centers."
      ]
     },
     "metadata": {},
     "output_type": "display_data"
    },
    {
     "data": {
      "text/html": [
       "<pre>+-----------+-------------------------------+</pre>"
      ],
      "text/plain": [
       "+-----------+-------------------------------+"
      ]
     },
     "metadata": {},
     "output_type": "display_data"
    },
    {
     "data": {
      "text/html": [
       "<pre>| Iteration | Number of changed assignments |</pre>"
      ],
      "text/plain": [
       "| Iteration | Number of changed assignments |"
      ]
     },
     "metadata": {},
     "output_type": "display_data"
    },
    {
     "data": {
      "text/html": [
       "<pre>+-----------+-------------------------------+</pre>"
      ],
      "text/plain": [
       "+-----------+-------------------------------+"
      ]
     },
     "metadata": {},
     "output_type": "display_data"
    },
    {
     "data": {
      "text/html": [
       "<pre>| 1         | 0                             |</pre>"
      ],
      "text/plain": [
       "| 1         | 0                             |"
      ]
     },
     "metadata": {},
     "output_type": "display_data"
    },
    {
     "data": {
      "text/html": [
       "<pre>+-----------+-------------------------------+</pre>"
      ],
      "text/plain": [
       "+-----------+-------------------------------+"
      ]
     },
     "metadata": {},
     "output_type": "display_data"
    },
    {
     "data": {
      "text/html": [
       "<pre>Batch size is larger than the input dataset. Switching to an exact Kmeans method.</pre>"
      ],
      "text/plain": [
       "Batch size is larger than the input dataset. Switching to an exact Kmeans method."
      ]
     },
     "metadata": {},
     "output_type": "display_data"
    },
    {
     "data": {
      "text/html": [
       "<pre>Choosing initial cluster centers with Kmeans++.</pre>"
      ],
      "text/plain": [
       "Choosing initial cluster centers with Kmeans++."
      ]
     },
     "metadata": {},
     "output_type": "display_data"
    },
    {
     "data": {
      "text/html": [
       "<pre>+---------------+-----------+</pre>"
      ],
      "text/plain": [
       "+---------------+-----------+"
      ]
     },
     "metadata": {},
     "output_type": "display_data"
    },
    {
     "data": {
      "text/html": [
       "<pre>| Center number | Row index |</pre>"
      ],
      "text/plain": [
       "| Center number | Row index |"
      ]
     },
     "metadata": {},
     "output_type": "display_data"
    },
    {
     "data": {
      "text/html": [
       "<pre>+---------------+-----------+</pre>"
      ],
      "text/plain": [
       "+---------------+-----------+"
      ]
     },
     "metadata": {},
     "output_type": "display_data"
    },
    {
     "data": {
      "text/html": [
       "<pre>| 0             | 39        |</pre>"
      ],
      "text/plain": [
       "| 0             | 39        |"
      ]
     },
     "metadata": {},
     "output_type": "display_data"
    },
    {
     "data": {
      "text/html": [
       "<pre>| 1             | 70        |</pre>"
      ],
      "text/plain": [
       "| 1             | 70        |"
      ]
     },
     "metadata": {},
     "output_type": "display_data"
    },
    {
     "data": {
      "text/html": [
       "<pre>| 2             | 12        |</pre>"
      ],
      "text/plain": [
       "| 2             | 12        |"
      ]
     },
     "metadata": {},
     "output_type": "display_data"
    },
    {
     "data": {
      "text/html": [
       "<pre>| 3             | 23        |</pre>"
      ],
      "text/plain": [
       "| 3             | 23        |"
      ]
     },
     "metadata": {},
     "output_type": "display_data"
    },
    {
     "data": {
      "text/html": [
       "<pre>| 4             | 60        |</pre>"
      ],
      "text/plain": [
       "| 4             | 60        |"
      ]
     },
     "metadata": {},
     "output_type": "display_data"
    },
    {
     "data": {
      "text/html": [
       "<pre>| 5             | 25        |</pre>"
      ],
      "text/plain": [
       "| 5             | 25        |"
      ]
     },
     "metadata": {},
     "output_type": "display_data"
    },
    {
     "data": {
      "text/html": [
       "<pre>| 10            | 0         |</pre>"
      ],
      "text/plain": [
       "| 10            | 0         |"
      ]
     },
     "metadata": {},
     "output_type": "display_data"
    },
    {
     "data": {
      "text/html": [
       "<pre>| 26            | 34        |</pre>"
      ],
      "text/plain": [
       "| 26            | 34        |"
      ]
     },
     "metadata": {},
     "output_type": "display_data"
    },
    {
     "data": {
      "text/html": [
       "<pre>+---------------+-----------+</pre>"
      ],
      "text/plain": [
       "+---------------+-----------+"
      ]
     },
     "metadata": {},
     "output_type": "display_data"
    },
    {
     "data": {
      "text/html": [
       "<pre>Starting kmeans model training.</pre>"
      ],
      "text/plain": [
       "Starting kmeans model training."
      ]
     },
     "metadata": {},
     "output_type": "display_data"
    },
    {
     "data": {
      "text/html": [
       "<pre>Assigning points to initial cluster centers.</pre>"
      ],
      "text/plain": [
       "Assigning points to initial cluster centers."
      ]
     },
     "metadata": {},
     "output_type": "display_data"
    },
    {
     "data": {
      "text/html": [
       "<pre>+-----------+-------------------------------+</pre>"
      ],
      "text/plain": [
       "+-----------+-------------------------------+"
      ]
     },
     "metadata": {},
     "output_type": "display_data"
    },
    {
     "data": {
      "text/html": [
       "<pre>| Iteration | Number of changed assignments |</pre>"
      ],
      "text/plain": [
       "| Iteration | Number of changed assignments |"
      ]
     },
     "metadata": {},
     "output_type": "display_data"
    },
    {
     "data": {
      "text/html": [
       "<pre>+-----------+-------------------------------+</pre>"
      ],
      "text/plain": [
       "+-----------+-------------------------------+"
      ]
     },
     "metadata": {},
     "output_type": "display_data"
    },
    {
     "data": {
      "text/html": [
       "<pre>| 1         | 0                             |</pre>"
      ],
      "text/plain": [
       "| 1         | 0                             |"
      ]
     },
     "metadata": {},
     "output_type": "display_data"
    },
    {
     "data": {
      "text/html": [
       "<pre>+-----------+-------------------------------+</pre>"
      ],
      "text/plain": [
       "+-----------+-------------------------------+"
      ]
     },
     "metadata": {},
     "output_type": "display_data"
    },
    {
     "data": {
      "text/html": [
       "<pre>Batch size is larger than the input dataset. Switching to an exact Kmeans method.</pre>"
      ],
      "text/plain": [
       "Batch size is larger than the input dataset. Switching to an exact Kmeans method."
      ]
     },
     "metadata": {},
     "output_type": "display_data"
    },
    {
     "data": {
      "text/html": [
       "<pre>Choosing initial cluster centers with Kmeans++.</pre>"
      ],
      "text/plain": [
       "Choosing initial cluster centers with Kmeans++."
      ]
     },
     "metadata": {},
     "output_type": "display_data"
    },
    {
     "data": {
      "text/html": [
       "<pre>+---------------+-----------+</pre>"
      ],
      "text/plain": [
       "+---------------+-----------+"
      ]
     },
     "metadata": {},
     "output_type": "display_data"
    },
    {
     "data": {
      "text/html": [
       "<pre>| Center number | Row index |</pre>"
      ],
      "text/plain": [
       "| Center number | Row index |"
      ]
     },
     "metadata": {},
     "output_type": "display_data"
    },
    {
     "data": {
      "text/html": [
       "<pre>+---------------+-----------+</pre>"
      ],
      "text/plain": [
       "+---------------+-----------+"
      ]
     },
     "metadata": {},
     "output_type": "display_data"
    },
    {
     "data": {
      "text/html": [
       "<pre>| 0             | 41        |</pre>"
      ],
      "text/plain": [
       "| 0             | 41        |"
      ]
     },
     "metadata": {},
     "output_type": "display_data"
    },
    {
     "data": {
      "text/html": [
       "<pre>| 1             | 61        |</pre>"
      ],
      "text/plain": [
       "| 1             | 61        |"
      ]
     },
     "metadata": {},
     "output_type": "display_data"
    },
    {
     "data": {
      "text/html": [
       "<pre>| 2             | 44        |</pre>"
      ],
      "text/plain": [
       "| 2             | 44        |"
      ]
     },
     "metadata": {},
     "output_type": "display_data"
    },
    {
     "data": {
      "text/html": [
       "<pre>| 3             | 72        |</pre>"
      ],
      "text/plain": [
       "| 3             | 72        |"
      ]
     },
     "metadata": {},
     "output_type": "display_data"
    },
    {
     "data": {
      "text/html": [
       "<pre>| 4             | 6         |</pre>"
      ],
      "text/plain": [
       "| 4             | 6         |"
      ]
     },
     "metadata": {},
     "output_type": "display_data"
    },
    {
     "data": {
      "text/html": [
       "<pre>| 5             | 56        |</pre>"
      ],
      "text/plain": [
       "| 5             | 56        |"
      ]
     },
     "metadata": {},
     "output_type": "display_data"
    },
    {
     "data": {
      "text/html": [
       "<pre>| 10            | 23        |</pre>"
      ],
      "text/plain": [
       "| 10            | 23        |"
      ]
     },
     "metadata": {},
     "output_type": "display_data"
    },
    {
     "data": {
      "text/html": [
       "<pre>| 27            | 31        |</pre>"
      ],
      "text/plain": [
       "| 27            | 31        |"
      ]
     },
     "metadata": {},
     "output_type": "display_data"
    },
    {
     "data": {
      "text/html": [
       "<pre>+---------------+-----------+</pre>"
      ],
      "text/plain": [
       "+---------------+-----------+"
      ]
     },
     "metadata": {},
     "output_type": "display_data"
    },
    {
     "data": {
      "text/html": [
       "<pre>Starting kmeans model training.</pre>"
      ],
      "text/plain": [
       "Starting kmeans model training."
      ]
     },
     "metadata": {},
     "output_type": "display_data"
    },
    {
     "data": {
      "text/html": [
       "<pre>Assigning points to initial cluster centers.</pre>"
      ],
      "text/plain": [
       "Assigning points to initial cluster centers."
      ]
     },
     "metadata": {},
     "output_type": "display_data"
    },
    {
     "data": {
      "text/html": [
       "<pre>+-----------+-------------------------------+</pre>"
      ],
      "text/plain": [
       "+-----------+-------------------------------+"
      ]
     },
     "metadata": {},
     "output_type": "display_data"
    },
    {
     "data": {
      "text/html": [
       "<pre>| Iteration | Number of changed assignments |</pre>"
      ],
      "text/plain": [
       "| Iteration | Number of changed assignments |"
      ]
     },
     "metadata": {},
     "output_type": "display_data"
    },
    {
     "data": {
      "text/html": [
       "<pre>+-----------+-------------------------------+</pre>"
      ],
      "text/plain": [
       "+-----------+-------------------------------+"
      ]
     },
     "metadata": {},
     "output_type": "display_data"
    },
    {
     "data": {
      "text/html": [
       "<pre>| 1         | 0                             |</pre>"
      ],
      "text/plain": [
       "| 1         | 0                             |"
      ]
     },
     "metadata": {},
     "output_type": "display_data"
    },
    {
     "data": {
      "text/html": [
       "<pre>+-----------+-------------------------------+</pre>"
      ],
      "text/plain": [
       "+-----------+-------------------------------+"
      ]
     },
     "metadata": {},
     "output_type": "display_data"
    },
    {
     "data": {
      "text/html": [
       "<pre>Batch size is larger than the input dataset. Switching to an exact Kmeans method.</pre>"
      ],
      "text/plain": [
       "Batch size is larger than the input dataset. Switching to an exact Kmeans method."
      ]
     },
     "metadata": {},
     "output_type": "display_data"
    },
    {
     "data": {
      "text/html": [
       "<pre>Choosing initial cluster centers with Kmeans++.</pre>"
      ],
      "text/plain": [
       "Choosing initial cluster centers with Kmeans++."
      ]
     },
     "metadata": {},
     "output_type": "display_data"
    },
    {
     "data": {
      "text/html": [
       "<pre>+---------------+-----------+</pre>"
      ],
      "text/plain": [
       "+---------------+-----------+"
      ]
     },
     "metadata": {},
     "output_type": "display_data"
    },
    {
     "data": {
      "text/html": [
       "<pre>| Center number | Row index |</pre>"
      ],
      "text/plain": [
       "| Center number | Row index |"
      ]
     },
     "metadata": {},
     "output_type": "display_data"
    },
    {
     "data": {
      "text/html": [
       "<pre>+---------------+-----------+</pre>"
      ],
      "text/plain": [
       "+---------------+-----------+"
      ]
     },
     "metadata": {},
     "output_type": "display_data"
    },
    {
     "data": {
      "text/html": [
       "<pre>| 0             | 10        |</pre>"
      ],
      "text/plain": [
       "| 0             | 10        |"
      ]
     },
     "metadata": {},
     "output_type": "display_data"
    },
    {
     "data": {
      "text/html": [
       "<pre>| 1             | 32        |</pre>"
      ],
      "text/plain": [
       "| 1             | 32        |"
      ]
     },
     "metadata": {},
     "output_type": "display_data"
    },
    {
     "data": {
      "text/html": [
       "<pre>| 2             | 28        |</pre>"
      ],
      "text/plain": [
       "| 2             | 28        |"
      ]
     },
     "metadata": {},
     "output_type": "display_data"
    },
    {
     "data": {
      "text/html": [
       "<pre>| 3             | 15        |</pre>"
      ],
      "text/plain": [
       "| 3             | 15        |"
      ]
     },
     "metadata": {},
     "output_type": "display_data"
    },
    {
     "data": {
      "text/html": [
       "<pre>| 4             | 63        |</pre>"
      ],
      "text/plain": [
       "| 4             | 63        |"
      ]
     },
     "metadata": {},
     "output_type": "display_data"
    },
    {
     "data": {
      "text/html": [
       "<pre>| 5             | 37        |</pre>"
      ],
      "text/plain": [
       "| 5             | 37        |"
      ]
     },
     "metadata": {},
     "output_type": "display_data"
    },
    {
     "data": {
      "text/html": [
       "<pre>| 10            | 35        |</pre>"
      ],
      "text/plain": [
       "| 10            | 35        |"
      ]
     },
     "metadata": {},
     "output_type": "display_data"
    },
    {
     "data": {
      "text/html": [
       "<pre>| 28            | 45        |</pre>"
      ],
      "text/plain": [
       "| 28            | 45        |"
      ]
     },
     "metadata": {},
     "output_type": "display_data"
    },
    {
     "data": {
      "text/html": [
       "<pre>+---------------+-----------+</pre>"
      ],
      "text/plain": [
       "+---------------+-----------+"
      ]
     },
     "metadata": {},
     "output_type": "display_data"
    },
    {
     "data": {
      "text/html": [
       "<pre>Starting kmeans model training.</pre>"
      ],
      "text/plain": [
       "Starting kmeans model training."
      ]
     },
     "metadata": {},
     "output_type": "display_data"
    },
    {
     "data": {
      "text/html": [
       "<pre>Assigning points to initial cluster centers.</pre>"
      ],
      "text/plain": [
       "Assigning points to initial cluster centers."
      ]
     },
     "metadata": {},
     "output_type": "display_data"
    },
    {
     "data": {
      "text/html": [
       "<pre>+-----------+-------------------------------+</pre>"
      ],
      "text/plain": [
       "+-----------+-------------------------------+"
      ]
     },
     "metadata": {},
     "output_type": "display_data"
    },
    {
     "data": {
      "text/html": [
       "<pre>| Iteration | Number of changed assignments |</pre>"
      ],
      "text/plain": [
       "| Iteration | Number of changed assignments |"
      ]
     },
     "metadata": {},
     "output_type": "display_data"
    },
    {
     "data": {
      "text/html": [
       "<pre>+-----------+-------------------------------+</pre>"
      ],
      "text/plain": [
       "+-----------+-------------------------------+"
      ]
     },
     "metadata": {},
     "output_type": "display_data"
    },
    {
     "data": {
      "text/html": [
       "<pre>| 1         | 1                             |</pre>"
      ],
      "text/plain": [
       "| 1         | 1                             |"
      ]
     },
     "metadata": {},
     "output_type": "display_data"
    },
    {
     "data": {
      "text/html": [
       "<pre>| 2         | 1                             |</pre>"
      ],
      "text/plain": [
       "| 2         | 1                             |"
      ]
     },
     "metadata": {},
     "output_type": "display_data"
    },
    {
     "data": {
      "text/html": [
       "<pre>| 3         | 0                             |</pre>"
      ],
      "text/plain": [
       "| 3         | 0                             |"
      ]
     },
     "metadata": {},
     "output_type": "display_data"
    },
    {
     "data": {
      "text/html": [
       "<pre>+-----------+-------------------------------+</pre>"
      ],
      "text/plain": [
       "+-----------+-------------------------------+"
      ]
     },
     "metadata": {},
     "output_type": "display_data"
    },
    {
     "data": {
      "text/html": [
       "<pre>Batch size is larger than the input dataset. Switching to an exact Kmeans method.</pre>"
      ],
      "text/plain": [
       "Batch size is larger than the input dataset. Switching to an exact Kmeans method."
      ]
     },
     "metadata": {},
     "output_type": "display_data"
    },
    {
     "data": {
      "text/html": [
       "<pre>Choosing initial cluster centers with Kmeans++.</pre>"
      ],
      "text/plain": [
       "Choosing initial cluster centers with Kmeans++."
      ]
     },
     "metadata": {},
     "output_type": "display_data"
    },
    {
     "data": {
      "text/html": [
       "<pre>+---------------+-----------+</pre>"
      ],
      "text/plain": [
       "+---------------+-----------+"
      ]
     },
     "metadata": {},
     "output_type": "display_data"
    },
    {
     "data": {
      "text/html": [
       "<pre>| Center number | Row index |</pre>"
      ],
      "text/plain": [
       "| Center number | Row index |"
      ]
     },
     "metadata": {},
     "output_type": "display_data"
    },
    {
     "data": {
      "text/html": [
       "<pre>+---------------+-----------+</pre>"
      ],
      "text/plain": [
       "+---------------+-----------+"
      ]
     },
     "metadata": {},
     "output_type": "display_data"
    },
    {
     "data": {
      "text/html": [
       "<pre>| 0             | 9         |</pre>"
      ],
      "text/plain": [
       "| 0             | 9         |"
      ]
     },
     "metadata": {},
     "output_type": "display_data"
    },
    {
     "data": {
      "text/html": [
       "<pre>| 1             | 3         |</pre>"
      ],
      "text/plain": [
       "| 1             | 3         |"
      ]
     },
     "metadata": {},
     "output_type": "display_data"
    },
    {
     "data": {
      "text/html": [
       "<pre>| 2             | 36        |</pre>"
      ],
      "text/plain": [
       "| 2             | 36        |"
      ]
     },
     "metadata": {},
     "output_type": "display_data"
    },
    {
     "data": {
      "text/html": [
       "<pre>| 3             | 0         |</pre>"
      ],
      "text/plain": [
       "| 3             | 0         |"
      ]
     },
     "metadata": {},
     "output_type": "display_data"
    },
    {
     "data": {
      "text/html": [
       "<pre>| 4             | 32        |</pre>"
      ],
      "text/plain": [
       "| 4             | 32        |"
      ]
     },
     "metadata": {},
     "output_type": "display_data"
    },
    {
     "data": {
      "text/html": [
       "<pre>| 5             | 44        |</pre>"
      ],
      "text/plain": [
       "| 5             | 44        |"
      ]
     },
     "metadata": {},
     "output_type": "display_data"
    },
    {
     "data": {
      "text/html": [
       "<pre>| 10            | 38        |</pre>"
      ],
      "text/plain": [
       "| 10            | 38        |"
      ]
     },
     "metadata": {},
     "output_type": "display_data"
    },
    {
     "data": {
      "text/html": [
       "<pre>| 29            | 72        |</pre>"
      ],
      "text/plain": [
       "| 29            | 72        |"
      ]
     },
     "metadata": {},
     "output_type": "display_data"
    },
    {
     "data": {
      "text/html": [
       "<pre>+---------------+-----------+</pre>"
      ],
      "text/plain": [
       "+---------------+-----------+"
      ]
     },
     "metadata": {},
     "output_type": "display_data"
    },
    {
     "data": {
      "text/html": [
       "<pre>Starting kmeans model training.</pre>"
      ],
      "text/plain": [
       "Starting kmeans model training."
      ]
     },
     "metadata": {},
     "output_type": "display_data"
    },
    {
     "data": {
      "text/html": [
       "<pre>Assigning points to initial cluster centers.</pre>"
      ],
      "text/plain": [
       "Assigning points to initial cluster centers."
      ]
     },
     "metadata": {},
     "output_type": "display_data"
    },
    {
     "data": {
      "text/html": [
       "<pre>+-----------+-------------------------------+</pre>"
      ],
      "text/plain": [
       "+-----------+-------------------------------+"
      ]
     },
     "metadata": {},
     "output_type": "display_data"
    },
    {
     "data": {
      "text/html": [
       "<pre>| Iteration | Number of changed assignments |</pre>"
      ],
      "text/plain": [
       "| Iteration | Number of changed assignments |"
      ]
     },
     "metadata": {},
     "output_type": "display_data"
    },
    {
     "data": {
      "text/html": [
       "<pre>+-----------+-------------------------------+</pre>"
      ],
      "text/plain": [
       "+-----------+-------------------------------+"
      ]
     },
     "metadata": {},
     "output_type": "display_data"
    },
    {
     "data": {
      "text/html": [
       "<pre>| 1         | 0                             |</pre>"
      ],
      "text/plain": [
       "| 1         | 0                             |"
      ]
     },
     "metadata": {},
     "output_type": "display_data"
    },
    {
     "data": {
      "text/html": [
       "<pre>+-----------+-------------------------------+</pre>"
      ],
      "text/plain": [
       "+-----------+-------------------------------+"
      ]
     },
     "metadata": {},
     "output_type": "display_data"
    },
    {
     "data": {
      "text/html": [
       "<pre>Batch size is larger than the input dataset. Switching to an exact Kmeans method.</pre>"
      ],
      "text/plain": [
       "Batch size is larger than the input dataset. Switching to an exact Kmeans method."
      ]
     },
     "metadata": {},
     "output_type": "display_data"
    },
    {
     "data": {
      "text/html": [
       "<pre>Choosing initial cluster centers with Kmeans++.</pre>"
      ],
      "text/plain": [
       "Choosing initial cluster centers with Kmeans++."
      ]
     },
     "metadata": {},
     "output_type": "display_data"
    },
    {
     "data": {
      "text/html": [
       "<pre>+---------------+-----------+</pre>"
      ],
      "text/plain": [
       "+---------------+-----------+"
      ]
     },
     "metadata": {},
     "output_type": "display_data"
    },
    {
     "data": {
      "text/html": [
       "<pre>| Center number | Row index |</pre>"
      ],
      "text/plain": [
       "| Center number | Row index |"
      ]
     },
     "metadata": {},
     "output_type": "display_data"
    },
    {
     "data": {
      "text/html": [
       "<pre>+---------------+-----------+</pre>"
      ],
      "text/plain": [
       "+---------------+-----------+"
      ]
     },
     "metadata": {},
     "output_type": "display_data"
    },
    {
     "data": {
      "text/html": [
       "<pre>| 0             | 45        |</pre>"
      ],
      "text/plain": [
       "| 0             | 45        |"
      ]
     },
     "metadata": {},
     "output_type": "display_data"
    },
    {
     "data": {
      "text/html": [
       "<pre>| 1             | 71        |</pre>"
      ],
      "text/plain": [
       "| 1             | 71        |"
      ]
     },
     "metadata": {},
     "output_type": "display_data"
    },
    {
     "data": {
      "text/html": [
       "<pre>| 2             | 13        |</pre>"
      ],
      "text/plain": [
       "| 2             | 13        |"
      ]
     },
     "metadata": {},
     "output_type": "display_data"
    },
    {
     "data": {
      "text/html": [
       "<pre>| 3             | 7         |</pre>"
      ],
      "text/plain": [
       "| 3             | 7         |"
      ]
     },
     "metadata": {},
     "output_type": "display_data"
    },
    {
     "data": {
      "text/html": [
       "<pre>| 4             | 68        |</pre>"
      ],
      "text/plain": [
       "| 4             | 68        |"
      ]
     },
     "metadata": {},
     "output_type": "display_data"
    },
    {
     "data": {
      "text/html": [
       "<pre>| 5             | 25        |</pre>"
      ],
      "text/plain": [
       "| 5             | 25        |"
      ]
     },
     "metadata": {},
     "output_type": "display_data"
    },
    {
     "data": {
      "text/html": [
       "<pre>| 10            | 17        |</pre>"
      ],
      "text/plain": [
       "| 10            | 17        |"
      ]
     },
     "metadata": {},
     "output_type": "display_data"
    },
    {
     "data": {
      "text/html": [
       "<pre>| 30            | 18        |</pre>"
      ],
      "text/plain": [
       "| 30            | 18        |"
      ]
     },
     "metadata": {},
     "output_type": "display_data"
    },
    {
     "data": {
      "text/html": [
       "<pre>+---------------+-----------+</pre>"
      ],
      "text/plain": [
       "+---------------+-----------+"
      ]
     },
     "metadata": {},
     "output_type": "display_data"
    },
    {
     "data": {
      "text/html": [
       "<pre>Starting kmeans model training.</pre>"
      ],
      "text/plain": [
       "Starting kmeans model training."
      ]
     },
     "metadata": {},
     "output_type": "display_data"
    },
    {
     "data": {
      "text/html": [
       "<pre>Assigning points to initial cluster centers.</pre>"
      ],
      "text/plain": [
       "Assigning points to initial cluster centers."
      ]
     },
     "metadata": {},
     "output_type": "display_data"
    },
    {
     "data": {
      "text/html": [
       "<pre>+-----------+-------------------------------+</pre>"
      ],
      "text/plain": [
       "+-----------+-------------------------------+"
      ]
     },
     "metadata": {},
     "output_type": "display_data"
    },
    {
     "data": {
      "text/html": [
       "<pre>| Iteration | Number of changed assignments |</pre>"
      ],
      "text/plain": [
       "| Iteration | Number of changed assignments |"
      ]
     },
     "metadata": {},
     "output_type": "display_data"
    },
    {
     "data": {
      "text/html": [
       "<pre>+-----------+-------------------------------+</pre>"
      ],
      "text/plain": [
       "+-----------+-------------------------------+"
      ]
     },
     "metadata": {},
     "output_type": "display_data"
    },
    {
     "data": {
      "text/html": [
       "<pre>| 1         | 0                             |</pre>"
      ],
      "text/plain": [
       "| 1         | 0                             |"
      ]
     },
     "metadata": {},
     "output_type": "display_data"
    },
    {
     "data": {
      "text/html": [
       "<pre>+-----------+-------------------------------+</pre>"
      ],
      "text/plain": [
       "+-----------+-------------------------------+"
      ]
     },
     "metadata": {},
     "output_type": "display_data"
    },
    {
     "data": {
      "text/html": [
       "<pre>Batch size is larger than the input dataset. Switching to an exact Kmeans method.</pre>"
      ],
      "text/plain": [
       "Batch size is larger than the input dataset. Switching to an exact Kmeans method."
      ]
     },
     "metadata": {},
     "output_type": "display_data"
    },
    {
     "data": {
      "text/html": [
       "<pre>Choosing initial cluster centers with Kmeans++.</pre>"
      ],
      "text/plain": [
       "Choosing initial cluster centers with Kmeans++."
      ]
     },
     "metadata": {},
     "output_type": "display_data"
    },
    {
     "data": {
      "text/html": [
       "<pre>+---------------+-----------+</pre>"
      ],
      "text/plain": [
       "+---------------+-----------+"
      ]
     },
     "metadata": {},
     "output_type": "display_data"
    },
    {
     "data": {
      "text/html": [
       "<pre>| Center number | Row index |</pre>"
      ],
      "text/plain": [
       "| Center number | Row index |"
      ]
     },
     "metadata": {},
     "output_type": "display_data"
    },
    {
     "data": {
      "text/html": [
       "<pre>+---------------+-----------+</pre>"
      ],
      "text/plain": [
       "+---------------+-----------+"
      ]
     },
     "metadata": {},
     "output_type": "display_data"
    },
    {
     "data": {
      "text/html": [
       "<pre>| 0             | 60        |</pre>"
      ],
      "text/plain": [
       "| 0             | 60        |"
      ]
     },
     "metadata": {},
     "output_type": "display_data"
    },
    {
     "data": {
      "text/html": [
       "<pre>| 1             | 0         |</pre>"
      ],
      "text/plain": [
       "| 1             | 0         |"
      ]
     },
     "metadata": {},
     "output_type": "display_data"
    },
    {
     "data": {
      "text/html": [
       "<pre>| 2             | 29        |</pre>"
      ],
      "text/plain": [
       "| 2             | 29        |"
      ]
     },
     "metadata": {},
     "output_type": "display_data"
    },
    {
     "data": {
      "text/html": [
       "<pre>| 3             | 27        |</pre>"
      ],
      "text/plain": [
       "| 3             | 27        |"
      ]
     },
     "metadata": {},
     "output_type": "display_data"
    },
    {
     "data": {
      "text/html": [
       "<pre>| 4             | 10        |</pre>"
      ],
      "text/plain": [
       "| 4             | 10        |"
      ]
     },
     "metadata": {},
     "output_type": "display_data"
    },
    {
     "data": {
      "text/html": [
       "<pre>| 5             | 14        |</pre>"
      ],
      "text/plain": [
       "| 5             | 14        |"
      ]
     },
     "metadata": {},
     "output_type": "display_data"
    },
    {
     "data": {
      "text/html": [
       "<pre>| 10            | 64        |</pre>"
      ],
      "text/plain": [
       "| 10            | 64        |"
      ]
     },
     "metadata": {},
     "output_type": "display_data"
    },
    {
     "data": {
      "text/html": [
       "<pre>| 31            | 8         |</pre>"
      ],
      "text/plain": [
       "| 31            | 8         |"
      ]
     },
     "metadata": {},
     "output_type": "display_data"
    },
    {
     "data": {
      "text/html": [
       "<pre>+---------------+-----------+</pre>"
      ],
      "text/plain": [
       "+---------------+-----------+"
      ]
     },
     "metadata": {},
     "output_type": "display_data"
    },
    {
     "data": {
      "text/html": [
       "<pre>Starting kmeans model training.</pre>"
      ],
      "text/plain": [
       "Starting kmeans model training."
      ]
     },
     "metadata": {},
     "output_type": "display_data"
    },
    {
     "data": {
      "text/html": [
       "<pre>Assigning points to initial cluster centers.</pre>"
      ],
      "text/plain": [
       "Assigning points to initial cluster centers."
      ]
     },
     "metadata": {},
     "output_type": "display_data"
    },
    {
     "data": {
      "text/html": [
       "<pre>+-----------+-------------------------------+</pre>"
      ],
      "text/plain": [
       "+-----------+-------------------------------+"
      ]
     },
     "metadata": {},
     "output_type": "display_data"
    },
    {
     "data": {
      "text/html": [
       "<pre>| Iteration | Number of changed assignments |</pre>"
      ],
      "text/plain": [
       "| Iteration | Number of changed assignments |"
      ]
     },
     "metadata": {},
     "output_type": "display_data"
    },
    {
     "data": {
      "text/html": [
       "<pre>+-----------+-------------------------------+</pre>"
      ],
      "text/plain": [
       "+-----------+-------------------------------+"
      ]
     },
     "metadata": {},
     "output_type": "display_data"
    },
    {
     "data": {
      "text/html": [
       "<pre>| 1         | 0                             |</pre>"
      ],
      "text/plain": [
       "| 1         | 0                             |"
      ]
     },
     "metadata": {},
     "output_type": "display_data"
    },
    {
     "data": {
      "text/html": [
       "<pre>+-----------+-------------------------------+</pre>"
      ],
      "text/plain": [
       "+-----------+-------------------------------+"
      ]
     },
     "metadata": {},
     "output_type": "display_data"
    },
    {
     "data": {
      "text/html": [
       "<pre>Batch size is larger than the input dataset. Switching to an exact Kmeans method.</pre>"
      ],
      "text/plain": [
       "Batch size is larger than the input dataset. Switching to an exact Kmeans method."
      ]
     },
     "metadata": {},
     "output_type": "display_data"
    },
    {
     "data": {
      "text/html": [
       "<pre>Choosing initial cluster centers with Kmeans++.</pre>"
      ],
      "text/plain": [
       "Choosing initial cluster centers with Kmeans++."
      ]
     },
     "metadata": {},
     "output_type": "display_data"
    },
    {
     "data": {
      "text/html": [
       "<pre>+---------------+-----------+</pre>"
      ],
      "text/plain": [
       "+---------------+-----------+"
      ]
     },
     "metadata": {},
     "output_type": "display_data"
    },
    {
     "data": {
      "text/html": [
       "<pre>| Center number | Row index |</pre>"
      ],
      "text/plain": [
       "| Center number | Row index |"
      ]
     },
     "metadata": {},
     "output_type": "display_data"
    },
    {
     "data": {
      "text/html": [
       "<pre>+---------------+-----------+</pre>"
      ],
      "text/plain": [
       "+---------------+-----------+"
      ]
     },
     "metadata": {},
     "output_type": "display_data"
    },
    {
     "data": {
      "text/html": [
       "<pre>| 0             | 15        |</pre>"
      ],
      "text/plain": [
       "| 0             | 15        |"
      ]
     },
     "metadata": {},
     "output_type": "display_data"
    },
    {
     "data": {
      "text/html": [
       "<pre>| 1             | 33        |</pre>"
      ],
      "text/plain": [
       "| 1             | 33        |"
      ]
     },
     "metadata": {},
     "output_type": "display_data"
    },
    {
     "data": {
      "text/html": [
       "<pre>| 2             | 5         |</pre>"
      ],
      "text/plain": [
       "| 2             | 5         |"
      ]
     },
     "metadata": {},
     "output_type": "display_data"
    },
    {
     "data": {
      "text/html": [
       "<pre>| 3             | 37        |</pre>"
      ],
      "text/plain": [
       "| 3             | 37        |"
      ]
     },
     "metadata": {},
     "output_type": "display_data"
    },
    {
     "data": {
      "text/html": [
       "<pre>| 4             | 44        |</pre>"
      ],
      "text/plain": [
       "| 4             | 44        |"
      ]
     },
     "metadata": {},
     "output_type": "display_data"
    },
    {
     "data": {
      "text/html": [
       "<pre>| 5             | 48        |</pre>"
      ],
      "text/plain": [
       "| 5             | 48        |"
      ]
     },
     "metadata": {},
     "output_type": "display_data"
    },
    {
     "data": {
      "text/html": [
       "<pre>| 10            | 12        |</pre>"
      ],
      "text/plain": [
       "| 10            | 12        |"
      ]
     },
     "metadata": {},
     "output_type": "display_data"
    },
    {
     "data": {
      "text/html": [
       "<pre>| 32            | 25        |</pre>"
      ],
      "text/plain": [
       "| 32            | 25        |"
      ]
     },
     "metadata": {},
     "output_type": "display_data"
    },
    {
     "data": {
      "text/html": [
       "<pre>+---------------+-----------+</pre>"
      ],
      "text/plain": [
       "+---------------+-----------+"
      ]
     },
     "metadata": {},
     "output_type": "display_data"
    },
    {
     "data": {
      "text/html": [
       "<pre>Starting kmeans model training.</pre>"
      ],
      "text/plain": [
       "Starting kmeans model training."
      ]
     },
     "metadata": {},
     "output_type": "display_data"
    },
    {
     "data": {
      "text/html": [
       "<pre>Assigning points to initial cluster centers.</pre>"
      ],
      "text/plain": [
       "Assigning points to initial cluster centers."
      ]
     },
     "metadata": {},
     "output_type": "display_data"
    },
    {
     "data": {
      "text/html": [
       "<pre>+-----------+-------------------------------+</pre>"
      ],
      "text/plain": [
       "+-----------+-------------------------------+"
      ]
     },
     "metadata": {},
     "output_type": "display_data"
    },
    {
     "data": {
      "text/html": [
       "<pre>| Iteration | Number of changed assignments |</pre>"
      ],
      "text/plain": [
       "| Iteration | Number of changed assignments |"
      ]
     },
     "metadata": {},
     "output_type": "display_data"
    },
    {
     "data": {
      "text/html": [
       "<pre>+-----------+-------------------------------+</pre>"
      ],
      "text/plain": [
       "+-----------+-------------------------------+"
      ]
     },
     "metadata": {},
     "output_type": "display_data"
    },
    {
     "data": {
      "text/html": [
       "<pre>| 1         | 0                             |</pre>"
      ],
      "text/plain": [
       "| 1         | 0                             |"
      ]
     },
     "metadata": {},
     "output_type": "display_data"
    },
    {
     "data": {
      "text/html": [
       "<pre>+-----------+-------------------------------+</pre>"
      ],
      "text/plain": [
       "+-----------+-------------------------------+"
      ]
     },
     "metadata": {},
     "output_type": "display_data"
    },
    {
     "data": {
      "text/html": [
       "<pre>Batch size is larger than the input dataset. Switching to an exact Kmeans method.</pre>"
      ],
      "text/plain": [
       "Batch size is larger than the input dataset. Switching to an exact Kmeans method."
      ]
     },
     "metadata": {},
     "output_type": "display_data"
    },
    {
     "data": {
      "text/html": [
       "<pre>Choosing initial cluster centers with Kmeans++.</pre>"
      ],
      "text/plain": [
       "Choosing initial cluster centers with Kmeans++."
      ]
     },
     "metadata": {},
     "output_type": "display_data"
    },
    {
     "data": {
      "text/html": [
       "<pre>+---------------+-----------+</pre>"
      ],
      "text/plain": [
       "+---------------+-----------+"
      ]
     },
     "metadata": {},
     "output_type": "display_data"
    },
    {
     "data": {
      "text/html": [
       "<pre>| Center number | Row index |</pre>"
      ],
      "text/plain": [
       "| Center number | Row index |"
      ]
     },
     "metadata": {},
     "output_type": "display_data"
    },
    {
     "data": {
      "text/html": [
       "<pre>+---------------+-----------+</pre>"
      ],
      "text/plain": [
       "+---------------+-----------+"
      ]
     },
     "metadata": {},
     "output_type": "display_data"
    },
    {
     "data": {
      "text/html": [
       "<pre>| 0             | 59        |</pre>"
      ],
      "text/plain": [
       "| 0             | 59        |"
      ]
     },
     "metadata": {},
     "output_type": "display_data"
    },
    {
     "data": {
      "text/html": [
       "<pre>| 1             | 0         |</pre>"
      ],
      "text/plain": [
       "| 1             | 0         |"
      ]
     },
     "metadata": {},
     "output_type": "display_data"
    },
    {
     "data": {
      "text/html": [
       "<pre>| 2             | 45        |</pre>"
      ],
      "text/plain": [
       "| 2             | 45        |"
      ]
     },
     "metadata": {},
     "output_type": "display_data"
    },
    {
     "data": {
      "text/html": [
       "<pre>| 3             | 10        |</pre>"
      ],
      "text/plain": [
       "| 3             | 10        |"
      ]
     },
     "metadata": {},
     "output_type": "display_data"
    },
    {
     "data": {
      "text/html": [
       "<pre>| 4             | 46        |</pre>"
      ],
      "text/plain": [
       "| 4             | 46        |"
      ]
     },
     "metadata": {},
     "output_type": "display_data"
    },
    {
     "data": {
      "text/html": [
       "<pre>| 5             | 65        |</pre>"
      ],
      "text/plain": [
       "| 5             | 65        |"
      ]
     },
     "metadata": {},
     "output_type": "display_data"
    },
    {
     "data": {
      "text/html": [
       "<pre>| 10            | 72        |</pre>"
      ],
      "text/plain": [
       "| 10            | 72        |"
      ]
     },
     "metadata": {},
     "output_type": "display_data"
    },
    {
     "data": {
      "text/html": [
       "<pre>| 33            | 9         |</pre>"
      ],
      "text/plain": [
       "| 33            | 9         |"
      ]
     },
     "metadata": {},
     "output_type": "display_data"
    },
    {
     "data": {
      "text/html": [
       "<pre>+---------------+-----------+</pre>"
      ],
      "text/plain": [
       "+---------------+-----------+"
      ]
     },
     "metadata": {},
     "output_type": "display_data"
    },
    {
     "data": {
      "text/html": [
       "<pre>Starting kmeans model training.</pre>"
      ],
      "text/plain": [
       "Starting kmeans model training."
      ]
     },
     "metadata": {},
     "output_type": "display_data"
    },
    {
     "data": {
      "text/html": [
       "<pre>Assigning points to initial cluster centers.</pre>"
      ],
      "text/plain": [
       "Assigning points to initial cluster centers."
      ]
     },
     "metadata": {},
     "output_type": "display_data"
    },
    {
     "data": {
      "text/html": [
       "<pre>+-----------+-------------------------------+</pre>"
      ],
      "text/plain": [
       "+-----------+-------------------------------+"
      ]
     },
     "metadata": {},
     "output_type": "display_data"
    },
    {
     "data": {
      "text/html": [
       "<pre>| Iteration | Number of changed assignments |</pre>"
      ],
      "text/plain": [
       "| Iteration | Number of changed assignments |"
      ]
     },
     "metadata": {},
     "output_type": "display_data"
    },
    {
     "data": {
      "text/html": [
       "<pre>+-----------+-------------------------------+</pre>"
      ],
      "text/plain": [
       "+-----------+-------------------------------+"
      ]
     },
     "metadata": {},
     "output_type": "display_data"
    },
    {
     "data": {
      "text/html": [
       "<pre>| 1         | 0                             |</pre>"
      ],
      "text/plain": [
       "| 1         | 0                             |"
      ]
     },
     "metadata": {},
     "output_type": "display_data"
    },
    {
     "data": {
      "text/html": [
       "<pre>+-----------+-------------------------------+</pre>"
      ],
      "text/plain": [
       "+-----------+-------------------------------+"
      ]
     },
     "metadata": {},
     "output_type": "display_data"
    },
    {
     "data": {
      "text/html": [
       "<pre>Batch size is larger than the input dataset. Switching to an exact Kmeans method.</pre>"
      ],
      "text/plain": [
       "Batch size is larger than the input dataset. Switching to an exact Kmeans method."
      ]
     },
     "metadata": {},
     "output_type": "display_data"
    },
    {
     "data": {
      "text/html": [
       "<pre>Choosing initial cluster centers with Kmeans++.</pre>"
      ],
      "text/plain": [
       "Choosing initial cluster centers with Kmeans++."
      ]
     },
     "metadata": {},
     "output_type": "display_data"
    },
    {
     "data": {
      "text/html": [
       "<pre>+---------------+-----------+</pre>"
      ],
      "text/plain": [
       "+---------------+-----------+"
      ]
     },
     "metadata": {},
     "output_type": "display_data"
    },
    {
     "data": {
      "text/html": [
       "<pre>| Center number | Row index |</pre>"
      ],
      "text/plain": [
       "| Center number | Row index |"
      ]
     },
     "metadata": {},
     "output_type": "display_data"
    },
    {
     "data": {
      "text/html": [
       "<pre>+---------------+-----------+</pre>"
      ],
      "text/plain": [
       "+---------------+-----------+"
      ]
     },
     "metadata": {},
     "output_type": "display_data"
    },
    {
     "data": {
      "text/html": [
       "<pre>| 0             | 4         |</pre>"
      ],
      "text/plain": [
       "| 0             | 4         |"
      ]
     },
     "metadata": {},
     "output_type": "display_data"
    },
    {
     "data": {
      "text/html": [
       "<pre>| 1             | 10        |</pre>"
      ],
      "text/plain": [
       "| 1             | 10        |"
      ]
     },
     "metadata": {},
     "output_type": "display_data"
    },
    {
     "data": {
      "text/html": [
       "<pre>| 2             | 61        |</pre>"
      ],
      "text/plain": [
       "| 2             | 61        |"
      ]
     },
     "metadata": {},
     "output_type": "display_data"
    },
    {
     "data": {
      "text/html": [
       "<pre>| 3             | 23        |</pre>"
      ],
      "text/plain": [
       "| 3             | 23        |"
      ]
     },
     "metadata": {},
     "output_type": "display_data"
    },
    {
     "data": {
      "text/html": [
       "<pre>| 4             | 68        |</pre>"
      ],
      "text/plain": [
       "| 4             | 68        |"
      ]
     },
     "metadata": {},
     "output_type": "display_data"
    },
    {
     "data": {
      "text/html": [
       "<pre>| 5             | 16        |</pre>"
      ],
      "text/plain": [
       "| 5             | 16        |"
      ]
     },
     "metadata": {},
     "output_type": "display_data"
    },
    {
     "data": {
      "text/html": [
       "<pre>| 10            | 37        |</pre>"
      ],
      "text/plain": [
       "| 10            | 37        |"
      ]
     },
     "metadata": {},
     "output_type": "display_data"
    },
    {
     "data": {
      "text/html": [
       "<pre>| 34            | 18        |</pre>"
      ],
      "text/plain": [
       "| 34            | 18        |"
      ]
     },
     "metadata": {},
     "output_type": "display_data"
    },
    {
     "data": {
      "text/html": [
       "<pre>+---------------+-----------+</pre>"
      ],
      "text/plain": [
       "+---------------+-----------+"
      ]
     },
     "metadata": {},
     "output_type": "display_data"
    },
    {
     "data": {
      "text/html": [
       "<pre>Starting kmeans model training.</pre>"
      ],
      "text/plain": [
       "Starting kmeans model training."
      ]
     },
     "metadata": {},
     "output_type": "display_data"
    },
    {
     "data": {
      "text/html": [
       "<pre>Assigning points to initial cluster centers.</pre>"
      ],
      "text/plain": [
       "Assigning points to initial cluster centers."
      ]
     },
     "metadata": {},
     "output_type": "display_data"
    },
    {
     "data": {
      "text/html": [
       "<pre>+-----------+-------------------------------+</pre>"
      ],
      "text/plain": [
       "+-----------+-------------------------------+"
      ]
     },
     "metadata": {},
     "output_type": "display_data"
    },
    {
     "data": {
      "text/html": [
       "<pre>| Iteration | Number of changed assignments |</pre>"
      ],
      "text/plain": [
       "| Iteration | Number of changed assignments |"
      ]
     },
     "metadata": {},
     "output_type": "display_data"
    },
    {
     "data": {
      "text/html": [
       "<pre>+-----------+-------------------------------+</pre>"
      ],
      "text/plain": [
       "+-----------+-------------------------------+"
      ]
     },
     "metadata": {},
     "output_type": "display_data"
    },
    {
     "data": {
      "text/html": [
       "<pre>| 1         | 0                             |</pre>"
      ],
      "text/plain": [
       "| 1         | 0                             |"
      ]
     },
     "metadata": {},
     "output_type": "display_data"
    },
    {
     "data": {
      "text/html": [
       "<pre>+-----------+-------------------------------+</pre>"
      ],
      "text/plain": [
       "+-----------+-------------------------------+"
      ]
     },
     "metadata": {},
     "output_type": "display_data"
    },
    {
     "data": {
      "text/html": [
       "<pre>Batch size is larger than the input dataset. Switching to an exact Kmeans method.</pre>"
      ],
      "text/plain": [
       "Batch size is larger than the input dataset. Switching to an exact Kmeans method."
      ]
     },
     "metadata": {},
     "output_type": "display_data"
    },
    {
     "data": {
      "text/html": [
       "<pre>Choosing initial cluster centers with Kmeans++.</pre>"
      ],
      "text/plain": [
       "Choosing initial cluster centers with Kmeans++."
      ]
     },
     "metadata": {},
     "output_type": "display_data"
    },
    {
     "data": {
      "text/html": [
       "<pre>+---------------+-----------+</pre>"
      ],
      "text/plain": [
       "+---------------+-----------+"
      ]
     },
     "metadata": {},
     "output_type": "display_data"
    },
    {
     "data": {
      "text/html": [
       "<pre>| Center number | Row index |</pre>"
      ],
      "text/plain": [
       "| Center number | Row index |"
      ]
     },
     "metadata": {},
     "output_type": "display_data"
    },
    {
     "data": {
      "text/html": [
       "<pre>+---------------+-----------+</pre>"
      ],
      "text/plain": [
       "+---------------+-----------+"
      ]
     },
     "metadata": {},
     "output_type": "display_data"
    },
    {
     "data": {
      "text/html": [
       "<pre>| 0             | 29        |</pre>"
      ],
      "text/plain": [
       "| 0             | 29        |"
      ]
     },
     "metadata": {},
     "output_type": "display_data"
    },
    {
     "data": {
      "text/html": [
       "<pre>| 1             | 55        |</pre>"
      ],
      "text/plain": [
       "| 1             | 55        |"
      ]
     },
     "metadata": {},
     "output_type": "display_data"
    },
    {
     "data": {
      "text/html": [
       "<pre>| 2             | 38        |</pre>"
      ],
      "text/plain": [
       "| 2             | 38        |"
      ]
     },
     "metadata": {},
     "output_type": "display_data"
    },
    {
     "data": {
      "text/html": [
       "<pre>| 3             | 9         |</pre>"
      ],
      "text/plain": [
       "| 3             | 9         |"
      ]
     },
     "metadata": {},
     "output_type": "display_data"
    },
    {
     "data": {
      "text/html": [
       "<pre>| 4             | 14        |</pre>"
      ],
      "text/plain": [
       "| 4             | 14        |"
      ]
     },
     "metadata": {},
     "output_type": "display_data"
    },
    {
     "data": {
      "text/html": [
       "<pre>| 5             | 61        |</pre>"
      ],
      "text/plain": [
       "| 5             | 61        |"
      ]
     },
     "metadata": {},
     "output_type": "display_data"
    },
    {
     "data": {
      "text/html": [
       "<pre>| 10            | 59        |</pre>"
      ],
      "text/plain": [
       "| 10            | 59        |"
      ]
     },
     "metadata": {},
     "output_type": "display_data"
    },
    {
     "data": {
      "text/html": [
       "<pre>| 35            | 18        |</pre>"
      ],
      "text/plain": [
       "| 35            | 18        |"
      ]
     },
     "metadata": {},
     "output_type": "display_data"
    },
    {
     "data": {
      "text/html": [
       "<pre>+---------------+-----------+</pre>"
      ],
      "text/plain": [
       "+---------------+-----------+"
      ]
     },
     "metadata": {},
     "output_type": "display_data"
    },
    {
     "data": {
      "text/html": [
       "<pre>Starting kmeans model training.</pre>"
      ],
      "text/plain": [
       "Starting kmeans model training."
      ]
     },
     "metadata": {},
     "output_type": "display_data"
    },
    {
     "data": {
      "text/html": [
       "<pre>Assigning points to initial cluster centers.</pre>"
      ],
      "text/plain": [
       "Assigning points to initial cluster centers."
      ]
     },
     "metadata": {},
     "output_type": "display_data"
    },
    {
     "data": {
      "text/html": [
       "<pre>+-----------+-------------------------------+</pre>"
      ],
      "text/plain": [
       "+-----------+-------------------------------+"
      ]
     },
     "metadata": {},
     "output_type": "display_data"
    },
    {
     "data": {
      "text/html": [
       "<pre>| Iteration | Number of changed assignments |</pre>"
      ],
      "text/plain": [
       "| Iteration | Number of changed assignments |"
      ]
     },
     "metadata": {},
     "output_type": "display_data"
    },
    {
     "data": {
      "text/html": [
       "<pre>+-----------+-------------------------------+</pre>"
      ],
      "text/plain": [
       "+-----------+-------------------------------+"
      ]
     },
     "metadata": {},
     "output_type": "display_data"
    },
    {
     "data": {
      "text/html": [
       "<pre>| 1         | 0                             |</pre>"
      ],
      "text/plain": [
       "| 1         | 0                             |"
      ]
     },
     "metadata": {},
     "output_type": "display_data"
    },
    {
     "data": {
      "text/html": [
       "<pre>+-----------+-------------------------------+</pre>"
      ],
      "text/plain": [
       "+-----------+-------------------------------+"
      ]
     },
     "metadata": {},
     "output_type": "display_data"
    },
    {
     "data": {
      "text/html": [
       "<pre>Batch size is larger than the input dataset. Switching to an exact Kmeans method.</pre>"
      ],
      "text/plain": [
       "Batch size is larger than the input dataset. Switching to an exact Kmeans method."
      ]
     },
     "metadata": {},
     "output_type": "display_data"
    },
    {
     "data": {
      "text/html": [
       "<pre>Choosing initial cluster centers with Kmeans++.</pre>"
      ],
      "text/plain": [
       "Choosing initial cluster centers with Kmeans++."
      ]
     },
     "metadata": {},
     "output_type": "display_data"
    },
    {
     "data": {
      "text/html": [
       "<pre>+---------------+-----------+</pre>"
      ],
      "text/plain": [
       "+---------------+-----------+"
      ]
     },
     "metadata": {},
     "output_type": "display_data"
    },
    {
     "data": {
      "text/html": [
       "<pre>| Center number | Row index |</pre>"
      ],
      "text/plain": [
       "| Center number | Row index |"
      ]
     },
     "metadata": {},
     "output_type": "display_data"
    },
    {
     "data": {
      "text/html": [
       "<pre>+---------------+-----------+</pre>"
      ],
      "text/plain": [
       "+---------------+-----------+"
      ]
     },
     "metadata": {},
     "output_type": "display_data"
    },
    {
     "data": {
      "text/html": [
       "<pre>| 0             | 24        |</pre>"
      ],
      "text/plain": [
       "| 0             | 24        |"
      ]
     },
     "metadata": {},
     "output_type": "display_data"
    },
    {
     "data": {
      "text/html": [
       "<pre>| 1             | 57        |</pre>"
      ],
      "text/plain": [
       "| 1             | 57        |"
      ]
     },
     "metadata": {},
     "output_type": "display_data"
    },
    {
     "data": {
      "text/html": [
       "<pre>| 2             | 36        |</pre>"
      ],
      "text/plain": [
       "| 2             | 36        |"
      ]
     },
     "metadata": {},
     "output_type": "display_data"
    },
    {
     "data": {
      "text/html": [
       "<pre>| 3             | 1         |</pre>"
      ],
      "text/plain": [
       "| 3             | 1         |"
      ]
     },
     "metadata": {},
     "output_type": "display_data"
    },
    {
     "data": {
      "text/html": [
       "<pre>| 4             | 17        |</pre>"
      ],
      "text/plain": [
       "| 4             | 17        |"
      ]
     },
     "metadata": {},
     "output_type": "display_data"
    },
    {
     "data": {
      "text/html": [
       "<pre>| 5             | 41        |</pre>"
      ],
      "text/plain": [
       "| 5             | 41        |"
      ]
     },
     "metadata": {},
     "output_type": "display_data"
    },
    {
     "data": {
      "text/html": [
       "<pre>| 10            | 37        |</pre>"
      ],
      "text/plain": [
       "| 10            | 37        |"
      ]
     },
     "metadata": {},
     "output_type": "display_data"
    },
    {
     "data": {
      "text/html": [
       "<pre>| 36            | 40        |</pre>"
      ],
      "text/plain": [
       "| 36            | 40        |"
      ]
     },
     "metadata": {},
     "output_type": "display_data"
    },
    {
     "data": {
      "text/html": [
       "<pre>+---------------+-----------+</pre>"
      ],
      "text/plain": [
       "+---------------+-----------+"
      ]
     },
     "metadata": {},
     "output_type": "display_data"
    },
    {
     "data": {
      "text/html": [
       "<pre>Starting kmeans model training.</pre>"
      ],
      "text/plain": [
       "Starting kmeans model training."
      ]
     },
     "metadata": {},
     "output_type": "display_data"
    },
    {
     "data": {
      "text/html": [
       "<pre>Assigning points to initial cluster centers.</pre>"
      ],
      "text/plain": [
       "Assigning points to initial cluster centers."
      ]
     },
     "metadata": {},
     "output_type": "display_data"
    },
    {
     "data": {
      "text/html": [
       "<pre>+-----------+-------------------------------+</pre>"
      ],
      "text/plain": [
       "+-----------+-------------------------------+"
      ]
     },
     "metadata": {},
     "output_type": "display_data"
    },
    {
     "data": {
      "text/html": [
       "<pre>| Iteration | Number of changed assignments |</pre>"
      ],
      "text/plain": [
       "| Iteration | Number of changed assignments |"
      ]
     },
     "metadata": {},
     "output_type": "display_data"
    },
    {
     "data": {
      "text/html": [
       "<pre>+-----------+-------------------------------+</pre>"
      ],
      "text/plain": [
       "+-----------+-------------------------------+"
      ]
     },
     "metadata": {},
     "output_type": "display_data"
    },
    {
     "data": {
      "text/html": [
       "<pre>| 1         | 0                             |</pre>"
      ],
      "text/plain": [
       "| 1         | 0                             |"
      ]
     },
     "metadata": {},
     "output_type": "display_data"
    },
    {
     "data": {
      "text/html": [
       "<pre>+-----------+-------------------------------+</pre>"
      ],
      "text/plain": [
       "+-----------+-------------------------------+"
      ]
     },
     "metadata": {},
     "output_type": "display_data"
    },
    {
     "data": {
      "text/html": [
       "<pre>Batch size is larger than the input dataset. Switching to an exact Kmeans method.</pre>"
      ],
      "text/plain": [
       "Batch size is larger than the input dataset. Switching to an exact Kmeans method."
      ]
     },
     "metadata": {},
     "output_type": "display_data"
    },
    {
     "data": {
      "text/html": [
       "<pre>Choosing initial cluster centers with Kmeans++.</pre>"
      ],
      "text/plain": [
       "Choosing initial cluster centers with Kmeans++."
      ]
     },
     "metadata": {},
     "output_type": "display_data"
    },
    {
     "data": {
      "text/html": [
       "<pre>+---------------+-----------+</pre>"
      ],
      "text/plain": [
       "+---------------+-----------+"
      ]
     },
     "metadata": {},
     "output_type": "display_data"
    },
    {
     "data": {
      "text/html": [
       "<pre>| Center number | Row index |</pre>"
      ],
      "text/plain": [
       "| Center number | Row index |"
      ]
     },
     "metadata": {},
     "output_type": "display_data"
    },
    {
     "data": {
      "text/html": [
       "<pre>+---------------+-----------+</pre>"
      ],
      "text/plain": [
       "+---------------+-----------+"
      ]
     },
     "metadata": {},
     "output_type": "display_data"
    },
    {
     "data": {
      "text/html": [
       "<pre>| 0             | 55        |</pre>"
      ],
      "text/plain": [
       "| 0             | 55        |"
      ]
     },
     "metadata": {},
     "output_type": "display_data"
    },
    {
     "data": {
      "text/html": [
       "<pre>| 1             | 12        |</pre>"
      ],
      "text/plain": [
       "| 1             | 12        |"
      ]
     },
     "metadata": {},
     "output_type": "display_data"
    },
    {
     "data": {
      "text/html": [
       "<pre>| 2             | 52        |</pre>"
      ],
      "text/plain": [
       "| 2             | 52        |"
      ]
     },
     "metadata": {},
     "output_type": "display_data"
    },
    {
     "data": {
      "text/html": [
       "<pre>| 3             | 4         |</pre>"
      ],
      "text/plain": [
       "| 3             | 4         |"
      ]
     },
     "metadata": {},
     "output_type": "display_data"
    },
    {
     "data": {
      "text/html": [
       "<pre>| 4             | 5         |</pre>"
      ],
      "text/plain": [
       "| 4             | 5         |"
      ]
     },
     "metadata": {},
     "output_type": "display_data"
    },
    {
     "data": {
      "text/html": [
       "<pre>| 5             | 32        |</pre>"
      ],
      "text/plain": [
       "| 5             | 32        |"
      ]
     },
     "metadata": {},
     "output_type": "display_data"
    },
    {
     "data": {
      "text/html": [
       "<pre>| 10            | 30        |</pre>"
      ],
      "text/plain": [
       "| 10            | 30        |"
      ]
     },
     "metadata": {},
     "output_type": "display_data"
    },
    {
     "data": {
      "text/html": [
       "<pre>| 37            | 69        |</pre>"
      ],
      "text/plain": [
       "| 37            | 69        |"
      ]
     },
     "metadata": {},
     "output_type": "display_data"
    },
    {
     "data": {
      "text/html": [
       "<pre>+---------------+-----------+</pre>"
      ],
      "text/plain": [
       "+---------------+-----------+"
      ]
     },
     "metadata": {},
     "output_type": "display_data"
    },
    {
     "data": {
      "text/html": [
       "<pre>Starting kmeans model training.</pre>"
      ],
      "text/plain": [
       "Starting kmeans model training."
      ]
     },
     "metadata": {},
     "output_type": "display_data"
    },
    {
     "data": {
      "text/html": [
       "<pre>Assigning points to initial cluster centers.</pre>"
      ],
      "text/plain": [
       "Assigning points to initial cluster centers."
      ]
     },
     "metadata": {},
     "output_type": "display_data"
    },
    {
     "data": {
      "text/html": [
       "<pre>+-----------+-------------------------------+</pre>"
      ],
      "text/plain": [
       "+-----------+-------------------------------+"
      ]
     },
     "metadata": {},
     "output_type": "display_data"
    },
    {
     "data": {
      "text/html": [
       "<pre>| Iteration | Number of changed assignments |</pre>"
      ],
      "text/plain": [
       "| Iteration | Number of changed assignments |"
      ]
     },
     "metadata": {},
     "output_type": "display_data"
    },
    {
     "data": {
      "text/html": [
       "<pre>+-----------+-------------------------------+</pre>"
      ],
      "text/plain": [
       "+-----------+-------------------------------+"
      ]
     },
     "metadata": {},
     "output_type": "display_data"
    },
    {
     "data": {
      "text/html": [
       "<pre>| 1         | 0                             |</pre>"
      ],
      "text/plain": [
       "| 1         | 0                             |"
      ]
     },
     "metadata": {},
     "output_type": "display_data"
    },
    {
     "data": {
      "text/html": [
       "<pre>+-----------+-------------------------------+</pre>"
      ],
      "text/plain": [
       "+-----------+-------------------------------+"
      ]
     },
     "metadata": {},
     "output_type": "display_data"
    }
   ],
   "source": [
    "sses = []\n",
    "for k in range(1, len(summary)):\n",
    "    model = turicreate.kmeans.create(summary, features=['tfidf'], num_clusters=k)\n",
    "    sses.append(sum(model.cluster_info['sum_squared_distance']))"
   ]
  },
  {
   "cell_type": "code",
   "execution_count": 28,
   "metadata": {},
   "outputs": [],
   "source": [
    "from matplotlib import pyplot as plt"
   ]
  },
  {
   "cell_type": "code",
   "execution_count": 43,
   "metadata": {},
   "outputs": [
    {
     "data": {
      "text/plain": [
       "[<matplotlib.lines.Line2D at 0x7f12d8047f40>]"
      ]
     },
     "execution_count": 43,
     "metadata": {},
     "output_type": "execute_result"
    },
    {
     "data": {
      "image/png": "[encoded data removed]",
      "text/plain": [
       "<Figure size 432x288 with 1 Axes>"
      ]
     },
     "metadata": {
      "needs_background": "light"
     },
     "output_type": "display_data"
    }
   ],
   "source": [
    "fig = plt.figure()\n",
    "ax = fig.add_axes([0, 0, 1, 1])\n",
    "ax.plot(range(len(sses)),sses)"
   ]
  },
  {
   "cell_type": "markdown",
   "metadata": {},
   "source": [
    "### Manually choose k, perform K-Means clustering"
   ]
  },
  {
   "cell_type": "code",
   "execution_count": 40,
   "metadata": {},
   "outputs": [
    {
     "data": {
      "text/html": [
       "<pre>Batch size is larger than the input dataset. Switching to an exact Kmeans method.</pre>"
      ],
      "text/plain": [
       "Batch size is larger than the input dataset. Switching to an exact Kmeans method."
      ]
     },
     "metadata": {},
     "output_type": "display_data"
    },
    {
     "data": {
      "text/html": [
       "<pre>Choosing initial cluster centers with Kmeans++.</pre>"
      ],
      "text/plain": [
       "Choosing initial cluster centers with Kmeans++."
      ]
     },
     "metadata": {},
     "output_type": "display_data"
    },
    {
     "data": {
      "text/html": [
       "<pre>+---------------+-----------+</pre>"
      ],
      "text/plain": [
       "+---------------+-----------+"
      ]
     },
     "metadata": {},
     "output_type": "display_data"
    },
    {
     "data": {
      "text/html": [
       "<pre>| Center number | Row index |</pre>"
      ],
      "text/plain": [
       "| Center number | Row index |"
      ]
     },
     "metadata": {},
     "output_type": "display_data"
    },
    {
     "data": {
      "text/html": [
       "<pre>+---------------+-----------+</pre>"
      ],
      "text/plain": [
       "+---------------+-----------+"
      ]
     },
     "metadata": {},
     "output_type": "display_data"
    },
    {
     "data": {
      "text/html": [
       "<pre>| 0             | 65        |</pre>"
      ],
      "text/plain": [
       "| 0             | 65        |"
      ]
     },
     "metadata": {},
     "output_type": "display_data"
    },
    {
     "data": {
      "text/html": [
       "<pre>| 1             | 69        |</pre>"
      ],
      "text/plain": [
       "| 1             | 69        |"
      ]
     },
     "metadata": {},
     "output_type": "display_data"
    },
    {
     "data": {
      "text/html": [
       "<pre>| 2             | 39        |</pre>"
      ],
      "text/plain": [
       "| 2             | 39        |"
      ]
     },
     "metadata": {},
     "output_type": "display_data"
    },
    {
     "data": {
      "text/html": [
       "<pre>| 3             | 6         |</pre>"
      ],
      "text/plain": [
       "| 3             | 6         |"
      ]
     },
     "metadata": {},
     "output_type": "display_data"
    },
    {
     "data": {
      "text/html": [
       "<pre>| 4             | 62        |</pre>"
      ],
      "text/plain": [
       "| 4             | 62        |"
      ]
     },
     "metadata": {},
     "output_type": "display_data"
    },
    {
     "data": {
      "text/html": [
       "<pre>| 5             | 51        |</pre>"
      ],
      "text/plain": [
       "| 5             | 51        |"
      ]
     },
     "metadata": {},
     "output_type": "display_data"
    },
    {
     "data": {
      "text/html": [
       "<pre>| 10            | 44        |</pre>"
      ],
      "text/plain": [
       "| 10            | 44        |"
      ]
     },
     "metadata": {},
     "output_type": "display_data"
    },
    {
     "data": {
      "text/html": [
       "<pre>| 20            | 10        |</pre>"
      ],
      "text/plain": [
       "| 20            | 10        |"
      ]
     },
     "metadata": {},
     "output_type": "display_data"
    },
    {
     "data": {
      "text/html": [
       "<pre>+---------------+-----------+</pre>"
      ],
      "text/plain": [
       "+---------------+-----------+"
      ]
     },
     "metadata": {},
     "output_type": "display_data"
    },
    {
     "data": {
      "text/html": [
       "<pre>Starting kmeans model training.</pre>"
      ],
      "text/plain": [
       "Starting kmeans model training."
      ]
     },
     "metadata": {},
     "output_type": "display_data"
    },
    {
     "data": {
      "text/html": [
       "<pre>Assigning points to initial cluster centers.</pre>"
      ],
      "text/plain": [
       "Assigning points to initial cluster centers."
      ]
     },
     "metadata": {},
     "output_type": "display_data"
    },
    {
     "data": {
      "text/html": [
       "<pre>+-----------+-------------------------------+</pre>"
      ],
      "text/plain": [
       "+-----------+-------------------------------+"
      ]
     },
     "metadata": {},
     "output_type": "display_data"
    },
    {
     "data": {
      "text/html": [
       "<pre>| Iteration | Number of changed assignments |</pre>"
      ],
      "text/plain": [
       "| Iteration | Number of changed assignments |"
      ]
     },
     "metadata": {},
     "output_type": "display_data"
    },
    {
     "data": {
      "text/html": [
       "<pre>+-----------+-------------------------------+</pre>"
      ],
      "text/plain": [
       "+-----------+-------------------------------+"
      ]
     },
     "metadata": {},
     "output_type": "display_data"
    },
    {
     "data": {
      "text/html": [
       "<pre>| 1         | 1                             |</pre>"
      ],
      "text/plain": [
       "| 1         | 1                             |"
      ]
     },
     "metadata": {},
     "output_type": "display_data"
    },
    {
     "data": {
      "text/html": [
       "<pre>| 2         | 0                             |</pre>"
      ],
      "text/plain": [
       "| 2         | 0                             |"
      ]
     },
     "metadata": {},
     "output_type": "display_data"
    },
    {
     "data": {
      "text/html": [
       "<pre>+-----------+-------------------------------+</pre>"
      ],
      "text/plain": [
       "+-----------+-------------------------------+"
      ]
     },
     "metadata": {},
     "output_type": "display_data"
    }
   ],
   "source": [
    "k = 21\n",
    "kmeans_model = turicreate.kmeans.create(summary, features=['tfidf'], num_clusters=k)"
   ]
  },
  {
   "cell_type": "code",
   "execution_count": 41,
   "metadata": {},
   "outputs": [
    {
     "name": "stdout",
     "output_type": "stream",
     "text": [
      "+-------------------------------+------------+------+----------------------+\n",
      "|             tfidf             | cluster_id | size | sum_squared_distance |\n",
      "+-------------------------------+------------+------+----------------------+\n",
      "| {'a': 0.2573004652722753, ... |     0      |  1   |         0.0          |\n",
      "| {'a': 0.4288341087871255, ... |     1      |  1   |         0.0          |\n",
      "| {'abundant': 3.59731226058... |     2      |  1   |         0.0          |\n",
      "| {'a': 0.3430672870297004, ... |     3      |  1   |         0.0          |\n",
      "| {'a': 0.3430672870297004, ... |     4      |  1   |         0.0          |\n",
      "| {'a': 0.6861345740594008, ... |     5      |  1   |         0.0          |\n",
      "| {'a': 0.3130488994146017, ... |     6      |  40  |  72380.57173156738   |\n",
      "| {'a': 0.3259139226782154, ... |     7      |  10  |  15396.830017089844  |\n",
      "| {'a': 0.3430672870297004, ... |     8      |  1   |         0.0          |\n",
      "| {'a': 0.857668217574251, '... |     9      |  1   |         0.0          |\n",
      "| {'a': 0.0857668217574251, ... |     10     |  1   |         0.0          |\n",
      "| {'a': 0.5146009305445506, ... |     11     |  1   |         0.0          |\n",
      "| {'a': 0.4717175196658381, ... |     12     |  4   |  9368.204956054688   |\n",
      "| {'a': 0.1715336435148502, ... |     13     |  1   |         0.0          |\n",
      "| {'a': 0.2573004652722753, ... |     14     |  1   |         0.0          |\n",
      "| {'a': 0.4288341087871255, ... |     15     |  1   |         0.0          |\n",
      "| {'a': 0.857668217574251, '... |     16     |  1   |         0.0          |\n",
      "| {'a': 0.1715336435148502, ... |     17     |  1   |         0.0          |\n",
      "| {'a': 0.4288341087871255, ... |     18     |  1   |         0.0          |\n",
      "| {'a': 0.2573004652722753, ... |     19     |  1   |         0.0          |\n",
      "| {'a': 0.38595069790841297,... |     20     |  2   |     1840.109375      |\n",
      "+-------------------------------+------------+------+----------------------+\n",
      "[21 rows x 4 columns]\n",
      "\n"
     ]
    }
   ],
   "source": [
    "kmeans_model.cluster_info.print_rows(num_rows=k)"
   ]
  },
  {
   "cell_type": "markdown",
   "metadata": {},
   "source": [
    "### What are the top 10 words defining a cluster?"
   ]
  },
  {
   "cell_type": "code",
   "execution_count": 42,
   "metadata": {},
   "outputs": [
    {
     "name": "stdout",
     "output_type": "stream",
     "text": [
      "Cluster 0\n",
      "['winter', 'collected', 'summer', 'otsuki', 'cold', 'muricata', 'kochi', 'photochemical', 'health', 'stress']\n",
      "Cluster 1\n",
      "['aws', 'isolates', 'characterized', 'vibrio', 'clone', 'revealing', 'diseased', 'healthy', 'rrna', 'libraries']\n",
      "Cluster 2\n",
      "['cloud', 'duplicated', 'warm', 'environments', 'diverse', 'periods', 'belonging', 'survived', 'marine', 'ancestor']\n",
      "Cluster 3\n",
      "['selection', 'homologous', 'homologues', 'dnds', 'pairs', 'ratios', 'datasets', 'contigs', 'similarities', 'independent']\n",
      "Cluster 4\n",
      "['go', 'terms', 'nlrclike', 'groups', 'protein', 'overrepresented', 'pairedend', 'ubiquitination', 'aculeus', 'nfkb']\n",
      "Cluster 5\n",
      "['postfertilization', 'c', 'development', 'palmata', 'division', 'replicationcell', 'embryos', 'stages', 'embryonic', 'temperatures']\n",
      "Cluster 6\n",
      "['disease', 'domain', 'thermal', 'symbiodinium', 'stress', 'dmsp', 'colonies', 'response', 'immune', 'elevated']\n",
      "Cluster 7\n",
      "['et', 'al', 'stressresponsive', 'fastigiata', 'bleaching', 'reference', 'protein', 'irradiance', 'juveniles', 'clade']\n",
      "Cluster 8\n",
      "['clock', 'circadian', 'one', 'photoreceptor', 'find', 'lineage', 'orthologs', 'behaviors', 'anemone', 'digitifera']\n",
      "Cluster 9\n",
      "['humilis', 'pistillata', 'zooxanthellae', 'densities', 'l', 'mgcm', 's', 'lost', 'sediment', 'time']\n",
      "Cluster 10\n",
      "['nutritional', 'content', 'populations', 'lipid', 'course', 'triacylglycerol', 'location', 'inshore', 'psii', 'local']\n",
      "Cluster 11\n",
      "['recruits', 'symbiodinium', 'clades', 'composition', 'c', 'type', 'clade', 'harbored', 'tolerance', 'environment']\n",
      "Cluster 12\n",
      "['larvae', 'co', 'damicornis', 'pco', 'life', 'calcification', 'sesoko', 'respiration', 'planulae', 'rate']\n",
      "Cluster 13\n",
      "['f', 'pco', 'v', 'm', 'crossed', 'coca', 'co', 'event', 'carbon', 'elevated']\n",
      "Cluster 14\n",
      "['fertilization', 'gw', 'acidified', 'oa', 'seawater', 'rates', 'sperm', 'model', 'digitifera', 'effects']\n",
      "Cluster 15\n",
      "['cyclone', 'site', 'arborescent', 'tropical', 'growth', 'protected', 'tabular', 'year', 'mortality', 'digitate']\n",
      "Cluster 16\n",
      "['disease', 'palmata', 'symbiodiniaceae', 'log', 'damino', 'driver', 'core', 'variance', 'oxidase', 'keystone']\n",
      "Cluster 17\n",
      "['pool', 'coq', 'pq', 'pools', 'state', 'antioxidant', 'ii', 'symbiosis', 'shift', 'ros']\n",
      "Cluster 18\n",
      "['cycles', 'clock', 'darkness', 'diurnal', 'example', 'circadian', 'cycle', 'constant', 'processes', 'many']\n",
      "Cluster 19\n",
      "['tolerance', 'variation', 'h', 'colonies', 'population', 'thermal', 'susceptible', 'tolerant', 'genetic', 'whether']\n",
      "Cluster 20\n",
      "['healthy', 'diseased', 'tissues', 'disease', 'parts', 'apparently', 'colonies', 'white', 'syndromes', 'fully']\n"
     ]
    }
   ],
   "source": [
    "info = kmeans_model.cluster_info\n",
    "for k in range(0, len(info)):\n",
    "    cluster = info[info['cluster_id'] == k]\n",
    "    top_words_tfidf = cluster[['tfidf']].stack('tfidf', new_column_name=['word','tfidf']).sort('tfidf', ascending=False)\n",
    "    top_words = top_words_tfidf['word'][0:10]\n",
    "    print(f\"Cluster {k}\")\n",
    "    print(top_words)"
   ]
  },
  {
   "cell_type": "code",
   "execution_count": null,
   "metadata": {},
   "outputs": [],
   "source": []
  }
 ],
 "metadata": {
  "kernelspec": {
   "display_name": "Python 3",
   "language": "python",
   "name": "python3"
  },
  "language_info": {
   "codemirror_mode": {
    "name": "ipython",
    "version": 3
   },
   "file_extension": ".py",
   "mimetype": "text/x-python",
   "name": "python",
   "nbconvert_exporter": "python",
   "pygments_lexer": "ipython3",
   "version": "3.8.5"
  }
 },
 "nbformat": 4,
 "nbformat_minor": 4
}
