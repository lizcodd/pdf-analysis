{
 "cells": [
  {
   "cell_type": "markdown",
   "metadata": {},
   "source": [
    "# Coral Analysis"
   ]
  },
  {
   "cell_type": "code",
   "execution_count": 1,
   "metadata": {},
   "outputs": [],
   "source": [
    "import turicreate"
   ]
  },
  {
   "cell_type": "code",
   "execution_count": 2,
   "metadata": {},
   "outputs": [],
   "source": [
    "import re"
   ]
  },
  {
   "cell_type": "code",
   "execution_count": 264,
   "metadata": {},
   "outputs": [
    {
     "data": {
      "text/html": [
       "<pre>Finished parsing file /home/liz/coral/scholarSummary.csv</pre>"
      ],
      "text/plain": [
       "Finished parsing file /home/liz/coral/scholarSummary.csv"
      ]
     },
     "metadata": {},
     "output_type": "display_data"
    },
    {
     "data": {
      "text/html": [
       "<pre>Parsing completed. Parsed 85 lines in 0.017516 secs.</pre>"
      ],
      "text/plain": [
       "Parsing completed. Parsed 85 lines in 0.017516 secs."
      ]
     },
     "metadata": {},
     "output_type": "display_data"
    },
    {
     "name": "stdout",
     "output_type": "stream",
     "text": [
      "------------------------------------------------------\n",
      "Inferred types from first 100 line(s) of file as \n",
      "column_type_hints=[str,str,str,str,str,str,str]\n",
      "If parsing fails due to incorrect types, you can correct\n",
      "the inferred type list above and pass it to read_csv in\n",
      "the column_type_hints argument\n",
      "------------------------------------------------------\n"
     ]
    },
    {
     "data": {
      "text/html": [
       "<pre>Finished parsing file /home/liz/coral/scholarSummary.csv</pre>"
      ],
      "text/plain": [
       "Finished parsing file /home/liz/coral/scholarSummary.csv"
      ]
     },
     "metadata": {},
     "output_type": "display_data"
    },
    {
     "data": {
      "text/html": [
       "<pre>Parsing completed. Parsed 85 lines in 0.017499 secs.</pre>"
      ],
      "text/plain": [
       "Parsing completed. Parsed 85 lines in 0.017499 secs."
      ]
     },
     "metadata": {},
     "output_type": "display_data"
    }
   ],
   "source": [
    "# summary = turicreate.SFrame('crossrefSummary.csv')\n",
    "summary = turicreate.SFrame('scholarSummary.csv')"
   ]
  },
  {
   "cell_type": "code",
   "execution_count": 265,
   "metadata": {},
   "outputs": [],
   "source": [
    "summary = summary[summary['Abstract'] != None]  # only search documents where abstract was found"
   ]
  },
  {
   "cell_type": "markdown",
   "metadata": {},
   "source": [
    "### Search text for all Acropora species (species list taken from Acropora Wiki)"
   ]
  },
  {
   "cell_type": "code",
   "execution_count": 303,
   "metadata": {},
   "outputs": [
    {
     "data": {
      "text/plain": [
       "289"
      ]
     },
     "execution_count": 303,
     "metadata": {},
     "output_type": "execute_result"
    }
   ],
   "source": [
    "species_list = []\n",
    "with open('acroporaSpecies.txt', 'r') as f:\n",
    "    text = f.read()\n",
    "    species_list = re.findall('(?<=\\n)[A-Za-z]+ [a-z]+', text) # pull out species names only\n",
    "len(species_list)"
   ]
  },
  {
   "cell_type": "code",
   "execution_count": 345,
   "metadata": {},
   "outputs": [],
   "source": [
    "def searchSpecies(text):\n",
    "    species_found = []\n",
    "    for species in species_list:\n",
    "        # e.g. search for Acropora digitifera or A. digitifera \n",
    "        #if species in text or re.search(species[0]+'[\\.]? '+species.split(' ')[1], text):\n",
    "        if species in text or re.search(species[0]+'[\\.]? '+species.split(' ')[1], text):\n",
    "            species_found.append(species)\n",
    "    return species_found"
   ]
  },
  {
   "cell_type": "code",
   "execution_count": 346,
   "metadata": {},
   "outputs": [
    {
     "data": {
      "text/html": [
       "<div style=\"max-height:1000px;max-width:1500px;overflow:auto;\"><table frame=\"box\" rules=\"cols\">\n",
       "    <tr>\n",
       "        <th style=\"padding-left: 1em; padding-right: 1em; text-align: center\">ID</th>\n",
       "        <th style=\"padding-left: 1em; padding-right: 1em; text-align: center\">DOI</th>\n",
       "        <th style=\"padding-left: 1em; padding-right: 1em; text-align: center\">Title</th>\n",
       "        <th style=\"padding-left: 1em; padding-right: 1em; text-align: center\">Date</th>\n",
       "    </tr>\n",
       "    <tr>\n",
       "        <td style=\"padding-left: 1em; padding-right: 1em; text-align: center; vertical-align: top\">Science-Repository-<br>Transforming-Growth- ...</td>\n",
       "        <td style=\"padding-left: 1em; padding-right: 1em; text-align: center; vertical-align: top\">10.31487/j.COR.2020.09.11</td>\n",
       "        <td style=\"padding-left: 1em; padding-right: 1em; text-align: center; vertical-align: top\">Transforming Growth<br>Factor Beta 1: Possible ...</td>\n",
       "        <td style=\"padding-left: 1em; padding-right: 1em; text-align: center; vertical-align: top\">30 September, 2020</td>\n",
       "    </tr>\n",
       "    <tr>\n",
       "        <td style=\"padding-left: 1em; padding-right: 1em; text-align: center; vertical-align: top\">2020.241-249</td>\n",
       "        <td style=\"padding-left: 1em; padding-right: 1em; text-align: center; vertical-align: top\">None</td>\n",
       "        <td style=\"padding-left: 1em; padding-right: 1em; text-align: center; vertical-align: top\">Characteristics of<br>Acropora divaricata and ...</td>\n",
       "        <td style=\"padding-left: 1em; padding-right: 1em; text-align: center; vertical-align: top\">07 February 2020</td>\n",
       "    </tr>\n",
       "    <tr>\n",
       "        <td style=\"padding-left: 1em; padding-right: 1em; text-align: center; vertical-align: top\">7-3-7-108</td>\n",
       "        <td style=\"padding-left: 1em; padding-right: 1em; text-align: center; vertical-align: top\">None</td>\n",
       "        <td style=\"padding-left: 1em; padding-right: 1em; text-align: center; vertical-align: top\">Staghorn coral (Genus-<br>Acropora) of Elphinstone ...</td>\n",
       "        <td style=\"padding-left: 1em; padding-right: 1em; text-align: center; vertical-align: top\">None</td>\n",
       "    </tr>\n",
       "    <tr>\n",
       "        <td style=\"padding-left: 1em; padding-right: 1em; text-align: center; vertical-align: top\">Differential-bleaching-<br>patterns-in-corals-of- ...</td>\n",
       "        <td style=\"padding-left: 1em; padding-right: 1em; text-align: center; vertical-align: top\">10.18520/cs/v114/i03/679-<br>685 ...</td>\n",
       "        <td style=\"padding-left: 1em; padding-right: 1em; text-align: center; vertical-align: top\">Differential bleaching<br>patterns in corals of ...</td>\n",
       "        <td style=\"padding-left: 1em; padding-right: 1em; text-align: center; vertical-align: top\">None</td>\n",
       "    </tr>\n",
       "    <tr>\n",
       "        <td style=\"padding-left: 1em; padding-right: 1em; text-align: center; vertical-align: top\">Bioerosion-of-the-<br>scleractinian-finger- ...</td>\n",
       "        <td style=\"padding-left: 1em; padding-right: 1em; text-align: center; vertical-align: top\">None</td>\n",
       "        <td style=\"padding-left: 1em; padding-right: 1em; text-align: center; vertical-align: top\">Bioerosion of the<br>scleractinian finger ...</td>\n",
       "        <td style=\"padding-left: 1em; padding-right: 1em; text-align: center; vertical-align: top\">None</td>\n",
       "    </tr>\n",
       "    <tr>\n",
       "        <td style=\"padding-left: 1em; padding-right: 1em; text-align: center; vertical-align: top\">DESIGN-AND-<br>IMPLEMENTATION-OF- ...</td>\n",
       "        <td style=\"padding-left: 1em; padding-right: 1em; text-align: center; vertical-align: top\">10.1175/1520-0426(2004)02<br>1&lt;0331:NAMFRD&gt;2.0.CO;2 ...</td>\n",
       "        <td style=\"padding-left: 1em; padding-right: 1em; text-align: center; vertical-align: top\">DESIGN AND IMPLEMENTATION<br>OF ELECTRONIC LOGGING ...</td>\n",
       "        <td style=\"padding-left: 1em; padding-right: 1em; text-align: center; vertical-align: top\">None</td>\n",
       "    </tr>\n",
       "    <tr>\n",
       "        <td style=\"padding-left: 1em; padding-right: 1em; text-align: center; vertical-align: top\">2020_Nielsen-etal-<br>Physiological-effects ...</td>\n",
       "        <td style=\"padding-left: 1em; padding-right: 1em; text-align: center; vertical-align: top\">10.1007/s00338-019-01881-<br>x) ...</td>\n",
       "        <td style=\"padding-left: 1em; padding-right: 1em; text-align: center; vertical-align: top\">Physiological effects of<br>heat and cold exposur ...</td>\n",
       "        <td style=\"padding-left: 1em; padding-right: 1em; text-align: center; vertical-align: top\">13 January 2020</td>\n",
       "    </tr>\n",
       "    <tr>\n",
       "        <td style=\"padding-left: 1em; padding-right: 1em; text-align: center; vertical-align: top\">Genotypic-inventory-of-<br>Acropora-palmata-elkh ...</td>\n",
       "        <td style=\"padding-left: 1em; padding-right: 1em; text-align: center; vertical-align: top\">10.1007/s00227-003-1024-9</td>\n",
       "        <td style=\"padding-left: 1em; padding-right: 1em; text-align: center; vertical-align: top\">Genotypic inventory of<br>Acropora palmata (elk ...</td>\n",
       "        <td style=\"padding-left: 1em; padding-right: 1em; text-align: center; vertical-align: top\">January 2020</td>\n",
       "    </tr>\n",
       "    <tr>\n",
       "        <td style=\"padding-left: 1em; padding-right: 1em; text-align: center; vertical-align: top\">rachel_sandquist_poster</td>\n",
       "        <td style=\"padding-left: 1em; padding-right: 1em; text-align: center; vertical-align: top\">10.1186/1750-2187-8-7</td>\n",
       "        <td style=\"padding-left: 1em; padding-right: 1em; text-align: center; vertical-align: top\">None</td>\n",
       "        <td style=\"padding-left: 1em; padding-right: 1em; text-align: center; vertical-align: top\">None</td>\n",
       "    </tr>\n",
       "    <tr>\n",
       "        <td style=\"padding-left: 1em; padding-right: 1em; text-align: center; vertical-align: top\">245731</td>\n",
       "        <td style=\"padding-left: 1em; padding-right: 1em; text-align: center; vertical-align: top\">None</td>\n",
       "        <td style=\"padding-left: 1em; padding-right: 1em; text-align: center; vertical-align: top\">None</td>\n",
       "        <td style=\"padding-left: 1em; padding-right: 1em; text-align: center; vertical-align: top\">None</td>\n",
       "    </tr>\n",
       "</table>\n",
       "<table frame=\"box\" rules=\"cols\">\n",
       "    <tr>\n",
       "        <th style=\"padding-left: 1em; padding-right: 1em; text-align: center\">Keywords</th>\n",
       "        <th style=\"padding-left: 1em; padding-right: 1em; text-align: center\">Abstract</th>\n",
       "        <th style=\"padding-left: 1em; padding-right: 1em; text-align: center\">Language</th>\n",
       "        <th style=\"padding-left: 1em; padding-right: 1em; text-align: center\">Species present</th>\n",
       "        <th style=\"padding-left: 1em; padding-right: 1em; text-align: center\">Genes present</th>\n",
       "    </tr>\n",
       "    <tr>\n",
       "        <td style=\"padding-left: 1em; padding-right: 1em; text-align: center; vertical-align: top\">Acute lymphoid leukemia</td>\n",
       "        <td style=\"padding-left: 1em; padding-right: 1em; text-align: center; vertical-align: top\">Acute lymphoblastic<br>leukemia (ALL) is a ...</td>\n",
       "        <td style=\"padding-left: 1em; padding-right: 1em; text-align: center; vertical-align: top\">en</td>\n",
       "        <td style=\"padding-left: 1em; padding-right: 1em; text-align: center; vertical-align: top\">[]</td>\n",
       "        <td style=\"padding-left: 1em; padding-right: 1em; text-align: center; vertical-align: top\">[TGFB1]</td>\n",
       "    </tr>\n",
       "    <tr>\n",
       "        <td style=\"padding-left: 1em; padding-right: 1em; text-align: center; vertical-align: top\">coral transplant,optimum<br>depth,algal ...</td>\n",
       "        <td style=\"padding-left: 1em; padding-right: 1em; text-align: center; vertical-align: top\">Coral reefs are aquatic<br>ecosystems with the ...</td>\n",
       "        <td style=\"padding-left: 1em; padding-right: 1em; text-align: center; vertical-align: top\">en</td>\n",
       "        <td style=\"padding-left: 1em; padding-right: 1em; text-align: center; vertical-align: top\">[Acropora divaricata]</td>\n",
       "        <td style=\"padding-left: 1em; padding-right: 1em; text-align: center; vertical-align: top\">[]</td>\n",
       "    </tr>\n",
       "    <tr>\n",
       "        <td style=\"padding-left: 1em; padding-right: 1em; text-align: center; vertical-align: top\">Acropora,elphinstone<br>island,myeik archipel ...</td>\n",
       "        <td style=\"padding-left: 1em; padding-right: 1em; text-align: center; vertical-align: top\">This study was carried<br>out from Elphinstone ...</td>\n",
       "        <td style=\"padding-left: 1em; padding-right: 1em; text-align: center; vertical-align: top\">en</td>\n",
       "        <td style=\"padding-left: 1em; padding-right: 1em; text-align: center; vertical-align: top\">[Acropora horrida,<br>Acropora nasuta, Acro ...</td>\n",
       "        <td style=\"padding-left: 1em; padding-right: 1em; text-align: center; vertical-align: top\">[]</td>\n",
       "    </tr>\n",
       "    <tr>\n",
       "        <td style=\"padding-left: 1em; padding-right: 1em; text-align: center; vertical-align: top\">Adaptive coral<br>bleaching,Gulf of ...</td>\n",
       "        <td style=\"padding-left: 1em; padding-right: 1em; text-align: center; vertical-align: top\">The status of reefs in<br>Palk Bay and the Gulf of ...</td>\n",
       "        <td style=\"padding-left: 1em; padding-right: 1em; text-align: center; vertical-align: top\">en</td>\n",
       "        <td style=\"padding-left: 1em; padding-right: 1em; text-align: center; vertical-align: top\">[]</td>\n",
       "        <td style=\"padding-left: 1em; padding-right: 1em; text-align: center; vertical-align: top\">[]</td>\n",
       "    </tr>\n",
       "    <tr>\n",
       "        <td style=\"padding-left: 1em; padding-right: 1em; text-align: center; vertical-align: top\">Phone no Scleractinian<br>Coral,Acropora humili ...</td>\n",
       "        <td style=\"padding-left: 1em; padding-right: 1em; text-align: center; vertical-align: top\">Bioerosion by boring<br>organisms is one of the ...</td>\n",
       "        <td style=\"padding-left: 1em; padding-right: 1em; text-align: center; vertical-align: top\">en</td>\n",
       "        <td style=\"padding-left: 1em; padding-right: 1em; text-align: center; vertical-align: top\">[Acropora humilis]</td>\n",
       "        <td style=\"padding-left: 1em; padding-right: 1em; text-align: center; vertical-align: top\">[]</td>\n",
       "    </tr>\n",
       "    <tr>\n",
       "        <td style=\"padding-left: 1em; padding-right: 1em; text-align: center; vertical-align: top\">Instrument,Coral Reef<br>Observation,Water ...</td>\n",
       "        <td style=\"padding-left: 1em; padding-right: 1em; text-align: center; vertical-align: top\">Coral Reefs observations<br>need to be conducted to ...</td>\n",
       "        <td style=\"padding-left: 1em; padding-right: 1em; text-align: center; vertical-align: top\">en</td>\n",
       "        <td style=\"padding-left: 1em; padding-right: 1em; text-align: center; vertical-align: top\">[]</td>\n",
       "        <td style=\"padding-left: 1em; padding-right: 1em; text-align: center; vertical-align: top\">[Clock]</td>\n",
       "    </tr>\n",
       "    <tr>\n",
       "        <td style=\"padding-left: 1em; padding-right: 1em; text-align: center; vertical-align: top\">Thermal<br>tolerance,Coral,Energ ...</td>\n",
       "        <td style=\"padding-left: 1em; padding-right: 1em; text-align: center; vertical-align: top\">Reef-forming corals are<br>under threat globally ...</td>\n",
       "        <td style=\"padding-left: 1em; padding-right: 1em; text-align: center; vertical-align: top\">en</td>\n",
       "        <td style=\"padding-left: 1em; padding-right: 1em; text-align: center; vertical-align: top\">[Acropora millepora]</td>\n",
       "        <td style=\"padding-left: 1em; padding-right: 1em; text-align: center; vertical-align: top\">[]</td>\n",
       "    </tr>\n",
       "    <tr>\n",
       "        <td style=\"padding-left: 1em; padding-right: 1em; text-align: center; vertical-align: top\">None</td>\n",
       "        <td style=\"padding-left: 1em; padding-right: 1em; text-align: center; vertical-align: top\">The elkhorn coral,<br>Acropora palmata, is the ...</td>\n",
       "        <td style=\"padding-left: 1em; padding-right: 1em; text-align: center; vertical-align: top\">en</td>\n",
       "        <td style=\"padding-left: 1em; padding-right: 1em; text-align: center; vertical-align: top\">[Acropora palmata]</td>\n",
       "        <td style=\"padding-left: 1em; padding-right: 1em; text-align: center; vertical-align: top\">[]</td>\n",
       "    </tr>\n",
       "    <tr>\n",
       "        <td style=\"padding-left: 1em; padding-right: 1em; text-align: center; vertical-align: top\">None</td>\n",
       "        <td style=\"padding-left: 1em; padding-right: 1em; text-align: center; vertical-align: top\">Discussion o Thirty-seven<br>potential TRAF homologs ...</td>\n",
       "        <td style=\"padding-left: 1em; padding-right: 1em; text-align: center; vertical-align: top\">en</td>\n",
       "        <td style=\"padding-left: 1em; padding-right: 1em; text-align: center; vertical-align: top\">[]</td>\n",
       "        <td style=\"padding-left: 1em; padding-right: 1em; text-align: center; vertical-align: top\">[F protein]</td>\n",
       "    </tr>\n",
       "    <tr>\n",
       "        <td style=\"padding-left: 1em; padding-right: 1em; text-align: center; vertical-align: top\">MTQ: G45893 -4, Penghu,<br>Chinwan,G45902, Penghu, ...</td>\n",
       "        <td style=\"padding-left: 1em; padding-right: 1em; text-align: center; vertical-align: top\">Taxonomic Description &amp;<br>Diagnosis Colonies are ...</td>\n",
       "        <td style=\"padding-left: 1em; padding-right: 1em; text-align: center; vertical-align: top\">en</td>\n",
       "        <td style=\"padding-left: 1em; padding-right: 1em; text-align: center; vertical-align: top\">[Montipora cactus,<br>Montipora hispida] ...</td>\n",
       "        <td style=\"padding-left: 1em; padding-right: 1em; text-align: center; vertical-align: top\">[]</td>\n",
       "    </tr>\n",
       "</table>\n",
       "<table frame=\"box\" rules=\"cols\">\n",
       "    <tr>\n",
       "        <th style=\"padding-left: 1em; padding-right: 1em; text-align: center\">Possible gene terms</th>\n",
       "    </tr>\n",
       "    <tr>\n",
       "        <td style=\"padding-left: 1em; padding-right: 1em; text-align: center; vertical-align: top\">[]</td>\n",
       "    </tr>\n",
       "    <tr>\n",
       "        <td style=\"padding-left: 1em; padding-right: 1em; text-align: center; vertical-align: top\">[]</td>\n",
       "    </tr>\n",
       "    <tr>\n",
       "        <td style=\"padding-left: 1em; padding-right: 1em; text-align: center; vertical-align: top\">[]</td>\n",
       "    </tr>\n",
       "    <tr>\n",
       "        <td style=\"padding-left: 1em; padding-right: 1em; text-align: center; vertical-align: top\">[]</td>\n",
       "    </tr>\n",
       "    <tr>\n",
       "        <td style=\"padding-left: 1em; padding-right: 1em; text-align: center; vertical-align: top\">[scale]</td>\n",
       "    </tr>\n",
       "    <tr>\n",
       "        <td style=\"padding-left: 1em; padding-right: 1em; text-align: center; vertical-align: top\">[]</td>\n",
       "    </tr>\n",
       "    <tr>\n",
       "        <td style=\"padding-left: 1em; padding-right: 1em; text-align: center; vertical-align: top\">[]</td>\n",
       "    </tr>\n",
       "    <tr>\n",
       "        <td style=\"padding-left: 1em; padding-right: 1em; text-align: center; vertical-align: top\">[]</td>\n",
       "    </tr>\n",
       "    <tr>\n",
       "        <td style=\"padding-left: 1em; padding-right: 1em; text-align: center; vertical-align: top\">[NOD]</td>\n",
       "    </tr>\n",
       "    <tr>\n",
       "        <td style=\"padding-left: 1em; padding-right: 1em; text-align: center; vertical-align: top\">[]</td>\n",
       "    </tr>\n",
       "</table>\n",
       "[68 rows x 10 columns]<br/>Note: Only the head of the SFrame is printed.<br/>You can use print_rows(num_rows=m, num_columns=n) to print more rows and columns.\n",
       "</div>"
      ],
      "text/plain": [
       "Columns:\n",
       "\tID\tstr\n",
       "\tDOI\tstr\n",
       "\tTitle\tstr\n",
       "\tDate\tstr\n",
       "\tKeywords\tstr\n",
       "\tAbstract\tstr\n",
       "\tLanguage\tstr\n",
       "\tSpecies present\tlist\n",
       "\tGenes present\tlist\n",
       "\tPossible gene terms\tlist\n",
       "\n",
       "Rows: 68\n",
       "\n",
       "Data:\n",
       "+-------------------------------+-------------------------------+\n",
       "|               ID              |              DOI              |\n",
       "+-------------------------------+-------------------------------+\n",
       "| Science-Repository-Transfo... |   10.31487/j.COR.2020.09.11   |\n",
       "|          2020.241-249         |              None             |\n",
       "|           7-3-7-108           |              None             |\n",
       "| Differential-bleaching-pat... |  10.18520/cs/v114/i03/679-685 |\n",
       "| Bioerosion-of-the-scleract... |              None             |\n",
       "| DESIGN-AND-IMPLEMENTATION-... | 10.1175/1520-0426(2004)021... |\n",
       "| 2020_Nielsen-etal-Physiolo... |  10.1007/s00338-019-01881-x)  |\n",
       "| Genotypic-inventory-of-Acr... |   10.1007/s00227-003-1024-9   |\n",
       "|    rachel_sandquist_poster    |     10.1186/1750-2187-8-7     |\n",
       "|             245731            |              None             |\n",
       "+-------------------------------+-------------------------------+\n",
       "+-------------------------------+--------------------+\n",
       "|             Title             |        Date        |\n",
       "+-------------------------------+--------------------+\n",
       "| Transforming Growth Factor... | 30 September, 2020 |\n",
       "| Characteristics of Acropor... |  07 February 2020  |\n",
       "| Staghorn coral (Genus-Acro... |        None        |\n",
       "| Differential bleaching pat... |        None        |\n",
       "| Bioerosion of the scleract... |        None        |\n",
       "| DESIGN AND IMPLEMENTATION ... |        None        |\n",
       "| Physiological effects of h... |  13 January 2020   |\n",
       "| Genotypic inventory of Acr... |    January 2020    |\n",
       "|              None             |        None        |\n",
       "|              None             |        None        |\n",
       "+-------------------------------+--------------------+\n",
       "+-------------------------------+-------------------------------+----------+\n",
       "|            Keywords           |            Abstract           | Language |\n",
       "+-------------------------------+-------------------------------+----------+\n",
       "|    Acute lymphoid leukemia    | Acute lymphoblastic leukem... |    en    |\n",
       "| coral transplant,optimum d... | Coral reefs are aquatic ec... |    en    |\n",
       "| Acropora,elphinstone islan... | This study was carried out... |    en    |\n",
       "| Adaptive coral bleaching,G... | The status of reefs in Pal... |    en    |\n",
       "| Phone no Scleractinian Cor... | Bioerosion by boring organ... |    en    |\n",
       "| Instrument,Coral Reef Obse... | Coral Reefs observations n... |    en    |\n",
       "| Thermal tolerance,Coral,En... | Reef-forming corals are un... |    en    |\n",
       "|              None             | The elkhorn coral, Acropor... |    en    |\n",
       "|              None             | Discussion o Thirty-seven ... |    en    |\n",
       "| MTQ: G45893 -4, Penghu, Ch... | Taxonomic Description & Di... |    en    |\n",
       "+-------------------------------+-------------------------------+----------+\n",
       "+-------------------------------+---------------+---------------------+\n",
       "|        Species present        | Genes present | Possible gene terms |\n",
       "+-------------------------------+---------------+---------------------+\n",
       "|               []              |    [TGFB1]    |          []         |\n",
       "|     [Acropora divaricata]     |       []      |          []         |\n",
       "| [Acropora horrida, Acropor... |       []      |          []         |\n",
       "|               []              |       []      |          []         |\n",
       "|       [Acropora humilis]      |       []      |       [scale]       |\n",
       "|               []              |    [Clock]    |          []         |\n",
       "|      [Acropora millepora]     |       []      |          []         |\n",
       "|       [Acropora palmata]      |       []      |          []         |\n",
       "|               []              |  [F protein]  |        [NOD]        |\n",
       "| [Montipora cactus, Montipo... |       []      |          []         |\n",
       "+-------------------------------+---------------+---------------------+\n",
       "[68 rows x 10 columns]\n",
       "Note: Only the head of the SFrame is printed.\n",
       "You can use print_rows(num_rows=m, num_columns=n) to print more rows and columns."
      ]
     },
     "execution_count": 346,
     "metadata": {},
     "output_type": "execute_result"
    }
   ],
   "source": [
    "summary['Species present'] = summary['Abstract'].apply(searchSpecies)\n",
    "summary"
   ]
  },
  {
   "cell_type": "code",
   "execution_count": 347,
   "metadata": {},
   "outputs": [],
   "source": [
    "species_info = turicreate.SFrame({'Species': species_list})\n",
    "\n",
    "# Count the number of papers referencing a given species\n",
    "def totalPapersWithSpecies(species):\n",
    "    return sum([species in species_pres for species_pres in summary['Species present']])\n",
    "  \n",
    "species_info['Total papers'] = species_info['Species'].apply(totalPapersWithSpecies)"
   ]
  },
  {
   "cell_type": "markdown",
   "metadata": {},
   "source": [
    "### Most Commonly Studied Species"
   ]
  },
  {
   "cell_type": "code",
   "execution_count": 348,
   "metadata": {},
   "outputs": [],
   "source": [
    "species_info = species_info.sort('Total papers', ascending=False)"
   ]
  },
  {
   "cell_type": "code",
   "execution_count": 349,
   "metadata": {},
   "outputs": [
    {
     "data": {
      "text/html": [
       "<div style=\"max-height:1000px;max-width:1500px;overflow:auto;\"><table frame=\"box\" rules=\"cols\">\n",
       "    <tr>\n",
       "        <th style=\"padding-left: 1em; padding-right: 1em; text-align: center\">Species</th>\n",
       "        <th style=\"padding-left: 1em; padding-right: 1em; text-align: center\">Total papers</th>\n",
       "    </tr>\n",
       "    <tr>\n",
       "        <td style=\"padding-left: 1em; padding-right: 1em; text-align: center; vertical-align: top\">Acropora palmata</td>\n",
       "        <td style=\"padding-left: 1em; padding-right: 1em; text-align: center; vertical-align: top\">5</td>\n",
       "    </tr>\n",
       "    <tr>\n",
       "        <td style=\"padding-left: 1em; padding-right: 1em; text-align: center; vertical-align: top\">Acropora humilis</td>\n",
       "        <td style=\"padding-left: 1em; padding-right: 1em; text-align: center; vertical-align: top\">4</td>\n",
       "    </tr>\n",
       "    <tr>\n",
       "        <td style=\"padding-left: 1em; padding-right: 1em; text-align: center; vertical-align: top\">Acropora cervicornis</td>\n",
       "        <td style=\"padding-left: 1em; padding-right: 1em; text-align: center; vertical-align: top\">4</td>\n",
       "    </tr>\n",
       "    <tr>\n",
       "        <td style=\"padding-left: 1em; padding-right: 1em; text-align: center; vertical-align: top\">Acropora millepora</td>\n",
       "        <td style=\"padding-left: 1em; padding-right: 1em; text-align: center; vertical-align: top\">3</td>\n",
       "    </tr>\n",
       "    <tr>\n",
       "        <td style=\"padding-left: 1em; padding-right: 1em; text-align: center; vertical-align: top\">Acropora digitifera</td>\n",
       "        <td style=\"padding-left: 1em; padding-right: 1em; text-align: center; vertical-align: top\">3</td>\n",
       "    </tr>\n",
       "    <tr>\n",
       "        <td style=\"padding-left: 1em; padding-right: 1em; text-align: center; vertical-align: top\">Acropora hyacinthus</td>\n",
       "        <td style=\"padding-left: 1em; padding-right: 1em; text-align: center; vertical-align: top\">3</td>\n",
       "    </tr>\n",
       "    <tr>\n",
       "        <td style=\"padding-left: 1em; padding-right: 1em; text-align: center; vertical-align: top\">Acropora muricata</td>\n",
       "        <td style=\"padding-left: 1em; padding-right: 1em; text-align: center; vertical-align: top\">3</td>\n",
       "    </tr>\n",
       "    <tr>\n",
       "        <td style=\"padding-left: 1em; padding-right: 1em; text-align: center; vertical-align: top\">Acropora gemmifera</td>\n",
       "        <td style=\"padding-left: 1em; padding-right: 1em; text-align: center; vertical-align: top\">2</td>\n",
       "    </tr>\n",
       "    <tr>\n",
       "        <td style=\"padding-left: 1em; padding-right: 1em; text-align: center; vertical-align: top\">Acropora cytherea</td>\n",
       "        <td style=\"padding-left: 1em; padding-right: 1em; text-align: center; vertical-align: top\">2</td>\n",
       "    </tr>\n",
       "    <tr>\n",
       "        <td style=\"padding-left: 1em; padding-right: 1em; text-align: center; vertical-align: top\">Acropora yongei</td>\n",
       "        <td style=\"padding-left: 1em; padding-right: 1em; text-align: center; vertical-align: top\">1</td>\n",
       "    </tr>\n",
       "</table>\n",
       "[289 rows x 2 columns]<br/>Note: Only the head of the SFrame is printed.<br/>You can use print_rows(num_rows=m, num_columns=n) to print more rows and columns.\n",
       "</div>"
      ],
      "text/plain": [
       "Columns:\n",
       "\tSpecies\tstr\n",
       "\tTotal papers\tint\n",
       "\n",
       "Rows: 289\n",
       "\n",
       "Data:\n",
       "+----------------------+--------------+\n",
       "|       Species        | Total papers |\n",
       "+----------------------+--------------+\n",
       "|   Acropora palmata   |      5       |\n",
       "|   Acropora humilis   |      4       |\n",
       "| Acropora cervicornis |      4       |\n",
       "|  Acropora millepora  |      3       |\n",
       "| Acropora digitifera  |      3       |\n",
       "| Acropora hyacinthus  |      3       |\n",
       "|  Acropora muricata   |      3       |\n",
       "|  Acropora gemmifera  |      2       |\n",
       "|  Acropora cytherea   |      2       |\n",
       "|   Acropora yongei    |      1       |\n",
       "+----------------------+--------------+\n",
       "[289 rows x 2 columns]\n",
       "Note: Only the head of the SFrame is printed.\n",
       "You can use print_rows(num_rows=m, num_columns=n) to print more rows and columns."
      ]
     },
     "execution_count": 349,
     "metadata": {},
     "output_type": "execute_result"
    }
   ],
   "source": [
    "species_info"
   ]
  },
  {
   "cell_type": "code",
   "execution_count": 350,
   "metadata": {},
   "outputs": [
    {
     "data": {
      "text/plain": [
       "dtype: str\n",
       "Rows: ?\n",
       "['Acropora palmata', 'Acropora humilis', 'Acropora cervicornis', 'Acropora millepora', 'Acropora digitifera', 'Acropora hyacinthus', 'Acropora muricata', 'Acropora gemmifera', 'Acropora cytherea', 'Acropora yongei', 'Montipora hispida', 'Acropora divaricata', 'Acropora horrida', 'Acropora clathrata', 'Acropora pharaonis', 'Acropora branchi', 'Acropora nasuta', 'Acropora tenella', 'Acropora valida', 'Acropora tenuis', 'Acropora aspera', 'Montipora cactus', ... ]"
      ]
     },
     "execution_count": 350,
     "metadata": {},
     "output_type": "execute_result"
    }
   ],
   "source": [
    "sum(species_info['Total papers'] > 0)  # count how many species appear at all in any paper\n",
    "species_info[species_info['Total papers'] > 0]['Species']"
   ]
  },
  {
   "cell_type": "markdown",
   "metadata": {},
   "source": [
    "### Search text for all proteins on Uniprot for Acropora"
   ]
  },
  {
   "cell_type": "code",
   "execution_count": 281,
   "metadata": {},
   "outputs": [],
   "source": [
    "def simplifyProteinName(protein_name):\n",
    "    protein_name = re.sub(' \\(.*\\)', '', protein_name)  # remove anything in parentheses, unlikely to match\n",
    "    protein_name = re.sub('  ', ' ', protein_name)  # get rid of double spaces\n",
    "    return protein_name\n",
    "\n",
    "def removeCommonGeneNames(gene_name):\n",
    "    if len(gene_name) < 4 or re.match('[0-9\\.]+', gene_name):\n",
    "        gene_name = None\n",
    "    return gene_name"
   ]
  },
  {
   "cell_type": "code",
   "execution_count": 282,
   "metadata": {},
   "outputs": [
    {
     "data": {
      "text/html": [
       "<pre>Successfully parsed 3 tokens: \n",
       "\t0: Q58251\n",
       "\t1: reviewed\n",
       "\t2: [Methyl-co ... C 2.1.1.-)</pre>"
      ],
      "text/plain": [
       "Successfully parsed 3 tokens: \n",
       "\t0: Q58251\n",
       "\t1: reviewed\n",
       "\t2: [Methyl-co ... C 2.1.1.-)"
      ]
     },
     "metadata": {},
     "output_type": "display_data"
    },
    {
     "data": {
      "text/html": [
       "<pre>Successfully parsed 3 tokens: \n",
       "\t0: A0A5Q0MUT1\n",
       "\t1: reviewed\n",
       "\t2: [Thr6, Val ... hyllokinin</pre>"
      ],
      "text/plain": [
       "Successfully parsed 3 tokens: \n",
       "\t0: A0A5Q0MUT1\n",
       "\t1: reviewed\n",
       "\t2: [Thr6, Val ... hyllokinin"
      ]
     },
     "metadata": {},
     "output_type": "display_data"
    },
    {
     "data": {
      "text/html": [
       "<pre>Successfully parsed 3 tokens: \n",
       "\t0: L0PJV8\n",
       "\t1: reviewed\n",
       "\t2: [Thr6]-bra ... radykinin]</pre>"
      ],
      "text/plain": [
       "Successfully parsed 3 tokens: \n",
       "\t0: L0PJV8\n",
       "\t1: reviewed\n",
       "\t2: [Thr6]-bra ... radykinin]"
      ]
     },
     "metadata": {},
     "output_type": "display_data"
    },
    {
     "data": {
      "text/html": [
       "<pre>Successfully parsed 3 tokens: \n",
       "\t0: P86629\n",
       "\t1: reviewed\n",
       "\t2: [Thr6]-bradykinin</pre>"
      ],
      "text/plain": [
       "Successfully parsed 3 tokens: \n",
       "\t0: P86629\n",
       "\t1: reviewed\n",
       "\t2: [Thr6]-bradykinin"
      ]
     },
     "metadata": {},
     "output_type": "display_data"
    },
    {
     "data": {
      "text/html": [
       "<pre>Successfully parsed 3 tokens: \n",
       "\t0: P86815\n",
       "\t1: reviewed\n",
       "\t2: [Ala1,Thr6 ... ys,Ala,Val</pre>"
      ],
      "text/plain": [
       "Successfully parsed 3 tokens: \n",
       "\t0: P86815\n",
       "\t1: reviewed\n",
       "\t2: [Ala1,Thr6 ... ys,Ala,Val"
      ]
     },
     "metadata": {},
     "output_type": "display_data"
    },
    {
     "data": {
      "text/html": [
       "<pre>Successfully parsed 3 tokens: \n",
       "\t0: P86812\n",
       "\t1: reviewed\n",
       "\t2: [Ala1,Thr6 ... bradykinin</pre>"
      ],
      "text/plain": [
       "Successfully parsed 3 tokens: \n",
       "\t0: P86812\n",
       "\t1: reviewed\n",
       "\t2: [Ala1,Thr6 ... bradykinin"
      ]
     },
     "metadata": {},
     "output_type": "display_data"
    },
    {
     "data": {
      "text/html": [
       "<pre>Successfully parsed 3 tokens: \n",
       "\t0: P86814\n",
       "\t1: reviewed\n",
       "\t2: [Ala1,Thr6 ... yl-Ser,Lys</pre>"
      ],
      "text/plain": [
       "Successfully parsed 3 tokens: \n",
       "\t0: P86814\n",
       "\t1: reviewed\n",
       "\t2: [Ala1,Thr6 ... yl-Ser,Lys"
      ]
     },
     "metadata": {},
     "output_type": "display_data"
    },
    {
     "data": {
      "text/html": [
       "<pre>Successfully parsed 3 tokens: \n",
       "\t0: P86035\n",
       "\t1: reviewed\n",
       "\t2: [Asp6]-bradykinin</pre>"
      ],
      "text/plain": [
       "Successfully parsed 3 tokens: \n",
       "\t0: P86035\n",
       "\t1: reviewed\n",
       "\t2: [Asp6]-bradykinin"
      ]
     },
     "metadata": {},
     "output_type": "display_data"
    },
    {
     "data": {
      "text/html": [
       "<pre>Successfully parsed 3 tokens: \n",
       "\t0: P86818\n",
       "\t1: reviewed\n",
       "\t2: [Ala1,Thr6 ... hyllokinin</pre>"
      ],
      "text/plain": [
       "Successfully parsed 3 tokens: \n",
       "\t0: P86818\n",
       "\t1: reviewed\n",
       "\t2: [Ala1,Thr6 ... hyllokinin"
      ]
     },
     "metadata": {},
     "output_type": "display_data"
    },
    {
     "data": {
      "text/html": [
       "<pre>Successfully parsed 3 tokens: \n",
       "\t0: P84896\n",
       "\t1: reviewed\n",
       "\t2: [Thr6]-bradykinin</pre>"
      ],
      "text/plain": [
       "Successfully parsed 3 tokens: \n",
       "\t0: P84896\n",
       "\t1: reviewed\n",
       "\t2: [Thr6]-bradykinin"
      ]
     },
     "metadata": {},
     "output_type": "display_data"
    },
    {
     "data": {
      "text/html": [
       "<pre>40 lines failed to parse correctly</pre>"
      ],
      "text/plain": [
       "40 lines failed to parse correctly"
      ]
     },
     "metadata": {},
     "output_type": "display_data"
    },
    {
     "data": {
      "text/html": [
       "<pre>Finished parsing file /home/liz/coral/swissprot_all.tab</pre>"
      ],
      "text/plain": [
       "Finished parsing file /home/liz/coral/swissprot_all.tab"
      ]
     },
     "metadata": {},
     "output_type": "display_data"
    },
    {
     "data": {
      "text/html": [
       "<pre>Parsing completed. Parsed 100 lines in 0.434032 secs.</pre>"
      ],
      "text/plain": [
       "Parsing completed. Parsed 100 lines in 0.434032 secs."
      ]
     },
     "metadata": {},
     "output_type": "display_data"
    },
    {
     "name": "stdout",
     "output_type": "stream",
     "text": [
      "------------------------------------------------------\n",
      "Inferred types from first 100 line(s) of file as \n",
      "column_type_hints=[str,str,str,str]\n",
      "If parsing fails due to incorrect types, you can correct\n",
      "the inferred type list above and pass it to read_csv in\n",
      "the column_type_hints argument\n",
      "------------------------------------------------------\n"
     ]
    },
    {
     "data": {
      "text/html": [
       "<pre>Successfully parsed 3 tokens: \n",
       "\t0: Q58251\n",
       "\t1: reviewed\n",
       "\t2: [Methyl-co ...  2.1.1.-)</pre>"
      ],
      "text/plain": [
       "Successfully parsed 3 tokens: \n",
       "\t0: Q58251\n",
       "\t1: reviewed\n",
       "\t2: [Methyl-co ...  2.1.1.-)"
      ]
     },
     "metadata": {},
     "output_type": "display_data"
    },
    {
     "data": {
      "text/html": [
       "<pre>Successfully parsed 3 tokens: \n",
       "\t0: A0A5Q0MUT1\n",
       "\t1: reviewed\n",
       "\t2: [Thr6, Val ... yllokinin</pre>"
      ],
      "text/plain": [
       "Successfully parsed 3 tokens: \n",
       "\t0: A0A5Q0MUT1\n",
       "\t1: reviewed\n",
       "\t2: [Thr6, Val ... yllokinin"
      ]
     },
     "metadata": {},
     "output_type": "display_data"
    },
    {
     "data": {
      "text/html": [
       "<pre>Successfully parsed 3 tokens: \n",
       "\t0: P86814\n",
       "\t1: reviewed\n",
       "\t2: [Ala1,Thr6 ... l-Ser,Lys</pre>"
      ],
      "text/plain": [
       "Successfully parsed 3 tokens: \n",
       "\t0: P86814\n",
       "\t1: reviewed\n",
       "\t2: [Ala1,Thr6 ... l-Ser,Lys"
      ]
     },
     "metadata": {},
     "output_type": "display_data"
    },
    {
     "data": {
      "text/html": [
       "<pre>Successfully parsed 3 tokens: \n",
       "\t0: P86035\n",
       "\t1: reviewed\n",
       "\t2: [Asp6]-bradykinin</pre>"
      ],
      "text/plain": [
       "Successfully parsed 3 tokens: \n",
       "\t0: P86035\n",
       "\t1: reviewed\n",
       "\t2: [Asp6]-bradykinin"
      ]
     },
     "metadata": {},
     "output_type": "display_data"
    },
    {
     "data": {
      "text/html": [
       "<pre>Successfully parsed 3 tokens: \n",
       "\t0: P86818\n",
       "\t1: reviewed\n",
       "\t2: [Ala1,Thr6 ... yllokinin</pre>"
      ],
      "text/plain": [
       "Successfully parsed 3 tokens: \n",
       "\t0: P86818\n",
       "\t1: reviewed\n",
       "\t2: [Ala1,Thr6 ... yllokinin"
      ]
     },
     "metadata": {},
     "output_type": "display_data"
    },
    {
     "data": {
      "text/html": [
       "<pre>Successfully parsed 3 tokens: \n",
       "\t0: L0PJV8\n",
       "\t1: reviewed\n",
       "\t2: [Thr6]-bra ... adykinin]</pre>"
      ],
      "text/plain": [
       "Successfully parsed 3 tokens: \n",
       "\t0: L0PJV8\n",
       "\t1: reviewed\n",
       "\t2: [Thr6]-bra ... adykinin]"
      ]
     },
     "metadata": {},
     "output_type": "display_data"
    },
    {
     "data": {
      "text/html": [
       "<pre>Successfully parsed 3 tokens: \n",
       "\t0: P86629\n",
       "\t1: reviewed\n",
       "\t2: [Thr6]-bradykinin</pre>"
      ],
      "text/plain": [
       "Successfully parsed 3 tokens: \n",
       "\t0: P86629\n",
       "\t1: reviewed\n",
       "\t2: [Thr6]-bradykinin"
      ]
     },
     "metadata": {},
     "output_type": "display_data"
    },
    {
     "data": {
      "text/html": [
       "<pre>Successfully parsed 3 tokens: \n",
       "\t0: P86815\n",
       "\t1: reviewed\n",
       "\t2: [Ala1,Thr6 ... s,Ala,Val</pre>"
      ],
      "text/plain": [
       "Successfully parsed 3 tokens: \n",
       "\t0: P86815\n",
       "\t1: reviewed\n",
       "\t2: [Ala1,Thr6 ... s,Ala,Val"
      ]
     },
     "metadata": {},
     "output_type": "display_data"
    },
    {
     "data": {
      "text/html": [
       "<pre>Successfully parsed 3 tokens: \n",
       "\t0: Q9X0Z6\n",
       "\t1: reviewed\n",
       "\t2: [FeFe] hyd ...  1.8.-.-)</pre>"
      ],
      "text/plain": [
       "Successfully parsed 3 tokens: \n",
       "\t0: Q9X0Z6\n",
       "\t1: reviewed\n",
       "\t2: [FeFe] hyd ...  1.8.-.-)"
      ]
     },
     "metadata": {},
     "output_type": "display_data"
    },
    {
     "data": {
      "text/html": [
       "<pre>Successfully parsed 3 tokens: \n",
       "\t0: P86812\n",
       "\t1: reviewed\n",
       "\t2: [Ala1,Thr6 ... radykinin</pre>"
      ],
      "text/plain": [
       "Successfully parsed 3 tokens: \n",
       "\t0: P86812\n",
       "\t1: reviewed\n",
       "\t2: [Ala1,Thr6 ... radykinin"
      ]
     },
     "metadata": {},
     "output_type": "display_data"
    },
    {
     "data": {
      "text/html": [
       "<pre>Read 531163 lines. Lines per second: 1.37776e+06</pre>"
      ],
      "text/plain": [
       "Read 531163 lines. Lines per second: 1.37776e+06"
      ]
     },
     "metadata": {},
     "output_type": "display_data"
    },
    {
     "data": {
      "text/html": [
       "<pre>43 lines failed to parse correctly</pre>"
      ],
      "text/plain": [
       "43 lines failed to parse correctly"
      ]
     },
     "metadata": {},
     "output_type": "display_data"
    },
    {
     "data": {
      "text/html": [
       "<pre>Finished parsing file /home/liz/coral/swissprot_all.tab</pre>"
      ],
      "text/plain": [
       "Finished parsing file /home/liz/coral/swissprot_all.tab"
      ]
     },
     "metadata": {},
     "output_type": "display_data"
    },
    {
     "data": {
      "text/html": [
       "<pre>Parsing completed. Parsed 563929 lines in 0.398134 secs.</pre>"
      ],
      "text/plain": [
       "Parsing completed. Parsed 563929 lines in 0.398134 secs."
      ]
     },
     "metadata": {},
     "output_type": "display_data"
    },
    {
     "data": {
      "text/html": [
       "<div style=\"max-height:1000px;max-width:1500px;overflow:auto;\"><table frame=\"box\" rules=\"cols\">\n",
       "    <tr>\n",
       "        <th style=\"padding-left: 1em; padding-right: 1em; text-align: center\">ID</th>\n",
       "        <th style=\"padding-left: 1em; padding-right: 1em; text-align: center\">DOI</th>\n",
       "        <th style=\"padding-left: 1em; padding-right: 1em; text-align: center\">Title</th>\n",
       "        <th style=\"padding-left: 1em; padding-right: 1em; text-align: center\">Date</th>\n",
       "    </tr>\n",
       "    <tr>\n",
       "        <td style=\"padding-left: 1em; padding-right: 1em; text-align: center; vertical-align: top\">Science-Repository-<br>Transforming-Growth- ...</td>\n",
       "        <td style=\"padding-left: 1em; padding-right: 1em; text-align: center; vertical-align: top\">10.31487/j.COR.2020.09.11</td>\n",
       "        <td style=\"padding-left: 1em; padding-right: 1em; text-align: center; vertical-align: top\">Transforming Growth<br>Factor Beta 1: Possible ...</td>\n",
       "        <td style=\"padding-left: 1em; padding-right: 1em; text-align: center; vertical-align: top\">30 September, 2020</td>\n",
       "    </tr>\n",
       "    <tr>\n",
       "        <td style=\"padding-left: 1em; padding-right: 1em; text-align: center; vertical-align: top\">2020.241-249</td>\n",
       "        <td style=\"padding-left: 1em; padding-right: 1em; text-align: center; vertical-align: top\">None</td>\n",
       "        <td style=\"padding-left: 1em; padding-right: 1em; text-align: center; vertical-align: top\">Characteristics of<br>Acropora divaricata and ...</td>\n",
       "        <td style=\"padding-left: 1em; padding-right: 1em; text-align: center; vertical-align: top\">07 February 2020</td>\n",
       "    </tr>\n",
       "    <tr>\n",
       "        <td style=\"padding-left: 1em; padding-right: 1em; text-align: center; vertical-align: top\">7-3-7-108</td>\n",
       "        <td style=\"padding-left: 1em; padding-right: 1em; text-align: center; vertical-align: top\">None</td>\n",
       "        <td style=\"padding-left: 1em; padding-right: 1em; text-align: center; vertical-align: top\">Staghorn coral (Genus-<br>Acropora) of Elphinstone ...</td>\n",
       "        <td style=\"padding-left: 1em; padding-right: 1em; text-align: center; vertical-align: top\">None</td>\n",
       "    </tr>\n",
       "    <tr>\n",
       "        <td style=\"padding-left: 1em; padding-right: 1em; text-align: center; vertical-align: top\">Differential-bleaching-<br>patterns-in-corals-of- ...</td>\n",
       "        <td style=\"padding-left: 1em; padding-right: 1em; text-align: center; vertical-align: top\">10.18520/cs/v114/i03/679-<br>685 ...</td>\n",
       "        <td style=\"padding-left: 1em; padding-right: 1em; text-align: center; vertical-align: top\">Differential bleaching<br>patterns in corals of ...</td>\n",
       "        <td style=\"padding-left: 1em; padding-right: 1em; text-align: center; vertical-align: top\">None</td>\n",
       "    </tr>\n",
       "    <tr>\n",
       "        <td style=\"padding-left: 1em; padding-right: 1em; text-align: center; vertical-align: top\">Bioerosion-of-the-<br>scleractinian-finger- ...</td>\n",
       "        <td style=\"padding-left: 1em; padding-right: 1em; text-align: center; vertical-align: top\">None</td>\n",
       "        <td style=\"padding-left: 1em; padding-right: 1em; text-align: center; vertical-align: top\">Bioerosion of the<br>scleractinian finger ...</td>\n",
       "        <td style=\"padding-left: 1em; padding-right: 1em; text-align: center; vertical-align: top\">None</td>\n",
       "    </tr>\n",
       "    <tr>\n",
       "        <td style=\"padding-left: 1em; padding-right: 1em; text-align: center; vertical-align: top\">DESIGN-AND-<br>IMPLEMENTATION-OF- ...</td>\n",
       "        <td style=\"padding-left: 1em; padding-right: 1em; text-align: center; vertical-align: top\">10.1175/1520-0426(2004)02<br>1&lt;0331:NAMFRD&gt;2.0.CO;2 ...</td>\n",
       "        <td style=\"padding-left: 1em; padding-right: 1em; text-align: center; vertical-align: top\">DESIGN AND IMPLEMENTATION<br>OF ELECTRONIC LOGGING ...</td>\n",
       "        <td style=\"padding-left: 1em; padding-right: 1em; text-align: center; vertical-align: top\">None</td>\n",
       "    </tr>\n",
       "    <tr>\n",
       "        <td style=\"padding-left: 1em; padding-right: 1em; text-align: center; vertical-align: top\">2020_Nielsen-etal-<br>Physiological-effects ...</td>\n",
       "        <td style=\"padding-left: 1em; padding-right: 1em; text-align: center; vertical-align: top\">10.1007/s00338-019-01881-<br>x) ...</td>\n",
       "        <td style=\"padding-left: 1em; padding-right: 1em; text-align: center; vertical-align: top\">Physiological effects of<br>heat and cold exposur ...</td>\n",
       "        <td style=\"padding-left: 1em; padding-right: 1em; text-align: center; vertical-align: top\">13 January 2020</td>\n",
       "    </tr>\n",
       "    <tr>\n",
       "        <td style=\"padding-left: 1em; padding-right: 1em; text-align: center; vertical-align: top\">Genotypic-inventory-of-<br>Acropora-palmata-elkh ...</td>\n",
       "        <td style=\"padding-left: 1em; padding-right: 1em; text-align: center; vertical-align: top\">10.1007/s00227-003-1024-9</td>\n",
       "        <td style=\"padding-left: 1em; padding-right: 1em; text-align: center; vertical-align: top\">Genotypic inventory of<br>Acropora palmata (elk ...</td>\n",
       "        <td style=\"padding-left: 1em; padding-right: 1em; text-align: center; vertical-align: top\">January 2020</td>\n",
       "    </tr>\n",
       "    <tr>\n",
       "        <td style=\"padding-left: 1em; padding-right: 1em; text-align: center; vertical-align: top\">rachel_sandquist_poster</td>\n",
       "        <td style=\"padding-left: 1em; padding-right: 1em; text-align: center; vertical-align: top\">10.1186/1750-2187-8-7</td>\n",
       "        <td style=\"padding-left: 1em; padding-right: 1em; text-align: center; vertical-align: top\">None</td>\n",
       "        <td style=\"padding-left: 1em; padding-right: 1em; text-align: center; vertical-align: top\">None</td>\n",
       "    </tr>\n",
       "    <tr>\n",
       "        <td style=\"padding-left: 1em; padding-right: 1em; text-align: center; vertical-align: top\">245731</td>\n",
       "        <td style=\"padding-left: 1em; padding-right: 1em; text-align: center; vertical-align: top\">None</td>\n",
       "        <td style=\"padding-left: 1em; padding-right: 1em; text-align: center; vertical-align: top\">None</td>\n",
       "        <td style=\"padding-left: 1em; padding-right: 1em; text-align: center; vertical-align: top\">None</td>\n",
       "    </tr>\n",
       "</table>\n",
       "<table frame=\"box\" rules=\"cols\">\n",
       "    <tr>\n",
       "        <th style=\"padding-left: 1em; padding-right: 1em; text-align: center\">Keywords</th>\n",
       "        <th style=\"padding-left: 1em; padding-right: 1em; text-align: center\">Abstract</th>\n",
       "        <th style=\"padding-left: 1em; padding-right: 1em; text-align: center\">Language</th>\n",
       "        <th style=\"padding-left: 1em; padding-right: 1em; text-align: center\">Species present</th>\n",
       "        <th style=\"padding-left: 1em; padding-right: 1em; text-align: center\">Genes present</th>\n",
       "    </tr>\n",
       "    <tr>\n",
       "        <td style=\"padding-left: 1em; padding-right: 1em; text-align: center; vertical-align: top\">Acute lymphoid leukemia</td>\n",
       "        <td style=\"padding-left: 1em; padding-right: 1em; text-align: center; vertical-align: top\">Acute lymphoblastic<br>leukemia (ALL) is a ...</td>\n",
       "        <td style=\"padding-left: 1em; padding-right: 1em; text-align: center; vertical-align: top\">en</td>\n",
       "        <td style=\"padding-left: 1em; padding-right: 1em; text-align: center; vertical-align: top\">{&#x27;abrolhosensis&#x27;: 0,<br>&#x27;abrotanoides&#x27;: 0, ...</td>\n",
       "        <td style=\"padding-left: 1em; padding-right: 1em; text-align: center; vertical-align: top\">[TGFB1]</td>\n",
       "    </tr>\n",
       "    <tr>\n",
       "        <td style=\"padding-left: 1em; padding-right: 1em; text-align: center; vertical-align: top\">coral transplant,optimum<br>depth,algal ...</td>\n",
       "        <td style=\"padding-left: 1em; padding-right: 1em; text-align: center; vertical-align: top\">Coral reefs are aquatic<br>ecosystems with the ...</td>\n",
       "        <td style=\"padding-left: 1em; padding-right: 1em; text-align: center; vertical-align: top\">en</td>\n",
       "        <td style=\"padding-left: 1em; padding-right: 1em; text-align: center; vertical-align: top\">{&#x27;abrolhosensis&#x27;: 0,<br>&#x27;abrotanoides&#x27;: 0, ...</td>\n",
       "        <td style=\"padding-left: 1em; padding-right: 1em; text-align: center; vertical-align: top\">[]</td>\n",
       "    </tr>\n",
       "    <tr>\n",
       "        <td style=\"padding-left: 1em; padding-right: 1em; text-align: center; vertical-align: top\">Acropora,elphinstone<br>island,myeik archipel ...</td>\n",
       "        <td style=\"padding-left: 1em; padding-right: 1em; text-align: center; vertical-align: top\">This study was carried<br>out from Elphinstone ...</td>\n",
       "        <td style=\"padding-left: 1em; padding-right: 1em; text-align: center; vertical-align: top\">en</td>\n",
       "        <td style=\"padding-left: 1em; padding-right: 1em; text-align: center; vertical-align: top\">{&#x27;abrolhosensis&#x27;: 0,<br>&#x27;abrotanoides&#x27;: 0, ...</td>\n",
       "        <td style=\"padding-left: 1em; padding-right: 1em; text-align: center; vertical-align: top\">[]</td>\n",
       "    </tr>\n",
       "    <tr>\n",
       "        <td style=\"padding-left: 1em; padding-right: 1em; text-align: center; vertical-align: top\">Adaptive coral<br>bleaching,Gulf of ...</td>\n",
       "        <td style=\"padding-left: 1em; padding-right: 1em; text-align: center; vertical-align: top\">The status of reefs in<br>Palk Bay and the Gulf of ...</td>\n",
       "        <td style=\"padding-left: 1em; padding-right: 1em; text-align: center; vertical-align: top\">en</td>\n",
       "        <td style=\"padding-left: 1em; padding-right: 1em; text-align: center; vertical-align: top\">{&#x27;abrolhosensis&#x27;: 0,<br>&#x27;abrotanoides&#x27;: 0, ...</td>\n",
       "        <td style=\"padding-left: 1em; padding-right: 1em; text-align: center; vertical-align: top\">[]</td>\n",
       "    </tr>\n",
       "    <tr>\n",
       "        <td style=\"padding-left: 1em; padding-right: 1em; text-align: center; vertical-align: top\">Phone no Scleractinian<br>Coral,Acropora humili ...</td>\n",
       "        <td style=\"padding-left: 1em; padding-right: 1em; text-align: center; vertical-align: top\">Bioerosion by boring<br>organisms is one of the ...</td>\n",
       "        <td style=\"padding-left: 1em; padding-right: 1em; text-align: center; vertical-align: top\">en</td>\n",
       "        <td style=\"padding-left: 1em; padding-right: 1em; text-align: center; vertical-align: top\">{&#x27;abrolhosensis&#x27;: 0,<br>&#x27;abrotanoides&#x27;: 0, ...</td>\n",
       "        <td style=\"padding-left: 1em; padding-right: 1em; text-align: center; vertical-align: top\">[]</td>\n",
       "    </tr>\n",
       "    <tr>\n",
       "        <td style=\"padding-left: 1em; padding-right: 1em; text-align: center; vertical-align: top\">Instrument,Coral Reef<br>Observation,Water ...</td>\n",
       "        <td style=\"padding-left: 1em; padding-right: 1em; text-align: center; vertical-align: top\">Coral Reefs observations<br>need to be conducted to ...</td>\n",
       "        <td style=\"padding-left: 1em; padding-right: 1em; text-align: center; vertical-align: top\">en</td>\n",
       "        <td style=\"padding-left: 1em; padding-right: 1em; text-align: center; vertical-align: top\">{&#x27;abrolhosensis&#x27;: 0,<br>&#x27;abrotanoides&#x27;: 0, ...</td>\n",
       "        <td style=\"padding-left: 1em; padding-right: 1em; text-align: center; vertical-align: top\">[Clock]</td>\n",
       "    </tr>\n",
       "    <tr>\n",
       "        <td style=\"padding-left: 1em; padding-right: 1em; text-align: center; vertical-align: top\">Thermal<br>tolerance,Coral,Energ ...</td>\n",
       "        <td style=\"padding-left: 1em; padding-right: 1em; text-align: center; vertical-align: top\">Reef-forming corals are<br>under threat globally ...</td>\n",
       "        <td style=\"padding-left: 1em; padding-right: 1em; text-align: center; vertical-align: top\">en</td>\n",
       "        <td style=\"padding-left: 1em; padding-right: 1em; text-align: center; vertical-align: top\">{&#x27;abrolhosensis&#x27;: 0,<br>&#x27;abrotanoides&#x27;: 0, ...</td>\n",
       "        <td style=\"padding-left: 1em; padding-right: 1em; text-align: center; vertical-align: top\">[]</td>\n",
       "    </tr>\n",
       "    <tr>\n",
       "        <td style=\"padding-left: 1em; padding-right: 1em; text-align: center; vertical-align: top\">None</td>\n",
       "        <td style=\"padding-left: 1em; padding-right: 1em; text-align: center; vertical-align: top\">The elkhorn coral,<br>Acropora palmata, is the ...</td>\n",
       "        <td style=\"padding-left: 1em; padding-right: 1em; text-align: center; vertical-align: top\">en</td>\n",
       "        <td style=\"padding-left: 1em; padding-right: 1em; text-align: center; vertical-align: top\">{&#x27;abrolhosensis&#x27;: 0,<br>&#x27;abrotanoides&#x27;: 0, ...</td>\n",
       "        <td style=\"padding-left: 1em; padding-right: 1em; text-align: center; vertical-align: top\">[]</td>\n",
       "    </tr>\n",
       "    <tr>\n",
       "        <td style=\"padding-left: 1em; padding-right: 1em; text-align: center; vertical-align: top\">None</td>\n",
       "        <td style=\"padding-left: 1em; padding-right: 1em; text-align: center; vertical-align: top\">Discussion o Thirty-seven<br>potential TRAF homologs ...</td>\n",
       "        <td style=\"padding-left: 1em; padding-right: 1em; text-align: center; vertical-align: top\">en</td>\n",
       "        <td style=\"padding-left: 1em; padding-right: 1em; text-align: center; vertical-align: top\">{&#x27;abrolhosensis&#x27;: 0,<br>&#x27;abrotanoides&#x27;: 0, ...</td>\n",
       "        <td style=\"padding-left: 1em; padding-right: 1em; text-align: center; vertical-align: top\">[F protein]</td>\n",
       "    </tr>\n",
       "    <tr>\n",
       "        <td style=\"padding-left: 1em; padding-right: 1em; text-align: center; vertical-align: top\">MTQ: G45893 -4, Penghu,<br>Chinwan,G45902, Penghu, ...</td>\n",
       "        <td style=\"padding-left: 1em; padding-right: 1em; text-align: center; vertical-align: top\">Taxonomic Description &amp;<br>Diagnosis Colonies are ...</td>\n",
       "        <td style=\"padding-left: 1em; padding-right: 1em; text-align: center; vertical-align: top\">en</td>\n",
       "        <td style=\"padding-left: 1em; padding-right: 1em; text-align: center; vertical-align: top\">{&#x27;abrolhosensis&#x27;: 0,<br>&#x27;abrotanoides&#x27;: 0, ...</td>\n",
       "        <td style=\"padding-left: 1em; padding-right: 1em; text-align: center; vertical-align: top\">[]</td>\n",
       "    </tr>\n",
       "</table>\n",
       "<table frame=\"box\" rules=\"cols\">\n",
       "    <tr>\n",
       "        <th style=\"padding-left: 1em; padding-right: 1em; text-align: center\">Possible gene terms</th>\n",
       "    </tr>\n",
       "    <tr>\n",
       "        <td style=\"padding-left: 1em; padding-right: 1em; text-align: center; vertical-align: top\">[]</td>\n",
       "    </tr>\n",
       "    <tr>\n",
       "        <td style=\"padding-left: 1em; padding-right: 1em; text-align: center; vertical-align: top\">[]</td>\n",
       "    </tr>\n",
       "    <tr>\n",
       "        <td style=\"padding-left: 1em; padding-right: 1em; text-align: center; vertical-align: top\">[]</td>\n",
       "    </tr>\n",
       "    <tr>\n",
       "        <td style=\"padding-left: 1em; padding-right: 1em; text-align: center; vertical-align: top\">[]</td>\n",
       "    </tr>\n",
       "    <tr>\n",
       "        <td style=\"padding-left: 1em; padding-right: 1em; text-align: center; vertical-align: top\">[scale]</td>\n",
       "    </tr>\n",
       "    <tr>\n",
       "        <td style=\"padding-left: 1em; padding-right: 1em; text-align: center; vertical-align: top\">[]</td>\n",
       "    </tr>\n",
       "    <tr>\n",
       "        <td style=\"padding-left: 1em; padding-right: 1em; text-align: center; vertical-align: top\">[]</td>\n",
       "    </tr>\n",
       "    <tr>\n",
       "        <td style=\"padding-left: 1em; padding-right: 1em; text-align: center; vertical-align: top\">[]</td>\n",
       "    </tr>\n",
       "    <tr>\n",
       "        <td style=\"padding-left: 1em; padding-right: 1em; text-align: center; vertical-align: top\">[NOD]</td>\n",
       "    </tr>\n",
       "    <tr>\n",
       "        <td style=\"padding-left: 1em; padding-right: 1em; text-align: center; vertical-align: top\">[]</td>\n",
       "    </tr>\n",
       "</table>\n",
       "[? rows x 10 columns]<br/>Note: Only the head of the SFrame is printed. This SFrame is lazily evaluated.<br/>You can use sf.materialize() to force materialization.\n",
       "</div>"
      ],
      "text/plain": [
       "Columns:\n",
       "\tID\tstr\n",
       "\tDOI\tstr\n",
       "\tTitle\tstr\n",
       "\tDate\tstr\n",
       "\tKeywords\tstr\n",
       "\tAbstract\tstr\n",
       "\tLanguage\tstr\n",
       "\tSpecies present\tdict\n",
       "\tGenes present\tlist\n",
       "\tPossible gene terms\tlist\n",
       "\n",
       "Rows: Unknown\n",
       "\n",
       "Data:\n",
       "+-------------------------------+-------------------------------+\n",
       "|               ID              |              DOI              |\n",
       "+-------------------------------+-------------------------------+\n",
       "| Science-Repository-Transfo... |   10.31487/j.COR.2020.09.11   |\n",
       "|          2020.241-249         |              None             |\n",
       "|           7-3-7-108           |              None             |\n",
       "| Differential-bleaching-pat... |  10.18520/cs/v114/i03/679-685 |\n",
       "| Bioerosion-of-the-scleract... |              None             |\n",
       "| DESIGN-AND-IMPLEMENTATION-... | 10.1175/1520-0426(2004)021... |\n",
       "| 2020_Nielsen-etal-Physiolo... |  10.1007/s00338-019-01881-x)  |\n",
       "| Genotypic-inventory-of-Acr... |   10.1007/s00227-003-1024-9   |\n",
       "|    rachel_sandquist_poster    |     10.1186/1750-2187-8-7     |\n",
       "|             245731            |              None             |\n",
       "+-------------------------------+-------------------------------+\n",
       "+-------------------------------+--------------------+\n",
       "|             Title             |        Date        |\n",
       "+-------------------------------+--------------------+\n",
       "| Transforming Growth Factor... | 30 September, 2020 |\n",
       "| Characteristics of Acropor... |  07 February 2020  |\n",
       "| Staghorn coral (Genus-Acro... |        None        |\n",
       "| Differential bleaching pat... |        None        |\n",
       "| Bioerosion of the scleract... |        None        |\n",
       "| DESIGN AND IMPLEMENTATION ... |        None        |\n",
       "| Physiological effects of h... |  13 January 2020   |\n",
       "| Genotypic inventory of Acr... |    January 2020    |\n",
       "|              None             |        None        |\n",
       "|              None             |        None        |\n",
       "+-------------------------------+--------------------+\n",
       "+-------------------------------+-------------------------------+----------+\n",
       "|            Keywords           |            Abstract           | Language |\n",
       "+-------------------------------+-------------------------------+----------+\n",
       "|    Acute lymphoid leukemia    | Acute lymphoblastic leukem... |    en    |\n",
       "| coral transplant,optimum d... | Coral reefs are aquatic ec... |    en    |\n",
       "| Acropora,elphinstone islan... | This study was carried out... |    en    |\n",
       "| Adaptive coral bleaching,G... | The status of reefs in Pal... |    en    |\n",
       "| Phone no Scleractinian Cor... | Bioerosion by boring organ... |    en    |\n",
       "| Instrument,Coral Reef Obse... | Coral Reefs observations n... |    en    |\n",
       "| Thermal tolerance,Coral,En... | Reef-forming corals are un... |    en    |\n",
       "|              None             | The elkhorn coral, Acropor... |    en    |\n",
       "|              None             | Discussion o Thirty-seven ... |    en    |\n",
       "| MTQ: G45893 -4, Penghu, Ch... | Taxonomic Description & Di... |    en    |\n",
       "+-------------------------------+-------------------------------+----------+\n",
       "+-------------------------------+---------------+---------------------+\n",
       "|        Species present        | Genes present | Possible gene terms |\n",
       "+-------------------------------+---------------+---------------------+\n",
       "| {'abrolhosensis': 0, 'abro... |    [TGFB1]    |          []         |\n",
       "| {'abrolhosensis': 0, 'abro... |       []      |          []         |\n",
       "| {'abrolhosensis': 0, 'abro... |       []      |          []         |\n",
       "| {'abrolhosensis': 0, 'abro... |       []      |          []         |\n",
       "| {'abrolhosensis': 0, 'abro... |       []      |       [scale]       |\n",
       "| {'abrolhosensis': 0, 'abro... |    [Clock]    |          []         |\n",
       "| {'abrolhosensis': 0, 'abro... |       []      |          []         |\n",
       "| {'abrolhosensis': 0, 'abro... |       []      |          []         |\n",
       "| {'abrolhosensis': 0, 'abro... |  [F protein]  |        [NOD]        |\n",
       "| {'abrolhosensis': 0, 'abro... |       []      |          []         |\n",
       "+-------------------------------+---------------+---------------------+\n",
       "[? rows x 10 columns]\n",
       "Note: Only the head of the SFrame is printed. This SFrame is lazily evaluated.\n",
       "You can use sf.materialize() to force materialization."
      ]
     },
     "execution_count": 282,
     "metadata": {},
     "output_type": "execute_result"
    }
   ],
   "source": [
    "swissprot = turicreate.SFrame.read_csv('swissprot_all.tab', '\\t')\n",
    "swissprot = swissprot.rename({'Gene names  (primary )':'Gene names'})\n",
    "swissprot['Protein names'] = swissprot['Protein names'].apply(simplifyProteinName)  # make names more searchable\n",
    "swissprot['Gene names'] = swissprot['Gene names'].apply(removeCommonGeneNames)  # some gene names are common words\n",
    "swissprot = swissprot['Protein names', 'Gene names'].unique()  # remove duplicates\n",
    "swissprot = swissprot.swap_columns('Protein names', 'Gene names')\n",
    "summary = summary[summary['Language'] == 'en']  # only search documents written in english\n",
    "summary"
   ]
  },
  {
   "cell_type": "code",
   "execution_count": 275,
   "metadata": {},
   "outputs": [],
   "source": [
    "def searchGenes(text):\n",
    "    print(\".\", end=\"\")\n",
    "    gene_list = []\n",
    "    for gene in swissprot:\n",
    "        gene_name = gene['Gene names']\n",
    "        protein_name = gene['Protein names']\n",
    "        if protein_name in text:\n",
    "            gene_list.append(protein_name)  # found match\n",
    "        elif gene_name:\n",
    "            gene_name = re.sub(r'\\\\', r'\\\\\\\\', gene_name)  # escape any backslash characters in gene names\n",
    "            reg = re.compile('(?<=[^a-zA-Z])'+gene_name+'(?=[^a-zA-Z])') # don't let the gene name be part of a word\n",
    "            if re.search(reg, text):\n",
    "                gene_list.append(gene_name)\n",
    "    return gene_list\n"
   ]
  },
  {
   "cell_type": "code",
   "execution_count": 283,
   "metadata": {},
   "outputs": [
    {
     "name": "stdout",
     "output_type": "stream",
     "text": [
      "...................................................................."
     ]
    }
   ],
   "source": [
    "# This takes a few minutes\n",
    "summary['Genes present'] = summary['Abstract'].apply(searchGenes)\n",
    "summary.materialize()"
   ]
  },
  {
   "cell_type": "code",
   "execution_count": 284,
   "metadata": {},
   "outputs": [
    {
     "data": {
      "text/html": [
       "<div style=\"max-height:1000px;max-width:1500px;overflow:auto;\"><table frame=\"box\" rules=\"cols\">\n",
       "    <tr>\n",
       "        <th style=\"padding-left: 1em; padding-right: 1em; text-align: center\">ID</th>\n",
       "        <th style=\"padding-left: 1em; padding-right: 1em; text-align: center\">DOI</th>\n",
       "        <th style=\"padding-left: 1em; padding-right: 1em; text-align: center\">Title</th>\n",
       "        <th style=\"padding-left: 1em; padding-right: 1em; text-align: center\">Date</th>\n",
       "    </tr>\n",
       "    <tr>\n",
       "        <td style=\"padding-left: 1em; padding-right: 1em; text-align: center; vertical-align: top\">Science-Repository-<br>Transforming-Growth- ...</td>\n",
       "        <td style=\"padding-left: 1em; padding-right: 1em; text-align: center; vertical-align: top\">10.31487/j.COR.2020.09.11</td>\n",
       "        <td style=\"padding-left: 1em; padding-right: 1em; text-align: center; vertical-align: top\">Transforming Growth<br>Factor Beta 1: Possible ...</td>\n",
       "        <td style=\"padding-left: 1em; padding-right: 1em; text-align: center; vertical-align: top\">30 September, 2020</td>\n",
       "    </tr>\n",
       "    <tr>\n",
       "        <td style=\"padding-left: 1em; padding-right: 1em; text-align: center; vertical-align: top\">2020.241-249</td>\n",
       "        <td style=\"padding-left: 1em; padding-right: 1em; text-align: center; vertical-align: top\">None</td>\n",
       "        <td style=\"padding-left: 1em; padding-right: 1em; text-align: center; vertical-align: top\">Characteristics of<br>Acropora divaricata and ...</td>\n",
       "        <td style=\"padding-left: 1em; padding-right: 1em; text-align: center; vertical-align: top\">07 February 2020</td>\n",
       "    </tr>\n",
       "    <tr>\n",
       "        <td style=\"padding-left: 1em; padding-right: 1em; text-align: center; vertical-align: top\">7-3-7-108</td>\n",
       "        <td style=\"padding-left: 1em; padding-right: 1em; text-align: center; vertical-align: top\">None</td>\n",
       "        <td style=\"padding-left: 1em; padding-right: 1em; text-align: center; vertical-align: top\">Staghorn coral (Genus-<br>Acropora) of Elphinstone ...</td>\n",
       "        <td style=\"padding-left: 1em; padding-right: 1em; text-align: center; vertical-align: top\">None</td>\n",
       "    </tr>\n",
       "    <tr>\n",
       "        <td style=\"padding-left: 1em; padding-right: 1em; text-align: center; vertical-align: top\">Differential-bleaching-<br>patterns-in-corals-of- ...</td>\n",
       "        <td style=\"padding-left: 1em; padding-right: 1em; text-align: center; vertical-align: top\">10.18520/cs/v114/i03/679-<br>685 ...</td>\n",
       "        <td style=\"padding-left: 1em; padding-right: 1em; text-align: center; vertical-align: top\">Differential bleaching<br>patterns in corals of ...</td>\n",
       "        <td style=\"padding-left: 1em; padding-right: 1em; text-align: center; vertical-align: top\">None</td>\n",
       "    </tr>\n",
       "    <tr>\n",
       "        <td style=\"padding-left: 1em; padding-right: 1em; text-align: center; vertical-align: top\">Bioerosion-of-the-<br>scleractinian-finger- ...</td>\n",
       "        <td style=\"padding-left: 1em; padding-right: 1em; text-align: center; vertical-align: top\">None</td>\n",
       "        <td style=\"padding-left: 1em; padding-right: 1em; text-align: center; vertical-align: top\">Bioerosion of the<br>scleractinian finger ...</td>\n",
       "        <td style=\"padding-left: 1em; padding-right: 1em; text-align: center; vertical-align: top\">None</td>\n",
       "    </tr>\n",
       "    <tr>\n",
       "        <td style=\"padding-left: 1em; padding-right: 1em; text-align: center; vertical-align: top\">DESIGN-AND-<br>IMPLEMENTATION-OF- ...</td>\n",
       "        <td style=\"padding-left: 1em; padding-right: 1em; text-align: center; vertical-align: top\">10.1175/1520-0426(2004)02<br>1&lt;0331:NAMFRD&gt;2.0.CO;2 ...</td>\n",
       "        <td style=\"padding-left: 1em; padding-right: 1em; text-align: center; vertical-align: top\">DESIGN AND IMPLEMENTATION<br>OF ELECTRONIC LOGGING ...</td>\n",
       "        <td style=\"padding-left: 1em; padding-right: 1em; text-align: center; vertical-align: top\">None</td>\n",
       "    </tr>\n",
       "    <tr>\n",
       "        <td style=\"padding-left: 1em; padding-right: 1em; text-align: center; vertical-align: top\">2020_Nielsen-etal-<br>Physiological-effects ...</td>\n",
       "        <td style=\"padding-left: 1em; padding-right: 1em; text-align: center; vertical-align: top\">10.1007/s00338-019-01881-<br>x) ...</td>\n",
       "        <td style=\"padding-left: 1em; padding-right: 1em; text-align: center; vertical-align: top\">Physiological effects of<br>heat and cold exposur ...</td>\n",
       "        <td style=\"padding-left: 1em; padding-right: 1em; text-align: center; vertical-align: top\">13 January 2020</td>\n",
       "    </tr>\n",
       "    <tr>\n",
       "        <td style=\"padding-left: 1em; padding-right: 1em; text-align: center; vertical-align: top\">Genotypic-inventory-of-<br>Acropora-palmata-elkh ...</td>\n",
       "        <td style=\"padding-left: 1em; padding-right: 1em; text-align: center; vertical-align: top\">10.1007/s00227-003-1024-9</td>\n",
       "        <td style=\"padding-left: 1em; padding-right: 1em; text-align: center; vertical-align: top\">Genotypic inventory of<br>Acropora palmata (elk ...</td>\n",
       "        <td style=\"padding-left: 1em; padding-right: 1em; text-align: center; vertical-align: top\">January 2020</td>\n",
       "    </tr>\n",
       "    <tr>\n",
       "        <td style=\"padding-left: 1em; padding-right: 1em; text-align: center; vertical-align: top\">rachel_sandquist_poster</td>\n",
       "        <td style=\"padding-left: 1em; padding-right: 1em; text-align: center; vertical-align: top\">10.1186/1750-2187-8-7</td>\n",
       "        <td style=\"padding-left: 1em; padding-right: 1em; text-align: center; vertical-align: top\">None</td>\n",
       "        <td style=\"padding-left: 1em; padding-right: 1em; text-align: center; vertical-align: top\">None</td>\n",
       "    </tr>\n",
       "    <tr>\n",
       "        <td style=\"padding-left: 1em; padding-right: 1em; text-align: center; vertical-align: top\">245731</td>\n",
       "        <td style=\"padding-left: 1em; padding-right: 1em; text-align: center; vertical-align: top\">None</td>\n",
       "        <td style=\"padding-left: 1em; padding-right: 1em; text-align: center; vertical-align: top\">None</td>\n",
       "        <td style=\"padding-left: 1em; padding-right: 1em; text-align: center; vertical-align: top\">None</td>\n",
       "    </tr>\n",
       "</table>\n",
       "<table frame=\"box\" rules=\"cols\">\n",
       "    <tr>\n",
       "        <th style=\"padding-left: 1em; padding-right: 1em; text-align: center\">Keywords</th>\n",
       "        <th style=\"padding-left: 1em; padding-right: 1em; text-align: center\">Abstract</th>\n",
       "        <th style=\"padding-left: 1em; padding-right: 1em; text-align: center\">Language</th>\n",
       "        <th style=\"padding-left: 1em; padding-right: 1em; text-align: center\">Species present</th>\n",
       "        <th style=\"padding-left: 1em; padding-right: 1em; text-align: center\">Genes present</th>\n",
       "    </tr>\n",
       "    <tr>\n",
       "        <td style=\"padding-left: 1em; padding-right: 1em; text-align: center; vertical-align: top\">Acute lymphoid leukemia</td>\n",
       "        <td style=\"padding-left: 1em; padding-right: 1em; text-align: center; vertical-align: top\">Acute lymphoblastic<br>leukemia (ALL) is a ...</td>\n",
       "        <td style=\"padding-left: 1em; padding-right: 1em; text-align: center; vertical-align: top\">en</td>\n",
       "        <td style=\"padding-left: 1em; padding-right: 1em; text-align: center; vertical-align: top\">{&#x27;abrolhosensis&#x27;: 0,<br>&#x27;abrotanoides&#x27;: 0, ...</td>\n",
       "        <td style=\"padding-left: 1em; padding-right: 1em; text-align: center; vertical-align: top\">[TGFB1]</td>\n",
       "    </tr>\n",
       "    <tr>\n",
       "        <td style=\"padding-left: 1em; padding-right: 1em; text-align: center; vertical-align: top\">coral transplant,optimum<br>depth,algal ...</td>\n",
       "        <td style=\"padding-left: 1em; padding-right: 1em; text-align: center; vertical-align: top\">Coral reefs are aquatic<br>ecosystems with the ...</td>\n",
       "        <td style=\"padding-left: 1em; padding-right: 1em; text-align: center; vertical-align: top\">en</td>\n",
       "        <td style=\"padding-left: 1em; padding-right: 1em; text-align: center; vertical-align: top\">{&#x27;abrolhosensis&#x27;: 0,<br>&#x27;abrotanoides&#x27;: 0, ...</td>\n",
       "        <td style=\"padding-left: 1em; padding-right: 1em; text-align: center; vertical-align: top\">[]</td>\n",
       "    </tr>\n",
       "    <tr>\n",
       "        <td style=\"padding-left: 1em; padding-right: 1em; text-align: center; vertical-align: top\">Acropora,elphinstone<br>island,myeik archipel ...</td>\n",
       "        <td style=\"padding-left: 1em; padding-right: 1em; text-align: center; vertical-align: top\">This study was carried<br>out from Elphinstone ...</td>\n",
       "        <td style=\"padding-left: 1em; padding-right: 1em; text-align: center; vertical-align: top\">en</td>\n",
       "        <td style=\"padding-left: 1em; padding-right: 1em; text-align: center; vertical-align: top\">{&#x27;abrolhosensis&#x27;: 0,<br>&#x27;abrotanoides&#x27;: 0, ...</td>\n",
       "        <td style=\"padding-left: 1em; padding-right: 1em; text-align: center; vertical-align: top\">[]</td>\n",
       "    </tr>\n",
       "    <tr>\n",
       "        <td style=\"padding-left: 1em; padding-right: 1em; text-align: center; vertical-align: top\">Adaptive coral<br>bleaching,Gulf of ...</td>\n",
       "        <td style=\"padding-left: 1em; padding-right: 1em; text-align: center; vertical-align: top\">The status of reefs in<br>Palk Bay and the Gulf of ...</td>\n",
       "        <td style=\"padding-left: 1em; padding-right: 1em; text-align: center; vertical-align: top\">en</td>\n",
       "        <td style=\"padding-left: 1em; padding-right: 1em; text-align: center; vertical-align: top\">{&#x27;abrolhosensis&#x27;: 0,<br>&#x27;abrotanoides&#x27;: 0, ...</td>\n",
       "        <td style=\"padding-left: 1em; padding-right: 1em; text-align: center; vertical-align: top\">[]</td>\n",
       "    </tr>\n",
       "    <tr>\n",
       "        <td style=\"padding-left: 1em; padding-right: 1em; text-align: center; vertical-align: top\">Phone no Scleractinian<br>Coral,Acropora humili ...</td>\n",
       "        <td style=\"padding-left: 1em; padding-right: 1em; text-align: center; vertical-align: top\">Bioerosion by boring<br>organisms is one of the ...</td>\n",
       "        <td style=\"padding-left: 1em; padding-right: 1em; text-align: center; vertical-align: top\">en</td>\n",
       "        <td style=\"padding-left: 1em; padding-right: 1em; text-align: center; vertical-align: top\">{&#x27;abrolhosensis&#x27;: 0,<br>&#x27;abrotanoides&#x27;: 0, ...</td>\n",
       "        <td style=\"padding-left: 1em; padding-right: 1em; text-align: center; vertical-align: top\">[]</td>\n",
       "    </tr>\n",
       "    <tr>\n",
       "        <td style=\"padding-left: 1em; padding-right: 1em; text-align: center; vertical-align: top\">Instrument,Coral Reef<br>Observation,Water ...</td>\n",
       "        <td style=\"padding-left: 1em; padding-right: 1em; text-align: center; vertical-align: top\">Coral Reefs observations<br>need to be conducted to ...</td>\n",
       "        <td style=\"padding-left: 1em; padding-right: 1em; text-align: center; vertical-align: top\">en</td>\n",
       "        <td style=\"padding-left: 1em; padding-right: 1em; text-align: center; vertical-align: top\">{&#x27;abrolhosensis&#x27;: 0,<br>&#x27;abrotanoides&#x27;: 0, ...</td>\n",
       "        <td style=\"padding-left: 1em; padding-right: 1em; text-align: center; vertical-align: top\">[Clock]</td>\n",
       "    </tr>\n",
       "    <tr>\n",
       "        <td style=\"padding-left: 1em; padding-right: 1em; text-align: center; vertical-align: top\">Thermal<br>tolerance,Coral,Energ ...</td>\n",
       "        <td style=\"padding-left: 1em; padding-right: 1em; text-align: center; vertical-align: top\">Reef-forming corals are<br>under threat globally ...</td>\n",
       "        <td style=\"padding-left: 1em; padding-right: 1em; text-align: center; vertical-align: top\">en</td>\n",
       "        <td style=\"padding-left: 1em; padding-right: 1em; text-align: center; vertical-align: top\">{&#x27;abrolhosensis&#x27;: 0,<br>&#x27;abrotanoides&#x27;: 0, ...</td>\n",
       "        <td style=\"padding-left: 1em; padding-right: 1em; text-align: center; vertical-align: top\">[]</td>\n",
       "    </tr>\n",
       "    <tr>\n",
       "        <td style=\"padding-left: 1em; padding-right: 1em; text-align: center; vertical-align: top\">None</td>\n",
       "        <td style=\"padding-left: 1em; padding-right: 1em; text-align: center; vertical-align: top\">The elkhorn coral,<br>Acropora palmata, is the ...</td>\n",
       "        <td style=\"padding-left: 1em; padding-right: 1em; text-align: center; vertical-align: top\">en</td>\n",
       "        <td style=\"padding-left: 1em; padding-right: 1em; text-align: center; vertical-align: top\">{&#x27;abrolhosensis&#x27;: 0,<br>&#x27;abrotanoides&#x27;: 0, ...</td>\n",
       "        <td style=\"padding-left: 1em; padding-right: 1em; text-align: center; vertical-align: top\">[]</td>\n",
       "    </tr>\n",
       "    <tr>\n",
       "        <td style=\"padding-left: 1em; padding-right: 1em; text-align: center; vertical-align: top\">None</td>\n",
       "        <td style=\"padding-left: 1em; padding-right: 1em; text-align: center; vertical-align: top\">Discussion o Thirty-seven<br>potential TRAF homologs ...</td>\n",
       "        <td style=\"padding-left: 1em; padding-right: 1em; text-align: center; vertical-align: top\">en</td>\n",
       "        <td style=\"padding-left: 1em; padding-right: 1em; text-align: center; vertical-align: top\">{&#x27;abrolhosensis&#x27;: 0,<br>&#x27;abrotanoides&#x27;: 0, ...</td>\n",
       "        <td style=\"padding-left: 1em; padding-right: 1em; text-align: center; vertical-align: top\">[F protein]</td>\n",
       "    </tr>\n",
       "    <tr>\n",
       "        <td style=\"padding-left: 1em; padding-right: 1em; text-align: center; vertical-align: top\">MTQ: G45893 -4, Penghu,<br>Chinwan,G45902, Penghu, ...</td>\n",
       "        <td style=\"padding-left: 1em; padding-right: 1em; text-align: center; vertical-align: top\">Taxonomic Description &amp;<br>Diagnosis Colonies are ...</td>\n",
       "        <td style=\"padding-left: 1em; padding-right: 1em; text-align: center; vertical-align: top\">en</td>\n",
       "        <td style=\"padding-left: 1em; padding-right: 1em; text-align: center; vertical-align: top\">{&#x27;abrolhosensis&#x27;: 0,<br>&#x27;abrotanoides&#x27;: 0, ...</td>\n",
       "        <td style=\"padding-left: 1em; padding-right: 1em; text-align: center; vertical-align: top\">[]</td>\n",
       "    </tr>\n",
       "</table>\n",
       "<table frame=\"box\" rules=\"cols\">\n",
       "    <tr>\n",
       "        <th style=\"padding-left: 1em; padding-right: 1em; text-align: center\">Possible gene terms</th>\n",
       "    </tr>\n",
       "    <tr>\n",
       "        <td style=\"padding-left: 1em; padding-right: 1em; text-align: center; vertical-align: top\">[]</td>\n",
       "    </tr>\n",
       "    <tr>\n",
       "        <td style=\"padding-left: 1em; padding-right: 1em; text-align: center; vertical-align: top\">[]</td>\n",
       "    </tr>\n",
       "    <tr>\n",
       "        <td style=\"padding-left: 1em; padding-right: 1em; text-align: center; vertical-align: top\">[]</td>\n",
       "    </tr>\n",
       "    <tr>\n",
       "        <td style=\"padding-left: 1em; padding-right: 1em; text-align: center; vertical-align: top\">[]</td>\n",
       "    </tr>\n",
       "    <tr>\n",
       "        <td style=\"padding-left: 1em; padding-right: 1em; text-align: center; vertical-align: top\">[scale]</td>\n",
       "    </tr>\n",
       "    <tr>\n",
       "        <td style=\"padding-left: 1em; padding-right: 1em; text-align: center; vertical-align: top\">[]</td>\n",
       "    </tr>\n",
       "    <tr>\n",
       "        <td style=\"padding-left: 1em; padding-right: 1em; text-align: center; vertical-align: top\">[]</td>\n",
       "    </tr>\n",
       "    <tr>\n",
       "        <td style=\"padding-left: 1em; padding-right: 1em; text-align: center; vertical-align: top\">[]</td>\n",
       "    </tr>\n",
       "    <tr>\n",
       "        <td style=\"padding-left: 1em; padding-right: 1em; text-align: center; vertical-align: top\">[NOD]</td>\n",
       "    </tr>\n",
       "    <tr>\n",
       "        <td style=\"padding-left: 1em; padding-right: 1em; text-align: center; vertical-align: top\">[]</td>\n",
       "    </tr>\n",
       "</table>\n",
       "[68 rows x 10 columns]<br/>Note: Only the head of the SFrame is printed.<br/>You can use print_rows(num_rows=m, num_columns=n) to print more rows and columns.\n",
       "</div>"
      ],
      "text/plain": [
       "Columns:\n",
       "\tID\tstr\n",
       "\tDOI\tstr\n",
       "\tTitle\tstr\n",
       "\tDate\tstr\n",
       "\tKeywords\tstr\n",
       "\tAbstract\tstr\n",
       "\tLanguage\tstr\n",
       "\tSpecies present\tdict\n",
       "\tGenes present\tlist\n",
       "\tPossible gene terms\tlist\n",
       "\n",
       "Rows: 68\n",
       "\n",
       "Data:\n",
       "+-------------------------------+-------------------------------+\n",
       "|               ID              |              DOI              |\n",
       "+-------------------------------+-------------------------------+\n",
       "| Science-Repository-Transfo... |   10.31487/j.COR.2020.09.11   |\n",
       "|          2020.241-249         |              None             |\n",
       "|           7-3-7-108           |              None             |\n",
       "| Differential-bleaching-pat... |  10.18520/cs/v114/i03/679-685 |\n",
       "| Bioerosion-of-the-scleract... |              None             |\n",
       "| DESIGN-AND-IMPLEMENTATION-... | 10.1175/1520-0426(2004)021... |\n",
       "| 2020_Nielsen-etal-Physiolo... |  10.1007/s00338-019-01881-x)  |\n",
       "| Genotypic-inventory-of-Acr... |   10.1007/s00227-003-1024-9   |\n",
       "|    rachel_sandquist_poster    |     10.1186/1750-2187-8-7     |\n",
       "|             245731            |              None             |\n",
       "+-------------------------------+-------------------------------+\n",
       "+-------------------------------+--------------------+\n",
       "|             Title             |        Date        |\n",
       "+-------------------------------+--------------------+\n",
       "| Transforming Growth Factor... | 30 September, 2020 |\n",
       "| Characteristics of Acropor... |  07 February 2020  |\n",
       "| Staghorn coral (Genus-Acro... |        None        |\n",
       "| Differential bleaching pat... |        None        |\n",
       "| Bioerosion of the scleract... |        None        |\n",
       "| DESIGN AND IMPLEMENTATION ... |        None        |\n",
       "| Physiological effects of h... |  13 January 2020   |\n",
       "| Genotypic inventory of Acr... |    January 2020    |\n",
       "|              None             |        None        |\n",
       "|              None             |        None        |\n",
       "+-------------------------------+--------------------+\n",
       "+-------------------------------+-------------------------------+----------+\n",
       "|            Keywords           |            Abstract           | Language |\n",
       "+-------------------------------+-------------------------------+----------+\n",
       "|    Acute lymphoid leukemia    | Acute lymphoblastic leukem... |    en    |\n",
       "| coral transplant,optimum d... | Coral reefs are aquatic ec... |    en    |\n",
       "| Acropora,elphinstone islan... | This study was carried out... |    en    |\n",
       "| Adaptive coral bleaching,G... | The status of reefs in Pal... |    en    |\n",
       "| Phone no Scleractinian Cor... | Bioerosion by boring organ... |    en    |\n",
       "| Instrument,Coral Reef Obse... | Coral Reefs observations n... |    en    |\n",
       "| Thermal tolerance,Coral,En... | Reef-forming corals are un... |    en    |\n",
       "|              None             | The elkhorn coral, Acropor... |    en    |\n",
       "|              None             | Discussion o Thirty-seven ... |    en    |\n",
       "| MTQ: G45893 -4, Penghu, Ch... | Taxonomic Description & Di... |    en    |\n",
       "+-------------------------------+-------------------------------+----------+\n",
       "+-------------------------------+---------------+---------------------+\n",
       "|        Species present        | Genes present | Possible gene terms |\n",
       "+-------------------------------+---------------+---------------------+\n",
       "| {'abrolhosensis': 0, 'abro... |    [TGFB1]    |          []         |\n",
       "| {'abrolhosensis': 0, 'abro... |       []      |          []         |\n",
       "| {'abrolhosensis': 0, 'abro... |       []      |          []         |\n",
       "| {'abrolhosensis': 0, 'abro... |       []      |          []         |\n",
       "| {'abrolhosensis': 0, 'abro... |       []      |       [scale]       |\n",
       "| {'abrolhosensis': 0, 'abro... |    [Clock]    |          []         |\n",
       "| {'abrolhosensis': 0, 'abro... |       []      |          []         |\n",
       "| {'abrolhosensis': 0, 'abro... |       []      |          []         |\n",
       "| {'abrolhosensis': 0, 'abro... |  [F protein]  |        [NOD]        |\n",
       "| {'abrolhosensis': 0, 'abro... |       []      |          []         |\n",
       "+-------------------------------+---------------+---------------------+\n",
       "[68 rows x 10 columns]\n",
       "Note: Only the head of the SFrame is printed.\n",
       "You can use print_rows(num_rows=m, num_columns=n) to print more rows and columns."
      ]
     },
     "execution_count": 284,
     "metadata": {},
     "output_type": "execute_result"
    }
   ],
   "source": [
    "summary"
   ]
  },
  {
   "cell_type": "code",
   "execution_count": 285,
   "metadata": {},
   "outputs": [],
   "source": [
    "def totalPapersWithGene(gene_record):\n",
    "    total_papers = 0\n",
    "    protein_name = gene_record['Protein names']\n",
    "    gene_name = gene_record['Gene names']\n",
    "    for gene_list in summary['Genes present']:\n",
    "        if protein_name in gene_list or gene_name in gene_list:\n",
    "            total_papers += 1\n",
    "    return total_papers"
   ]
  },
  {
   "cell_type": "code",
   "execution_count": 286,
   "metadata": {},
   "outputs": [
    {
     "data": {
      "text/plain": [
       "dtype: str\n",
       "Rows: ?\n",
       "['term', 'DNMT3B', 'DRM1', 'CMT2', 'DNMT', 'Dnmt3c', 'DRM2', 'ZMET5', 'MET3', 'DRM1A', 'spring', 'MET1A', 'MET1B', 'DNMT3A', 'Dnmt1', 'MET4', 'Dnmt3a', 'DNMT1', 'MET2', 'CMT3', 'MET2A', 'dnmA', 'Dnmt3b', 'DMT105', 'DMT1', 'CMT1', 'Clock', 'ACT1', 'EPGN', 'npmA', 'Epgn', 'rmtB', 'TGFB1', 'actA', 'impact', 'dome', None, 'rmtC', 'sand', 'act1', 'NOP2C', 'kamB', None, 'fmrO', 'ACT1; ACT2', 'moon', 'mesh', None, 'ball', 'impact', ... ]"
      ]
     },
     "execution_count": 286,
     "metadata": {},
     "output_type": "execute_result"
    }
   ],
   "source": [
    "gene_info = swissprot\n",
    "gene_info['Total papers'] = gene_info.apply(totalPapersWithGene)\n",
    "gene_info.materialize()\n",
    "gene_info = gene_info.sort('Total papers', ascending=False)\n",
    "totalPapersContainingGenes = sum(len(gene_list) > 0 for gene_list in summary['Genes present'])\n",
    "gene_info[gene_info['Total papers'] > 0]['Gene names']"
   ]
  },
  {
   "cell_type": "markdown",
   "metadata": {},
   "source": [
    "### Find loose matches hiding in a phrase like \"wnt-like genes\" or \"ras-related proteins\""
   ]
  },
  {
   "cell_type": "code",
   "execution_count": 287,
   "metadata": {},
   "outputs": [],
   "source": [
    "def findPossibleGeneTerms(text):\n",
    "    return re.findall('\\w+(?=-related|-like)', text)"
   ]
  },
  {
   "cell_type": "code",
   "execution_count": 288,
   "metadata": {},
   "outputs": [
    {
     "data": {
      "text/html": [
       "<div style=\"max-height:1000px;max-width:1500px;overflow:auto;\"><table frame=\"box\" rules=\"cols\">\n",
       "    <tr>\n",
       "        <th style=\"padding-left: 1em; padding-right: 1em; text-align: center\">ID</th>\n",
       "        <th style=\"padding-left: 1em; padding-right: 1em; text-align: center\">DOI</th>\n",
       "        <th style=\"padding-left: 1em; padding-right: 1em; text-align: center\">Title</th>\n",
       "        <th style=\"padding-left: 1em; padding-right: 1em; text-align: center\">Date</th>\n",
       "        <th style=\"padding-left: 1em; padding-right: 1em; text-align: center\">Keywords</th>\n",
       "    </tr>\n",
       "    <tr>\n",
       "        <td style=\"padding-left: 1em; padding-right: 1em; text-align: center; vertical-align: top\">Bioerosion-of-the-<br>scleractinian-finger- ...</td>\n",
       "        <td style=\"padding-left: 1em; padding-right: 1em; text-align: center; vertical-align: top\">None</td>\n",
       "        <td style=\"padding-left: 1em; padding-right: 1em; text-align: center; vertical-align: top\">Bioerosion of the<br>scleractinian finger ...</td>\n",
       "        <td style=\"padding-left: 1em; padding-right: 1em; text-align: center; vertical-align: top\">None</td>\n",
       "        <td style=\"padding-left: 1em; padding-right: 1em; text-align: center; vertical-align: top\">Phone no Scleractinian<br>Coral,Acropora humili ...</td>\n",
       "    </tr>\n",
       "    <tr>\n",
       "        <td style=\"padding-left: 1em; padding-right: 1em; text-align: center; vertical-align: top\">rachel_sandquist_poster</td>\n",
       "        <td style=\"padding-left: 1em; padding-right: 1em; text-align: center; vertical-align: top\">10.1186/1750-2187-8-7</td>\n",
       "        <td style=\"padding-left: 1em; padding-right: 1em; text-align: center; vertical-align: top\">None</td>\n",
       "        <td style=\"padding-left: 1em; padding-right: 1em; text-align: center; vertical-align: top\">None</td>\n",
       "        <td style=\"padding-left: 1em; padding-right: 1em; text-align: center; vertical-align: top\">None</td>\n",
       "    </tr>\n",
       "    <tr>\n",
       "        <td style=\"padding-left: 1em; padding-right: 1em; text-align: center; vertical-align: top\">Lineages-of-Acropora-<br>staghorn-corals-in-the- ...</td>\n",
       "        <td style=\"padding-left: 1em; padding-right: 1em; text-align: center; vertical-align: top\">10.4435/BSPI.2020.15</td>\n",
       "        <td style=\"padding-left: 1em; padding-right: 1em; text-align: center; vertical-align: top\">Lineages of Acropora<br>(staghorn) corals in the ...</td>\n",
       "        <td style=\"padding-left: 1em; padding-right: 1em; text-align: center; vertical-align: top\">None</td>\n",
       "        <td style=\"padding-left: 1em; padding-right: 1em; text-align: center; vertical-align: top\">Acroporidae,Suwannee<br>Limestone,Arcadia ...</td>\n",
       "    </tr>\n",
       "</table>\n",
       "<table frame=\"box\" rules=\"cols\">\n",
       "    <tr>\n",
       "        <th style=\"padding-left: 1em; padding-right: 1em; text-align: center\">Abstract</th>\n",
       "        <th style=\"padding-left: 1em; padding-right: 1em; text-align: center\">Language</th>\n",
       "        <th style=\"padding-left: 1em; padding-right: 1em; text-align: center\">Species present</th>\n",
       "        <th style=\"padding-left: 1em; padding-right: 1em; text-align: center\">Genes present</th>\n",
       "        <th style=\"padding-left: 1em; padding-right: 1em; text-align: center\">Possible gene terms</th>\n",
       "    </tr>\n",
       "    <tr>\n",
       "        <td style=\"padding-left: 1em; padding-right: 1em; text-align: center; vertical-align: top\">Bioerosion by boring<br>organisms is one of the ...</td>\n",
       "        <td style=\"padding-left: 1em; padding-right: 1em; text-align: center; vertical-align: top\">en</td>\n",
       "        <td style=\"padding-left: 1em; padding-right: 1em; text-align: center; vertical-align: top\">{&#x27;abrolhosensis&#x27;: 0,<br>&#x27;abrotanoides&#x27;: 0, ...</td>\n",
       "        <td style=\"padding-left: 1em; padding-right: 1em; text-align: center; vertical-align: top\">[]</td>\n",
       "        <td style=\"padding-left: 1em; padding-right: 1em; text-align: center; vertical-align: top\">[scale]</td>\n",
       "    </tr>\n",
       "    <tr>\n",
       "        <td style=\"padding-left: 1em; padding-right: 1em; text-align: center; vertical-align: top\">Discussion o Thirty-seven<br>potential TRAF homologs ...</td>\n",
       "        <td style=\"padding-left: 1em; padding-right: 1em; text-align: center; vertical-align: top\">en</td>\n",
       "        <td style=\"padding-left: 1em; padding-right: 1em; text-align: center; vertical-align: top\">{&#x27;abrolhosensis&#x27;: 0,<br>&#x27;abrotanoides&#x27;: 0, ...</td>\n",
       "        <td style=\"padding-left: 1em; padding-right: 1em; text-align: center; vertical-align: top\">[F protein]</td>\n",
       "        <td style=\"padding-left: 1em; padding-right: 1em; text-align: center; vertical-align: top\">[NOD]</td>\n",
       "    </tr>\n",
       "    <tr>\n",
       "        <td style=\"padding-left: 1em; padding-right: 1em; text-align: center; vertical-align: top\">The staghorn coral genus<br>Acropora is the most ...</td>\n",
       "        <td style=\"padding-left: 1em; padding-right: 1em; text-align: center; vertical-align: top\">en</td>\n",
       "        <td style=\"padding-left: 1em; padding-right: 1em; text-align: center; vertical-align: top\">{&#x27;abrolhosensis&#x27;: 0,<br>&#x27;abrotanoides&#x27;: 0, ...</td>\n",
       "        <td style=\"padding-left: 1em; padding-right: 1em; text-align: center; vertical-align: top\">[]</td>\n",
       "        <td style=\"padding-left: 1em; padding-right: 1em; text-align: center; vertical-align: top\">[lip]</td>\n",
       "    </tr>\n",
       "</table>\n",
       "[? rows x 10 columns]<br/>Note: Only the head of the SFrame is printed. This SFrame is lazily evaluated.<br/>You can use sf.materialize() to force materialization.\n",
       "</div>"
      ],
      "text/plain": [
       "Columns:\n",
       "\tID\tstr\n",
       "\tDOI\tstr\n",
       "\tTitle\tstr\n",
       "\tDate\tstr\n",
       "\tKeywords\tstr\n",
       "\tAbstract\tstr\n",
       "\tLanguage\tstr\n",
       "\tSpecies present\tdict\n",
       "\tGenes present\tlist\n",
       "\tPossible gene terms\tlist\n",
       "\n",
       "Rows: Unknown\n",
       "\n",
       "Data:\n",
       "+-------------------------------+-----------------------+\n",
       "|               ID              |          DOI          |\n",
       "+-------------------------------+-----------------------+\n",
       "| Bioerosion-of-the-scleract... |          None         |\n",
       "|    rachel_sandquist_poster    | 10.1186/1750-2187-8-7 |\n",
       "| Lineages-of-Acropora-stagh... |  10.4435/BSPI.2020.15 |\n",
       "+-------------------------------+-----------------------+\n",
       "+-------------------------------+------+-------------------------------+\n",
       "|             Title             | Date |            Keywords           |\n",
       "+-------------------------------+------+-------------------------------+\n",
       "| Bioerosion of the scleract... | None | Phone no Scleractinian Cor... |\n",
       "|              None             | None |              None             |\n",
       "| Lineages of Acropora (stag... | None | Acroporidae,Suwannee Limes... |\n",
       "+-------------------------------+------+-------------------------------+\n",
       "+-------------------------------+----------+-------------------------------+\n",
       "|            Abstract           | Language |        Species present        |\n",
       "+-------------------------------+----------+-------------------------------+\n",
       "| Bioerosion by boring organ... |    en    | {'abrolhosensis': 0, 'abro... |\n",
       "| Discussion o Thirty-seven ... |    en    | {'abrolhosensis': 0, 'abro... |\n",
       "| The staghorn coral genus A... |    en    | {'abrolhosensis': 0, 'abro... |\n",
       "+-------------------------------+----------+-------------------------------+\n",
       "+---------------+---------------------+\n",
       "| Genes present | Possible gene terms |\n",
       "+---------------+---------------------+\n",
       "|       []      |       [scale]       |\n",
       "|  [F protein]  |        [NOD]        |\n",
       "|       []      |        [lip]        |\n",
       "+---------------+---------------------+\n",
       "[? rows x 10 columns]\n",
       "Note: Only the head of the SFrame is printed. This SFrame is lazily evaluated.\n",
       "You can use sf.materialize() to force materialization."
      ]
     },
     "execution_count": 288,
     "metadata": {},
     "output_type": "execute_result"
    }
   ],
   "source": [
    "summary['Possible gene terms'] = summary['Abstract'].apply(findPossibleGeneTerms)\n",
    "summary[summary['Possible gene terms']]\n"
   ]
  },
  {
   "cell_type": "markdown",
   "metadata": {},
   "source": [
    "## TF-IDF K-Means Clustering and Nearest Neighbors\n",
    "### (interesting though maybe not useful)"
   ]
  },
  {
   "cell_type": "code",
   "execution_count": 255,
   "metadata": {},
   "outputs": [],
   "source": [
    "def wordsOnly(text):\n",
    "    text = re.sub(',', ' ', text)\n",
    "    text = re.sub('[^a-zA-Z\\s]', '', text)\n",
    "    return text"
   ]
  },
  {
   "cell_type": "code",
   "execution_count": 256,
   "metadata": {},
   "outputs": [],
   "source": [
    "summary = summary[summary['Language'] == 'en']\n",
    "summary['Abstract_Words_Only'] = summary['Abstract'].apply(wordsOnly)"
   ]
  },
  {
   "cell_type": "code",
   "execution_count": 257,
   "metadata": {},
   "outputs": [
    {
     "data": {
      "text/plain": [
       "dtype: dict\n",
       "Rows: 14\n",
       "[{'only': 1.252762968495368, 'while': 1.252762968495368, 'its': 2.6390573296152584, 'june': 1.540445040947149, 'april': 3.8918202981106265, 'also': 1.9459101490553132, 'extends': 2.6390573296152584, 'same': 1.9459101490553132, 'month': 5.278114659230517, 'begins': 2.6390573296152584, 'extended': 5.278114659230517, 'starts': 5.278114659230517, 'where': 2.6390573296152584, 'southern': 2.6390573296152584, 'than': 3.088858251543474, 'later': 2.6390573296152584, 'months': 4.621335122841447, 'two': 2.505525936990736, 'gonads': 3.8918202981106265, 'annually': 2.6390573296152584, 'early': 3.080890081894298, 'immatures': 2.6390573296152584, 'activities': 2.6390573296152584, 'were': 0.6729444732424258, 'diving': 2.6390573296152584, 'was': 1.3254982568371176, 'verrucosa': 21.112458636922067, 'phosphate': 5.278114659230517, 'least': 2.6390573296152584, 'as': 0.6931471805599453, 'spawners': 2.6390573296152584, 'july': 2.6390573296152584, 'differences': 2.6390573296152584, 'those': 1.9459101490553132, 'shipping': 2.6390573296152584, 'mesenteries': 2.6390573296152584, 'and': 2.3122601974088752, 'reproductive': 1.540445040947149, 'but': 1.252762968495368, 'investigations': 2.6390573296152584, 'there': 1.0296194171811581, 'regions': 1.9459101490553132, 'onshore': 2.6390573296152584, 'acropora': 0.07410797215372183, 'spawning': 7.516577810972208, 'hemperchii': 21.112458636922067, 'three': 1.252762968495368, 'studied': 1.9459101490553132, 'pocillopora': 5.278114659230517, 'reefs': 1.9459101490553132, 'species': 0.3364722366212129, 'given': 1.9459101490553132, 'for': 1.767331009116157, 'by': 3.357694727612536, 'sites': 3.8918202981106265, 'broadcast': 1.9459101490553132, 'in': 0.5187558050760528, 'to': 0.3705398607686092, 'length': 1.540445040947149, 'site': 26.390573296152585, 'which': 2.0592388343623163, 'each': 2.6390573296152584, 'histological': 2.6390573296152584, 'be': 0.5596157879354227, 'eutrophication': 2.6390573296152584, 'however': 1.252762968495368, 'found': 5.278114659230517, 'gametogenesis': 2.6390573296152584, 'impacted': 10.556229318461034, 'one': 2.0592388343623163, 'ones': 2.6390573296152584, 'of': 0.0, 'offshore': 5.278114659230517, 'the': 0.0, 'geographic': 2.6390573296152584, 'oil': 5.278114659230517, 'stalks': 2.6390573296152584, 'are': 0.3364722366212129, 'on': 0.24116205681688804, 'p': 7.516577810972208, 'from': 0.8836655045580785, 'column': 2.6390573296152584, 'an': 1.0296194171811581, 'sea': 1.540445040947149, 'wall': 2.6390573296152584, 'respectively': 1.9459101490553132, 'effected': 2.6390573296152584, 'a': 1.2332054386180669, 'fill': 2.6390573296152584, 'may': 1.252762968495368, 'entire': 2.6390573296152584, 'moreover': 3.080890081894298, 'pronounced': 2.6390573296152584, 'result': 1.540445040947149, 'between': 1.540445040947149, 'different': 1.0296194171811581, 'showed': 1.0296194171811581, 'productivity': 5.278114659230517, 'at': 9.010913347279288, 'is': 1.3862943611198906, 'with': 0.44183275227903923, 'red': 1.540445040947149, 'both': 0.8472978603872037, 'represented': 5.278114659230517, 'conditions': 1.540445040947149, 'mature': 3.080890081894298, 'oocytes': 10.556229318461034, 'additional': 2.6390573296152584, 'immature': 5.8377304471659395, 'highest': 2.6390573296152584, 'timing': 1.9459101490553132, 'declined': 2.6390573296152584, 'empty': 3.8918202981106265, 'increased': 2.6390573296152584, 'arising': 2.6390573296152584, 'shipment': 2.6390573296152584, 'hermaphrodite': 2.6390573296152584, 'season': 2.6390573296152584, 'pollution': 5.278114659230517, 'matures': 5.278114659230517, 'northern': 1.0296194171811581}, {'assemblages': 1.540445040947149, 'speciose': 2.6390573296152584, 'hypothesis': 2.6390573296152584, 'consistent': 2.6390573296152584, 'throughout': 1.540445040947149, 'similar': 1.9459101490553132, 'are': 0.3364722366212129, 'proximity': 2.6390573296152584, 'synchronous': 2.6390573296152584, 'given': 1.9459101490553132, 'probability': 2.6390573296152584, 'detect': 1.9459101490553132, 'multispecies': 2.6390573296152584, 'high': 2.0592388343623163, 'very': 2.6390573296152584, 'with': 0.8836655045580785, 'moon': 1.9459101490553132, 'full': 1.9459101490553132, 'around': 1.9459101490553132, 'or': 0.8472978603872037, 'on': 0.24116205681688804, 'spawn': 2.6390573296152584, 'sampling': 2.6390573296152584, 'indicating': 1.9459101490553132, 'eggs': 1.9459101490553132, 'spawning': 3.758288905486104, 'a': 0.46245203948177505, 'we': 2.0592388343623163, 'colonies': 1.1192315758708453, 'when': 1.9459101490553132, 'will': 1.540445040947149, 'unique': 2.6390573296152584, 'species': 0.3364722366212129, 'regions': 1.9459101490553132, 'all': 1.9459101490553132, 'comparable': 1.9459101490553132, 'to': 0.2223239164611655, 'had': 1.540445040947149, 'almost': 2.6390573296152584, 'it': 1.0296194171811581, 'feature': 2.6390573296152584, 'asynchronous': 2.6390573296152584, 'coral': 0.14821594430744367, 'world': 2.6390573296152584, 'aqaba': 7.917171988845775, 'that': 1.3254982568371176, 'south': 2.6390573296152584, 'been': 1.540445040947149, 'predict': 1.9459101490553132, 'other': 1.540445040947149, 'making': 2.6390573296152584, 'early': 1.540445040947149, 'studies': 0.8472978603872037, 'reported': 2.6390573296152584, 'the': 0.0, 'gulf': 7.917171988845775, 'mature': 1.540445040947149, 'northern': 1.0296194171811581, 'of': 0.0, 'has': 0.6931471805599453, 'be': 0.5596157879354227, 'here': 1.540445040947149, 'percent': 1.540445040947149, 'document': 1.9459101490553132, 'most': 2.6390573296152584, 'reproductive': 3.080890081894298, 'condition': 1.252762968495368, 'synchrony': 3.8918202981106265, 'eilat': 5.278114659230517, 'in': 0.444647832922331, 'seventyeight': 2.6390573296152584, 'corals': 0.44183275227903923, 'acropora': 0.14821594430744367, 'levels': 3.8918202981106265, 'june': 3.080890081894298, 'dahab': 2.6390573296152584, 'km': 2.6390573296152584, 'protocol': 2.6390573296152584, 'previous': 1.540445040947149, 'would': 2.6390573296152584, 'conducted': 2.6390573296152584, 'israel': 2.6390573296152584, 'compared': 2.6390573296152584, 'from': 0.44183275227903923}, {'reproductively': 2.6390573296152584, 'are': 0.3364722366212129, 'species': 0.3364722366212129, 'scleractinian': 1.9459101490553132, 'predict': 1.9459101490553132, 'other': 3.080890081894298, 'many': 3.080890081894298, 'with': 0.44183275227903923, 'typically': 1.540445040947149, 'time': 2.0592388343623163, 'this': 0.3083013596545167, 'broadcast': 1.9459101490553132, 'at': 1.3862943611198906, 'island': 1.9459101490553132, 'therefore': 1.9459101490553132, 'on': 0.24116205681688804, 'condition': 1.252762968495368, 'synchrony': 1.9459101490553132, 'in': 0.444647832922331, 'indicating': 1.9459101490553132, 'reproductive': 1.540445040947149, 'february': 3.8918202981106265, 'the': 0.0, 'mature': 1.540445040947149, 'document': 1.9459101490553132, 'active': 2.6390573296152584, 'determining': 2.6390573296152584, 'confirming': 2.6390573296152584, 'reproduce': 3.8918202981106265, 'corals': 1.3254982568371176, 'will': 1.540445040947149, 'has': 0.6931471805599453, 'genus': 2.6390573296152584, 'implications': 2.6390573296152584, 'year': 1.9459101490553132, 'immature': 1.9459101490553132, 'clear': 1.9459101490553132, 'of': 0.0, 'gametes': 5.278114659230517, 'yemen': 2.6390573296152584, 'we': 2.0592388343623163, 'during': 1.9459101490553132, 'spawning': 3.758288905486104, 'march': 2.6390573296152584, 'socotra': 5.278114659230517, 'and': 0.6166027193090334, 'when': 1.9459101490553132, 'here': 1.540445040947149, 'percent': 1.540445040947149, 'twenty': 2.6390573296152584, 'management': 1.9459101490553132, 'economic': 2.6390573296152584, 'acropora': 0.14821594430744367, 'occur': 1.9459101490553132, 'colonies': 0.5596157879354227, 'anecdotal': 2.6390573296152584, 'n': 2.6390573296152584, 'that': 0.8836655045580785, 'both': 0.8472978603872037, 'previous': 1.540445040947149, 'had': 1.540445040947149, 'contained': 2.6390573296152584, 'reports': 2.6390573296152584, 'coral': 0.07410797215372183}, {'however': 1.252762968495368, 'longer': 2.6390573296152584, 'longest': 2.6390573296152584, 'in': 0.07410797215372183, 'fragment': 2.6390573296152584, 'initial': 2.6390573296152584, 'p': 1.252762968495368, 'cmyear': 7.917171988845775, 'difference': 2.6390573296152584, 'among': 2.6390573296152584, 'there': 1.0296194171811581, 'that': 0.44183275227903923, 'were': 1.0094167098636386, 'better': 2.6390573296152584, 'cm': 6.161780163788596, 'their': 2.0592388343623163, 'tended': 2.6390573296152584, 'showed': 1.0296194171811581, 'colony': 0.8472978603872037, 'observed': 1.0296194171811581, 'this': 0.15415067982725836, 'fragments': 7.917171988845775, 'significant': 1.252762968495368, 'for': 2.209163761395196, 'cmtransplant': 7.917171988845775, 'growth': 4.621335122841447, 'and': 1.0790547587908086, 'was': 1.3254982568371176, 'to': 0.2223239164611655, 'cmfragments': 2.6390573296152584, 'sizes': 5.278114659230517, 'size': 2.0592388343623163, 'minimum': 2.6390573296152584, 'average': 1.9459101490553132, 'of': 0.0, 'transplanted': 2.6390573296152584, 'acropora': 0.07410797215372183, 'grew': 2.6390573296152584, 'formosa': 2.6390573296152584, 'coral': 0.2223239164611655, 'one': 2.0592388343623163, 'donor': 2.6390573296152584, 'months': 1.540445040947149, 'assessed': 1.252762968495368, 'while': 2.505525936990736, 'bigger': 2.6390573296152584, 'three': 1.252762968495368, 'at': 0.6931471805599453, 'the': 0.0, 'cmmonth': 7.917171988845775, 'transplant': 2.6390573296152584, 'different': 1.0296194171811581, 'survivorship': 1.9459101490553132, 'did': 2.6390573296152584, 'end': 1.9459101490553132, 'which': 1.0296194171811581, 'rate': 2.6390573296152584, 'observation': 1.9459101490553132, 'cmtransplanted': 2.6390573296152584, 'support': 2.6390573296152584, 'others': 2.6390573296152584, 'than': 2.0592388343623163, 'survival': 2.6390573296152584, 'respectively': 5.8377304471659395, 'survived': 2.6390573296152584, 'survive': 2.6390573296152584, 'close': 2.6390573296152584, 'cmcoral': 2.6390573296152584, 'smaller': 5.278114659230517, 'transplants': 5.278114659230517, 'time': 1.0296194171811581, 'oneway': 2.6390573296152584, 'anova': 2.6390573296152584}, {'absent': 2.6390573296152584, 'while': 1.252762968495368, 'affected': 1.540445040947149, 'nearly': 1.9459101490553132, 'their': 1.0296194171811581, 'sd': 2.6390573296152584, 'mean': 1.9459101490553132, 'these': 1.252762968495368, 'fishs': 2.6390573296152584, 'byproduct': 2.6390573296152584, 'lesion': 1.9459101490553132, 'or': 0.8472978603872037, 'actively': 2.6390573296152584, 'whether': 1.9459101490553132, 'uncertain': 2.6390573296152584, 'rare': 3.8918202981106265, 'significant': 1.252762968495368, 'clustered': 2.6390573296152584, 'losses': 2.6390573296152584, 'contribute': 1.9459101490553132, 'weeks': 2.6390573296152584, 'rapidly': 1.9459101490553132, 'heal': 2.6390573296152584, 'zooxanthellae': 2.6390573296152584, 'until': 1.9459101490553132, 'pale': 2.6390573296152584, 'becomes': 2.6390573296152584, 'gradually': 2.6390573296152584, 'progresses': 2.6390573296152584, 'damage': 1.9459101490553132, 'apparent': 2.6390573296152584, 'there': 1.0296194171811581, 'within': 1.540445040947149, 'polyps': 1.9459101490553132, 'leaving': 2.6390573296152584, 'coenosteum': 2.6390573296152584, 'consistently': 2.6390573296152584, 'typically': 3.080890081894298, 'to': 0.3705398607686092, 'our': 5.278114659230517, 'as': 1.3862943611198906, 'video': 2.6390573296152584, 'annular': 5.278114659230517, 'sides': 2.6390573296152584, 'with': 0.8836655045580785, 'observed': 1.0296194171811581, 'reef': 1.540445040947149, 'lesions': 11.675460894331879, 'corallivore': 2.6390573296152584, 'has': 0.6931471805599453, 'activity': 2.6390573296152584, 'removal': 2.6390573296152584, 'behavior': 2.6390573296152584, 'unknown': 2.6390573296152584, 'since': 2.6390573296152584, 'honeycomb': 5.278114659230517, 'was': 0.44183275227903923, 'associated': 1.9459101490553132, 'acropora': 0.14821594430744367, 'bites': 2.6390573296152584, 'electronic': 2.6390573296152584, 'acanthostracion': 5.278114659230517, 'recovered': 2.6390573296152584, 'palmata': 4.1184776687246325, 'coral': 0.2223239164611655, 'do': 2.6390573296152584, 'florida': 7.783640596221253, 'threatened': 3.8918202981106265, 'foraging': 5.278114659230517, 'keys': 7.917171988845775, 'molasses': 2.6390573296152584, 'monitoring': 3.8918202981106265, 'sponges': 1.9459101490553132, 'usa': 2.6390573296152584, 'white': 5.278114659230517, 'revealed': 1.9459101490553132, 'affecting': 5.278114659230517, 'the': 0.0, 'of': 0.0, 'rings': 5.278114659230517, 'origin': 2.6390573296152584, 'mechanical': 2.6390573296152584, 'fish': 3.8918202981106265, 'they': 1.0296194171811581, 'caribbean': 1.540445040947149, 'supplemental': 2.6390573296152584, 'corallites': 3.8918202981106265, 'gastropods': 2.6390573296152584, 'on': 1.4469723409013282, 'apparently': 2.6390573296152584, 'colonies': 2.2384631517416906, 'tissue': 9.729550745276565, 'creating': 3.8918202981106265, 'no': 1.9459101490553132, 'intact': 5.278114659230517, 'randall': 2.6390573296152584, 'upper': 2.6390573296152584, 'although': 2.6390573296152584, 'feeding': 2.6390573296152584, 'preys': 2.6390573296152584, 'ostraciidae': 2.6390573296152584, 'polygonius': 10.556229318461034, 'material': 2.6390573296152584, 'alcyonarians': 2.6390573296152584, 'in': 0.5187558050760528, 'less': 1.9459101490553132, 'cowfish': 5.278114659230517, 'tunicates': 2.6390573296152584, 'bruckner': 2.6390573296152584, 'a': 1.3873561184453251, 'small': 1.9459101490553132, 'crustaceans': 1.9459101490553132, 'and': 0.7707533991362918, 'ring': 13.195286648076292, 'at': 2.772588722239781, 'is': 4.852030263919617, 'not': 1.3862943611198906, 'fig': 5.278114659230517, 'distinct': 2.6390573296152584, 'were': 0.3364722366212129, 'known': 5.278114659230517, 'be': 0.5596157879354227, 'than': 1.0296194171811581, 'healing': 2.6390573296152584, 'september': 2.6390573296152584, 'healthy': 2.6390573296152584, 'cole': 2.6390573296152584, 'occurrence': 2.6390573296152584, 'this': 0.3083013596545167, 'live': 1.252762968495368, 'et': 1.540445040947149, 'other': 1.540445040947149, 'al': 1.540445040947149, 'are': 1.6823611831060645, 'first': 1.9459101490553132, 'remaining': 2.6390573296152584, 'knowledge': 2.6390573296152584, 'report': 1.540445040947149, 'center': 2.6390573296152584, 'from': 1.3254982568371176, 'some': 1.9459101490553132, 'approximately': 2.6390573296152584, 'three': 1.252762968495368, 'species': 0.3364722366212129, 'sites': 7.783640596221253, 'by': 0.5596157879354227, 'created': 2.6390573296152584, 'appear': 2.6390573296152584, 'it': 1.0296194171811581, 'cm': 1.540445040947149, 'diameter': 2.6390573296152584, 'appearance': 1.9459101490553132, 'results': 1.252762968495368, 'partial': 1.540445040947149}, {'kinship': 2.6390573296152584, 'how': 2.6390573296152584, 'out': 2.6390573296152584, 'examine': 2.6390573296152584, 'important': 1.9459101490553132, 'studies': 0.8472978603872037, 'further': 2.6390573296152584, 'are': 0.6729444732424258, 'dimensions': 2.6390573296152584, 'however': 1.252762968495368, 'have': 1.252762968495368, 'corals': 0.44183275227903923, 'types': 5.8377304471659395, 'be': 0.5596157879354227, 'it': 1.0296194171811581, 'can': 1.540445040947149, 'p': 1.252762968495368, 'different': 3.088858251543474, 'significantly': 5.278114659230517, 'those': 1.9459101490553132, 'not': 1.3862943611198906, 'were': 0.3364722366212129, 'populations': 1.252762968495368, 'ratio': 2.6390573296152584, 'genetic': 1.9459101490553132, 'ttest': 2.6390573296152584, 'student': 2.6390573296152584, 'that': 1.3254982568371176, 'find': 2.6390573296152584, 'composition': 7.917171988845775, 'between': 1.540445040947149, 'analysis': 1.540445040947149, 'studentt': 2.6390573296152584, 'data': 1.540445040947149, 'months': 1.540445040947149, 'on': 0.24116205681688804, 'for': 0.44183275227903923, 'relationship': 1.9459101490553132, 'was': 4.860160275069432, 'environmental': 1.9459101490553132, 'research': 1.9459101490553132, 'this': 0.15415067982725836, 'much': 1.9459101490553132, 'only': 1.252762968495368, 'microbasic': 5.278114659230517, 'and': 1.8498081579271002, 'coral': 0.07410797215372183, 'florida': 11.675460894331879, 'february': 1.9459101490553132, 'from': 0.8836655045580785, 'while': 2.505525936990736, 'stem': 2.6390573296152584, 'june': 1.540445040947149, 'divaricata': 18.47340130730681, 'mpm': 15.83434397769155, 'two': 2.505525936990736, 'mpmii': 5.278114659230517, 'values': 2.6390573296152584, 'statistical': 2.6390573296152584, 'capsule': 10.556229318461034, 'pmastigophore': 5.278114659230517, 'mean': 1.9459101490553132, 'observation': 1.9459101490553132, 'the': 0.0, 'showed': 3.088858251543474, 'of': 0.0, 'their': 1.0296194171811581, 'typeii': 5.278114659230517, 'ii': 15.83434397769155, 'size': 1.0296194171811581, 'holotricous': 2.6390573296152584, 'five': 2.6390573296152584, 'isorhiza': 2.6390573296152584, 'hi': 7.917171988845775, 'a': 2.0039588377543587, 'has': 0.6931471805599453, 'to': 0.2223239164611655, 'nematocytes': 13.195286648076292, 'factors': 2.6390573296152584, 'dimension': 2.6390573296152584, 'an': 1.0296194171811581, 'average': 5.8377304471659395, 'method': 2.6390573296152584, 'length': 6.161780163788596, 'in': 0.29643188861488734, 'both': 0.8472978603872037, 'concluded': 1.9459101490553132, 'm': 15.83434397769155, 'using': 1.9459101490553132, 'width': 5.278114659230517}, {'association': 2.6390573296152584, 'different': 1.0296194171811581, 'modify': 2.6390573296152584, 'is': 0.6931471805599453, 'only': 1.252762968495368, 'transported': 2.6390573296152584, 'not': 0.6931471805599453, 'purpose': 1.9459101490553132, 'fossil': 2.6390573296152584, 'also': 1.9459101490553132, 'approach': 3.8918202981106265, 'sediment': 2.6390573296152584, 'one': 1.0296194171811581, 'limestone': 2.6390573296152584, 'classified': 2.6390573296152584, 'previous': 1.540445040947149, 'occurrences': 2.6390573296152584, 'rarely': 2.6390573296152584, 'a': 0.3083013596545167, 'another': 5.278114659230517, 'presence': 2.6390573296152584, 'application': 2.6390573296152584, 'paleontology': 2.6390573296152584, 'study': 3.080890081894298, 'species': 0.3364722366212129, 'standard': 10.556229318461034, 'because': 1.0296194171811581, 'taphonomy': 2.6390573296152584, 'exposed': 2.6390573296152584, 'shoreface': 2.6390573296152584, 'capture': 2.6390573296152584, 'research': 1.9459101490553132, 'with': 0.8836655045580785, 'detail': 5.278114659230517, 'conditions': 1.540445040947149, 'wide': 2.6390573296152584, 'condition': 2.505525936990736, 'analysis': 1.540445040947149, 'the': 0.0, 'taxonomy': 5.278114659230517, 'in': 0.444647832922331, 'belt': 10.556229318461034, 'was': 1.767331009116157, 'as': 0.6931471805599453, 'to': 0.2223239164611655, 'distribution': 1.9459101490553132, 'palifera': 2.6390573296152584, 'area': 7.783640596221253, 'quaternary': 2.6390573296152584, 'ujunggenteng': 5.278114659230517, 'humilis': 2.6390573296152584, 'performed': 5.278114659230517, 'facies': 13.195286648076292, 'using': 1.9459101490553132, 'which': 1.0296194171811581, 'selected': 1.9459101490553132, 'observed': 1.0296194171811581, 'classify': 5.278114659230517, 'indicated': 1.9459101490553132, 'acropora': 0.444647832922331, 'many': 1.540445040947149, 'studies': 0.8472978603872037, 'morphological': 2.6390573296152584, 'limestones': 2.6390573296152584, 'corals': 1.3254982568371176, 'coralline': 5.278114659230517, 'variation': 1.9459101490553132, 'contacts': 2.6390573296152584, 'cervicornis': 2.6390573296152584, 'description': 2.6390573296152584, 'and': 0.7707533991362918, 'fossils': 2.6390573296152584, 'required': 2.6390573296152584, 'still': 1.9459101490553132, 'sediments': 2.6390573296152584, 'changes': 1.9459101490553132, 'buildup': 5.278114659230517, 'of': 0.0, 'clearly': 2.6390573296152584, 'this': 0.3083013596545167, 'based': 2.6390573296152584, 'coral': 0.29643188861488734, 'indonesia': 2.6390573296152584, 'moreover': 1.540445040947149, 'high': 1.0296194171811581, 'were': 0.6729444732424258, 'therefore': 1.9459101490553132, 'gemmifera': 1.9459101490553132, 'continuously': 2.6390573296152584, 'on': 0.24116205681688804, 'but': 1.252762968495368, 'organic': 2.6390573296152584, 'four': 2.6390573296152584, 'can': 1.540445040947149, 'into': 5.278114659230517}, {'management': 1.9459101490553132, 'effective': 2.6390573296152584, 'urgently': 2.6390573296152584, 'especially': 2.6390573296152584, 'extensive': 2.6390573296152584, 'more': 1.0296194171811581, 'juvenile': 2.6390573296152584, 'variation': 1.9459101490553132, 'sensitive': 2.6390573296152584, 'not': 0.6931471805599453, 'it': 1.0296194171811581, 'assemblages': 1.540445040947149, 'cannot': 1.9459101490553132, 'demographic': 1.9459101490553132, 'taxonomic': 2.6390573296152584, 'even': 2.6390573296152584, 'live': 1.252762968495368, 'monitoring': 1.9459101490553132, 'because': 1.0296194171811581, 'that': 0.44183275227903923, 'paucity': 2.6390573296152584, 'affected': 1.540445040947149, 'large': 1.9459101490553132, 'mainly': 2.6390573296152584, 'was': 0.8836655045580785, 'which': 1.0296194171811581, 'cover': 3.8918202981106265, 'resolution': 2.6390573296152584, 'by': 1.1192315758708453, 'percent': 3.080890081894298, 'a': 0.7707533991362918, 'have': 1.252762968495368, 'growth': 3.080890081894298, 'acropora': 0.07410797215372183, 'report': 1.540445040947149, 'colonies': 2.2384631517416906, 'speciesspecific': 5.278114659230517, 'structure': 4.621335122841447, 'for': 0.8836655045580785, 'reef': 3.080890081894298, 'fringing': 2.6390573296152584, 'and': 1.3873561184453251, 'mortality': 6.161780163788596, 'reveal': 2.6390573296152584, 'be': 0.5596157879354227, 'hemprichi': 2.6390573296152584, 'stony': 2.6390573296152584, 'we': 2.0592388343623163, 'maximum': 2.6390573296152584, 'without': 2.6390573296152584, 'partial': 1.540445040947149, 'reefs': 3.8918202981106265, 'red': 1.540445040947149, 'larger': 1.9459101490553132, 'on': 0.9646482272675522, 'detect': 1.9459101490553132, 'in': 0.5928637772297747, 'age': 3.8918202981106265, 'may': 2.505525936990736, 'aging': 2.6390573296152584, 'dynamics': 7.917171988845775, 'slope': 1.9459101490553132, 'the': 0.0, 'population': 8.769340779467576, 'of': 0.0, 'conclude': 2.6390573296152584, 'revealed': 1.9459101490553132, 'stable': 2.6390573296152584, 'available': 2.6390573296152584, 'determined': 2.6390573296152584, 'northern': 1.0296194171811581, 'recruitment': 7.783640596221253, 'corals': 0.8836655045580785, 'colony': 1.6945957207744073, 'community': 1.540445040947149, 'coral': 0.5187558050760528, 'at': 0.6931471805599453, 'is': 2.0794415416798357, 'patterns': 3.080890081894298, 'timely': 2.6390573296152584, 'high': 1.0296194171811581, 'to': 0.444647832922331, 'reefbuilding': 1.540445040947149, 'rare': 1.9459101490553132, 'information': 5.278114659230517, 'deficiency': 2.6390573296152584, 'little': 5.278114659230517, 'this': 0.3083013596545167, 'size': 1.0296194171811581, 'adult': 2.6390573296152584, 'fusion': 2.6390573296152584, 'rates': 1.9459101490553132, 'with': 0.44183275227903923, 'turnover': 2.6390573296152584, 'older': 2.6390573296152584, 'yr': 5.278114659230517, 'change': 3.8918202981106265, 'major': 2.6390573296152584, 'less': 1.9459101490553132, 'appeared': 2.6390573296152584, 'juveniles': 5.278114659230517, 'processes': 5.8377304471659395, 'resulted': 2.6390573296152584, 'abundant': 2.6390573296152584, 'than': 1.0296194171811581, 'contributed': 2.6390573296152584, 'rapid': 5.278114659230517, 'expected': 2.6390573296152584, 'variable': 2.6390573296152584, 'reefbuilder': 2.6390573296152584, 'were': 0.3364722366212129, 'sufficient': 1.252762968495368, 'replacement': 2.6390573296152584, 'leading': 2.6390573296152584, 'decline': 1.9459101490553132, 'needed': 1.9459101490553132, 'abundance': 2.505525936990736, 'several': 2.6390573296152584, 'common': 2.6390573296152584, 'including': 1.9459101490553132, 'low': 2.6390573296152584, 'observed': 1.0296194171811581, 'over': 1.9459101490553132, 'space': 2.6390573296152584, 'fission': 2.6390573296152584, 'sea': 1.540445040947149, 'here': 1.540445040947149, 'andor': 2.6390573296152584, 'total': 1.9459101490553132, 'time': 1.0296194171811581, 'yet': 2.6390573296152584, 'longterm': 1.540445040947149, 'analysis': 1.540445040947149, 'failure': 2.6390573296152584}, {'phases': 2.6390573296152584, 'moon': 5.8377304471659395, 'after': 2.6390573296152584, 'nights': 2.6390573296152584, 'occurred': 2.6390573296152584, 'cycle': 2.6390573296152584, 'between': 1.540445040947149, 'relationship': 1.9459101490553132, 'clear': 1.9459101490553132, 'there': 1.0296194171811581, 'may': 1.252762968495368, 'early': 1.540445040947149, 'polyps': 1.9459101490553132, 'april': 3.8918202981106265, 'late': 2.6390573296152584, 'new': 1.540445040947149, 'lunar': 2.6390573296152584, 'time': 2.0592388343623163, 'begin': 2.6390573296152584, 'development': 2.6390573296152584, 'gradual': 2.6390573296152584, 'hours': 2.6390573296152584, 'showed': 1.0296194171811581, 'eggsperm': 2.6390573296152584, 'buoyant': 2.6390573296152584, 'spawner': 2.6390573296152584, 'broadcasting': 2.6390573296152584, 'investigated': 2.6390573296152584, 'indicated': 1.9459101490553132, 'results': 1.252762968495368, 'release': 5.278114659230517, 'watching': 2.6390573296152584, 'colony': 0.8472978603872037, 'sunset': 2.6390573296152584, 'aquaria': 2.6390573296152584, 'spawned': 2.6390573296152584, 'observed': 1.0296194171811581, 'seasons': 2.6390573296152584, 'live': 1.252762968495368, 'consecutive': 2.6390573296152584, 'including': 1.9459101490553132, 'period': 2.6390573296152584, 'until': 1.9459101490553132, 'environmental': 1.9459101490553132, 'sexually': 2.6390573296152584, 'by': 1.678847363806268, 'a': 0.7707533991362918, 'place': 1.9459101490553132, 'of': 0.0, 'the': 0.0, 'achieved': 2.6390573296152584, 'spawning': 8.769340779467576, 'process': 2.6390573296152584, 'types': 1.9459101490553132, 'sperm': 5.278114659230517, 'processes': 1.9459101490553132, 'direct': 1.9459101490553132, 'eggs': 1.9459101490553132, 'male': 2.6390573296152584, 'in': 0.3705398607686092, 'both': 4.236489301936018, 'october': 1.9459101490553132, 'populations': 1.252762968495368, 'empty': 1.9459101490553132, 'timing': 1.9459101490553132, 'they': 1.0296194171811581, 'ph': 2.6390573296152584, 'scleractinian': 1.9459101490553132, 'gonochoric': 2.6390573296152584, 'through': 1.9459101490553132, 'before': 2.6390573296152584, 'gonads': 3.8918202981106265, 'that': 1.3254982568371176, 'their': 4.1184776687246325, 'and': 2.0039588377543587, 'this': 0.15415067982725836, 'conditions': 1.540445040947149, 'proliferate': 2.6390573296152584, 'bundles': 5.278114659230517, 'hurghada': 2.6390573296152584, 'full': 3.8918202981106265, 'were': 0.3364722366212129, 'reefbuilding': 1.540445040947149, 'affected': 1.540445040947149, 'producing': 2.6390573296152584, 'sexual': 3.8918202981106265, 'are': 0.3364722366212129, 'reproduction': 10.556229318461034, 'microscope': 2.6390573296152584, 'study': 7.702225204735745, 'take': 2.6390573296152584, 'all': 1.9459101490553132, 'obtain': 2.6390573296152584, 'year': 1.9459101490553132, 'current': 2.6390573296152584, 'as': 2.0794415416798357, 'typically': 1.540445040947149, 'became': 2.6390573296152584, 'to': 0.2223239164611655, 'patterns': 1.540445040947149, 'hermaphroditic': 5.278114659230517, 'female': 2.6390573296152584, 'coral': 0.29643188861488734, 'reproduce': 1.9459101490553132, 'either': 5.278114659230517, 'separate': 2.6390573296152584, 'for': 0.8836655045580785, 'such': 1.9459101490553132, 'temperature': 5.278114659230517, 'present': 1.9459101490553132, 'egg': 2.6390573296152584, 'photoperiod': 5.278114659230517, 'explore': 2.6390573296152584, 'concluded': 1.9459101490553132, 'maturity': 5.278114659230517, 'maintain': 2.6390573296152584, 'level': 2.6390573296152584, 'status': 1.540445040947149, 'details': 2.6390573296152584, 'taking': 2.6390573296152584, 'field': 1.9459101490553132, 'was': 1.3254982568371176, 'two': 5.011051873981472, 'or': 1.6945957207744073, 'acroporoid': 2.6390573296152584, 'acropora': 0.14821594430744367, 'on': 0.24116205681688804, 'noticed': 2.6390573296152584, 'samples': 2.6390573296152584, 'digitifera': 5.278114659230517, 'which': 1.0296194171811581, 'corals': 0.44183275227903923, 'northern': 1.0296194171811581, 'relation': 2.6390573296152584, 'red': 1.540445040947149, 'sea': 1.540445040947149, 'once': 2.6390573296152584, 'scanning': 2.6390573296152584, 'days': 2.6390573296152584, 'egypt': 2.6390573296152584, 'electron': 2.6390573296152584, 'specific': 2.6390573296152584, 'colonies': 0.5596157879354227, 'inhabiting': 2.6390573296152584, 'microstructure': 2.6390573296152584, 'sem': 2.6390573296152584, 'nearly': 1.9459101490553132, 'gemmifera': 3.8918202981106265, 'used': 1.9459101490553132, 'identify': 2.6390573296152584, 'from': 0.8836655045580785, 'purpose': 1.9459101490553132, 'species': 2.0188334197272773, 'designed': 2.6390573296152584, 'studied': 1.9459101490553132, 'observations': 2.6390573296152584, 'within': 1.540445040947149, 'part': 1.9459101490553132, 'during': 3.8918202981106265}, {'unexpected': 2.6390573296152584, 'this': 0.15415067982725836, 'test': 2.6390573296152584, 'more': 1.0296194171811581, 'alive': 2.6390573296152584, 'matter': 2.6390573296152584, 'no': 1.9459101490553132, 'protection': 2.6390573296152584, 'branching': 1.9459101490553132, 'with': 0.44183275227903923, 'by': 1.678847363806268, 'spatial': 2.6390573296152584, 'community': 1.540445040947149, 'has': 0.6931471805599453, 'recent': 1.540445040947149, 'for': 0.8836655045580785, 'colonies': 1.678847363806268, 'and': 1.8498081579271002, 'macrofaunal': 2.6390573296152584, 'wrasses': 2.6390573296152584, 'settlement': 2.6390573296152584, 'provide': 5.278114659230517, 'habitats': 5.278114659230517, 'benthic': 7.917171988845775, 'vertebrates': 2.6390573296152584, 'correlated': 2.6390573296152584, 'species': 1.0094167098636386, 'three': 1.252762968495368, 'is': 0.6931471805599453, 'at': 0.6931471805599453, 'loss': 1.9459101490553132, 'microhabitats': 2.6390573296152584, 'been': 1.540445040947149, 'zoned': 2.6390573296152584, 'essential': 2.6390573296152584, 'lowest': 2.6390573296152584, 'to': 0.14821594430744367, 'significant': 1.252762968495368, 'reefbuilding': 1.540445040947149, 'was': 0.8836655045580785, 'if': 2.6390573296152584, 'still': 1.9459101490553132, 'shallow': 2.6390573296152584, 'decline': 1.9459101490553132, 'coral': 0.14821594430744367, 'many': 1.540445040947149, 'studies': 0.8472978603872037, 'followed': 1.540445040947149, 'acropora': 0.3705398607686092, 'structural': 2.6390573296152584, 'decades': 2.6390573296152584, 'these': 1.252762968495368, 'replication': 2.6390573296152584, 'of': 0.0, 'the': 0.0, 'or': 1.6945957207744073, 'food': 2.6390573296152584, 'possibly': 5.278114659230517, 'result': 1.540445040947149, 'recorded': 2.6390573296152584, 'main': 2.6390573296152584, 'forming': 2.6390573296152584, 'addressing': 2.6390573296152584, 'ago': 2.6390573296152584, 'a': 0.3083013596545167, 'throughout': 1.540445040947149, 'an': 1.0296194171811581, 'assemblages': 1.540445040947149, 'component': 2.6390573296152584, 'status': 1.540445040947149, 'reef': 3.080890081894298, 'condition': 1.252762968495368, 'complexity': 2.6390573296152584, 'venezuela': 2.6390573296152584, 'in': 0.29643188861488734, 'one': 1.0296194171811581, 'cayo': 2.6390573296152584, 'palmata': 2.0592388343623163, 'heterogeneity': 2.6390573296152584, 'diversity': 1.540445040947149, 'whether': 1.9459101490553132, 'stands': 1.9459101490553132, 'dead': 10.556229318461034, 'not': 0.6931471805599453, 'sombrero': 2.6390573296152584, 'hold': 2.6390573296152584, 'invertebrates': 1.9459101490553132, 'different': 1.0296194171811581, 'are': 0.6729444732424258, 'associated': 1.9459101490553132, 'scarce': 2.6390573296152584, 'their': 1.0296194171811581, 'were': 1.0094167098636386, 'abundance': 2.505525936990736, 'october': 1.9459101490553132, 'two': 1.252762968495368, 'assessed': 1.252762968495368, 'zones': 5.278114659230517, 'visual': 1.9459101490553132, 'they': 1.0296194171811581, 'caribbean': 1.540445040947149, 'fish': 7.783640596221253, 'censuses': 2.6390573296152584, 'living': 5.278114659230517, 'number': 1.9459101490553132, 'individuals': 2.6390573296152584, 'both': 1.6945957207744073, 'necessary': 3.080890081894298, 'live': 2.505525936990736, 'structures': 2.6390573296152584, 'crustaceans': 1.9459101490553132, 'shelter': 5.278114659230517, 'had': 1.540445040947149, 'dominated': 2.6390573296152584, 'communities': 1.9459101490553132, 'damselfishes': 2.6390573296152584, 'peracarid': 2.6390573296152584, 'macrofauna': 2.6390573296152584, 'polychaetes': 2.6390573296152584}, {'laterally': 2.6390573296152584, 'characters': 2.6390573296152584, 'widely': 2.6390573296152584, 'branches': 1.9459101490553132, 'subflattened': 2.6390573296152584, 'within': 1.540445040947149, 'distinguishing': 2.6390573296152584, 'born': 2.6390573296152584, 'corallites': 1.9459101490553132, 'include': 2.6390573296152584, 'islands': 1.9459101490553132, 'northern': 1.0296194171811581, 'loripes': 2.6390573296152584, 'to': 0.14821594430744367, 'from': 0.44183275227903923, 'group': 2.6390573296152584, 'rongelapensis': 2.6390573296152584, 'place': 1.9459101490553132, 'radial': 2.6390573296152584, 'records': 2.6390573296152584, 'be': 0.5596157879354227, 'species': 1.3458889464848516, 'a': 0.15415067982725836, 'coral': 0.07410797215372183, 'pacific': 2.6390573296152584, 'diagnostic': 2.6390573296152584, 'of': 0.0, 'appears': 1.9459101490553132, 'central': 2.6390573296152584, 'the': 0.0, 'separated': 2.6390573296152584, 'new': 3.080890081894298, 'features': 2.6390573296152584, 'acropora': 0.14821594430744367, 'is': 0.6931471805599453, 'marshall': 2.6390573296152584, 'described': 2.6390573296152584, 'present': 1.9459101490553132, 'it': 1.0296194171811581, 'with': 0.44183275227903923, 'this': 0.15415067982725836, 'ocean': 2.6390573296152584, 'endemic': 2.6390573296152584, 'on': 0.24116205681688804, 'republic': 2.6390573296152584}, {'wwwintrescom': 1.9459101490553132, 'versus': 2.6390573296152584, 'share': 2.6390573296152584, 'ecologists': 2.6390573296152584, 'documented': 1.9459101490553132, 'actual': 2.6390573296152584, 'must': 5.278114659230517, 'not': 0.6931471805599453, 'but': 1.252762968495368, 'number': 1.9459101490553132, 'larger': 1.9459101490553132, 'much': 1.9459101490553132, 'consisting': 2.6390573296152584, 'ie': 2.6390573296152584, 'thus': 2.6390573296152584, 'suffer': 2.6390573296152584, 'large': 3.8918202981106265, 'surveys': 2.6390573296152584, 'inferred': 2.6390573296152584, 'be': 2.2384631517416906, 'recruits': 1.9459101490553132, 'sufficient': 1.252762968495368, 'planning': 2.6390573296152584, 'managers': 2.6390573296152584, 'species': 1.3458889464848516, 'by': 1.678847363806268, 'understanding': 2.6390573296152584, 'patterns': 1.540445040947149, 'as': 2.0794415416798357, 'and': 1.5415067982725836, 'similar': 1.9459101490553132, 'diversity': 1.540445040947149, 'size': 3.088858251543474, 'elkhorn': 2.6390573296152584, 'virgin': 2.6390573296152584, 'st': 5.278114659230517, 'actions': 2.6390573296152584, 'around': 3.8918202981106265, 'status': 4.621335122841447, 'contribute': 1.9459101490553132, 'clonal': 3.8918202981106265, 'studies': 0.8472978603872037, 'interresearch': 1.9459101490553132, 'stands': 1.9459101490553132, 'rates': 1.9459101490553132, 'groberdunsmore': 5.8377304471659395, 'small': 3.8918202981106265, 'a': 1.0790547587908086, 'study': 1.540445040947149, 'we': 1.0296194171811581, 'interpretation': 2.6390573296152584, 'assessing': 1.9459101490553132, 'visual': 1.9459101490553132, 'possible': 2.6390573296152584, 'conservation': 2.6390573296152584, 'palmata': 3.088858251543474, 'coral': 0.07410797215372183, 'acropora': 0.2223239164611655, 'provided': 2.6390573296152584, 'partial': 1.540445040947149, 'recent': 1.540445040947149, 'few': 2.6390573296152584, 'this': 0.15415067982725836, 'us': 2.6390573296152584, 'such': 1.9459101490553132, 'for': 1.3254982568371176, 'structure': 4.621335122841447, 'john': 5.278114659230517, 'colonies': 3.9173105155479586, 'fragmenting': 2.6390573296152584, 'comprehensive': 2.6390573296152584, 'on': 0.4823241136337761, 'has': 0.6931471805599453, 'data': 1.540445040947149, 'appearance': 1.9459101490553132, 'distinguished': 2.6390573296152584, 'these': 1.252762968495368, 'corals': 0.44183275227903923, 'recruitment': 3.8918202981106265, 'population': 8.769340779467576, 'of': 0.0, 'the': 0.0, 'al': 4.621335122841447, 'necessary': 1.540445040947149, 'range': 2.6390573296152584, 'et': 4.621335122841447, 'considered': 2.6390573296152584, 'threatened': 1.9459101490553132, 'richness': 2.6390573296152584, 'proactive': 2.6390573296152584, 'recovery': 7.783640596221253, 'are': 0.6729444732424258, 'characterization': 2.6390573296152584, 'throughout': 1.540445040947149, 'however': 1.252762968495368, 'remnant': 2.6390573296152584, 'islands': 1.9459101490553132, 'moreover': 1.540445040947149, 'have': 1.252762968495368, 'need': 2.6390573296152584, 'or': 0.8472978603872037, 'threats': 2.6390573296152584, 'concerns': 2.6390573296152584, 'high': 1.0296194171811581, 'to': 0.3705398607686092, 'regarding': 2.6390573296152584, 'more': 1.0296194171811581, 'survey': 2.6390573296152584, 'genotype': 2.6390573296152584, 'change': 1.9459101490553132, 'from': 1.3254982568371176, 'p': 1.252762968495368, 'results': 1.252762968495368, 'mortality': 1.540445040947149, 'specifically': 2.6390573296152584, 'in': 0.444647832922331, 'inferring': 2.6390573296152584, 'they': 2.0592388343623163, 'terms': 2.6390573296152584, 'higher': 2.6390573296152584, 'can': 1.540445040947149, 'levels': 1.9459101490553132, 'evidenced': 2.6390573296152584, 'sexual': 5.8377304471659395, 'than': 1.0296194171811581, 'cannot': 1.9459101490553132, 'asexual': 7.917171988845775, 'local': 2.6390573296152584, 'abundance': 5.011051873981472, 'needed': 1.9459101490553132, 'populations': 2.505525936990736, 'surveyed': 2.6390573296152584, 'show': 2.6390573296152584, 'base': 1.9459101490553132, 'inference': 2.6390573296152584, 'individual': 2.6390573296152584, 'colony': 1.6945957207744073, 'state': 2.6390573296152584, 'significant': 1.252762968495368, 'signs': 2.6390573296152584, 'achieve': 2.6390573296152584, 'new': 3.080890081894298, 'result': 1.540445040947149, 'because': 1.0296194171811581, 'that': 0.44183275227903923, 'island': 1.9459101490553132, 'understand': 2.6390573296152584, 'genotypic': 2.6390573296152584, 'increase': 1.9459101490553132, 'contribution': 2.6390573296152584, 'same': 1.9459101490553132, 'total': 1.9459101490553132}, {'wwwintrescom': 1.9459101490553132, 'important': 1.9459101490553132, 'indeed': 2.6390573296152584, 'agree': 2.6390573296152584, 'we': 1.0296194171811581, 'quintessential': 2.6390573296152584, 'genetic': 3.8918202981106265, 'measure': 2.6390573296152584, 'invertebrates': 1.9459101490553132, 'assess': 2.6390573296152584, 'not': 0.6931471805599453, 'suggesting': 2.6390573296152584, 'approach': 1.9459101490553132, 'volume': 2.6390573296152584, 'this': 0.3083013596545167, 'is': 1.3862943611198906, 'miller': 2.6390573296152584, 'interresearch': 1.9459101490553132, 'jordandahlgren': 2.6390573296152584, 'field': 1.9459101490553132, 'they': 1.0296194171811581, 'caribbean': 1.540445040947149, 'documented': 1.9459101490553132, 'hughes': 2.6390573296152584, 'quantifying': 2.6390573296152584, 'demographic': 5.8377304471659395, 'toward': 2.6390573296152584, 'by': 1.1192315758708453, 'a': 0.15415067982725836, 'connell': 2.6390573296152584, 'communities': 3.8918202981106265, 'indicates': 2.6390573296152584, 'these': 3.758288905486104, 'grazers': 2.6390573296152584, 'one': 1.0296194171811581, 'trajectory': 5.278114659230517, 'but': 1.252762968495368, 'creating': 1.9459101490553132, 'attributes': 2.6390573296152584, 'necessary': 1.540445040947149, 'et': 7.702225204735745, 'sufficient': 1.252762968495368, 'were': 0.3364722366212129, 'or': 0.8472978603872037, 'been': 1.540445040947149, 'clonal': 1.9459101490553132, 'studies': 1.6945957207744073, 's': 2.6390573296152584, 'distribution': 1.9459101490553132, 'recovery': 11.675460894331879, 'community': 1.540445040947149, 'assessed': 1.252762968495368, 'colony': 0.8472978603872037, 'easy': 2.6390573296152584, 'tanner': 2.6390573296152584, 'historically': 2.6390573296152584, 'cover': 3.8918202981106265, 'more': 1.0296194171811581, 'changes': 3.8918202981106265, 'palmata': 1.0296194171811581, 'class': 2.6390573296152584, 'mortality': 1.540445040947149, 'diversity': 3.080890081894298, 'size': 1.0296194171811581, 'increase': 1.9459101490553132, 'rogers': 2.6390573296152584, 'numerous': 2.6390573296152584, 'd': 1.9459101490553132, 'coral': 0.3705398607686092, 'eg': 5.278114659230517, 'indicators': 5.278114659230517, 'in': 0.444647832922331, 'carpenter': 5.278114659230517, 'groberdunsmore': 1.9459101490553132, 'have': 2.505525936990736, 'used': 3.8918202981106265, 'argue': 2.6390573296152584, 'an': 1.0296194171811581, 'al': 7.702225204735745, 'measures': 10.556229318461034, 'jamaica': 2.6390573296152584, 'as': 1.3862943611198906, 'to': 0.29643188861488734, 'comparable': 1.9459101490553132, 'colgan': 2.6390573296152584, 'potential': 1.9459101490553132, 'followed': 1.540445040947149, 'acropora': 0.07410797215372183, 'for': 0.8836655045580785, 'structure': 1.540445040947149, 'abundance': 1.252762968495368, 'populations': 1.252762968495368, 'from': 0.44183275227903923, 'part': 1.9459101490553132, 'population': 1.252762968495368, 'of': 0.0, 'the': 0.0, 'and': 0.6166027193090334, 'mass': 2.6390573296152584, 'are': 0.6729444732424258, 'assessing': 1.9459101490553132, 'historical': 2.6390573296152584, 'longterm': 3.080890081894298, 'that': 1.3254982568371176, 'critiqued': 2.6390573296152584, 'because': 1.0296194171811581, 'costeffective': 2.6390573296152584, 'sample': 2.6390573296152584, 'densities': 5.278114659230517, 'related': 1.9459101490553132, 'informative': 2.6390573296152584, 'has': 0.6931471805599453, 'data': 1.540445040947149, 'quadrats': 2.6390573296152584, 'example': 2.6390573296152584, 'edmunds': 5.278114659230517, 'loss': 1.9459101490553132, 'corals': 0.44183275227903923, 'some': 1.9459101490553132, 'recruits': 1.9459101490553132, 'recent': 1.540445040947149, 'increases': 2.6390573296152584, 'woodley': 5.278114659230517, 'generally': 2.6390573296152584, 'environment': 2.6390573296152584, 'echinoid': 2.6390573296152584}, {'growth': 1.540445040947149, 'damage': 1.9459101490553132, 'ecology': 2.6390573296152584, 'organisms': 2.6390573296152584, 'modular': 2.6390573296152584, 'regenerdtion': 2.6390573296152584, 'key': 2.6390573296152584, 'survivorship': 1.9459101490553132, 'a': 0.3083013596545167, 'fragmentation': 2.6390573296152584, 'may': 1.252762968495368, 'longterm': 1.540445040947149, 'results': 1.252762968495368, 'slow': 2.6390573296152584, 'lesion': 1.9459101490553132, 'skeletal': 2.6390573296152584, 'regression': 2.6390573296152584, 'there': 1.0296194171811581, 'an': 2.0592388343623163, 'with': 0.44183275227903923, 'durlng': 2.6390573296152584, 'made': 2.6390573296152584, 'in': 0.5187558050760528, 'age': 3.8918202981106265, 'tissue': 1.9459101490553132, 'colonies': 0.5596157879354227, 'for': 0.44183275227903923, 'over': 1.9459101490553132, 'on': 0.24116205681688804, 'regrowth': 2.6390573296152584, 'regenerative': 2.6390573296152584, 'was': 1.3254982568371176, 'scleractinia': 2.6390573296152584, 'selected': 1.9459101490553132, 'at': 0.6931471805599453, 'area': 3.8918202981106265, 'wounds': 2.6390573296152584, 'branches': 3.8918202981106265, 'assessed': 1.252762968495368, 'lamarck': 2.6390573296152584, 'mm': 2.6390573296152584, 'through': 1.9459101490553132, 'dynamlcs': 2.6390573296152584, 'branch': 2.6390573296152584, 'followed': 1.540445040947149, 'acropora': 0.14821594430744367, 'invasion': 2.6390573296152584, 'more': 1.0296194171811581, 'occur': 1.9459101490553132, 'colony': 1.6945957207744073, 'branching': 3.8918202981106265, 'promote': 2.6390573296152584, 'showed': 1.0296194171811581, 'coral': 0.07410797215372183, 'exponential': 5.278114659230517, 'as': 1.3862943611198906, 'high': 1.0296194171811581, 'length': 1.540445040947149, 'to': 0.3705398607686092, 'from': 1.3254982568371176, 'report': 1.540445040947149, 'exposure': 2.6390573296152584, 'tip': 5.278114659230517, 'sufficient': 1.252762968495368, 'were': 0.3364722366212129, 'artificial': 2.6390573296152584, 'd': 5.8377304471659395, 'both': 0.8472978603872037, 'surface': 5.278114659230517, 'slope': 1.9459101490553132, 'measured': 2.6390573296152584, 'proximal': 2.6390573296152584, 'direct': 1.9459101490553132, 'words': 2.6390573296152584, 'senescence': 5.278114659230517, 'potential': 5.8377304471659395, 'regeneration': 18.47340130730681, 'beyond': 2.6390573296152584, 'distances': 2.6390573296152584, 'and': 0.7707533991362918, 'palmata': 1.0296194171811581, 'measurements': 2.6390573296152584, 'cm': 3.080890081894298, 'lesions': 3.8918202981106265, 'decreasing': 2.6390573296152584, 'time': 1.0296194171811581, 'because': 1.0296194171811581, 'that': 0.44183275227903923, 'fitted': 2.6390573296152584, 'base': 1.9459101490553132, 'decrease': 2.6390573296152584, 'sponges': 1.9459101490553132, 'polyp': 2.6390573296152584, 'capability': 5.278114659230517, 'rapidly': 1.9459101490553132, 'potental': 2.6390573296152584, 'end': 1.9459101490553132, 'function': 2.6390573296152584, 'slowly': 2.6390573296152584, 'only': 1.252762968495368, 'distal': 2.6390573296152584, 'this': 0.6166027193090334, 'appears': 1.9459101490553132, 'ensure': 2.6390573296152584, 'randomly': 2.6390573296152584, 'be': 1.1192315758708453, 'related': 1.9459101490553132, 'portions': 2.6390573296152584, 'constitutes': 2.6390573296152584, 'corals': 0.8836655045580785, 'first': 5.8377304471659395, 'are': 0.3364722366212129, 'consequences': 2.6390573296152584, 'the': 0.0, 'of': 0.0, 'population': 1.252762968495368, 'decreases': 2.6390573296152584, 'species': 0.3364722366212129, 'by': 0.5596157879354227, 'excavating': 2.6390573296152584, 'could': 2.6390573296152584, 'will': 1.540445040947149}]"
      ]
     },
     "execution_count": 257,
     "metadata": {},
     "output_type": "execute_result"
    }
   ],
   "source": [
    "summary['tfidf'] = turicreate.text_analytics.tf_idf(summary['Abstract_Words_Only'])\n",
    "summary['tfidf']"
   ]
  },
  {
   "cell_type": "markdown",
   "metadata": {},
   "source": [
    "### Determine which article is the nearest neighbor of a given article (based on TF-IDF in abstract)"
   ]
  },
  {
   "cell_type": "code",
   "execution_count": 258,
   "metadata": {},
   "outputs": [
    {
     "data": {
      "text/html": [
       "<pre>Starting brute force nearest neighbors model training.</pre>"
      ],
      "text/plain": [
       "Starting brute force nearest neighbors model training."
      ]
     },
     "metadata": {},
     "output_type": "display_data"
    },
    {
     "data": {
      "text/html": [
       "<pre>Validating distance components.</pre>"
      ],
      "text/plain": [
       "Validating distance components."
      ]
     },
     "metadata": {},
     "output_type": "display_data"
    },
    {
     "data": {
      "text/html": [
       "<pre>Initializing model data.</pre>"
      ],
      "text/plain": [
       "Initializing model data."
      ]
     },
     "metadata": {},
     "output_type": "display_data"
    },
    {
     "data": {
      "text/html": [
       "<pre>Initializing distances.</pre>"
      ],
      "text/plain": [
       "Initializing distances."
      ]
     },
     "metadata": {},
     "output_type": "display_data"
    },
    {
     "data": {
      "text/html": [
       "<pre>Done.</pre>"
      ],
      "text/plain": [
       "Done."
      ]
     },
     "metadata": {},
     "output_type": "display_data"
    }
   ],
   "source": [
    "nn_model = turicreate.nearest_neighbors.create(summary, features=['tfidf'], label='ID')"
   ]
  },
  {
   "cell_type": "code",
   "execution_count": 259,
   "metadata": {},
   "outputs": [
    {
     "data": {
      "text/html": [
       "<pre>Starting pairwise querying.</pre>"
      ],
      "text/plain": [
       "Starting pairwise querying."
      ]
     },
     "metadata": {},
     "output_type": "display_data"
    },
    {
     "data": {
      "text/html": [
       "<pre>+--------------+---------+-------------+--------------+</pre>"
      ],
      "text/plain": [
       "+--------------+---------+-------------+--------------+"
      ]
     },
     "metadata": {},
     "output_type": "display_data"
    },
    {
     "data": {
      "text/html": [
       "<pre>| Query points | # Pairs | % Complete. | Elapsed Time |</pre>"
      ],
      "text/plain": [
       "| Query points | # Pairs | % Complete. | Elapsed Time |"
      ]
     },
     "metadata": {},
     "output_type": "display_data"
    },
    {
     "data": {
      "text/html": [
       "<pre>+--------------+---------+-------------+--------------+</pre>"
      ],
      "text/plain": [
       "+--------------+---------+-------------+--------------+"
      ]
     },
     "metadata": {},
     "output_type": "display_data"
    },
    {
     "data": {
      "text/html": [
       "<pre>| 0            | 1       | 7.14286     | 225us        |</pre>"
      ],
      "text/plain": [
       "| 0            | 1       | 7.14286     | 225us        |"
      ]
     },
     "metadata": {},
     "output_type": "display_data"
    },
    {
     "data": {
      "text/html": [
       "<pre>| Done         |         | 100         | 409us        |</pre>"
      ],
      "text/plain": [
       "| Done         |         | 100         | 409us        |"
      ]
     },
     "metadata": {},
     "output_type": "display_data"
    },
    {
     "data": {
      "text/html": [
       "<pre>+--------------+---------+-------------+--------------+</pre>"
      ],
      "text/plain": [
       "+--------------+---------+-------------+--------------+"
      ]
     },
     "metadata": {},
     "output_type": "display_data"
    },
    {
     "data": {
      "text/html": [
       "<div style=\"max-height:1000px;max-width:1500px;overflow:auto;\"><table frame=\"box\" rules=\"cols\">\n",
       "    <tr>\n",
       "        <th style=\"padding-left: 1em; padding-right: 1em; text-align: center\">query_label</th>\n",
       "        <th style=\"padding-left: 1em; padding-right: 1em; text-align: center\">reference_label</th>\n",
       "        <th style=\"padding-left: 1em; padding-right: 1em; text-align: center\">distance</th>\n",
       "        <th style=\"padding-left: 1em; padding-right: 1em; text-align: center\">rank</th>\n",
       "    </tr>\n",
       "    <tr>\n",
       "        <td style=\"padding-left: 1em; padding-right: 1em; text-align: center; vertical-align: top\">0</td>\n",
       "        <td style=\"padding-left: 1em; padding-right: 1em; text-align: center; vertical-align: top\">10.21275_v5i1.nov152970</td>\n",
       "        <td style=\"padding-left: 1em; padding-right: 1em; text-align: center; vertical-align: top\">0.0</td>\n",
       "        <td style=\"padding-left: 1em; padding-right: 1em; text-align: center; vertical-align: top\">1</td>\n",
       "    </tr>\n",
       "    <tr>\n",
       "        <td style=\"padding-left: 1em; padding-right: 1em; text-align: center; vertical-align: top\">0</td>\n",
       "        <td style=\"padding-left: 1em; padding-right: 1em; text-align: center; vertical-align: top\">10.35800_jplt.7.3.2019.24<br>499 ...</td>\n",
       "        <td style=\"padding-left: 1em; padding-right: 1em; text-align: center; vertical-align: top\">0.8532608695652174</td>\n",
       "        <td style=\"padding-left: 1em; padding-right: 1em; text-align: center; vertical-align: top\">2</td>\n",
       "    </tr>\n",
       "    <tr>\n",
       "        <td style=\"padding-left: 1em; padding-right: 1em; text-align: center; vertical-align: top\">0</td>\n",
       "        <td style=\"padding-left: 1em; padding-right: 1em; text-align: center; vertical-align: top\">10.21608_ejabf.2020.97537</td>\n",
       "        <td style=\"padding-left: 1em; padding-right: 1em; text-align: center; vertical-align: top\">0.8617886178861789</td>\n",
       "        <td style=\"padding-left: 1em; padding-right: 1em; text-align: center; vertical-align: top\">3</td>\n",
       "    </tr>\n",
       "    <tr>\n",
       "        <td style=\"padding-left: 1em; padding-right: 1em; text-align: center; vertical-align: top\">0</td>\n",
       "        <td style=\"padding-left: 1em; padding-right: 1em; text-align: center; vertical-align: top\">10.35800_jasm.0.0.2014.72<br>95 ...</td>\n",
       "        <td style=\"padding-left: 1em; padding-right: 1em; text-align: center; vertical-align: top\">0.872093023255814</td>\n",
       "        <td style=\"padding-left: 1em; padding-right: 1em; text-align: center; vertical-align: top\">4</td>\n",
       "    </tr>\n",
       "    <tr>\n",
       "        <td style=\"padding-left: 1em; padding-right: 1em; text-align: center; vertical-align: top\">0</td>\n",
       "        <td style=\"padding-left: 1em; padding-right: 1em; text-align: center; vertical-align: top\">10.3354_meps121203</td>\n",
       "        <td style=\"padding-left: 1em; padding-right: 1em; text-align: center; vertical-align: top\">0.880184331797235</td>\n",
       "        <td style=\"padding-left: 1em; padding-right: 1em; text-align: center; vertical-align: top\">5</td>\n",
       "    </tr>\n",
       "</table>\n",
       "[5 rows x 4 columns]<br/>\n",
       "</div>"
      ],
      "text/plain": [
       "Columns:\n",
       "\tquery_label\tint\n",
       "\treference_label\tstr\n",
       "\tdistance\tfloat\n",
       "\trank\tint\n",
       "\n",
       "Rows: 5\n",
       "\n",
       "Data:\n",
       "+-------------+------------------------------+--------------------+------+\n",
       "| query_label |       reference_label        |      distance      | rank |\n",
       "+-------------+------------------------------+--------------------+------+\n",
       "|      0      |   10.21275_v5i1.nov152970    |        0.0         |  1   |\n",
       "|      0      | 10.35800_jplt.7.3.2019.24499 | 0.8532608695652174 |  2   |\n",
       "|      0      |  10.21608_ejabf.2020.97537   | 0.8617886178861789 |  3   |\n",
       "|      0      | 10.35800_jasm.0.0.2014.7295  | 0.872093023255814  |  4   |\n",
       "|      0      |      10.3354_meps121203      | 0.880184331797235  |  5   |\n",
       "+-------------+------------------------------+--------------------+------+\n",
       "[5 rows x 4 columns]"
      ]
     },
     "execution_count": 259,
     "metadata": {},
     "output_type": "execute_result"
    }
   ],
   "source": [
    "nn_model.query(summary[0:1])"
   ]
  },
  {
   "cell_type": "markdown",
   "metadata": {},
   "source": [
    "### Plot SSE to determine reasonable number of clusters"
   ]
  },
  {
   "cell_type": "code",
   "execution_count": 260,
   "metadata": {},
   "outputs": [
    {
     "data": {
      "text/html": [
       "<pre>Batch size is larger than the input dataset. Switching to an exact Kmeans method.</pre>"
      ],
      "text/plain": [
       "Batch size is larger than the input dataset. Switching to an exact Kmeans method."
      ]
     },
     "metadata": {},
     "output_type": "display_data"
    },
    {
     "data": {
      "text/html": [
       "<pre>Choosing initial cluster centers with Kmeans++.</pre>"
      ],
      "text/plain": [
       "Choosing initial cluster centers with Kmeans++."
      ]
     },
     "metadata": {},
     "output_type": "display_data"
    },
    {
     "data": {
      "text/html": [
       "<pre>+---------------+-----------+</pre>"
      ],
      "text/plain": [
       "+---------------+-----------+"
      ]
     },
     "metadata": {},
     "output_type": "display_data"
    },
    {
     "data": {
      "text/html": [
       "<pre>| Center number | Row index |</pre>"
      ],
      "text/plain": [
       "| Center number | Row index |"
      ]
     },
     "metadata": {},
     "output_type": "display_data"
    },
    {
     "data": {
      "text/html": [
       "<pre>+---------------+-----------+</pre>"
      ],
      "text/plain": [
       "+---------------+-----------+"
      ]
     },
     "metadata": {},
     "output_type": "display_data"
    },
    {
     "data": {
      "text/html": [
       "<pre>| 0             | 0         |</pre>"
      ],
      "text/plain": [
       "| 0             | 0         |"
      ]
     },
     "metadata": {},
     "output_type": "display_data"
    },
    {
     "data": {
      "text/html": [
       "<pre>+---------------+-----------+</pre>"
      ],
      "text/plain": [
       "+---------------+-----------+"
      ]
     },
     "metadata": {},
     "output_type": "display_data"
    },
    {
     "data": {
      "text/html": [
       "<pre>Starting kmeans model training.</pre>"
      ],
      "text/plain": [
       "Starting kmeans model training."
      ]
     },
     "metadata": {},
     "output_type": "display_data"
    },
    {
     "data": {
      "text/html": [
       "<pre>Assigning points to initial cluster centers.</pre>"
      ],
      "text/plain": [
       "Assigning points to initial cluster centers."
      ]
     },
     "metadata": {},
     "output_type": "display_data"
    },
    {
     "data": {
      "text/html": [
       "<pre>+-----------+-------------------------------+</pre>"
      ],
      "text/plain": [
       "+-----------+-------------------------------+"
      ]
     },
     "metadata": {},
     "output_type": "display_data"
    },
    {
     "data": {
      "text/html": [
       "<pre>| Iteration | Number of changed assignments |</pre>"
      ],
      "text/plain": [
       "| Iteration | Number of changed assignments |"
      ]
     },
     "metadata": {},
     "output_type": "display_data"
    },
    {
     "data": {
      "text/html": [
       "<pre>+-----------+-------------------------------+</pre>"
      ],
      "text/plain": [
       "+-----------+-------------------------------+"
      ]
     },
     "metadata": {},
     "output_type": "display_data"
    },
    {
     "data": {
      "text/html": [
       "<pre>| 1         | 0                             |</pre>"
      ],
      "text/plain": [
       "| 1         | 0                             |"
      ]
     },
     "metadata": {},
     "output_type": "display_data"
    },
    {
     "data": {
      "text/html": [
       "<pre>+-----------+-------------------------------+</pre>"
      ],
      "text/plain": [
       "+-----------+-------------------------------+"
      ]
     },
     "metadata": {},
     "output_type": "display_data"
    },
    {
     "data": {
      "text/html": [
       "<pre>Batch size is larger than the input dataset. Switching to an exact Kmeans method.</pre>"
      ],
      "text/plain": [
       "Batch size is larger than the input dataset. Switching to an exact Kmeans method."
      ]
     },
     "metadata": {},
     "output_type": "display_data"
    },
    {
     "data": {
      "text/html": [
       "<pre>Choosing initial cluster centers with Kmeans++.</pre>"
      ],
      "text/plain": [
       "Choosing initial cluster centers with Kmeans++."
      ]
     },
     "metadata": {},
     "output_type": "display_data"
    },
    {
     "data": {
      "text/html": [
       "<pre>+---------------+-----------+</pre>"
      ],
      "text/plain": [
       "+---------------+-----------+"
      ]
     },
     "metadata": {},
     "output_type": "display_data"
    },
    {
     "data": {
      "text/html": [
       "<pre>| Center number | Row index |</pre>"
      ],
      "text/plain": [
       "| Center number | Row index |"
      ]
     },
     "metadata": {},
     "output_type": "display_data"
    },
    {
     "data": {
      "text/html": [
       "<pre>+---------------+-----------+</pre>"
      ],
      "text/plain": [
       "+---------------+-----------+"
      ]
     },
     "metadata": {},
     "output_type": "display_data"
    },
    {
     "data": {
      "text/html": [
       "<pre>| 0             | 8         |</pre>"
      ],
      "text/plain": [
       "| 0             | 8         |"
      ]
     },
     "metadata": {},
     "output_type": "display_data"
    },
    {
     "data": {
      "text/html": [
       "<pre>| 1             | 1         |</pre>"
      ],
      "text/plain": [
       "| 1             | 1         |"
      ]
     },
     "metadata": {},
     "output_type": "display_data"
    },
    {
     "data": {
      "text/html": [
       "<pre>+---------------+-----------+</pre>"
      ],
      "text/plain": [
       "+---------------+-----------+"
      ]
     },
     "metadata": {},
     "output_type": "display_data"
    },
    {
     "data": {
      "text/html": [
       "<pre>Starting kmeans model training.</pre>"
      ],
      "text/plain": [
       "Starting kmeans model training."
      ]
     },
     "metadata": {},
     "output_type": "display_data"
    },
    {
     "data": {
      "text/html": [
       "<pre>Assigning points to initial cluster centers.</pre>"
      ],
      "text/plain": [
       "Assigning points to initial cluster centers."
      ]
     },
     "metadata": {},
     "output_type": "display_data"
    },
    {
     "data": {
      "text/html": [
       "<pre>+-----------+-------------------------------+</pre>"
      ],
      "text/plain": [
       "+-----------+-------------------------------+"
      ]
     },
     "metadata": {},
     "output_type": "display_data"
    },
    {
     "data": {
      "text/html": [
       "<pre>| Iteration | Number of changed assignments |</pre>"
      ],
      "text/plain": [
       "| Iteration | Number of changed assignments |"
      ]
     },
     "metadata": {},
     "output_type": "display_data"
    },
    {
     "data": {
      "text/html": [
       "<pre>+-----------+-------------------------------+</pre>"
      ],
      "text/plain": [
       "+-----------+-------------------------------+"
      ]
     },
     "metadata": {},
     "output_type": "display_data"
    },
    {
     "data": {
      "text/html": [
       "<pre>| 1         | 0                             |</pre>"
      ],
      "text/plain": [
       "| 1         | 0                             |"
      ]
     },
     "metadata": {},
     "output_type": "display_data"
    },
    {
     "data": {
      "text/html": [
       "<pre>+-----------+-------------------------------+</pre>"
      ],
      "text/plain": [
       "+-----------+-------------------------------+"
      ]
     },
     "metadata": {},
     "output_type": "display_data"
    },
    {
     "data": {
      "text/html": [
       "<pre>Batch size is larger than the input dataset. Switching to an exact Kmeans method.</pre>"
      ],
      "text/plain": [
       "Batch size is larger than the input dataset. Switching to an exact Kmeans method."
      ]
     },
     "metadata": {},
     "output_type": "display_data"
    },
    {
     "data": {
      "text/html": [
       "<pre>Choosing initial cluster centers with Kmeans++.</pre>"
      ],
      "text/plain": [
       "Choosing initial cluster centers with Kmeans++."
      ]
     },
     "metadata": {},
     "output_type": "display_data"
    },
    {
     "data": {
      "text/html": [
       "<pre>+---------------+-----------+</pre>"
      ],
      "text/plain": [
       "+---------------+-----------+"
      ]
     },
     "metadata": {},
     "output_type": "display_data"
    },
    {
     "data": {
      "text/html": [
       "<pre>| Center number | Row index |</pre>"
      ],
      "text/plain": [
       "| Center number | Row index |"
      ]
     },
     "metadata": {},
     "output_type": "display_data"
    },
    {
     "data": {
      "text/html": [
       "<pre>+---------------+-----------+</pre>"
      ],
      "text/plain": [
       "+---------------+-----------+"
      ]
     },
     "metadata": {},
     "output_type": "display_data"
    },
    {
     "data": {
      "text/html": [
       "<pre>| 0             | 12        |</pre>"
      ],
      "text/plain": [
       "| 0             | 12        |"
      ]
     },
     "metadata": {},
     "output_type": "display_data"
    },
    {
     "data": {
      "text/html": [
       "<pre>| 1             | 2         |</pre>"
      ],
      "text/plain": [
       "| 1             | 2         |"
      ]
     },
     "metadata": {},
     "output_type": "display_data"
    },
    {
     "data": {
      "text/html": [
       "<pre>| 2             | 5         |</pre>"
      ],
      "text/plain": [
       "| 2             | 5         |"
      ]
     },
     "metadata": {},
     "output_type": "display_data"
    },
    {
     "data": {
      "text/html": [
       "<pre>+---------------+-----------+</pre>"
      ],
      "text/plain": [
       "+---------------+-----------+"
      ]
     },
     "metadata": {},
     "output_type": "display_data"
    },
    {
     "data": {
      "text/html": [
       "<pre>Starting kmeans model training.</pre>"
      ],
      "text/plain": [
       "Starting kmeans model training."
      ]
     },
     "metadata": {},
     "output_type": "display_data"
    },
    {
     "data": {
      "text/html": [
       "<pre>Assigning points to initial cluster centers.</pre>"
      ],
      "text/plain": [
       "Assigning points to initial cluster centers."
      ]
     },
     "metadata": {},
     "output_type": "display_data"
    },
    {
     "data": {
      "text/html": [
       "<pre>+-----------+-------------------------------+</pre>"
      ],
      "text/plain": [
       "+-----------+-------------------------------+"
      ]
     },
     "metadata": {},
     "output_type": "display_data"
    },
    {
     "data": {
      "text/html": [
       "<pre>| Iteration | Number of changed assignments |</pre>"
      ],
      "text/plain": [
       "| Iteration | Number of changed assignments |"
      ]
     },
     "metadata": {},
     "output_type": "display_data"
    },
    {
     "data": {
      "text/html": [
       "<pre>+-----------+-------------------------------+</pre>"
      ],
      "text/plain": [
       "+-----------+-------------------------------+"
      ]
     },
     "metadata": {},
     "output_type": "display_data"
    },
    {
     "data": {
      "text/html": [
       "<pre>| 1         | 0                             |</pre>"
      ],
      "text/plain": [
       "| 1         | 0                             |"
      ]
     },
     "metadata": {},
     "output_type": "display_data"
    },
    {
     "data": {
      "text/html": [
       "<pre>+-----------+-------------------------------+</pre>"
      ],
      "text/plain": [
       "+-----------+-------------------------------+"
      ]
     },
     "metadata": {},
     "output_type": "display_data"
    },
    {
     "data": {
      "text/html": [
       "<pre>Batch size is larger than the input dataset. Switching to an exact Kmeans method.</pre>"
      ],
      "text/plain": [
       "Batch size is larger than the input dataset. Switching to an exact Kmeans method."
      ]
     },
     "metadata": {},
     "output_type": "display_data"
    },
    {
     "data": {
      "text/html": [
       "<pre>Choosing initial cluster centers with Kmeans++.</pre>"
      ],
      "text/plain": [
       "Choosing initial cluster centers with Kmeans++."
      ]
     },
     "metadata": {},
     "output_type": "display_data"
    },
    {
     "data": {
      "text/html": [
       "<pre>+---------------+-----------+</pre>"
      ],
      "text/plain": [
       "+---------------+-----------+"
      ]
     },
     "metadata": {},
     "output_type": "display_data"
    },
    {
     "data": {
      "text/html": [
       "<pre>| Center number | Row index |</pre>"
      ],
      "text/plain": [
       "| Center number | Row index |"
      ]
     },
     "metadata": {},
     "output_type": "display_data"
    },
    {
     "data": {
      "text/html": [
       "<pre>+---------------+-----------+</pre>"
      ],
      "text/plain": [
       "+---------------+-----------+"
      ]
     },
     "metadata": {},
     "output_type": "display_data"
    },
    {
     "data": {
      "text/html": [
       "<pre>| 0             | 2         |</pre>"
      ],
      "text/plain": [
       "| 0             | 2         |"
      ]
     },
     "metadata": {},
     "output_type": "display_data"
    },
    {
     "data": {
      "text/html": [
       "<pre>| 1             | 13        |</pre>"
      ],
      "text/plain": [
       "| 1             | 13        |"
      ]
     },
     "metadata": {},
     "output_type": "display_data"
    },
    {
     "data": {
      "text/html": [
       "<pre>| 2             | 5         |</pre>"
      ],
      "text/plain": [
       "| 2             | 5         |"
      ]
     },
     "metadata": {},
     "output_type": "display_data"
    },
    {
     "data": {
      "text/html": [
       "<pre>| 3             | 8         |</pre>"
      ],
      "text/plain": [
       "| 3             | 8         |"
      ]
     },
     "metadata": {},
     "output_type": "display_data"
    },
    {
     "data": {
      "text/html": [
       "<pre>+---------------+-----------+</pre>"
      ],
      "text/plain": [
       "+---------------+-----------+"
      ]
     },
     "metadata": {},
     "output_type": "display_data"
    },
    {
     "data": {
      "text/html": [
       "<pre>Starting kmeans model training.</pre>"
      ],
      "text/plain": [
       "Starting kmeans model training."
      ]
     },
     "metadata": {},
     "output_type": "display_data"
    },
    {
     "data": {
      "text/html": [
       "<pre>Assigning points to initial cluster centers.</pre>"
      ],
      "text/plain": [
       "Assigning points to initial cluster centers."
      ]
     },
     "metadata": {},
     "output_type": "display_data"
    },
    {
     "data": {
      "text/html": [
       "<pre>+-----------+-------------------------------+</pre>"
      ],
      "text/plain": [
       "+-----------+-------------------------------+"
      ]
     },
     "metadata": {},
     "output_type": "display_data"
    },
    {
     "data": {
      "text/html": [
       "<pre>| Iteration | Number of changed assignments |</pre>"
      ],
      "text/plain": [
       "| Iteration | Number of changed assignments |"
      ]
     },
     "metadata": {},
     "output_type": "display_data"
    },
    {
     "data": {
      "text/html": [
       "<pre>+-----------+-------------------------------+</pre>"
      ],
      "text/plain": [
       "+-----------+-------------------------------+"
      ]
     },
     "metadata": {},
     "output_type": "display_data"
    },
    {
     "data": {
      "text/html": [
       "<pre>| 1         | 0                             |</pre>"
      ],
      "text/plain": [
       "| 1         | 0                             |"
      ]
     },
     "metadata": {},
     "output_type": "display_data"
    },
    {
     "data": {
      "text/html": [
       "<pre>+-----------+-------------------------------+</pre>"
      ],
      "text/plain": [
       "+-----------+-------------------------------+"
      ]
     },
     "metadata": {},
     "output_type": "display_data"
    },
    {
     "data": {
      "text/html": [
       "<pre>Batch size is larger than the input dataset. Switching to an exact Kmeans method.</pre>"
      ],
      "text/plain": [
       "Batch size is larger than the input dataset. Switching to an exact Kmeans method."
      ]
     },
     "metadata": {},
     "output_type": "display_data"
    },
    {
     "data": {
      "text/html": [
       "<pre>Choosing initial cluster centers with Kmeans++.</pre>"
      ],
      "text/plain": [
       "Choosing initial cluster centers with Kmeans++."
      ]
     },
     "metadata": {},
     "output_type": "display_data"
    },
    {
     "data": {
      "text/html": [
       "<pre>+---------------+-----------+</pre>"
      ],
      "text/plain": [
       "+---------------+-----------+"
      ]
     },
     "metadata": {},
     "output_type": "display_data"
    },
    {
     "data": {
      "text/html": [
       "<pre>| Center number | Row index |</pre>"
      ],
      "text/plain": [
       "| Center number | Row index |"
      ]
     },
     "metadata": {},
     "output_type": "display_data"
    },
    {
     "data": {
      "text/html": [
       "<pre>+---------------+-----------+</pre>"
      ],
      "text/plain": [
       "+---------------+-----------+"
      ]
     },
     "metadata": {},
     "output_type": "display_data"
    },
    {
     "data": {
      "text/html": [
       "<pre>| 0             | 12        |</pre>"
      ],
      "text/plain": [
       "| 0             | 12        |"
      ]
     },
     "metadata": {},
     "output_type": "display_data"
    },
    {
     "data": {
      "text/html": [
       "<pre>| 1             | 3         |</pre>"
      ],
      "text/plain": [
       "| 1             | 3         |"
      ]
     },
     "metadata": {},
     "output_type": "display_data"
    },
    {
     "data": {
      "text/html": [
       "<pre>| 2             | 4         |</pre>"
      ],
      "text/plain": [
       "| 2             | 4         |"
      ]
     },
     "metadata": {},
     "output_type": "display_data"
    },
    {
     "data": {
      "text/html": [
       "<pre>| 3             | 10        |</pre>"
      ],
      "text/plain": [
       "| 3             | 10        |"
      ]
     },
     "metadata": {},
     "output_type": "display_data"
    },
    {
     "data": {
      "text/html": [
       "<pre>| 4             | 0         |</pre>"
      ],
      "text/plain": [
       "| 4             | 0         |"
      ]
     },
     "metadata": {},
     "output_type": "display_data"
    },
    {
     "data": {
      "text/html": [
       "<pre>+---------------+-----------+</pre>"
      ],
      "text/plain": [
       "+---------------+-----------+"
      ]
     },
     "metadata": {},
     "output_type": "display_data"
    },
    {
     "data": {
      "text/html": [
       "<pre>Starting kmeans model training.</pre>"
      ],
      "text/plain": [
       "Starting kmeans model training."
      ]
     },
     "metadata": {},
     "output_type": "display_data"
    },
    {
     "data": {
      "text/html": [
       "<pre>Assigning points to initial cluster centers.</pre>"
      ],
      "text/plain": [
       "Assigning points to initial cluster centers."
      ]
     },
     "metadata": {},
     "output_type": "display_data"
    },
    {
     "data": {
      "text/html": [
       "<pre>+-----------+-------------------------------+</pre>"
      ],
      "text/plain": [
       "+-----------+-------------------------------+"
      ]
     },
     "metadata": {},
     "output_type": "display_data"
    },
    {
     "data": {
      "text/html": [
       "<pre>| Iteration | Number of changed assignments |</pre>"
      ],
      "text/plain": [
       "| Iteration | Number of changed assignments |"
      ]
     },
     "metadata": {},
     "output_type": "display_data"
    },
    {
     "data": {
      "text/html": [
       "<pre>+-----------+-------------------------------+</pre>"
      ],
      "text/plain": [
       "+-----------+-------------------------------+"
      ]
     },
     "metadata": {},
     "output_type": "display_data"
    },
    {
     "data": {
      "text/html": [
       "<pre>| 1         | 0                             |</pre>"
      ],
      "text/plain": [
       "| 1         | 0                             |"
      ]
     },
     "metadata": {},
     "output_type": "display_data"
    },
    {
     "data": {
      "text/html": [
       "<pre>+-----------+-------------------------------+</pre>"
      ],
      "text/plain": [
       "+-----------+-------------------------------+"
      ]
     },
     "metadata": {},
     "output_type": "display_data"
    },
    {
     "data": {
      "text/html": [
       "<pre>Batch size is larger than the input dataset. Switching to an exact Kmeans method.</pre>"
      ],
      "text/plain": [
       "Batch size is larger than the input dataset. Switching to an exact Kmeans method."
      ]
     },
     "metadata": {},
     "output_type": "display_data"
    },
    {
     "data": {
      "text/html": [
       "<pre>Choosing initial cluster centers with Kmeans++.</pre>"
      ],
      "text/plain": [
       "Choosing initial cluster centers with Kmeans++."
      ]
     },
     "metadata": {},
     "output_type": "display_data"
    },
    {
     "data": {
      "text/html": [
       "<pre>+---------------+-----------+</pre>"
      ],
      "text/plain": [
       "+---------------+-----------+"
      ]
     },
     "metadata": {},
     "output_type": "display_data"
    },
    {
     "data": {
      "text/html": [
       "<pre>| Center number | Row index |</pre>"
      ],
      "text/plain": [
       "| Center number | Row index |"
      ]
     },
     "metadata": {},
     "output_type": "display_data"
    },
    {
     "data": {
      "text/html": [
       "<pre>+---------------+-----------+</pre>"
      ],
      "text/plain": [
       "+---------------+-----------+"
      ]
     },
     "metadata": {},
     "output_type": "display_data"
    },
    {
     "data": {
      "text/html": [
       "<pre>| 0             | 10        |</pre>"
      ],
      "text/plain": [
       "| 0             | 10        |"
      ]
     },
     "metadata": {},
     "output_type": "display_data"
    },
    {
     "data": {
      "text/html": [
       "<pre>| 1             | 0         |</pre>"
      ],
      "text/plain": [
       "| 1             | 0         |"
      ]
     },
     "metadata": {},
     "output_type": "display_data"
    },
    {
     "data": {
      "text/html": [
       "<pre>| 2             | 11        |</pre>"
      ],
      "text/plain": [
       "| 2             | 11        |"
      ]
     },
     "metadata": {},
     "output_type": "display_data"
    },
    {
     "data": {
      "text/html": [
       "<pre>| 3             | 8         |</pre>"
      ],
      "text/plain": [
       "| 3             | 8         |"
      ]
     },
     "metadata": {},
     "output_type": "display_data"
    },
    {
     "data": {
      "text/html": [
       "<pre>| 4             | 13        |</pre>"
      ],
      "text/plain": [
       "| 4             | 13        |"
      ]
     },
     "metadata": {},
     "output_type": "display_data"
    },
    {
     "data": {
      "text/html": [
       "<pre>| 5             | 3         |</pre>"
      ],
      "text/plain": [
       "| 5             | 3         |"
      ]
     },
     "metadata": {},
     "output_type": "display_data"
    },
    {
     "data": {
      "text/html": [
       "<pre>+---------------+-----------+</pre>"
      ],
      "text/plain": [
       "+---------------+-----------+"
      ]
     },
     "metadata": {},
     "output_type": "display_data"
    },
    {
     "data": {
      "text/html": [
       "<pre>Starting kmeans model training.</pre>"
      ],
      "text/plain": [
       "Starting kmeans model training."
      ]
     },
     "metadata": {},
     "output_type": "display_data"
    },
    {
     "data": {
      "text/html": [
       "<pre>Assigning points to initial cluster centers.</pre>"
      ],
      "text/plain": [
       "Assigning points to initial cluster centers."
      ]
     },
     "metadata": {},
     "output_type": "display_data"
    },
    {
     "data": {
      "text/html": [
       "<pre>+-----------+-------------------------------+</pre>"
      ],
      "text/plain": [
       "+-----------+-------------------------------+"
      ]
     },
     "metadata": {},
     "output_type": "display_data"
    },
    {
     "data": {
      "text/html": [
       "<pre>| Iteration | Number of changed assignments |</pre>"
      ],
      "text/plain": [
       "| Iteration | Number of changed assignments |"
      ]
     },
     "metadata": {},
     "output_type": "display_data"
    },
    {
     "data": {
      "text/html": [
       "<pre>+-----------+-------------------------------+</pre>"
      ],
      "text/plain": [
       "+-----------+-------------------------------+"
      ]
     },
     "metadata": {},
     "output_type": "display_data"
    },
    {
     "data": {
      "text/html": [
       "<pre>| 1         | 0                             |</pre>"
      ],
      "text/plain": [
       "| 1         | 0                             |"
      ]
     },
     "metadata": {},
     "output_type": "display_data"
    },
    {
     "data": {
      "text/html": [
       "<pre>+-----------+-------------------------------+</pre>"
      ],
      "text/plain": [
       "+-----------+-------------------------------+"
      ]
     },
     "metadata": {},
     "output_type": "display_data"
    },
    {
     "data": {
      "text/html": [
       "<pre>Batch size is larger than the input dataset. Switching to an exact Kmeans method.</pre>"
      ],
      "text/plain": [
       "Batch size is larger than the input dataset. Switching to an exact Kmeans method."
      ]
     },
     "metadata": {},
     "output_type": "display_data"
    },
    {
     "data": {
      "text/html": [
       "<pre>Choosing initial cluster centers with Kmeans++.</pre>"
      ],
      "text/plain": [
       "Choosing initial cluster centers with Kmeans++."
      ]
     },
     "metadata": {},
     "output_type": "display_data"
    },
    {
     "data": {
      "text/html": [
       "<pre>+---------------+-----------+</pre>"
      ],
      "text/plain": [
       "+---------------+-----------+"
      ]
     },
     "metadata": {},
     "output_type": "display_data"
    },
    {
     "data": {
      "text/html": [
       "<pre>| Center number | Row index |</pre>"
      ],
      "text/plain": [
       "| Center number | Row index |"
      ]
     },
     "metadata": {},
     "output_type": "display_data"
    },
    {
     "data": {
      "text/html": [
       "<pre>+---------------+-----------+</pre>"
      ],
      "text/plain": [
       "+---------------+-----------+"
      ]
     },
     "metadata": {},
     "output_type": "display_data"
    },
    {
     "data": {
      "text/html": [
       "<pre>| 0             | 0         |</pre>"
      ],
      "text/plain": [
       "| 0             | 0         |"
      ]
     },
     "metadata": {},
     "output_type": "display_data"
    },
    {
     "data": {
      "text/html": [
       "<pre>| 1             | 1         |</pre>"
      ],
      "text/plain": [
       "| 1             | 1         |"
      ]
     },
     "metadata": {},
     "output_type": "display_data"
    },
    {
     "data": {
      "text/html": [
       "<pre>| 2             | 8         |</pre>"
      ],
      "text/plain": [
       "| 2             | 8         |"
      ]
     },
     "metadata": {},
     "output_type": "display_data"
    },
    {
     "data": {
      "text/html": [
       "<pre>| 3             | 13        |</pre>"
      ],
      "text/plain": [
       "| 3             | 13        |"
      ]
     },
     "metadata": {},
     "output_type": "display_data"
    },
    {
     "data": {
      "text/html": [
       "<pre>| 4             | 12        |</pre>"
      ],
      "text/plain": [
       "| 4             | 12        |"
      ]
     },
     "metadata": {},
     "output_type": "display_data"
    },
    {
     "data": {
      "text/html": [
       "<pre>| 5             | 6         |</pre>"
      ],
      "text/plain": [
       "| 5             | 6         |"
      ]
     },
     "metadata": {},
     "output_type": "display_data"
    },
    {
     "data": {
      "text/html": [
       "<pre>| 6             | 3         |</pre>"
      ],
      "text/plain": [
       "| 6             | 3         |"
      ]
     },
     "metadata": {},
     "output_type": "display_data"
    },
    {
     "data": {
      "text/html": [
       "<pre>+---------------+-----------+</pre>"
      ],
      "text/plain": [
       "+---------------+-----------+"
      ]
     },
     "metadata": {},
     "output_type": "display_data"
    },
    {
     "data": {
      "text/html": [
       "<pre>Starting kmeans model training.</pre>"
      ],
      "text/plain": [
       "Starting kmeans model training."
      ]
     },
     "metadata": {},
     "output_type": "display_data"
    },
    {
     "data": {
      "text/html": [
       "<pre>Assigning points to initial cluster centers.</pre>"
      ],
      "text/plain": [
       "Assigning points to initial cluster centers."
      ]
     },
     "metadata": {},
     "output_type": "display_data"
    },
    {
     "data": {
      "text/html": [
       "<pre>+-----------+-------------------------------+</pre>"
      ],
      "text/plain": [
       "+-----------+-------------------------------+"
      ]
     },
     "metadata": {},
     "output_type": "display_data"
    },
    {
     "data": {
      "text/html": [
       "<pre>| Iteration | Number of changed assignments |</pre>"
      ],
      "text/plain": [
       "| Iteration | Number of changed assignments |"
      ]
     },
     "metadata": {},
     "output_type": "display_data"
    },
    {
     "data": {
      "text/html": [
       "<pre>+-----------+-------------------------------+</pre>"
      ],
      "text/plain": [
       "+-----------+-------------------------------+"
      ]
     },
     "metadata": {},
     "output_type": "display_data"
    },
    {
     "data": {
      "text/html": [
       "<pre>| 1         | 0                             |</pre>"
      ],
      "text/plain": [
       "| 1         | 0                             |"
      ]
     },
     "metadata": {},
     "output_type": "display_data"
    },
    {
     "data": {
      "text/html": [
       "<pre>+-----------+-------------------------------+</pre>"
      ],
      "text/plain": [
       "+-----------+-------------------------------+"
      ]
     },
     "metadata": {},
     "output_type": "display_data"
    },
    {
     "data": {
      "text/html": [
       "<pre>Batch size is larger than the input dataset. Switching to an exact Kmeans method.</pre>"
      ],
      "text/plain": [
       "Batch size is larger than the input dataset. Switching to an exact Kmeans method."
      ]
     },
     "metadata": {},
     "output_type": "display_data"
    },
    {
     "data": {
      "text/html": [
       "<pre>Choosing initial cluster centers with Kmeans++.</pre>"
      ],
      "text/plain": [
       "Choosing initial cluster centers with Kmeans++."
      ]
     },
     "metadata": {},
     "output_type": "display_data"
    },
    {
     "data": {
      "text/html": [
       "<pre>+---------------+-----------+</pre>"
      ],
      "text/plain": [
       "+---------------+-----------+"
      ]
     },
     "metadata": {},
     "output_type": "display_data"
    },
    {
     "data": {
      "text/html": [
       "<pre>| Center number | Row index |</pre>"
      ],
      "text/plain": [
       "| Center number | Row index |"
      ]
     },
     "metadata": {},
     "output_type": "display_data"
    },
    {
     "data": {
      "text/html": [
       "<pre>+---------------+-----------+</pre>"
      ],
      "text/plain": [
       "+---------------+-----------+"
      ]
     },
     "metadata": {},
     "output_type": "display_data"
    },
    {
     "data": {
      "text/html": [
       "<pre>| 0             | 0         |</pre>"
      ],
      "text/plain": [
       "| 0             | 0         |"
      ]
     },
     "metadata": {},
     "output_type": "display_data"
    },
    {
     "data": {
      "text/html": [
       "<pre>| 1             | 4         |</pre>"
      ],
      "text/plain": [
       "| 1             | 4         |"
      ]
     },
     "metadata": {},
     "output_type": "display_data"
    },
    {
     "data": {
      "text/html": [
       "<pre>| 2             | 7         |</pre>"
      ],
      "text/plain": [
       "| 2             | 7         |"
      ]
     },
     "metadata": {},
     "output_type": "display_data"
    },
    {
     "data": {
      "text/html": [
       "<pre>| 3             | 11        |</pre>"
      ],
      "text/plain": [
       "| 3             | 11        |"
      ]
     },
     "metadata": {},
     "output_type": "display_data"
    },
    {
     "data": {
      "text/html": [
       "<pre>| 4             | 13        |</pre>"
      ],
      "text/plain": [
       "| 4             | 13        |"
      ]
     },
     "metadata": {},
     "output_type": "display_data"
    },
    {
     "data": {
      "text/html": [
       "<pre>| 5             | 5         |</pre>"
      ],
      "text/plain": [
       "| 5             | 5         |"
      ]
     },
     "metadata": {},
     "output_type": "display_data"
    },
    {
     "data": {
      "text/html": [
       "<pre>| 7             | 2         |</pre>"
      ],
      "text/plain": [
       "| 7             | 2         |"
      ]
     },
     "metadata": {},
     "output_type": "display_data"
    },
    {
     "data": {
      "text/html": [
       "<pre>+---------------+-----------+</pre>"
      ],
      "text/plain": [
       "+---------------+-----------+"
      ]
     },
     "metadata": {},
     "output_type": "display_data"
    },
    {
     "data": {
      "text/html": [
       "<pre>Starting kmeans model training.</pre>"
      ],
      "text/plain": [
       "Starting kmeans model training."
      ]
     },
     "metadata": {},
     "output_type": "display_data"
    },
    {
     "data": {
      "text/html": [
       "<pre>Assigning points to initial cluster centers.</pre>"
      ],
      "text/plain": [
       "Assigning points to initial cluster centers."
      ]
     },
     "metadata": {},
     "output_type": "display_data"
    },
    {
     "data": {
      "text/html": [
       "<pre>+-----------+-------------------------------+</pre>"
      ],
      "text/plain": [
       "+-----------+-------------------------------+"
      ]
     },
     "metadata": {},
     "output_type": "display_data"
    },
    {
     "data": {
      "text/html": [
       "<pre>| Iteration | Number of changed assignments |</pre>"
      ],
      "text/plain": [
       "| Iteration | Number of changed assignments |"
      ]
     },
     "metadata": {},
     "output_type": "display_data"
    },
    {
     "data": {
      "text/html": [
       "<pre>+-----------+-------------------------------+</pre>"
      ],
      "text/plain": [
       "+-----------+-------------------------------+"
      ]
     },
     "metadata": {},
     "output_type": "display_data"
    },
    {
     "data": {
      "text/html": [
       "<pre>| 1         | 0                             |</pre>"
      ],
      "text/plain": [
       "| 1         | 0                             |"
      ]
     },
     "metadata": {},
     "output_type": "display_data"
    },
    {
     "data": {
      "text/html": [
       "<pre>+-----------+-------------------------------+</pre>"
      ],
      "text/plain": [
       "+-----------+-------------------------------+"
      ]
     },
     "metadata": {},
     "output_type": "display_data"
    },
    {
     "data": {
      "text/html": [
       "<pre>Batch size is larger than the input dataset. Switching to an exact Kmeans method.</pre>"
      ],
      "text/plain": [
       "Batch size is larger than the input dataset. Switching to an exact Kmeans method."
      ]
     },
     "metadata": {},
     "output_type": "display_data"
    },
    {
     "data": {
      "text/html": [
       "<pre>Choosing initial cluster centers with Kmeans++.</pre>"
      ],
      "text/plain": [
       "Choosing initial cluster centers with Kmeans++."
      ]
     },
     "metadata": {},
     "output_type": "display_data"
    },
    {
     "data": {
      "text/html": [
       "<pre>+---------------+-----------+</pre>"
      ],
      "text/plain": [
       "+---------------+-----------+"
      ]
     },
     "metadata": {},
     "output_type": "display_data"
    },
    {
     "data": {
      "text/html": [
       "<pre>| Center number | Row index |</pre>"
      ],
      "text/plain": [
       "| Center number | Row index |"
      ]
     },
     "metadata": {},
     "output_type": "display_data"
    },
    {
     "data": {
      "text/html": [
       "<pre>+---------------+-----------+</pre>"
      ],
      "text/plain": [
       "+---------------+-----------+"
      ]
     },
     "metadata": {},
     "output_type": "display_data"
    },
    {
     "data": {
      "text/html": [
       "<pre>| 0             | 4         |</pre>"
      ],
      "text/plain": [
       "| 0             | 4         |"
      ]
     },
     "metadata": {},
     "output_type": "display_data"
    },
    {
     "data": {
      "text/html": [
       "<pre>| 1             | 10        |</pre>"
      ],
      "text/plain": [
       "| 1             | 10        |"
      ]
     },
     "metadata": {},
     "output_type": "display_data"
    },
    {
     "data": {
      "text/html": [
       "<pre>| 2             | 11        |</pre>"
      ],
      "text/plain": [
       "| 2             | 11        |"
      ]
     },
     "metadata": {},
     "output_type": "display_data"
    },
    {
     "data": {
      "text/html": [
       "<pre>| 3             | 0         |</pre>"
      ],
      "text/plain": [
       "| 3             | 0         |"
      ]
     },
     "metadata": {},
     "output_type": "display_data"
    },
    {
     "data": {
      "text/html": [
       "<pre>| 4             | 7         |</pre>"
      ],
      "text/plain": [
       "| 4             | 7         |"
      ]
     },
     "metadata": {},
     "output_type": "display_data"
    },
    {
     "data": {
      "text/html": [
       "<pre>| 5             | 13        |</pre>"
      ],
      "text/plain": [
       "| 5             | 13        |"
      ]
     },
     "metadata": {},
     "output_type": "display_data"
    },
    {
     "data": {
      "text/html": [
       "<pre>| 8             | 6         |</pre>"
      ],
      "text/plain": [
       "| 8             | 6         |"
      ]
     },
     "metadata": {},
     "output_type": "display_data"
    },
    {
     "data": {
      "text/html": [
       "<pre>+---------------+-----------+</pre>"
      ],
      "text/plain": [
       "+---------------+-----------+"
      ]
     },
     "metadata": {},
     "output_type": "display_data"
    },
    {
     "data": {
      "text/html": [
       "<pre>Starting kmeans model training.</pre>"
      ],
      "text/plain": [
       "Starting kmeans model training."
      ]
     },
     "metadata": {},
     "output_type": "display_data"
    },
    {
     "data": {
      "text/html": [
       "<pre>Assigning points to initial cluster centers.</pre>"
      ],
      "text/plain": [
       "Assigning points to initial cluster centers."
      ]
     },
     "metadata": {},
     "output_type": "display_data"
    },
    {
     "data": {
      "text/html": [
       "<pre>+-----------+-------------------------------+</pre>"
      ],
      "text/plain": [
       "+-----------+-------------------------------+"
      ]
     },
     "metadata": {},
     "output_type": "display_data"
    },
    {
     "data": {
      "text/html": [
       "<pre>| Iteration | Number of changed assignments |</pre>"
      ],
      "text/plain": [
       "| Iteration | Number of changed assignments |"
      ]
     },
     "metadata": {},
     "output_type": "display_data"
    },
    {
     "data": {
      "text/html": [
       "<pre>+-----------+-------------------------------+</pre>"
      ],
      "text/plain": [
       "+-----------+-------------------------------+"
      ]
     },
     "metadata": {},
     "output_type": "display_data"
    },
    {
     "data": {
      "text/html": [
       "<pre>| 1         | 0                             |</pre>"
      ],
      "text/plain": [
       "| 1         | 0                             |"
      ]
     },
     "metadata": {},
     "output_type": "display_data"
    },
    {
     "data": {
      "text/html": [
       "<pre>+-----------+-------------------------------+</pre>"
      ],
      "text/plain": [
       "+-----------+-------------------------------+"
      ]
     },
     "metadata": {},
     "output_type": "display_data"
    },
    {
     "data": {
      "text/html": [
       "<pre>Batch size is larger than the input dataset. Switching to an exact Kmeans method.</pre>"
      ],
      "text/plain": [
       "Batch size is larger than the input dataset. Switching to an exact Kmeans method."
      ]
     },
     "metadata": {},
     "output_type": "display_data"
    },
    {
     "data": {
      "text/html": [
       "<pre>Choosing initial cluster centers with Kmeans++.</pre>"
      ],
      "text/plain": [
       "Choosing initial cluster centers with Kmeans++."
      ]
     },
     "metadata": {},
     "output_type": "display_data"
    },
    {
     "data": {
      "text/html": [
       "<pre>+---------------+-----------+</pre>"
      ],
      "text/plain": [
       "+---------------+-----------+"
      ]
     },
     "metadata": {},
     "output_type": "display_data"
    },
    {
     "data": {
      "text/html": [
       "<pre>| Center number | Row index |</pre>"
      ],
      "text/plain": [
       "| Center number | Row index |"
      ]
     },
     "metadata": {},
     "output_type": "display_data"
    },
    {
     "data": {
      "text/html": [
       "<pre>+---------------+-----------+</pre>"
      ],
      "text/plain": [
       "+---------------+-----------+"
      ]
     },
     "metadata": {},
     "output_type": "display_data"
    },
    {
     "data": {
      "text/html": [
       "<pre>| 0             | 0         |</pre>"
      ],
      "text/plain": [
       "| 0             | 0         |"
      ]
     },
     "metadata": {},
     "output_type": "display_data"
    },
    {
     "data": {
      "text/html": [
       "<pre>| 1             | 12        |</pre>"
      ],
      "text/plain": [
       "| 1             | 12        |"
      ]
     },
     "metadata": {},
     "output_type": "display_data"
    },
    {
     "data": {
      "text/html": [
       "<pre>| 2             | 2         |</pre>"
      ],
      "text/plain": [
       "| 2             | 2         |"
      ]
     },
     "metadata": {},
     "output_type": "display_data"
    },
    {
     "data": {
      "text/html": [
       "<pre>| 3             | 7         |</pre>"
      ],
      "text/plain": [
       "| 3             | 7         |"
      ]
     },
     "metadata": {},
     "output_type": "display_data"
    },
    {
     "data": {
      "text/html": [
       "<pre>| 4             | 11        |</pre>"
      ],
      "text/plain": [
       "| 4             | 11        |"
      ]
     },
     "metadata": {},
     "output_type": "display_data"
    },
    {
     "data": {
      "text/html": [
       "<pre>| 5             | 6         |</pre>"
      ],
      "text/plain": [
       "| 5             | 6         |"
      ]
     },
     "metadata": {},
     "output_type": "display_data"
    },
    {
     "data": {
      "text/html": [
       "<pre>| 9             | 8         |</pre>"
      ],
      "text/plain": [
       "| 9             | 8         |"
      ]
     },
     "metadata": {},
     "output_type": "display_data"
    },
    {
     "data": {
      "text/html": [
       "<pre>+---------------+-----------+</pre>"
      ],
      "text/plain": [
       "+---------------+-----------+"
      ]
     },
     "metadata": {},
     "output_type": "display_data"
    },
    {
     "data": {
      "text/html": [
       "<pre>Starting kmeans model training.</pre>"
      ],
      "text/plain": [
       "Starting kmeans model training."
      ]
     },
     "metadata": {},
     "output_type": "display_data"
    },
    {
     "data": {
      "text/html": [
       "<pre>Assigning points to initial cluster centers.</pre>"
      ],
      "text/plain": [
       "Assigning points to initial cluster centers."
      ]
     },
     "metadata": {},
     "output_type": "display_data"
    },
    {
     "data": {
      "text/html": [
       "<pre>+-----------+-------------------------------+</pre>"
      ],
      "text/plain": [
       "+-----------+-------------------------------+"
      ]
     },
     "metadata": {},
     "output_type": "display_data"
    },
    {
     "data": {
      "text/html": [
       "<pre>| Iteration | Number of changed assignments |</pre>"
      ],
      "text/plain": [
       "| Iteration | Number of changed assignments |"
      ]
     },
     "metadata": {},
     "output_type": "display_data"
    },
    {
     "data": {
      "text/html": [
       "<pre>+-----------+-------------------------------+</pre>"
      ],
      "text/plain": [
       "+-----------+-------------------------------+"
      ]
     },
     "metadata": {},
     "output_type": "display_data"
    },
    {
     "data": {
      "text/html": [
       "<pre>| 1         | 0                             |</pre>"
      ],
      "text/plain": [
       "| 1         | 0                             |"
      ]
     },
     "metadata": {},
     "output_type": "display_data"
    },
    {
     "data": {
      "text/html": [
       "<pre>+-----------+-------------------------------+</pre>"
      ],
      "text/plain": [
       "+-----------+-------------------------------+"
      ]
     },
     "metadata": {},
     "output_type": "display_data"
    },
    {
     "data": {
      "text/html": [
       "<pre>Batch size is larger than the input dataset. Switching to an exact Kmeans method.</pre>"
      ],
      "text/plain": [
       "Batch size is larger than the input dataset. Switching to an exact Kmeans method."
      ]
     },
     "metadata": {},
     "output_type": "display_data"
    },
    {
     "data": {
      "text/html": [
       "<pre>Choosing initial cluster centers with Kmeans++.</pre>"
      ],
      "text/plain": [
       "Choosing initial cluster centers with Kmeans++."
      ]
     },
     "metadata": {},
     "output_type": "display_data"
    },
    {
     "data": {
      "text/html": [
       "<pre>+---------------+-----------+</pre>"
      ],
      "text/plain": [
       "+---------------+-----------+"
      ]
     },
     "metadata": {},
     "output_type": "display_data"
    },
    {
     "data": {
      "text/html": [
       "<pre>| Center number | Row index |</pre>"
      ],
      "text/plain": [
       "| Center number | Row index |"
      ]
     },
     "metadata": {},
     "output_type": "display_data"
    },
    {
     "data": {
      "text/html": [
       "<pre>+---------------+-----------+</pre>"
      ],
      "text/plain": [
       "+---------------+-----------+"
      ]
     },
     "metadata": {},
     "output_type": "display_data"
    },
    {
     "data": {
      "text/html": [
       "<pre>| 0             | 13        |</pre>"
      ],
      "text/plain": [
       "| 0             | 13        |"
      ]
     },
     "metadata": {},
     "output_type": "display_data"
    },
    {
     "data": {
      "text/html": [
       "<pre>| 1             | 6         |</pre>"
      ],
      "text/plain": [
       "| 1             | 6         |"
      ]
     },
     "metadata": {},
     "output_type": "display_data"
    },
    {
     "data": {
      "text/html": [
       "<pre>| 2             | 8         |</pre>"
      ],
      "text/plain": [
       "| 2             | 8         |"
      ]
     },
     "metadata": {},
     "output_type": "display_data"
    },
    {
     "data": {
      "text/html": [
       "<pre>| 3             | 3         |</pre>"
      ],
      "text/plain": [
       "| 3             | 3         |"
      ]
     },
     "metadata": {},
     "output_type": "display_data"
    },
    {
     "data": {
      "text/html": [
       "<pre>| 4             | 4         |</pre>"
      ],
      "text/plain": [
       "| 4             | 4         |"
      ]
     },
     "metadata": {},
     "output_type": "display_data"
    },
    {
     "data": {
      "text/html": [
       "<pre>| 5             | 5         |</pre>"
      ],
      "text/plain": [
       "| 5             | 5         |"
      ]
     },
     "metadata": {},
     "output_type": "display_data"
    },
    {
     "data": {
      "text/html": [
       "<pre>| 10            | 12        |</pre>"
      ],
      "text/plain": [
       "| 10            | 12        |"
      ]
     },
     "metadata": {},
     "output_type": "display_data"
    },
    {
     "data": {
      "text/html": [
       "<pre>+---------------+-----------+</pre>"
      ],
      "text/plain": [
       "+---------------+-----------+"
      ]
     },
     "metadata": {},
     "output_type": "display_data"
    },
    {
     "data": {
      "text/html": [
       "<pre>Starting kmeans model training.</pre>"
      ],
      "text/plain": [
       "Starting kmeans model training."
      ]
     },
     "metadata": {},
     "output_type": "display_data"
    },
    {
     "data": {
      "text/html": [
       "<pre>Assigning points to initial cluster centers.</pre>"
      ],
      "text/plain": [
       "Assigning points to initial cluster centers."
      ]
     },
     "metadata": {},
     "output_type": "display_data"
    },
    {
     "data": {
      "text/html": [
       "<pre>+-----------+-------------------------------+</pre>"
      ],
      "text/plain": [
       "+-----------+-------------------------------+"
      ]
     },
     "metadata": {},
     "output_type": "display_data"
    },
    {
     "data": {
      "text/html": [
       "<pre>| Iteration | Number of changed assignments |</pre>"
      ],
      "text/plain": [
       "| Iteration | Number of changed assignments |"
      ]
     },
     "metadata": {},
     "output_type": "display_data"
    },
    {
     "data": {
      "text/html": [
       "<pre>+-----------+-------------------------------+</pre>"
      ],
      "text/plain": [
       "+-----------+-------------------------------+"
      ]
     },
     "metadata": {},
     "output_type": "display_data"
    },
    {
     "data": {
      "text/html": [
       "<pre>| 1         | 0                             |</pre>"
      ],
      "text/plain": [
       "| 1         | 0                             |"
      ]
     },
     "metadata": {},
     "output_type": "display_data"
    },
    {
     "data": {
      "text/html": [
       "<pre>+-----------+-------------------------------+</pre>"
      ],
      "text/plain": [
       "+-----------+-------------------------------+"
      ]
     },
     "metadata": {},
     "output_type": "display_data"
    },
    {
     "data": {
      "text/html": [
       "<pre>Batch size is larger than the input dataset. Switching to an exact Kmeans method.</pre>"
      ],
      "text/plain": [
       "Batch size is larger than the input dataset. Switching to an exact Kmeans method."
      ]
     },
     "metadata": {},
     "output_type": "display_data"
    },
    {
     "data": {
      "text/html": [
       "<pre>Choosing initial cluster centers with Kmeans++.</pre>"
      ],
      "text/plain": [
       "Choosing initial cluster centers with Kmeans++."
      ]
     },
     "metadata": {},
     "output_type": "display_data"
    },
    {
     "data": {
      "text/html": [
       "<pre>+---------------+-----------+</pre>"
      ],
      "text/plain": [
       "+---------------+-----------+"
      ]
     },
     "metadata": {},
     "output_type": "display_data"
    },
    {
     "data": {
      "text/html": [
       "<pre>| Center number | Row index |</pre>"
      ],
      "text/plain": [
       "| Center number | Row index |"
      ]
     },
     "metadata": {},
     "output_type": "display_data"
    },
    {
     "data": {
      "text/html": [
       "<pre>+---------------+-----------+</pre>"
      ],
      "text/plain": [
       "+---------------+-----------+"
      ]
     },
     "metadata": {},
     "output_type": "display_data"
    },
    {
     "data": {
      "text/html": [
       "<pre>| 0             | 11        |</pre>"
      ],
      "text/plain": [
       "| 0             | 11        |"
      ]
     },
     "metadata": {},
     "output_type": "display_data"
    },
    {
     "data": {
      "text/html": [
       "<pre>| 1             | 1         |</pre>"
      ],
      "text/plain": [
       "| 1             | 1         |"
      ]
     },
     "metadata": {},
     "output_type": "display_data"
    },
    {
     "data": {
      "text/html": [
       "<pre>| 2             | 7         |</pre>"
      ],
      "text/plain": [
       "| 2             | 7         |"
      ]
     },
     "metadata": {},
     "output_type": "display_data"
    },
    {
     "data": {
      "text/html": [
       "<pre>| 3             | 0         |</pre>"
      ],
      "text/plain": [
       "| 3             | 0         |"
      ]
     },
     "metadata": {},
     "output_type": "display_data"
    },
    {
     "data": {
      "text/html": [
       "<pre>| 4             | 3         |</pre>"
      ],
      "text/plain": [
       "| 4             | 3         |"
      ]
     },
     "metadata": {},
     "output_type": "display_data"
    },
    {
     "data": {
      "text/html": [
       "<pre>| 5             | 6         |</pre>"
      ],
      "text/plain": [
       "| 5             | 6         |"
      ]
     },
     "metadata": {},
     "output_type": "display_data"
    },
    {
     "data": {
      "text/html": [
       "<pre>| 10            | 4         |</pre>"
      ],
      "text/plain": [
       "| 10            | 4         |"
      ]
     },
     "metadata": {},
     "output_type": "display_data"
    },
    {
     "data": {
      "text/html": [
       "<pre>| 11            | 5         |</pre>"
      ],
      "text/plain": [
       "| 11            | 5         |"
      ]
     },
     "metadata": {},
     "output_type": "display_data"
    },
    {
     "data": {
      "text/html": [
       "<pre>+---------------+-----------+</pre>"
      ],
      "text/plain": [
       "+---------------+-----------+"
      ]
     },
     "metadata": {},
     "output_type": "display_data"
    },
    {
     "data": {
      "text/html": [
       "<pre>Starting kmeans model training.</pre>"
      ],
      "text/plain": [
       "Starting kmeans model training."
      ]
     },
     "metadata": {},
     "output_type": "display_data"
    },
    {
     "data": {
      "text/html": [
       "<pre>Assigning points to initial cluster centers.</pre>"
      ],
      "text/plain": [
       "Assigning points to initial cluster centers."
      ]
     },
     "metadata": {},
     "output_type": "display_data"
    },
    {
     "data": {
      "text/html": [
       "<pre>+-----------+-------------------------------+</pre>"
      ],
      "text/plain": [
       "+-----------+-------------------------------+"
      ]
     },
     "metadata": {},
     "output_type": "display_data"
    },
    {
     "data": {
      "text/html": [
       "<pre>| Iteration | Number of changed assignments |</pre>"
      ],
      "text/plain": [
       "| Iteration | Number of changed assignments |"
      ]
     },
     "metadata": {},
     "output_type": "display_data"
    },
    {
     "data": {
      "text/html": [
       "<pre>+-----------+-------------------------------+</pre>"
      ],
      "text/plain": [
       "+-----------+-------------------------------+"
      ]
     },
     "metadata": {},
     "output_type": "display_data"
    },
    {
     "data": {
      "text/html": [
       "<pre>| 1         | 0                             |</pre>"
      ],
      "text/plain": [
       "| 1         | 0                             |"
      ]
     },
     "metadata": {},
     "output_type": "display_data"
    },
    {
     "data": {
      "text/html": [
       "<pre>+-----------+-------------------------------+</pre>"
      ],
      "text/plain": [
       "+-----------+-------------------------------+"
      ]
     },
     "metadata": {},
     "output_type": "display_data"
    },
    {
     "data": {
      "text/html": [
       "<pre>Batch size is larger than the input dataset. Switching to an exact Kmeans method.</pre>"
      ],
      "text/plain": [
       "Batch size is larger than the input dataset. Switching to an exact Kmeans method."
      ]
     },
     "metadata": {},
     "output_type": "display_data"
    },
    {
     "data": {
      "text/html": [
       "<pre>Choosing initial cluster centers with Kmeans++.</pre>"
      ],
      "text/plain": [
       "Choosing initial cluster centers with Kmeans++."
      ]
     },
     "metadata": {},
     "output_type": "display_data"
    },
    {
     "data": {
      "text/html": [
       "<pre>+---------------+-----------+</pre>"
      ],
      "text/plain": [
       "+---------------+-----------+"
      ]
     },
     "metadata": {},
     "output_type": "display_data"
    },
    {
     "data": {
      "text/html": [
       "<pre>| Center number | Row index |</pre>"
      ],
      "text/plain": [
       "| Center number | Row index |"
      ]
     },
     "metadata": {},
     "output_type": "display_data"
    },
    {
     "data": {
      "text/html": [
       "<pre>+---------------+-----------+</pre>"
      ],
      "text/plain": [
       "+---------------+-----------+"
      ]
     },
     "metadata": {},
     "output_type": "display_data"
    },
    {
     "data": {
      "text/html": [
       "<pre>| 0             | 2         |</pre>"
      ],
      "text/plain": [
       "| 0             | 2         |"
      ]
     },
     "metadata": {},
     "output_type": "display_data"
    },
    {
     "data": {
      "text/html": [
       "<pre>| 1             | 4         |</pre>"
      ],
      "text/plain": [
       "| 1             | 4         |"
      ]
     },
     "metadata": {},
     "output_type": "display_data"
    },
    {
     "data": {
      "text/html": [
       "<pre>| 2             | 6         |</pre>"
      ],
      "text/plain": [
       "| 2             | 6         |"
      ]
     },
     "metadata": {},
     "output_type": "display_data"
    },
    {
     "data": {
      "text/html": [
       "<pre>| 3             | 0         |</pre>"
      ],
      "text/plain": [
       "| 3             | 0         |"
      ]
     },
     "metadata": {},
     "output_type": "display_data"
    },
    {
     "data": {
      "text/html": [
       "<pre>| 4             | 8         |</pre>"
      ],
      "text/plain": [
       "| 4             | 8         |"
      ]
     },
     "metadata": {},
     "output_type": "display_data"
    },
    {
     "data": {
      "text/html": [
       "<pre>| 5             | 13        |</pre>"
      ],
      "text/plain": [
       "| 5             | 13        |"
      ]
     },
     "metadata": {},
     "output_type": "display_data"
    },
    {
     "data": {
      "text/html": [
       "<pre>| 10            | 11        |</pre>"
      ],
      "text/plain": [
       "| 10            | 11        |"
      ]
     },
     "metadata": {},
     "output_type": "display_data"
    },
    {
     "data": {
      "text/html": [
       "<pre>| 12            | 10        |</pre>"
      ],
      "text/plain": [
       "| 12            | 10        |"
      ]
     },
     "metadata": {},
     "output_type": "display_data"
    },
    {
     "data": {
      "text/html": [
       "<pre>+---------------+-----------+</pre>"
      ],
      "text/plain": [
       "+---------------+-----------+"
      ]
     },
     "metadata": {},
     "output_type": "display_data"
    },
    {
     "data": {
      "text/html": [
       "<pre>Starting kmeans model training.</pre>"
      ],
      "text/plain": [
       "Starting kmeans model training."
      ]
     },
     "metadata": {},
     "output_type": "display_data"
    },
    {
     "data": {
      "text/html": [
       "<pre>Assigning points to initial cluster centers.</pre>"
      ],
      "text/plain": [
       "Assigning points to initial cluster centers."
      ]
     },
     "metadata": {},
     "output_type": "display_data"
    },
    {
     "data": {
      "text/html": [
       "<pre>+-----------+-------------------------------+</pre>"
      ],
      "text/plain": [
       "+-----------+-------------------------------+"
      ]
     },
     "metadata": {},
     "output_type": "display_data"
    },
    {
     "data": {
      "text/html": [
       "<pre>| Iteration | Number of changed assignments |</pre>"
      ],
      "text/plain": [
       "| Iteration | Number of changed assignments |"
      ]
     },
     "metadata": {},
     "output_type": "display_data"
    },
    {
     "data": {
      "text/html": [
       "<pre>+-----------+-------------------------------+</pre>"
      ],
      "text/plain": [
       "+-----------+-------------------------------+"
      ]
     },
     "metadata": {},
     "output_type": "display_data"
    },
    {
     "data": {
      "text/html": [
       "<pre>| 1         | 0                             |</pre>"
      ],
      "text/plain": [
       "| 1         | 0                             |"
      ]
     },
     "metadata": {},
     "output_type": "display_data"
    },
    {
     "data": {
      "text/html": [
       "<pre>+-----------+-------------------------------+</pre>"
      ],
      "text/plain": [
       "+-----------+-------------------------------+"
      ]
     },
     "metadata": {},
     "output_type": "display_data"
    }
   ],
   "source": [
    "sses = []\n",
    "for k in range(1, len(summary)):\n",
    "    model = turicreate.kmeans.create(summary, features=['tfidf'], num_clusters=k)\n",
    "    sses.append(sum(model.cluster_info['sum_squared_distance']))"
   ]
  },
  {
   "cell_type": "code",
   "execution_count": 261,
   "metadata": {},
   "outputs": [],
   "source": [
    "from matplotlib import pyplot as plt"
   ]
  },
  {
   "cell_type": "code",
   "execution_count": 262,
   "metadata": {},
   "outputs": [
    {
     "data": {
      "text/plain": [
       "[<matplotlib.lines.Line2D at 0x7f3a8469ea30>]"
      ]
     },
     "execution_count": 262,
     "metadata": {},
     "output_type": "execute_result"
    },
    {
     "data": {
      "image/png": "[encoded data removed]",
      "text/plain": [
       "<Figure size 432x288 with 1 Axes>"
      ]
     },
     "metadata": {
      "needs_background": "light"
     },
     "output_type": "display_data"
    }
   ],
   "source": [
    "fig = plt.figure()\n",
    "ax = fig.add_axes([0, 0, 1, 1])\n",
    "ax.plot(range(len(sses)),sses)"
   ]
  },
  {
   "cell_type": "markdown",
   "metadata": {},
   "source": [
    "### Manually choose k, perform K-Means clustering"
   ]
  },
  {
   "cell_type": "code",
   "execution_count": 263,
   "metadata": {},
   "outputs": [
    {
     "ename": "ValueError",
     "evalue": "The desired number of clusters exceeds the number of data points. Please set 'num_clusters' to be smaller than the number of data points.",
     "output_type": "error",
     "traceback": [
      "\u001b[0;31m---------------------------------------------------------------------------\u001b[0m",
      "\u001b[0;31mValueError\u001b[0m                                Traceback (most recent call last)",
      "\u001b[0;32m<ipython-input-263-7c1e6915f94d>\u001b[0m in \u001b[0;36m<module>\u001b[0;34m\u001b[0m\n\u001b[1;32m      1\u001b[0m \u001b[0mk\u001b[0m \u001b[0;34m=\u001b[0m \u001b[0;36m15\u001b[0m\u001b[0;34m\u001b[0m\u001b[0;34m\u001b[0m\u001b[0m\n\u001b[0;32m----> 2\u001b[0;31m \u001b[0mkmeans_model\u001b[0m \u001b[0;34m=\u001b[0m \u001b[0mturicreate\u001b[0m\u001b[0;34m.\u001b[0m\u001b[0mkmeans\u001b[0m\u001b[0;34m.\u001b[0m\u001b[0mcreate\u001b[0m\u001b[0;34m(\u001b[0m\u001b[0msummary\u001b[0m\u001b[0;34m,\u001b[0m \u001b[0mfeatures\u001b[0m\u001b[0;34m=\u001b[0m\u001b[0;34m[\u001b[0m\u001b[0;34m'tfidf'\u001b[0m\u001b[0;34m]\u001b[0m\u001b[0;34m,\u001b[0m \u001b[0mnum_clusters\u001b[0m\u001b[0;34m=\u001b[0m\u001b[0mk\u001b[0m\u001b[0;34m)\u001b[0m\u001b[0;34m\u001b[0m\u001b[0;34m\u001b[0m\u001b[0m\n\u001b[0m",
      "\u001b[0;32m~/.local/lib/python3.8/site-packages/turicreate/toolkits/clustering/kmeans.py\u001b[0m in \u001b[0;36mcreate\u001b[0;34m(dataset, num_clusters, features, label, initial_centers, max_iterations, batch_size, verbose)\u001b[0m\n\u001b[1;32m    567\u001b[0m \u001b[0;34m\u001b[0m\u001b[0m\n\u001b[1;32m    568\u001b[0m     \u001b[0;31m## Validate and determine the correct number of clusters.\u001b[0m\u001b[0;34m\u001b[0m\u001b[0;34m\u001b[0m\u001b[0;34m\u001b[0m\u001b[0m\n\u001b[0;32m--> 569\u001b[0;31m     opts[\"num_clusters\"] = _validate_num_clusters(\n\u001b[0m\u001b[1;32m    570\u001b[0m         \u001b[0mnum_clusters\u001b[0m\u001b[0;34m,\u001b[0m \u001b[0minitial_centers\u001b[0m\u001b[0;34m,\u001b[0m \u001b[0mdataset\u001b[0m\u001b[0;34m.\u001b[0m\u001b[0mnum_rows\u001b[0m\u001b[0;34m(\u001b[0m\u001b[0;34m)\u001b[0m\u001b[0;34m\u001b[0m\u001b[0;34m\u001b[0m\u001b[0m\n\u001b[1;32m    571\u001b[0m     )\n",
      "\u001b[0;32m~/.local/lib/python3.8/site-packages/turicreate/toolkits/clustering/kmeans.py\u001b[0m in \u001b[0;36m_validate_num_clusters\u001b[0;34m(num_clusters, initial_centers, num_rows)\u001b[0m\n\u001b[1;32m    115\u001b[0m \u001b[0;34m\u001b[0m\u001b[0m\n\u001b[1;32m    116\u001b[0m     \u001b[0;32mif\u001b[0m \u001b[0m_num_clusters\u001b[0m \u001b[0;34m>\u001b[0m \u001b[0mnum_rows\u001b[0m\u001b[0;34m:\u001b[0m\u001b[0;34m\u001b[0m\u001b[0;34m\u001b[0m\u001b[0m\n\u001b[0;32m--> 117\u001b[0;31m         raise ValueError(\n\u001b[0m\u001b[1;32m    118\u001b[0m             \u001b[0;34m\"The desired number of clusters exceeds the number \"\u001b[0m\u001b[0;34m\u001b[0m\u001b[0;34m\u001b[0m\u001b[0m\n\u001b[1;32m    119\u001b[0m             \u001b[0;34m+\u001b[0m \u001b[0;34m\"of data points. Please set 'num_clusters' to be \"\u001b[0m\u001b[0;34m\u001b[0m\u001b[0;34m\u001b[0m\u001b[0m\n",
      "\u001b[0;31mValueError\u001b[0m: The desired number of clusters exceeds the number of data points. Please set 'num_clusters' to be smaller than the number of data points."
     ]
    }
   ],
   "source": [
    "k = 15\n",
    "kmeans_model = turicreate.kmeans.create(summary, features=['tfidf'], num_clusters=k)"
   ]
  },
  {
   "cell_type": "code",
   "execution_count": 56,
   "metadata": {},
   "outputs": [
    {
     "name": "stdout",
     "output_type": "stream",
     "text": [
      "+-------------------------------+------------+------+----------------------+\n",
      "|             tfidf             | cluster_id | size | sum_squared_distance |\n",
      "+-------------------------------+------------+------+----------------------+\n",
      "| {'a': 2.3052365861183235, ... |     0      |  1   |         0.0          |\n",
      "| {'a': 0.11526182930591618,... |     1      |  2   |  769.5118408203125   |\n",
      "| {'a': 0.6698234608721167, ... |     2      |  53  |  146310.2216644287   |\n",
      "| {'a': 0.9220946344473294, ... |     3      |  1   |         0.0          |\n",
      "| {'a': 1.1526182930591617, ... |     4      |  1   |         0.0          |\n",
      "| {'a': 3.4578548791774852, ... |     5      |  1   |         0.0          |\n",
      "| {'a': 1.1526182930591617, ... |     6      |  1   |         0.0          |\n",
      "| {'a': 0.23052365861183235,... |     7      |  1   |         0.0          |\n",
      "| {'access': 4.2195077051761... |     8      |  1   |         0.0          |\n",
      "| {'a': 0.9220946344473294, ... |     9      |  1   |         0.0          |\n",
      "| {'acropora': 0.45830758948... |     10     |  1   |         0.0          |\n",
      "| {'a': 4.610473172236647, '... |     11     |  1   |         0.0          |\n",
      "| {'a': 1.1526182930591617, ... |     12     |  1   |         0.0          |\n",
      "| {'a': 0.23052365861183235,... |     13     |  1   |         0.0          |\n",
      "| {'a': 0.4610473172236647, ... |     14     |  1   |         0.0          |\n",
      "+-------------------------------+------------+------+----------------------+\n",
      "[15 rows x 4 columns]\n",
      "\n"
     ]
    }
   ],
   "source": [
    "kmeans_model.cluster_info.print_rows(num_rows=k)"
   ]
  },
  {
   "cell_type": "markdown",
   "metadata": {},
   "source": [
    "### What are the top 10 words defining a cluster?"
   ]
  },
  {
   "cell_type": "code",
   "execution_count": 57,
   "metadata": {},
   "outputs": [
    {
     "name": "stdout",
     "output_type": "stream",
     "text": [
      "Cluster 0\n",
      "['dmsp', 'indirect', 'hsgcms', 'store', 'aspera', 'concentrations', 'gave', 'dms', 'chromatography', 'lcms']\n",
      "Cluster 1\n",
      "['belitung', 'bangka', 'island', 'islands', 'tin', 'threatened', 'coastal', 'mining', 'mangrove', 'seagrass']\n",
      "Cluster 2\n",
      "['semantic', 'corals', 'gulf', 'bleaching', 'w', 'were', 'space', 'at', 'm', 'growth']\n",
      "Cluster 3\n",
      "['radial', 'corallites', 'coenosteum', 'atlantic', 'spinules', 'sized', 'evenly', 'simple', 'tubular', 'branch']\n",
      "Cluster 4\n",
      "['introgression', 'evolutionary', 'roles', 'chapter', 'duplication', 'i', 'diversification', 'dominance', 'rise', 'genome']\n",
      "Cluster 5\n",
      "['srca', 'interbranch', 'climate', 'reconstructions', 'cores', 'gbr', 'porites', 'skeleton', 'reconstruction', 'slope']\n",
      "Cluster 6\n",
      "['methylation', 'epigenetic', 'dna', 'changes', 'variation', 'modifications', 'seasonal', 'responses', 'consistent', 'these']\n",
      "Cluster 7\n",
      "['setosum', 'diadema', 'gonad', 'vitamin', 'compounds', 'elements', 'mg', 'nutrient', 'content', 'potency']\n",
      "Cluster 8\n",
      "['ne', 'nw', 'survival', 'rate', 'location', 'concrete', 'growth', 'domeshaped', 'turbidity', 'artificial']\n",
      "Cluster 9\n",
      "['traf', 'proteins', 'o', 'evolutionary', 'al', 'et', 'protein', 'repertoire', 'better', 'may']\n",
      "Cluster 10\n",
      "['drupella', 'snail', 'predation', 'feeding', 'lakshadweep', 'isopora', 'station', 'corallivorous', 'followed', 'our']\n",
      "Cluster 11\n",
      "['agaricites', 'mm', 'planula', 'planulae', 'humilis', 'times', 'wk', 'n', 'reproductive', 'production']\n",
      "Cluster 12\n",
      "['slopes', 'distance', 'offshore', 'fl', 'fungiidae', 'gradients', 'shelf', 'ats', 'species', 'regard']\n",
      "Cluster 13\n",
      "['publication', 'article', 'your', 'website', 'version', 'manuscript', 'link', 'available', 'accepted', 'you']\n",
      "Cluster 14\n",
      "['facies', 'belt', 'standard', 'buildup', 'classify', 'detail', 'taxonomy', 'coralline', 'another', 'ujunggenteng']\n"
     ]
    }
   ],
   "source": [
    "info = kmeans_model.cluster_info\n",
    "for k in range(0, len(info)):\n",
    "    cluster = info[info['cluster_id'] == k]\n",
    "    top_words_tfidf = cluster[['tfidf']].stack('tfidf', new_column_name=['word','tfidf']).sort('tfidf', ascending=False)\n",
    "    top_words = top_words_tfidf['word'][0:10]\n",
    "    print(f\"Cluster {k}\")\n",
    "    print(top_words)"
   ]
  }
 ],
 "metadata": {
  "kernelspec": {
   "display_name": "Python 3",
   "language": "python",
   "name": "python3"
  },
  "language_info": {
   "codemirror_mode": {
    "name": "ipython",
    "version": 3
   },
   "file_extension": ".py",
   "mimetype": "text/x-python",
   "name": "python",
   "nbconvert_exporter": "python",
   "pygments_lexer": "ipython3",
   "version": "3.8.5"
  }
 },
 "nbformat": 4,
 "nbformat_minor": 4
}
